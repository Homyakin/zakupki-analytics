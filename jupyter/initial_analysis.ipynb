{
 "cells": [
  {
   "cell_type": "code",
   "execution_count": 2,
   "metadata": {},
   "outputs": [],
   "source": [
    "import pandas as pd\n",
    "import sqlite3"
   ]
  },
  {
   "cell_type": "markdown",
   "metadata": {},
   "source": [
    "## Подключение к БД\n",
    "Данных много, оперативки не хватает. Все операции проводим пока на уровне БД."
   ]
  },
  {
   "cell_type": "code",
   "execution_count": 3,
   "metadata": {
    "scrolled": false
   },
   "outputs": [],
   "source": [
    "conn = sqlite3.connect(\"data.db\")"
   ]
  },
  {
   "cell_type": "markdown",
   "metadata": {},
   "source": [
    "## Договоры"
   ]
  },
  {
   "cell_type": "markdown",
   "metadata": {},
   "source": [
    "### Разбиение договоров по регионам"
   ]
  },
  {
   "cell_type": "code",
   "execution_count": 4,
   "metadata": {},
   "outputs": [
    {
     "data": {
      "text/plain": "          region_name  COUNT(*)\n0  Krasnodarskii_krai    104868\n1  Leningradskaya_obl     33482\n2     Moskovskaya_obl    203147\n3              Moskva    948412\n4     Primorskii_krai     33543\n5     Sankt-Peterburg    209046",
      "text/html": "<div>\n<style scoped>\n    .dataframe tbody tr th:only-of-type {\n        vertical-align: middle;\n    }\n\n    .dataframe tbody tr th {\n        vertical-align: top;\n    }\n\n    .dataframe thead th {\n        text-align: right;\n    }\n</style>\n<table border=\"1\" class=\"dataframe\">\n  <thead>\n    <tr style=\"text-align: right;\">\n      <th></th>\n      <th>region_name</th>\n      <th>COUNT(*)</th>\n    </tr>\n  </thead>\n  <tbody>\n    <tr>\n      <th>0</th>\n      <td>Krasnodarskii_krai</td>\n      <td>104868</td>\n    </tr>\n    <tr>\n      <th>1</th>\n      <td>Leningradskaya_obl</td>\n      <td>33482</td>\n    </tr>\n    <tr>\n      <th>2</th>\n      <td>Moskovskaya_obl</td>\n      <td>203147</td>\n    </tr>\n    <tr>\n      <th>3</th>\n      <td>Moskva</td>\n      <td>948412</td>\n    </tr>\n    <tr>\n      <th>4</th>\n      <td>Primorskii_krai</td>\n      <td>33543</td>\n    </tr>\n    <tr>\n      <th>5</th>\n      <td>Sankt-Peterburg</td>\n      <td>209046</td>\n    </tr>\n  </tbody>\n</table>\n</div>"
     },
     "execution_count": 4,
     "metadata": {},
     "output_type": "execute_result"
    }
   ],
   "source": [
    "contracts_count_by_region = pd.read_sql_query(\n",
    "    \"\"\"SELECT region_name, COUNT(*) FROM contract GROUP BY region_name\"\"\",\n",
    "    conn\n",
    ")\n",
    "\n",
    "contracts_count_by_region"
   ]
  },
  {
   "cell_type": "markdown",
   "metadata": {
    "pycharm": {
     "name": "#%% md\n"
    }
   },
   "source": [
    "### Ковидные договоры"
   ]
  },
  {
   "cell_type": "code",
   "execution_count": 5,
   "metadata": {
    "pycharm": {
     "name": "#%%\n"
    }
   },
   "outputs": [
    {
     "data": {
      "text/plain": "          region_name  COUNT(*)\n0  Krasnodarskii_krai       313\n1  Leningradskaya_obl       133\n2     Moskovskaya_obl       800\n3              Moskva      2375\n4     Primorskii_krai        66\n5     Sankt-Peterburg       796",
      "text/html": "<div>\n<style scoped>\n    .dataframe tbody tr th:only-of-type {\n        vertical-align: middle;\n    }\n\n    .dataframe tbody tr th {\n        vertical-align: top;\n    }\n\n    .dataframe thead th {\n        text-align: right;\n    }\n</style>\n<table border=\"1\" class=\"dataframe\">\n  <thead>\n    <tr style=\"text-align: right;\">\n      <th></th>\n      <th>region_name</th>\n      <th>COUNT(*)</th>\n    </tr>\n  </thead>\n  <tbody>\n    <tr>\n      <th>0</th>\n      <td>Krasnodarskii_krai</td>\n      <td>313</td>\n    </tr>\n    <tr>\n      <th>1</th>\n      <td>Leningradskaya_obl</td>\n      <td>133</td>\n    </tr>\n    <tr>\n      <th>2</th>\n      <td>Moskovskaya_obl</td>\n      <td>800</td>\n    </tr>\n    <tr>\n      <th>3</th>\n      <td>Moskva</td>\n      <td>2375</td>\n    </tr>\n    <tr>\n      <th>4</th>\n      <td>Primorskii_krai</td>\n      <td>66</td>\n    </tr>\n    <tr>\n      <th>5</th>\n      <td>Sankt-Peterburg</td>\n      <td>796</td>\n    </tr>\n  </tbody>\n</table>\n</div>"
     },
     "execution_count": 5,
     "metadata": {},
     "output_type": "execute_result"
    }
   ],
   "source": [
    "covid_contracts_count_by_region = pd.read_sql_query(\n",
    "    \"\"\"SELECT region_name, COUNT(*) FROM contract WHERE emergency = 1 GROUP BY region_name\"\"\",\n",
    "    conn\n",
    ")\n",
    "\n",
    "covid_contracts_count_by_region"
   ]
  },
  {
   "cell_type": "markdown",
   "metadata": {},
   "source": [
    "## Позиции договора\n",
    "Все:\n",
    "- Всего - 4150098\n",
    "- Нет okpd2 - 1977\n",
    "- Нет okpd2 и есть okdp или okpd - 1971\n",
    "- Нет okpd2 и есть okdp - 1966\n",
    "- Нет okpd2 и есть okpd - 22\n",
    "\n",
    "Ковидные:\n",
    "- Всего - 6089\n",
    "- Нет okpd2 - 0\n",
    "\n",
    "Отбросим из выборки все позиции, где отсутствует okdp2, так как:\n",
    "- Данного классификатора нет в 0,05% позиций\n",
    "- Во всех \"Ковидных\" закупках данный классификатор присутствует"
   ]
  },
  {
   "cell_type": "markdown",
   "metadata": {
    "pycharm": {
     "name": "#%% md\n"
    }
   },
   "source": [
    "### Разбиение по ОКПД2"
   ]
  },
  {
   "cell_type": "code",
   "execution_count": 6,
   "metadata": {
    "pycharm": {
     "name": "#%%\n"
    }
   },
   "outputs": [
    {
     "data": {
      "text/plain": "  okpd2_code                                         okpd2_name  count\n0         01     Продукция и услуги сельского хозяйства и охоты    623\n1       01.1                                Культуры однолетние    830\n2      01.11  Культуры зерновые (кроме риса), зернобобовые, ...     90\n3    01.11.1                                            Пшеница     22\n4   01.11.11                                    Пшеница твердая      1",
      "text/html": "<div>\n<style scoped>\n    .dataframe tbody tr th:only-of-type {\n        vertical-align: middle;\n    }\n\n    .dataframe tbody tr th {\n        vertical-align: top;\n    }\n\n    .dataframe thead th {\n        text-align: right;\n    }\n</style>\n<table border=\"1\" class=\"dataframe\">\n  <thead>\n    <tr style=\"text-align: right;\">\n      <th></th>\n      <th>okpd2_code</th>\n      <th>okpd2_name</th>\n      <th>count</th>\n    </tr>\n  </thead>\n  <tbody>\n    <tr>\n      <th>0</th>\n      <td>01</td>\n      <td>Продукция и услуги сельского хозяйства и охоты</td>\n      <td>623</td>\n    </tr>\n    <tr>\n      <th>1</th>\n      <td>01.1</td>\n      <td>Культуры однолетние</td>\n      <td>830</td>\n    </tr>\n    <tr>\n      <th>2</th>\n      <td>01.11</td>\n      <td>Культуры зерновые (кроме риса), зернобобовые, ...</td>\n      <td>90</td>\n    </tr>\n    <tr>\n      <th>3</th>\n      <td>01.11.1</td>\n      <td>Пшеница</td>\n      <td>22</td>\n    </tr>\n    <tr>\n      <th>4</th>\n      <td>01.11.11</td>\n      <td>Пшеница твердая</td>\n      <td>1</td>\n    </tr>\n  </tbody>\n</table>\n</div>"
     },
     "execution_count": 6,
     "metadata": {},
     "output_type": "execute_result"
    }
   ],
   "source": [
    "okpd2_contract_positions = pd.read_sql_query(\n",
    "    \"\"\"SELECT okpd2_code, okpd2_name, COUNT(*) as count FROM contract_position\n",
    "    WHERE okpd2_code is not null\n",
    "    GROUP BY okpd2_code, okpd2_name\"\"\",\n",
    "    conn\n",
    ")\n",
    "\n",
    "okpd2_contract_positions.head()"
   ]
  },
  {
   "cell_type": "code",
   "execution_count": 7,
   "metadata": {
    "pycharm": {
     "name": "#%%\n"
    }
   },
   "outputs": [
    {
     "data": {
      "text/plain": "         okpd2_code                                         okpd2_name  count\n4969   20.59.52.199  Реагенты сложные диагностические или лаборатор...  34297\n9981   32.50.13.190  Инструменты и приспособления, применяемые в ме...  30984\n11065  43.99.90.190  Работы строительные с пециализированные прочие...  30673\n12637  63.99.10.190  Услуги информационные автоматизированные компь...  28715\n6707          25.73                                         Инструмент  27371\n...             ...                                                ...    ...\n10233      33.12.23  Услуги по ремонту и техническому обслуживанию ...      1\n10241      33.12.28  Услуги по ремонту и техническому обслуживанию ...      1\n2122   10.82.23.127  Карамель с масляно-сахарными (прохладительными...      1\n2119   10.82.23.123          Карамель с ликерными и медовыми начинками      1\n14160  Подраздел OA  ПРОЧИЕ КОММУНАЛЬНЫЕ, СОЦИАЛЬНЫЕ И ПЕРСОНАЛЬНЫЕ...      1\n\n[14161 rows x 3 columns]",
      "text/html": "<div>\n<style scoped>\n    .dataframe tbody tr th:only-of-type {\n        vertical-align: middle;\n    }\n\n    .dataframe tbody tr th {\n        vertical-align: top;\n    }\n\n    .dataframe thead th {\n        text-align: right;\n    }\n</style>\n<table border=\"1\" class=\"dataframe\">\n  <thead>\n    <tr style=\"text-align: right;\">\n      <th></th>\n      <th>okpd2_code</th>\n      <th>okpd2_name</th>\n      <th>count</th>\n    </tr>\n  </thead>\n  <tbody>\n    <tr>\n      <th>4969</th>\n      <td>20.59.52.199</td>\n      <td>Реагенты сложные диагностические или лаборатор...</td>\n      <td>34297</td>\n    </tr>\n    <tr>\n      <th>9981</th>\n      <td>32.50.13.190</td>\n      <td>Инструменты и приспособления, применяемые в ме...</td>\n      <td>30984</td>\n    </tr>\n    <tr>\n      <th>11065</th>\n      <td>43.99.90.190</td>\n      <td>Работы строительные с пециализированные прочие...</td>\n      <td>30673</td>\n    </tr>\n    <tr>\n      <th>12637</th>\n      <td>63.99.10.190</td>\n      <td>Услуги информационные автоматизированные компь...</td>\n      <td>28715</td>\n    </tr>\n    <tr>\n      <th>6707</th>\n      <td>25.73</td>\n      <td>Инструмент</td>\n      <td>27371</td>\n    </tr>\n    <tr>\n      <th>...</th>\n      <td>...</td>\n      <td>...</td>\n      <td>...</td>\n    </tr>\n    <tr>\n      <th>10233</th>\n      <td>33.12.23</td>\n      <td>Услуги по ремонту и техническому обслуживанию ...</td>\n      <td>1</td>\n    </tr>\n    <tr>\n      <th>10241</th>\n      <td>33.12.28</td>\n      <td>Услуги по ремонту и техническому обслуживанию ...</td>\n      <td>1</td>\n    </tr>\n    <tr>\n      <th>2122</th>\n      <td>10.82.23.127</td>\n      <td>Карамель с масляно-сахарными (прохладительными...</td>\n      <td>1</td>\n    </tr>\n    <tr>\n      <th>2119</th>\n      <td>10.82.23.123</td>\n      <td>Карамель с ликерными и медовыми начинками</td>\n      <td>1</td>\n    </tr>\n    <tr>\n      <th>14160</th>\n      <td>Подраздел OA</td>\n      <td>ПРОЧИЕ КОММУНАЛЬНЫЕ, СОЦИАЛЬНЫЕ И ПЕРСОНАЛЬНЫЕ...</td>\n      <td>1</td>\n    </tr>\n  </tbody>\n</table>\n<p>14161 rows × 3 columns</p>\n</div>"
     },
     "execution_count": 7,
     "metadata": {},
     "output_type": "execute_result"
    }
   ],
   "source": [
    "okpd2_contract_positions.sort_values('count', ascending=False)"
   ]
  },
  {
   "cell_type": "markdown",
   "source": [
    "### Разбиение по ОКПД2 ковидных позиций"
   ],
   "metadata": {
    "collapsed": false,
    "pycharm": {
     "name": "#%% md\n"
    }
   }
  },
  {
   "cell_type": "code",
   "execution_count": 8,
   "outputs": [
    {
     "data": {
      "text/plain": "     okpd2_code                            okpd2_name  count\n0  01.11.11.111          Зерно озимой твердой пшеницы      1\n1  01.11.71.110                          Зерно фасоли      1\n2  01.13.12.120                  Капуста белокочанная      1\n3  01.13.12.150                     Капуста пекинская      1\n4  01.13.19.000  Овощи листовые или стебельные прочие      1",
      "text/html": "<div>\n<style scoped>\n    .dataframe tbody tr th:only-of-type {\n        vertical-align: middle;\n    }\n\n    .dataframe tbody tr th {\n        vertical-align: top;\n    }\n\n    .dataframe thead th {\n        text-align: right;\n    }\n</style>\n<table border=\"1\" class=\"dataframe\">\n  <thead>\n    <tr style=\"text-align: right;\">\n      <th></th>\n      <th>okpd2_code</th>\n      <th>okpd2_name</th>\n      <th>count</th>\n    </tr>\n  </thead>\n  <tbody>\n    <tr>\n      <th>0</th>\n      <td>01.11.11.111</td>\n      <td>Зерно озимой твердой пшеницы</td>\n      <td>1</td>\n    </tr>\n    <tr>\n      <th>1</th>\n      <td>01.11.71.110</td>\n      <td>Зерно фасоли</td>\n      <td>1</td>\n    </tr>\n    <tr>\n      <th>2</th>\n      <td>01.13.12.120</td>\n      <td>Капуста белокочанная</td>\n      <td>1</td>\n    </tr>\n    <tr>\n      <th>3</th>\n      <td>01.13.12.150</td>\n      <td>Капуста пекинская</td>\n      <td>1</td>\n    </tr>\n    <tr>\n      <th>4</th>\n      <td>01.13.19.000</td>\n      <td>Овощи листовые или стебельные прочие</td>\n      <td>1</td>\n    </tr>\n  </tbody>\n</table>\n</div>"
     },
     "execution_count": 8,
     "metadata": {},
     "output_type": "execute_result"
    }
   ],
   "source": [
    "covid_okpd2_contract_positions = pd.read_sql_query(\n",
    "    \"\"\"SELECT okpd2_code, okpd2_name, COUNT(*) as count FROM contract_position cp\n",
    "    LEFT JOIN position_to_contract ptc on cp.guid = ptc.position_guid\n",
    "    LEFT JOIN contract c on c.guid = ptc.contract_guid\n",
    "    WHERE c.emergency = 1\n",
    "    AND cp.okpd2_code is not null\n",
    "    GROUP BY cp.okpd2_code, okpd2_name\"\"\",\n",
    "    conn\n",
    ")\n",
    "\n",
    "covid_okpd2_contract_positions.head()"
   ],
   "metadata": {
    "collapsed": false,
    "pycharm": {
     "name": "#%%\n"
    }
   }
  },
  {
   "cell_type": "code",
   "execution_count": 11,
   "outputs": [
    {
     "data": {
      "text/plain": "        okpd2_code                                         okpd2_name  count\n93    10.89.19.290  Продукты пищевые прочие, не включенные в други...    192\n1124  81.29.11.000   Услуги по дезинфекции, дезинсекции и дератизации    159\n872          43.99  Работы строительные специализированные, не вкл...    137\n825   43.21.10.290  Работы электромонтажные прочие, не включенные ...    118\n664   32.50.21.122                Аппараты дыхательные реанимационные    113\n...            ...                                                ...    ...\n520       27.40.15  Лампы газоразрядные; ультрафиолетовые и инфрак...      1\n523   27.40.21.110  Светильники электрические переносные, работающ...      1\n528   27.51.21.111                                   Пылесосы бытовые      1\n534   27.52.11.110                              Плиты газовые бытовые      1\n590   28.25.30.110  Комплектующие (запасные части) холодильного и ...      1\n\n[1180 rows x 3 columns]",
      "text/html": "<div>\n<style scoped>\n    .dataframe tbody tr th:only-of-type {\n        vertical-align: middle;\n    }\n\n    .dataframe tbody tr th {\n        vertical-align: top;\n    }\n\n    .dataframe thead th {\n        text-align: right;\n    }\n</style>\n<table border=\"1\" class=\"dataframe\">\n  <thead>\n    <tr style=\"text-align: right;\">\n      <th></th>\n      <th>okpd2_code</th>\n      <th>okpd2_name</th>\n      <th>count</th>\n    </tr>\n  </thead>\n  <tbody>\n    <tr>\n      <th>93</th>\n      <td>10.89.19.290</td>\n      <td>Продукты пищевые прочие, не включенные в други...</td>\n      <td>192</td>\n    </tr>\n    <tr>\n      <th>1124</th>\n      <td>81.29.11.000</td>\n      <td>Услуги по дезинфекции, дезинсекции и дератизации</td>\n      <td>159</td>\n    </tr>\n    <tr>\n      <th>872</th>\n      <td>43.99</td>\n      <td>Работы строительные специализированные, не вкл...</td>\n      <td>137</td>\n    </tr>\n    <tr>\n      <th>825</th>\n      <td>43.21.10.290</td>\n      <td>Работы электромонтажные прочие, не включенные ...</td>\n      <td>118</td>\n    </tr>\n    <tr>\n      <th>664</th>\n      <td>32.50.21.122</td>\n      <td>Аппараты дыхательные реанимационные</td>\n      <td>113</td>\n    </tr>\n    <tr>\n      <th>...</th>\n      <td>...</td>\n      <td>...</td>\n      <td>...</td>\n    </tr>\n    <tr>\n      <th>520</th>\n      <td>27.40.15</td>\n      <td>Лампы газоразрядные; ультрафиолетовые и инфрак...</td>\n      <td>1</td>\n    </tr>\n    <tr>\n      <th>523</th>\n      <td>27.40.21.110</td>\n      <td>Светильники электрические переносные, работающ...</td>\n      <td>1</td>\n    </tr>\n    <tr>\n      <th>528</th>\n      <td>27.51.21.111</td>\n      <td>Пылесосы бытовые</td>\n      <td>1</td>\n    </tr>\n    <tr>\n      <th>534</th>\n      <td>27.52.11.110</td>\n      <td>Плиты газовые бытовые</td>\n      <td>1</td>\n    </tr>\n    <tr>\n      <th>590</th>\n      <td>28.25.30.110</td>\n      <td>Комплектующие (запасные части) холодильного и ...</td>\n      <td>1</td>\n    </tr>\n  </tbody>\n</table>\n<p>1180 rows × 3 columns</p>\n</div>"
     },
     "execution_count": 11,
     "metadata": {},
     "output_type": "execute_result"
    }
   ],
   "source": [
    "covid_okpd2_contract_positions.sort_values('count', ascending=False)"
   ],
   "metadata": {
    "collapsed": false,
    "pycharm": {
     "name": "#%%\n"
    }
   }
  },
  {
   "cell_type": "markdown",
   "source": [
    "Строим график\n"
   ],
   "metadata": {
    "collapsed": false,
    "pycharm": {
     "name": "#%% md\n"
    }
   }
  },
  {
   "cell_type": "code",
   "execution_count": 9,
   "outputs": [],
   "source": [
    "import matplotlib.pyplot as plt"
   ],
   "metadata": {
    "collapsed": false,
    "pycharm": {
     "name": "#%%\n"
    }
   }
  },
  {
   "cell_type": "code",
   "execution_count": 20,
   "outputs": [
    {
     "data": {
      "text/plain": "<Figure size 432x288 with 1 Axes>",
      "image/png": "[encoded data removed]"
     },
     "metadata": {
      "needs_background": "light"
     },
     "output_type": "display_data"
    }
   ],
   "source": [
    "limit = 25\n",
    "name_length = 20\n",
    "tmp_df = covid_okpd2_contract_positions[covid_okpd2_contract_positions[\"count\"] > limit]\n",
    "tmp_df._is_copy = False\n",
    "tmp_df[\"okpd2_name\"] = tmp_df['okpd2_name'].map(\n",
    "    lambda name: name[0:name_length if len(name) > name_length else len(name)]\n",
    ")\n",
    "plt.bar(tmp_df[\"okpd2_name\"], tmp_df[\"count\"])\n",
    "plt.xticks(rotation=90)\n",
    "plt.show()"
   ],
   "metadata": {
    "collapsed": false,
    "pycharm": {
     "name": "#%%\n"
    }
   }
  }
 ],
 "metadata": {
  "kernelspec": {
   "display_name": "Python 3",
   "language": "python",
   "name": "python3"
  },
  "language_info": {
   "codemirror_mode": {
    "name": "ipython",
    "version": 3
   },
   "file_extension": ".py",
   "mimetype": "text/x-python",
   "name": "python",
   "nbconvert_exporter": "python",
   "pygments_lexer": "ipython3",
   "version": "3.8.10"
  }
 },
 "nbformat": 4,
 "nbformat_minor": 2
}