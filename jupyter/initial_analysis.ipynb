{
 "cells": [
  {
   "cell_type": "code",
   "execution_count": 1,
   "metadata": {},
   "outputs": [],
   "source": [
    "import pandas as pd\n",
    "import sqlite3"
   ]
  },
  {
   "cell_type": "markdown",
   "metadata": {},
   "source": [
    "## Подключение к БД"
   ]
  },
  {
   "cell_type": "code",
   "execution_count": 3,
   "metadata": {
    "scrolled": false
   },
   "outputs": [],
   "source": [
    "conn = sqlite3.connect(\"data.db\")\n",
    "cursor = conn.cursor()"
   ]
  },
  {
   "cell_type": "markdown",
   "metadata": {},
   "source": [
    "## Договоры"
   ]
  },
  {
   "cell_type": "code",
   "execution_count": 4,
   "metadata": {},
   "outputs": [
    {
     "data": {
      "text/plain": "                                   guid      registration_number  notice_44fz  \\\n0  000011fc-813d-466b-972a-a2a0fa251495  52320145827190000740175            0   \n1  00001ae1-4f7a-42c3-bec5-9520842e3e96  57727086772210001330001            0   \n2  0000340e-b6cb-4c81-9b90-9f0ca6922f79  87725276584210000090001            0   \n3  00005251-4234-4b39-9de1-87e63d6887bf  57702060116190000520003            0   \n4  00005575-a566-4d95-b2c4-f62459667092  52320145827190000220048            0   \n\n   notice_not_placed_by_fz223p5s4  \\\n0                             0.0   \n1                             1.0   \n2                             1.0   \n3                             1.0   \n4                             0.0   \n\n                                       notice_44_num lot_44_num  termination  \\\n0  31907889453 На право заключения договора поста...       None            0   \n1                                               None       None            0   \n2                                               None       None            0   \n3                                               None       None            0   \n4  31907493645 Поставка чернослива сушенного без ...       None            0   \n\n   extension  prolongation  customer_appeale_or_needs_approval  ...  \\\n0          0             0                                 0.0  ...   \n1          0             0                                 0.0  ...   \n2          0             0                                 0.0  ...   \n3          0             0                                 0.0  ...   \n4          0             0                                 0.0  ...   \n\n  start_execution_date end_execution_date has_okpd_and_okdp_rows  \\\n0           2019-06-09         2020-12-30                      0   \n1           2021-06-20         2021-08-15                      0   \n2           2021-01-26         2021-02-09                      0   \n3           2019-03-21         2021-09-29                      0   \n4                 None         2021-01-30                      0   \n\n  has_okpd2_rows is_electronic_place electronic_place_name  \\\n0              1                 NaN                  None   \n1              1                 NaN                  None   \n2              1                 NaN                  None   \n3              1                 NaN                  None   \n4              1                 NaN                  None   \n\n  electronic_place_url electronic_place_publish_date electronic_place_guid  \\\n0                 None                          None                  None   \n1                 None                          None                  None   \n2                 None                          None                  None   \n3                 None                          None                  None   \n4                 None                          None                  None   \n\n          region_name  \n0  Krasnodarskii_krai  \n1              Moskva  \n2              Moskva  \n3     Sankt-Peterburg  \n4  Krasnodarskii_krai  \n\n[5 rows x 61 columns]",
      "text/html": "<div>\n<style scoped>\n    .dataframe tbody tr th:only-of-type {\n        vertical-align: middle;\n    }\n\n    .dataframe tbody tr th {\n        vertical-align: top;\n    }\n\n    .dataframe thead th {\n        text-align: right;\n    }\n</style>\n<table border=\"1\" class=\"dataframe\">\n  <thead>\n    <tr style=\"text-align: right;\">\n      <th></th>\n      <th>guid</th>\n      <th>registration_number</th>\n      <th>notice_44fz</th>\n      <th>notice_not_placed_by_fz223p5s4</th>\n      <th>notice_44_num</th>\n      <th>lot_44_num</th>\n      <th>termination</th>\n      <th>extension</th>\n      <th>prolongation</th>\n      <th>customer_appeale_or_needs_approval</th>\n      <th>...</th>\n      <th>start_execution_date</th>\n      <th>end_execution_date</th>\n      <th>has_okpd_and_okdp_rows</th>\n      <th>has_okpd2_rows</th>\n      <th>is_electronic_place</th>\n      <th>electronic_place_name</th>\n      <th>electronic_place_url</th>\n      <th>electronic_place_publish_date</th>\n      <th>electronic_place_guid</th>\n      <th>region_name</th>\n    </tr>\n  </thead>\n  <tbody>\n    <tr>\n      <th>0</th>\n      <td>000011fc-813d-466b-972a-a2a0fa251495</td>\n      <td>52320145827190000740175</td>\n      <td>0</td>\n      <td>0.0</td>\n      <td>31907889453 На право заключения договора поста...</td>\n      <td>None</td>\n      <td>0</td>\n      <td>0</td>\n      <td>0</td>\n      <td>0.0</td>\n      <td>...</td>\n      <td>2019-06-09</td>\n      <td>2020-12-30</td>\n      <td>0</td>\n      <td>1</td>\n      <td>NaN</td>\n      <td>None</td>\n      <td>None</td>\n      <td>None</td>\n      <td>None</td>\n      <td>Krasnodarskii_krai</td>\n    </tr>\n    <tr>\n      <th>1</th>\n      <td>00001ae1-4f7a-42c3-bec5-9520842e3e96</td>\n      <td>57727086772210001330001</td>\n      <td>0</td>\n      <td>1.0</td>\n      <td>None</td>\n      <td>None</td>\n      <td>0</td>\n      <td>0</td>\n      <td>0</td>\n      <td>0.0</td>\n      <td>...</td>\n      <td>2021-06-20</td>\n      <td>2021-08-15</td>\n      <td>0</td>\n      <td>1</td>\n      <td>NaN</td>\n      <td>None</td>\n      <td>None</td>\n      <td>None</td>\n      <td>None</td>\n      <td>Moskva</td>\n    </tr>\n    <tr>\n      <th>2</th>\n      <td>0000340e-b6cb-4c81-9b90-9f0ca6922f79</td>\n      <td>87725276584210000090001</td>\n      <td>0</td>\n      <td>1.0</td>\n      <td>None</td>\n      <td>None</td>\n      <td>0</td>\n      <td>0</td>\n      <td>0</td>\n      <td>0.0</td>\n      <td>...</td>\n      <td>2021-01-26</td>\n      <td>2021-02-09</td>\n      <td>0</td>\n      <td>1</td>\n      <td>NaN</td>\n      <td>None</td>\n      <td>None</td>\n      <td>None</td>\n      <td>None</td>\n      <td>Moskva</td>\n    </tr>\n    <tr>\n      <th>3</th>\n      <td>00005251-4234-4b39-9de1-87e63d6887bf</td>\n      <td>57702060116190000520003</td>\n      <td>0</td>\n      <td>1.0</td>\n      <td>None</td>\n      <td>None</td>\n      <td>0</td>\n      <td>0</td>\n      <td>0</td>\n      <td>0.0</td>\n      <td>...</td>\n      <td>2019-03-21</td>\n      <td>2021-09-29</td>\n      <td>0</td>\n      <td>1</td>\n      <td>NaN</td>\n      <td>None</td>\n      <td>None</td>\n      <td>None</td>\n      <td>None</td>\n      <td>Sankt-Peterburg</td>\n    </tr>\n    <tr>\n      <th>4</th>\n      <td>00005575-a566-4d95-b2c4-f62459667092</td>\n      <td>52320145827190000220048</td>\n      <td>0</td>\n      <td>0.0</td>\n      <td>31907493645 Поставка чернослива сушенного без ...</td>\n      <td>None</td>\n      <td>0</td>\n      <td>0</td>\n      <td>0</td>\n      <td>0.0</td>\n      <td>...</td>\n      <td>None</td>\n      <td>2021-01-30</td>\n      <td>0</td>\n      <td>1</td>\n      <td>NaN</td>\n      <td>None</td>\n      <td>None</td>\n      <td>None</td>\n      <td>None</td>\n      <td>Krasnodarskii_krai</td>\n    </tr>\n  </tbody>\n</table>\n<p>5 rows × 61 columns</p>\n</div>"
     },
     "execution_count": 4,
     "metadata": {},
     "output_type": "execute_result"
    }
   ],
   "source": [
    "contracts = pd.read_sql_query(\"SELECT * FROM contract\", conn)\n",
    "\n",
    "contracts.head()"
   ]
  },
  {
   "cell_type": "markdown",
   "metadata": {},
   "source": [
    "### Разбиение договоров по регионам"
   ]
  },
  {
   "cell_type": "code",
   "execution_count": 6,
   "metadata": {},
   "outputs": [
    {
     "data": {
      "text/plain": "region_name\nKrasnodarskii_krai    104868\nLeningradskaya_obl     33482\nMoskovskaya_obl       203147\nMoskva                948412\nPrimorskii_krai        33543\nSankt-Peterburg       209046\nName: registration_number, dtype: int64"
     },
     "execution_count": 6,
     "metadata": {},
     "output_type": "execute_result"
    }
   ],
   "source": [
    "contracts_count_by_region = contracts.groupby('region_name')[\"registration_number\"].count()\n",
    "\n",
    "contracts_count_by_region"
   ]
  },
  {
   "cell_type": "markdown",
   "source": [
    "### Ковидные договоры"
   ],
   "metadata": {
    "collapsed": false,
    "pycharm": {
     "name": "#%% md\n"
    }
   }
  },
  {
   "cell_type": "code",
   "execution_count": 7,
   "outputs": [
    {
     "data": {
      "text/plain": "region_name\nKrasnodarskii_krai     313\nLeningradskaya_obl     133\nMoskovskaya_obl        800\nMoskva                2375\nPrimorskii_krai         66\nSankt-Peterburg        796\nName: registration_number, dtype: int64"
     },
     "execution_count": 7,
     "metadata": {},
     "output_type": "execute_result"
    }
   ],
   "source": [
    "covid_contracts = contracts[contracts[\"emergency\"] == 1]\n",
    "covid_contracts_count_by_region = covid_contracts.groupby('region_name')[\"registration_number\"].count()\n",
    "\n",
    "covid_contracts_count_by_region"
   ],
   "metadata": {
    "collapsed": false,
    "pycharm": {
     "name": "#%%\n"
    }
   }
  },
  {
   "cell_type": "markdown",
   "metadata": {},
   "source": [
    "средняя сумма контракта"
   ]
  },
  {
   "cell_type": "code",
   "execution_count": 21,
   "metadata": {},
   "outputs": [
    {
     "data": {
      "text/plain": [
       "region_name\n",
       "Krasnodarskii_krai    8.762306e+06\n",
       "Leningradskaya_obl    1.514665e+07\n",
       "Moskovskaya_obl       7.999644e+06\n",
       "Moskva                6.202049e+08\n",
       "Primorskii_krai       1.023351e+07\n",
       "Sankt-Peterburg       6.220484e+07\n",
       "Name: sum, dtype: float64"
      ]
     },
     "execution_count": 21,
     "metadata": {},
     "output_type": "execute_result"
    }
   ],
   "source": [
    "pc_avg_sum_by_reqion = purchase_contracts.groupby('region_name')['sum'].mean()\n",
    "\n",
    "pc_avg_sum_by_reqion"
   ]
  },
  {
   "cell_type": "markdown",
   "metadata": {},
   "source": [
    "сумма всех контрактов"
   ]
  },
  {
   "cell_type": "code",
   "execution_count": 22,
   "metadata": {},
   "outputs": [
    {
     "data": {
      "text/plain": [
       "region_name\n",
       "Krasnodarskii_krai    3.294627e+09\n",
       "Leningradskaya_obl    3.968421e+09\n",
       "Moskovskaya_obl       2.119906e+09\n",
       "Moskva                2.977604e+12\n",
       "Primorskii_krai       1.688529e+09\n",
       "Sankt-Peterburg       5.996547e+10\n",
       "Name: sum, dtype: float64"
      ]
     },
     "execution_count": 22,
     "metadata": {},
     "output_type": "execute_result"
    }
   ],
   "source": [
    "pc_sum_by_reqion = purchase_contracts.groupby('region_name')['sum'].sum()\n",
    "\n",
    "pc_sum_by_reqion"
   ]
  },
  {
   "cell_type": "markdown",
   "metadata": {},
   "source": [
    "### по ОКВЭДам"
   ]
  },
  {
   "cell_type": "code",
   "execution_count": 23,
   "metadata": {},
   "outputs": [
    {
     "data": {
      "text/html": [
       "<div>\n",
       "<style scoped>\n",
       "    .dataframe tbody tr th:only-of-type {\n",
       "        vertical-align: middle;\n",
       "    }\n",
       "\n",
       "    .dataframe tbody tr th {\n",
       "        vertical-align: top;\n",
       "    }\n",
       "\n",
       "    .dataframe thead th {\n",
       "        text-align: right;\n",
       "    }\n",
       "</style>\n",
       "<table border=\"1\" class=\"dataframe\">\n",
       "  <thead>\n",
       "    <tr style=\"text-align: right;\">\n",
       "      <th></th>\n",
       "      <th>purchase_contract_guid</th>\n",
       "      <th>ordinal_number</th>\n",
       "      <th>okdp_code</th>\n",
       "      <th>okdp_name</th>\n",
       "      <th>okpd2_code</th>\n",
       "      <th>okpd2_name</th>\n",
       "      <th>okved_code</th>\n",
       "      <th>okved_name</th>\n",
       "      <th>okved2_code</th>\n",
       "      <th>okved2_name</th>\n",
       "      <th>okei_code</th>\n",
       "      <th>okei_name</th>\n",
       "      <th>qty</th>\n",
       "      <th>delivery_place_guid</th>\n",
       "      <th>additional_info</th>\n",
       "    </tr>\n",
       "  </thead>\n",
       "  <tbody>\n",
       "    <tr>\n",
       "      <th>0</th>\n",
       "      <td>001aacfe-3914-4fe5-b488-841e8f77be2c</td>\n",
       "      <td>1</td>\n",
       "      <td>None</td>\n",
       "      <td>None</td>\n",
       "      <td>None</td>\n",
       "      <td>None</td>\n",
       "      <td>None</td>\n",
       "      <td>None</td>\n",
       "      <td>None</td>\n",
       "      <td>None</td>\n",
       "      <td>876</td>\n",
       "      <td>Условная единица</td>\n",
       "      <td>445.0</td>\n",
       "      <td>None</td>\n",
       "      <td>ОКПД2:  28.22.20.000 | ОКЕИ: 796;  839</td>\n",
       "    </tr>\n",
       "    <tr>\n",
       "      <th>1</th>\n",
       "      <td>001ab205-aa32-47b2-9c70-514c0421ba93</td>\n",
       "      <td>1</td>\n",
       "      <td>None</td>\n",
       "      <td>None</td>\n",
       "      <td>None</td>\n",
       "      <td>None</td>\n",
       "      <td>None</td>\n",
       "      <td>None</td>\n",
       "      <td>None</td>\n",
       "      <td>None</td>\n",
       "      <td>None</td>\n",
       "      <td>None</td>\n",
       "      <td>NaN</td>\n",
       "      <td>None</td>\n",
       "      <td>None</td>\n",
       "    </tr>\n",
       "    <tr>\n",
       "      <th>2</th>\n",
       "      <td>001ab205-aa32-47b2-9c70-514c0421ba93</td>\n",
       "      <td>10</td>\n",
       "      <td>None</td>\n",
       "      <td>None</td>\n",
       "      <td>None</td>\n",
       "      <td>None</td>\n",
       "      <td>None</td>\n",
       "      <td>None</td>\n",
       "      <td>None</td>\n",
       "      <td>None</td>\n",
       "      <td>None</td>\n",
       "      <td>None</td>\n",
       "      <td>NaN</td>\n",
       "      <td>None</td>\n",
       "      <td>None</td>\n",
       "    </tr>\n",
       "    <tr>\n",
       "      <th>3</th>\n",
       "      <td>001ab205-aa32-47b2-9c70-514c0421ba93</td>\n",
       "      <td>11</td>\n",
       "      <td>None</td>\n",
       "      <td>None</td>\n",
       "      <td>None</td>\n",
       "      <td>None</td>\n",
       "      <td>None</td>\n",
       "      <td>None</td>\n",
       "      <td>None</td>\n",
       "      <td>None</td>\n",
       "      <td>None</td>\n",
       "      <td>None</td>\n",
       "      <td>NaN</td>\n",
       "      <td>None</td>\n",
       "      <td>None</td>\n",
       "    </tr>\n",
       "    <tr>\n",
       "      <th>4</th>\n",
       "      <td>001ab205-aa32-47b2-9c70-514c0421ba93</td>\n",
       "      <td>12</td>\n",
       "      <td>None</td>\n",
       "      <td>None</td>\n",
       "      <td>None</td>\n",
       "      <td>None</td>\n",
       "      <td>None</td>\n",
       "      <td>None</td>\n",
       "      <td>None</td>\n",
       "      <td>None</td>\n",
       "      <td>None</td>\n",
       "      <td>None</td>\n",
       "      <td>NaN</td>\n",
       "      <td>None</td>\n",
       "      <td>None</td>\n",
       "    </tr>\n",
       "  </tbody>\n",
       "</table>\n",
       "</div>"
      ],
      "text/plain": [
       "                 purchase_contract_guid ordinal_number okdp_code okdp_name  \\\n",
       "0  001aacfe-3914-4fe5-b488-841e8f77be2c              1      None      None   \n",
       "1  001ab205-aa32-47b2-9c70-514c0421ba93              1      None      None   \n",
       "2  001ab205-aa32-47b2-9c70-514c0421ba93             10      None      None   \n",
       "3  001ab205-aa32-47b2-9c70-514c0421ba93             11      None      None   \n",
       "4  001ab205-aa32-47b2-9c70-514c0421ba93             12      None      None   \n",
       "\n",
       "  okpd2_code okpd2_name okved_code okved_name okved2_code okved2_name  \\\n",
       "0       None       None       None       None        None        None   \n",
       "1       None       None       None       None        None        None   \n",
       "2       None       None       None       None        None        None   \n",
       "3       None       None       None       None        None        None   \n",
       "4       None       None       None       None        None        None   \n",
       "\n",
       "  okei_code         okei_name    qty delivery_place_guid  \\\n",
       "0       876  Условная единица  445.0                None   \n",
       "1      None              None    NaN                None   \n",
       "2      None              None    NaN                None   \n",
       "3      None              None    NaN                None   \n",
       "4      None              None    NaN                None   \n",
       "\n",
       "                          additional_info  \n",
       "0  ОКПД2:  28.22.20.000 | ОКЕИ: 796;  839  \n",
       "1                                    None  \n",
       "2                                    None  \n",
       "3                                    None  \n",
       "4                                    None  "
      ]
     },
     "execution_count": 23,
     "metadata": {},
     "output_type": "execute_result"
    }
   ],
   "source": [
    "contract_items = pd.read_sql_query(\n",
    "    \"SELECT * FROM contract_item\",\n",
    "    conn,\n",
    "    dtype={'okved_code': str, 'okved_name': str, 'okved2_code': str, 'okved2_name': str}\n",
    ")\n",
    "\n",
    "contract_items.head()"
   ]
  },
  {
   "cell_type": "code",
   "execution_count": 37,
   "metadata": {},
   "outputs": [
    {
     "data": {
      "text/html": [
       "<div>\n",
       "<style scoped>\n",
       "    .dataframe tbody tr th:only-of-type {\n",
       "        vertical-align: middle;\n",
       "    }\n",
       "\n",
       "    .dataframe tbody tr th {\n",
       "        vertical-align: top;\n",
       "    }\n",
       "\n",
       "    .dataframe thead th {\n",
       "        text-align: right;\n",
       "    }\n",
       "</style>\n",
       "<table border=\"1\" class=\"dataframe\">\n",
       "  <thead>\n",
       "    <tr style=\"text-align: right;\">\n",
       "      <th></th>\n",
       "      <th>guid</th>\n",
       "      <th>registration_number</th>\n",
       "      <th>create_date_time</th>\n",
       "      <th>contract_create_date</th>\n",
       "      <th>lot_guid</th>\n",
       "      <th>currency_code</th>\n",
       "      <th>sum</th>\n",
       "      <th>purchase_info_guid</th>\n",
       "      <th>placer_inn</th>\n",
       "      <th>customer_inn</th>\n",
       "      <th>...</th>\n",
       "      <th>additional_info</th>\n",
       "      <th>publication_date_time</th>\n",
       "      <th>contract_status_code</th>\n",
       "      <th>version</th>\n",
       "      <th>modification_description</th>\n",
       "      <th>region_name</th>\n",
       "      <th>okved_code</th>\n",
       "      <th>okved_name</th>\n",
       "      <th>okved2_code</th>\n",
       "      <th>okved2_name</th>\n",
       "    </tr>\n",
       "  </thead>\n",
       "  <tbody>\n",
       "    <tr>\n",
       "      <th>001aacfe-3914-4fe5-b488-841e8f77be2c</th>\n",
       "      <td>001aacfe-3914-4fe5-b488-841e8f77be2c</td>\n",
       "      <td>31908349774-01</td>\n",
       "      <td>2019-12-20 06:30:19</td>\n",
       "      <td>2019-12-18</td>\n",
       "      <td>e783e941-5f90-475c-b709-06fd165b130c</td>\n",
       "      <td>RUB</td>\n",
       "      <td>7.316589e+06</td>\n",
       "      <td>autogenerated-c6dbc5fd-adc0-4563-9579-fcc5d668...</td>\n",
       "      <td>7708503727</td>\n",
       "      <td>7708503727</td>\n",
       "      <td>...</td>\n",
       "      <td>None</td>\n",
       "      <td>2019-12-20 06:52:22</td>\n",
       "      <td>P</td>\n",
       "      <td>1</td>\n",
       "      <td>None</td>\n",
       "      <td>Moskva</td>\n",
       "      <td>None</td>\n",
       "      <td>None</td>\n",
       "      <td>None</td>\n",
       "      <td>None</td>\n",
       "    </tr>\n",
       "    <tr>\n",
       "      <th>001ab205-aa32-47b2-9c70-514c0421ba93</th>\n",
       "      <td>001ab205-aa32-47b2-9c70-514c0421ba93</td>\n",
       "      <td>31807044509-06</td>\n",
       "      <td>2020-05-27 10:43:26</td>\n",
       "      <td>2019-06-29</td>\n",
       "      <td>5bc9f7e1-6e9b-e477-e100-00000a104614</td>\n",
       "      <td>RUB</td>\n",
       "      <td>6.057900e+05</td>\n",
       "      <td>autogenerated-f6dfc62b-90d9-4862-8bb9-37a44795...</td>\n",
       "      <td>7706613770</td>\n",
       "      <td>7706613770</td>\n",
       "      <td>...</td>\n",
       "      <td>None</td>\n",
       "      <td>2020-05-27 10:48:43</td>\n",
       "      <td>P</td>\n",
       "      <td>2</td>\n",
       "      <td>Изменение реквизитов наименование банка (поста...</td>\n",
       "      <td>Moskva</td>\n",
       "      <td>NaN</td>\n",
       "      <td>NaN</td>\n",
       "      <td>NaN</td>\n",
       "      <td>NaN</td>\n",
       "    </tr>\n",
       "    <tr>\n",
       "      <th>001d39b6-9307-49f1-bdaa-c583bd230c34</th>\n",
       "      <td>001d39b6-9307-49f1-bdaa-c583bd230c34</td>\n",
       "      <td>31604457799-13</td>\n",
       "      <td>2019-12-19 11:45:13</td>\n",
       "      <td>2017-04-09</td>\n",
       "      <td>da07e6fb-d41b-45f7-98d4-853d78b1e8c5</td>\n",
       "      <td>RUB</td>\n",
       "      <td>6.334580e+08</td>\n",
       "      <td>autogenerated-63e351b2-46d4-4865-9104-2b93a5a4...</td>\n",
       "      <td>7706413348</td>\n",
       "      <td>7706413348</td>\n",
       "      <td>...</td>\n",
       "      <td>None</td>\n",
       "      <td>2019-12-19 11:49:09</td>\n",
       "      <td>P</td>\n",
       "      <td>2</td>\n",
       "      <td>в соответствии с ЕОСЗ</td>\n",
       "      <td>Moskva</td>\n",
       "      <td>63.30.1</td>\n",
       "      <td>Организация комплексного туристического обслуж...</td>\n",
       "      <td>None</td>\n",
       "      <td>None</td>\n",
       "    </tr>\n",
       "    <tr>\n",
       "      <th>0022e8a3-ebd5-4567-969c-0548f6981f0b</th>\n",
       "      <td>0022e8a3-ebd5-4567-969c-0548f6981f0b</td>\n",
       "      <td>31908460452-01</td>\n",
       "      <td>2019-12-17 09:28:01</td>\n",
       "      <td>2019-12-16</td>\n",
       "      <td>5a6c4422-84f7-495d-96af-14b8cc50d762</td>\n",
       "      <td>RUB</td>\n",
       "      <td>9.901120e+06</td>\n",
       "      <td>autogenerated-f8227844-4940-4910-b9a3-37e14b02...</td>\n",
       "      <td>7734135124</td>\n",
       "      <td>7734135124</td>\n",
       "      <td>...</td>\n",
       "      <td>None</td>\n",
       "      <td>2019-12-17 11:32:25</td>\n",
       "      <td>P</td>\n",
       "      <td>1</td>\n",
       "      <td>None</td>\n",
       "      <td>Moskva</td>\n",
       "      <td>NaN</td>\n",
       "      <td>NaN</td>\n",
       "      <td>NaN</td>\n",
       "      <td>NaN</td>\n",
       "    </tr>\n",
       "    <tr>\n",
       "      <th>0023d126-a445-4194-99c3-9b7f3145449f</th>\n",
       "      <td>0023d126-a445-4194-99c3-9b7f3145449f</td>\n",
       "      <td>31908536773-01</td>\n",
       "      <td>2019-12-19 05:49:20</td>\n",
       "      <td>2019-12-15</td>\n",
       "      <td>b08eaf34-803c-4175-ba69-eb5f0b4f0437</td>\n",
       "      <td>RUB</td>\n",
       "      <td>1.016668e+05</td>\n",
       "      <td>autogenerated-9d985f3e-69a5-4e2f-b5ab-8e4e13e7...</td>\n",
       "      <td>7719555477</td>\n",
       "      <td>7719555477</td>\n",
       "      <td>...</td>\n",
       "      <td>None</td>\n",
       "      <td>2019-12-19 05:50:36</td>\n",
       "      <td>P</td>\n",
       "      <td>1</td>\n",
       "      <td>None</td>\n",
       "      <td>Moskva</td>\n",
       "      <td>NaN</td>\n",
       "      <td>NaN</td>\n",
       "      <td>NaN</td>\n",
       "      <td>NaN</td>\n",
       "    </tr>\n",
       "  </tbody>\n",
       "</table>\n",
       "<p>5 rows × 26 columns</p>\n",
       "</div>"
      ],
      "text/plain": [
       "                                                                      guid  \\\n",
       "001aacfe-3914-4fe5-b488-841e8f77be2c  001aacfe-3914-4fe5-b488-841e8f77be2c   \n",
       "001ab205-aa32-47b2-9c70-514c0421ba93  001ab205-aa32-47b2-9c70-514c0421ba93   \n",
       "001d39b6-9307-49f1-bdaa-c583bd230c34  001d39b6-9307-49f1-bdaa-c583bd230c34   \n",
       "0022e8a3-ebd5-4567-969c-0548f6981f0b  0022e8a3-ebd5-4567-969c-0548f6981f0b   \n",
       "0023d126-a445-4194-99c3-9b7f3145449f  0023d126-a445-4194-99c3-9b7f3145449f   \n",
       "\n",
       "                                     registration_number     create_date_time  \\\n",
       "001aacfe-3914-4fe5-b488-841e8f77be2c      31908349774-01  2019-12-20 06:30:19   \n",
       "001ab205-aa32-47b2-9c70-514c0421ba93      31807044509-06  2020-05-27 10:43:26   \n",
       "001d39b6-9307-49f1-bdaa-c583bd230c34      31604457799-13  2019-12-19 11:45:13   \n",
       "0022e8a3-ebd5-4567-969c-0548f6981f0b      31908460452-01  2019-12-17 09:28:01   \n",
       "0023d126-a445-4194-99c3-9b7f3145449f      31908536773-01  2019-12-19 05:49:20   \n",
       "\n",
       "                                     contract_create_date  \\\n",
       "001aacfe-3914-4fe5-b488-841e8f77be2c           2019-12-18   \n",
       "001ab205-aa32-47b2-9c70-514c0421ba93           2019-06-29   \n",
       "001d39b6-9307-49f1-bdaa-c583bd230c34           2017-04-09   \n",
       "0022e8a3-ebd5-4567-969c-0548f6981f0b           2019-12-16   \n",
       "0023d126-a445-4194-99c3-9b7f3145449f           2019-12-15   \n",
       "\n",
       "                                                                  lot_guid  \\\n",
       "001aacfe-3914-4fe5-b488-841e8f77be2c  e783e941-5f90-475c-b709-06fd165b130c   \n",
       "001ab205-aa32-47b2-9c70-514c0421ba93  5bc9f7e1-6e9b-e477-e100-00000a104614   \n",
       "001d39b6-9307-49f1-bdaa-c583bd230c34  da07e6fb-d41b-45f7-98d4-853d78b1e8c5   \n",
       "0022e8a3-ebd5-4567-969c-0548f6981f0b  5a6c4422-84f7-495d-96af-14b8cc50d762   \n",
       "0023d126-a445-4194-99c3-9b7f3145449f  b08eaf34-803c-4175-ba69-eb5f0b4f0437   \n",
       "\n",
       "                                     currency_code           sum  \\\n",
       "001aacfe-3914-4fe5-b488-841e8f77be2c           RUB  7.316589e+06   \n",
       "001ab205-aa32-47b2-9c70-514c0421ba93           RUB  6.057900e+05   \n",
       "001d39b6-9307-49f1-bdaa-c583bd230c34           RUB  6.334580e+08   \n",
       "0022e8a3-ebd5-4567-969c-0548f6981f0b           RUB  9.901120e+06   \n",
       "0023d126-a445-4194-99c3-9b7f3145449f           RUB  1.016668e+05   \n",
       "\n",
       "                                                                     purchase_info_guid  \\\n",
       "001aacfe-3914-4fe5-b488-841e8f77be2c  autogenerated-c6dbc5fd-adc0-4563-9579-fcc5d668...   \n",
       "001ab205-aa32-47b2-9c70-514c0421ba93  autogenerated-f6dfc62b-90d9-4862-8bb9-37a44795...   \n",
       "001d39b6-9307-49f1-bdaa-c583bd230c34  autogenerated-63e351b2-46d4-4865-9104-2b93a5a4...   \n",
       "0022e8a3-ebd5-4567-969c-0548f6981f0b  autogenerated-f8227844-4940-4910-b9a3-37e14b02...   \n",
       "0023d126-a445-4194-99c3-9b7f3145449f  autogenerated-9d985f3e-69a5-4e2f-b5ab-8e4e13e7...   \n",
       "\n",
       "                                      placer_inn customer_inn  ...  \\\n",
       "001aacfe-3914-4fe5-b488-841e8f77be2c  7708503727   7708503727  ...   \n",
       "001ab205-aa32-47b2-9c70-514c0421ba93  7706613770   7706613770  ...   \n",
       "001d39b6-9307-49f1-bdaa-c583bd230c34  7706413348   7706413348  ...   \n",
       "0022e8a3-ebd5-4567-969c-0548f6981f0b  7734135124   7734135124  ...   \n",
       "0023d126-a445-4194-99c3-9b7f3145449f  7719555477   7719555477  ...   \n",
       "\n",
       "                                     additional_info publication_date_time  \\\n",
       "001aacfe-3914-4fe5-b488-841e8f77be2c            None   2019-12-20 06:52:22   \n",
       "001ab205-aa32-47b2-9c70-514c0421ba93            None   2020-05-27 10:48:43   \n",
       "001d39b6-9307-49f1-bdaa-c583bd230c34            None   2019-12-19 11:49:09   \n",
       "0022e8a3-ebd5-4567-969c-0548f6981f0b            None   2019-12-17 11:32:25   \n",
       "0023d126-a445-4194-99c3-9b7f3145449f            None   2019-12-19 05:50:36   \n",
       "\n",
       "                                     contract_status_code version  \\\n",
       "001aacfe-3914-4fe5-b488-841e8f77be2c                    P       1   \n",
       "001ab205-aa32-47b2-9c70-514c0421ba93                    P       2   \n",
       "001d39b6-9307-49f1-bdaa-c583bd230c34                    P       2   \n",
       "0022e8a3-ebd5-4567-969c-0548f6981f0b                    P       1   \n",
       "0023d126-a445-4194-99c3-9b7f3145449f                    P       1   \n",
       "\n",
       "                                                               modification_description  \\\n",
       "001aacfe-3914-4fe5-b488-841e8f77be2c                                               None   \n",
       "001ab205-aa32-47b2-9c70-514c0421ba93  Изменение реквизитов наименование банка (поста...   \n",
       "001d39b6-9307-49f1-bdaa-c583bd230c34                              в соответствии с ЕОСЗ   \n",
       "0022e8a3-ebd5-4567-969c-0548f6981f0b                                               None   \n",
       "0023d126-a445-4194-99c3-9b7f3145449f                                               None   \n",
       "\n",
       "                                     region_name okved_code  \\\n",
       "001aacfe-3914-4fe5-b488-841e8f77be2c      Moskva       None   \n",
       "001ab205-aa32-47b2-9c70-514c0421ba93      Moskva        NaN   \n",
       "001d39b6-9307-49f1-bdaa-c583bd230c34      Moskva    63.30.1   \n",
       "0022e8a3-ebd5-4567-969c-0548f6981f0b      Moskva        NaN   \n",
       "0023d126-a445-4194-99c3-9b7f3145449f      Moskva        NaN   \n",
       "\n",
       "                                                                             okved_name  \\\n",
       "001aacfe-3914-4fe5-b488-841e8f77be2c                                               None   \n",
       "001ab205-aa32-47b2-9c70-514c0421ba93                                                NaN   \n",
       "001d39b6-9307-49f1-bdaa-c583bd230c34  Организация комплексного туристического обслуж...   \n",
       "0022e8a3-ebd5-4567-969c-0548f6981f0b                                                NaN   \n",
       "0023d126-a445-4194-99c3-9b7f3145449f                                                NaN   \n",
       "\n",
       "                                     okved2_code  okved2_name  \n",
       "001aacfe-3914-4fe5-b488-841e8f77be2c        None         None  \n",
       "001ab205-aa32-47b2-9c70-514c0421ba93         NaN          NaN  \n",
       "001d39b6-9307-49f1-bdaa-c583bd230c34        None         None  \n",
       "0022e8a3-ebd5-4567-969c-0548f6981f0b         NaN          NaN  \n",
       "0023d126-a445-4194-99c3-9b7f3145449f         NaN          NaN  \n",
       "\n",
       "[5 rows x 26 columns]"
      ]
     },
     "execution_count": 37,
     "metadata": {},
     "output_type": "execute_result"
    }
   ],
   "source": [
    "purchase_contracts.index = purchase_contracts['guid']\n",
    "contract_items.index = contract_items['purchase_contract_guid']\n",
    "\n",
    "okved = contract_items[['okved_code', 'okved_name', 'okved2_code', 'okved2_name']].drop_duplicates()\n",
    "\n",
    "purchase_contracts_okved = purchase_contracts.join(okved)\n",
    "purchase_contracts_okved.head()"
   ]
  },
  {
   "cell_type": "markdown",
   "metadata": {},
   "source": [
    "количество контрактов на закупку"
   ]
  },
  {
   "cell_type": "code",
   "execution_count": 41,
   "metadata": {},
   "outputs": [
    {
     "data": {
      "text/plain": [
       "okved_code\n",
       "01.12.1        1\n",
       "01.13.21       1\n",
       "02.01          1\n",
       "02.01.1        1\n",
       "05.02.2        1\n",
       "            ... \n",
       "MA             1\n",
       "NA             1\n",
       "None           1\n",
       "OA             1\n",
       "NaN         6761\n",
       "Name: registration_number, Length: 280, dtype: int64"
      ]
     },
     "execution_count": 41,
     "metadata": {},
     "output_type": "execute_result"
    }
   ],
   "source": [
    "pc_count_by_okved = purchase_contracts_okved.groupby(\"okved_code\", dropna=False)['registration_number'].count()\n",
    "\n",
    "pc_count_by_okved"
   ]
  },
  {
   "cell_type": "markdown",
   "metadata": {},
   "source": [
    "средняя сумма контракта"
   ]
  },
  {
   "cell_type": "code",
   "execution_count": 42,
   "metadata": {},
   "outputs": [
    {
     "data": {
      "text/plain": [
       "okved_code\n",
       "01.12.1     1.343285e+05\n",
       "01.13.21    1.343285e+05\n",
       "02.01       1.561120e+07\n",
       "02.01.1     1.031400e+07\n",
       "05.02.2     1.742400e+07\n",
       "                ...     \n",
       "MA          2.040000e+05\n",
       "NA          1.099362e+06\n",
       "None        7.316589e+06\n",
       "OA          3.980000e+05\n",
       "NaN         4.173052e+08\n",
       "Name: sum, Length: 280, dtype: float64"
      ]
     },
     "execution_count": 42,
     "metadata": {},
     "output_type": "execute_result"
    }
   ],
   "source": [
    "pc_count_by_okved = purchase_contracts_okved.groupby(\"okved_code\", dropna=False)[\"sum\"].mean()\n",
    "\n",
    "pc_count_by_okved"
   ]
  },
  {
   "cell_type": "markdown",
   "metadata": {},
   "source": [
    "сумма всех контрактов"
   ]
  },
  {
   "cell_type": "code",
   "execution_count": 43,
   "metadata": {},
   "outputs": [
    {
     "data": {
      "text/plain": [
       "okved_code\n",
       "01.12.1     1.343285e+05\n",
       "01.13.21    1.343285e+05\n",
       "02.01       1.561120e+07\n",
       "02.01.1     1.031400e+07\n",
       "05.02.2     1.742400e+07\n",
       "                ...     \n",
       "MA          2.040000e+05\n",
       "NA          1.099362e+06\n",
       "None        7.316589e+06\n",
       "OA          3.980000e+05\n",
       "NaN         2.739191e+12\n",
       "Name: sum, Length: 280, dtype: float64"
      ]
     },
     "execution_count": 43,
     "metadata": {},
     "output_type": "execute_result"
    }
   ],
   "source": [
    "pc_count_by_okved = purchase_contracts_okved.groupby(\"okved_code\", dropna=False)[\"sum\"].sum()\n",
    "\n",
    "pc_count_by_okved"
   ]
  },
  {
   "cell_type": "markdown",
   "metadata": {},
   "source": [
    "### ковид - не ковид ??? как будем определять ???"
   ]
  },
  {
   "cell_type": "markdown",
   "metadata": {},
   "source": [
    "количество контрактов на закупку"
   ]
  },
  {
   "cell_type": "code",
   "execution_count": null,
   "metadata": {},
   "outputs": [],
   "source": []
  },
  {
   "cell_type": "markdown",
   "metadata": {},
   "source": [
    "средняя сумма контракта"
   ]
  },
  {
   "cell_type": "code",
   "execution_count": null,
   "metadata": {},
   "outputs": [],
   "source": []
  },
  {
   "cell_type": "markdown",
   "metadata": {},
   "source": [
    "сумма всех контрактов"
   ]
  },
  {
   "cell_type": "code",
   "execution_count": null,
   "metadata": {},
   "outputs": [],
   "source": []
  },
  {
   "cell_type": "markdown",
   "metadata": {},
   "source": [
    "## Признаковое пространство для оценки рисков контракта"
   ]
  },
  {
   "cell_type": "code",
   "execution_count": 44,
   "metadata": {},
   "outputs": [
    {
     "data": {
      "text/html": [
       "<div>\n",
       "<style scoped>\n",
       "    .dataframe tbody tr th:only-of-type {\n",
       "        vertical-align: middle;\n",
       "    }\n",
       "\n",
       "    .dataframe tbody tr th {\n",
       "        vertical-align: top;\n",
       "    }\n",
       "\n",
       "    .dataframe thead th {\n",
       "        text-align: right;\n",
       "    }\n",
       "</style>\n",
       "<table border=\"1\" class=\"dataframe\">\n",
       "  <thead>\n",
       "    <tr style=\"text-align: right;\">\n",
       "      <th></th>\n",
       "      <th>guid</th>\n",
       "      <th>registration_number</th>\n",
       "      <th>notice_44fz</th>\n",
       "      <th>notice_not_placed_by_fz223p5s4</th>\n",
       "      <th>notice_44_num</th>\n",
       "      <th>lot_44_num</th>\n",
       "      <th>termination</th>\n",
       "      <th>extension</th>\n",
       "      <th>prolongation</th>\n",
       "      <th>customer_appeale_or_needs_approval</th>\n",
       "      <th>...</th>\n",
       "      <th>start_execution_date</th>\n",
       "      <th>end_execution_date</th>\n",
       "      <th>has_okpd_and_okdp_rows</th>\n",
       "      <th>has_okpd2_rows</th>\n",
       "      <th>is_electronic_place</th>\n",
       "      <th>electronic_place_name</th>\n",
       "      <th>electronic_place_url</th>\n",
       "      <th>electronic_place_publish_date</th>\n",
       "      <th>electronic_place_guid</th>\n",
       "      <th>region_name</th>\n",
       "    </tr>\n",
       "  </thead>\n",
       "  <tbody>\n",
       "    <tr>\n",
       "      <th>0</th>\n",
       "      <td>000011fc-813d-466b-972a-a2a0fa251495</td>\n",
       "      <td>52320145827190000740175</td>\n",
       "      <td>0</td>\n",
       "      <td>0.0</td>\n",
       "      <td>31907889453 На право заключения договора поста...</td>\n",
       "      <td>None</td>\n",
       "      <td>0</td>\n",
       "      <td>0</td>\n",
       "      <td>0</td>\n",
       "      <td>0.0</td>\n",
       "      <td>...</td>\n",
       "      <td>2019-06-09</td>\n",
       "      <td>2020-12-30</td>\n",
       "      <td>0</td>\n",
       "      <td>1</td>\n",
       "      <td>NaN</td>\n",
       "      <td>None</td>\n",
       "      <td>None</td>\n",
       "      <td>None</td>\n",
       "      <td>None</td>\n",
       "      <td>Krasnodarskii_krai</td>\n",
       "    </tr>\n",
       "    <tr>\n",
       "      <th>1</th>\n",
       "      <td>00001ae1-4f7a-42c3-bec5-9520842e3e96</td>\n",
       "      <td>57727086772210001330001</td>\n",
       "      <td>0</td>\n",
       "      <td>1.0</td>\n",
       "      <td>None</td>\n",
       "      <td>None</td>\n",
       "      <td>0</td>\n",
       "      <td>0</td>\n",
       "      <td>0</td>\n",
       "      <td>0.0</td>\n",
       "      <td>...</td>\n",
       "      <td>2021-06-20</td>\n",
       "      <td>2021-08-15</td>\n",
       "      <td>0</td>\n",
       "      <td>1</td>\n",
       "      <td>NaN</td>\n",
       "      <td>None</td>\n",
       "      <td>None</td>\n",
       "      <td>None</td>\n",
       "      <td>None</td>\n",
       "      <td>Moskva</td>\n",
       "    </tr>\n",
       "    <tr>\n",
       "      <th>2</th>\n",
       "      <td>0000340e-b6cb-4c81-9b90-9f0ca6922f79</td>\n",
       "      <td>87725276584210000090001</td>\n",
       "      <td>0</td>\n",
       "      <td>1.0</td>\n",
       "      <td>None</td>\n",
       "      <td>None</td>\n",
       "      <td>0</td>\n",
       "      <td>0</td>\n",
       "      <td>0</td>\n",
       "      <td>0.0</td>\n",
       "      <td>...</td>\n",
       "      <td>2021-01-26</td>\n",
       "      <td>2021-02-09</td>\n",
       "      <td>0</td>\n",
       "      <td>1</td>\n",
       "      <td>NaN</td>\n",
       "      <td>None</td>\n",
       "      <td>None</td>\n",
       "      <td>None</td>\n",
       "      <td>None</td>\n",
       "      <td>Moskva</td>\n",
       "    </tr>\n",
       "    <tr>\n",
       "      <th>3</th>\n",
       "      <td>00005251-4234-4b39-9de1-87e63d6887bf</td>\n",
       "      <td>57702060116190000520003</td>\n",
       "      <td>0</td>\n",
       "      <td>1.0</td>\n",
       "      <td>None</td>\n",
       "      <td>None</td>\n",
       "      <td>0</td>\n",
       "      <td>0</td>\n",
       "      <td>0</td>\n",
       "      <td>0.0</td>\n",
       "      <td>...</td>\n",
       "      <td>2019-03-21</td>\n",
       "      <td>2021-09-29</td>\n",
       "      <td>0</td>\n",
       "      <td>1</td>\n",
       "      <td>NaN</td>\n",
       "      <td>None</td>\n",
       "      <td>None</td>\n",
       "      <td>None</td>\n",
       "      <td>None</td>\n",
       "      <td>Sankt-Peterburg</td>\n",
       "    </tr>\n",
       "    <tr>\n",
       "      <th>4</th>\n",
       "      <td>00005575-a566-4d95-b2c4-f62459667092</td>\n",
       "      <td>52320145827190000220048</td>\n",
       "      <td>0</td>\n",
       "      <td>0.0</td>\n",
       "      <td>31907493645 Поставка чернослива сушенного без ...</td>\n",
       "      <td>None</td>\n",
       "      <td>0</td>\n",
       "      <td>0</td>\n",
       "      <td>0</td>\n",
       "      <td>0.0</td>\n",
       "      <td>...</td>\n",
       "      <td>None</td>\n",
       "      <td>2021-01-30</td>\n",
       "      <td>0</td>\n",
       "      <td>1</td>\n",
       "      <td>NaN</td>\n",
       "      <td>None</td>\n",
       "      <td>None</td>\n",
       "      <td>None</td>\n",
       "      <td>None</td>\n",
       "      <td>Krasnodarskii_krai</td>\n",
       "    </tr>\n",
       "  </tbody>\n",
       "</table>\n",
       "<p>5 rows × 61 columns</p>\n",
       "</div>"
      ],
      "text/plain": [
       "                                   guid      registration_number  notice_44fz  \\\n",
       "0  000011fc-813d-466b-972a-a2a0fa251495  52320145827190000740175            0   \n",
       "1  00001ae1-4f7a-42c3-bec5-9520842e3e96  57727086772210001330001            0   \n",
       "2  0000340e-b6cb-4c81-9b90-9f0ca6922f79  87725276584210000090001            0   \n",
       "3  00005251-4234-4b39-9de1-87e63d6887bf  57702060116190000520003            0   \n",
       "4  00005575-a566-4d95-b2c4-f62459667092  52320145827190000220048            0   \n",
       "\n",
       "   notice_not_placed_by_fz223p5s4  \\\n",
       "0                             0.0   \n",
       "1                             1.0   \n",
       "2                             1.0   \n",
       "3                             1.0   \n",
       "4                             0.0   \n",
       "\n",
       "                                       notice_44_num lot_44_num  termination  \\\n",
       "0  31907889453 На право заключения договора поста...       None            0   \n",
       "1                                               None       None            0   \n",
       "2                                               None       None            0   \n",
       "3                                               None       None            0   \n",
       "4  31907493645 Поставка чернослива сушенного без ...       None            0   \n",
       "\n",
       "   extension  prolongation  customer_appeale_or_needs_approval  ...  \\\n",
       "0          0             0                                 0.0  ...   \n",
       "1          0             0                                 0.0  ...   \n",
       "2          0             0                                 0.0  ...   \n",
       "3          0             0                                 0.0  ...   \n",
       "4          0             0                                 0.0  ...   \n",
       "\n",
       "  start_execution_date end_execution_date has_okpd_and_okdp_rows  \\\n",
       "0           2019-06-09         2020-12-30                      0   \n",
       "1           2021-06-20         2021-08-15                      0   \n",
       "2           2021-01-26         2021-02-09                      0   \n",
       "3           2019-03-21         2021-09-29                      0   \n",
       "4                 None         2021-01-30                      0   \n",
       "\n",
       "  has_okpd2_rows is_electronic_place electronic_place_name  \\\n",
       "0              1                 NaN                  None   \n",
       "1              1                 NaN                  None   \n",
       "2              1                 NaN                  None   \n",
       "3              1                 NaN                  None   \n",
       "4              1                 NaN                  None   \n",
       "\n",
       "  electronic_place_url electronic_place_publish_date electronic_place_guid  \\\n",
       "0                 None                          None                  None   \n",
       "1                 None                          None                  None   \n",
       "2                 None                          None                  None   \n",
       "3                 None                          None                  None   \n",
       "4                 None                          None                  None   \n",
       "\n",
       "          region_name  \n",
       "0  Krasnodarskii_krai  \n",
       "1              Moskva  \n",
       "2              Moskva  \n",
       "3     Sankt-Peterburg  \n",
       "4  Krasnodarskii_krai  \n",
       "\n",
       "[5 rows x 61 columns]"
      ]
     },
     "execution_count": 44,
     "metadata": {},
     "output_type": "execute_result"
    }
   ],
   "source": [
    "contracts = pd.read_sql_query(\"SELECT * FROM contract\", conn)\n",
    "\n",
    "contracts.head()"
   ]
  },
  {
   "cell_type": "code",
   "execution_count": 45,
   "metadata": {},
   "outputs": [
    {
     "data": {
      "text/plain": [
       "Index(['guid', 'registration_number', 'notice_44fz',\n",
       "       'notice_not_placed_by_fz223p5s4', 'notice_44_num', 'lot_44_num',\n",
       "       'termination', 'extension', 'prolongation',\n",
       "       'customer_appeale_or_needs_approval',\n",
       "       'customer_approval_or_antimonopoly_descision_date',\n",
       "       'start_execution_term', 'end_execution_term', 'plan_position_guid',\n",
       "       'url_eis', 'url_vsrz', 'url_kis_rmis', 'create_date_time',\n",
       "       'customer_inn', 'placer_inn', 'detached_org_inn', 'publication_date',\n",
       "       'contract_status_code', 'version', 'modification_description',\n",
       "       'digital_purchase', 'digital_purchase_code', 'emergency', 'provider',\n",
       "       'provider_code', 'change_contract', 'contract_reg_number', 'name',\n",
       "       'contract_date', 'approve_date', 'purchase_notice_info_guid',\n",
       "       'purchase_notice_info_number', 'lot_guid', 'subject_contract',\n",
       "       'purchase_type_code', 'resume_date', 'has_subcontractor',\n",
       "       'has_subcontractor_code', 'subcontractors_total', 'has_good_info',\n",
       "       'additional_info', 'price', 'exchange_rate', 'exchange_rate_date',\n",
       "       'rub_price', 'currency_code', 'start_execution_date',\n",
       "       'end_execution_date', 'has_okpd_and_okdp_rows', 'has_okpd2_rows',\n",
       "       'is_electronic_place', 'electronic_place_name', 'electronic_place_url',\n",
       "       'electronic_place_publish_date', 'electronic_place_guid',\n",
       "       'region_name'],\n",
       "      dtype='object')"
      ]
     },
     "execution_count": 45,
     "metadata": {},
     "output_type": "execute_result"
    }
   ],
   "source": [
    "contracts.columns"
   ]
  },
  {
   "cell_type": "code",
   "execution_count": null,
   "metadata": {},
   "outputs": [],
   "source": []
  }
 ],
 "metadata": {
  "kernelspec": {
   "display_name": "Python 3",
   "language": "python",
   "name": "python3"
  },
  "language_info": {
   "codemirror_mode": {
    "name": "ipython",
    "version": 3
   },
   "file_extension": ".py",
   "mimetype": "text/x-python",
   "name": "python",
   "nbconvert_exporter": "python",
   "pygments_lexer": "ipython3",
   "version": "3.8.8"
  }
 },
 "nbformat": 4,
 "nbformat_minor": 2
}