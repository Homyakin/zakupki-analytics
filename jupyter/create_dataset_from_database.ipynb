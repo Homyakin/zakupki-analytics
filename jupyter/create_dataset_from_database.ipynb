{
 "cells": [
  {
   "cell_type": "code",
   "execution_count": 1,
   "metadata": {
    "collapsed": true
   },
   "outputs": [],
   "source": [
    "import sqlite3\n",
    "import pandas as pd"
   ]
  },
  {
   "cell_type": "markdown",
   "source": [
    "### Подключение к БД"
   ],
   "metadata": {
    "collapsed": false,
    "pycharm": {
     "name": "#%% md\n"
    }
   }
  },
  {
   "cell_type": "code",
   "execution_count": 2,
   "outputs": [],
   "source": [
    "conn = sqlite3.connect(\"data.db\")\n",
    "\n",
    "# Необходимо уметь приводить все символы к нижнему регистру, sqlite умеет только англ\n",
    "def sqlite_lower(value_):\n",
    "    return str(value_).lower()\n",
    "\n",
    "\n",
    "conn.create_function(\"LOWER\", 1, sqlite_lower)\n",
    "conn.commit()"
   ],
   "metadata": {
    "collapsed": false,
    "pycharm": {
     "name": "#%%\n"
    }
   }
  },
  {
   "cell_type": "markdown",
   "source": [
    "Выбираем все договоры самой старшей версии с меткой emergency - \"Закупка осуществляется вследствие аварии,\n",
    " иных чрезвычайных ситуаций природного или техногенного характера, непреодолимой силы,\n",
    " принеобходимости срочного медицинского вмешательства, а также для предотвращения угрозы\n",
    " возникновения указанных ситуаций\""
   ],
   "metadata": {
    "collapsed": false,
    "pycharm": {
     "name": "#%% md\n"
    }
   }
  },
  {
   "cell_type": "code",
   "execution_count": 3,
   "outputs": [
    {
     "data": {
      "text/plain": "                              contract_guid contract_registration_number  \\\n0      00015975-9c32-4b00-922d-7ab2866d3cf7      51433000147200015550001   \n1      000dc3f6-e39c-456b-b321-5486e2d8b78e      76652022897210001260001   \n2      000efbce-29cc-4fda-ba27-e5b895f5b6ad      56684021776200003580001   \n3      000f310c-5934-4d63-be2e-74dd4c99e301      56611000527200002950001   \n4      000f8c11-eddc-4ce8-9929-5ab452d10a1e      53525090553210005360001   \n...                                     ...                          ...   \n17445  fff92ffe-8c3f-443f-8ca1-54b8cb98bb64      53801013663210002050001   \n17446  fffa65c3-f306-4bf8-a55c-89d740483fc5      57702070139200015180001   \n17447  fffaff02-11f4-4936-9d2c-01cc2b4c1c8d      58601053210200000270001   \n17448  fffb9623-244a-4c27-b1c7-4518ab6412bd      51431004812210000980001   \n17449  fffe1238-7e9b-4cbb-9162-7eb5e7910974      53812014556210000650001   \n\n       notice_not_placed_by_fz223p5s4  contract_extension  \\\n0                                   1                   0   \n1                                   1                   0   \n2                                   0                   1   \n3                                   1                   0   \n4                                   1                   0   \n...                               ...                 ...   \n17445                               1                   0   \n17446                               1                   0   \n17447                               1                   0   \n17448                               0                   0   \n17449                               1                   0   \n\n       contract_prolongation  customer_appeale_or_needs_approval  \\\n0                          0                                   0   \n1                          0                                   0   \n2                          0                                   0   \n3                          0                                   0   \n4                          0                                   0   \n...                      ...                                 ...   \n17445                      0                                   0   \n17446                      0                                   0   \n17447                      0                                   0   \n17448                      0                                   0   \n17449                      0                                   0   \n\n      customer_approval_or_antimonopoly_descision_date  \\\n0                                                 None   \n1                                                 None   \n2                                                 None   \n3                                                 None   \n4                                                 None   \n...                                                ...   \n17445                                             None   \n17446                                             None   \n17447                                             None   \n17448                                             None   \n17449                                             None   \n\n                contract_plan_position_guid contract_create_date_time  \\\n0                                      None       2020-12-01 00:32:23   \n1      40451834-df9b-11eb-b80c-b8cef612661b       2021-07-23 04:46:32   \n2                                      None       2020-12-02 05:02:53   \n3      ed850d8e-b314-4c08-92b1-e49429220e75       2020-10-27 06:07:26   \n4      28a29269-17d5-4d94-9575-bf0f78cba757       2021-08-20 11:01:01   \n...                                     ...                       ...   \n17445                                  None       2021-10-04 02:31:36   \n17446                                  None       2020-06-04 06:38:35   \n17447                                  None       2020-10-02 05:04:25   \n17448                                  None       2021-07-07 09:05:27   \n17449  999009e9-12a2-4817-a43a-f5fa7c88cb31       2021-04-29 05:51:01   \n\n      contract_customer_inn  ... purchase_notice_info_number  \\\n0                1433000147  ...                        None   \n1                6652022897  ...                        None   \n2                6684021776  ...                 32009740825   \n3                6611000527  ...                        None   \n4                3525090553  ...                        None   \n...                     ...  ...                         ...   \n17445            3801013663  ...                        None   \n17446            7702070139  ...                        None   \n17447            8601053210  ...                        None   \n17448            1431004812  ...                 32110451253   \n17449            3812014556  ...                        None   \n\n                                   lot_guid  \\\n0                                      None   \n1                                      None   \n2      0621d71c-65f9-4181-81d5-b9e077fab7ef   \n3                                      None   \n4                                      None   \n...                                     ...   \n17445                                  None   \n17446                                  None   \n17447                                  None   \n17448  89d200ae-e338-463b-89b3-0cf5955eee3c   \n17449                                  None   \n\n                                        subject_contract purchase_type_code  \\\n0                                                   None              30000   \n1      1719-2021-00259. Выполнение работ по ремонту э...              30000   \n2                      Поставка лекарственных препаратов              40000   \n3                                 Поставка СИЗ: перчатки              30000   \n4                       Услуги по тушению лесных пожаров              30000   \n...                                                  ...                ...   \n17445        Поставка лекарственного препарата (гепарин)              30000   \n17446                         Поставка масок одноразовых              30000   \n17447  неисключительное право на воспроизведение прог...              30000   \n17448          Поставка лекарственных средств (артлегиа)              40000   \n17449  Поставка изделий медицинского назначения (комп...              30000   \n\n       contract_price  contract_rub_price contract_currency_code  \\\n0          5342400.00                 NaN                    RUB   \n1           119400.00            119400.0                    RUB   \n2          2453075.00           2453075.0                    RUB   \n3           240800.00            240800.0                    RUB   \n4           894702.89                 NaN                    RUB   \n...               ...                 ...                    ...   \n17445       134164.00                 NaN                    RUB   \n17446      2800000.00                 NaN                    RUB   \n17447       125037.20                 NaN                    RUB   \n17448       600600.00                 NaN                    RUB   \n17449      2042000.00                 NaN                    RUB   \n\n      contract_start_execution_date contract_end_execution_date  \\\n0                        2020-10-15                  2020-12-17   \n1                        2021-07-21                  2021-08-20   \n2                        2020-11-29                  2021-02-27   \n3                        2020-10-25                  2020-12-30   \n4                        2021-07-17                  2021-09-29   \n...                             ...                         ...   \n17445                    2021-10-03                  2021-10-30   \n17446                    2020-05-18                  2020-06-03   \n17447                    2020-10-01                  2020-12-30   \n17448                    2021-07-06                  2021-12-30   \n17449                    2021-04-26                  2021-08-28   \n\n                        region_name  \n0                Saha_Jakutiya_Resp  \n1                 Sverdlovskaya_obl  \n2                 Sverdlovskaya_obl  \n3                 Sverdlovskaya_obl  \n4                  Vologodskaya_obl  \n...                             ...  \n17445                Irkutskaya_obl  \n17446               Sankt-Peterburg  \n17447  Hanty-Mansiiskii_AO_Iugra_AO  \n17448            Saha_Jakutiya_Resp  \n17449                Irkutskaya_obl  \n\n[17450 rows x 31 columns]",
      "text/html": "<div>\n<style scoped>\n    .dataframe tbody tr th:only-of-type {\n        vertical-align: middle;\n    }\n\n    .dataframe tbody tr th {\n        vertical-align: top;\n    }\n\n    .dataframe thead th {\n        text-align: right;\n    }\n</style>\n<table border=\"1\" class=\"dataframe\">\n  <thead>\n    <tr style=\"text-align: right;\">\n      <th></th>\n      <th>contract_guid</th>\n      <th>contract_registration_number</th>\n      <th>notice_not_placed_by_fz223p5s4</th>\n      <th>contract_extension</th>\n      <th>contract_prolongation</th>\n      <th>customer_appeale_or_needs_approval</th>\n      <th>customer_approval_or_antimonopoly_descision_date</th>\n      <th>contract_plan_position_guid</th>\n      <th>contract_create_date_time</th>\n      <th>contract_customer_inn</th>\n      <th>...</th>\n      <th>purchase_notice_info_number</th>\n      <th>lot_guid</th>\n      <th>subject_contract</th>\n      <th>purchase_type_code</th>\n      <th>contract_price</th>\n      <th>contract_rub_price</th>\n      <th>contract_currency_code</th>\n      <th>contract_start_execution_date</th>\n      <th>contract_end_execution_date</th>\n      <th>region_name</th>\n    </tr>\n  </thead>\n  <tbody>\n    <tr>\n      <th>0</th>\n      <td>00015975-9c32-4b00-922d-7ab2866d3cf7</td>\n      <td>51433000147200015550001</td>\n      <td>1</td>\n      <td>0</td>\n      <td>0</td>\n      <td>0</td>\n      <td>None</td>\n      <td>None</td>\n      <td>2020-12-01 00:32:23</td>\n      <td>1433000147</td>\n      <td>...</td>\n      <td>None</td>\n      <td>None</td>\n      <td>None</td>\n      <td>30000</td>\n      <td>5342400.00</td>\n      <td>NaN</td>\n      <td>RUB</td>\n      <td>2020-10-15</td>\n      <td>2020-12-17</td>\n      <td>Saha_Jakutiya_Resp</td>\n    </tr>\n    <tr>\n      <th>1</th>\n      <td>000dc3f6-e39c-456b-b321-5486e2d8b78e</td>\n      <td>76652022897210001260001</td>\n      <td>1</td>\n      <td>0</td>\n      <td>0</td>\n      <td>0</td>\n      <td>None</td>\n      <td>40451834-df9b-11eb-b80c-b8cef612661b</td>\n      <td>2021-07-23 04:46:32</td>\n      <td>6652022897</td>\n      <td>...</td>\n      <td>None</td>\n      <td>None</td>\n      <td>1719-2021-00259. Выполнение работ по ремонту э...</td>\n      <td>30000</td>\n      <td>119400.00</td>\n      <td>119400.0</td>\n      <td>RUB</td>\n      <td>2021-07-21</td>\n      <td>2021-08-20</td>\n      <td>Sverdlovskaya_obl</td>\n    </tr>\n    <tr>\n      <th>2</th>\n      <td>000efbce-29cc-4fda-ba27-e5b895f5b6ad</td>\n      <td>56684021776200003580001</td>\n      <td>0</td>\n      <td>1</td>\n      <td>0</td>\n      <td>0</td>\n      <td>None</td>\n      <td>None</td>\n      <td>2020-12-02 05:02:53</td>\n      <td>6684021776</td>\n      <td>...</td>\n      <td>32009740825</td>\n      <td>0621d71c-65f9-4181-81d5-b9e077fab7ef</td>\n      <td>Поставка лекарственных препаратов</td>\n      <td>40000</td>\n      <td>2453075.00</td>\n      <td>2453075.0</td>\n      <td>RUB</td>\n      <td>2020-11-29</td>\n      <td>2021-02-27</td>\n      <td>Sverdlovskaya_obl</td>\n    </tr>\n    <tr>\n      <th>3</th>\n      <td>000f310c-5934-4d63-be2e-74dd4c99e301</td>\n      <td>56611000527200002950001</td>\n      <td>1</td>\n      <td>0</td>\n      <td>0</td>\n      <td>0</td>\n      <td>None</td>\n      <td>ed850d8e-b314-4c08-92b1-e49429220e75</td>\n      <td>2020-10-27 06:07:26</td>\n      <td>6611000527</td>\n      <td>...</td>\n      <td>None</td>\n      <td>None</td>\n      <td>Поставка СИЗ: перчатки</td>\n      <td>30000</td>\n      <td>240800.00</td>\n      <td>240800.0</td>\n      <td>RUB</td>\n      <td>2020-10-25</td>\n      <td>2020-12-30</td>\n      <td>Sverdlovskaya_obl</td>\n    </tr>\n    <tr>\n      <th>4</th>\n      <td>000f8c11-eddc-4ce8-9929-5ab452d10a1e</td>\n      <td>53525090553210005360001</td>\n      <td>1</td>\n      <td>0</td>\n      <td>0</td>\n      <td>0</td>\n      <td>None</td>\n      <td>28a29269-17d5-4d94-9575-bf0f78cba757</td>\n      <td>2021-08-20 11:01:01</td>\n      <td>3525090553</td>\n      <td>...</td>\n      <td>None</td>\n      <td>None</td>\n      <td>Услуги по тушению лесных пожаров</td>\n      <td>30000</td>\n      <td>894702.89</td>\n      <td>NaN</td>\n      <td>RUB</td>\n      <td>2021-07-17</td>\n      <td>2021-09-29</td>\n      <td>Vologodskaya_obl</td>\n    </tr>\n    <tr>\n      <th>...</th>\n      <td>...</td>\n      <td>...</td>\n      <td>...</td>\n      <td>...</td>\n      <td>...</td>\n      <td>...</td>\n      <td>...</td>\n      <td>...</td>\n      <td>...</td>\n      <td>...</td>\n      <td>...</td>\n      <td>...</td>\n      <td>...</td>\n      <td>...</td>\n      <td>...</td>\n      <td>...</td>\n      <td>...</td>\n      <td>...</td>\n      <td>...</td>\n      <td>...</td>\n      <td>...</td>\n    </tr>\n    <tr>\n      <th>17445</th>\n      <td>fff92ffe-8c3f-443f-8ca1-54b8cb98bb64</td>\n      <td>53801013663210002050001</td>\n      <td>1</td>\n      <td>0</td>\n      <td>0</td>\n      <td>0</td>\n      <td>None</td>\n      <td>None</td>\n      <td>2021-10-04 02:31:36</td>\n      <td>3801013663</td>\n      <td>...</td>\n      <td>None</td>\n      <td>None</td>\n      <td>Поставка лекарственного препарата (гепарин)</td>\n      <td>30000</td>\n      <td>134164.00</td>\n      <td>NaN</td>\n      <td>RUB</td>\n      <td>2021-10-03</td>\n      <td>2021-10-30</td>\n      <td>Irkutskaya_obl</td>\n    </tr>\n    <tr>\n      <th>17446</th>\n      <td>fffa65c3-f306-4bf8-a55c-89d740483fc5</td>\n      <td>57702070139200015180001</td>\n      <td>1</td>\n      <td>0</td>\n      <td>0</td>\n      <td>0</td>\n      <td>None</td>\n      <td>None</td>\n      <td>2020-06-04 06:38:35</td>\n      <td>7702070139</td>\n      <td>...</td>\n      <td>None</td>\n      <td>None</td>\n      <td>Поставка масок одноразовых</td>\n      <td>30000</td>\n      <td>2800000.00</td>\n      <td>NaN</td>\n      <td>RUB</td>\n      <td>2020-05-18</td>\n      <td>2020-06-03</td>\n      <td>Sankt-Peterburg</td>\n    </tr>\n    <tr>\n      <th>17447</th>\n      <td>fffaff02-11f4-4936-9d2c-01cc2b4c1c8d</td>\n      <td>58601053210200000270001</td>\n      <td>1</td>\n      <td>0</td>\n      <td>0</td>\n      <td>0</td>\n      <td>None</td>\n      <td>None</td>\n      <td>2020-10-02 05:04:25</td>\n      <td>8601053210</td>\n      <td>...</td>\n      <td>None</td>\n      <td>None</td>\n      <td>неисключительное право на воспроизведение прог...</td>\n      <td>30000</td>\n      <td>125037.20</td>\n      <td>NaN</td>\n      <td>RUB</td>\n      <td>2020-10-01</td>\n      <td>2020-12-30</td>\n      <td>Hanty-Mansiiskii_AO_Iugra_AO</td>\n    </tr>\n    <tr>\n      <th>17448</th>\n      <td>fffb9623-244a-4c27-b1c7-4518ab6412bd</td>\n      <td>51431004812210000980001</td>\n      <td>0</td>\n      <td>0</td>\n      <td>0</td>\n      <td>0</td>\n      <td>None</td>\n      <td>None</td>\n      <td>2021-07-07 09:05:27</td>\n      <td>1431004812</td>\n      <td>...</td>\n      <td>32110451253</td>\n      <td>89d200ae-e338-463b-89b3-0cf5955eee3c</td>\n      <td>Поставка лекарственных средств (артлегиа)</td>\n      <td>40000</td>\n      <td>600600.00</td>\n      <td>NaN</td>\n      <td>RUB</td>\n      <td>2021-07-06</td>\n      <td>2021-12-30</td>\n      <td>Saha_Jakutiya_Resp</td>\n    </tr>\n    <tr>\n      <th>17449</th>\n      <td>fffe1238-7e9b-4cbb-9162-7eb5e7910974</td>\n      <td>53812014556210000650001</td>\n      <td>1</td>\n      <td>0</td>\n      <td>0</td>\n      <td>0</td>\n      <td>None</td>\n      <td>999009e9-12a2-4817-a43a-f5fa7c88cb31</td>\n      <td>2021-04-29 05:51:01</td>\n      <td>3812014556</td>\n      <td>...</td>\n      <td>None</td>\n      <td>None</td>\n      <td>Поставка изделий медицинского назначения (комп...</td>\n      <td>30000</td>\n      <td>2042000.00</td>\n      <td>NaN</td>\n      <td>RUB</td>\n      <td>2021-04-26</td>\n      <td>2021-08-28</td>\n      <td>Irkutskaya_obl</td>\n    </tr>\n  </tbody>\n</table>\n<p>17450 rows × 31 columns</p>\n</div>"
     },
     "execution_count": 3,
     "metadata": {},
     "output_type": "execute_result"
    }
   ],
   "source": [
    "covid_contracts = pd.read_sql_query(\n",
    "    \"\"\"\n",
    "    SELECT c.guid as contract_guid, c.registration_number as contract_registration_number,\n",
    "    c.notice_not_placed_by_fz223p5s4 as notice_not_placed_by_fz223p5s4,\n",
    "    c.extension as contract_extension, c.prolongation as contract_prolongation,\n",
    "    c.customer_appeale_or_needs_approval as customer_appeale_or_needs_approval,\n",
    "    c.customer_approval_or_antimonopoly_descision_date as customer_approval_or_antimonopoly_descision_date,\n",
    "    c.plan_position_guid as contract_plan_position_guid,\n",
    "    c.create_date_time as contract_create_date_time,\n",
    "    c.customer_inn as contract_customer_inn, c.placer_inn as contract_placer_inn, c.detached_org_inn as contract_detached_org_inn,\n",
    "    c.publication_date as contract_publication_date, c.contract_status_code as contract_publication_date,\n",
    "    c.emergency as emergency, c.provider as provider, c.provider_code as provider_code, c.contract_reg_number as contract_reg_number,\n",
    "    c.contract_date as contract_date, c.digital_purchase as digital_purchase,\n",
    "    c.purchase_notice_info_guid as purchase_notice_info_guid, c.purchase_notice_info_number as purchase_notice_info_number,\n",
    "    c.lot_guid as lot_guid, c.subject_contract as subject_contract, c.purchase_type_code as purchase_type_code,\n",
    "    c.price as contract_price, c.rub_price as contract_rub_price, c.currency_code as contract_currency_code,\n",
    "    c.start_execution_date as contract_start_execution_date, c.end_execution_date as contract_end_execution_date,\n",
    "    c.region_name as region_name\n",
    "    FROM contract c\n",
    "    INNER JOIN (\n",
    "        SELECT contract_reg_number, MAX(version) ver\n",
    "        FROM contract\n",
    "        WHERE emergency = 1\n",
    "        GROUP BY contract_reg_number\n",
    "    ) tmp ON c.contract_reg_number = tmp.contract_reg_number AND c.version = tmp.ver\n",
    "    \"\"\",\n",
    "    conn\n",
    ")\n",
    "\n",
    "covid_contracts"
   ],
   "metadata": {
    "collapsed": false,
    "pycharm": {
     "name": "#%%\n"
    }
   }
  },
  {
   "cell_type": "markdown",
   "source": [
    "Для дальнейшего анализа необходимо проверить наличие поля с указанием лота"
   ],
   "metadata": {
    "collapsed": false,
    "pycharm": {
     "name": "#%% md\n"
    }
   }
  },
  {
   "cell_type": "code",
   "execution_count": 4,
   "outputs": [
    {
     "name": "stdout",
     "output_type": "stream",
     "text": [
      "Количество \"ковидных\" договоров: 17450\n",
      "Количество \"ковидных\" договоров с указанием лота: 8070\n"
     ]
    }
   ],
   "source": [
    "covid_contracts_with_not_null_lot = covid_contracts[covid_contracts[\"lot_guid\"].notnull()]\n",
    "\n",
    "print(f'Количество \"ковидных\" договоров: {covid_contracts.shape[0]}')\n",
    "print(f'Количество \"ковидных\" договоров с указанием лота: {covid_contracts_with_not_null_lot.shape[0]}')"
   ],
   "metadata": {
    "collapsed": false,
    "pycharm": {
     "name": "#%%\n"
    }
   }
  },
  {
   "cell_type": "markdown",
   "source": [
    "Договоры без указания lot_guid, это те где извещение не размещалось в соответствии\n",
    "с частью 5 статьи 4 Федерального Закона № 223-ФЗ, например https://zakupki.gov.ru/epz/contractfz223/card/contract-info.html?id=9268727\n",
    "\n",
    "Для выборки будем использовать только те договоры, в которых присутствуют лоты"
   ],
   "metadata": {
    "collapsed": false,
    "pycharm": {
     "name": "#%% md\n"
    }
   }
  },
  {
   "cell_type": "markdown",
   "source": [
    "К сожалению, полученная выборка слишком мала. Попробуем расширить её, использую предмет договора"
   ],
   "metadata": {
    "collapsed": false,
    "pycharm": {
     "name": "#%% md\n"
    }
   }
  },
  {
   "cell_type": "code",
   "execution_count": 5,
   "outputs": [],
   "source": [
    "COVID_CONDITIONS = \"\"\" (\n",
    "emergency = 1\n",
    "or lower(subject_contract) like '%sars%cov%'\n",
    "or lower(subject_contract) like '%covid%'\n",
    "or lower(subject_contract) like '%коронавирус%'\n",
    "or lower(subject_contract) like '%противовирусн%'\n",
    "or lower(subject_contract) like '%пцр%'\n",
    "or lower(subject_contract) like '%пандеми%'\n",
    "or lower(subject_contract) like '%маск%медицинск%'\n",
    "or lower(subject_contract) like '%медицинск%маск%'\n",
    "or lower(subject_contract) like '%медицинск%масок%'\n",
    "or lower(subject_contract) like '%дезинфекц%'\n",
    "or lower(subject_contract) like '%дезинфиц%'\n",
    "or lower(subject_contract) like '%аппарат%ивл%'\n",
    "or lower(subject_contract) like '%искусственн%вентиляц%л_гк%'\n",
    "or lower(subject_contract) like '%масок%медицинск%'\n",
    "or lower(subject_contract) like '%одноразов%масок%'\n",
    "or lower(subject_contract) like '%одноразов%маск%'\n",
    "or lower(subject_contract) like '%маск%одноразов%'\n",
    "or lower(subject_contract) like '%масок%одноразов%'\n",
    "or lower(subject_contract) like '%антисепти%'\n",
    "or lower(subject_contract) like '%термометр%'\n",
    "or lower(subject_contract) like '%контрол%температур%'\n",
    "or lower(subject_contract) like '%медицинск%перчат%'\n",
    "or lower(subject_contract) like '%перчат%медицинск%'\n",
    "or lower(subject_contract) like '%медиц%кислород%'\n",
    "or lower(subject_contract) like '%кислород%медиц%'\n",
    "or lower(subject_contract) like '%пневмони%'\n",
    "or lower(subject_contract) like '%спутник v%'\n",
    "or lower(subject_contract) like '%гам_ковид_вак%'\n",
    "or (lower(subject_contract) like '%эпидеми%' and lower(subject_contract) not like '%эпидемиолог%')\n",
    "or lower(subject_contract) like '%эпидемиологич%'\n",
    "or lower(subject_contract) like '%спутник лайт%'\n",
    "or lower(subject_contract) like '%ковивак%'\n",
    "or lower(subject_contract) like '%эпиваккорона%'\n",
    "or lower(subject_contract) like '%пункт%вакцин%'\n",
    "or lower(subject_contract) like '%ковид%'\n",
    "or lower(subject_contract) like '%масоч%режим%'\n",
    "or lower(subject_contract) like '%красн__ зон%'\n",
    "or lower(subject_contract) like '%qr_ко%'\n",
    "or lower(subject_contract) like '%самоизоляци%'\n",
    "or lower(subject_contract) like '%обеззараживан%'\n",
    "or lower(subject_contract) like '%дезинсекц%'\n",
    "or lower(subject_contract) like '%ncov%'\n",
    "or lower(subject_contract) like '%систем%ивл%'\n",
    ")\n",
    "\"\"\"\n",
    "\n",
    "cur = conn.cursor()\n",
    "cur.execute(\n",
    "    f\"\"\"\n",
    "    CREATE TABLE IF NOT EXISTS covid_contracts AS\n",
    "    SELECT c.*\n",
    "    FROM contract c\n",
    "    INNER JOIN (\n",
    "        SELECT contract_reg_number, MAX(version) ver\n",
    "        FROM contract\n",
    "        WHERE {COVID_CONDITIONS}\n",
    "        AND lot_guid is not null\n",
    "        GROUP BY contract_reg_number\n",
    "    ) tmp ON c.contract_reg_number = tmp.contract_reg_number AND c.version = tmp.ver\n",
    "    \"\"\"\n",
    ")\n",
    "cur.close()\n",
    "conn.commit()\n"
   ],
   "metadata": {
    "collapsed": false,
    "pycharm": {
     "name": "#%%\n"
    }
   }
  },
  {
   "cell_type": "code",
   "execution_count": 6,
   "outputs": [
    {
     "data": {
      "text/plain": "                                       guid      registration_number  \\\n0      00026a57-3035-45cd-9a0b-598d5b233a6b  57017000450210000030001   \n1      000423c7-4053-4a7d-adad-7466492a6198  52801022680210002500001   \n2      0004ff4b-67ff-42b6-a163-88e556affbeb  50274946336210000830007   \n3      0007160a-a5e1-4bad-8972-40b730a5f1de  57534000240180001540114   \n4      00099013-c9e2-4e87-ac41-10449a63ed0d  56662021300210000410001   \n...                                     ...                      ...   \n38554  fff6f724-be51-4180-930f-41999fdd5497  51435149216210002250001   \n38555  fff8c702-ba6a-48c2-90d4-67c2c857cfd1  67725038124200003980001   \n38556  fff8e8de-86d6-413a-b072-3dc7c247fff0  54223127015210004910006   \n38557  fffb9623-244a-4c27-b1c7-4518ab6412bd  51431004812210000980001   \n38558  fffc951e-8b19-4069-8a04-bd4242859bbb  67704759968200001230003   \n\n       notice_44fz  notice_not_placed_by_fz223p5s4  \\\n0                0                             0.0   \n1                0                             0.0   \n2                0                             0.0   \n3                0                             0.0   \n4                0                             0.0   \n...            ...                             ...   \n38554            0                             0.0   \n38555            0                             0.0   \n38556            0                             0.0   \n38557            0                             0.0   \n38558            0                             0.0   \n\n                                           notice_44_num lot_44_num  \\\n0                                                   None       None   \n1                                                   None       None   \n2      32110081850 Поставка моющих и дезинфицирующих ...       None   \n3                                                   None       None   \n4                                                   None       None   \n...                                                  ...        ...   \n38554                                               None       None   \n38555                                               None       None   \n38556                                               None       None   \n38557                                               None       None   \n38558                                               None       None   \n\n       termination  extension  prolongation  \\\n0                0          0             0   \n1                0          0             0   \n2                0          0             0   \n3                0          0             0   \n4                0          0             0   \n...            ...        ...           ...   \n38554            0          0             0   \n38555            0          0             0   \n38556            1          1             0   \n38557            0          0             0   \n38558            0          0             0   \n\n       customer_appeale_or_needs_approval  ... start_execution_date  \\\n0                                     0.0  ...           2021-01-11   \n1                                     0.0  ...           2021-12-22   \n2                                     0.0  ...           2021-04-19   \n3                                     0.0  ...           2018-11-20   \n4                                     0.0  ...           2021-12-31   \n...                                   ...  ...                  ...   \n38554                                 0.0  ...           2021-11-24   \n38555                                 0.0  ...           2020-11-16   \n38556                                 0.0  ...           2021-08-08   \n38557                                 0.0  ...           2021-07-06   \n38558                                 0.0  ...           2020-12-30   \n\n      end_execution_date has_okpd_and_okdp_rows has_okpd2_rows  \\\n0             2021-06-29                      0              1   \n1             2021-12-30                      0              1   \n2             2022-12-30                      0              1   \n3             2023-12-30                      0              1   \n4             2023-12-30                      0              1   \n...                  ...                    ...            ...   \n38554         2021-12-30                      0              1   \n38555               None                      0              1   \n38556         2021-12-30                      0              1   \n38557         2021-12-30                      0              1   \n38558         2021-12-30                      0              1   \n\n      is_electronic_place electronic_place_name electronic_place_url  \\\n0                     NaN                  None                 None   \n1                     NaN                  None                 None   \n2                     NaN                  None                 None   \n3                     NaN                  None                 None   \n4                     NaN                  None                 None   \n...                   ...                   ...                  ...   \n38554                 NaN                  None                 None   \n38555                 NaN                  None                 None   \n38556                 NaN                  None                 None   \n38557                 NaN                  None                 None   \n38558                 NaN                  None                 None   \n\n      electronic_place_publish_date electronic_place_guid         region_name  \n0                              None                  None        Tomskaya_obl  \n1                              None                  None       Amurskaya_obl  \n2                              None                  None  Bashkortostan_Resp  \n3                              None                  None   Zabaikalskii_krai  \n4                              None                  None   Sverdlovskaya_obl  \n...                             ...                   ...                 ...  \n38554                          None                  None  Saha_Jakutiya_Resp  \n38555                          None                  None              Moskva  \n38556                          None                  None    Kemerowskaya_obl  \n38557                          None                  None  Saha_Jakutiya_Resp  \n38558                          None                  None              Moskva  \n\n[38559 rows x 61 columns]",
      "text/html": "<div>\n<style scoped>\n    .dataframe tbody tr th:only-of-type {\n        vertical-align: middle;\n    }\n\n    .dataframe tbody tr th {\n        vertical-align: top;\n    }\n\n    .dataframe thead th {\n        text-align: right;\n    }\n</style>\n<table border=\"1\" class=\"dataframe\">\n  <thead>\n    <tr style=\"text-align: right;\">\n      <th></th>\n      <th>guid</th>\n      <th>registration_number</th>\n      <th>notice_44fz</th>\n      <th>notice_not_placed_by_fz223p5s4</th>\n      <th>notice_44_num</th>\n      <th>lot_44_num</th>\n      <th>termination</th>\n      <th>extension</th>\n      <th>prolongation</th>\n      <th>customer_appeale_or_needs_approval</th>\n      <th>...</th>\n      <th>start_execution_date</th>\n      <th>end_execution_date</th>\n      <th>has_okpd_and_okdp_rows</th>\n      <th>has_okpd2_rows</th>\n      <th>is_electronic_place</th>\n      <th>electronic_place_name</th>\n      <th>electronic_place_url</th>\n      <th>electronic_place_publish_date</th>\n      <th>electronic_place_guid</th>\n      <th>region_name</th>\n    </tr>\n  </thead>\n  <tbody>\n    <tr>\n      <th>0</th>\n      <td>00026a57-3035-45cd-9a0b-598d5b233a6b</td>\n      <td>57017000450210000030001</td>\n      <td>0</td>\n      <td>0.0</td>\n      <td>None</td>\n      <td>None</td>\n      <td>0</td>\n      <td>0</td>\n      <td>0</td>\n      <td>0.0</td>\n      <td>...</td>\n      <td>2021-01-11</td>\n      <td>2021-06-29</td>\n      <td>0</td>\n      <td>1</td>\n      <td>NaN</td>\n      <td>None</td>\n      <td>None</td>\n      <td>None</td>\n      <td>None</td>\n      <td>Tomskaya_obl</td>\n    </tr>\n    <tr>\n      <th>1</th>\n      <td>000423c7-4053-4a7d-adad-7466492a6198</td>\n      <td>52801022680210002500001</td>\n      <td>0</td>\n      <td>0.0</td>\n      <td>None</td>\n      <td>None</td>\n      <td>0</td>\n      <td>0</td>\n      <td>0</td>\n      <td>0.0</td>\n      <td>...</td>\n      <td>2021-12-22</td>\n      <td>2021-12-30</td>\n      <td>0</td>\n      <td>1</td>\n      <td>NaN</td>\n      <td>None</td>\n      <td>None</td>\n      <td>None</td>\n      <td>None</td>\n      <td>Amurskaya_obl</td>\n    </tr>\n    <tr>\n      <th>2</th>\n      <td>0004ff4b-67ff-42b6-a163-88e556affbeb</td>\n      <td>50274946336210000830007</td>\n      <td>0</td>\n      <td>0.0</td>\n      <td>32110081850 Поставка моющих и дезинфицирующих ...</td>\n      <td>None</td>\n      <td>0</td>\n      <td>0</td>\n      <td>0</td>\n      <td>0.0</td>\n      <td>...</td>\n      <td>2021-04-19</td>\n      <td>2022-12-30</td>\n      <td>0</td>\n      <td>1</td>\n      <td>NaN</td>\n      <td>None</td>\n      <td>None</td>\n      <td>None</td>\n      <td>None</td>\n      <td>Bashkortostan_Resp</td>\n    </tr>\n    <tr>\n      <th>3</th>\n      <td>0007160a-a5e1-4bad-8972-40b730a5f1de</td>\n      <td>57534000240180001540114</td>\n      <td>0</td>\n      <td>0.0</td>\n      <td>None</td>\n      <td>None</td>\n      <td>0</td>\n      <td>0</td>\n      <td>0</td>\n      <td>0.0</td>\n      <td>...</td>\n      <td>2018-11-20</td>\n      <td>2023-12-30</td>\n      <td>0</td>\n      <td>1</td>\n      <td>NaN</td>\n      <td>None</td>\n      <td>None</td>\n      <td>None</td>\n      <td>None</td>\n      <td>Zabaikalskii_krai</td>\n    </tr>\n    <tr>\n      <th>4</th>\n      <td>00099013-c9e2-4e87-ac41-10449a63ed0d</td>\n      <td>56662021300210000410001</td>\n      <td>0</td>\n      <td>0.0</td>\n      <td>None</td>\n      <td>None</td>\n      <td>0</td>\n      <td>0</td>\n      <td>0</td>\n      <td>0.0</td>\n      <td>...</td>\n      <td>2021-12-31</td>\n      <td>2023-12-30</td>\n      <td>0</td>\n      <td>1</td>\n      <td>NaN</td>\n      <td>None</td>\n      <td>None</td>\n      <td>None</td>\n      <td>None</td>\n      <td>Sverdlovskaya_obl</td>\n    </tr>\n    <tr>\n      <th>...</th>\n      <td>...</td>\n      <td>...</td>\n      <td>...</td>\n      <td>...</td>\n      <td>...</td>\n      <td>...</td>\n      <td>...</td>\n      <td>...</td>\n      <td>...</td>\n      <td>...</td>\n      <td>...</td>\n      <td>...</td>\n      <td>...</td>\n      <td>...</td>\n      <td>...</td>\n      <td>...</td>\n      <td>...</td>\n      <td>...</td>\n      <td>...</td>\n      <td>...</td>\n      <td>...</td>\n    </tr>\n    <tr>\n      <th>38554</th>\n      <td>fff6f724-be51-4180-930f-41999fdd5497</td>\n      <td>51435149216210002250001</td>\n      <td>0</td>\n      <td>0.0</td>\n      <td>None</td>\n      <td>None</td>\n      <td>0</td>\n      <td>0</td>\n      <td>0</td>\n      <td>0.0</td>\n      <td>...</td>\n      <td>2021-11-24</td>\n      <td>2021-12-30</td>\n      <td>0</td>\n      <td>1</td>\n      <td>NaN</td>\n      <td>None</td>\n      <td>None</td>\n      <td>None</td>\n      <td>None</td>\n      <td>Saha_Jakutiya_Resp</td>\n    </tr>\n    <tr>\n      <th>38555</th>\n      <td>fff8c702-ba6a-48c2-90d4-67c2c857cfd1</td>\n      <td>67725038124200003980001</td>\n      <td>0</td>\n      <td>0.0</td>\n      <td>None</td>\n      <td>None</td>\n      <td>0</td>\n      <td>0</td>\n      <td>0</td>\n      <td>0.0</td>\n      <td>...</td>\n      <td>2020-11-16</td>\n      <td>None</td>\n      <td>0</td>\n      <td>1</td>\n      <td>NaN</td>\n      <td>None</td>\n      <td>None</td>\n      <td>None</td>\n      <td>None</td>\n      <td>Moskva</td>\n    </tr>\n    <tr>\n      <th>38556</th>\n      <td>fff8e8de-86d6-413a-b072-3dc7c247fff0</td>\n      <td>54223127015210004910006</td>\n      <td>0</td>\n      <td>0.0</td>\n      <td>None</td>\n      <td>None</td>\n      <td>1</td>\n      <td>1</td>\n      <td>0</td>\n      <td>0.0</td>\n      <td>...</td>\n      <td>2021-08-08</td>\n      <td>2021-12-30</td>\n      <td>0</td>\n      <td>1</td>\n      <td>NaN</td>\n      <td>None</td>\n      <td>None</td>\n      <td>None</td>\n      <td>None</td>\n      <td>Kemerowskaya_obl</td>\n    </tr>\n    <tr>\n      <th>38557</th>\n      <td>fffb9623-244a-4c27-b1c7-4518ab6412bd</td>\n      <td>51431004812210000980001</td>\n      <td>0</td>\n      <td>0.0</td>\n      <td>None</td>\n      <td>None</td>\n      <td>0</td>\n      <td>0</td>\n      <td>0</td>\n      <td>0.0</td>\n      <td>...</td>\n      <td>2021-07-06</td>\n      <td>2021-12-30</td>\n      <td>0</td>\n      <td>1</td>\n      <td>NaN</td>\n      <td>None</td>\n      <td>None</td>\n      <td>None</td>\n      <td>None</td>\n      <td>Saha_Jakutiya_Resp</td>\n    </tr>\n    <tr>\n      <th>38558</th>\n      <td>fffc951e-8b19-4069-8a04-bd4242859bbb</td>\n      <td>67704759968200001230003</td>\n      <td>0</td>\n      <td>0.0</td>\n      <td>None</td>\n      <td>None</td>\n      <td>0</td>\n      <td>0</td>\n      <td>0</td>\n      <td>0.0</td>\n      <td>...</td>\n      <td>2020-12-30</td>\n      <td>2021-12-30</td>\n      <td>0</td>\n      <td>1</td>\n      <td>NaN</td>\n      <td>None</td>\n      <td>None</td>\n      <td>None</td>\n      <td>None</td>\n      <td>Moskva</td>\n    </tr>\n  </tbody>\n</table>\n<p>38559 rows × 61 columns</p>\n</div>"
     },
     "execution_count": 6,
     "metadata": {},
     "output_type": "execute_result"
    }
   ],
   "source": [
    "covid_contracts = pd.read_sql_query(\n",
    "    \"\"\"\n",
    "    SELECT *\n",
    "    FROM covid_contracts cc\n",
    "    \"\"\",\n",
    "    conn\n",
    ")\n",
    "\n",
    "covid_contracts"
   ],
   "metadata": {
    "collapsed": false,
    "pycharm": {
     "name": "#%%\n"
    }
   }
  },
  {
   "cell_type": "markdown",
   "source": [
    "Проверим, существуют ли лоты, на которые было заключено несколько договоров."
   ],
   "metadata": {
    "collapsed": false,
    "pycharm": {
     "name": "#%% md\n"
    }
   }
  },
  {
   "cell_type": "code",
   "execution_count": 7,
   "outputs": [
    {
     "data": {
      "text/plain": "                                 lot_guid   c\n0    0073f630-28e6-41af-ab51-5d2996956007   2\n1    03e6b9f7-b42e-007c-84a8-a78389f21699   4\n2    03fd4534-23ea-4cf7-9591-069f6ac23de1  13\n3    04e89b57-23f6-4c2d-a7f9-aa74884104e5   2\n4    067223a9-c129-4110-865a-8a0f0fa283cc   2\n..                                    ...  ..\n444  fdff2801-bed2-4ed1-83b5-1b82b0ea93c5   2\n445  fe96d4a7-3c6f-43d1-b937-4e4ac68e19ea   2\n446  fee77238-6233-44dc-83a4-a94f2471a6b0  17\n447  ff1be10a-721c-4075-b5e1-13ae00f5f001   4\n448  ff261896-8830-4824-aea3-2aec4e8570bd   3\n\n[449 rows x 2 columns]",
      "text/html": "<div>\n<style scoped>\n    .dataframe tbody tr th:only-of-type {\n        vertical-align: middle;\n    }\n\n    .dataframe tbody tr th {\n        vertical-align: top;\n    }\n\n    .dataframe thead th {\n        text-align: right;\n    }\n</style>\n<table border=\"1\" class=\"dataframe\">\n  <thead>\n    <tr style=\"text-align: right;\">\n      <th></th>\n      <th>lot_guid</th>\n      <th>c</th>\n    </tr>\n  </thead>\n  <tbody>\n    <tr>\n      <th>0</th>\n      <td>0073f630-28e6-41af-ab51-5d2996956007</td>\n      <td>2</td>\n    </tr>\n    <tr>\n      <th>1</th>\n      <td>03e6b9f7-b42e-007c-84a8-a78389f21699</td>\n      <td>4</td>\n    </tr>\n    <tr>\n      <th>2</th>\n      <td>03fd4534-23ea-4cf7-9591-069f6ac23de1</td>\n      <td>13</td>\n    </tr>\n    <tr>\n      <th>3</th>\n      <td>04e89b57-23f6-4c2d-a7f9-aa74884104e5</td>\n      <td>2</td>\n    </tr>\n    <tr>\n      <th>4</th>\n      <td>067223a9-c129-4110-865a-8a0f0fa283cc</td>\n      <td>2</td>\n    </tr>\n    <tr>\n      <th>...</th>\n      <td>...</td>\n      <td>...</td>\n    </tr>\n    <tr>\n      <th>444</th>\n      <td>fdff2801-bed2-4ed1-83b5-1b82b0ea93c5</td>\n      <td>2</td>\n    </tr>\n    <tr>\n      <th>445</th>\n      <td>fe96d4a7-3c6f-43d1-b937-4e4ac68e19ea</td>\n      <td>2</td>\n    </tr>\n    <tr>\n      <th>446</th>\n      <td>fee77238-6233-44dc-83a4-a94f2471a6b0</td>\n      <td>17</td>\n    </tr>\n    <tr>\n      <th>447</th>\n      <td>ff1be10a-721c-4075-b5e1-13ae00f5f001</td>\n      <td>4</td>\n    </tr>\n    <tr>\n      <th>448</th>\n      <td>ff261896-8830-4824-aea3-2aec4e8570bd</td>\n      <td>3</td>\n    </tr>\n  </tbody>\n</table>\n<p>449 rows × 2 columns</p>\n</div>"
     },
     "execution_count": 7,
     "metadata": {},
     "output_type": "execute_result"
    }
   ],
   "source": [
    "lots_with_many_contracts = pd.read_sql_query(\n",
    "    f\"\"\"\n",
    "    SELECT * FROM (\n",
    "        SELECT lot_guid, COUNT(*) as c\n",
    "        FROM covid_contracts\n",
    "        GROUP BY lot_guid\n",
    "    ) WHERE c > 1\n",
    "    \"\"\",\n",
    "    conn\n",
    ")\n",
    "\n",
    "lots_with_many_contracts"
   ],
   "metadata": {
    "collapsed": false,
    "pycharm": {
     "name": "#%%\n"
    }
   }
  },
  {
   "cell_type": "markdown",
   "source": [
    "Такие договоры существуют.  Необходимо будет добавить информацию об этом в выборку."
   ],
   "metadata": {
    "collapsed": false,
    "pycharm": {
     "name": "#%% md\n"
    }
   }
  },
  {
   "cell_type": "markdown",
   "source": [
    "Выберем из базы договоры с лотами"
   ],
   "metadata": {
    "collapsed": false,
    "pycharm": {
     "name": "#%% md\n"
    }
   }
  },
  {
   "cell_type": "code",
   "execution_count": 8,
   "outputs": [
    {
     "data": {
      "text/plain": "                              contract_guid contract_registration_number  \\\n0      00026a57-3035-45cd-9a0b-598d5b233a6b      57017000450210000030001   \n1      000423c7-4053-4a7d-adad-7466492a6198      52801022680210002500001   \n2      0004ff4b-67ff-42b6-a163-88e556affbeb      50274946336210000830007   \n3      00099013-c9e2-4e87-ac41-10449a63ed0d      56662021300210000410001   \n4      000ab495-ae5e-42c4-9643-94083ebb7ceb      59111006597210000080013   \n...                                     ...                          ...   \n36594  fff6f724-be51-4180-930f-41999fdd5497      51435149216210002250001   \n36595  fff8c702-ba6a-48c2-90d4-67c2c857cfd1      67725038124200003980001   \n36596  fff8e8de-86d6-413a-b072-3dc7c247fff0      54223127015210004910006   \n36597  fffb9623-244a-4c27-b1c7-4518ab6412bd      51431004812210000980001   \n36598  fffc951e-8b19-4069-8a04-bd4242859bbb      67704759968200001230003   \n\n       notice_not_placed_by_fz223p5s4  contract_extension  \\\n0                                   0                   0   \n1                                   0                   0   \n2                                   0                   0   \n3                                   0                   0   \n4                                   0                   0   \n...                               ...                 ...   \n36594                               0                   0   \n36595                               0                   0   \n36596                               0                   1   \n36597                               0                   0   \n36598                               0                   0   \n\n       contract_prolongation  customer_appeale_or_needs_approval  \\\n0                          0                                   0   \n1                          0                                   0   \n2                          0                                   0   \n3                          0                                   0   \n4                          0                                   0   \n...                      ...                                 ...   \n36594                      0                                   0   \n36595                      0                                   0   \n36596                      0                                   0   \n36597                      0                                   0   \n36598                      0                                   0   \n\n      customer_approval_or_antimonopoly_descision_date  \\\n0                                                 None   \n1                                                 None   \n2                                                 None   \n3                                                 None   \n4                                                 None   \n...                                                ...   \n36594                                             None   \n36595                                             None   \n36596                                             None   \n36597                                             None   \n36598                                             None   \n\n      contract_plan_position_guid contract_create_date_time  \\\n0                            None       2021-01-12 02:56:07   \n1                            None       2021-12-23 05:28:44   \n2                            None       2021-11-29 10:29:58   \n3                            None       2021-12-17 08:08:43   \n4                            None       2021-10-27 09:33:09   \n...                           ...                       ...   \n36594                        None       2021-11-25 02:46:38   \n36595                        None       2020-11-20 08:42:35   \n36596                        None       2021-12-20 03:07:02   \n36597                        None       2021-07-07 09:05:27   \n36598                        None       2020-12-31 09:12:09   \n\n      contract_customer_inn  ... contract_start_execution_date  \\\n0                7017000450  ...                    2021-01-11   \n1                2801022680  ...                    2021-12-22   \n2                0274946336  ...                    2021-04-19   \n3                6662021300  ...                    2021-12-31   \n4                9111006597  ...                    2021-08-09   \n...                     ...  ...                           ...   \n36594            1435149216  ...                    2021-11-24   \n36595            7725038124  ...                    2020-11-16   \n36596            4223127015  ...                    2021-08-08   \n36597            1431004812  ...                    2021-07-06   \n36598            7704759968  ...                    2020-12-30   \n\n      contract_end_execution_date         region_name notice_lot_initial_sum  \\\n0                      2021-06-29        Tomskaya_obl               550800.0   \n1                      2021-12-30       Amurskaya_obl               496388.9   \n2                      2022-12-30  Bashkortostan_Resp              4415139.0   \n3                      2023-12-30   Sverdlovskaya_obl               139932.0   \n4                      2022-05-30           Krym_Resp              1998600.0   \n...                           ...                 ...                    ...   \n36594                  2021-12-30  Saha_Jakutiya_Resp               686400.0   \n36595                        None              Moskva             23705828.4   \n36596                  2021-12-30    Kemerowskaya_obl                49270.5   \n36597                  2021-12-30  Saha_Jakutiya_Resp               600600.0   \n36598                  2021-12-30              Moskva              1279800.0   \n\n       notice_lot_starting_contract_price_rub  notice_lot_currency_code  \\\n0                                         NaN                       RUB   \n1                                         NaN                       RUB   \n2                                         NaN                       RUB   \n3                                         NaN                       RUB   \n4                                         NaN                       RUB   \n...                                       ...                       ...   \n36594                                     NaN                       RUB   \n36595                                     NaN                       RUB   \n36596                                     NaN                       RUB   \n36597                                     NaN                       RUB   \n36598                                     NaN                       RUB   \n\n      notice_lot_commodity_price notice_lot_commodity_price_rub  \\\n0                            NaN                           None   \n1                            NaN                           None   \n2                            NaN                           None   \n3                            NaN                           None   \n4                            NaN                           None   \n...                          ...                            ...   \n36594                        NaN                           None   \n36595                        NaN                           None   \n36596                        NaN                           None   \n36597                        NaN                           None   \n36598                        NaN                           None   \n\n      notice_lot_max_contract_price  notice_lot_max_contract_price_rub  \n0                               NaN                                NaN  \n1                               NaN                                NaN  \n2                               NaN                                NaN  \n3                               NaN                                NaN  \n4                               NaN                                NaN  \n...                             ...                                ...  \n36594                           NaN                                NaN  \n36595                           NaN                                NaN  \n36596                           NaN                                NaN  \n36597                           NaN                                NaN  \n36598                           NaN                                NaN  \n\n[36599 rows x 38 columns]",
      "text/html": "<div>\n<style scoped>\n    .dataframe tbody tr th:only-of-type {\n        vertical-align: middle;\n    }\n\n    .dataframe tbody tr th {\n        vertical-align: top;\n    }\n\n    .dataframe thead th {\n        text-align: right;\n    }\n</style>\n<table border=\"1\" class=\"dataframe\">\n  <thead>\n    <tr style=\"text-align: right;\">\n      <th></th>\n      <th>contract_guid</th>\n      <th>contract_registration_number</th>\n      <th>notice_not_placed_by_fz223p5s4</th>\n      <th>contract_extension</th>\n      <th>contract_prolongation</th>\n      <th>customer_appeale_or_needs_approval</th>\n      <th>customer_approval_or_antimonopoly_descision_date</th>\n      <th>contract_plan_position_guid</th>\n      <th>contract_create_date_time</th>\n      <th>contract_customer_inn</th>\n      <th>...</th>\n      <th>contract_start_execution_date</th>\n      <th>contract_end_execution_date</th>\n      <th>region_name</th>\n      <th>notice_lot_initial_sum</th>\n      <th>notice_lot_starting_contract_price_rub</th>\n      <th>notice_lot_currency_code</th>\n      <th>notice_lot_commodity_price</th>\n      <th>notice_lot_commodity_price_rub</th>\n      <th>notice_lot_max_contract_price</th>\n      <th>notice_lot_max_contract_price_rub</th>\n    </tr>\n  </thead>\n  <tbody>\n    <tr>\n      <th>0</th>\n      <td>00026a57-3035-45cd-9a0b-598d5b233a6b</td>\n      <td>57017000450210000030001</td>\n      <td>0</td>\n      <td>0</td>\n      <td>0</td>\n      <td>0</td>\n      <td>None</td>\n      <td>None</td>\n      <td>2021-01-12 02:56:07</td>\n      <td>7017000450</td>\n      <td>...</td>\n      <td>2021-01-11</td>\n      <td>2021-06-29</td>\n      <td>Tomskaya_obl</td>\n      <td>550800.0</td>\n      <td>NaN</td>\n      <td>RUB</td>\n      <td>NaN</td>\n      <td>None</td>\n      <td>NaN</td>\n      <td>NaN</td>\n    </tr>\n    <tr>\n      <th>1</th>\n      <td>000423c7-4053-4a7d-adad-7466492a6198</td>\n      <td>52801022680210002500001</td>\n      <td>0</td>\n      <td>0</td>\n      <td>0</td>\n      <td>0</td>\n      <td>None</td>\n      <td>None</td>\n      <td>2021-12-23 05:28:44</td>\n      <td>2801022680</td>\n      <td>...</td>\n      <td>2021-12-22</td>\n      <td>2021-12-30</td>\n      <td>Amurskaya_obl</td>\n      <td>496388.9</td>\n      <td>NaN</td>\n      <td>RUB</td>\n      <td>NaN</td>\n      <td>None</td>\n      <td>NaN</td>\n      <td>NaN</td>\n    </tr>\n    <tr>\n      <th>2</th>\n      <td>0004ff4b-67ff-42b6-a163-88e556affbeb</td>\n      <td>50274946336210000830007</td>\n      <td>0</td>\n      <td>0</td>\n      <td>0</td>\n      <td>0</td>\n      <td>None</td>\n      <td>None</td>\n      <td>2021-11-29 10:29:58</td>\n      <td>0274946336</td>\n      <td>...</td>\n      <td>2021-04-19</td>\n      <td>2022-12-30</td>\n      <td>Bashkortostan_Resp</td>\n      <td>4415139.0</td>\n      <td>NaN</td>\n      <td>RUB</td>\n      <td>NaN</td>\n      <td>None</td>\n      <td>NaN</td>\n      <td>NaN</td>\n    </tr>\n    <tr>\n      <th>3</th>\n      <td>00099013-c9e2-4e87-ac41-10449a63ed0d</td>\n      <td>56662021300210000410001</td>\n      <td>0</td>\n      <td>0</td>\n      <td>0</td>\n      <td>0</td>\n      <td>None</td>\n      <td>None</td>\n      <td>2021-12-17 08:08:43</td>\n      <td>6662021300</td>\n      <td>...</td>\n      <td>2021-12-31</td>\n      <td>2023-12-30</td>\n      <td>Sverdlovskaya_obl</td>\n      <td>139932.0</td>\n      <td>NaN</td>\n      <td>RUB</td>\n      <td>NaN</td>\n      <td>None</td>\n      <td>NaN</td>\n      <td>NaN</td>\n    </tr>\n    <tr>\n      <th>4</th>\n      <td>000ab495-ae5e-42c4-9643-94083ebb7ceb</td>\n      <td>59111006597210000080013</td>\n      <td>0</td>\n      <td>0</td>\n      <td>0</td>\n      <td>0</td>\n      <td>None</td>\n      <td>None</td>\n      <td>2021-10-27 09:33:09</td>\n      <td>9111006597</td>\n      <td>...</td>\n      <td>2021-08-09</td>\n      <td>2022-05-30</td>\n      <td>Krym_Resp</td>\n      <td>1998600.0</td>\n      <td>NaN</td>\n      <td>RUB</td>\n      <td>NaN</td>\n      <td>None</td>\n      <td>NaN</td>\n      <td>NaN</td>\n    </tr>\n    <tr>\n      <th>...</th>\n      <td>...</td>\n      <td>...</td>\n      <td>...</td>\n      <td>...</td>\n      <td>...</td>\n      <td>...</td>\n      <td>...</td>\n      <td>...</td>\n      <td>...</td>\n      <td>...</td>\n      <td>...</td>\n      <td>...</td>\n      <td>...</td>\n      <td>...</td>\n      <td>...</td>\n      <td>...</td>\n      <td>...</td>\n      <td>...</td>\n      <td>...</td>\n      <td>...</td>\n      <td>...</td>\n    </tr>\n    <tr>\n      <th>36594</th>\n      <td>fff6f724-be51-4180-930f-41999fdd5497</td>\n      <td>51435149216210002250001</td>\n      <td>0</td>\n      <td>0</td>\n      <td>0</td>\n      <td>0</td>\n      <td>None</td>\n      <td>None</td>\n      <td>2021-11-25 02:46:38</td>\n      <td>1435149216</td>\n      <td>...</td>\n      <td>2021-11-24</td>\n      <td>2021-12-30</td>\n      <td>Saha_Jakutiya_Resp</td>\n      <td>686400.0</td>\n      <td>NaN</td>\n      <td>RUB</td>\n      <td>NaN</td>\n      <td>None</td>\n      <td>NaN</td>\n      <td>NaN</td>\n    </tr>\n    <tr>\n      <th>36595</th>\n      <td>fff8c702-ba6a-48c2-90d4-67c2c857cfd1</td>\n      <td>67725038124200003980001</td>\n      <td>0</td>\n      <td>0</td>\n      <td>0</td>\n      <td>0</td>\n      <td>None</td>\n      <td>None</td>\n      <td>2020-11-20 08:42:35</td>\n      <td>7725038124</td>\n      <td>...</td>\n      <td>2020-11-16</td>\n      <td>None</td>\n      <td>Moskva</td>\n      <td>23705828.4</td>\n      <td>NaN</td>\n      <td>RUB</td>\n      <td>NaN</td>\n      <td>None</td>\n      <td>NaN</td>\n      <td>NaN</td>\n    </tr>\n    <tr>\n      <th>36596</th>\n      <td>fff8e8de-86d6-413a-b072-3dc7c247fff0</td>\n      <td>54223127015210004910006</td>\n      <td>0</td>\n      <td>1</td>\n      <td>0</td>\n      <td>0</td>\n      <td>None</td>\n      <td>None</td>\n      <td>2021-12-20 03:07:02</td>\n      <td>4223127015</td>\n      <td>...</td>\n      <td>2021-08-08</td>\n      <td>2021-12-30</td>\n      <td>Kemerowskaya_obl</td>\n      <td>49270.5</td>\n      <td>NaN</td>\n      <td>RUB</td>\n      <td>NaN</td>\n      <td>None</td>\n      <td>NaN</td>\n      <td>NaN</td>\n    </tr>\n    <tr>\n      <th>36597</th>\n      <td>fffb9623-244a-4c27-b1c7-4518ab6412bd</td>\n      <td>51431004812210000980001</td>\n      <td>0</td>\n      <td>0</td>\n      <td>0</td>\n      <td>0</td>\n      <td>None</td>\n      <td>None</td>\n      <td>2021-07-07 09:05:27</td>\n      <td>1431004812</td>\n      <td>...</td>\n      <td>2021-07-06</td>\n      <td>2021-12-30</td>\n      <td>Saha_Jakutiya_Resp</td>\n      <td>600600.0</td>\n      <td>NaN</td>\n      <td>RUB</td>\n      <td>NaN</td>\n      <td>None</td>\n      <td>NaN</td>\n      <td>NaN</td>\n    </tr>\n    <tr>\n      <th>36598</th>\n      <td>fffc951e-8b19-4069-8a04-bd4242859bbb</td>\n      <td>67704759968200001230003</td>\n      <td>0</td>\n      <td>0</td>\n      <td>0</td>\n      <td>0</td>\n      <td>None</td>\n      <td>None</td>\n      <td>2020-12-31 09:12:09</td>\n      <td>7704759968</td>\n      <td>...</td>\n      <td>2020-12-30</td>\n      <td>2021-12-30</td>\n      <td>Moskva</td>\n      <td>1279800.0</td>\n      <td>NaN</td>\n      <td>RUB</td>\n      <td>NaN</td>\n      <td>None</td>\n      <td>NaN</td>\n      <td>NaN</td>\n    </tr>\n  </tbody>\n</table>\n<p>36599 rows × 38 columns</p>\n</div>"
     },
     "execution_count": 8,
     "metadata": {},
     "output_type": "execute_result"
    }
   ],
   "source": [
    "covid_contracts_with_lot = pd.read_sql_query(\n",
    "    f\"\"\"\n",
    "    SELECT c.guid as contract_guid, c.registration_number as contract_registration_number,\n",
    "    c.notice_not_placed_by_fz223p5s4 as notice_not_placed_by_fz223p5s4,\n",
    "    c.extension as contract_extension, c.prolongation as contract_prolongation,\n",
    "    c.customer_appeale_or_needs_approval as customer_appeale_or_needs_approval,\n",
    "    c.customer_approval_or_antimonopoly_descision_date as customer_approval_or_antimonopoly_descision_date,\n",
    "    c.plan_position_guid as contract_plan_position_guid,\n",
    "    c.create_date_time as contract_create_date_time,\n",
    "    c.customer_inn as contract_customer_inn, c.placer_inn as contract_placer_inn, c.detached_org_inn as contract_detached_org_inn,\n",
    "    c.publication_date as contract_publication_date, c.contract_status_code as contract_publication_date,\n",
    "    c.emergency as emergency, c.provider as provider, c.provider_code as provider_code, c.contract_reg_number as contract_reg_number,\n",
    "    c.contract_date as contract_date, c.digital_purchase as digital_purchase,\n",
    "    c.purchase_notice_info_guid as purchase_notice_info_guid, c.purchase_notice_info_number as purchase_notice_info_number,\n",
    "    c.lot_guid as lot_guid, c.subject_contract as subject_contract, c.purchase_type_code as purchase_type_code,\n",
    "    c.price as contract_price, c.rub_price as contract_rub_price, c.currency_code as contract_currency_code,\n",
    "    c.start_execution_date as contract_start_execution_date, c.end_execution_date as contract_end_execution_date,\n",
    "    c.region_name as region_name,\n",
    "    pnld.initial_sum as notice_lot_initial_sum, pnld.starting_contract_price_rub as notice_lot_starting_contract_price_rub,\n",
    "    pnld.currency_code as notice_lot_currency_code,\n",
    "    pnld.commodity_price as notice_lot_commodity_price, pnld.commodity_price_rub as notice_lot_commodity_price_rub,\n",
    "    pnld.max_contract_price as notice_lot_max_contract_price, pnld.max_contract_price_rub as notice_lot_max_contract_price_rub\n",
    "    FROM covid_contracts c\n",
    "    INNER JOIN purchase_notice_lot pnl ON c.lot_guid = pnl.guid\n",
    "    LEFT JOIN purchase_notice_lot_data pnld on pnl.guid = pnld.purchase_notice_lot_guid\n",
    "    \"\"\",\n",
    "    conn\n",
    ")\n",
    "\n",
    "covid_contracts_with_lot"
   ],
   "metadata": {
    "collapsed": false,
    "pycharm": {
     "name": "#%%\n"
    }
   }
  },
  {
   "cell_type": "markdown",
   "source": [
    "Проверим, существуют ли договоры, у которых заказчик отличается от заказчика в извещении"
   ],
   "metadata": {
    "collapsed": false,
    "pycharm": {
     "name": "#%% md\n"
    }
   }
  },
  {
   "cell_type": "code",
   "execution_count": 9,
   "outputs": [
    {
     "data": {
      "text/plain": "                                      guid customer_inn  placer_inn  \\\n0     000d73ea-90c4-460f-8074-2d8eb70aa733   3664056479  3664056479   \n1     0018a028-28b4-4f82-a1a3-802bcf99dd89   7820309254  7820309254   \n2     002307d1-8cba-4a17-a125-104668f2558f   1654038766  1654038766   \n3     003bbfbc-93d1-49e2-8555-e8447bc9e99c   2902037066  2902037066   \n4     003f2613-8a83-482f-8546-b07df2a3ee86   3908010986  3908010986   \n...                                    ...          ...         ...   \n6015  ffd95f92-f12b-4488-9a93-f0fd06c2c38e   1101481574  1101481574   \n6016  ffea4edc-1b55-4df6-b429-f485f18cd350   7724490000  7724490000   \n6017  fff544f3-3733-4943-b6db-1a9662558747   7708245723  7708245723   \n6018  fff6f724-be51-4180-930f-41999fdd5497   1435149216  1435149216   \n6019  fffc951e-8b19-4069-8a04-bd4242859bbb   7704759968  1655218458   \n\n     detached_org_inn                                  guid customer_inn  \\\n0                None  1cb41fb5-1c6e-47e4-a123-13a39cf27d46   3664056479   \n1                None  696da96f-20ee-4e87-bcdd-2248ee08d63f   7708619320   \n2          1654038766  949dedf2-ff3a-401e-abbc-b5c9bca976b8   1654038766   \n3          2902037066  645ea858-2470-b86e-0b24-52e8a596865e   2902037066   \n4                None  fea8d150-1c42-466b-a5a9-3f3e5550ede0   3908010986   \n...               ...                                   ...          ...   \n6015       1101481574  e877d410-a198-440e-a893-24b62e54745d   1101481574   \n6016             None  2b7ea3c4-dd16-45f4-bbb5-737b1357a3fc   7724490000   \n6017       7708245723  c39dbd31-9f6f-4d23-83b2-0cdc960a7985   7708245723   \n6018             None  1dea37d1-6ff1-4eed-8de4-f28d7ca17be2   1435149216   \n6019             None  4e2b8b8a-c89a-481c-9727-ec7595cc1480   7704759968   \n\n      placer_inn detached_org_inn  \n0     3662158965             None  \n1     7708619320             None  \n2     1660291100             None  \n3     2901252568             None  \n4     3904612235             None  \n...          ...              ...  \n6015  7707308480             None  \n6016  7838430413       7724490000  \n6017  7707308480             None  \n6018  7710357167             None  \n6019  7704759968             None  \n\n[6020 rows x 8 columns]",
      "text/html": "<div>\n<style scoped>\n    .dataframe tbody tr th:only-of-type {\n        vertical-align: middle;\n    }\n\n    .dataframe tbody tr th {\n        vertical-align: top;\n    }\n\n    .dataframe thead th {\n        text-align: right;\n    }\n</style>\n<table border=\"1\" class=\"dataframe\">\n  <thead>\n    <tr style=\"text-align: right;\">\n      <th></th>\n      <th>guid</th>\n      <th>customer_inn</th>\n      <th>placer_inn</th>\n      <th>detached_org_inn</th>\n      <th>guid</th>\n      <th>customer_inn</th>\n      <th>placer_inn</th>\n      <th>detached_org_inn</th>\n    </tr>\n  </thead>\n  <tbody>\n    <tr>\n      <th>0</th>\n      <td>000d73ea-90c4-460f-8074-2d8eb70aa733</td>\n      <td>3664056479</td>\n      <td>3664056479</td>\n      <td>None</td>\n      <td>1cb41fb5-1c6e-47e4-a123-13a39cf27d46</td>\n      <td>3664056479</td>\n      <td>3662158965</td>\n      <td>None</td>\n    </tr>\n    <tr>\n      <th>1</th>\n      <td>0018a028-28b4-4f82-a1a3-802bcf99dd89</td>\n      <td>7820309254</td>\n      <td>7820309254</td>\n      <td>None</td>\n      <td>696da96f-20ee-4e87-bcdd-2248ee08d63f</td>\n      <td>7708619320</td>\n      <td>7708619320</td>\n      <td>None</td>\n    </tr>\n    <tr>\n      <th>2</th>\n      <td>002307d1-8cba-4a17-a125-104668f2558f</td>\n      <td>1654038766</td>\n      <td>1654038766</td>\n      <td>1654038766</td>\n      <td>949dedf2-ff3a-401e-abbc-b5c9bca976b8</td>\n      <td>1654038766</td>\n      <td>1660291100</td>\n      <td>None</td>\n    </tr>\n    <tr>\n      <th>3</th>\n      <td>003bbfbc-93d1-49e2-8555-e8447bc9e99c</td>\n      <td>2902037066</td>\n      <td>2902037066</td>\n      <td>2902037066</td>\n      <td>645ea858-2470-b86e-0b24-52e8a596865e</td>\n      <td>2902037066</td>\n      <td>2901252568</td>\n      <td>None</td>\n    </tr>\n    <tr>\n      <th>4</th>\n      <td>003f2613-8a83-482f-8546-b07df2a3ee86</td>\n      <td>3908010986</td>\n      <td>3908010986</td>\n      <td>None</td>\n      <td>fea8d150-1c42-466b-a5a9-3f3e5550ede0</td>\n      <td>3908010986</td>\n      <td>3904612235</td>\n      <td>None</td>\n    </tr>\n    <tr>\n      <th>...</th>\n      <td>...</td>\n      <td>...</td>\n      <td>...</td>\n      <td>...</td>\n      <td>...</td>\n      <td>...</td>\n      <td>...</td>\n      <td>...</td>\n    </tr>\n    <tr>\n      <th>6015</th>\n      <td>ffd95f92-f12b-4488-9a93-f0fd06c2c38e</td>\n      <td>1101481574</td>\n      <td>1101481574</td>\n      <td>1101481574</td>\n      <td>e877d410-a198-440e-a893-24b62e54745d</td>\n      <td>1101481574</td>\n      <td>7707308480</td>\n      <td>None</td>\n    </tr>\n    <tr>\n      <th>6016</th>\n      <td>ffea4edc-1b55-4df6-b429-f485f18cd350</td>\n      <td>7724490000</td>\n      <td>7724490000</td>\n      <td>None</td>\n      <td>2b7ea3c4-dd16-45f4-bbb5-737b1357a3fc</td>\n      <td>7724490000</td>\n      <td>7838430413</td>\n      <td>7724490000</td>\n    </tr>\n    <tr>\n      <th>6017</th>\n      <td>fff544f3-3733-4943-b6db-1a9662558747</td>\n      <td>7708245723</td>\n      <td>7708245723</td>\n      <td>7708245723</td>\n      <td>c39dbd31-9f6f-4d23-83b2-0cdc960a7985</td>\n      <td>7708245723</td>\n      <td>7707308480</td>\n      <td>None</td>\n    </tr>\n    <tr>\n      <th>6018</th>\n      <td>fff6f724-be51-4180-930f-41999fdd5497</td>\n      <td>1435149216</td>\n      <td>1435149216</td>\n      <td>None</td>\n      <td>1dea37d1-6ff1-4eed-8de4-f28d7ca17be2</td>\n      <td>1435149216</td>\n      <td>7710357167</td>\n      <td>None</td>\n    </tr>\n    <tr>\n      <th>6019</th>\n      <td>fffc951e-8b19-4069-8a04-bd4242859bbb</td>\n      <td>7704759968</td>\n      <td>1655218458</td>\n      <td>None</td>\n      <td>4e2b8b8a-c89a-481c-9727-ec7595cc1480</td>\n      <td>7704759968</td>\n      <td>7704759968</td>\n      <td>None</td>\n    </tr>\n  </tbody>\n</table>\n<p>6020 rows × 8 columns</p>\n</div>"
     },
     "execution_count": 9,
     "metadata": {},
     "output_type": "execute_result"
    }
   ],
   "source": [
    "contracts_with_different_customer = pd.read_sql_query(\n",
    "    f\"\"\"\n",
    "    SELECT c.guid, c.customer_inn, c.placer_inn, c.detached_org_inn, pn.guid, pn.customer_inn, pn.placer_inn, pn.detached_org_inn\n",
    "    FROM covid_contracts c\n",
    "    INNER JOIN purchase_notice_lot pnl on c.lot_guid = pnl.guid\n",
    "    LEFT JOIN purchase_notice_to_lot pntl on pnl.guid = pntl.purchase_notice_lot_guid\n",
    "    LEFT JOIN purchase_notice pn on pntl.purchase_notice_guid = pn.guid\n",
    "    WHERE (c.customer_inn != pn.customer_inn or c.placer_inn != pn.placer_inn)\n",
    "    ;\n",
    "    \"\"\",\n",
    "    conn\n",
    ")\n",
    "\n",
    "contracts_with_different_customer"
   ],
   "metadata": {
    "collapsed": false,
    "pycharm": {
     "name": "#%%\n"
    }
   }
  },
  {
   "cell_type": "markdown",
   "source": [
    "Такие договоры существуют, поэтому необходимо будет добавить данные об изначальном заказчике в выборку"
   ],
   "metadata": {
    "collapsed": false,
    "pycharm": {
     "name": "#%% md\n"
    }
   }
  },
  {
   "cell_type": "markdown",
   "source": [
    "Дополним информацией о том, был ли договор завершен или расторгнут"
   ],
   "metadata": {
    "collapsed": false,
    "pycharm": {
     "name": "#%% md\n"
    }
   }
  },
  {
   "cell_type": "code",
   "execution_count": 10,
   "outputs": [
    {
     "data": {
      "text/plain": "                              contract_guid contract_registration_number  \\\n0      00026a57-3035-45cd-9a0b-598d5b233a6b      57017000450210000030001   \n1      000423c7-4053-4a7d-adad-7466492a6198      52801022680210002500001   \n2      0004ff4b-67ff-42b6-a163-88e556affbeb      50274946336210000830007   \n3      00099013-c9e2-4e87-ac41-10449a63ed0d      56662021300210000410001   \n4      000ab495-ae5e-42c4-9643-94083ebb7ceb      59111006597210000080013   \n...                                     ...                          ...   \n36594  fff6f724-be51-4180-930f-41999fdd5497      51435149216210002250001   \n36595  fff8c702-ba6a-48c2-90d4-67c2c857cfd1      67725038124200003980001   \n36596  fff8e8de-86d6-413a-b072-3dc7c247fff0      54223127015210004910006   \n36597  fffb9623-244a-4c27-b1c7-4518ab6412bd      51431004812210000980001   \n36598  fffc951e-8b19-4069-8a04-bd4242859bbb      67704759968200001230003   \n\n       notice_not_placed_by_fz223p5s4  contract_extension  \\\n0                                   0                   0   \n1                                   0                   0   \n2                                   0                   0   \n3                                   0                   0   \n4                                   0                   0   \n...                               ...                 ...   \n36594                               0                   0   \n36595                               0                   0   \n36596                               0                   1   \n36597                               0                   0   \n36598                               0                   0   \n\n       contract_prolongation  customer_appeale_or_needs_approval  \\\n0                          0                                   0   \n1                          0                                   0   \n2                          0                                   0   \n3                          0                                   0   \n4                          0                                   0   \n...                      ...                                 ...   \n36594                      0                                   0   \n36595                      0                                   0   \n36596                      0                                   0   \n36597                      0                                   0   \n36598                      0                                   0   \n\n      customer_approval_or_antimonopoly_descision_date  \\\n0                                                 None   \n1                                                 None   \n2                                                 None   \n3                                                 None   \n4                                                 None   \n...                                                ...   \n36594                                             None   \n36595                                             None   \n36596                                             None   \n36597                                             None   \n36598                                             None   \n\n      contract_plan_position_guid contract_create_date_time  \\\n0                            None       2021-01-12 02:56:07   \n1                            None       2021-12-23 05:28:44   \n2                            None       2021-11-29 10:29:58   \n3                            None       2021-12-17 08:08:43   \n4                            None       2021-10-27 09:33:09   \n...                           ...                       ...   \n36594                        None       2021-11-25 02:46:38   \n36595                        None       2020-11-20 08:42:35   \n36596                        None       2021-12-20 03:07:02   \n36597                        None       2021-07-07 09:05:27   \n36598                        None       2020-12-31 09:12:09   \n\n      contract_customer_inn  ... contract_end_execution_date  \\\n0                7017000450  ...                  2021-06-29   \n1                2801022680  ...                  2021-12-30   \n2                0274946336  ...                  2022-12-30   \n3                6662021300  ...                  2023-12-30   \n4                9111006597  ...                  2022-05-30   \n...                     ...  ...                         ...   \n36594            1435149216  ...                  2021-12-30   \n36595            7725038124  ...                        None   \n36596            4223127015  ...                  2021-12-30   \n36597            1431004812  ...                  2021-12-30   \n36598            7704759968  ...                  2021-12-30   \n\n              region_name notice_lot_initial_sum  \\\n0            Tomskaya_obl               550800.0   \n1           Amurskaya_obl               496388.9   \n2      Bashkortostan_Resp              4415139.0   \n3       Sverdlovskaya_obl               139932.0   \n4               Krym_Resp              1998600.0   \n...                   ...                    ...   \n36594  Saha_Jakutiya_Resp               686400.0   \n36595              Moskva             23705828.4   \n36596    Kemerowskaya_obl                49270.5   \n36597  Saha_Jakutiya_Resp               600600.0   \n36598              Moskva              1279800.0   \n\n      notice_lot_starting_contract_price_rub  notice_lot_currency_code  \\\n0                                        NaN                       RUB   \n1                                        NaN                       RUB   \n2                                        NaN                       RUB   \n3                                        NaN                       RUB   \n4                                        NaN                       RUB   \n...                                      ...                       ...   \n36594                                    NaN                       RUB   \n36595                                    NaN                       RUB   \n36596                                    NaN                       RUB   \n36597                                    NaN                       RUB   \n36598                                    NaN                       RUB   \n\n       notice_lot_commodity_price notice_lot_commodity_price_rub  \\\n0                             NaN                           None   \n1                             NaN                           None   \n2                             NaN                           None   \n3                             NaN                           None   \n4                             NaN                           None   \n...                           ...                            ...   \n36594                         NaN                           None   \n36595                         NaN                           None   \n36596                         NaN                           None   \n36597                         NaN                           None   \n36598                         NaN                           None   \n\n      notice_lot_max_contract_price notice_lot_max_contract_price_rub  \\\n0                               NaN                               NaN   \n1                               NaN                               NaN   \n2                               NaN                               NaN   \n3                               NaN                               NaN   \n4                               NaN                               NaN   \n...                             ...                               ...   \n36594                           NaN                               NaN   \n36595                           NaN                               NaN   \n36596                           NaN                               NaN   \n36597                           NaN                               NaN   \n36598                           NaN                               NaN   \n\n       contract_is_complete  \n0                       1.0  \n1                       NaN  \n2                       1.0  \n3                       NaN  \n4                       1.0  \n...                     ...  \n36594                   NaN  \n36595                   0.0  \n36596                   NaN  \n36597                   1.0  \n36598                   NaN  \n\n[36599 rows x 39 columns]",
      "text/html": "<div>\n<style scoped>\n    .dataframe tbody tr th:only-of-type {\n        vertical-align: middle;\n    }\n\n    .dataframe tbody tr th {\n        vertical-align: top;\n    }\n\n    .dataframe thead th {\n        text-align: right;\n    }\n</style>\n<table border=\"1\" class=\"dataframe\">\n  <thead>\n    <tr style=\"text-align: right;\">\n      <th></th>\n      <th>contract_guid</th>\n      <th>contract_registration_number</th>\n      <th>notice_not_placed_by_fz223p5s4</th>\n      <th>contract_extension</th>\n      <th>contract_prolongation</th>\n      <th>customer_appeale_or_needs_approval</th>\n      <th>customer_approval_or_antimonopoly_descision_date</th>\n      <th>contract_plan_position_guid</th>\n      <th>contract_create_date_time</th>\n      <th>contract_customer_inn</th>\n      <th>...</th>\n      <th>contract_end_execution_date</th>\n      <th>region_name</th>\n      <th>notice_lot_initial_sum</th>\n      <th>notice_lot_starting_contract_price_rub</th>\n      <th>notice_lot_currency_code</th>\n      <th>notice_lot_commodity_price</th>\n      <th>notice_lot_commodity_price_rub</th>\n      <th>notice_lot_max_contract_price</th>\n      <th>notice_lot_max_contract_price_rub</th>\n      <th>contract_is_complete</th>\n    </tr>\n  </thead>\n  <tbody>\n    <tr>\n      <th>0</th>\n      <td>00026a57-3035-45cd-9a0b-598d5b233a6b</td>\n      <td>57017000450210000030001</td>\n      <td>0</td>\n      <td>0</td>\n      <td>0</td>\n      <td>0</td>\n      <td>None</td>\n      <td>None</td>\n      <td>2021-01-12 02:56:07</td>\n      <td>7017000450</td>\n      <td>...</td>\n      <td>2021-06-29</td>\n      <td>Tomskaya_obl</td>\n      <td>550800.0</td>\n      <td>NaN</td>\n      <td>RUB</td>\n      <td>NaN</td>\n      <td>None</td>\n      <td>NaN</td>\n      <td>NaN</td>\n      <td>1.0</td>\n    </tr>\n    <tr>\n      <th>1</th>\n      <td>000423c7-4053-4a7d-adad-7466492a6198</td>\n      <td>52801022680210002500001</td>\n      <td>0</td>\n      <td>0</td>\n      <td>0</td>\n      <td>0</td>\n      <td>None</td>\n      <td>None</td>\n      <td>2021-12-23 05:28:44</td>\n      <td>2801022680</td>\n      <td>...</td>\n      <td>2021-12-30</td>\n      <td>Amurskaya_obl</td>\n      <td>496388.9</td>\n      <td>NaN</td>\n      <td>RUB</td>\n      <td>NaN</td>\n      <td>None</td>\n      <td>NaN</td>\n      <td>NaN</td>\n      <td>NaN</td>\n    </tr>\n    <tr>\n      <th>2</th>\n      <td>0004ff4b-67ff-42b6-a163-88e556affbeb</td>\n      <td>50274946336210000830007</td>\n      <td>0</td>\n      <td>0</td>\n      <td>0</td>\n      <td>0</td>\n      <td>None</td>\n      <td>None</td>\n      <td>2021-11-29 10:29:58</td>\n      <td>0274946336</td>\n      <td>...</td>\n      <td>2022-12-30</td>\n      <td>Bashkortostan_Resp</td>\n      <td>4415139.0</td>\n      <td>NaN</td>\n      <td>RUB</td>\n      <td>NaN</td>\n      <td>None</td>\n      <td>NaN</td>\n      <td>NaN</td>\n      <td>1.0</td>\n    </tr>\n    <tr>\n      <th>3</th>\n      <td>00099013-c9e2-4e87-ac41-10449a63ed0d</td>\n      <td>56662021300210000410001</td>\n      <td>0</td>\n      <td>0</td>\n      <td>0</td>\n      <td>0</td>\n      <td>None</td>\n      <td>None</td>\n      <td>2021-12-17 08:08:43</td>\n      <td>6662021300</td>\n      <td>...</td>\n      <td>2023-12-30</td>\n      <td>Sverdlovskaya_obl</td>\n      <td>139932.0</td>\n      <td>NaN</td>\n      <td>RUB</td>\n      <td>NaN</td>\n      <td>None</td>\n      <td>NaN</td>\n      <td>NaN</td>\n      <td>NaN</td>\n    </tr>\n    <tr>\n      <th>4</th>\n      <td>000ab495-ae5e-42c4-9643-94083ebb7ceb</td>\n      <td>59111006597210000080013</td>\n      <td>0</td>\n      <td>0</td>\n      <td>0</td>\n      <td>0</td>\n      <td>None</td>\n      <td>None</td>\n      <td>2021-10-27 09:33:09</td>\n      <td>9111006597</td>\n      <td>...</td>\n      <td>2022-05-30</td>\n      <td>Krym_Resp</td>\n      <td>1998600.0</td>\n      <td>NaN</td>\n      <td>RUB</td>\n      <td>NaN</td>\n      <td>None</td>\n      <td>NaN</td>\n      <td>NaN</td>\n      <td>1.0</td>\n    </tr>\n    <tr>\n      <th>...</th>\n      <td>...</td>\n      <td>...</td>\n      <td>...</td>\n      <td>...</td>\n      <td>...</td>\n      <td>...</td>\n      <td>...</td>\n      <td>...</td>\n      <td>...</td>\n      <td>...</td>\n      <td>...</td>\n      <td>...</td>\n      <td>...</td>\n      <td>...</td>\n      <td>...</td>\n      <td>...</td>\n      <td>...</td>\n      <td>...</td>\n      <td>...</td>\n      <td>...</td>\n      <td>...</td>\n    </tr>\n    <tr>\n      <th>36594</th>\n      <td>fff6f724-be51-4180-930f-41999fdd5497</td>\n      <td>51435149216210002250001</td>\n      <td>0</td>\n      <td>0</td>\n      <td>0</td>\n      <td>0</td>\n      <td>None</td>\n      <td>None</td>\n      <td>2021-11-25 02:46:38</td>\n      <td>1435149216</td>\n      <td>...</td>\n      <td>2021-12-30</td>\n      <td>Saha_Jakutiya_Resp</td>\n      <td>686400.0</td>\n      <td>NaN</td>\n      <td>RUB</td>\n      <td>NaN</td>\n      <td>None</td>\n      <td>NaN</td>\n      <td>NaN</td>\n      <td>NaN</td>\n    </tr>\n    <tr>\n      <th>36595</th>\n      <td>fff8c702-ba6a-48c2-90d4-67c2c857cfd1</td>\n      <td>67725038124200003980001</td>\n      <td>0</td>\n      <td>0</td>\n      <td>0</td>\n      <td>0</td>\n      <td>None</td>\n      <td>None</td>\n      <td>2020-11-20 08:42:35</td>\n      <td>7725038124</td>\n      <td>...</td>\n      <td>None</td>\n      <td>Moskva</td>\n      <td>23705828.4</td>\n      <td>NaN</td>\n      <td>RUB</td>\n      <td>NaN</td>\n      <td>None</td>\n      <td>NaN</td>\n      <td>NaN</td>\n      <td>0.0</td>\n    </tr>\n    <tr>\n      <th>36596</th>\n      <td>fff8e8de-86d6-413a-b072-3dc7c247fff0</td>\n      <td>54223127015210004910006</td>\n      <td>0</td>\n      <td>1</td>\n      <td>0</td>\n      <td>0</td>\n      <td>None</td>\n      <td>None</td>\n      <td>2021-12-20 03:07:02</td>\n      <td>4223127015</td>\n      <td>...</td>\n      <td>2021-12-30</td>\n      <td>Kemerowskaya_obl</td>\n      <td>49270.5</td>\n      <td>NaN</td>\n      <td>RUB</td>\n      <td>NaN</td>\n      <td>None</td>\n      <td>NaN</td>\n      <td>NaN</td>\n      <td>NaN</td>\n    </tr>\n    <tr>\n      <th>36597</th>\n      <td>fffb9623-244a-4c27-b1c7-4518ab6412bd</td>\n      <td>51431004812210000980001</td>\n      <td>0</td>\n      <td>0</td>\n      <td>0</td>\n      <td>0</td>\n      <td>None</td>\n      <td>None</td>\n      <td>2021-07-07 09:05:27</td>\n      <td>1431004812</td>\n      <td>...</td>\n      <td>2021-12-30</td>\n      <td>Saha_Jakutiya_Resp</td>\n      <td>600600.0</td>\n      <td>NaN</td>\n      <td>RUB</td>\n      <td>NaN</td>\n      <td>None</td>\n      <td>NaN</td>\n      <td>NaN</td>\n      <td>1.0</td>\n    </tr>\n    <tr>\n      <th>36598</th>\n      <td>fffc951e-8b19-4069-8a04-bd4242859bbb</td>\n      <td>67704759968200001230003</td>\n      <td>0</td>\n      <td>0</td>\n      <td>0</td>\n      <td>0</td>\n      <td>None</td>\n      <td>None</td>\n      <td>2020-12-31 09:12:09</td>\n      <td>7704759968</td>\n      <td>...</td>\n      <td>2021-12-30</td>\n      <td>Moskva</td>\n      <td>1279800.0</td>\n      <td>NaN</td>\n      <td>RUB</td>\n      <td>NaN</td>\n      <td>None</td>\n      <td>NaN</td>\n      <td>NaN</td>\n      <td>NaN</td>\n    </tr>\n  </tbody>\n</table>\n<p>36599 rows × 39 columns</p>\n</div>"
     },
     "execution_count": 10,
     "metadata": {},
     "output_type": "execute_result"
    }
   ],
   "source": [
    "covid_contracts_performance_with_lot = pd.read_sql_query(\n",
    "    f\"\"\"\n",
    "    SELECT c.guid as contract_guid, c.registration_number as contract_registration_number,\n",
    "    c.notice_not_placed_by_fz223p5s4 as notice_not_placed_by_fz223p5s4,\n",
    "    c.extension as contract_extension, c.prolongation as contract_prolongation,\n",
    "    c.customer_appeale_or_needs_approval as customer_appeale_or_needs_approval,\n",
    "    c.customer_approval_or_antimonopoly_descision_date as customer_approval_or_antimonopoly_descision_date,\n",
    "    c.plan_position_guid as contract_plan_position_guid,\n",
    "    c.create_date_time as contract_create_date_time,\n",
    "    c.customer_inn as contract_customer_inn, c.placer_inn as contract_placer_inn, c.detached_org_inn as contract_detached_org_inn,\n",
    "    c.publication_date as contract_publication_date, c.contract_status_code as contract_publication_date,\n",
    "    c.emergency as emergency, c.provider as provider, c.provider_code as provider_code, c.contract_reg_number as contract_reg_number,\n",
    "    c.contract_date as contract_date, c.digital_purchase as digital_purchase,\n",
    "    c.purchase_notice_info_guid as purchase_notice_info_guid, c.purchase_notice_info_number as purchase_notice_info_number,\n",
    "    c.lot_guid as lot_guid, c.subject_contract as subject_contract, c.purchase_type_code as purchase_type_code,\n",
    "    c.price as contract_price, c.rub_price as contract_rub_price, c.currency_code as contract_currency_code,\n",
    "    c.start_execution_date as contract_start_execution_date, c.end_execution_date as contract_end_execution_date,\n",
    "    c.region_name as region_name,\n",
    "    pnld.initial_sum as notice_lot_initial_sum, pnld.starting_contract_price_rub as notice_lot_starting_contract_price_rub,\n",
    "    pnld.currency_code as notice_lot_currency_code,\n",
    "    pnld.commodity_price as notice_lot_commodity_price, pnld.commodity_price_rub as notice_lot_commodity_price_rub,\n",
    "    pnld.max_contract_price as notice_lot_max_contract_price, pnld.max_contract_price_rub as notice_lot_max_contract_price_rub,\n",
    "    cp.is_complete as contract_is_complete\n",
    "    FROM covid_contracts c\n",
    "    INNER JOIN purchase_notice_lot pnl ON c.lot_guid = pnl.guid\n",
    "    LEFT JOIN purchase_notice_lot_data pnld on pnl.guid = pnld.purchase_notice_lot_guid\n",
    "    LEFT JOIN (\n",
    "        SELECT c2.contract_reg_number, MIN(is_complete) as is_complete\n",
    "        FROM covid_contracts c2\n",
    "        LEFT JOIN contract_performance cp2 ON c2.contract_reg_number = cp2.contract_registration_number\n",
    "        GROUP BY c2.contract_reg_number\n",
    "    ) cp ON cp.contract_reg_number = c.contract_reg_number\n",
    "    \"\"\",\n",
    "    conn\n",
    ")\n",
    "\n",
    "covid_contracts_performance_with_lot"
   ],
   "metadata": {
    "collapsed": false,
    "pycharm": {
     "name": "#%%\n"
    }
   }
  },
  {
   "cell_type": "markdown",
   "source": [
    "Необходимо дополнить выборку информацией о позициях договора"
   ],
   "metadata": {
    "collapsed": false,
    "pycharm": {
     "name": "#%% md\n"
    }
   }
  },
  {
   "cell_type": "code",
   "execution_count": 11,
   "outputs": [
    {
     "data": {
      "text/plain": "                              contract_guid contract_registration_number  \\\n0      00026a57-3035-45cd-9a0b-598d5b233a6b      57017000450210000030001   \n1      00026a57-3035-45cd-9a0b-598d5b233a6b      57017000450210000030001   \n2      00026a57-3035-45cd-9a0b-598d5b233a6b      57017000450210000030001   \n3      00026a57-3035-45cd-9a0b-598d5b233a6b      57017000450210000030001   \n4      00026a57-3035-45cd-9a0b-598d5b233a6b      57017000450210000030001   \n...                                     ...                          ...   \n87908  fff8e8de-86d6-413a-b072-3dc7c247fff0      54223127015210004910006   \n87909  fff8e8de-86d6-413a-b072-3dc7c247fff0      54223127015210004910006   \n87910  fff8e8de-86d6-413a-b072-3dc7c247fff0      54223127015210004910006   \n87911  fffb9623-244a-4c27-b1c7-4518ab6412bd      51431004812210000980001   \n87912  fffc951e-8b19-4069-8a04-bd4242859bbb      67704759968200001230003   \n\n       notice_not_placed_by_fz223p5s4  contract_extension  \\\n0                                   0                   0   \n1                                   0                   0   \n2                                   0                   0   \n3                                   0                   0   \n4                                   0                   0   \n...                               ...                 ...   \n87908                               0                   1   \n87909                               0                   1   \n87910                               0                   1   \n87911                               0                   0   \n87912                               0                   0   \n\n       contract_prolongation  customer_appeale_or_needs_approval  \\\n0                          0                                   0   \n1                          0                                   0   \n2                          0                                   0   \n3                          0                                   0   \n4                          0                                   0   \n...                      ...                                 ...   \n87908                      0                                   0   \n87909                      0                                   0   \n87910                      0                                   0   \n87911                      0                                   0   \n87912                      0                                   0   \n\n      customer_approval_or_antimonopoly_descision_date  \\\n0                                                 None   \n1                                                 None   \n2                                                 None   \n3                                                 None   \n4                                                 None   \n...                                                ...   \n87908                                             None   \n87909                                             None   \n87910                                             None   \n87911                                             None   \n87912                                             None   \n\n      contract_plan_position_guid contract_create_date_time  \\\n0                            None       2021-01-12 02:56:07   \n1                            None       2021-01-12 02:56:07   \n2                            None       2021-01-12 02:56:07   \n3                            None       2021-01-12 02:56:07   \n4                            None       2021-01-12 02:56:07   \n...                           ...                       ...   \n87908                        None       2021-12-20 03:07:02   \n87909                        None       2021-12-20 03:07:02   \n87910                        None       2021-12-20 03:07:02   \n87911                        None       2021-07-07 09:05:27   \n87912                        None       2020-12-31 09:12:09   \n\n      contract_customer_inn  ...               position_okpd2_name  \\\n0                7017000450  ...  Перчатки хирургические резиновые   \n1                7017000450  ...  Перчатки хирургические резиновые   \n2                7017000450  ...  Перчатки хирургические резиновые   \n3                7017000450  ...  Перчатки хирургические резиновые   \n4                7017000450  ...  Перчатки хирургические резиновые   \n...                     ...  ...                               ...   \n87908            4223127015  ...           Препараты лекарственные   \n87909            4223127015  ...           Препараты лекарственные   \n87910            4223127015  ...           Препараты лекарственные   \n87911            1431004812  ...           Препараты лекарственные   \n87912            7704759968  ...  Услуги в области медицины прочие   \n\n      position_country_code position_producer_country  \\\n0                      None                      None   \n1                      None                      None   \n2                      None                      None   \n3                      None                      None   \n4                      None                      None   \n...                     ...                       ...   \n87908                  None                      None   \n87909                  None                      None   \n87910                  None                      None   \n87911                  None                      None   \n87912                  None                      None   \n\n      position_impossible_to_determine_attr  position_okei_code  \\\n0                                         0                 715   \n1                                         0                 715   \n2                                         0                 715   \n3                                         0                 715   \n4                                         0                 715   \n...                                     ...                 ...   \n87908                                     0                 778   \n87909                                     0                 778   \n87910                                     0                 778   \n87911                                     0                 778   \n87912                                     1                None   \n\n       position_okei_name position_qty position_unit_price  \\\n0            Пара (2 шт.)       4000.0                26.0   \n1            Пара (2 шт.)       5000.0                26.0   \n2            Пара (2 шт.)       1000.0                28.0   \n3            Пара (2 шт.)        100.0                54.0   \n4            Пара (2 шт.)       8000.0                26.0   \n...                   ...          ...                 ...   \n87908            Упаковка         50.0                38.0   \n87909            Упаковка         50.0               194.0   \n87910            Упаковка         20.0               400.0   \n87911            Упаковка         14.0             54600.0   \n87912                None          NaN                 NaN   \n\n      position_rub_unit_price  position_currency_code  \n0                         NaN                     RUB  \n1                         NaN                     RUB  \n2                         NaN                     RUB  \n3                         NaN                     RUB  \n4                         NaN                     RUB  \n...                       ...                     ...  \n87908                     NaN                     RUB  \n87909                     NaN                     RUB  \n87910                     NaN                     RUB  \n87911                     NaN                     RUB  \n87912                     NaN                     RUB  \n\n[87913 rows x 51 columns]",
      "text/html": "<div>\n<style scoped>\n    .dataframe tbody tr th:only-of-type {\n        vertical-align: middle;\n    }\n\n    .dataframe tbody tr th {\n        vertical-align: top;\n    }\n\n    .dataframe thead th {\n        text-align: right;\n    }\n</style>\n<table border=\"1\" class=\"dataframe\">\n  <thead>\n    <tr style=\"text-align: right;\">\n      <th></th>\n      <th>contract_guid</th>\n      <th>contract_registration_number</th>\n      <th>notice_not_placed_by_fz223p5s4</th>\n      <th>contract_extension</th>\n      <th>contract_prolongation</th>\n      <th>customer_appeale_or_needs_approval</th>\n      <th>customer_approval_or_antimonopoly_descision_date</th>\n      <th>contract_plan_position_guid</th>\n      <th>contract_create_date_time</th>\n      <th>contract_customer_inn</th>\n      <th>...</th>\n      <th>position_okpd2_name</th>\n      <th>position_country_code</th>\n      <th>position_producer_country</th>\n      <th>position_impossible_to_determine_attr</th>\n      <th>position_okei_code</th>\n      <th>position_okei_name</th>\n      <th>position_qty</th>\n      <th>position_unit_price</th>\n      <th>position_rub_unit_price</th>\n      <th>position_currency_code</th>\n    </tr>\n  </thead>\n  <tbody>\n    <tr>\n      <th>0</th>\n      <td>00026a57-3035-45cd-9a0b-598d5b233a6b</td>\n      <td>57017000450210000030001</td>\n      <td>0</td>\n      <td>0</td>\n      <td>0</td>\n      <td>0</td>\n      <td>None</td>\n      <td>None</td>\n      <td>2021-01-12 02:56:07</td>\n      <td>7017000450</td>\n      <td>...</td>\n      <td>Перчатки хирургические резиновые</td>\n      <td>None</td>\n      <td>None</td>\n      <td>0</td>\n      <td>715</td>\n      <td>Пара (2 шт.)</td>\n      <td>4000.0</td>\n      <td>26.0</td>\n      <td>NaN</td>\n      <td>RUB</td>\n    </tr>\n    <tr>\n      <th>1</th>\n      <td>00026a57-3035-45cd-9a0b-598d5b233a6b</td>\n      <td>57017000450210000030001</td>\n      <td>0</td>\n      <td>0</td>\n      <td>0</td>\n      <td>0</td>\n      <td>None</td>\n      <td>None</td>\n      <td>2021-01-12 02:56:07</td>\n      <td>7017000450</td>\n      <td>...</td>\n      <td>Перчатки хирургические резиновые</td>\n      <td>None</td>\n      <td>None</td>\n      <td>0</td>\n      <td>715</td>\n      <td>Пара (2 шт.)</td>\n      <td>5000.0</td>\n      <td>26.0</td>\n      <td>NaN</td>\n      <td>RUB</td>\n    </tr>\n    <tr>\n      <th>2</th>\n      <td>00026a57-3035-45cd-9a0b-598d5b233a6b</td>\n      <td>57017000450210000030001</td>\n      <td>0</td>\n      <td>0</td>\n      <td>0</td>\n      <td>0</td>\n      <td>None</td>\n      <td>None</td>\n      <td>2021-01-12 02:56:07</td>\n      <td>7017000450</td>\n      <td>...</td>\n      <td>Перчатки хирургические резиновые</td>\n      <td>None</td>\n      <td>None</td>\n      <td>0</td>\n      <td>715</td>\n      <td>Пара (2 шт.)</td>\n      <td>1000.0</td>\n      <td>28.0</td>\n      <td>NaN</td>\n      <td>RUB</td>\n    </tr>\n    <tr>\n      <th>3</th>\n      <td>00026a57-3035-45cd-9a0b-598d5b233a6b</td>\n      <td>57017000450210000030001</td>\n      <td>0</td>\n      <td>0</td>\n      <td>0</td>\n      <td>0</td>\n      <td>None</td>\n      <td>None</td>\n      <td>2021-01-12 02:56:07</td>\n      <td>7017000450</td>\n      <td>...</td>\n      <td>Перчатки хирургические резиновые</td>\n      <td>None</td>\n      <td>None</td>\n      <td>0</td>\n      <td>715</td>\n      <td>Пара (2 шт.)</td>\n      <td>100.0</td>\n      <td>54.0</td>\n      <td>NaN</td>\n      <td>RUB</td>\n    </tr>\n    <tr>\n      <th>4</th>\n      <td>00026a57-3035-45cd-9a0b-598d5b233a6b</td>\n      <td>57017000450210000030001</td>\n      <td>0</td>\n      <td>0</td>\n      <td>0</td>\n      <td>0</td>\n      <td>None</td>\n      <td>None</td>\n      <td>2021-01-12 02:56:07</td>\n      <td>7017000450</td>\n      <td>...</td>\n      <td>Перчатки хирургические резиновые</td>\n      <td>None</td>\n      <td>None</td>\n      <td>0</td>\n      <td>715</td>\n      <td>Пара (2 шт.)</td>\n      <td>8000.0</td>\n      <td>26.0</td>\n      <td>NaN</td>\n      <td>RUB</td>\n    </tr>\n    <tr>\n      <th>...</th>\n      <td>...</td>\n      <td>...</td>\n      <td>...</td>\n      <td>...</td>\n      <td>...</td>\n      <td>...</td>\n      <td>...</td>\n      <td>...</td>\n      <td>...</td>\n      <td>...</td>\n      <td>...</td>\n      <td>...</td>\n      <td>...</td>\n      <td>...</td>\n      <td>...</td>\n      <td>...</td>\n      <td>...</td>\n      <td>...</td>\n      <td>...</td>\n      <td>...</td>\n      <td>...</td>\n    </tr>\n    <tr>\n      <th>87908</th>\n      <td>fff8e8de-86d6-413a-b072-3dc7c247fff0</td>\n      <td>54223127015210004910006</td>\n      <td>0</td>\n      <td>1</td>\n      <td>0</td>\n      <td>0</td>\n      <td>None</td>\n      <td>None</td>\n      <td>2021-12-20 03:07:02</td>\n      <td>4223127015</td>\n      <td>...</td>\n      <td>Препараты лекарственные</td>\n      <td>None</td>\n      <td>None</td>\n      <td>0</td>\n      <td>778</td>\n      <td>Упаковка</td>\n      <td>50.0</td>\n      <td>38.0</td>\n      <td>NaN</td>\n      <td>RUB</td>\n    </tr>\n    <tr>\n      <th>87909</th>\n      <td>fff8e8de-86d6-413a-b072-3dc7c247fff0</td>\n      <td>54223127015210004910006</td>\n      <td>0</td>\n      <td>1</td>\n      <td>0</td>\n      <td>0</td>\n      <td>None</td>\n      <td>None</td>\n      <td>2021-12-20 03:07:02</td>\n      <td>4223127015</td>\n      <td>...</td>\n      <td>Препараты лекарственные</td>\n      <td>None</td>\n      <td>None</td>\n      <td>0</td>\n      <td>778</td>\n      <td>Упаковка</td>\n      <td>50.0</td>\n      <td>194.0</td>\n      <td>NaN</td>\n      <td>RUB</td>\n    </tr>\n    <tr>\n      <th>87910</th>\n      <td>fff8e8de-86d6-413a-b072-3dc7c247fff0</td>\n      <td>54223127015210004910006</td>\n      <td>0</td>\n      <td>1</td>\n      <td>0</td>\n      <td>0</td>\n      <td>None</td>\n      <td>None</td>\n      <td>2021-12-20 03:07:02</td>\n      <td>4223127015</td>\n      <td>...</td>\n      <td>Препараты лекарственные</td>\n      <td>None</td>\n      <td>None</td>\n      <td>0</td>\n      <td>778</td>\n      <td>Упаковка</td>\n      <td>20.0</td>\n      <td>400.0</td>\n      <td>NaN</td>\n      <td>RUB</td>\n    </tr>\n    <tr>\n      <th>87911</th>\n      <td>fffb9623-244a-4c27-b1c7-4518ab6412bd</td>\n      <td>51431004812210000980001</td>\n      <td>0</td>\n      <td>0</td>\n      <td>0</td>\n      <td>0</td>\n      <td>None</td>\n      <td>None</td>\n      <td>2021-07-07 09:05:27</td>\n      <td>1431004812</td>\n      <td>...</td>\n      <td>Препараты лекарственные</td>\n      <td>None</td>\n      <td>None</td>\n      <td>0</td>\n      <td>778</td>\n      <td>Упаковка</td>\n      <td>14.0</td>\n      <td>54600.0</td>\n      <td>NaN</td>\n      <td>RUB</td>\n    </tr>\n    <tr>\n      <th>87912</th>\n      <td>fffc951e-8b19-4069-8a04-bd4242859bbb</td>\n      <td>67704759968200001230003</td>\n      <td>0</td>\n      <td>0</td>\n      <td>0</td>\n      <td>0</td>\n      <td>None</td>\n      <td>None</td>\n      <td>2020-12-31 09:12:09</td>\n      <td>7704759968</td>\n      <td>...</td>\n      <td>Услуги в области медицины прочие</td>\n      <td>None</td>\n      <td>None</td>\n      <td>1</td>\n      <td>None</td>\n      <td>None</td>\n      <td>NaN</td>\n      <td>NaN</td>\n      <td>NaN</td>\n      <td>RUB</td>\n    </tr>\n  </tbody>\n</table>\n<p>87913 rows × 51 columns</p>\n</div>"
     },
     "execution_count": 11,
     "metadata": {},
     "output_type": "execute_result"
    }
   ],
   "source": [
    "covid_contracts_positions_with_lot = pd.read_sql_query(\n",
    "    f\"\"\"\n",
    "    SELECT c.guid as contract_guid, c.registration_number as contract_registration_number,\n",
    "    c.notice_not_placed_by_fz223p5s4 as notice_not_placed_by_fz223p5s4,\n",
    "    c.extension as contract_extension, c.prolongation as contract_prolongation,\n",
    "    c.customer_appeale_or_needs_approval as customer_appeale_or_needs_approval,\n",
    "    c.customer_approval_or_antimonopoly_descision_date as customer_approval_or_antimonopoly_descision_date,\n",
    "    c.plan_position_guid as contract_plan_position_guid,\n",
    "    c.create_date_time as contract_create_date_time,\n",
    "    c.customer_inn as contract_customer_inn, c.placer_inn as contract_placer_inn, c.detached_org_inn as contract_detached_org_inn,\n",
    "    c.publication_date as contract_publication_date, c.contract_status_code as contract_publication_date,\n",
    "    c.emergency as emergency, c.provider as provider, c.provider_code as provider_code, c.contract_reg_number as contract_reg_number,\n",
    "    c.contract_date as contract_date, c.digital_purchase as digital_purchase,\n",
    "    c.purchase_notice_info_guid as purchase_notice_info_guid, c.purchase_notice_info_number as purchase_notice_info_number,\n",
    "    c.lot_guid as lot_guid, c.subject_contract as subject_contract, c.purchase_type_code as purchase_type_code,\n",
    "    c.price as contract_price, c.rub_price as contract_rub_price, c.currency_code as contract_currency_code,\n",
    "    c.start_execution_date as contract_start_execution_date, c.end_execution_date as contract_end_execution_date,\n",
    "    c.region_name as region_name,\n",
    "    pnld.initial_sum as notice_lot_initial_sum, pnld.starting_contract_price_rub as notice_lot_starting_contract_price_rub,\n",
    "    pnld.currency_code as notice_lot_currency_code,\n",
    "    pnld.commodity_price as notice_lot_commodity_price, pnld.commodity_price_rub as notice_lot_commodity_price_rub,\n",
    "    pnld.max_contract_price as notice_lot_max_contract_price, pnld.max_contract_price_rub as notice_lot_max_contract_price_rub,\n",
    "    cp.is_complete as contract_is_complete,\n",
    "    cpos.name as contract_position_name,\n",
    "    cpos.okpd2_code as position_okpd2_code, cpos.okpd2_name as position_okpd2_name,\n",
    "    cpos.country_code as position_country_code, cpos.producer_country as position_producer_country,\n",
    "    cpos.impossible_to_determine_attr as position_impossible_to_determine_attr, cpos.okei_code as position_okei_code,\n",
    "    cpos.okei_name as position_okei_name, cpos.qty as position_qty, cpos.unit_price as position_unit_price,\n",
    "    cpos.rub_unit_price as position_rub_unit_price, cpos.currency_code as position_currency_code\n",
    "    FROM covid_contracts c\n",
    "    INNER JOIN purchase_notice_lot pnl ON c.lot_guid = pnl.guid\n",
    "    LEFT JOIN purchase_notice_lot_data pnld on pnl.guid = pnld.purchase_notice_lot_guid\n",
    "    LEFT JOIN (\n",
    "        SELECT c2.contract_reg_number, MIN(is_complete) as is_complete\n",
    "        FROM covid_contracts c2\n",
    "        LEFT JOIN contract_performance cp2 ON c2.contract_reg_number = cp2.contract_registration_number\n",
    "        GROUP BY c2.contract_reg_number\n",
    "    ) cp ON cp.contract_reg_number = c.contract_reg_number\n",
    "    LEFT JOIN position_to_contract ptc on c.guid = ptc.contract_guid\n",
    "    LEFT JOIN contract_position cpos on ptc.position_guid = cpos.guid\n",
    "    \"\"\",\n",
    "    conn\n",
    ")\n",
    "\n",
    "covid_contracts_positions_with_lot"
   ],
   "metadata": {
    "collapsed": false,
    "pycharm": {
     "name": "#%%\n"
    }
   }
  },
  {
   "cell_type": "markdown",
   "source": [
    "Добавим информацию о том, сколько договоров заключено по лоту в выборку."
   ],
   "metadata": {
    "collapsed": false,
    "pycharm": {
     "name": "#%% md\n"
    }
   }
  },
  {
   "cell_type": "code",
   "execution_count": 12,
   "outputs": [
    {
     "data": {
      "text/plain": "                                   lot_guid  contracts_for_lot\n0      0001eb03-1d53-4a0d-afed-d15afacc9c03                  1\n1      0004dd94-c6a0-4d95-af6d-b331f1135551                  1\n2      00063eeb-9fc5-4bd1-b269-9ebf61448d5d                  1\n3      00069375-47f6-40d8-8b20-df78140b1416                  1\n4      000b0a3c-7291-4077-836d-73b1ce173a73                  1\n...                                     ...                ...\n36332  fff43019-a748-4955-af26-6f4f1488571f                  1\n36333  fff43d4a-a42c-4665-bfc5-c50c164bf48b                  1\n36334  fff60f78-fc33-4858-ad9e-90605a125069                  1\n36335  fffdce4d-a139-4939-ada5-5bea3fb1d25e                  1\n36336  fffec4c3-a162-4d92-b7ab-3abb51142033                  1\n\n[36337 rows x 2 columns]",
      "text/html": "<div>\n<style scoped>\n    .dataframe tbody tr th:only-of-type {\n        vertical-align: middle;\n    }\n\n    .dataframe tbody tr th {\n        vertical-align: top;\n    }\n\n    .dataframe thead th {\n        text-align: right;\n    }\n</style>\n<table border=\"1\" class=\"dataframe\">\n  <thead>\n    <tr style=\"text-align: right;\">\n      <th></th>\n      <th>lot_guid</th>\n      <th>contracts_for_lot</th>\n    </tr>\n  </thead>\n  <tbody>\n    <tr>\n      <th>0</th>\n      <td>0001eb03-1d53-4a0d-afed-d15afacc9c03</td>\n      <td>1</td>\n    </tr>\n    <tr>\n      <th>1</th>\n      <td>0004dd94-c6a0-4d95-af6d-b331f1135551</td>\n      <td>1</td>\n    </tr>\n    <tr>\n      <th>2</th>\n      <td>00063eeb-9fc5-4bd1-b269-9ebf61448d5d</td>\n      <td>1</td>\n    </tr>\n    <tr>\n      <th>3</th>\n      <td>00069375-47f6-40d8-8b20-df78140b1416</td>\n      <td>1</td>\n    </tr>\n    <tr>\n      <th>4</th>\n      <td>000b0a3c-7291-4077-836d-73b1ce173a73</td>\n      <td>1</td>\n    </tr>\n    <tr>\n      <th>...</th>\n      <td>...</td>\n      <td>...</td>\n    </tr>\n    <tr>\n      <th>36332</th>\n      <td>fff43019-a748-4955-af26-6f4f1488571f</td>\n      <td>1</td>\n    </tr>\n    <tr>\n      <th>36333</th>\n      <td>fff43d4a-a42c-4665-bfc5-c50c164bf48b</td>\n      <td>1</td>\n    </tr>\n    <tr>\n      <th>36334</th>\n      <td>fff60f78-fc33-4858-ad9e-90605a125069</td>\n      <td>1</td>\n    </tr>\n    <tr>\n      <th>36335</th>\n      <td>fffdce4d-a139-4939-ada5-5bea3fb1d25e</td>\n      <td>1</td>\n    </tr>\n    <tr>\n      <th>36336</th>\n      <td>fffec4c3-a162-4d92-b7ab-3abb51142033</td>\n      <td>1</td>\n    </tr>\n  </tbody>\n</table>\n<p>36337 rows × 2 columns</p>\n</div>"
     },
     "execution_count": 12,
     "metadata": {},
     "output_type": "execute_result"
    }
   ],
   "source": [
    "contracts_count_for_lot = pd.read_sql_query(\n",
    "    f\"\"\"\n",
    "    SELECT lot_guid, COUNT(*) as contracts_for_lot\n",
    "    FROM covid_contracts\n",
    "    GROUP BY lot_guid\n",
    "    \"\"\",\n",
    "    conn\n",
    ")\n",
    "\n",
    "contracts_count_for_lot"
   ],
   "metadata": {
    "collapsed": false,
    "pycharm": {
     "name": "#%%\n"
    }
   }
  },
  {
   "cell_type": "code",
   "execution_count": 13,
   "outputs": [
    {
     "data": {
      "text/plain": "                              contract_guid contract_registration_number  \\\n0      00026a57-3035-45cd-9a0b-598d5b233a6b      57017000450210000030001   \n1      00026a57-3035-45cd-9a0b-598d5b233a6b      57017000450210000030001   \n2      00026a57-3035-45cd-9a0b-598d5b233a6b      57017000450210000030001   \n3      00026a57-3035-45cd-9a0b-598d5b233a6b      57017000450210000030001   \n4      00026a57-3035-45cd-9a0b-598d5b233a6b      57017000450210000030001   \n...                                     ...                          ...   \n87908  fff8e8de-86d6-413a-b072-3dc7c247fff0      54223127015210004910006   \n87909  fff8e8de-86d6-413a-b072-3dc7c247fff0      54223127015210004910006   \n87910  fff8e8de-86d6-413a-b072-3dc7c247fff0      54223127015210004910006   \n87911  fffb9623-244a-4c27-b1c7-4518ab6412bd      51431004812210000980001   \n87912  fffc951e-8b19-4069-8a04-bd4242859bbb      67704759968200001230003   \n\n       notice_not_placed_by_fz223p5s4  contract_extension  \\\n0                                   0                   0   \n1                                   0                   0   \n2                                   0                   0   \n3                                   0                   0   \n4                                   0                   0   \n...                               ...                 ...   \n87908                               0                   1   \n87909                               0                   1   \n87910                               0                   1   \n87911                               0                   0   \n87912                               0                   0   \n\n       contract_prolongation  customer_appeale_or_needs_approval  \\\n0                          0                                   0   \n1                          0                                   0   \n2                          0                                   0   \n3                          0                                   0   \n4                          0                                   0   \n...                      ...                                 ...   \n87908                      0                                   0   \n87909                      0                                   0   \n87910                      0                                   0   \n87911                      0                                   0   \n87912                      0                                   0   \n\n      customer_approval_or_antimonopoly_descision_date  \\\n0                                                 None   \n1                                                 None   \n2                                                 None   \n3                                                 None   \n4                                                 None   \n...                                                ...   \n87908                                             None   \n87909                                             None   \n87910                                             None   \n87911                                             None   \n87912                                             None   \n\n      contract_plan_position_guid contract_create_date_time  \\\n0                            None       2021-01-12 02:56:07   \n1                            None       2021-01-12 02:56:07   \n2                            None       2021-01-12 02:56:07   \n3                            None       2021-01-12 02:56:07   \n4                            None       2021-01-12 02:56:07   \n...                           ...                       ...   \n87908                        None       2021-12-20 03:07:02   \n87909                        None       2021-12-20 03:07:02   \n87910                        None       2021-12-20 03:07:02   \n87911                        None       2021-07-07 09:05:27   \n87912                        None       2020-12-31 09:12:09   \n\n      contract_customer_inn  ... position_country_code  \\\n0                7017000450  ...                  None   \n1                7017000450  ...                  None   \n2                7017000450  ...                  None   \n3                7017000450  ...                  None   \n4                7017000450  ...                  None   \n...                     ...  ...                   ...   \n87908            4223127015  ...                  None   \n87909            4223127015  ...                  None   \n87910            4223127015  ...                  None   \n87911            1431004812  ...                  None   \n87912            7704759968  ...                  None   \n\n      position_producer_country position_impossible_to_determine_attr  \\\n0                          None                                     0   \n1                          None                                     0   \n2                          None                                     0   \n3                          None                                     0   \n4                          None                                     0   \n...                         ...                                   ...   \n87908                      None                                     0   \n87909                      None                                     0   \n87910                      None                                     0   \n87911                      None                                     0   \n87912                      None                                     1   \n\n      position_okei_code  position_okei_name  position_qty  \\\n0                    715        Пара (2 шт.)        4000.0   \n1                    715        Пара (2 шт.)        5000.0   \n2                    715        Пара (2 шт.)        1000.0   \n3                    715        Пара (2 шт.)         100.0   \n4                    715        Пара (2 шт.)        8000.0   \n...                  ...                 ...           ...   \n87908                778            Упаковка          50.0   \n87909                778            Упаковка          50.0   \n87910                778            Упаковка          20.0   \n87911                778            Упаковка          14.0   \n87912               None                None           NaN   \n\n      position_unit_price position_rub_unit_price position_currency_code  \\\n0                    26.0                     NaN                    RUB   \n1                    26.0                     NaN                    RUB   \n2                    28.0                     NaN                    RUB   \n3                    54.0                     NaN                    RUB   \n4                    26.0                     NaN                    RUB   \n...                   ...                     ...                    ...   \n87908                38.0                     NaN                    RUB   \n87909               194.0                     NaN                    RUB   \n87910               400.0                     NaN                    RUB   \n87911             54600.0                     NaN                    RUB   \n87912                 NaN                     NaN                    RUB   \n\n       contracts_for_lot  \n0                      1  \n1                      1  \n2                      1  \n3                      1  \n4                      1  \n...                  ...  \n87908                  1  \n87909                  1  \n87910                  1  \n87911                  1  \n87912                  1  \n\n[87913 rows x 52 columns]",
      "text/html": "<div>\n<style scoped>\n    .dataframe tbody tr th:only-of-type {\n        vertical-align: middle;\n    }\n\n    .dataframe tbody tr th {\n        vertical-align: top;\n    }\n\n    .dataframe thead th {\n        text-align: right;\n    }\n</style>\n<table border=\"1\" class=\"dataframe\">\n  <thead>\n    <tr style=\"text-align: right;\">\n      <th></th>\n      <th>contract_guid</th>\n      <th>contract_registration_number</th>\n      <th>notice_not_placed_by_fz223p5s4</th>\n      <th>contract_extension</th>\n      <th>contract_prolongation</th>\n      <th>customer_appeale_or_needs_approval</th>\n      <th>customer_approval_or_antimonopoly_descision_date</th>\n      <th>contract_plan_position_guid</th>\n      <th>contract_create_date_time</th>\n      <th>contract_customer_inn</th>\n      <th>...</th>\n      <th>position_country_code</th>\n      <th>position_producer_country</th>\n      <th>position_impossible_to_determine_attr</th>\n      <th>position_okei_code</th>\n      <th>position_okei_name</th>\n      <th>position_qty</th>\n      <th>position_unit_price</th>\n      <th>position_rub_unit_price</th>\n      <th>position_currency_code</th>\n      <th>contracts_for_lot</th>\n    </tr>\n  </thead>\n  <tbody>\n    <tr>\n      <th>0</th>\n      <td>00026a57-3035-45cd-9a0b-598d5b233a6b</td>\n      <td>57017000450210000030001</td>\n      <td>0</td>\n      <td>0</td>\n      <td>0</td>\n      <td>0</td>\n      <td>None</td>\n      <td>None</td>\n      <td>2021-01-12 02:56:07</td>\n      <td>7017000450</td>\n      <td>...</td>\n      <td>None</td>\n      <td>None</td>\n      <td>0</td>\n      <td>715</td>\n      <td>Пара (2 шт.)</td>\n      <td>4000.0</td>\n      <td>26.0</td>\n      <td>NaN</td>\n      <td>RUB</td>\n      <td>1</td>\n    </tr>\n    <tr>\n      <th>1</th>\n      <td>00026a57-3035-45cd-9a0b-598d5b233a6b</td>\n      <td>57017000450210000030001</td>\n      <td>0</td>\n      <td>0</td>\n      <td>0</td>\n      <td>0</td>\n      <td>None</td>\n      <td>None</td>\n      <td>2021-01-12 02:56:07</td>\n      <td>7017000450</td>\n      <td>...</td>\n      <td>None</td>\n      <td>None</td>\n      <td>0</td>\n      <td>715</td>\n      <td>Пара (2 шт.)</td>\n      <td>5000.0</td>\n      <td>26.0</td>\n      <td>NaN</td>\n      <td>RUB</td>\n      <td>1</td>\n    </tr>\n    <tr>\n      <th>2</th>\n      <td>00026a57-3035-45cd-9a0b-598d5b233a6b</td>\n      <td>57017000450210000030001</td>\n      <td>0</td>\n      <td>0</td>\n      <td>0</td>\n      <td>0</td>\n      <td>None</td>\n      <td>None</td>\n      <td>2021-01-12 02:56:07</td>\n      <td>7017000450</td>\n      <td>...</td>\n      <td>None</td>\n      <td>None</td>\n      <td>0</td>\n      <td>715</td>\n      <td>Пара (2 шт.)</td>\n      <td>1000.0</td>\n      <td>28.0</td>\n      <td>NaN</td>\n      <td>RUB</td>\n      <td>1</td>\n    </tr>\n    <tr>\n      <th>3</th>\n      <td>00026a57-3035-45cd-9a0b-598d5b233a6b</td>\n      <td>57017000450210000030001</td>\n      <td>0</td>\n      <td>0</td>\n      <td>0</td>\n      <td>0</td>\n      <td>None</td>\n      <td>None</td>\n      <td>2021-01-12 02:56:07</td>\n      <td>7017000450</td>\n      <td>...</td>\n      <td>None</td>\n      <td>None</td>\n      <td>0</td>\n      <td>715</td>\n      <td>Пара (2 шт.)</td>\n      <td>100.0</td>\n      <td>54.0</td>\n      <td>NaN</td>\n      <td>RUB</td>\n      <td>1</td>\n    </tr>\n    <tr>\n      <th>4</th>\n      <td>00026a57-3035-45cd-9a0b-598d5b233a6b</td>\n      <td>57017000450210000030001</td>\n      <td>0</td>\n      <td>0</td>\n      <td>0</td>\n      <td>0</td>\n      <td>None</td>\n      <td>None</td>\n      <td>2021-01-12 02:56:07</td>\n      <td>7017000450</td>\n      <td>...</td>\n      <td>None</td>\n      <td>None</td>\n      <td>0</td>\n      <td>715</td>\n      <td>Пара (2 шт.)</td>\n      <td>8000.0</td>\n      <td>26.0</td>\n      <td>NaN</td>\n      <td>RUB</td>\n      <td>1</td>\n    </tr>\n    <tr>\n      <th>...</th>\n      <td>...</td>\n      <td>...</td>\n      <td>...</td>\n      <td>...</td>\n      <td>...</td>\n      <td>...</td>\n      <td>...</td>\n      <td>...</td>\n      <td>...</td>\n      <td>...</td>\n      <td>...</td>\n      <td>...</td>\n      <td>...</td>\n      <td>...</td>\n      <td>...</td>\n      <td>...</td>\n      <td>...</td>\n      <td>...</td>\n      <td>...</td>\n      <td>...</td>\n      <td>...</td>\n    </tr>\n    <tr>\n      <th>87908</th>\n      <td>fff8e8de-86d6-413a-b072-3dc7c247fff0</td>\n      <td>54223127015210004910006</td>\n      <td>0</td>\n      <td>1</td>\n      <td>0</td>\n      <td>0</td>\n      <td>None</td>\n      <td>None</td>\n      <td>2021-12-20 03:07:02</td>\n      <td>4223127015</td>\n      <td>...</td>\n      <td>None</td>\n      <td>None</td>\n      <td>0</td>\n      <td>778</td>\n      <td>Упаковка</td>\n      <td>50.0</td>\n      <td>38.0</td>\n      <td>NaN</td>\n      <td>RUB</td>\n      <td>1</td>\n    </tr>\n    <tr>\n      <th>87909</th>\n      <td>fff8e8de-86d6-413a-b072-3dc7c247fff0</td>\n      <td>54223127015210004910006</td>\n      <td>0</td>\n      <td>1</td>\n      <td>0</td>\n      <td>0</td>\n      <td>None</td>\n      <td>None</td>\n      <td>2021-12-20 03:07:02</td>\n      <td>4223127015</td>\n      <td>...</td>\n      <td>None</td>\n      <td>None</td>\n      <td>0</td>\n      <td>778</td>\n      <td>Упаковка</td>\n      <td>50.0</td>\n      <td>194.0</td>\n      <td>NaN</td>\n      <td>RUB</td>\n      <td>1</td>\n    </tr>\n    <tr>\n      <th>87910</th>\n      <td>fff8e8de-86d6-413a-b072-3dc7c247fff0</td>\n      <td>54223127015210004910006</td>\n      <td>0</td>\n      <td>1</td>\n      <td>0</td>\n      <td>0</td>\n      <td>None</td>\n      <td>None</td>\n      <td>2021-12-20 03:07:02</td>\n      <td>4223127015</td>\n      <td>...</td>\n      <td>None</td>\n      <td>None</td>\n      <td>0</td>\n      <td>778</td>\n      <td>Упаковка</td>\n      <td>20.0</td>\n      <td>400.0</td>\n      <td>NaN</td>\n      <td>RUB</td>\n      <td>1</td>\n    </tr>\n    <tr>\n      <th>87911</th>\n      <td>fffb9623-244a-4c27-b1c7-4518ab6412bd</td>\n      <td>51431004812210000980001</td>\n      <td>0</td>\n      <td>0</td>\n      <td>0</td>\n      <td>0</td>\n      <td>None</td>\n      <td>None</td>\n      <td>2021-07-07 09:05:27</td>\n      <td>1431004812</td>\n      <td>...</td>\n      <td>None</td>\n      <td>None</td>\n      <td>0</td>\n      <td>778</td>\n      <td>Упаковка</td>\n      <td>14.0</td>\n      <td>54600.0</td>\n      <td>NaN</td>\n      <td>RUB</td>\n      <td>1</td>\n    </tr>\n    <tr>\n      <th>87912</th>\n      <td>fffc951e-8b19-4069-8a04-bd4242859bbb</td>\n      <td>67704759968200001230003</td>\n      <td>0</td>\n      <td>0</td>\n      <td>0</td>\n      <td>0</td>\n      <td>None</td>\n      <td>None</td>\n      <td>2020-12-31 09:12:09</td>\n      <td>7704759968</td>\n      <td>...</td>\n      <td>None</td>\n      <td>None</td>\n      <td>1</td>\n      <td>None</td>\n      <td>None</td>\n      <td>NaN</td>\n      <td>NaN</td>\n      <td>NaN</td>\n      <td>RUB</td>\n      <td>1</td>\n    </tr>\n  </tbody>\n</table>\n<p>87913 rows × 52 columns</p>\n</div>"
     },
     "execution_count": 13,
     "metadata": {},
     "output_type": "execute_result"
    }
   ],
   "source": [
    "dataset = pd.merge(\n",
    "    covid_contracts_positions_with_lot,\n",
    "    contracts_count_for_lot,\n",
    "    how='left',\n",
    "    on=['lot_guid']\n",
    ")\n",
    "\n",
    "dataset"
   ],
   "metadata": {
    "collapsed": false,
    "pycharm": {
     "name": "#%%\n"
    }
   }
  },
  {
   "cell_type": "markdown",
   "source": [
    "Добавим информацию об изначальных заказчиках в выборку"
   ],
   "metadata": {
    "collapsed": false,
    "pycharm": {
     "name": "#%% md\n"
    }
   }
  },
  {
   "cell_type": "code",
   "execution_count": 14,
   "outputs": [
    {
     "data": {
      "text/plain": "                              contract_guid notice_customer_inn  \\\n0      00026a57-3035-45cd-9a0b-598d5b233a6b          7017000450   \n1      000423c7-4053-4a7d-adad-7466492a6198          2801022680   \n2      0004ff4b-67ff-42b6-a163-88e556affbeb          0274946336   \n3      00099013-c9e2-4e87-ac41-10449a63ed0d          6662021300   \n4      000ab495-ae5e-42c4-9643-94083ebb7ceb          9111006597   \n...                                     ...                 ...   \n36594  fff6f724-be51-4180-930f-41999fdd5497          1435149216   \n36595  fff8c702-ba6a-48c2-90d4-67c2c857cfd1          7725038124   \n36596  fff8e8de-86d6-413a-b072-3dc7c247fff0          4223127015   \n36597  fffb9623-244a-4c27-b1c7-4518ab6412bd          1431004812   \n36598  fffc951e-8b19-4069-8a04-bd4242859bbb          7704759968   \n\n      notice_placer_inn notice_detached_org_inn  \n0            7017000450                    None  \n1            2801022680                    None  \n2            0274946336                    None  \n3            6662021300                    None  \n4            9111006597                    None  \n...                 ...                     ...  \n36594        7710357167                    None  \n36595        7725038124                    None  \n36596        4223127015                    None  \n36597        1431004812                    None  \n36598        7704759968                    None  \n\n[36599 rows x 4 columns]",
      "text/html": "<div>\n<style scoped>\n    .dataframe tbody tr th:only-of-type {\n        vertical-align: middle;\n    }\n\n    .dataframe tbody tr th {\n        vertical-align: top;\n    }\n\n    .dataframe thead th {\n        text-align: right;\n    }\n</style>\n<table border=\"1\" class=\"dataframe\">\n  <thead>\n    <tr style=\"text-align: right;\">\n      <th></th>\n      <th>contract_guid</th>\n      <th>notice_customer_inn</th>\n      <th>notice_placer_inn</th>\n      <th>notice_detached_org_inn</th>\n    </tr>\n  </thead>\n  <tbody>\n    <tr>\n      <th>0</th>\n      <td>00026a57-3035-45cd-9a0b-598d5b233a6b</td>\n      <td>7017000450</td>\n      <td>7017000450</td>\n      <td>None</td>\n    </tr>\n    <tr>\n      <th>1</th>\n      <td>000423c7-4053-4a7d-adad-7466492a6198</td>\n      <td>2801022680</td>\n      <td>2801022680</td>\n      <td>None</td>\n    </tr>\n    <tr>\n      <th>2</th>\n      <td>0004ff4b-67ff-42b6-a163-88e556affbeb</td>\n      <td>0274946336</td>\n      <td>0274946336</td>\n      <td>None</td>\n    </tr>\n    <tr>\n      <th>3</th>\n      <td>00099013-c9e2-4e87-ac41-10449a63ed0d</td>\n      <td>6662021300</td>\n      <td>6662021300</td>\n      <td>None</td>\n    </tr>\n    <tr>\n      <th>4</th>\n      <td>000ab495-ae5e-42c4-9643-94083ebb7ceb</td>\n      <td>9111006597</td>\n      <td>9111006597</td>\n      <td>None</td>\n    </tr>\n    <tr>\n      <th>...</th>\n      <td>...</td>\n      <td>...</td>\n      <td>...</td>\n      <td>...</td>\n    </tr>\n    <tr>\n      <th>36594</th>\n      <td>fff6f724-be51-4180-930f-41999fdd5497</td>\n      <td>1435149216</td>\n      <td>7710357167</td>\n      <td>None</td>\n    </tr>\n    <tr>\n      <th>36595</th>\n      <td>fff8c702-ba6a-48c2-90d4-67c2c857cfd1</td>\n      <td>7725038124</td>\n      <td>7725038124</td>\n      <td>None</td>\n    </tr>\n    <tr>\n      <th>36596</th>\n      <td>fff8e8de-86d6-413a-b072-3dc7c247fff0</td>\n      <td>4223127015</td>\n      <td>4223127015</td>\n      <td>None</td>\n    </tr>\n    <tr>\n      <th>36597</th>\n      <td>fffb9623-244a-4c27-b1c7-4518ab6412bd</td>\n      <td>1431004812</td>\n      <td>1431004812</td>\n      <td>None</td>\n    </tr>\n    <tr>\n      <th>36598</th>\n      <td>fffc951e-8b19-4069-8a04-bd4242859bbb</td>\n      <td>7704759968</td>\n      <td>7704759968</td>\n      <td>None</td>\n    </tr>\n  </tbody>\n</table>\n<p>36599 rows × 4 columns</p>\n</div>"
     },
     "execution_count": 14,
     "metadata": {},
     "output_type": "execute_result"
    }
   ],
   "source": [
    "notice_customers_for_contract = pd.read_sql_query(\n",
    "    f\"\"\"\n",
    "    SELECT c.guid as contract_guid, pn.customer_inn as notice_customer_inn,\n",
    "        pn.placer_inn as notice_placer_inn, pn.detached_org_inn as notice_detached_org_inn\n",
    "    FROM covid_contracts c\n",
    "    INNER JOIN (\n",
    "        --если несколько извещений с одинаковым номером, выбераем последнее\n",
    "        SELECT c2.guid, c2.purchase_notice_info_number, MAX(pn2.create_date_time) as max_date\n",
    "        FROM covid_contracts c2\n",
    "        INNER JOIN purchase_notice pn2 ON pn2.registration_number = c2.purchase_notice_info_number\n",
    "        AND c2.purchase_notice_info_number is not null\n",
    "        GROUP BY c2.guid, c2.purchase_notice_info_number\n",
    "    ) tmp2 ON c.guid = tmp2.guid\n",
    "    LEFT JOIN purchase_notice pn ON pn.create_date_time = tmp2.max_date AND pn.registration_number = tmp2.purchase_notice_info_number\n",
    "    GROUP BY c.guid, pn.customer_inn, pn.placer_inn, pn.detached_org_inn\n",
    "    \"\"\",\n",
    "    conn\n",
    ")\n",
    "\n",
    "notice_customers_for_contract"
   ],
   "metadata": {
    "collapsed": false,
    "pycharm": {
     "name": "#%%\n"
    }
   }
  },
  {
   "cell_type": "code",
   "execution_count": 15,
   "outputs": [
    {
     "data": {
      "text/plain": "                              contract_guid contract_registration_number  \\\n0      00026a57-3035-45cd-9a0b-598d5b233a6b      57017000450210000030001   \n1      00026a57-3035-45cd-9a0b-598d5b233a6b      57017000450210000030001   \n2      00026a57-3035-45cd-9a0b-598d5b233a6b      57017000450210000030001   \n3      00026a57-3035-45cd-9a0b-598d5b233a6b      57017000450210000030001   \n4      00026a57-3035-45cd-9a0b-598d5b233a6b      57017000450210000030001   \n...                                     ...                          ...   \n87908  fff8e8de-86d6-413a-b072-3dc7c247fff0      54223127015210004910006   \n87909  fff8e8de-86d6-413a-b072-3dc7c247fff0      54223127015210004910006   \n87910  fff8e8de-86d6-413a-b072-3dc7c247fff0      54223127015210004910006   \n87911  fffb9623-244a-4c27-b1c7-4518ab6412bd      51431004812210000980001   \n87912  fffc951e-8b19-4069-8a04-bd4242859bbb      67704759968200001230003   \n\n       notice_not_placed_by_fz223p5s4  contract_extension  \\\n0                                   0                   0   \n1                                   0                   0   \n2                                   0                   0   \n3                                   0                   0   \n4                                   0                   0   \n...                               ...                 ...   \n87908                               0                   1   \n87909                               0                   1   \n87910                               0                   1   \n87911                               0                   0   \n87912                               0                   0   \n\n       contract_prolongation  customer_appeale_or_needs_approval  \\\n0                          0                                   0   \n1                          0                                   0   \n2                          0                                   0   \n3                          0                                   0   \n4                          0                                   0   \n...                      ...                                 ...   \n87908                      0                                   0   \n87909                      0                                   0   \n87910                      0                                   0   \n87911                      0                                   0   \n87912                      0                                   0   \n\n      customer_approval_or_antimonopoly_descision_date  \\\n0                                                 None   \n1                                                 None   \n2                                                 None   \n3                                                 None   \n4                                                 None   \n...                                                ...   \n87908                                             None   \n87909                                             None   \n87910                                             None   \n87911                                             None   \n87912                                             None   \n\n      contract_plan_position_guid contract_create_date_time  \\\n0                            None       2021-01-12 02:56:07   \n1                            None       2021-01-12 02:56:07   \n2                            None       2021-01-12 02:56:07   \n3                            None       2021-01-12 02:56:07   \n4                            None       2021-01-12 02:56:07   \n...                           ...                       ...   \n87908                        None       2021-12-20 03:07:02   \n87909                        None       2021-12-20 03:07:02   \n87910                        None       2021-12-20 03:07:02   \n87911                        None       2021-07-07 09:05:27   \n87912                        None       2020-12-31 09:12:09   \n\n      contract_customer_inn  ... position_okei_code position_okei_name  \\\n0                7017000450  ...                715       Пара (2 шт.)   \n1                7017000450  ...                715       Пара (2 шт.)   \n2                7017000450  ...                715       Пара (2 шт.)   \n3                7017000450  ...                715       Пара (2 шт.)   \n4                7017000450  ...                715       Пара (2 шт.)   \n...                     ...  ...                ...                ...   \n87908            4223127015  ...                778           Упаковка   \n87909            4223127015  ...                778           Упаковка   \n87910            4223127015  ...                778           Упаковка   \n87911            1431004812  ...                778           Упаковка   \n87912            7704759968  ...               None               None   \n\n      position_qty position_unit_price  position_rub_unit_price  \\\n0           4000.0                26.0                      NaN   \n1           5000.0                26.0                      NaN   \n2           1000.0                28.0                      NaN   \n3            100.0                54.0                      NaN   \n4           8000.0                26.0                      NaN   \n...            ...                 ...                      ...   \n87908         50.0                38.0                      NaN   \n87909         50.0               194.0                      NaN   \n87910         20.0               400.0                      NaN   \n87911         14.0             54600.0                      NaN   \n87912          NaN                 NaN                      NaN   \n\n       position_currency_code contracts_for_lot notice_customer_inn  \\\n0                         RUB                 1          7017000450   \n1                         RUB                 1          7017000450   \n2                         RUB                 1          7017000450   \n3                         RUB                 1          7017000450   \n4                         RUB                 1          7017000450   \n...                       ...               ...                 ...   \n87908                     RUB                 1          4223127015   \n87909                     RUB                 1          4223127015   \n87910                     RUB                 1          4223127015   \n87911                     RUB                 1          1431004812   \n87912                     RUB                 1          7704759968   \n\n      notice_placer_inn  notice_detached_org_inn  \n0            7017000450                     None  \n1            7017000450                     None  \n2            7017000450                     None  \n3            7017000450                     None  \n4            7017000450                     None  \n...                 ...                      ...  \n87908        4223127015                     None  \n87909        4223127015                     None  \n87910        4223127015                     None  \n87911        1431004812                     None  \n87912        7704759968                     None  \n\n[87913 rows x 55 columns]",
      "text/html": "<div>\n<style scoped>\n    .dataframe tbody tr th:only-of-type {\n        vertical-align: middle;\n    }\n\n    .dataframe tbody tr th {\n        vertical-align: top;\n    }\n\n    .dataframe thead th {\n        text-align: right;\n    }\n</style>\n<table border=\"1\" class=\"dataframe\">\n  <thead>\n    <tr style=\"text-align: right;\">\n      <th></th>\n      <th>contract_guid</th>\n      <th>contract_registration_number</th>\n      <th>notice_not_placed_by_fz223p5s4</th>\n      <th>contract_extension</th>\n      <th>contract_prolongation</th>\n      <th>customer_appeale_or_needs_approval</th>\n      <th>customer_approval_or_antimonopoly_descision_date</th>\n      <th>contract_plan_position_guid</th>\n      <th>contract_create_date_time</th>\n      <th>contract_customer_inn</th>\n      <th>...</th>\n      <th>position_okei_code</th>\n      <th>position_okei_name</th>\n      <th>position_qty</th>\n      <th>position_unit_price</th>\n      <th>position_rub_unit_price</th>\n      <th>position_currency_code</th>\n      <th>contracts_for_lot</th>\n      <th>notice_customer_inn</th>\n      <th>notice_placer_inn</th>\n      <th>notice_detached_org_inn</th>\n    </tr>\n  </thead>\n  <tbody>\n    <tr>\n      <th>0</th>\n      <td>00026a57-3035-45cd-9a0b-598d5b233a6b</td>\n      <td>57017000450210000030001</td>\n      <td>0</td>\n      <td>0</td>\n      <td>0</td>\n      <td>0</td>\n      <td>None</td>\n      <td>None</td>\n      <td>2021-01-12 02:56:07</td>\n      <td>7017000450</td>\n      <td>...</td>\n      <td>715</td>\n      <td>Пара (2 шт.)</td>\n      <td>4000.0</td>\n      <td>26.0</td>\n      <td>NaN</td>\n      <td>RUB</td>\n      <td>1</td>\n      <td>7017000450</td>\n      <td>7017000450</td>\n      <td>None</td>\n    </tr>\n    <tr>\n      <th>1</th>\n      <td>00026a57-3035-45cd-9a0b-598d5b233a6b</td>\n      <td>57017000450210000030001</td>\n      <td>0</td>\n      <td>0</td>\n      <td>0</td>\n      <td>0</td>\n      <td>None</td>\n      <td>None</td>\n      <td>2021-01-12 02:56:07</td>\n      <td>7017000450</td>\n      <td>...</td>\n      <td>715</td>\n      <td>Пара (2 шт.)</td>\n      <td>5000.0</td>\n      <td>26.0</td>\n      <td>NaN</td>\n      <td>RUB</td>\n      <td>1</td>\n      <td>7017000450</td>\n      <td>7017000450</td>\n      <td>None</td>\n    </tr>\n    <tr>\n      <th>2</th>\n      <td>00026a57-3035-45cd-9a0b-598d5b233a6b</td>\n      <td>57017000450210000030001</td>\n      <td>0</td>\n      <td>0</td>\n      <td>0</td>\n      <td>0</td>\n      <td>None</td>\n      <td>None</td>\n      <td>2021-01-12 02:56:07</td>\n      <td>7017000450</td>\n      <td>...</td>\n      <td>715</td>\n      <td>Пара (2 шт.)</td>\n      <td>1000.0</td>\n      <td>28.0</td>\n      <td>NaN</td>\n      <td>RUB</td>\n      <td>1</td>\n      <td>7017000450</td>\n      <td>7017000450</td>\n      <td>None</td>\n    </tr>\n    <tr>\n      <th>3</th>\n      <td>00026a57-3035-45cd-9a0b-598d5b233a6b</td>\n      <td>57017000450210000030001</td>\n      <td>0</td>\n      <td>0</td>\n      <td>0</td>\n      <td>0</td>\n      <td>None</td>\n      <td>None</td>\n      <td>2021-01-12 02:56:07</td>\n      <td>7017000450</td>\n      <td>...</td>\n      <td>715</td>\n      <td>Пара (2 шт.)</td>\n      <td>100.0</td>\n      <td>54.0</td>\n      <td>NaN</td>\n      <td>RUB</td>\n      <td>1</td>\n      <td>7017000450</td>\n      <td>7017000450</td>\n      <td>None</td>\n    </tr>\n    <tr>\n      <th>4</th>\n      <td>00026a57-3035-45cd-9a0b-598d5b233a6b</td>\n      <td>57017000450210000030001</td>\n      <td>0</td>\n      <td>0</td>\n      <td>0</td>\n      <td>0</td>\n      <td>None</td>\n      <td>None</td>\n      <td>2021-01-12 02:56:07</td>\n      <td>7017000450</td>\n      <td>...</td>\n      <td>715</td>\n      <td>Пара (2 шт.)</td>\n      <td>8000.0</td>\n      <td>26.0</td>\n      <td>NaN</td>\n      <td>RUB</td>\n      <td>1</td>\n      <td>7017000450</td>\n      <td>7017000450</td>\n      <td>None</td>\n    </tr>\n    <tr>\n      <th>...</th>\n      <td>...</td>\n      <td>...</td>\n      <td>...</td>\n      <td>...</td>\n      <td>...</td>\n      <td>...</td>\n      <td>...</td>\n      <td>...</td>\n      <td>...</td>\n      <td>...</td>\n      <td>...</td>\n      <td>...</td>\n      <td>...</td>\n      <td>...</td>\n      <td>...</td>\n      <td>...</td>\n      <td>...</td>\n      <td>...</td>\n      <td>...</td>\n      <td>...</td>\n      <td>...</td>\n    </tr>\n    <tr>\n      <th>87908</th>\n      <td>fff8e8de-86d6-413a-b072-3dc7c247fff0</td>\n      <td>54223127015210004910006</td>\n      <td>0</td>\n      <td>1</td>\n      <td>0</td>\n      <td>0</td>\n      <td>None</td>\n      <td>None</td>\n      <td>2021-12-20 03:07:02</td>\n      <td>4223127015</td>\n      <td>...</td>\n      <td>778</td>\n      <td>Упаковка</td>\n      <td>50.0</td>\n      <td>38.0</td>\n      <td>NaN</td>\n      <td>RUB</td>\n      <td>1</td>\n      <td>4223127015</td>\n      <td>4223127015</td>\n      <td>None</td>\n    </tr>\n    <tr>\n      <th>87909</th>\n      <td>fff8e8de-86d6-413a-b072-3dc7c247fff0</td>\n      <td>54223127015210004910006</td>\n      <td>0</td>\n      <td>1</td>\n      <td>0</td>\n      <td>0</td>\n      <td>None</td>\n      <td>None</td>\n      <td>2021-12-20 03:07:02</td>\n      <td>4223127015</td>\n      <td>...</td>\n      <td>778</td>\n      <td>Упаковка</td>\n      <td>50.0</td>\n      <td>194.0</td>\n      <td>NaN</td>\n      <td>RUB</td>\n      <td>1</td>\n      <td>4223127015</td>\n      <td>4223127015</td>\n      <td>None</td>\n    </tr>\n    <tr>\n      <th>87910</th>\n      <td>fff8e8de-86d6-413a-b072-3dc7c247fff0</td>\n      <td>54223127015210004910006</td>\n      <td>0</td>\n      <td>1</td>\n      <td>0</td>\n      <td>0</td>\n      <td>None</td>\n      <td>None</td>\n      <td>2021-12-20 03:07:02</td>\n      <td>4223127015</td>\n      <td>...</td>\n      <td>778</td>\n      <td>Упаковка</td>\n      <td>20.0</td>\n      <td>400.0</td>\n      <td>NaN</td>\n      <td>RUB</td>\n      <td>1</td>\n      <td>4223127015</td>\n      <td>4223127015</td>\n      <td>None</td>\n    </tr>\n    <tr>\n      <th>87911</th>\n      <td>fffb9623-244a-4c27-b1c7-4518ab6412bd</td>\n      <td>51431004812210000980001</td>\n      <td>0</td>\n      <td>0</td>\n      <td>0</td>\n      <td>0</td>\n      <td>None</td>\n      <td>None</td>\n      <td>2021-07-07 09:05:27</td>\n      <td>1431004812</td>\n      <td>...</td>\n      <td>778</td>\n      <td>Упаковка</td>\n      <td>14.0</td>\n      <td>54600.0</td>\n      <td>NaN</td>\n      <td>RUB</td>\n      <td>1</td>\n      <td>1431004812</td>\n      <td>1431004812</td>\n      <td>None</td>\n    </tr>\n    <tr>\n      <th>87912</th>\n      <td>fffc951e-8b19-4069-8a04-bd4242859bbb</td>\n      <td>67704759968200001230003</td>\n      <td>0</td>\n      <td>0</td>\n      <td>0</td>\n      <td>0</td>\n      <td>None</td>\n      <td>None</td>\n      <td>2020-12-31 09:12:09</td>\n      <td>7704759968</td>\n      <td>...</td>\n      <td>None</td>\n      <td>None</td>\n      <td>NaN</td>\n      <td>NaN</td>\n      <td>NaN</td>\n      <td>RUB</td>\n      <td>1</td>\n      <td>7704759968</td>\n      <td>7704759968</td>\n      <td>None</td>\n    </tr>\n  </tbody>\n</table>\n<p>87913 rows × 55 columns</p>\n</div>"
     },
     "execution_count": 15,
     "metadata": {},
     "output_type": "execute_result"
    }
   ],
   "source": [
    "dataset = pd.merge(\n",
    "    dataset,\n",
    "    notice_customers_for_contract,\n",
    "    how='left',\n",
    "    on='contract_guid'\n",
    ")\n",
    "\n",
    "dataset"
   ],
   "metadata": {
    "collapsed": false,
    "pycharm": {
     "name": "#%%\n"
    }
   }
  },
  {
   "cell_type": "markdown",
   "source": [
    "Добавим информацию о том, сколько позиций в каждом контракте"
   ],
   "metadata": {
    "collapsed": false,
    "pycharm": {
     "name": "#%% md\n"
    }
   }
  },
  {
   "cell_type": "code",
   "execution_count": 16,
   "outputs": [
    {
     "data": {
      "text/plain": "                              contract_guid  contract_positions_count\n0      00026a57-3035-45cd-9a0b-598d5b233a6b                         8\n1      000423c7-4053-4a7d-adad-7466492a6198                         1\n2      0004ff4b-67ff-42b6-a163-88e556affbeb                         3\n3      00099013-c9e2-4e87-ac41-10449a63ed0d                         2\n4      000ab495-ae5e-42c4-9643-94083ebb7ceb                        21\n...                                     ...                       ...\n36594  fff6f724-be51-4180-930f-41999fdd5497                         1\n36595  fff8c702-ba6a-48c2-90d4-67c2c857cfd1                         1\n36596  fff8e8de-86d6-413a-b072-3dc7c247fff0                         6\n36597  fffb9623-244a-4c27-b1c7-4518ab6412bd                         1\n36598  fffc951e-8b19-4069-8a04-bd4242859bbb                         1\n\n[36599 rows x 2 columns]",
      "text/html": "<div>\n<style scoped>\n    .dataframe tbody tr th:only-of-type {\n        vertical-align: middle;\n    }\n\n    .dataframe tbody tr th {\n        vertical-align: top;\n    }\n\n    .dataframe thead th {\n        text-align: right;\n    }\n</style>\n<table border=\"1\" class=\"dataframe\">\n  <thead>\n    <tr style=\"text-align: right;\">\n      <th></th>\n      <th>contract_guid</th>\n      <th>contract_positions_count</th>\n    </tr>\n  </thead>\n  <tbody>\n    <tr>\n      <th>0</th>\n      <td>00026a57-3035-45cd-9a0b-598d5b233a6b</td>\n      <td>8</td>\n    </tr>\n    <tr>\n      <th>1</th>\n      <td>000423c7-4053-4a7d-adad-7466492a6198</td>\n      <td>1</td>\n    </tr>\n    <tr>\n      <th>2</th>\n      <td>0004ff4b-67ff-42b6-a163-88e556affbeb</td>\n      <td>3</td>\n    </tr>\n    <tr>\n      <th>3</th>\n      <td>00099013-c9e2-4e87-ac41-10449a63ed0d</td>\n      <td>2</td>\n    </tr>\n    <tr>\n      <th>4</th>\n      <td>000ab495-ae5e-42c4-9643-94083ebb7ceb</td>\n      <td>21</td>\n    </tr>\n    <tr>\n      <th>...</th>\n      <td>...</td>\n      <td>...</td>\n    </tr>\n    <tr>\n      <th>36594</th>\n      <td>fff6f724-be51-4180-930f-41999fdd5497</td>\n      <td>1</td>\n    </tr>\n    <tr>\n      <th>36595</th>\n      <td>fff8c702-ba6a-48c2-90d4-67c2c857cfd1</td>\n      <td>1</td>\n    </tr>\n    <tr>\n      <th>36596</th>\n      <td>fff8e8de-86d6-413a-b072-3dc7c247fff0</td>\n      <td>6</td>\n    </tr>\n    <tr>\n      <th>36597</th>\n      <td>fffb9623-244a-4c27-b1c7-4518ab6412bd</td>\n      <td>1</td>\n    </tr>\n    <tr>\n      <th>36598</th>\n      <td>fffc951e-8b19-4069-8a04-bd4242859bbb</td>\n      <td>1</td>\n    </tr>\n  </tbody>\n</table>\n<p>36599 rows × 2 columns</p>\n</div>"
     },
     "execution_count": 16,
     "metadata": {},
     "output_type": "execute_result"
    }
   ],
   "source": [
    "contract_positions_count = pd.read_sql_query(\n",
    "    f\"\"\"\n",
    "    SELECT c.guid as contract_guid, COUNT(*) as contract_positions_count\n",
    "    FROM covid_contracts c\n",
    "    INNER JOIN purchase_notice_lot pnl ON c.lot_guid = pnl.guid\n",
    "    LEFT JOIN position_to_contract ptc on c.guid = ptc.contract_guid\n",
    "    LEFT JOIN contract_position cpos on ptc.position_guid = cpos.guid\n",
    "    GROUP BY c.guid\n",
    "    \"\"\",\n",
    "    conn\n",
    ")\n",
    "\n",
    "contract_positions_count"
   ],
   "metadata": {
    "collapsed": false,
    "pycharm": {
     "name": "#%%\n"
    }
   }
  },
  {
   "cell_type": "code",
   "execution_count": 17,
   "outputs": [
    {
     "data": {
      "text/plain": "                              contract_guid contract_registration_number  \\\n0      00026a57-3035-45cd-9a0b-598d5b233a6b      57017000450210000030001   \n1      00026a57-3035-45cd-9a0b-598d5b233a6b      57017000450210000030001   \n2      00026a57-3035-45cd-9a0b-598d5b233a6b      57017000450210000030001   \n3      00026a57-3035-45cd-9a0b-598d5b233a6b      57017000450210000030001   \n4      00026a57-3035-45cd-9a0b-598d5b233a6b      57017000450210000030001   \n...                                     ...                          ...   \n87908  fff8e8de-86d6-413a-b072-3dc7c247fff0      54223127015210004910006   \n87909  fff8e8de-86d6-413a-b072-3dc7c247fff0      54223127015210004910006   \n87910  fff8e8de-86d6-413a-b072-3dc7c247fff0      54223127015210004910006   \n87911  fffb9623-244a-4c27-b1c7-4518ab6412bd      51431004812210000980001   \n87912  fffc951e-8b19-4069-8a04-bd4242859bbb      67704759968200001230003   \n\n       notice_not_placed_by_fz223p5s4  contract_extension  \\\n0                                   0                   0   \n1                                   0                   0   \n2                                   0                   0   \n3                                   0                   0   \n4                                   0                   0   \n...                               ...                 ...   \n87908                               0                   1   \n87909                               0                   1   \n87910                               0                   1   \n87911                               0                   0   \n87912                               0                   0   \n\n       contract_prolongation  customer_appeale_or_needs_approval  \\\n0                          0                                   0   \n1                          0                                   0   \n2                          0                                   0   \n3                          0                                   0   \n4                          0                                   0   \n...                      ...                                 ...   \n87908                      0                                   0   \n87909                      0                                   0   \n87910                      0                                   0   \n87911                      0                                   0   \n87912                      0                                   0   \n\n      customer_approval_or_antimonopoly_descision_date  \\\n0                                                 None   \n1                                                 None   \n2                                                 None   \n3                                                 None   \n4                                                 None   \n...                                                ...   \n87908                                             None   \n87909                                             None   \n87910                                             None   \n87911                                             None   \n87912                                             None   \n\n      contract_plan_position_guid contract_create_date_time  \\\n0                            None       2021-01-12 02:56:07   \n1                            None       2021-01-12 02:56:07   \n2                            None       2021-01-12 02:56:07   \n3                            None       2021-01-12 02:56:07   \n4                            None       2021-01-12 02:56:07   \n...                           ...                       ...   \n87908                        None       2021-12-20 03:07:02   \n87909                        None       2021-12-20 03:07:02   \n87910                        None       2021-12-20 03:07:02   \n87911                        None       2021-07-07 09:05:27   \n87912                        None       2020-12-31 09:12:09   \n\n      contract_customer_inn  ... position_okei_name position_qty  \\\n0                7017000450  ...       Пара (2 шт.)       4000.0   \n1                7017000450  ...       Пара (2 шт.)       5000.0   \n2                7017000450  ...       Пара (2 шт.)       1000.0   \n3                7017000450  ...       Пара (2 шт.)        100.0   \n4                7017000450  ...       Пара (2 шт.)       8000.0   \n...                     ...  ...                ...          ...   \n87908            4223127015  ...           Упаковка         50.0   \n87909            4223127015  ...           Упаковка         50.0   \n87910            4223127015  ...           Упаковка         20.0   \n87911            1431004812  ...           Упаковка         14.0   \n87912            7704759968  ...               None          NaN   \n\n      position_unit_price position_rub_unit_price  position_currency_code  \\\n0                    26.0                     NaN                     RUB   \n1                    26.0                     NaN                     RUB   \n2                    28.0                     NaN                     RUB   \n3                    54.0                     NaN                     RUB   \n4                    26.0                     NaN                     RUB   \n...                   ...                     ...                     ...   \n87908                38.0                     NaN                     RUB   \n87909               194.0                     NaN                     RUB   \n87910               400.0                     NaN                     RUB   \n87911             54600.0                     NaN                     RUB   \n87912                 NaN                     NaN                     RUB   \n\n       contracts_for_lot notice_customer_inn notice_placer_inn  \\\n0                      1          7017000450        7017000450   \n1                      1          7017000450        7017000450   \n2                      1          7017000450        7017000450   \n3                      1          7017000450        7017000450   \n4                      1          7017000450        7017000450   \n...                  ...                 ...               ...   \n87908                  1          4223127015        4223127015   \n87909                  1          4223127015        4223127015   \n87910                  1          4223127015        4223127015   \n87911                  1          1431004812        1431004812   \n87912                  1          7704759968        7704759968   \n\n      notice_detached_org_inn  contract_positions_count  \n0                        None                         8  \n1                        None                         8  \n2                        None                         8  \n3                        None                         8  \n4                        None                         8  \n...                       ...                       ...  \n87908                    None                         6  \n87909                    None                         6  \n87910                    None                         6  \n87911                    None                         1  \n87912                    None                         1  \n\n[87913 rows x 56 columns]",
      "text/html": "<div>\n<style scoped>\n    .dataframe tbody tr th:only-of-type {\n        vertical-align: middle;\n    }\n\n    .dataframe tbody tr th {\n        vertical-align: top;\n    }\n\n    .dataframe thead th {\n        text-align: right;\n    }\n</style>\n<table border=\"1\" class=\"dataframe\">\n  <thead>\n    <tr style=\"text-align: right;\">\n      <th></th>\n      <th>contract_guid</th>\n      <th>contract_registration_number</th>\n      <th>notice_not_placed_by_fz223p5s4</th>\n      <th>contract_extension</th>\n      <th>contract_prolongation</th>\n      <th>customer_appeale_or_needs_approval</th>\n      <th>customer_approval_or_antimonopoly_descision_date</th>\n      <th>contract_plan_position_guid</th>\n      <th>contract_create_date_time</th>\n      <th>contract_customer_inn</th>\n      <th>...</th>\n      <th>position_okei_name</th>\n      <th>position_qty</th>\n      <th>position_unit_price</th>\n      <th>position_rub_unit_price</th>\n      <th>position_currency_code</th>\n      <th>contracts_for_lot</th>\n      <th>notice_customer_inn</th>\n      <th>notice_placer_inn</th>\n      <th>notice_detached_org_inn</th>\n      <th>contract_positions_count</th>\n    </tr>\n  </thead>\n  <tbody>\n    <tr>\n      <th>0</th>\n      <td>00026a57-3035-45cd-9a0b-598d5b233a6b</td>\n      <td>57017000450210000030001</td>\n      <td>0</td>\n      <td>0</td>\n      <td>0</td>\n      <td>0</td>\n      <td>None</td>\n      <td>None</td>\n      <td>2021-01-12 02:56:07</td>\n      <td>7017000450</td>\n      <td>...</td>\n      <td>Пара (2 шт.)</td>\n      <td>4000.0</td>\n      <td>26.0</td>\n      <td>NaN</td>\n      <td>RUB</td>\n      <td>1</td>\n      <td>7017000450</td>\n      <td>7017000450</td>\n      <td>None</td>\n      <td>8</td>\n    </tr>\n    <tr>\n      <th>1</th>\n      <td>00026a57-3035-45cd-9a0b-598d5b233a6b</td>\n      <td>57017000450210000030001</td>\n      <td>0</td>\n      <td>0</td>\n      <td>0</td>\n      <td>0</td>\n      <td>None</td>\n      <td>None</td>\n      <td>2021-01-12 02:56:07</td>\n      <td>7017000450</td>\n      <td>...</td>\n      <td>Пара (2 шт.)</td>\n      <td>5000.0</td>\n      <td>26.0</td>\n      <td>NaN</td>\n      <td>RUB</td>\n      <td>1</td>\n      <td>7017000450</td>\n      <td>7017000450</td>\n      <td>None</td>\n      <td>8</td>\n    </tr>\n    <tr>\n      <th>2</th>\n      <td>00026a57-3035-45cd-9a0b-598d5b233a6b</td>\n      <td>57017000450210000030001</td>\n      <td>0</td>\n      <td>0</td>\n      <td>0</td>\n      <td>0</td>\n      <td>None</td>\n      <td>None</td>\n      <td>2021-01-12 02:56:07</td>\n      <td>7017000450</td>\n      <td>...</td>\n      <td>Пара (2 шт.)</td>\n      <td>1000.0</td>\n      <td>28.0</td>\n      <td>NaN</td>\n      <td>RUB</td>\n      <td>1</td>\n      <td>7017000450</td>\n      <td>7017000450</td>\n      <td>None</td>\n      <td>8</td>\n    </tr>\n    <tr>\n      <th>3</th>\n      <td>00026a57-3035-45cd-9a0b-598d5b233a6b</td>\n      <td>57017000450210000030001</td>\n      <td>0</td>\n      <td>0</td>\n      <td>0</td>\n      <td>0</td>\n      <td>None</td>\n      <td>None</td>\n      <td>2021-01-12 02:56:07</td>\n      <td>7017000450</td>\n      <td>...</td>\n      <td>Пара (2 шт.)</td>\n      <td>100.0</td>\n      <td>54.0</td>\n      <td>NaN</td>\n      <td>RUB</td>\n      <td>1</td>\n      <td>7017000450</td>\n      <td>7017000450</td>\n      <td>None</td>\n      <td>8</td>\n    </tr>\n    <tr>\n      <th>4</th>\n      <td>00026a57-3035-45cd-9a0b-598d5b233a6b</td>\n      <td>57017000450210000030001</td>\n      <td>0</td>\n      <td>0</td>\n      <td>0</td>\n      <td>0</td>\n      <td>None</td>\n      <td>None</td>\n      <td>2021-01-12 02:56:07</td>\n      <td>7017000450</td>\n      <td>...</td>\n      <td>Пара (2 шт.)</td>\n      <td>8000.0</td>\n      <td>26.0</td>\n      <td>NaN</td>\n      <td>RUB</td>\n      <td>1</td>\n      <td>7017000450</td>\n      <td>7017000450</td>\n      <td>None</td>\n      <td>8</td>\n    </tr>\n    <tr>\n      <th>...</th>\n      <td>...</td>\n      <td>...</td>\n      <td>...</td>\n      <td>...</td>\n      <td>...</td>\n      <td>...</td>\n      <td>...</td>\n      <td>...</td>\n      <td>...</td>\n      <td>...</td>\n      <td>...</td>\n      <td>...</td>\n      <td>...</td>\n      <td>...</td>\n      <td>...</td>\n      <td>...</td>\n      <td>...</td>\n      <td>...</td>\n      <td>...</td>\n      <td>...</td>\n      <td>...</td>\n    </tr>\n    <tr>\n      <th>87908</th>\n      <td>fff8e8de-86d6-413a-b072-3dc7c247fff0</td>\n      <td>54223127015210004910006</td>\n      <td>0</td>\n      <td>1</td>\n      <td>0</td>\n      <td>0</td>\n      <td>None</td>\n      <td>None</td>\n      <td>2021-12-20 03:07:02</td>\n      <td>4223127015</td>\n      <td>...</td>\n      <td>Упаковка</td>\n      <td>50.0</td>\n      <td>38.0</td>\n      <td>NaN</td>\n      <td>RUB</td>\n      <td>1</td>\n      <td>4223127015</td>\n      <td>4223127015</td>\n      <td>None</td>\n      <td>6</td>\n    </tr>\n    <tr>\n      <th>87909</th>\n      <td>fff8e8de-86d6-413a-b072-3dc7c247fff0</td>\n      <td>54223127015210004910006</td>\n      <td>0</td>\n      <td>1</td>\n      <td>0</td>\n      <td>0</td>\n      <td>None</td>\n      <td>None</td>\n      <td>2021-12-20 03:07:02</td>\n      <td>4223127015</td>\n      <td>...</td>\n      <td>Упаковка</td>\n      <td>50.0</td>\n      <td>194.0</td>\n      <td>NaN</td>\n      <td>RUB</td>\n      <td>1</td>\n      <td>4223127015</td>\n      <td>4223127015</td>\n      <td>None</td>\n      <td>6</td>\n    </tr>\n    <tr>\n      <th>87910</th>\n      <td>fff8e8de-86d6-413a-b072-3dc7c247fff0</td>\n      <td>54223127015210004910006</td>\n      <td>0</td>\n      <td>1</td>\n      <td>0</td>\n      <td>0</td>\n      <td>None</td>\n      <td>None</td>\n      <td>2021-12-20 03:07:02</td>\n      <td>4223127015</td>\n      <td>...</td>\n      <td>Упаковка</td>\n      <td>20.0</td>\n      <td>400.0</td>\n      <td>NaN</td>\n      <td>RUB</td>\n      <td>1</td>\n      <td>4223127015</td>\n      <td>4223127015</td>\n      <td>None</td>\n      <td>6</td>\n    </tr>\n    <tr>\n      <th>87911</th>\n      <td>fffb9623-244a-4c27-b1c7-4518ab6412bd</td>\n      <td>51431004812210000980001</td>\n      <td>0</td>\n      <td>0</td>\n      <td>0</td>\n      <td>0</td>\n      <td>None</td>\n      <td>None</td>\n      <td>2021-07-07 09:05:27</td>\n      <td>1431004812</td>\n      <td>...</td>\n      <td>Упаковка</td>\n      <td>14.0</td>\n      <td>54600.0</td>\n      <td>NaN</td>\n      <td>RUB</td>\n      <td>1</td>\n      <td>1431004812</td>\n      <td>1431004812</td>\n      <td>None</td>\n      <td>1</td>\n    </tr>\n    <tr>\n      <th>87912</th>\n      <td>fffc951e-8b19-4069-8a04-bd4242859bbb</td>\n      <td>67704759968200001230003</td>\n      <td>0</td>\n      <td>0</td>\n      <td>0</td>\n      <td>0</td>\n      <td>None</td>\n      <td>None</td>\n      <td>2020-12-31 09:12:09</td>\n      <td>7704759968</td>\n      <td>...</td>\n      <td>None</td>\n      <td>NaN</td>\n      <td>NaN</td>\n      <td>NaN</td>\n      <td>RUB</td>\n      <td>1</td>\n      <td>7704759968</td>\n      <td>7704759968</td>\n      <td>None</td>\n      <td>1</td>\n    </tr>\n  </tbody>\n</table>\n<p>87913 rows × 56 columns</p>\n</div>"
     },
     "execution_count": 17,
     "metadata": {},
     "output_type": "execute_result"
    }
   ],
   "source": [
    "dataset = pd.merge(\n",
    "    dataset,\n",
    "    contract_positions_count,\n",
    "    how='left',\n",
    "    on='contract_guid'\n",
    ")\n",
    "\n",
    "dataset\n"
   ],
   "metadata": {
    "collapsed": false,
    "pycharm": {
     "name": "#%%\n"
    }
   }
  },
  {
   "cell_type": "markdown",
   "source": [
    "Добавим в выборку информацию о поставщиках\n"
   ],
   "metadata": {
    "collapsed": false,
    "pycharm": {
     "name": "#%% md\n"
    }
   }
  },
  {
   "cell_type": "code",
   "execution_count": 18,
   "outputs": [
    {
     "data": {
      "text/plain": "                                  lot_guid  supplier_inn  \\\n0     001180aa-ec39-fe24-e63b-de59c6c8b320    7717729216   \n1     002db7ef-9ca6-4b69-abce-04c3b9b7a06a    6452925517   \n2     002e39a4-d83c-48e4-90a8-37f4cb45fecd    5001000041   \n3     00305ade-c747-4999-b604-f4146cd4025d  551200523301   \n4     0046cc75-3f65-47db-be53-2ad0ce7b202c    7453040371   \n...                                    ...           ...   \n3111  ffaa3d53-69f7-48e7-a679-8cbc44eb7bbd    7725628067   \n3112  ffb5bde5-3196-49ec-b1d8-9385a4bed2d0    7725628067   \n3113  ffe29952-0bec-4deb-8422-0a118b0842e7    4003032047   \n3114  ffe6f942-bfa1-4f78-bb1c-a8b0cf755881          None   \n3115  ffefd4b8-0b0a-42ee-bfc7-3cd36ccf6166    7814108542   \n\n                                          supplier_name  supplier_ogrn  \\\n0     ОБЩЕСТВО С ОГРАНИЧЕННОЙ ОТВЕТСТВЕННОСТЬЮ \"ВЫСО...  1127746547895   \n1        Общество с ограниченной ответственностью «СОК»  1066450129382   \n2                  АКЦИОНЕРНОЕ ОБЩЕСТВО \"ЛИНДЕ ГАЗ РУС\"  1025000508191   \n3                              Бердник Елена Михайловна           None   \n4     Челябинское региональное отделение Общероссийс...  1207400002706   \n...                                                 ...            ...   \n3111                                    ООО \"БионаФарм\"  1087746155111   \n3112                                    ООО \"БионаФарм\"  1087746155111   \n3113  Общество с ограниченной ответственностью «Торг...  1114025005720   \n3114                                ООО «СТАТУС-РЕГИОН»           None   \n3115                                 ООО \"Лизоформ-СПб\"  1037832001745   \n\n         supplier_type  \n0     Юридическое лицо  \n1     Юридическое лицо  \n2     Юридическое лицо  \n3      Физическое лицо  \n4     Юридическое лицо  \n...                ...  \n3111  Юридическое лицо  \n3112  Юридическое лицо  \n3113  Юридическое лицо  \n3114  Юридическое лицо  \n3115  Юридическое лицо  \n\n[3116 rows x 5 columns]",
      "text/html": "<div>\n<style scoped>\n    .dataframe tbody tr th:only-of-type {\n        vertical-align: middle;\n    }\n\n    .dataframe tbody tr th {\n        vertical-align: top;\n    }\n\n    .dataframe thead th {\n        text-align: right;\n    }\n</style>\n<table border=\"1\" class=\"dataframe\">\n  <thead>\n    <tr style=\"text-align: right;\">\n      <th></th>\n      <th>lot_guid</th>\n      <th>supplier_inn</th>\n      <th>supplier_name</th>\n      <th>supplier_ogrn</th>\n      <th>supplier_type</th>\n    </tr>\n  </thead>\n  <tbody>\n    <tr>\n      <th>0</th>\n      <td>001180aa-ec39-fe24-e63b-de59c6c8b320</td>\n      <td>7717729216</td>\n      <td>ОБЩЕСТВО С ОГРАНИЧЕННОЙ ОТВЕТСТВЕННОСТЬЮ \"ВЫСО...</td>\n      <td>1127746547895</td>\n      <td>Юридическое лицо</td>\n    </tr>\n    <tr>\n      <th>1</th>\n      <td>002db7ef-9ca6-4b69-abce-04c3b9b7a06a</td>\n      <td>6452925517</td>\n      <td>Общество с ограниченной ответственностью «СОК»</td>\n      <td>1066450129382</td>\n      <td>Юридическое лицо</td>\n    </tr>\n    <tr>\n      <th>2</th>\n      <td>002e39a4-d83c-48e4-90a8-37f4cb45fecd</td>\n      <td>5001000041</td>\n      <td>АКЦИОНЕРНОЕ ОБЩЕСТВО \"ЛИНДЕ ГАЗ РУС\"</td>\n      <td>1025000508191</td>\n      <td>Юридическое лицо</td>\n    </tr>\n    <tr>\n      <th>3</th>\n      <td>00305ade-c747-4999-b604-f4146cd4025d</td>\n      <td>551200523301</td>\n      <td>Бердник Елена Михайловна</td>\n      <td>None</td>\n      <td>Физическое лицо</td>\n    </tr>\n    <tr>\n      <th>4</th>\n      <td>0046cc75-3f65-47db-be53-2ad0ce7b202c</td>\n      <td>7453040371</td>\n      <td>Челябинское региональное отделение Общероссийс...</td>\n      <td>1207400002706</td>\n      <td>Юридическое лицо</td>\n    </tr>\n    <tr>\n      <th>...</th>\n      <td>...</td>\n      <td>...</td>\n      <td>...</td>\n      <td>...</td>\n      <td>...</td>\n    </tr>\n    <tr>\n      <th>3111</th>\n      <td>ffaa3d53-69f7-48e7-a679-8cbc44eb7bbd</td>\n      <td>7725628067</td>\n      <td>ООО \"БионаФарм\"</td>\n      <td>1087746155111</td>\n      <td>Юридическое лицо</td>\n    </tr>\n    <tr>\n      <th>3112</th>\n      <td>ffb5bde5-3196-49ec-b1d8-9385a4bed2d0</td>\n      <td>7725628067</td>\n      <td>ООО \"БионаФарм\"</td>\n      <td>1087746155111</td>\n      <td>Юридическое лицо</td>\n    </tr>\n    <tr>\n      <th>3113</th>\n      <td>ffe29952-0bec-4deb-8422-0a118b0842e7</td>\n      <td>4003032047</td>\n      <td>Общество с ограниченной ответственностью «Торг...</td>\n      <td>1114025005720</td>\n      <td>Юридическое лицо</td>\n    </tr>\n    <tr>\n      <th>3114</th>\n      <td>ffe6f942-bfa1-4f78-bb1c-a8b0cf755881</td>\n      <td>None</td>\n      <td>ООО «СТАТУС-РЕГИОН»</td>\n      <td>None</td>\n      <td>Юридическое лицо</td>\n    </tr>\n    <tr>\n      <th>3115</th>\n      <td>ffefd4b8-0b0a-42ee-bfc7-3cd36ccf6166</td>\n      <td>7814108542</td>\n      <td>ООО \"Лизоформ-СПб\"</td>\n      <td>1037832001745</td>\n      <td>Юридическое лицо</td>\n    </tr>\n  </tbody>\n</table>\n<p>3116 rows × 5 columns</p>\n</div>"
     },
     "execution_count": 18,
     "metadata": {},
     "output_type": "execute_result"
    }
   ],
   "source": [
    "lot_suppliers = pd.read_sql_query(\n",
    "    f\"\"\"\n",
    "    SELECT lot_guid, si2.inn as supplier_inn,\n",
    "        si2.name as supplier_name, si2.ogrn as supplier_ogrn, si2.type as supplier_type\n",
    "    FROM (\n",
    "        SELECT lot_guid, MAX(supplier_guid) as supplier_guid\n",
    "        FROM (\n",
    "            SELECT c.lot_guid, COUNT(*) as lot_count\n",
    "            FROM covid_contracts c\n",
    "            GROUP BY c.lot_guid\n",
    "        ) tmp1\n",
    "        INNER JOIN protocol_lot pl ON tmp1.lot_guid = pl.guid\n",
    "        LEFT JOIN protocol_lot_applications pla on pl.guid = pla.protocol_lot_guid\n",
    "        LEFT JOIN application a on pla.id = a.protocol_lot_applications_id\n",
    "        LEFT JOIN supplier_info si on a.supplier_guid = si.guid\n",
    "        WHERE (contract_signed = 1 or\n",
    "         (a.winner_indication = 'Победитель'and contract_signed is null))\n",
    "         and (supplier_guid is not null)\n",
    "         and tmp1.lot_count = 1\n",
    "        GROUP BY lot_guid\n",
    "    ) sup\n",
    "    LEFT JOIN supplier_info si2 ON si2.guid = sup.supplier_guid;\n",
    "    \"\"\",\n",
    "    conn\n",
    ")\n",
    "\n",
    "lot_suppliers"
   ],
   "metadata": {
    "collapsed": false,
    "pycharm": {
     "name": "#%%\n"
    }
   }
  },
  {
   "cell_type": "code",
   "execution_count": 19,
   "outputs": [
    {
     "data": {
      "text/plain": "                              contract_guid contract_registration_number  \\\n0      00026a57-3035-45cd-9a0b-598d5b233a6b      57017000450210000030001   \n1      00026a57-3035-45cd-9a0b-598d5b233a6b      57017000450210000030001   \n2      00026a57-3035-45cd-9a0b-598d5b233a6b      57017000450210000030001   \n3      00026a57-3035-45cd-9a0b-598d5b233a6b      57017000450210000030001   \n4      00026a57-3035-45cd-9a0b-598d5b233a6b      57017000450210000030001   \n...                                     ...                          ...   \n87908  fff8e8de-86d6-413a-b072-3dc7c247fff0      54223127015210004910006   \n87909  fff8e8de-86d6-413a-b072-3dc7c247fff0      54223127015210004910006   \n87910  fff8e8de-86d6-413a-b072-3dc7c247fff0      54223127015210004910006   \n87911  fffb9623-244a-4c27-b1c7-4518ab6412bd      51431004812210000980001   \n87912  fffc951e-8b19-4069-8a04-bd4242859bbb      67704759968200001230003   \n\n       notice_not_placed_by_fz223p5s4  contract_extension  \\\n0                                   0                   0   \n1                                   0                   0   \n2                                   0                   0   \n3                                   0                   0   \n4                                   0                   0   \n...                               ...                 ...   \n87908                               0                   1   \n87909                               0                   1   \n87910                               0                   1   \n87911                               0                   0   \n87912                               0                   0   \n\n       contract_prolongation  customer_appeale_or_needs_approval  \\\n0                          0                                   0   \n1                          0                                   0   \n2                          0                                   0   \n3                          0                                   0   \n4                          0                                   0   \n...                      ...                                 ...   \n87908                      0                                   0   \n87909                      0                                   0   \n87910                      0                                   0   \n87911                      0                                   0   \n87912                      0                                   0   \n\n      customer_approval_or_antimonopoly_descision_date  \\\n0                                                 None   \n1                                                 None   \n2                                                 None   \n3                                                 None   \n4                                                 None   \n...                                                ...   \n87908                                             None   \n87909                                             None   \n87910                                             None   \n87911                                             None   \n87912                                             None   \n\n      contract_plan_position_guid contract_create_date_time  \\\n0                            None       2021-01-12 02:56:07   \n1                            None       2021-01-12 02:56:07   \n2                            None       2021-01-12 02:56:07   \n3                            None       2021-01-12 02:56:07   \n4                            None       2021-01-12 02:56:07   \n...                           ...                       ...   \n87908                        None       2021-12-20 03:07:02   \n87909                        None       2021-12-20 03:07:02   \n87910                        None       2021-12-20 03:07:02   \n87911                        None       2021-07-07 09:05:27   \n87912                        None       2020-12-31 09:12:09   \n\n      contract_customer_inn  ... position_currency_code contracts_for_lot  \\\n0                7017000450  ...                    RUB                 1   \n1                7017000450  ...                    RUB                 1   \n2                7017000450  ...                    RUB                 1   \n3                7017000450  ...                    RUB                 1   \n4                7017000450  ...                    RUB                 1   \n...                     ...  ...                    ...               ...   \n87908            4223127015  ...                    RUB                 1   \n87909            4223127015  ...                    RUB                 1   \n87910            4223127015  ...                    RUB                 1   \n87911            1431004812  ...                    RUB                 1   \n87912            7704759968  ...                    RUB                 1   \n\n      notice_customer_inn notice_placer_inn  notice_detached_org_inn  \\\n0              7017000450        7017000450                     None   \n1              7017000450        7017000450                     None   \n2              7017000450        7017000450                     None   \n3              7017000450        7017000450                     None   \n4              7017000450        7017000450                     None   \n...                   ...               ...                      ...   \n87908          4223127015        4223127015                     None   \n87909          4223127015        4223127015                     None   \n87910          4223127015        4223127015                     None   \n87911          1431004812        1431004812                     None   \n87912          7704759968        7704759968                     None   \n\n       contract_positions_count supplier_inn supplier_name supplier_ogrn  \\\n0                             8          NaN           NaN           NaN   \n1                             8          NaN           NaN           NaN   \n2                             8          NaN           NaN           NaN   \n3                             8          NaN           NaN           NaN   \n4                             8          NaN           NaN           NaN   \n...                         ...          ...           ...           ...   \n87908                         6          NaN           NaN           NaN   \n87909                         6          NaN           NaN           NaN   \n87910                         6          NaN           NaN           NaN   \n87911                         1          NaN           NaN           NaN   \n87912                         1          NaN           NaN           NaN   \n\n       supplier_type  \n0                NaN  \n1                NaN  \n2                NaN  \n3                NaN  \n4                NaN  \n...              ...  \n87908            NaN  \n87909            NaN  \n87910            NaN  \n87911            NaN  \n87912            NaN  \n\n[87913 rows x 60 columns]",
      "text/html": "<div>\n<style scoped>\n    .dataframe tbody tr th:only-of-type {\n        vertical-align: middle;\n    }\n\n    .dataframe tbody tr th {\n        vertical-align: top;\n    }\n\n    .dataframe thead th {\n        text-align: right;\n    }\n</style>\n<table border=\"1\" class=\"dataframe\">\n  <thead>\n    <tr style=\"text-align: right;\">\n      <th></th>\n      <th>contract_guid</th>\n      <th>contract_registration_number</th>\n      <th>notice_not_placed_by_fz223p5s4</th>\n      <th>contract_extension</th>\n      <th>contract_prolongation</th>\n      <th>customer_appeale_or_needs_approval</th>\n      <th>customer_approval_or_antimonopoly_descision_date</th>\n      <th>contract_plan_position_guid</th>\n      <th>contract_create_date_time</th>\n      <th>contract_customer_inn</th>\n      <th>...</th>\n      <th>position_currency_code</th>\n      <th>contracts_for_lot</th>\n      <th>notice_customer_inn</th>\n      <th>notice_placer_inn</th>\n      <th>notice_detached_org_inn</th>\n      <th>contract_positions_count</th>\n      <th>supplier_inn</th>\n      <th>supplier_name</th>\n      <th>supplier_ogrn</th>\n      <th>supplier_type</th>\n    </tr>\n  </thead>\n  <tbody>\n    <tr>\n      <th>0</th>\n      <td>00026a57-3035-45cd-9a0b-598d5b233a6b</td>\n      <td>57017000450210000030001</td>\n      <td>0</td>\n      <td>0</td>\n      <td>0</td>\n      <td>0</td>\n      <td>None</td>\n      <td>None</td>\n      <td>2021-01-12 02:56:07</td>\n      <td>7017000450</td>\n      <td>...</td>\n      <td>RUB</td>\n      <td>1</td>\n      <td>7017000450</td>\n      <td>7017000450</td>\n      <td>None</td>\n      <td>8</td>\n      <td>NaN</td>\n      <td>NaN</td>\n      <td>NaN</td>\n      <td>NaN</td>\n    </tr>\n    <tr>\n      <th>1</th>\n      <td>00026a57-3035-45cd-9a0b-598d5b233a6b</td>\n      <td>57017000450210000030001</td>\n      <td>0</td>\n      <td>0</td>\n      <td>0</td>\n      <td>0</td>\n      <td>None</td>\n      <td>None</td>\n      <td>2021-01-12 02:56:07</td>\n      <td>7017000450</td>\n      <td>...</td>\n      <td>RUB</td>\n      <td>1</td>\n      <td>7017000450</td>\n      <td>7017000450</td>\n      <td>None</td>\n      <td>8</td>\n      <td>NaN</td>\n      <td>NaN</td>\n      <td>NaN</td>\n      <td>NaN</td>\n    </tr>\n    <tr>\n      <th>2</th>\n      <td>00026a57-3035-45cd-9a0b-598d5b233a6b</td>\n      <td>57017000450210000030001</td>\n      <td>0</td>\n      <td>0</td>\n      <td>0</td>\n      <td>0</td>\n      <td>None</td>\n      <td>None</td>\n      <td>2021-01-12 02:56:07</td>\n      <td>7017000450</td>\n      <td>...</td>\n      <td>RUB</td>\n      <td>1</td>\n      <td>7017000450</td>\n      <td>7017000450</td>\n      <td>None</td>\n      <td>8</td>\n      <td>NaN</td>\n      <td>NaN</td>\n      <td>NaN</td>\n      <td>NaN</td>\n    </tr>\n    <tr>\n      <th>3</th>\n      <td>00026a57-3035-45cd-9a0b-598d5b233a6b</td>\n      <td>57017000450210000030001</td>\n      <td>0</td>\n      <td>0</td>\n      <td>0</td>\n      <td>0</td>\n      <td>None</td>\n      <td>None</td>\n      <td>2021-01-12 02:56:07</td>\n      <td>7017000450</td>\n      <td>...</td>\n      <td>RUB</td>\n      <td>1</td>\n      <td>7017000450</td>\n      <td>7017000450</td>\n      <td>None</td>\n      <td>8</td>\n      <td>NaN</td>\n      <td>NaN</td>\n      <td>NaN</td>\n      <td>NaN</td>\n    </tr>\n    <tr>\n      <th>4</th>\n      <td>00026a57-3035-45cd-9a0b-598d5b233a6b</td>\n      <td>57017000450210000030001</td>\n      <td>0</td>\n      <td>0</td>\n      <td>0</td>\n      <td>0</td>\n      <td>None</td>\n      <td>None</td>\n      <td>2021-01-12 02:56:07</td>\n      <td>7017000450</td>\n      <td>...</td>\n      <td>RUB</td>\n      <td>1</td>\n      <td>7017000450</td>\n      <td>7017000450</td>\n      <td>None</td>\n      <td>8</td>\n      <td>NaN</td>\n      <td>NaN</td>\n      <td>NaN</td>\n      <td>NaN</td>\n    </tr>\n    <tr>\n      <th>...</th>\n      <td>...</td>\n      <td>...</td>\n      <td>...</td>\n      <td>...</td>\n      <td>...</td>\n      <td>...</td>\n      <td>...</td>\n      <td>...</td>\n      <td>...</td>\n      <td>...</td>\n      <td>...</td>\n      <td>...</td>\n      <td>...</td>\n      <td>...</td>\n      <td>...</td>\n      <td>...</td>\n      <td>...</td>\n      <td>...</td>\n      <td>...</td>\n      <td>...</td>\n      <td>...</td>\n    </tr>\n    <tr>\n      <th>87908</th>\n      <td>fff8e8de-86d6-413a-b072-3dc7c247fff0</td>\n      <td>54223127015210004910006</td>\n      <td>0</td>\n      <td>1</td>\n      <td>0</td>\n      <td>0</td>\n      <td>None</td>\n      <td>None</td>\n      <td>2021-12-20 03:07:02</td>\n      <td>4223127015</td>\n      <td>...</td>\n      <td>RUB</td>\n      <td>1</td>\n      <td>4223127015</td>\n      <td>4223127015</td>\n      <td>None</td>\n      <td>6</td>\n      <td>NaN</td>\n      <td>NaN</td>\n      <td>NaN</td>\n      <td>NaN</td>\n    </tr>\n    <tr>\n      <th>87909</th>\n      <td>fff8e8de-86d6-413a-b072-3dc7c247fff0</td>\n      <td>54223127015210004910006</td>\n      <td>0</td>\n      <td>1</td>\n      <td>0</td>\n      <td>0</td>\n      <td>None</td>\n      <td>None</td>\n      <td>2021-12-20 03:07:02</td>\n      <td>4223127015</td>\n      <td>...</td>\n      <td>RUB</td>\n      <td>1</td>\n      <td>4223127015</td>\n      <td>4223127015</td>\n      <td>None</td>\n      <td>6</td>\n      <td>NaN</td>\n      <td>NaN</td>\n      <td>NaN</td>\n      <td>NaN</td>\n    </tr>\n    <tr>\n      <th>87910</th>\n      <td>fff8e8de-86d6-413a-b072-3dc7c247fff0</td>\n      <td>54223127015210004910006</td>\n      <td>0</td>\n      <td>1</td>\n      <td>0</td>\n      <td>0</td>\n      <td>None</td>\n      <td>None</td>\n      <td>2021-12-20 03:07:02</td>\n      <td>4223127015</td>\n      <td>...</td>\n      <td>RUB</td>\n      <td>1</td>\n      <td>4223127015</td>\n      <td>4223127015</td>\n      <td>None</td>\n      <td>6</td>\n      <td>NaN</td>\n      <td>NaN</td>\n      <td>NaN</td>\n      <td>NaN</td>\n    </tr>\n    <tr>\n      <th>87911</th>\n      <td>fffb9623-244a-4c27-b1c7-4518ab6412bd</td>\n      <td>51431004812210000980001</td>\n      <td>0</td>\n      <td>0</td>\n      <td>0</td>\n      <td>0</td>\n      <td>None</td>\n      <td>None</td>\n      <td>2021-07-07 09:05:27</td>\n      <td>1431004812</td>\n      <td>...</td>\n      <td>RUB</td>\n      <td>1</td>\n      <td>1431004812</td>\n      <td>1431004812</td>\n      <td>None</td>\n      <td>1</td>\n      <td>NaN</td>\n      <td>NaN</td>\n      <td>NaN</td>\n      <td>NaN</td>\n    </tr>\n    <tr>\n      <th>87912</th>\n      <td>fffc951e-8b19-4069-8a04-bd4242859bbb</td>\n      <td>67704759968200001230003</td>\n      <td>0</td>\n      <td>0</td>\n      <td>0</td>\n      <td>0</td>\n      <td>None</td>\n      <td>None</td>\n      <td>2020-12-31 09:12:09</td>\n      <td>7704759968</td>\n      <td>...</td>\n      <td>RUB</td>\n      <td>1</td>\n      <td>7704759968</td>\n      <td>7704759968</td>\n      <td>None</td>\n      <td>1</td>\n      <td>NaN</td>\n      <td>NaN</td>\n      <td>NaN</td>\n      <td>NaN</td>\n    </tr>\n  </tbody>\n</table>\n<p>87913 rows × 60 columns</p>\n</div>"
     },
     "execution_count": 19,
     "metadata": {},
     "output_type": "execute_result"
    }
   ],
   "source": [
    "dataset = pd.merge(\n",
    "    dataset,\n",
    "    lot_suppliers,\n",
    "    how='left',\n",
    "    on='lot_guid'\n",
    ")\n",
    "\n",
    "dataset"
   ],
   "metadata": {
    "collapsed": false,
    "pycharm": {
     "name": "#%%\n"
    }
   }
  },
  {
   "cell_type": "code",
   "execution_count": 20,
   "outputs": [],
   "source": [
    "from pathlib import Path\n",
    "from typing import Union, Optional\n",
    "import numpy as np\n",
    "import pandas as pd\n",
    "from openpyxl import load_workbook\n",
    "from openpyxl.utils import get_column_letter\n",
    "\n",
    "def append_df_to_excel(\n",
    "        filename: Union[str, Path],\n",
    "        df: pd.DataFrame,\n",
    "        sheet_name: str = 'Sheet1',\n",
    "        max_col_width: int = 30,\n",
    "        autofilter: bool = False,\n",
    "        fmt_int: str = \"#,##0\",\n",
    "        fmt_float: str = \"#,##0.00\",\n",
    "        fmt_date: str = \"yyyy-mm-dd\",\n",
    "        fmt_datetime: str = \"yyyy-mm-dd hh:mm\",\n",
    "        truncate_sheet: bool = False,\n",
    "        storage_options: Optional[dict] = None,\n",
    "        **to_excel_kwargs\n",
    ") -> None:\n",
    "    def set_column_format(ws, column_letter, fmt):\n",
    "        for cell in ws[column_letter]:\n",
    "            cell.number_format = fmt\n",
    "    filename = Path(filename)\n",
    "    file_exists = filename.is_file()\n",
    "    first_col = int(to_excel_kwargs.get(\"index\", True)) + 1\n",
    "    if 'engine' in to_excel_kwargs:\n",
    "        to_excel_kwargs.pop('engine')\n",
    "    if file_exists:\n",
    "        wb = load_workbook(filename)\n",
    "        sheets = {ws.title: ws for ws in wb.worksheets}\n",
    "\n",
    "    with pd.ExcelWriter(\n",
    "        filename.with_suffix(\".xlsx\"),\n",
    "        engine=\"openpyxl\",\n",
    "        mode=\"a\" if file_exists else \"w\",\n",
    "        if_sheet_exists=\"new\" if file_exists else None,\n",
    "        date_format=fmt_date,\n",
    "        datetime_format=fmt_datetime,\n",
    "        storage_options=storage_options\n",
    "    ) as writer:\n",
    "        if file_exists:\n",
    "            writer.book = wb\n",
    "            if truncate_sheet and sheet_name in writer.book.sheetnames:\n",
    "                idx = writer.book.sheetnames.index(sheet_name)\n",
    "                writer.book.remove(writer.book.worksheets[idx])\n",
    "                writer.book.create_sheet(sheet_name, idx)\n",
    "            writer.sheets = sheets\n",
    "\n",
    "        df.to_excel(writer, sheet_name=sheet_name, **to_excel_kwargs)\n",
    "        worksheet = writer.sheets[sheet_name]\n",
    "\n",
    "        if autofilter:\n",
    "            worksheet.auto_filter.ref = worksheet.dimensions\n",
    "\n",
    "        for xl_col_no, dtyp in enumerate(df.dtypes, first_col):\n",
    "            col_no = xl_col_no - first_col\n",
    "            width = max(df.iloc[:, col_no].astype(str).str.len().max(),\n",
    "                        len(df.columns[col_no]) + 6)\n",
    "            width = min(max_col_width, width)\n",
    "            column_letter = get_column_letter(xl_col_no)\n",
    "            worksheet.column_dimensions[column_letter].width = width\n",
    "            if np.issubdtype(dtyp, np.integer):\n",
    "                set_column_format(worksheet, column_letter, fmt_int)\n",
    "            if np.issubdtype(dtyp, np.floating):\n",
    "                set_column_format(worksheet, column_letter, fmt_float)"
   ],
   "metadata": {
    "collapsed": false,
    "pycharm": {
     "name": "#%%\n"
    }
   }
  },
  {
   "cell_type": "markdown",
   "source": [
    "Выгрузим датасет в эксель"
   ],
   "metadata": {
    "collapsed": false,
    "pycharm": {
     "name": "#%% md\n"
    }
   }
  },
  {
   "cell_type": "code",
   "execution_count": 21,
   "outputs": [],
   "source": [
    "append_df_to_excel(\"output.xlsx\", dataset, sheet_name=\"Main\")"
   ],
   "metadata": {
    "collapsed": false,
    "pycharm": {
     "name": "#%%\n"
    }
   }
  },
  {
   "cell_type": "markdown",
   "source": [
    "Найдём информацию о заявках, на интересующие нас лоты\n"
   ],
   "metadata": {
    "collapsed": false,
    "pycharm": {
     "name": "#%% md\n"
    }
   }
  },
  {
   "cell_type": "code",
   "execution_count": 22,
   "outputs": [
    {
     "data": {
      "text/plain": "                                  lot_guid  lot_initial_sum  \\\n0     001180aa-ec39-fe24-e63b-de59c6c8b320        532546.68   \n1     001180aa-ec39-fe24-e63b-de59c6c8b320        532546.68   \n2     001180aa-ec39-fe24-e63b-de59c6c8b320        532546.68   \n3     001180aa-ec39-fe24-e63b-de59c6c8b320        532546.68   \n4     002db7ef-9ca6-4b69-abce-04c3b9b7a06a        201605.00   \n...                                    ...              ...   \n4717  ff8fe63f-bf6c-4a95-b8f3-c7d10862d11d        405650.00   \n4718  ffaa3d53-69f7-48e7-a679-8cbc44eb7bbd       7356621.88   \n4719  ffb5bde5-3196-49ec-b1d8-9385a4bed2d0       2050145.44   \n4720  ffe29952-0bec-4deb-8422-0a118b0842e7        525000.00   \n4721  ffefd4b8-0b0a-42ee-bfc7-3cd36ccf6166        151620.00   \n\n     lot_commodity_price  lot_max_contract_price  lot_non_price  \\\n0                   None                     NaN            NaN   \n1                   None                     NaN            NaN   \n2                   None                     NaN            NaN   \n3                   None                     NaN            NaN   \n4                   None                     NaN            0.0   \n...                  ...                     ...            ...   \n4717                None                     NaN            0.0   \n4718                None                     NaN            0.0   \n4719                None                     NaN            0.0   \n4720                None                     NaN            0.0   \n4721                None                     NaN            0.0   \n\n     lot_currency_code     application_date  application_not_dishonest  \\\n0                  RUB  2021-09-29 11:18:52                          1   \n1                  RUB  2021-09-30 09:40:50                          1   \n2                  RUB  2021-09-30 06:20:07                          1   \n3                  RUB  2021-09-30 08:31:16                          1   \n4                  RUB  2020-07-31 08:00:00                          1   \n...                ...                  ...                        ...   \n4717               RUB  2020-09-24 05:45:00                          1   \n4718               RUB  2020-11-13 19:40:00                          1   \n4719               RUB  2020-11-30 12:30:00                          1   \n4720               RUB  2021-09-29 08:00:00                          1   \n4721               RUB  2021-10-21 09:00:00                          1   \n\n      application_provider                         supplier_guid  ...  \\\n0                        1  1c9f992c-e5ef-45c3-9a26-5cae096c0914  ...   \n1                        1  5ea6fc6f-832d-4ffb-b16e-dc6dd159a4c6  ...   \n2                        1  d9ce1e3e-75d0-45b3-abcc-86d3f5fd5066  ...   \n3                        1  f6d6a2c5-0644-4bf6-b351-55d43380fd02  ...   \n4                        0  796b9df1-59ad-4f1e-9069-0dc84b229d88  ...   \n...                    ...                                   ...  ...   \n4717                     0  64b75fbb-16f5-458a-a550-3b2eb5939fc6  ...   \n4718                     1  48a73f6e-5714-4792-87c3-0ffd0597131d  ...   \n4719                     1  48a73f6e-5714-4792-87c3-0ffd0597131d  ...   \n4720                     0  dbd4a182-5e48-4976-8016-510706a4f1cf  ...   \n4721                     0  f73bb57d-cf7c-49bd-ae43-15e9cc696430  ...   \n\n     application_price application_currency_code application_accepted  \\\n0            528360.00                       RUB              Допущен   \n1            528179.80                       RUB              Допущен   \n2            528286.31                       RUB              Допущен   \n3            532546.68                       RUB              Допущен   \n4            201605.00                       RUB              Допущен   \n...                ...                       ...                  ...   \n4717         405650.00                       RUB              Допущен   \n4718        7356621.88                       RUB              Допущен   \n4719        2050145.44                       RUB              Допущен   \n4720         525000.00                       RUB              Допущен   \n4721         151620.00                       RUB              Допущен   \n\n     application_rejection_reason_code  application_winner_indication  \\\n0                                 None                           None   \n1                                 None                           None   \n2                                 None                           None   \n3                                 None                           None   \n4             STRUCTURE_CONTENT_DESIGN                           None   \n...                                ...                            ...   \n4717          STRUCTURE_CONTENT_DESIGN                           None   \n4718          STRUCTURE_CONTENT_DESIGN                           None   \n4719          STRUCTURE_CONTENT_DESIGN                           None   \n4720          STRUCTURE_CONTENT_DESIGN                           None   \n4721          STRUCTURE_CONTENT_DESIGN                           None   \n\n     application_contract_signed application_additional_price  \\\n0                            NaN                          NaN   \n1                            1.0                          NaN   \n2                            NaN                          NaN   \n3                            NaN                          NaN   \n4                            1.0                    201605.00   \n...                          ...                          ...   \n4717                         1.0                          NaN   \n4718                         1.0                   7356621.88   \n4719                         1.0                   2050145.44   \n4720                         1.0                          NaN   \n4721                         1.0                          NaN   \n\n     application_rating application_assessment_result  \\\n0                   NaN                           3.0   \n1                   NaN                           1.0   \n2                   NaN                           2.0   \n3                   NaN                           4.0   \n4                   1.0                           NaN   \n...                 ...                           ...   \n4717                NaN                           NaN   \n4718                1.0                           NaN   \n4719                1.0                           NaN   \n4720                NaN                           NaN   \n4721                NaN                           NaN   \n\n      application_commission_decision_place  \n0                                       3.0  \n1                                       1.0  \n2                                       2.0  \n3                                       4.0  \n4                                       1.0  \n...                                     ...  \n4717                                    0.0  \n4718                                    1.0  \n4719                                    1.0  \n4720                                    1.0  \n4721                                    0.0  \n\n[4722 rows x 24 columns]",
      "text/html": "<div>\n<style scoped>\n    .dataframe tbody tr th:only-of-type {\n        vertical-align: middle;\n    }\n\n    .dataframe tbody tr th {\n        vertical-align: top;\n    }\n\n    .dataframe thead th {\n        text-align: right;\n    }\n</style>\n<table border=\"1\" class=\"dataframe\">\n  <thead>\n    <tr style=\"text-align: right;\">\n      <th></th>\n      <th>lot_guid</th>\n      <th>lot_initial_sum</th>\n      <th>lot_commodity_price</th>\n      <th>lot_max_contract_price</th>\n      <th>lot_non_price</th>\n      <th>lot_currency_code</th>\n      <th>application_date</th>\n      <th>application_not_dishonest</th>\n      <th>application_provider</th>\n      <th>supplier_guid</th>\n      <th>...</th>\n      <th>application_price</th>\n      <th>application_currency_code</th>\n      <th>application_accepted</th>\n      <th>application_rejection_reason_code</th>\n      <th>application_winner_indication</th>\n      <th>application_contract_signed</th>\n      <th>application_additional_price</th>\n      <th>application_rating</th>\n      <th>application_assessment_result</th>\n      <th>application_commission_decision_place</th>\n    </tr>\n  </thead>\n  <tbody>\n    <tr>\n      <th>0</th>\n      <td>001180aa-ec39-fe24-e63b-de59c6c8b320</td>\n      <td>532546.68</td>\n      <td>None</td>\n      <td>NaN</td>\n      <td>NaN</td>\n      <td>RUB</td>\n      <td>2021-09-29 11:18:52</td>\n      <td>1</td>\n      <td>1</td>\n      <td>1c9f992c-e5ef-45c3-9a26-5cae096c0914</td>\n      <td>...</td>\n      <td>528360.00</td>\n      <td>RUB</td>\n      <td>Допущен</td>\n      <td>None</td>\n      <td>None</td>\n      <td>NaN</td>\n      <td>NaN</td>\n      <td>NaN</td>\n      <td>3.0</td>\n      <td>3.0</td>\n    </tr>\n    <tr>\n      <th>1</th>\n      <td>001180aa-ec39-fe24-e63b-de59c6c8b320</td>\n      <td>532546.68</td>\n      <td>None</td>\n      <td>NaN</td>\n      <td>NaN</td>\n      <td>RUB</td>\n      <td>2021-09-30 09:40:50</td>\n      <td>1</td>\n      <td>1</td>\n      <td>5ea6fc6f-832d-4ffb-b16e-dc6dd159a4c6</td>\n      <td>...</td>\n      <td>528179.80</td>\n      <td>RUB</td>\n      <td>Допущен</td>\n      <td>None</td>\n      <td>None</td>\n      <td>1.0</td>\n      <td>NaN</td>\n      <td>NaN</td>\n      <td>1.0</td>\n      <td>1.0</td>\n    </tr>\n    <tr>\n      <th>2</th>\n      <td>001180aa-ec39-fe24-e63b-de59c6c8b320</td>\n      <td>532546.68</td>\n      <td>None</td>\n      <td>NaN</td>\n      <td>NaN</td>\n      <td>RUB</td>\n      <td>2021-09-30 06:20:07</td>\n      <td>1</td>\n      <td>1</td>\n      <td>d9ce1e3e-75d0-45b3-abcc-86d3f5fd5066</td>\n      <td>...</td>\n      <td>528286.31</td>\n      <td>RUB</td>\n      <td>Допущен</td>\n      <td>None</td>\n      <td>None</td>\n      <td>NaN</td>\n      <td>NaN</td>\n      <td>NaN</td>\n      <td>2.0</td>\n      <td>2.0</td>\n    </tr>\n    <tr>\n      <th>3</th>\n      <td>001180aa-ec39-fe24-e63b-de59c6c8b320</td>\n      <td>532546.68</td>\n      <td>None</td>\n      <td>NaN</td>\n      <td>NaN</td>\n      <td>RUB</td>\n      <td>2021-09-30 08:31:16</td>\n      <td>1</td>\n      <td>1</td>\n      <td>f6d6a2c5-0644-4bf6-b351-55d43380fd02</td>\n      <td>...</td>\n      <td>532546.68</td>\n      <td>RUB</td>\n      <td>Допущен</td>\n      <td>None</td>\n      <td>None</td>\n      <td>NaN</td>\n      <td>NaN</td>\n      <td>NaN</td>\n      <td>4.0</td>\n      <td>4.0</td>\n    </tr>\n    <tr>\n      <th>4</th>\n      <td>002db7ef-9ca6-4b69-abce-04c3b9b7a06a</td>\n      <td>201605.00</td>\n      <td>None</td>\n      <td>NaN</td>\n      <td>0.0</td>\n      <td>RUB</td>\n      <td>2020-07-31 08:00:00</td>\n      <td>1</td>\n      <td>0</td>\n      <td>796b9df1-59ad-4f1e-9069-0dc84b229d88</td>\n      <td>...</td>\n      <td>201605.00</td>\n      <td>RUB</td>\n      <td>Допущен</td>\n      <td>STRUCTURE_CONTENT_DESIGN</td>\n      <td>None</td>\n      <td>1.0</td>\n      <td>201605.00</td>\n      <td>1.0</td>\n      <td>NaN</td>\n      <td>1.0</td>\n    </tr>\n    <tr>\n      <th>...</th>\n      <td>...</td>\n      <td>...</td>\n      <td>...</td>\n      <td>...</td>\n      <td>...</td>\n      <td>...</td>\n      <td>...</td>\n      <td>...</td>\n      <td>...</td>\n      <td>...</td>\n      <td>...</td>\n      <td>...</td>\n      <td>...</td>\n      <td>...</td>\n      <td>...</td>\n      <td>...</td>\n      <td>...</td>\n      <td>...</td>\n      <td>...</td>\n      <td>...</td>\n      <td>...</td>\n    </tr>\n    <tr>\n      <th>4717</th>\n      <td>ff8fe63f-bf6c-4a95-b8f3-c7d10862d11d</td>\n      <td>405650.00</td>\n      <td>None</td>\n      <td>NaN</td>\n      <td>0.0</td>\n      <td>RUB</td>\n      <td>2020-09-24 05:45:00</td>\n      <td>1</td>\n      <td>0</td>\n      <td>64b75fbb-16f5-458a-a550-3b2eb5939fc6</td>\n      <td>...</td>\n      <td>405650.00</td>\n      <td>RUB</td>\n      <td>Допущен</td>\n      <td>STRUCTURE_CONTENT_DESIGN</td>\n      <td>None</td>\n      <td>1.0</td>\n      <td>NaN</td>\n      <td>NaN</td>\n      <td>NaN</td>\n      <td>0.0</td>\n    </tr>\n    <tr>\n      <th>4718</th>\n      <td>ffaa3d53-69f7-48e7-a679-8cbc44eb7bbd</td>\n      <td>7356621.88</td>\n      <td>None</td>\n      <td>NaN</td>\n      <td>0.0</td>\n      <td>RUB</td>\n      <td>2020-11-13 19:40:00</td>\n      <td>1</td>\n      <td>1</td>\n      <td>48a73f6e-5714-4792-87c3-0ffd0597131d</td>\n      <td>...</td>\n      <td>7356621.88</td>\n      <td>RUB</td>\n      <td>Допущен</td>\n      <td>STRUCTURE_CONTENT_DESIGN</td>\n      <td>None</td>\n      <td>1.0</td>\n      <td>7356621.88</td>\n      <td>1.0</td>\n      <td>NaN</td>\n      <td>1.0</td>\n    </tr>\n    <tr>\n      <th>4719</th>\n      <td>ffb5bde5-3196-49ec-b1d8-9385a4bed2d0</td>\n      <td>2050145.44</td>\n      <td>None</td>\n      <td>NaN</td>\n      <td>0.0</td>\n      <td>RUB</td>\n      <td>2020-11-30 12:30:00</td>\n      <td>1</td>\n      <td>1</td>\n      <td>48a73f6e-5714-4792-87c3-0ffd0597131d</td>\n      <td>...</td>\n      <td>2050145.44</td>\n      <td>RUB</td>\n      <td>Допущен</td>\n      <td>STRUCTURE_CONTENT_DESIGN</td>\n      <td>None</td>\n      <td>1.0</td>\n      <td>2050145.44</td>\n      <td>1.0</td>\n      <td>NaN</td>\n      <td>1.0</td>\n    </tr>\n    <tr>\n      <th>4720</th>\n      <td>ffe29952-0bec-4deb-8422-0a118b0842e7</td>\n      <td>525000.00</td>\n      <td>None</td>\n      <td>NaN</td>\n      <td>0.0</td>\n      <td>RUB</td>\n      <td>2021-09-29 08:00:00</td>\n      <td>1</td>\n      <td>0</td>\n      <td>dbd4a182-5e48-4976-8016-510706a4f1cf</td>\n      <td>...</td>\n      <td>525000.00</td>\n      <td>RUB</td>\n      <td>Допущен</td>\n      <td>STRUCTURE_CONTENT_DESIGN</td>\n      <td>None</td>\n      <td>1.0</td>\n      <td>NaN</td>\n      <td>NaN</td>\n      <td>NaN</td>\n      <td>1.0</td>\n    </tr>\n    <tr>\n      <th>4721</th>\n      <td>ffefd4b8-0b0a-42ee-bfc7-3cd36ccf6166</td>\n      <td>151620.00</td>\n      <td>None</td>\n      <td>NaN</td>\n      <td>0.0</td>\n      <td>RUB</td>\n      <td>2021-10-21 09:00:00</td>\n      <td>1</td>\n      <td>0</td>\n      <td>f73bb57d-cf7c-49bd-ae43-15e9cc696430</td>\n      <td>...</td>\n      <td>151620.00</td>\n      <td>RUB</td>\n      <td>Допущен</td>\n      <td>STRUCTURE_CONTENT_DESIGN</td>\n      <td>None</td>\n      <td>1.0</td>\n      <td>NaN</td>\n      <td>NaN</td>\n      <td>NaN</td>\n      <td>0.0</td>\n    </tr>\n  </tbody>\n</table>\n<p>4722 rows × 24 columns</p>\n</div>"
     },
     "execution_count": 22,
     "metadata": {},
     "output_type": "execute_result"
    }
   ],
   "source": [
    "lot_applications = pd.read_sql_query(\n",
    "    f\"\"\"\n",
    "    SELECT l.lot_guid, pl.initial_sum as lot_initial_sum, pl.commodity_price as lot_commodity_price,\n",
    "           pl.max_contract_price as lot_max_contract_price, pl.non_price as lot_non_price,\n",
    "           pl.currency_code as lot_currency_code,\n",
    "           a.application_date as application_date, a.not_dishonest as application_not_dishonest,\n",
    "           a.provider as application_provider, a.supplier_guid as supplier_guid, si.inn as supplier_inn,\n",
    "           si.name as supplier_name, si.ogrn as supplier_ogrn, si.type as supplier_type,\n",
    "           a.price as application_price, a.currency_code as application_currency_code,\n",
    "           a.accepted as application_accepted, a.application_rejection_reason_code as application_rejection_reason_code,\n",
    "           a.winner_indication as application_winner_indication, a.contract_signed as application_contract_signed,\n",
    "           a.additional_price as application_additional_price, a.rating as application_rating,\n",
    "           a.assessment_result as application_assessment_result,\n",
    "           a.commission_decision_place as application_commission_decision_place\n",
    "    FROM (\n",
    "        SELECT cc.lot_guid\n",
    "        FROM covid_contracts cc\n",
    "        GROUP BY cc.lot_guid\n",
    "    ) l\n",
    "    INNER JOIN (\n",
    "        SELECT cc2.lot_guid, MAX(pp2.create_date_time) as create_date_time FROM\n",
    "        covid_contracts cc2\n",
    "        INNER JOIN protocol_lot pl2 ON cc2.lot_guid = pl2.guid\n",
    "        LEFT JOIN protocol_lot_applications pla2 on pl2.guid = pla2.protocol_lot_guid\n",
    "        LEFT JOIN purchase_protocol pp2 on pla2.purchase_protocol_guid = pp2.guid\n",
    "        GROUP BY cc2.lot_guid\n",
    "    ) tmp2 ON l.lot_guid = tmp2.lot_guid\n",
    "    INNER JOIN protocol_lot pl ON l.lot_guid = pl.guid\n",
    "    INNER JOIN protocol_lot_applications pla on pl.guid = pla.protocol_lot_guid\n",
    "    INNER JOIN purchase_protocol pp on pla.purchase_protocol_guid = pp.guid and tmp2.create_date_time = pp.create_date_time\n",
    "    INNER JOIN application a on pla.id = a.protocol_lot_applications_id\n",
    "    LEFT JOIN supplier_info si on a.supplier_guid = si.guid\n",
    "    where si.inn is not null\n",
    "    ;\n",
    "    \"\"\",\n",
    "    conn\n",
    ")\n",
    "\n",
    "lot_applications"
   ],
   "metadata": {
    "collapsed": false,
    "pycharm": {
     "name": "#%%\n"
    }
   }
  },
  {
   "cell_type": "markdown",
   "source": [
    "Выгрузим заявки в эксель"
   ],
   "metadata": {
    "collapsed": false,
    "pycharm": {
     "name": "#%% md\n"
    }
   }
  },
  {
   "cell_type": "code",
   "execution_count": 23,
   "outputs": [],
   "source": [
    "append_df_to_excel(\"output.xlsx\", lot_applications, sheet_name=\"Applications\")"
   ],
   "metadata": {
    "collapsed": false,
    "pycharm": {
     "name": "#%%\n"
    }
   }
  },
  {
   "cell_type": "markdown",
   "source": [
    "Проанализируем исполнение договоров в нашей выборке:"
   ],
   "metadata": {
    "collapsed": false,
    "pycharm": {
     "name": "#%% md\n"
    }
   }
  },
  {
   "cell_type": "code",
   "execution_count": 24,
   "outputs": [
    {
     "name": "stdout",
     "output_type": "stream",
     "text": [
      "Всего договоров: 36599\n",
      "Всего завершенных договоров: 25702\n",
      "Всего расторженных договоров: 1401\n",
      "Всего исполненных договоров: 24301\n",
      "Процент расторженных договоров от завершенных: 5.450937670220216%\n",
      "Процент расторженных договоров от всех: 3.8279734418973197%\n"
     ]
    }
   ],
   "source": [
    "failed_contracts = covid_contracts_performance_with_lot[\n",
    "    covid_contracts_performance_with_lot[\"contract_is_complete\"] == 0]\n",
    "completed_contracts = covid_contracts_performance_with_lot[\n",
    "    covid_contracts_performance_with_lot[\"contract_is_complete\"] == 1]\n",
    "\n",
    "contracts_count = covid_contracts_performance_with_lot.shape[0]\n",
    "failed_contracts_count = failed_contracts.shape[0]\n",
    "completed_contracts_count = completed_contracts.shape[0]\n",
    "\n",
    "print(f'Всего договоров: {contracts_count}')\n",
    "print(f'Всего завершенных договоров: {failed_contracts_count + completed_contracts_count}')\n",
    "print(f'Всего расторженных договоров: {failed_contracts_count}')\n",
    "print(f'Всего исполненных договоров: {completed_contracts_count}')\n",
    "print(\n",
    "    f'Процент расторженных договоров от завершенных: {failed_contracts_count / (failed_contracts_count + completed_contracts_count) * 100}%')\n",
    "print(f'Процент расторженных договоров от всех: {failed_contracts_count / contracts_count * 100}%')"
   ],
   "metadata": {
    "collapsed": false,
    "pycharm": {
     "name": "#%%\n"
    }
   }
  },
  {
   "cell_type": "markdown",
   "source": [
    "Проанализируем в каком количестве позиций присутствует цена за единицу"
   ],
   "metadata": {
    "collapsed": false,
    "pycharm": {
     "name": "#%% md\n"
    }
   }
  },
  {
   "cell_type": "code",
   "execution_count": 25,
   "outputs": [
    {
     "name": "stdout",
     "output_type": "stream",
     "text": [
      "Всего позиций: 87913\n",
      "Всего позиций с указанной ценой: 55263\n",
      "Процент позиций с указанной ценой: 62.861010317017964%\n"
     ]
    }
   ],
   "source": [
    "positions_count = covid_contracts_positions_with_lot.shape[0]\n",
    "unit_price_positions_count = covid_contracts_positions_with_lot[covid_contracts_positions_with_lot[\"position_unit_price\"].notnull()].shape[0]\n",
    "\n",
    "print(f'Всего позиций: {positions_count}')\n",
    "print(f'Всего позиций с указанной ценой: {unit_price_positions_count}')\n",
    "print(f'Процент позиций с указанной ценой: {unit_price_positions_count / positions_count * 100}%')"
   ],
   "metadata": {
    "collapsed": false,
    "pycharm": {
     "name": "#%%\n"
    }
   }
  }
 ],
 "metadata": {
  "kernelspec": {
   "display_name": "Python 3",
   "language": "python",
   "name": "python3"
  },
  "language_info": {
   "codemirror_mode": {
    "name": "ipython",
    "version": 2
   },
   "file_extension": ".py",
   "mimetype": "text/x-python",
   "name": "python",
   "nbconvert_exporter": "python",
   "pygments_lexer": "ipython2",
   "version": "2.7.6"
  }
 },
 "nbformat": 4,
 "nbformat_minor": 0
}