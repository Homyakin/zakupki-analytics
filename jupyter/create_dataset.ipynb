{
 "cells": [
  {
   "cell_type": "code",
   "execution_count": 1,
   "metadata": {
    "collapsed": true
   },
   "outputs": [],
   "source": [
    "import sqlite3\n",
    "import pandas as pd"
   ]
  },
  {
   "cell_type": "markdown",
   "source": [
    "### Подключение к БД"
   ],
   "metadata": {
    "collapsed": false,
    "pycharm": {
     "name": "#%% md\n"
    }
   }
  },
  {
   "cell_type": "code",
   "execution_count": 2,
   "outputs": [],
   "source": [
    "conn = sqlite3.connect(\"data.db\")"
   ],
   "metadata": {
    "collapsed": false,
    "pycharm": {
     "name": "#%%\n"
    }
   }
  },
  {
   "cell_type": "markdown",
   "source": [
    "Выбираем все договоры самой старшей версии с меткой emergency - \"Закупка осуществляется вследствие аварии,\n",
    " иных чрезвычайных ситуаций природного или техногенного характера, непреодолимой силы,\n",
    " принеобходимости срочного медицинского вмешательства, а также для предотвращения угрозы\n",
    " возникновения указанных ситуаций\""
   ],
   "metadata": {
    "collapsed": false,
    "pycharm": {
     "name": "#%% md\n"
    }
   }
  },
  {
   "cell_type": "code",
   "execution_count": 3,
   "outputs": [
    {
     "data": {
      "text/plain": "                             contract_guid contract_registration_number  \\\n0     0036c56b-1874-4c0c-a7fe-7b8a47696acd      87825011824200000490001   \n1     00751401-bc7d-40eb-8eb6-191df67b117e      56901067107210018890001   \n2     00954370-200e-403a-997b-f469f075967e      52312210286200000710001   \n3     0118391a-07a3-4ac6-b148-d35a087b676c      55053031065210000300001   \n4     0127411b-0516-4795-989e-38cb1ad9a343      67703695246200000980001   \n...                                    ...                          ...   \n1642  ff80b68f-5be0-4951-b217-fa1aac06905a      67703695246200000500001   \n1643  ffa42833-0759-40db-ae64-5a329c09199a      57728816598200006640001   \n1644  ffa4cc42-393b-4774-b2ed-1c9b2fbd75bb      67703695246200001160001   \n1645  ffd13b8b-ffef-4b0d-8fa5-3214f3e44e2b      52312210286200000990001   \n1646  ffda639d-aada-44de-974a-4ce9ac345a55      67723011906200009850003   \n\n      notice_not_placed_by_fz223p5s4  contract_extension  \\\n0                                  0                   1   \n1                                  0                   0   \n2                                  0                   0   \n3                                  0                   0   \n4                                  0                   0   \n...                              ...                 ...   \n1642                               0                   0   \n1643                               0                   0   \n1644                               0                   0   \n1645                               0                   0   \n1646                               0                   0   \n\n      contract_prolongation  customer_appeale_or_needs_approval  \\\n0                         0                                   0   \n1                         0                                   0   \n2                         0                                   0   \n3                         0                                   0   \n4                         0                                   0   \n...                     ...                                 ...   \n1642                      0                                   0   \n1643                      0                                   0   \n1644                      0                                   0   \n1645                      0                                   0   \n1646                      0                                   0   \n\n     customer_approval_or_antimonopoly_descision_date  \\\n0                                                None   \n1                                                None   \n2                                                None   \n3                                                None   \n4                                                None   \n...                                               ...   \n1642                                             None   \n1643                                             None   \n1644                                             None   \n1645                                             None   \n1646                                             None   \n\n     contract_plan_position_guid contract_create_date_time  \\\n0                           None       2020-09-08 07:01:28   \n1                           None       2021-08-17 14:12:13   \n2                           None       2020-06-05 07:00:39   \n3                           None       2021-05-12 16:25:06   \n4                           None       2020-06-23 06:16:18   \n...                          ...                       ...   \n1642                        None       2020-06-18 13:00:13   \n1643                        None       2020-11-18 07:20:58   \n1644                        None       2020-07-03 13:49:05   \n1645                        None       2020-12-08 11:26:50   \n1646                        None       2020-11-11 10:04:03   \n\n     contract_customer_inn  ... purchase_notice_info_number  \\\n0               7825011824  ...                 32009471555   \n1               6901067107  ...                 32110475167   \n2               2312210286  ...                 32009195991   \n3               5053031065  ...                 32110238087   \n4               7703695246  ...                 32009227466   \n...                    ...  ...                         ...   \n1642            7703695246  ...                 32009227271   \n1643            7728816598  ...                 32009691019   \n1644            7703695246  ...                 32009227418   \n1645            2312210286  ...                 32009775118   \n1646            7723011906  ...                 32009453399   \n\n                                  lot_guid  \\\n0     34579301-6678-4603-bc7f-372389912bb6   \n1     15ed771e-7b12-b10b-cb82-0394460efb4b   \n2     15fd6ba3-3df0-41da-b2ce-e2a8fef5800c   \n3     1ee63bc8-6be4-4e83-affd-49fff95065b1   \n4     4b15db7b-bed4-46ae-b5b4-f66aecd3f2a7   \n...                                    ...   \n1642  5a7a5527-faf9-4e0b-9e42-de59e14d1fa9   \n1643  04da8eeb-458e-4f1c-bd56-ddb591c73fc7   \n1644  91773610-ce48-4282-aded-c069f605f8c0   \n1645  dcf4b21c-2825-49d7-9611-f9aeb85b18b6   \n1646  a71b074c-702d-4ff9-94fe-535f7c16a3c5   \n\n                                       subject_contract purchase_type_code  \\\n0     Выполнение аварийно-восстановительных работ по...              40000   \n1     СМР и ПНР: 1 очередь строительства распределит...              40000   \n2     Ремонт уличного водопровода по ул.Западная от ...              30000   \n3     Выполнение работ по устройству закрытого перех...              30000   \n4     1400-2020-00102 Поставка аппаратов для искусст...              40000   \n...                                                 ...                ...   \n1642  1400-2020-00063 Поставка аппаратов для искусст...              40000   \n1643  1004-2020-01351 Поставка пироэлектрического да...              40000   \n1644  1400-2020-00059 Поставка аппаратов для искусст...              40000   \n1645  Ремонт водопровода по ул.Проточной от жилого д...              30000   \n1646  01-29/ОЭСС-СВПТУС-09.2020 «Санитарно-эпидемиол...              40000   \n\n      contract_price  contract_rub_price contract_currency_code  \\\n0       5.904899e+05                 NaN                    RUB   \n1       2.108040e+06                 NaN                    RUB   \n2       2.924070e+05                 NaN                    RUB   \n3       9.954500e+05                 NaN                    RUB   \n4       3.318084e+07          33180840.0                    RUB   \n...              ...                 ...                    ...   \n1642    5.530140e+06           5530140.0                    RUB   \n1643    1.848000e+05            184800.0                    RUB   \n1644    3.375900e+08         337590000.0                    RUB   \n1645    2.949280e+05                 NaN                    RUB   \n1646    4.573000e+05                 NaN                    RUB   \n\n     contract_start_execution_date contract_end_execution_date  \\\n0                       2020-09-08                  2020-11-29   \n1                       2021-08-12                  2021-09-15   \n2                       2020-03-15                        None   \n3                       2021-05-10                  2021-06-29   \n4                       2020-04-22                  2020-12-30   \n...                            ...                         ...   \n1642                    2020-04-16                        None   \n1643                    2020-11-16                  2020-12-30   \n1644                    2020-04-02                  2020-12-30   \n1645                    2020-07-29                        None   \n1646                    2020-10-25                  2020-12-30   \n\n             region_name  \n0        Sankt-Peterburg  \n1                 Moskva  \n2     Krasnodarskii_krai  \n3        Moskovskaya_obl  \n4                 Moskva  \n...                  ...  \n1642              Moskva  \n1643              Moskva  \n1644              Moskva  \n1645  Krasnodarskii_krai  \n1646              Moskva  \n\n[1647 rows x 31 columns]",
      "text/html": "<div>\n<style scoped>\n    .dataframe tbody tr th:only-of-type {\n        vertical-align: middle;\n    }\n\n    .dataframe tbody tr th {\n        vertical-align: top;\n    }\n\n    .dataframe thead th {\n        text-align: right;\n    }\n</style>\n<table border=\"1\" class=\"dataframe\">\n  <thead>\n    <tr style=\"text-align: right;\">\n      <th></th>\n      <th>contract_guid</th>\n      <th>contract_registration_number</th>\n      <th>notice_not_placed_by_fz223p5s4</th>\n      <th>contract_extension</th>\n      <th>contract_prolongation</th>\n      <th>customer_appeale_or_needs_approval</th>\n      <th>customer_approval_or_antimonopoly_descision_date</th>\n      <th>contract_plan_position_guid</th>\n      <th>contract_create_date_time</th>\n      <th>contract_customer_inn</th>\n      <th>...</th>\n      <th>purchase_notice_info_number</th>\n      <th>lot_guid</th>\n      <th>subject_contract</th>\n      <th>purchase_type_code</th>\n      <th>contract_price</th>\n      <th>contract_rub_price</th>\n      <th>contract_currency_code</th>\n      <th>contract_start_execution_date</th>\n      <th>contract_end_execution_date</th>\n      <th>region_name</th>\n    </tr>\n  </thead>\n  <tbody>\n    <tr>\n      <th>0</th>\n      <td>0036c56b-1874-4c0c-a7fe-7b8a47696acd</td>\n      <td>87825011824200000490001</td>\n      <td>0</td>\n      <td>1</td>\n      <td>0</td>\n      <td>0</td>\n      <td>None</td>\n      <td>None</td>\n      <td>2020-09-08 07:01:28</td>\n      <td>7825011824</td>\n      <td>...</td>\n      <td>32009471555</td>\n      <td>34579301-6678-4603-bc7f-372389912bb6</td>\n      <td>Выполнение аварийно-восстановительных работ по...</td>\n      <td>40000</td>\n      <td>5.904899e+05</td>\n      <td>NaN</td>\n      <td>RUB</td>\n      <td>2020-09-08</td>\n      <td>2020-11-29</td>\n      <td>Sankt-Peterburg</td>\n    </tr>\n    <tr>\n      <th>1</th>\n      <td>00751401-bc7d-40eb-8eb6-191df67b117e</td>\n      <td>56901067107210018890001</td>\n      <td>0</td>\n      <td>0</td>\n      <td>0</td>\n      <td>0</td>\n      <td>None</td>\n      <td>None</td>\n      <td>2021-08-17 14:12:13</td>\n      <td>6901067107</td>\n      <td>...</td>\n      <td>32110475167</td>\n      <td>15ed771e-7b12-b10b-cb82-0394460efb4b</td>\n      <td>СМР и ПНР: 1 очередь строительства распределит...</td>\n      <td>40000</td>\n      <td>2.108040e+06</td>\n      <td>NaN</td>\n      <td>RUB</td>\n      <td>2021-08-12</td>\n      <td>2021-09-15</td>\n      <td>Moskva</td>\n    </tr>\n    <tr>\n      <th>2</th>\n      <td>00954370-200e-403a-997b-f469f075967e</td>\n      <td>52312210286200000710001</td>\n      <td>0</td>\n      <td>0</td>\n      <td>0</td>\n      <td>0</td>\n      <td>None</td>\n      <td>None</td>\n      <td>2020-06-05 07:00:39</td>\n      <td>2312210286</td>\n      <td>...</td>\n      <td>32009195991</td>\n      <td>15fd6ba3-3df0-41da-b2ce-e2a8fef5800c</td>\n      <td>Ремонт уличного водопровода по ул.Западная от ...</td>\n      <td>30000</td>\n      <td>2.924070e+05</td>\n      <td>NaN</td>\n      <td>RUB</td>\n      <td>2020-03-15</td>\n      <td>None</td>\n      <td>Krasnodarskii_krai</td>\n    </tr>\n    <tr>\n      <th>3</th>\n      <td>0118391a-07a3-4ac6-b148-d35a087b676c</td>\n      <td>55053031065210000300001</td>\n      <td>0</td>\n      <td>0</td>\n      <td>0</td>\n      <td>0</td>\n      <td>None</td>\n      <td>None</td>\n      <td>2021-05-12 16:25:06</td>\n      <td>5053031065</td>\n      <td>...</td>\n      <td>32110238087</td>\n      <td>1ee63bc8-6be4-4e83-affd-49fff95065b1</td>\n      <td>Выполнение работ по устройству закрытого перех...</td>\n      <td>30000</td>\n      <td>9.954500e+05</td>\n      <td>NaN</td>\n      <td>RUB</td>\n      <td>2021-05-10</td>\n      <td>2021-06-29</td>\n      <td>Moskovskaya_obl</td>\n    </tr>\n    <tr>\n      <th>4</th>\n      <td>0127411b-0516-4795-989e-38cb1ad9a343</td>\n      <td>67703695246200000980001</td>\n      <td>0</td>\n      <td>0</td>\n      <td>0</td>\n      <td>0</td>\n      <td>None</td>\n      <td>None</td>\n      <td>2020-06-23 06:16:18</td>\n      <td>7703695246</td>\n      <td>...</td>\n      <td>32009227466</td>\n      <td>4b15db7b-bed4-46ae-b5b4-f66aecd3f2a7</td>\n      <td>1400-2020-00102 Поставка аппаратов для искусст...</td>\n      <td>40000</td>\n      <td>3.318084e+07</td>\n      <td>33180840.0</td>\n      <td>RUB</td>\n      <td>2020-04-22</td>\n      <td>2020-12-30</td>\n      <td>Moskva</td>\n    </tr>\n    <tr>\n      <th>...</th>\n      <td>...</td>\n      <td>...</td>\n      <td>...</td>\n      <td>...</td>\n      <td>...</td>\n      <td>...</td>\n      <td>...</td>\n      <td>...</td>\n      <td>...</td>\n      <td>...</td>\n      <td>...</td>\n      <td>...</td>\n      <td>...</td>\n      <td>...</td>\n      <td>...</td>\n      <td>...</td>\n      <td>...</td>\n      <td>...</td>\n      <td>...</td>\n      <td>...</td>\n      <td>...</td>\n    </tr>\n    <tr>\n      <th>1642</th>\n      <td>ff80b68f-5be0-4951-b217-fa1aac06905a</td>\n      <td>67703695246200000500001</td>\n      <td>0</td>\n      <td>0</td>\n      <td>0</td>\n      <td>0</td>\n      <td>None</td>\n      <td>None</td>\n      <td>2020-06-18 13:00:13</td>\n      <td>7703695246</td>\n      <td>...</td>\n      <td>32009227271</td>\n      <td>5a7a5527-faf9-4e0b-9e42-de59e14d1fa9</td>\n      <td>1400-2020-00063 Поставка аппаратов для искусст...</td>\n      <td>40000</td>\n      <td>5.530140e+06</td>\n      <td>5530140.0</td>\n      <td>RUB</td>\n      <td>2020-04-16</td>\n      <td>None</td>\n      <td>Moskva</td>\n    </tr>\n    <tr>\n      <th>1643</th>\n      <td>ffa42833-0759-40db-ae64-5a329c09199a</td>\n      <td>57728816598200006640001</td>\n      <td>0</td>\n      <td>0</td>\n      <td>0</td>\n      <td>0</td>\n      <td>None</td>\n      <td>None</td>\n      <td>2020-11-18 07:20:58</td>\n      <td>7728816598</td>\n      <td>...</td>\n      <td>32009691019</td>\n      <td>04da8eeb-458e-4f1c-bd56-ddb591c73fc7</td>\n      <td>1004-2020-01351 Поставка пироэлектрического да...</td>\n      <td>40000</td>\n      <td>1.848000e+05</td>\n      <td>184800.0</td>\n      <td>RUB</td>\n      <td>2020-11-16</td>\n      <td>2020-12-30</td>\n      <td>Moskva</td>\n    </tr>\n    <tr>\n      <th>1644</th>\n      <td>ffa4cc42-393b-4774-b2ed-1c9b2fbd75bb</td>\n      <td>67703695246200001160001</td>\n      <td>0</td>\n      <td>0</td>\n      <td>0</td>\n      <td>0</td>\n      <td>None</td>\n      <td>None</td>\n      <td>2020-07-03 13:49:05</td>\n      <td>7703695246</td>\n      <td>...</td>\n      <td>32009227418</td>\n      <td>91773610-ce48-4282-aded-c069f605f8c0</td>\n      <td>1400-2020-00059 Поставка аппаратов для искусст...</td>\n      <td>40000</td>\n      <td>3.375900e+08</td>\n      <td>337590000.0</td>\n      <td>RUB</td>\n      <td>2020-04-02</td>\n      <td>2020-12-30</td>\n      <td>Moskva</td>\n    </tr>\n    <tr>\n      <th>1645</th>\n      <td>ffd13b8b-ffef-4b0d-8fa5-3214f3e44e2b</td>\n      <td>52312210286200000990001</td>\n      <td>0</td>\n      <td>0</td>\n      <td>0</td>\n      <td>0</td>\n      <td>None</td>\n      <td>None</td>\n      <td>2020-12-08 11:26:50</td>\n      <td>2312210286</td>\n      <td>...</td>\n      <td>32009775118</td>\n      <td>dcf4b21c-2825-49d7-9611-f9aeb85b18b6</td>\n      <td>Ремонт водопровода по ул.Проточной от жилого д...</td>\n      <td>30000</td>\n      <td>2.949280e+05</td>\n      <td>NaN</td>\n      <td>RUB</td>\n      <td>2020-07-29</td>\n      <td>None</td>\n      <td>Krasnodarskii_krai</td>\n    </tr>\n    <tr>\n      <th>1646</th>\n      <td>ffda639d-aada-44de-974a-4ce9ac345a55</td>\n      <td>67723011906200009850003</td>\n      <td>0</td>\n      <td>0</td>\n      <td>0</td>\n      <td>0</td>\n      <td>None</td>\n      <td>None</td>\n      <td>2020-11-11 10:04:03</td>\n      <td>7723011906</td>\n      <td>...</td>\n      <td>32009453399</td>\n      <td>a71b074c-702d-4ff9-94fe-535f7c16a3c5</td>\n      <td>01-29/ОЭСС-СВПТУС-09.2020 «Санитарно-эпидемиол...</td>\n      <td>40000</td>\n      <td>4.573000e+05</td>\n      <td>NaN</td>\n      <td>RUB</td>\n      <td>2020-10-25</td>\n      <td>2020-12-30</td>\n      <td>Moskva</td>\n    </tr>\n  </tbody>\n</table>\n<p>1647 rows × 31 columns</p>\n</div>"
     },
     "execution_count": 3,
     "metadata": {},
     "output_type": "execute_result"
    }
   ],
   "source": [
    "covid_contracts = pd.read_sql_query(\n",
    "    \"\"\"\n",
    "    SELECT c.guid as contract_guid, c.registration_number as contract_registration_number,\n",
    "    c.notice_not_placed_by_fz223p5s4 as notice_not_placed_by_fz223p5s4,\n",
    "    c.extension as contract_extension, c.prolongation as contract_prolongation,\n",
    "    c.customer_appeale_or_needs_approval as customer_appeale_or_needs_approval,\n",
    "    c.customer_approval_or_antimonopoly_descision_date as customer_approval_or_antimonopoly_descision_date,\n",
    "    c.plan_position_guid as contract_plan_position_guid,\n",
    "    c.create_date_time as contract_create_date_time,\n",
    "    c.customer_inn as contract_customer_inn, c.placer_inn as contract_placer_inn, c.detached_org_inn as contract_detached_org_inn,\n",
    "    c.publication_date as contract_publication_date, c.contract_status_code as contract_publication_date,\n",
    "    c.emergency as emergency, c.provider as provider, c.provider_code as provider_code, c.contract_reg_number as contract_reg_number,\n",
    "    c.contract_date as contract_date, c.digital_purchase as digital_purchase,\n",
    "    c.purchase_notice_info_guid as purchase_notice_info_guid, c.purchase_notice_info_number as purchase_notice_info_number,\n",
    "    c.lot_guid as lot_guid, c.subject_contract as subject_contract, c.purchase_type_code as purchase_type_code,\n",
    "    c.price as contract_price, c.rub_price as contract_rub_price, c.currency_code as contract_currency_code,\n",
    "    c.start_execution_date as contract_start_execution_date, c.end_execution_date as contract_end_execution_date,\n",
    "    c.region_name as region_name\n",
    "    FROM contract c\n",
    "    INNER JOIN (\n",
    "        SELECT contract_reg_number, MAX(version) ver\n",
    "        FROM contract\n",
    "        WHERE emergency = 1\n",
    "        AND lot_guid is not null\n",
    "        GROUP BY contract_reg_number\n",
    "    ) tmp ON c.contract_reg_number = tmp.contract_reg_number AND c.version = tmp.ver\n",
    "    \"\"\",\n",
    "    conn\n",
    ")\n",
    "\n",
    "covid_contracts"
   ],
   "metadata": {
    "collapsed": false,
    "pycharm": {
     "name": "#%%\n"
    }
   }
  },
  {
   "cell_type": "markdown",
   "source": [
    "Для дальнейшего анализа необходимо проверить наличие поля с указанием лота"
   ],
   "metadata": {
    "collapsed": false,
    "pycharm": {
     "name": "#%% md\n"
    }
   }
  },
  {
   "cell_type": "code",
   "execution_count": 4,
   "outputs": [
    {
     "name": "stdout",
     "output_type": "stream",
     "text": [
      "Количество \"ковидных\" договоров: 1647\n",
      "Количество \"ковидных\" договоров с указанием лота: 1647\n"
     ]
    }
   ],
   "source": [
    "covid_contracts_with_not_null_lot = covid_contracts[covid_contracts[\"lot_guid\"].notnull()]\n",
    "\n",
    "print(f'Количество \"ковидных\" договоров: {covid_contracts.shape[0]}')\n",
    "print(f'Количество \"ковидных\" договоров с указанием лота: {covid_contracts_with_not_null_lot.shape[0]}')"
   ],
   "metadata": {
    "collapsed": false,
    "pycharm": {
     "name": "#%%\n"
    }
   }
  },
  {
   "cell_type": "markdown",
   "source": [
    "Договоры без указания lot_guid, это те где извещение не размещалось в соответствии\n",
    "с частью 5 статьи 4 Федерального Закона № 223-ФЗ, например https://zakupki.gov.ru/epz/contractfz223/card/contract-info.html?id=9268727\n",
    "\n",
    "Для выборки будем использовать только те договоры, в которых присутствуют лоты"
   ],
   "metadata": {
    "collapsed": false,
    "pycharm": {
     "name": "#%% md\n"
    }
   }
  },
  {
   "cell_type": "markdown",
   "source": [
    "Проверим, существуют ли лоты, на которые было заключено несколько договоров."
   ],
   "metadata": {
    "collapsed": false,
    "pycharm": {
     "name": "#%% md\n"
    }
   }
  },
  {
   "cell_type": "code",
   "execution_count": 5,
   "outputs": [
    {
     "data": {
      "text/plain": "                                lot_guid   c\n0   0a0bad0e-049a-43e9-adfc-6896a21b42ed   3\n1   11db9fb9-da1b-49fc-a31e-97462414707f  34\n2   1581b86c-4c98-40d3-b578-76c76f4a2670   2\n3   1c475aea-1c94-4fb8-913f-54d61fc719ed  23\n4   3032623b-bcf8-4b91-b93d-03010e4a41c3   2\n5   44c059df-9364-4dc7-83cd-3cde676c82fc  25\n6   7a90a090-6157-4c32-b276-b68f6643d077   2\n7   8885e84c-8f87-4723-905b-4e927a1ce195  36\n8   89702ad6-8d7c-4515-aaa3-f19d400aa2b4   3\n9   bd47d4a1-a936-47d9-aab1-5617fd5f3243   2\n10  d927deed-0787-43db-969e-dbd4d19f5d9a  28",
      "text/html": "<div>\n<style scoped>\n    .dataframe tbody tr th:only-of-type {\n        vertical-align: middle;\n    }\n\n    .dataframe tbody tr th {\n        vertical-align: top;\n    }\n\n    .dataframe thead th {\n        text-align: right;\n    }\n</style>\n<table border=\"1\" class=\"dataframe\">\n  <thead>\n    <tr style=\"text-align: right;\">\n      <th></th>\n      <th>lot_guid</th>\n      <th>c</th>\n    </tr>\n  </thead>\n  <tbody>\n    <tr>\n      <th>0</th>\n      <td>0a0bad0e-049a-43e9-adfc-6896a21b42ed</td>\n      <td>3</td>\n    </tr>\n    <tr>\n      <th>1</th>\n      <td>11db9fb9-da1b-49fc-a31e-97462414707f</td>\n      <td>34</td>\n    </tr>\n    <tr>\n      <th>2</th>\n      <td>1581b86c-4c98-40d3-b578-76c76f4a2670</td>\n      <td>2</td>\n    </tr>\n    <tr>\n      <th>3</th>\n      <td>1c475aea-1c94-4fb8-913f-54d61fc719ed</td>\n      <td>23</td>\n    </tr>\n    <tr>\n      <th>4</th>\n      <td>3032623b-bcf8-4b91-b93d-03010e4a41c3</td>\n      <td>2</td>\n    </tr>\n    <tr>\n      <th>5</th>\n      <td>44c059df-9364-4dc7-83cd-3cde676c82fc</td>\n      <td>25</td>\n    </tr>\n    <tr>\n      <th>6</th>\n      <td>7a90a090-6157-4c32-b276-b68f6643d077</td>\n      <td>2</td>\n    </tr>\n    <tr>\n      <th>7</th>\n      <td>8885e84c-8f87-4723-905b-4e927a1ce195</td>\n      <td>36</td>\n    </tr>\n    <tr>\n      <th>8</th>\n      <td>89702ad6-8d7c-4515-aaa3-f19d400aa2b4</td>\n      <td>3</td>\n    </tr>\n    <tr>\n      <th>9</th>\n      <td>bd47d4a1-a936-47d9-aab1-5617fd5f3243</td>\n      <td>2</td>\n    </tr>\n    <tr>\n      <th>10</th>\n      <td>d927deed-0787-43db-969e-dbd4d19f5d9a</td>\n      <td>28</td>\n    </tr>\n  </tbody>\n</table>\n</div>"
     },
     "execution_count": 5,
     "metadata": {},
     "output_type": "execute_result"
    }
   ],
   "source": [
    "lots_with_many_contracts = pd.read_sql_query(\n",
    "    \"\"\"\n",
    "    SELECT * FROM (\n",
    "        SELECT lot_guid, COUNT(*) as c\n",
    "            FROM contract c\n",
    "            INNER JOIN (\n",
    "                SELECT contract_reg_number, MAX(version) ver\n",
    "                FROM contract\n",
    "                WHERE emergency = 1\n",
    "                and lot_guid is not null\n",
    "                GROUP BY contract_reg_number\n",
    "            ) tmp ON c.contract_reg_number = tmp.contract_reg_number AND c.version = tmp.ver\n",
    "        GROUP BY lot_guid\n",
    "    ) WHERE c > 1\n",
    "    \"\"\",\n",
    "    conn\n",
    ")\n",
    "\n",
    "lots_with_many_contracts"
   ],
   "metadata": {
    "collapsed": false,
    "pycharm": {
     "name": "#%%\n"
    }
   }
  },
  {
   "cell_type": "markdown",
   "source": [
    "Такие договоры существуют.  Необходимо будет добавить информацию об этом в выборку."
   ],
   "metadata": {
    "collapsed": false,
    "pycharm": {
     "name": "#%% md\n"
    }
   }
  },
  {
   "cell_type": "markdown",
   "source": [
    "Выберем из базы договоры с лотами"
   ],
   "metadata": {
    "collapsed": false,
    "pycharm": {
     "name": "#%% md\n"
    }
   }
  },
  {
   "cell_type": "code",
   "execution_count": 6,
   "outputs": [
    {
     "data": {
      "text/plain": "                             contract_guid contract_registration_number  \\\n0     0036c56b-1874-4c0c-a7fe-7b8a47696acd      87825011824200000490001   \n1     00751401-bc7d-40eb-8eb6-191df67b117e      56901067107210018890001   \n2     00954370-200e-403a-997b-f469f075967e      52312210286200000710001   \n3     0127411b-0516-4795-989e-38cb1ad9a343      67703695246200000980001   \n4     013cab73-6528-4279-a181-faed52623a60      57813417393210000360003   \n...                                    ...                          ...   \n1536  ff80b68f-5be0-4951-b217-fa1aac06905a      67703695246200000500001   \n1537  ffa42833-0759-40db-ae64-5a329c09199a      57728816598200006640001   \n1538  ffa4cc42-393b-4774-b2ed-1c9b2fbd75bb      67703695246200001160001   \n1539  ffd13b8b-ffef-4b0d-8fa5-3214f3e44e2b      52312210286200000990001   \n1540  ffda639d-aada-44de-974a-4ce9ac345a55      67723011906200009850003   \n\n      notice_not_placed_by_fz223p5s4  contract_extension  \\\n0                                  0                   1   \n1                                  0                   0   \n2                                  0                   0   \n3                                  0                   0   \n4                                  0                   0   \n...                              ...                 ...   \n1536                               0                   0   \n1537                               0                   0   \n1538                               0                   0   \n1539                               0                   0   \n1540                               0                   0   \n\n      contract_prolongation  customer_appeale_or_needs_approval  \\\n0                         0                                   0   \n1                         0                                   0   \n2                         0                                   0   \n3                         0                                   0   \n4                         0                                   0   \n...                     ...                                 ...   \n1536                      0                                   0   \n1537                      0                                   0   \n1538                      0                                   0   \n1539                      0                                   0   \n1540                      0                                   0   \n\n     customer_approval_or_antimonopoly_descision_date  \\\n0                                                None   \n1                                                None   \n2                                                None   \n3                                                None   \n4                                                None   \n...                                               ...   \n1536                                             None   \n1537                                             None   \n1538                                             None   \n1539                                             None   \n1540                                             None   \n\n     contract_plan_position_guid contract_create_date_time  \\\n0                           None       2020-09-08 07:01:28   \n1                           None       2021-08-17 14:12:13   \n2                           None       2020-06-05 07:00:39   \n3                           None       2020-06-23 06:16:18   \n4                           None       2021-06-09 15:04:20   \n...                          ...                       ...   \n1536                        None       2020-06-18 13:00:13   \n1537                        None       2020-11-18 07:20:58   \n1538                        None       2020-07-03 13:49:05   \n1539                        None       2020-12-08 11:26:50   \n1540                        None       2020-11-11 10:04:03   \n\n     contract_customer_inn  ... contract_start_execution_date  \\\n0               7825011824  ...                    2020-09-08   \n1               6901067107  ...                    2021-08-12   \n2               2312210286  ...                    2020-03-15   \n3               7703695246  ...                    2020-04-22   \n4               7813417393  ...                    2021-04-20   \n...                    ...  ...                           ...   \n1536            7703695246  ...                    2020-04-16   \n1537            7728816598  ...                    2020-11-16   \n1538            7703695246  ...                    2020-04-02   \n1539            2312210286  ...                    2020-07-29   \n1540            7723011906  ...                    2020-10-25   \n\n     contract_end_execution_date         region_name notice_lot_initial_sum  \\\n0                     2020-11-29     Sankt-Peterburg           5.904899e+05   \n1                     2021-09-15              Moskva           2.173348e+06   \n2                           None  Krasnodarskii_krai           2.924070e+05   \n3                     2020-12-30              Moskva           3.318084e+07   \n4                     2021-12-30     Sankt-Peterburg           2.500000e+07   \n...                          ...                 ...                    ...   \n1536                        None              Moskva           5.530140e+06   \n1537                  2020-12-30              Moskva           1.848000e+05   \n1538                  2020-12-30              Moskva           3.341800e+08   \n1539                        None  Krasnodarskii_krai           2.949280e+05   \n1540                  2020-12-30              Moskva           5.577768e+05   \n\n      notice_lot_starting_contract_price_rub  notice_lot_currency_code  \\\n0                                        NaN                       RUB   \n1                                        NaN                       RUB   \n2                                        NaN                       RUB   \n3                                        NaN                       RUB   \n4                                        NaN                       RUB   \n...                                      ...                       ...   \n1536                                     NaN                       RUB   \n1537                                     NaN                       RUB   \n1538                                     NaN                       RUB   \n1539                                     NaN                       RUB   \n1540                                     NaN                       RUB   \n\n     notice_lot_commodity_price notice_lot_commodity_price_rub  \\\n0                          None                           None   \n1                          None                           None   \n2                          None                           None   \n3                          None                           None   \n4                          None                           None   \n...                         ...                            ...   \n1536                       None                           None   \n1537                       None                           None   \n1538                       None                           None   \n1539                       None                           None   \n1540                       None                           None   \n\n     notice_lot_max_contract_price  notice_lot_max_contract_price_rub  \n0                              NaN                               None  \n1                              NaN                               None  \n2                              NaN                               None  \n3                              NaN                               None  \n4                              NaN                               None  \n...                            ...                                ...  \n1536                           NaN                               None  \n1537                           NaN                               None  \n1538                           NaN                               None  \n1539                           NaN                               None  \n1540                           NaN                               None  \n\n[1541 rows x 38 columns]",
      "text/html": "<div>\n<style scoped>\n    .dataframe tbody tr th:only-of-type {\n        vertical-align: middle;\n    }\n\n    .dataframe tbody tr th {\n        vertical-align: top;\n    }\n\n    .dataframe thead th {\n        text-align: right;\n    }\n</style>\n<table border=\"1\" class=\"dataframe\">\n  <thead>\n    <tr style=\"text-align: right;\">\n      <th></th>\n      <th>contract_guid</th>\n      <th>contract_registration_number</th>\n      <th>notice_not_placed_by_fz223p5s4</th>\n      <th>contract_extension</th>\n      <th>contract_prolongation</th>\n      <th>customer_appeale_or_needs_approval</th>\n      <th>customer_approval_or_antimonopoly_descision_date</th>\n      <th>contract_plan_position_guid</th>\n      <th>contract_create_date_time</th>\n      <th>contract_customer_inn</th>\n      <th>...</th>\n      <th>contract_start_execution_date</th>\n      <th>contract_end_execution_date</th>\n      <th>region_name</th>\n      <th>notice_lot_initial_sum</th>\n      <th>notice_lot_starting_contract_price_rub</th>\n      <th>notice_lot_currency_code</th>\n      <th>notice_lot_commodity_price</th>\n      <th>notice_lot_commodity_price_rub</th>\n      <th>notice_lot_max_contract_price</th>\n      <th>notice_lot_max_contract_price_rub</th>\n    </tr>\n  </thead>\n  <tbody>\n    <tr>\n      <th>0</th>\n      <td>0036c56b-1874-4c0c-a7fe-7b8a47696acd</td>\n      <td>87825011824200000490001</td>\n      <td>0</td>\n      <td>1</td>\n      <td>0</td>\n      <td>0</td>\n      <td>None</td>\n      <td>None</td>\n      <td>2020-09-08 07:01:28</td>\n      <td>7825011824</td>\n      <td>...</td>\n      <td>2020-09-08</td>\n      <td>2020-11-29</td>\n      <td>Sankt-Peterburg</td>\n      <td>5.904899e+05</td>\n      <td>NaN</td>\n      <td>RUB</td>\n      <td>None</td>\n      <td>None</td>\n      <td>NaN</td>\n      <td>None</td>\n    </tr>\n    <tr>\n      <th>1</th>\n      <td>00751401-bc7d-40eb-8eb6-191df67b117e</td>\n      <td>56901067107210018890001</td>\n      <td>0</td>\n      <td>0</td>\n      <td>0</td>\n      <td>0</td>\n      <td>None</td>\n      <td>None</td>\n      <td>2021-08-17 14:12:13</td>\n      <td>6901067107</td>\n      <td>...</td>\n      <td>2021-08-12</td>\n      <td>2021-09-15</td>\n      <td>Moskva</td>\n      <td>2.173348e+06</td>\n      <td>NaN</td>\n      <td>RUB</td>\n      <td>None</td>\n      <td>None</td>\n      <td>NaN</td>\n      <td>None</td>\n    </tr>\n    <tr>\n      <th>2</th>\n      <td>00954370-200e-403a-997b-f469f075967e</td>\n      <td>52312210286200000710001</td>\n      <td>0</td>\n      <td>0</td>\n      <td>0</td>\n      <td>0</td>\n      <td>None</td>\n      <td>None</td>\n      <td>2020-06-05 07:00:39</td>\n      <td>2312210286</td>\n      <td>...</td>\n      <td>2020-03-15</td>\n      <td>None</td>\n      <td>Krasnodarskii_krai</td>\n      <td>2.924070e+05</td>\n      <td>NaN</td>\n      <td>RUB</td>\n      <td>None</td>\n      <td>None</td>\n      <td>NaN</td>\n      <td>None</td>\n    </tr>\n    <tr>\n      <th>3</th>\n      <td>0127411b-0516-4795-989e-38cb1ad9a343</td>\n      <td>67703695246200000980001</td>\n      <td>0</td>\n      <td>0</td>\n      <td>0</td>\n      <td>0</td>\n      <td>None</td>\n      <td>None</td>\n      <td>2020-06-23 06:16:18</td>\n      <td>7703695246</td>\n      <td>...</td>\n      <td>2020-04-22</td>\n      <td>2020-12-30</td>\n      <td>Moskva</td>\n      <td>3.318084e+07</td>\n      <td>NaN</td>\n      <td>RUB</td>\n      <td>None</td>\n      <td>None</td>\n      <td>NaN</td>\n      <td>None</td>\n    </tr>\n    <tr>\n      <th>4</th>\n      <td>013cab73-6528-4279-a181-faed52623a60</td>\n      <td>57813417393210000360003</td>\n      <td>0</td>\n      <td>0</td>\n      <td>0</td>\n      <td>0</td>\n      <td>None</td>\n      <td>None</td>\n      <td>2021-06-09 15:04:20</td>\n      <td>7813417393</td>\n      <td>...</td>\n      <td>2021-04-20</td>\n      <td>2021-12-30</td>\n      <td>Sankt-Peterburg</td>\n      <td>2.500000e+07</td>\n      <td>NaN</td>\n      <td>RUB</td>\n      <td>None</td>\n      <td>None</td>\n      <td>NaN</td>\n      <td>None</td>\n    </tr>\n    <tr>\n      <th>...</th>\n      <td>...</td>\n      <td>...</td>\n      <td>...</td>\n      <td>...</td>\n      <td>...</td>\n      <td>...</td>\n      <td>...</td>\n      <td>...</td>\n      <td>...</td>\n      <td>...</td>\n      <td>...</td>\n      <td>...</td>\n      <td>...</td>\n      <td>...</td>\n      <td>...</td>\n      <td>...</td>\n      <td>...</td>\n      <td>...</td>\n      <td>...</td>\n      <td>...</td>\n      <td>...</td>\n    </tr>\n    <tr>\n      <th>1536</th>\n      <td>ff80b68f-5be0-4951-b217-fa1aac06905a</td>\n      <td>67703695246200000500001</td>\n      <td>0</td>\n      <td>0</td>\n      <td>0</td>\n      <td>0</td>\n      <td>None</td>\n      <td>None</td>\n      <td>2020-06-18 13:00:13</td>\n      <td>7703695246</td>\n      <td>...</td>\n      <td>2020-04-16</td>\n      <td>None</td>\n      <td>Moskva</td>\n      <td>5.530140e+06</td>\n      <td>NaN</td>\n      <td>RUB</td>\n      <td>None</td>\n      <td>None</td>\n      <td>NaN</td>\n      <td>None</td>\n    </tr>\n    <tr>\n      <th>1537</th>\n      <td>ffa42833-0759-40db-ae64-5a329c09199a</td>\n      <td>57728816598200006640001</td>\n      <td>0</td>\n      <td>0</td>\n      <td>0</td>\n      <td>0</td>\n      <td>None</td>\n      <td>None</td>\n      <td>2020-11-18 07:20:58</td>\n      <td>7728816598</td>\n      <td>...</td>\n      <td>2020-11-16</td>\n      <td>2020-12-30</td>\n      <td>Moskva</td>\n      <td>1.848000e+05</td>\n      <td>NaN</td>\n      <td>RUB</td>\n      <td>None</td>\n      <td>None</td>\n      <td>NaN</td>\n      <td>None</td>\n    </tr>\n    <tr>\n      <th>1538</th>\n      <td>ffa4cc42-393b-4774-b2ed-1c9b2fbd75bb</td>\n      <td>67703695246200001160001</td>\n      <td>0</td>\n      <td>0</td>\n      <td>0</td>\n      <td>0</td>\n      <td>None</td>\n      <td>None</td>\n      <td>2020-07-03 13:49:05</td>\n      <td>7703695246</td>\n      <td>...</td>\n      <td>2020-04-02</td>\n      <td>2020-12-30</td>\n      <td>Moskva</td>\n      <td>3.341800e+08</td>\n      <td>NaN</td>\n      <td>RUB</td>\n      <td>None</td>\n      <td>None</td>\n      <td>NaN</td>\n      <td>None</td>\n    </tr>\n    <tr>\n      <th>1539</th>\n      <td>ffd13b8b-ffef-4b0d-8fa5-3214f3e44e2b</td>\n      <td>52312210286200000990001</td>\n      <td>0</td>\n      <td>0</td>\n      <td>0</td>\n      <td>0</td>\n      <td>None</td>\n      <td>None</td>\n      <td>2020-12-08 11:26:50</td>\n      <td>2312210286</td>\n      <td>...</td>\n      <td>2020-07-29</td>\n      <td>None</td>\n      <td>Krasnodarskii_krai</td>\n      <td>2.949280e+05</td>\n      <td>NaN</td>\n      <td>RUB</td>\n      <td>None</td>\n      <td>None</td>\n      <td>NaN</td>\n      <td>None</td>\n    </tr>\n    <tr>\n      <th>1540</th>\n      <td>ffda639d-aada-44de-974a-4ce9ac345a55</td>\n      <td>67723011906200009850003</td>\n      <td>0</td>\n      <td>0</td>\n      <td>0</td>\n      <td>0</td>\n      <td>None</td>\n      <td>None</td>\n      <td>2020-11-11 10:04:03</td>\n      <td>7723011906</td>\n      <td>...</td>\n      <td>2020-10-25</td>\n      <td>2020-12-30</td>\n      <td>Moskva</td>\n      <td>5.577768e+05</td>\n      <td>NaN</td>\n      <td>RUB</td>\n      <td>None</td>\n      <td>None</td>\n      <td>NaN</td>\n      <td>None</td>\n    </tr>\n  </tbody>\n</table>\n<p>1541 rows × 38 columns</p>\n</div>"
     },
     "execution_count": 6,
     "metadata": {},
     "output_type": "execute_result"
    }
   ],
   "source": [
    "covid_contracts_with_lot = pd.read_sql_query(\n",
    "    \"\"\"\n",
    "    SELECT c.guid as contract_guid, c.registration_number as contract_registration_number,\n",
    "    c.notice_not_placed_by_fz223p5s4 as notice_not_placed_by_fz223p5s4,\n",
    "    c.extension as contract_extension, c.prolongation as contract_prolongation,\n",
    "    c.customer_appeale_or_needs_approval as customer_appeale_or_needs_approval,\n",
    "    c.customer_approval_or_antimonopoly_descision_date as customer_approval_or_antimonopoly_descision_date,\n",
    "    c.plan_position_guid as contract_plan_position_guid,\n",
    "    c.create_date_time as contract_create_date_time,\n",
    "    c.customer_inn as contract_customer_inn, c.placer_inn as contract_placer_inn, c.detached_org_inn as contract_detached_org_inn,\n",
    "    c.publication_date as contract_publication_date, c.contract_status_code as contract_publication_date,\n",
    "    c.emergency as emergency, c.provider as provider, c.provider_code as provider_code, c.contract_reg_number as contract_reg_number,\n",
    "    c.contract_date as contract_date, c.digital_purchase as digital_purchase,\n",
    "    c.purchase_notice_info_guid as purchase_notice_info_guid, c.purchase_notice_info_number as purchase_notice_info_number,\n",
    "    c.lot_guid as lot_guid, c.subject_contract as subject_contract, c.purchase_type_code as purchase_type_code,\n",
    "    c.price as contract_price, c.rub_price as contract_rub_price, c.currency_code as contract_currency_code,\n",
    "    c.start_execution_date as contract_start_execution_date, c.end_execution_date as contract_end_execution_date,\n",
    "    c.region_name as region_name,\n",
    "    pnld.initial_sum as notice_lot_initial_sum, pnld.starting_contract_price_rub as notice_lot_starting_contract_price_rub,\n",
    "    pnld.currency_code as notice_lot_currency_code,\n",
    "    pnld.commodity_price as notice_lot_commodity_price, pnld.commodity_price_rub as notice_lot_commodity_price_rub,\n",
    "    pnld.max_contract_price as notice_lot_max_contract_price, pnld.max_contract_price_rub as notice_lot_max_contract_price_rub\n",
    "    FROM contract c\n",
    "    INNER JOIN (\n",
    "        SELECT contract_reg_number, MAX(version) ver\n",
    "        FROM contract\n",
    "        WHERE emergency = 1\n",
    "        AND lot_guid is not null\n",
    "        GROUP BY contract_reg_number\n",
    "    ) tmp ON c.contract_reg_number = tmp.contract_reg_number AND c.version = tmp.ver\n",
    "    INNER JOIN purchase_notice_lot pnl ON c.lot_guid = pnl.guid\n",
    "    LEFT JOIN purchase_notice_lot_data pnld on pnl.guid = pnld.purchase_notice_lot_guid\n",
    "    \"\"\",\n",
    "    conn\n",
    ")\n",
    "\n",
    "covid_contracts_with_lot"
   ],
   "metadata": {
    "collapsed": false,
    "pycharm": {
     "name": "#%%\n"
    }
   }
  },
  {
   "cell_type": "markdown",
   "source": [
    "Проверим, существуют ли договоры, у которых заказчик отличается от заказчика в извещении"
   ],
   "metadata": {
    "collapsed": false,
    "pycharm": {
     "name": "#%% md\n"
    }
   }
  },
  {
   "cell_type": "code",
   "execution_count": 7,
   "outputs": [
    {
     "data": {
      "text/plain": "                                    guid customer_inn  placer_inn  \\\n0   02a74aef-0dc0-48fb-b0d3-70731900673d   7736182930  7736182930   \n1   06c265e1-678b-4668-a263-54c8a9bcf63b   6345012488  6345012488   \n2   06c265e1-678b-4668-a263-54c8a9bcf63b   6345012488  6345012488   \n3   0c62cca5-11ff-4c74-98b3-99bfba43f439   7736182930  7736182930   \n4   1075c209-6479-4383-b2f9-5094f6f1d5ac   7736182930  7736182930   \n..                                   ...          ...         ...   \n59  eef8ca67-51e9-4504-a782-3553ee146548   7729050901  7729050901   \n60  ef7f48fb-1db6-49de-88bd-9797dcaa6a63   7736182930  7736182930   \n61  f151c684-068f-483d-b4d8-ea83f6133261   7736182930  7736182930   \n62  fe33caf4-1d35-4e0a-80ba-9706164e3018   2308131994  2308131994   \n63  fe71dd72-4c08-423a-b593-622e066ca4b3   7736607502  7736607502   \n\n   detached_org_inn                                  guid customer_inn  \\\n0        7736182930  84925ecd-c713-420e-b1a4-683af576b9e9   7736182930   \n1        6345012488  1d063c20-7aa0-46ad-9289-a1b9bfb28b87   1510012774   \n2        6345012488  219cfb41-11cb-aae8-b709-0d5a6bd131db   1510012774   \n3        7736182930  86da896b-2ac2-40d9-b8fd-5afc5c6834ef   7736182930   \n4        7736182930  7ecca033-8e5c-4fc4-b14f-a73593cea657   7736182930   \n..              ...                                   ...          ...   \n59       7729050901  d0397010-c8c5-4a93-be51-dfcb47699583   7729050901   \n60       7736182930  c4e42361-67c8-443b-a217-422ccdd9d91e   7736182930   \n61       7736182930  78c3f1f2-4e8d-41e6-9379-1b40a96dc59a   7736182930   \n62       2308131994  ff0817d0-30ce-4169-921e-75834f01b2d2   2308131994   \n63       7736607502  005056be-1598-1eeb-8ed6-0c774e0f7be6   7706061801   \n\n    placer_inn detached_org_inn  \n0   7707308480             None  \n1   1510012774             None  \n2   1510012774             None  \n3   7707308480             None  \n4   7707308480             None  \n..         ...              ...  \n59  7707308480             None  \n60  7707308480             None  \n61  7707308480             None  \n62  7707308480             None  \n63  7706061801             None  \n\n[64 rows x 8 columns]",
      "text/html": "<div>\n<style scoped>\n    .dataframe tbody tr th:only-of-type {\n        vertical-align: middle;\n    }\n\n    .dataframe tbody tr th {\n        vertical-align: top;\n    }\n\n    .dataframe thead th {\n        text-align: right;\n    }\n</style>\n<table border=\"1\" class=\"dataframe\">\n  <thead>\n    <tr style=\"text-align: right;\">\n      <th></th>\n      <th>guid</th>\n      <th>customer_inn</th>\n      <th>placer_inn</th>\n      <th>detached_org_inn</th>\n      <th>guid</th>\n      <th>customer_inn</th>\n      <th>placer_inn</th>\n      <th>detached_org_inn</th>\n    </tr>\n  </thead>\n  <tbody>\n    <tr>\n      <th>0</th>\n      <td>02a74aef-0dc0-48fb-b0d3-70731900673d</td>\n      <td>7736182930</td>\n      <td>7736182930</td>\n      <td>7736182930</td>\n      <td>84925ecd-c713-420e-b1a4-683af576b9e9</td>\n      <td>7736182930</td>\n      <td>7707308480</td>\n      <td>None</td>\n    </tr>\n    <tr>\n      <th>1</th>\n      <td>06c265e1-678b-4668-a263-54c8a9bcf63b</td>\n      <td>6345012488</td>\n      <td>6345012488</td>\n      <td>6345012488</td>\n      <td>1d063c20-7aa0-46ad-9289-a1b9bfb28b87</td>\n      <td>1510012774</td>\n      <td>1510012774</td>\n      <td>None</td>\n    </tr>\n    <tr>\n      <th>2</th>\n      <td>06c265e1-678b-4668-a263-54c8a9bcf63b</td>\n      <td>6345012488</td>\n      <td>6345012488</td>\n      <td>6345012488</td>\n      <td>219cfb41-11cb-aae8-b709-0d5a6bd131db</td>\n      <td>1510012774</td>\n      <td>1510012774</td>\n      <td>None</td>\n    </tr>\n    <tr>\n      <th>3</th>\n      <td>0c62cca5-11ff-4c74-98b3-99bfba43f439</td>\n      <td>7736182930</td>\n      <td>7736182930</td>\n      <td>7736182930</td>\n      <td>86da896b-2ac2-40d9-b8fd-5afc5c6834ef</td>\n      <td>7736182930</td>\n      <td>7707308480</td>\n      <td>None</td>\n    </tr>\n    <tr>\n      <th>4</th>\n      <td>1075c209-6479-4383-b2f9-5094f6f1d5ac</td>\n      <td>7736182930</td>\n      <td>7736182930</td>\n      <td>7736182930</td>\n      <td>7ecca033-8e5c-4fc4-b14f-a73593cea657</td>\n      <td>7736182930</td>\n      <td>7707308480</td>\n      <td>None</td>\n    </tr>\n    <tr>\n      <th>...</th>\n      <td>...</td>\n      <td>...</td>\n      <td>...</td>\n      <td>...</td>\n      <td>...</td>\n      <td>...</td>\n      <td>...</td>\n      <td>...</td>\n    </tr>\n    <tr>\n      <th>59</th>\n      <td>eef8ca67-51e9-4504-a782-3553ee146548</td>\n      <td>7729050901</td>\n      <td>7729050901</td>\n      <td>7729050901</td>\n      <td>d0397010-c8c5-4a93-be51-dfcb47699583</td>\n      <td>7729050901</td>\n      <td>7707308480</td>\n      <td>None</td>\n    </tr>\n    <tr>\n      <th>60</th>\n      <td>ef7f48fb-1db6-49de-88bd-9797dcaa6a63</td>\n      <td>7736182930</td>\n      <td>7736182930</td>\n      <td>7736182930</td>\n      <td>c4e42361-67c8-443b-a217-422ccdd9d91e</td>\n      <td>7736182930</td>\n      <td>7707308480</td>\n      <td>None</td>\n    </tr>\n    <tr>\n      <th>61</th>\n      <td>f151c684-068f-483d-b4d8-ea83f6133261</td>\n      <td>7736182930</td>\n      <td>7736182930</td>\n      <td>7736182930</td>\n      <td>78c3f1f2-4e8d-41e6-9379-1b40a96dc59a</td>\n      <td>7736182930</td>\n      <td>7707308480</td>\n      <td>None</td>\n    </tr>\n    <tr>\n      <th>62</th>\n      <td>fe33caf4-1d35-4e0a-80ba-9706164e3018</td>\n      <td>2308131994</td>\n      <td>2308131994</td>\n      <td>2308131994</td>\n      <td>ff0817d0-30ce-4169-921e-75834f01b2d2</td>\n      <td>2308131994</td>\n      <td>7707308480</td>\n      <td>None</td>\n    </tr>\n    <tr>\n      <th>63</th>\n      <td>fe71dd72-4c08-423a-b593-622e066ca4b3</td>\n      <td>7736607502</td>\n      <td>7736607502</td>\n      <td>7736607502</td>\n      <td>005056be-1598-1eeb-8ed6-0c774e0f7be6</td>\n      <td>7706061801</td>\n      <td>7706061801</td>\n      <td>None</td>\n    </tr>\n  </tbody>\n</table>\n<p>64 rows × 8 columns</p>\n</div>"
     },
     "execution_count": 7,
     "metadata": {},
     "output_type": "execute_result"
    }
   ],
   "source": [
    "contracts_with_different_customer = pd.read_sql_query(\n",
    "    \"\"\"\n",
    "    SELECT c.guid, c.customer_inn, c.placer_inn, c.detached_org_inn, pn.guid, pn.customer_inn, pn.placer_inn, pn.detached_org_inn\n",
    "    FROM contract c\n",
    "    INNER JOIN purchase_notice_lot pnl on c.lot_guid = pnl.guid\n",
    "    LEFT JOIN purchase_notice_to_lot pntl on pnl.guid = pntl.purchase_notice_lot_guid\n",
    "    LEFT JOIN purchase_notice pn on pntl.purchase_notice_guid = pn.guid\n",
    "    WHERE\n",
    "    c.lot_guid is not null\n",
    "    AND c.emergency = 1\n",
    "    AND (c.customer_inn != pn.customer_inn or c.placer_inn != pn.placer_inn)\n",
    "    ;\n",
    "    \"\"\",\n",
    "    conn\n",
    ")\n",
    "\n",
    "contracts_with_different_customer"
   ],
   "metadata": {
    "collapsed": false,
    "pycharm": {
     "name": "#%%\n"
    }
   }
  },
  {
   "cell_type": "markdown",
   "source": [
    "Такие договоры существуют, поэтому необходимо будет добавить данные об изначальном заказчике в выборку"
   ],
   "metadata": {
    "collapsed": false,
    "pycharm": {
     "name": "#%% md\n"
    }
   }
  },
  {
   "cell_type": "markdown",
   "source": [
    "Дополним информацией о том, был ли договор завершен или расторгнут"
   ],
   "metadata": {
    "collapsed": false,
    "pycharm": {
     "name": "#%% md\n"
    }
   }
  },
  {
   "cell_type": "code",
   "execution_count": 8,
   "outputs": [
    {
     "data": {
      "text/plain": "                             contract_guid contract_registration_number  \\\n0     0036c56b-1874-4c0c-a7fe-7b8a47696acd      87825011824200000490001   \n1     00751401-bc7d-40eb-8eb6-191df67b117e      56901067107210018890001   \n2     00954370-200e-403a-997b-f469f075967e      52312210286200000710001   \n3     0127411b-0516-4795-989e-38cb1ad9a343      67703695246200000980001   \n4     013cab73-6528-4279-a181-faed52623a60      57813417393210000360003   \n...                                    ...                          ...   \n1536  ff80b68f-5be0-4951-b217-fa1aac06905a      67703695246200000500001   \n1537  ffa42833-0759-40db-ae64-5a329c09199a      57728816598200006640001   \n1538  ffa4cc42-393b-4774-b2ed-1c9b2fbd75bb      67703695246200001160001   \n1539  ffd13b8b-ffef-4b0d-8fa5-3214f3e44e2b      52312210286200000990001   \n1540  ffda639d-aada-44de-974a-4ce9ac345a55      67723011906200009850003   \n\n      notice_not_placed_by_fz223p5s4  contract_extension  \\\n0                                  0                   1   \n1                                  0                   0   \n2                                  0                   0   \n3                                  0                   0   \n4                                  0                   0   \n...                              ...                 ...   \n1536                               0                   0   \n1537                               0                   0   \n1538                               0                   0   \n1539                               0                   0   \n1540                               0                   0   \n\n      contract_prolongation  customer_appeale_or_needs_approval  \\\n0                         0                                   0   \n1                         0                                   0   \n2                         0                                   0   \n3                         0                                   0   \n4                         0                                   0   \n...                     ...                                 ...   \n1536                      0                                   0   \n1537                      0                                   0   \n1538                      0                                   0   \n1539                      0                                   0   \n1540                      0                                   0   \n\n     customer_approval_or_antimonopoly_descision_date  \\\n0                                                None   \n1                                                None   \n2                                                None   \n3                                                None   \n4                                                None   \n...                                               ...   \n1536                                             None   \n1537                                             None   \n1538                                             None   \n1539                                             None   \n1540                                             None   \n\n     contract_plan_position_guid contract_create_date_time  \\\n0                           None       2020-09-08 07:01:28   \n1                           None       2021-08-17 14:12:13   \n2                           None       2020-06-05 07:00:39   \n3                           None       2020-06-23 06:16:18   \n4                           None       2021-06-09 15:04:20   \n...                          ...                       ...   \n1536                        None       2020-06-18 13:00:13   \n1537                        None       2020-11-18 07:20:58   \n1538                        None       2020-07-03 13:49:05   \n1539                        None       2020-12-08 11:26:50   \n1540                        None       2020-11-11 10:04:03   \n\n     contract_customer_inn  ... contract_end_execution_date  \\\n0               7825011824  ...                  2020-11-29   \n1               6901067107  ...                  2021-09-15   \n2               2312210286  ...                        None   \n3               7703695246  ...                  2020-12-30   \n4               7813417393  ...                  2021-12-30   \n...                    ...  ...                         ...   \n1536            7703695246  ...                        None   \n1537            7728816598  ...                  2020-12-30   \n1538            7703695246  ...                  2020-12-30   \n1539            2312210286  ...                        None   \n1540            7723011906  ...                  2020-12-30   \n\n             region_name notice_lot_initial_sum  \\\n0        Sankt-Peterburg           5.904899e+05   \n1                 Moskva           2.173348e+06   \n2     Krasnodarskii_krai           2.924070e+05   \n3                 Moskva           3.318084e+07   \n4        Sankt-Peterburg           2.500000e+07   \n...                  ...                    ...   \n1536              Moskva           5.530140e+06   \n1537              Moskva           1.848000e+05   \n1538              Moskva           3.341800e+08   \n1539  Krasnodarskii_krai           2.949280e+05   \n1540              Moskva           5.577768e+05   \n\n     notice_lot_starting_contract_price_rub  notice_lot_currency_code  \\\n0                                       NaN                       RUB   \n1                                       NaN                       RUB   \n2                                       NaN                       RUB   \n3                                       NaN                       RUB   \n4                                       NaN                       RUB   \n...                                     ...                       ...   \n1536                                    NaN                       RUB   \n1537                                    NaN                       RUB   \n1538                                    NaN                       RUB   \n1539                                    NaN                       RUB   \n1540                                    NaN                       RUB   \n\n      notice_lot_commodity_price notice_lot_commodity_price_rub  \\\n0                           None                           None   \n1                           None                           None   \n2                           None                           None   \n3                           None                           None   \n4                           None                           None   \n...                          ...                            ...   \n1536                        None                           None   \n1537                        None                           None   \n1538                        None                           None   \n1539                        None                           None   \n1540                        None                           None   \n\n     notice_lot_max_contract_price notice_lot_max_contract_price_rub  \\\n0                              NaN                              None   \n1                              NaN                              None   \n2                              NaN                              None   \n3                              NaN                              None   \n4                              NaN                              None   \n...                            ...                               ...   \n1536                           NaN                              None   \n1537                           NaN                              None   \n1538                           NaN                              None   \n1539                           NaN                              None   \n1540                           NaN                              None   \n\n      contract_is_complete  \n0                      1.0  \n1                      NaN  \n2                      NaN  \n3                      NaN  \n4                      NaN  \n...                    ...  \n1536                   NaN  \n1537                   NaN  \n1538                   NaN  \n1539                   NaN  \n1540                   1.0  \n\n[1541 rows x 39 columns]",
      "text/html": "<div>\n<style scoped>\n    .dataframe tbody tr th:only-of-type {\n        vertical-align: middle;\n    }\n\n    .dataframe tbody tr th {\n        vertical-align: top;\n    }\n\n    .dataframe thead th {\n        text-align: right;\n    }\n</style>\n<table border=\"1\" class=\"dataframe\">\n  <thead>\n    <tr style=\"text-align: right;\">\n      <th></th>\n      <th>contract_guid</th>\n      <th>contract_registration_number</th>\n      <th>notice_not_placed_by_fz223p5s4</th>\n      <th>contract_extension</th>\n      <th>contract_prolongation</th>\n      <th>customer_appeale_or_needs_approval</th>\n      <th>customer_approval_or_antimonopoly_descision_date</th>\n      <th>contract_plan_position_guid</th>\n      <th>contract_create_date_time</th>\n      <th>contract_customer_inn</th>\n      <th>...</th>\n      <th>contract_end_execution_date</th>\n      <th>region_name</th>\n      <th>notice_lot_initial_sum</th>\n      <th>notice_lot_starting_contract_price_rub</th>\n      <th>notice_lot_currency_code</th>\n      <th>notice_lot_commodity_price</th>\n      <th>notice_lot_commodity_price_rub</th>\n      <th>notice_lot_max_contract_price</th>\n      <th>notice_lot_max_contract_price_rub</th>\n      <th>contract_is_complete</th>\n    </tr>\n  </thead>\n  <tbody>\n    <tr>\n      <th>0</th>\n      <td>0036c56b-1874-4c0c-a7fe-7b8a47696acd</td>\n      <td>87825011824200000490001</td>\n      <td>0</td>\n      <td>1</td>\n      <td>0</td>\n      <td>0</td>\n      <td>None</td>\n      <td>None</td>\n      <td>2020-09-08 07:01:28</td>\n      <td>7825011824</td>\n      <td>...</td>\n      <td>2020-11-29</td>\n      <td>Sankt-Peterburg</td>\n      <td>5.904899e+05</td>\n      <td>NaN</td>\n      <td>RUB</td>\n      <td>None</td>\n      <td>None</td>\n      <td>NaN</td>\n      <td>None</td>\n      <td>1.0</td>\n    </tr>\n    <tr>\n      <th>1</th>\n      <td>00751401-bc7d-40eb-8eb6-191df67b117e</td>\n      <td>56901067107210018890001</td>\n      <td>0</td>\n      <td>0</td>\n      <td>0</td>\n      <td>0</td>\n      <td>None</td>\n      <td>None</td>\n      <td>2021-08-17 14:12:13</td>\n      <td>6901067107</td>\n      <td>...</td>\n      <td>2021-09-15</td>\n      <td>Moskva</td>\n      <td>2.173348e+06</td>\n      <td>NaN</td>\n      <td>RUB</td>\n      <td>None</td>\n      <td>None</td>\n      <td>NaN</td>\n      <td>None</td>\n      <td>NaN</td>\n    </tr>\n    <tr>\n      <th>2</th>\n      <td>00954370-200e-403a-997b-f469f075967e</td>\n      <td>52312210286200000710001</td>\n      <td>0</td>\n      <td>0</td>\n      <td>0</td>\n      <td>0</td>\n      <td>None</td>\n      <td>None</td>\n      <td>2020-06-05 07:00:39</td>\n      <td>2312210286</td>\n      <td>...</td>\n      <td>None</td>\n      <td>Krasnodarskii_krai</td>\n      <td>2.924070e+05</td>\n      <td>NaN</td>\n      <td>RUB</td>\n      <td>None</td>\n      <td>None</td>\n      <td>NaN</td>\n      <td>None</td>\n      <td>NaN</td>\n    </tr>\n    <tr>\n      <th>3</th>\n      <td>0127411b-0516-4795-989e-38cb1ad9a343</td>\n      <td>67703695246200000980001</td>\n      <td>0</td>\n      <td>0</td>\n      <td>0</td>\n      <td>0</td>\n      <td>None</td>\n      <td>None</td>\n      <td>2020-06-23 06:16:18</td>\n      <td>7703695246</td>\n      <td>...</td>\n      <td>2020-12-30</td>\n      <td>Moskva</td>\n      <td>3.318084e+07</td>\n      <td>NaN</td>\n      <td>RUB</td>\n      <td>None</td>\n      <td>None</td>\n      <td>NaN</td>\n      <td>None</td>\n      <td>NaN</td>\n    </tr>\n    <tr>\n      <th>4</th>\n      <td>013cab73-6528-4279-a181-faed52623a60</td>\n      <td>57813417393210000360003</td>\n      <td>0</td>\n      <td>0</td>\n      <td>0</td>\n      <td>0</td>\n      <td>None</td>\n      <td>None</td>\n      <td>2021-06-09 15:04:20</td>\n      <td>7813417393</td>\n      <td>...</td>\n      <td>2021-12-30</td>\n      <td>Sankt-Peterburg</td>\n      <td>2.500000e+07</td>\n      <td>NaN</td>\n      <td>RUB</td>\n      <td>None</td>\n      <td>None</td>\n      <td>NaN</td>\n      <td>None</td>\n      <td>NaN</td>\n    </tr>\n    <tr>\n      <th>...</th>\n      <td>...</td>\n      <td>...</td>\n      <td>...</td>\n      <td>...</td>\n      <td>...</td>\n      <td>...</td>\n      <td>...</td>\n      <td>...</td>\n      <td>...</td>\n      <td>...</td>\n      <td>...</td>\n      <td>...</td>\n      <td>...</td>\n      <td>...</td>\n      <td>...</td>\n      <td>...</td>\n      <td>...</td>\n      <td>...</td>\n      <td>...</td>\n      <td>...</td>\n      <td>...</td>\n    </tr>\n    <tr>\n      <th>1536</th>\n      <td>ff80b68f-5be0-4951-b217-fa1aac06905a</td>\n      <td>67703695246200000500001</td>\n      <td>0</td>\n      <td>0</td>\n      <td>0</td>\n      <td>0</td>\n      <td>None</td>\n      <td>None</td>\n      <td>2020-06-18 13:00:13</td>\n      <td>7703695246</td>\n      <td>...</td>\n      <td>None</td>\n      <td>Moskva</td>\n      <td>5.530140e+06</td>\n      <td>NaN</td>\n      <td>RUB</td>\n      <td>None</td>\n      <td>None</td>\n      <td>NaN</td>\n      <td>None</td>\n      <td>NaN</td>\n    </tr>\n    <tr>\n      <th>1537</th>\n      <td>ffa42833-0759-40db-ae64-5a329c09199a</td>\n      <td>57728816598200006640001</td>\n      <td>0</td>\n      <td>0</td>\n      <td>0</td>\n      <td>0</td>\n      <td>None</td>\n      <td>None</td>\n      <td>2020-11-18 07:20:58</td>\n      <td>7728816598</td>\n      <td>...</td>\n      <td>2020-12-30</td>\n      <td>Moskva</td>\n      <td>1.848000e+05</td>\n      <td>NaN</td>\n      <td>RUB</td>\n      <td>None</td>\n      <td>None</td>\n      <td>NaN</td>\n      <td>None</td>\n      <td>NaN</td>\n    </tr>\n    <tr>\n      <th>1538</th>\n      <td>ffa4cc42-393b-4774-b2ed-1c9b2fbd75bb</td>\n      <td>67703695246200001160001</td>\n      <td>0</td>\n      <td>0</td>\n      <td>0</td>\n      <td>0</td>\n      <td>None</td>\n      <td>None</td>\n      <td>2020-07-03 13:49:05</td>\n      <td>7703695246</td>\n      <td>...</td>\n      <td>2020-12-30</td>\n      <td>Moskva</td>\n      <td>3.341800e+08</td>\n      <td>NaN</td>\n      <td>RUB</td>\n      <td>None</td>\n      <td>None</td>\n      <td>NaN</td>\n      <td>None</td>\n      <td>NaN</td>\n    </tr>\n    <tr>\n      <th>1539</th>\n      <td>ffd13b8b-ffef-4b0d-8fa5-3214f3e44e2b</td>\n      <td>52312210286200000990001</td>\n      <td>0</td>\n      <td>0</td>\n      <td>0</td>\n      <td>0</td>\n      <td>None</td>\n      <td>None</td>\n      <td>2020-12-08 11:26:50</td>\n      <td>2312210286</td>\n      <td>...</td>\n      <td>None</td>\n      <td>Krasnodarskii_krai</td>\n      <td>2.949280e+05</td>\n      <td>NaN</td>\n      <td>RUB</td>\n      <td>None</td>\n      <td>None</td>\n      <td>NaN</td>\n      <td>None</td>\n      <td>NaN</td>\n    </tr>\n    <tr>\n      <th>1540</th>\n      <td>ffda639d-aada-44de-974a-4ce9ac345a55</td>\n      <td>67723011906200009850003</td>\n      <td>0</td>\n      <td>0</td>\n      <td>0</td>\n      <td>0</td>\n      <td>None</td>\n      <td>None</td>\n      <td>2020-11-11 10:04:03</td>\n      <td>7723011906</td>\n      <td>...</td>\n      <td>2020-12-30</td>\n      <td>Moskva</td>\n      <td>5.577768e+05</td>\n      <td>NaN</td>\n      <td>RUB</td>\n      <td>None</td>\n      <td>None</td>\n      <td>NaN</td>\n      <td>None</td>\n      <td>1.0</td>\n    </tr>\n  </tbody>\n</table>\n<p>1541 rows × 39 columns</p>\n</div>"
     },
     "execution_count": 8,
     "metadata": {},
     "output_type": "execute_result"
    }
   ],
   "source": [
    "covid_contracts_performance_with_lot = pd.read_sql_query(\n",
    "    \"\"\"\n",
    "    SELECT c.guid as contract_guid, c.registration_number as contract_registration_number,\n",
    "    c.notice_not_placed_by_fz223p5s4 as notice_not_placed_by_fz223p5s4,\n",
    "    c.extension as contract_extension, c.prolongation as contract_prolongation,\n",
    "    c.customer_appeale_or_needs_approval as customer_appeale_or_needs_approval,\n",
    "    c.customer_approval_or_antimonopoly_descision_date as customer_approval_or_antimonopoly_descision_date,\n",
    "    c.plan_position_guid as contract_plan_position_guid,\n",
    "    c.create_date_time as contract_create_date_time,\n",
    "    c.customer_inn as contract_customer_inn, c.placer_inn as contract_placer_inn, c.detached_org_inn as contract_detached_org_inn,\n",
    "    c.publication_date as contract_publication_date, c.contract_status_code as contract_publication_date,\n",
    "    c.emergency as emergency, c.provider as provider, c.provider_code as provider_code, c.contract_reg_number as contract_reg_number,\n",
    "    c.contract_date as contract_date, c.digital_purchase as digital_purchase,\n",
    "    c.purchase_notice_info_guid as purchase_notice_info_guid, c.purchase_notice_info_number as purchase_notice_info_number,\n",
    "    c.lot_guid as lot_guid, c.subject_contract as subject_contract, c.purchase_type_code as purchase_type_code,\n",
    "    c.price as contract_price, c.rub_price as contract_rub_price, c.currency_code as contract_currency_code,\n",
    "    c.start_execution_date as contract_start_execution_date, c.end_execution_date as contract_end_execution_date,\n",
    "    c.region_name as region_name,\n",
    "    pnld.initial_sum as notice_lot_initial_sum, pnld.starting_contract_price_rub as notice_lot_starting_contract_price_rub,\n",
    "    pnld.currency_code as notice_lot_currency_code,\n",
    "    pnld.commodity_price as notice_lot_commodity_price, pnld.commodity_price_rub as notice_lot_commodity_price_rub,\n",
    "    pnld.max_contract_price as notice_lot_max_contract_price, pnld.max_contract_price_rub as notice_lot_max_contract_price_rub,\n",
    "    cp.is_complete as contract_is_complete\n",
    "    FROM contract c\n",
    "    INNER JOIN (\n",
    "        SELECT contract_reg_number, MAX(version) ver\n",
    "        FROM contract\n",
    "        WHERE emergency = 1\n",
    "        AND lot_guid is not null\n",
    "        GROUP BY contract_reg_number\n",
    "    ) tmp ON c.contract_reg_number = tmp.contract_reg_number AND c.version = tmp.ver\n",
    "    INNER JOIN purchase_notice_lot pnl ON c.lot_guid = pnl.guid\n",
    "    LEFT JOIN purchase_notice_lot_data pnld on pnl.guid = pnld.purchase_notice_lot_guid\n",
    "    LEFT JOIN (\n",
    "        SELECT c2.contract_reg_number, MIN(is_complete) as is_complete\n",
    "        FROM contract c2\n",
    "        LEFT JOIN contract_performance cp2 ON c2.contract_reg_number = cp2.contract_registration_number\n",
    "        WHERE c2.emergency = 1\n",
    "        AND c2.lot_guid is not null\n",
    "        GROUP BY c2.contract_reg_number\n",
    "    ) cp ON cp.contract_reg_number = c.contract_reg_number\n",
    "    \"\"\",\n",
    "    conn\n",
    ")\n",
    "\n",
    "covid_contracts_performance_with_lot"
   ],
   "metadata": {
    "collapsed": false,
    "pycharm": {
     "name": "#%%\n"
    }
   }
  },
  {
   "cell_type": "markdown",
   "source": [
    "Необходимо дополнить выборку информацией о позициях договора"
   ],
   "metadata": {
    "collapsed": false,
    "pycharm": {
     "name": "#%% md\n"
    }
   }
  },
  {
   "cell_type": "code",
   "execution_count": 9,
   "outputs": [
    {
     "data": {
      "text/plain": "                             contract_guid contract_registration_number  \\\n0     0036c56b-1874-4c0c-a7fe-7b8a47696acd      87825011824200000490001   \n1     00751401-bc7d-40eb-8eb6-191df67b117e      56901067107210018890001   \n2     00954370-200e-403a-997b-f469f075967e      52312210286200000710001   \n3     0127411b-0516-4795-989e-38cb1ad9a343      67703695246200000980001   \n4     013cab73-6528-4279-a181-faed52623a60      57813417393210000360003   \n...                                    ...                          ...   \n2044  ff80b68f-5be0-4951-b217-fa1aac06905a      67703695246200000500001   \n2045  ffa42833-0759-40db-ae64-5a329c09199a      57728816598200006640001   \n2046  ffa4cc42-393b-4774-b2ed-1c9b2fbd75bb      67703695246200001160001   \n2047  ffd13b8b-ffef-4b0d-8fa5-3214f3e44e2b      52312210286200000990001   \n2048  ffda639d-aada-44de-974a-4ce9ac345a55      67723011906200009850003   \n\n      notice_not_placed_by_fz223p5s4  contract_extension  \\\n0                                  0                   1   \n1                                  0                   0   \n2                                  0                   0   \n3                                  0                   0   \n4                                  0                   0   \n...                              ...                 ...   \n2044                               0                   0   \n2045                               0                   0   \n2046                               0                   0   \n2047                               0                   0   \n2048                               0                   0   \n\n      contract_prolongation  customer_appeale_or_needs_approval  \\\n0                         0                                   0   \n1                         0                                   0   \n2                         0                                   0   \n3                         0                                   0   \n4                         0                                   0   \n...                     ...                                 ...   \n2044                      0                                   0   \n2045                      0                                   0   \n2046                      0                                   0   \n2047                      0                                   0   \n2048                      0                                   0   \n\n     customer_approval_or_antimonopoly_descision_date  \\\n0                                                None   \n1                                                None   \n2                                                None   \n3                                                None   \n4                                                None   \n...                                               ...   \n2044                                             None   \n2045                                             None   \n2046                                             None   \n2047                                             None   \n2048                                             None   \n\n     contract_plan_position_guid contract_create_date_time  \\\n0                           None       2020-09-08 07:01:28   \n1                           None       2021-08-17 14:12:13   \n2                           None       2020-06-05 07:00:39   \n3                           None       2020-06-23 06:16:18   \n4                           None       2021-06-09 15:04:20   \n...                          ...                       ...   \n2044                        None       2020-06-18 13:00:13   \n2045                        None       2020-11-18 07:20:58   \n2046                        None       2020-07-03 13:49:05   \n2047                        None       2020-12-08 11:26:50   \n2048                        None       2020-11-11 10:04:03   \n\n     contract_customer_inn  ...  \\\n0               7825011824  ...   \n1               6901067107  ...   \n2               2312210286  ...   \n3               7703695246  ...   \n4               7813417393  ...   \n...                    ...  ...   \n2044            7703695246  ...   \n2045            7728816598  ...   \n2046            7703695246  ...   \n2047            2312210286  ...   \n2048            7723011906  ...   \n\n                                    position_okpd2_name position_country_code  \\\n0     Работы по монтажу водопроводных и канализацион...                  None   \n1     Работы электромонтажные прочие, не включенные ...                  None   \n2     Работы строительные по прокладке местных трубо...                  None   \n3                   Аппараты дыхательные реанимационные                  None   \n4     Работы строительные специализированные, не вкл...                  None   \n...                                                 ...                   ...   \n2044                Аппараты дыхательные реанимационные                  None   \n2045  Оборудование специального назначения прочее, н...                  None   \n2046                Аппараты дыхательные реанимационные                  None   \n2047  Работы строительные по прокладке местных трубо...                  None   \n2048  Услуги организаций санитарно-эпидемиологическо...                  None   \n\n     position_producer_country position_impossible_to_determine_attr  \\\n0                         None                                     0   \n1                         None                                     1   \n2                         None                                     1   \n3                         None                                     0   \n4                         None                                     1   \n...                        ...                                   ...   \n2044                      None                                     0   \n2045                      None                                     0   \n2046                      None                                     0   \n2047                      None                                     1   \n2048                      None                                     0   \n\n      position_okei_code  position_okei_name position_qty position_unit_price  \\\n0                    876    Условная единица          1.0           590489.94   \n1                   None                None          NaN          2108040.00   \n2                   None                None          NaN                 NaN   \n3                    796               Штука         18.0                 NaN   \n4                   None                None          NaN                 NaN   \n...                  ...                 ...          ...                 ...   \n2044                 796               Штука          3.0                 NaN   \n2045                 796               Штука          1.0                 NaN   \n2046                 796               Штука        220.0                 NaN   \n2047                None                None          NaN                 NaN   \n2048                 796               Штука         44.0                 NaN   \n\n     position_rub_unit_price  position_currency_code  \n0                        NaN                     RUB  \n1                        NaN                     RUB  \n2                        NaN                    None  \n3                        NaN                    None  \n4                        NaN                    None  \n...                      ...                     ...  \n2044                     NaN                    None  \n2045                     NaN                    None  \n2046                     NaN                    None  \n2047                     NaN                    None  \n2048                     NaN                    None  \n\n[2049 rows x 51 columns]",
      "text/html": "<div>\n<style scoped>\n    .dataframe tbody tr th:only-of-type {\n        vertical-align: middle;\n    }\n\n    .dataframe tbody tr th {\n        vertical-align: top;\n    }\n\n    .dataframe thead th {\n        text-align: right;\n    }\n</style>\n<table border=\"1\" class=\"dataframe\">\n  <thead>\n    <tr style=\"text-align: right;\">\n      <th></th>\n      <th>contract_guid</th>\n      <th>contract_registration_number</th>\n      <th>notice_not_placed_by_fz223p5s4</th>\n      <th>contract_extension</th>\n      <th>contract_prolongation</th>\n      <th>customer_appeale_or_needs_approval</th>\n      <th>customer_approval_or_antimonopoly_descision_date</th>\n      <th>contract_plan_position_guid</th>\n      <th>contract_create_date_time</th>\n      <th>contract_customer_inn</th>\n      <th>...</th>\n      <th>position_okpd2_name</th>\n      <th>position_country_code</th>\n      <th>position_producer_country</th>\n      <th>position_impossible_to_determine_attr</th>\n      <th>position_okei_code</th>\n      <th>position_okei_name</th>\n      <th>position_qty</th>\n      <th>position_unit_price</th>\n      <th>position_rub_unit_price</th>\n      <th>position_currency_code</th>\n    </tr>\n  </thead>\n  <tbody>\n    <tr>\n      <th>0</th>\n      <td>0036c56b-1874-4c0c-a7fe-7b8a47696acd</td>\n      <td>87825011824200000490001</td>\n      <td>0</td>\n      <td>1</td>\n      <td>0</td>\n      <td>0</td>\n      <td>None</td>\n      <td>None</td>\n      <td>2020-09-08 07:01:28</td>\n      <td>7825011824</td>\n      <td>...</td>\n      <td>Работы по монтажу водопроводных и канализацион...</td>\n      <td>None</td>\n      <td>None</td>\n      <td>0</td>\n      <td>876</td>\n      <td>Условная единица</td>\n      <td>1.0</td>\n      <td>590489.94</td>\n      <td>NaN</td>\n      <td>RUB</td>\n    </tr>\n    <tr>\n      <th>1</th>\n      <td>00751401-bc7d-40eb-8eb6-191df67b117e</td>\n      <td>56901067107210018890001</td>\n      <td>0</td>\n      <td>0</td>\n      <td>0</td>\n      <td>0</td>\n      <td>None</td>\n      <td>None</td>\n      <td>2021-08-17 14:12:13</td>\n      <td>6901067107</td>\n      <td>...</td>\n      <td>Работы электромонтажные прочие, не включенные ...</td>\n      <td>None</td>\n      <td>None</td>\n      <td>1</td>\n      <td>None</td>\n      <td>None</td>\n      <td>NaN</td>\n      <td>2108040.00</td>\n      <td>NaN</td>\n      <td>RUB</td>\n    </tr>\n    <tr>\n      <th>2</th>\n      <td>00954370-200e-403a-997b-f469f075967e</td>\n      <td>52312210286200000710001</td>\n      <td>0</td>\n      <td>0</td>\n      <td>0</td>\n      <td>0</td>\n      <td>None</td>\n      <td>None</td>\n      <td>2020-06-05 07:00:39</td>\n      <td>2312210286</td>\n      <td>...</td>\n      <td>Работы строительные по прокладке местных трубо...</td>\n      <td>None</td>\n      <td>None</td>\n      <td>1</td>\n      <td>None</td>\n      <td>None</td>\n      <td>NaN</td>\n      <td>NaN</td>\n      <td>NaN</td>\n      <td>None</td>\n    </tr>\n    <tr>\n      <th>3</th>\n      <td>0127411b-0516-4795-989e-38cb1ad9a343</td>\n      <td>67703695246200000980001</td>\n      <td>0</td>\n      <td>0</td>\n      <td>0</td>\n      <td>0</td>\n      <td>None</td>\n      <td>None</td>\n      <td>2020-06-23 06:16:18</td>\n      <td>7703695246</td>\n      <td>...</td>\n      <td>Аппараты дыхательные реанимационные</td>\n      <td>None</td>\n      <td>None</td>\n      <td>0</td>\n      <td>796</td>\n      <td>Штука</td>\n      <td>18.0</td>\n      <td>NaN</td>\n      <td>NaN</td>\n      <td>None</td>\n    </tr>\n    <tr>\n      <th>4</th>\n      <td>013cab73-6528-4279-a181-faed52623a60</td>\n      <td>57813417393210000360003</td>\n      <td>0</td>\n      <td>0</td>\n      <td>0</td>\n      <td>0</td>\n      <td>None</td>\n      <td>None</td>\n      <td>2021-06-09 15:04:20</td>\n      <td>7813417393</td>\n      <td>...</td>\n      <td>Работы строительные специализированные, не вкл...</td>\n      <td>None</td>\n      <td>None</td>\n      <td>1</td>\n      <td>None</td>\n      <td>None</td>\n      <td>NaN</td>\n      <td>NaN</td>\n      <td>NaN</td>\n      <td>None</td>\n    </tr>\n    <tr>\n      <th>...</th>\n      <td>...</td>\n      <td>...</td>\n      <td>...</td>\n      <td>...</td>\n      <td>...</td>\n      <td>...</td>\n      <td>...</td>\n      <td>...</td>\n      <td>...</td>\n      <td>...</td>\n      <td>...</td>\n      <td>...</td>\n      <td>...</td>\n      <td>...</td>\n      <td>...</td>\n      <td>...</td>\n      <td>...</td>\n      <td>...</td>\n      <td>...</td>\n      <td>...</td>\n      <td>...</td>\n    </tr>\n    <tr>\n      <th>2044</th>\n      <td>ff80b68f-5be0-4951-b217-fa1aac06905a</td>\n      <td>67703695246200000500001</td>\n      <td>0</td>\n      <td>0</td>\n      <td>0</td>\n      <td>0</td>\n      <td>None</td>\n      <td>None</td>\n      <td>2020-06-18 13:00:13</td>\n      <td>7703695246</td>\n      <td>...</td>\n      <td>Аппараты дыхательные реанимационные</td>\n      <td>None</td>\n      <td>None</td>\n      <td>0</td>\n      <td>796</td>\n      <td>Штука</td>\n      <td>3.0</td>\n      <td>NaN</td>\n      <td>NaN</td>\n      <td>None</td>\n    </tr>\n    <tr>\n      <th>2045</th>\n      <td>ffa42833-0759-40db-ae64-5a329c09199a</td>\n      <td>57728816598200006640001</td>\n      <td>0</td>\n      <td>0</td>\n      <td>0</td>\n      <td>0</td>\n      <td>None</td>\n      <td>None</td>\n      <td>2020-11-18 07:20:58</td>\n      <td>7728816598</td>\n      <td>...</td>\n      <td>Оборудование специального назначения прочее, н...</td>\n      <td>None</td>\n      <td>None</td>\n      <td>0</td>\n      <td>796</td>\n      <td>Штука</td>\n      <td>1.0</td>\n      <td>NaN</td>\n      <td>NaN</td>\n      <td>None</td>\n    </tr>\n    <tr>\n      <th>2046</th>\n      <td>ffa4cc42-393b-4774-b2ed-1c9b2fbd75bb</td>\n      <td>67703695246200001160001</td>\n      <td>0</td>\n      <td>0</td>\n      <td>0</td>\n      <td>0</td>\n      <td>None</td>\n      <td>None</td>\n      <td>2020-07-03 13:49:05</td>\n      <td>7703695246</td>\n      <td>...</td>\n      <td>Аппараты дыхательные реанимационные</td>\n      <td>None</td>\n      <td>None</td>\n      <td>0</td>\n      <td>796</td>\n      <td>Штука</td>\n      <td>220.0</td>\n      <td>NaN</td>\n      <td>NaN</td>\n      <td>None</td>\n    </tr>\n    <tr>\n      <th>2047</th>\n      <td>ffd13b8b-ffef-4b0d-8fa5-3214f3e44e2b</td>\n      <td>52312210286200000990001</td>\n      <td>0</td>\n      <td>0</td>\n      <td>0</td>\n      <td>0</td>\n      <td>None</td>\n      <td>None</td>\n      <td>2020-12-08 11:26:50</td>\n      <td>2312210286</td>\n      <td>...</td>\n      <td>Работы строительные по прокладке местных трубо...</td>\n      <td>None</td>\n      <td>None</td>\n      <td>1</td>\n      <td>None</td>\n      <td>None</td>\n      <td>NaN</td>\n      <td>NaN</td>\n      <td>NaN</td>\n      <td>None</td>\n    </tr>\n    <tr>\n      <th>2048</th>\n      <td>ffda639d-aada-44de-974a-4ce9ac345a55</td>\n      <td>67723011906200009850003</td>\n      <td>0</td>\n      <td>0</td>\n      <td>0</td>\n      <td>0</td>\n      <td>None</td>\n      <td>None</td>\n      <td>2020-11-11 10:04:03</td>\n      <td>7723011906</td>\n      <td>...</td>\n      <td>Услуги организаций санитарно-эпидемиологическо...</td>\n      <td>None</td>\n      <td>None</td>\n      <td>0</td>\n      <td>796</td>\n      <td>Штука</td>\n      <td>44.0</td>\n      <td>NaN</td>\n      <td>NaN</td>\n      <td>None</td>\n    </tr>\n  </tbody>\n</table>\n<p>2049 rows × 51 columns</p>\n</div>"
     },
     "execution_count": 9,
     "metadata": {},
     "output_type": "execute_result"
    }
   ],
   "source": [
    "covid_contracts_positions_with_lot = pd.read_sql_query(\n",
    "    \"\"\"\n",
    "    SELECT c.guid as contract_guid, c.registration_number as contract_registration_number,\n",
    "    c.notice_not_placed_by_fz223p5s4 as notice_not_placed_by_fz223p5s4,\n",
    "    c.extension as contract_extension, c.prolongation as contract_prolongation,\n",
    "    c.customer_appeale_or_needs_approval as customer_appeale_or_needs_approval,\n",
    "    c.customer_approval_or_antimonopoly_descision_date as customer_approval_or_antimonopoly_descision_date,\n",
    "    c.plan_position_guid as contract_plan_position_guid,\n",
    "    c.create_date_time as contract_create_date_time,\n",
    "    c.customer_inn as contract_customer_inn, c.placer_inn as contract_placer_inn, c.detached_org_inn as contract_detached_org_inn,\n",
    "    c.publication_date as contract_publication_date, c.contract_status_code as contract_publication_date,\n",
    "    c.emergency as emergency, c.provider as provider, c.provider_code as provider_code, c.contract_reg_number as contract_reg_number,\n",
    "    c.contract_date as contract_date, c.digital_purchase as digital_purchase,\n",
    "    c.purchase_notice_info_guid as purchase_notice_info_guid, c.purchase_notice_info_number as purchase_notice_info_number,\n",
    "    c.lot_guid as lot_guid, c.subject_contract as subject_contract, c.purchase_type_code as purchase_type_code,\n",
    "    c.price as contract_price, c.rub_price as contract_rub_price, c.currency_code as contract_currency_code,\n",
    "    c.start_execution_date as contract_start_execution_date, c.end_execution_date as contract_end_execution_date,\n",
    "    c.region_name as region_name,\n",
    "    pnld.initial_sum as notice_lot_initial_sum, pnld.starting_contract_price_rub as notice_lot_starting_contract_price_rub,\n",
    "    pnld.currency_code as notice_lot_currency_code,\n",
    "    pnld.commodity_price as notice_lot_commodity_price, pnld.commodity_price_rub as notice_lot_commodity_price_rub,\n",
    "    pnld.max_contract_price as notice_lot_max_contract_price, pnld.max_contract_price_rub as notice_lot_max_contract_price_rub,\n",
    "    cp.is_complete as contract_is_complete,\n",
    "    cpos.name as contract_position_name,\n",
    "    cpos.okpd2_code as position_okpd2_code, cpos.okpd2_name as position_okpd2_name,\n",
    "    cpos.country_code as position_country_code, cpos.producer_country as position_producer_country,\n",
    "    cpos.impossible_to_determine_attr as position_impossible_to_determine_attr, cpos.okei_code as position_okei_code,\n",
    "    cpos.okei_name as position_okei_name, cpos.qty as position_qty, cpos.unit_price as position_unit_price,\n",
    "    cpos.rub_unit_price as position_rub_unit_price, cpos.currency_code as position_currency_code\n",
    "    FROM contract c\n",
    "    INNER JOIN (\n",
    "        SELECT contract_reg_number, MAX(version) ver\n",
    "        FROM contract\n",
    "        WHERE emergency = 1\n",
    "        AND lot_guid is not null\n",
    "        GROUP BY contract_reg_number\n",
    "    ) tmp ON c.contract_reg_number = tmp.contract_reg_number AND c.version = tmp.ver\n",
    "    INNER JOIN purchase_notice_lot pnl ON c.lot_guid = pnl.guid\n",
    "    LEFT JOIN purchase_notice_lot_data pnld on pnl.guid = pnld.purchase_notice_lot_guid\n",
    "    LEFT JOIN (\n",
    "        SELECT c2.contract_reg_number, MIN(is_complete) as is_complete\n",
    "        FROM contract c2\n",
    "        LEFT JOIN contract_performance cp2 ON c2.contract_reg_number = cp2.contract_registration_number\n",
    "        WHERE c2.emergency = 1\n",
    "        AND c2.lot_guid is not null\n",
    "        GROUP BY c2.contract_reg_number\n",
    "    ) cp ON cp.contract_reg_number = c.contract_reg_number\n",
    "    LEFT JOIN position_to_contract ptc on c.guid = ptc.contract_guid\n",
    "    LEFT JOIN contract_position cpos on ptc.position_guid = cpos.guid\n",
    "    \"\"\",\n",
    "    conn\n",
    ")\n",
    "\n",
    "covid_contracts_positions_with_lot"
   ],
   "metadata": {
    "collapsed": false,
    "pycharm": {
     "name": "#%%\n"
    }
   }
  },
  {
   "cell_type": "markdown",
   "source": [
    "Добавим информацию о том, сколько договоров заключено по лоту в выборку."
   ],
   "metadata": {
    "collapsed": false,
    "pycharm": {
     "name": "#%% md\n"
    }
   }
  },
  {
   "cell_type": "code",
   "execution_count": 10,
   "outputs": [
    {
     "data": {
      "text/plain": "                                  lot_guid  contracts_for_lot\n0     0017ef8e-08d7-4175-a7fd-059f347b92a2                  1\n1     005056bd-0450-1eeb-89fc-3a3c448d4a86                  1\n2     005056be-1598-1eda-b6e2-3ac026ca5fa2                  1\n3     005056be-1598-1edb-8ae4-9691a89e1202                  1\n4     005056be-1598-1eeb-8ed6-0c774e0f5be6                  1\n...                                    ...                ...\n1493  ff359f19-e1d5-4372-8817-bc166a7bdcfb                  1\n1494  ff46f520-4f87-4c0b-b114-a7527bf40b6d                  1\n1495  ffd1be89-33ae-4df4-95ed-ab4b7269c2c8                  1\n1496  ffdd300a-57e0-493f-8f46-460d1ff65276                  1\n1497  ffe364e1-2728-4693-8d8d-85bc2a5bfc48                  1\n\n[1498 rows x 2 columns]",
      "text/html": "<div>\n<style scoped>\n    .dataframe tbody tr th:only-of-type {\n        vertical-align: middle;\n    }\n\n    .dataframe tbody tr th {\n        vertical-align: top;\n    }\n\n    .dataframe thead th {\n        text-align: right;\n    }\n</style>\n<table border=\"1\" class=\"dataframe\">\n  <thead>\n    <tr style=\"text-align: right;\">\n      <th></th>\n      <th>lot_guid</th>\n      <th>contracts_for_lot</th>\n    </tr>\n  </thead>\n  <tbody>\n    <tr>\n      <th>0</th>\n      <td>0017ef8e-08d7-4175-a7fd-059f347b92a2</td>\n      <td>1</td>\n    </tr>\n    <tr>\n      <th>1</th>\n      <td>005056bd-0450-1eeb-89fc-3a3c448d4a86</td>\n      <td>1</td>\n    </tr>\n    <tr>\n      <th>2</th>\n      <td>005056be-1598-1eda-b6e2-3ac026ca5fa2</td>\n      <td>1</td>\n    </tr>\n    <tr>\n      <th>3</th>\n      <td>005056be-1598-1edb-8ae4-9691a89e1202</td>\n      <td>1</td>\n    </tr>\n    <tr>\n      <th>4</th>\n      <td>005056be-1598-1eeb-8ed6-0c774e0f5be6</td>\n      <td>1</td>\n    </tr>\n    <tr>\n      <th>...</th>\n      <td>...</td>\n      <td>...</td>\n    </tr>\n    <tr>\n      <th>1493</th>\n      <td>ff359f19-e1d5-4372-8817-bc166a7bdcfb</td>\n      <td>1</td>\n    </tr>\n    <tr>\n      <th>1494</th>\n      <td>ff46f520-4f87-4c0b-b114-a7527bf40b6d</td>\n      <td>1</td>\n    </tr>\n    <tr>\n      <th>1495</th>\n      <td>ffd1be89-33ae-4df4-95ed-ab4b7269c2c8</td>\n      <td>1</td>\n    </tr>\n    <tr>\n      <th>1496</th>\n      <td>ffdd300a-57e0-493f-8f46-460d1ff65276</td>\n      <td>1</td>\n    </tr>\n    <tr>\n      <th>1497</th>\n      <td>ffe364e1-2728-4693-8d8d-85bc2a5bfc48</td>\n      <td>1</td>\n    </tr>\n  </tbody>\n</table>\n<p>1498 rows × 2 columns</p>\n</div>"
     },
     "execution_count": 10,
     "metadata": {},
     "output_type": "execute_result"
    }
   ],
   "source": [
    "contracts_count_for_lot = pd.read_sql_query(\n",
    "    \"\"\"\n",
    "    SELECT lot_guid, COUNT(*) as contracts_for_lot\n",
    "        FROM contract c\n",
    "        INNER JOIN (\n",
    "            SELECT contract_reg_number, MAX(version) ver\n",
    "            FROM contract\n",
    "            WHERE emergency = 1\n",
    "            AND lot_guid is not null\n",
    "            GROUP BY contract_reg_number\n",
    "        ) tmp ON c.contract_reg_number = tmp.contract_reg_number AND c.version = tmp.ver\n",
    "    GROUP BY lot_guid\n",
    "    \"\"\",\n",
    "    conn\n",
    ")\n",
    "\n",
    "contracts_count_for_lot"
   ],
   "metadata": {
    "collapsed": false,
    "pycharm": {
     "name": "#%%\n"
    }
   }
  },
  {
   "cell_type": "code",
   "execution_count": 23,
   "outputs": [
    {
     "data": {
      "text/plain": "                             contract_guid contract_registration_number  \\\n0     0036c56b-1874-4c0c-a7fe-7b8a47696acd      87825011824200000490001   \n1     00751401-bc7d-40eb-8eb6-191df67b117e      56901067107210018890001   \n2     00954370-200e-403a-997b-f469f075967e      52312210286200000710001   \n3     0127411b-0516-4795-989e-38cb1ad9a343      67703695246200000980001   \n4     013cab73-6528-4279-a181-faed52623a60      57813417393210000360003   \n...                                    ...                          ...   \n2044  ff80b68f-5be0-4951-b217-fa1aac06905a      67703695246200000500001   \n2045  ffa42833-0759-40db-ae64-5a329c09199a      57728816598200006640001   \n2046  ffa4cc42-393b-4774-b2ed-1c9b2fbd75bb      67703695246200001160001   \n2047  ffd13b8b-ffef-4b0d-8fa5-3214f3e44e2b      52312210286200000990001   \n2048  ffda639d-aada-44de-974a-4ce9ac345a55      67723011906200009850003   \n\n      notice_not_placed_by_fz223p5s4  contract_extension  \\\n0                                  0                   1   \n1                                  0                   0   \n2                                  0                   0   \n3                                  0                   0   \n4                                  0                   0   \n...                              ...                 ...   \n2044                               0                   0   \n2045                               0                   0   \n2046                               0                   0   \n2047                               0                   0   \n2048                               0                   0   \n\n      contract_prolongation  customer_appeale_or_needs_approval  \\\n0                         0                                   0   \n1                         0                                   0   \n2                         0                                   0   \n3                         0                                   0   \n4                         0                                   0   \n...                     ...                                 ...   \n2044                      0                                   0   \n2045                      0                                   0   \n2046                      0                                   0   \n2047                      0                                   0   \n2048                      0                                   0   \n\n     customer_approval_or_antimonopoly_descision_date  \\\n0                                                None   \n1                                                None   \n2                                                None   \n3                                                None   \n4                                                None   \n...                                               ...   \n2044                                             None   \n2045                                             None   \n2046                                             None   \n2047                                             None   \n2048                                             None   \n\n     contract_plan_position_guid contract_create_date_time  \\\n0                           None       2020-09-08 07:01:28   \n1                           None       2021-08-17 14:12:13   \n2                           None       2020-06-05 07:00:39   \n3                           None       2020-06-23 06:16:18   \n4                           None       2021-06-09 15:04:20   \n...                          ...                       ...   \n2044                        None       2020-06-18 13:00:13   \n2045                        None       2020-11-18 07:20:58   \n2046                        None       2020-07-03 13:49:05   \n2047                        None       2020-12-08 11:26:50   \n2048                        None       2020-11-11 10:04:03   \n\n     contract_customer_inn  ... position_country_code  \\\n0               7825011824  ...                  None   \n1               6901067107  ...                  None   \n2               2312210286  ...                  None   \n3               7703695246  ...                  None   \n4               7813417393  ...                  None   \n...                    ...  ...                   ...   \n2044            7703695246  ...                  None   \n2045            7728816598  ...                  None   \n2046            7703695246  ...                  None   \n2047            2312210286  ...                  None   \n2048            7723011906  ...                  None   \n\n     position_producer_country position_impossible_to_determine_attr  \\\n0                         None                                     0   \n1                         None                                     1   \n2                         None                                     1   \n3                         None                                     0   \n4                         None                                     1   \n...                        ...                                   ...   \n2044                      None                                     0   \n2045                      None                                     0   \n2046                      None                                     0   \n2047                      None                                     1   \n2048                      None                                     0   \n\n     position_okei_code  position_okei_name  position_qty position_unit_price  \\\n0                   876    Условная единица           1.0           590489.94   \n1                  None                None           NaN          2108040.00   \n2                  None                None           NaN                 NaN   \n3                   796               Штука          18.0                 NaN   \n4                  None                None           NaN                 NaN   \n...                 ...                 ...           ...                 ...   \n2044                796               Штука           3.0                 NaN   \n2045                796               Штука           1.0                 NaN   \n2046                796               Штука         220.0                 NaN   \n2047               None                None           NaN                 NaN   \n2048                796               Штука          44.0                 NaN   \n\n     position_rub_unit_price position_currency_code  contracts_for_lot  \n0                        NaN                    RUB                  1  \n1                        NaN                    RUB                  1  \n2                        NaN                   None                  1  \n3                        NaN                   None                  1  \n4                        NaN                   None                 23  \n...                      ...                    ...                ...  \n2044                     NaN                   None                  1  \n2045                     NaN                   None                  1  \n2046                     NaN                   None                  1  \n2047                     NaN                   None                  1  \n2048                     NaN                   None                  1  \n\n[2049 rows x 52 columns]",
      "text/html": "<div>\n<style scoped>\n    .dataframe tbody tr th:only-of-type {\n        vertical-align: middle;\n    }\n\n    .dataframe tbody tr th {\n        vertical-align: top;\n    }\n\n    .dataframe thead th {\n        text-align: right;\n    }\n</style>\n<table border=\"1\" class=\"dataframe\">\n  <thead>\n    <tr style=\"text-align: right;\">\n      <th></th>\n      <th>contract_guid</th>\n      <th>contract_registration_number</th>\n      <th>notice_not_placed_by_fz223p5s4</th>\n      <th>contract_extension</th>\n      <th>contract_prolongation</th>\n      <th>customer_appeale_or_needs_approval</th>\n      <th>customer_approval_or_antimonopoly_descision_date</th>\n      <th>contract_plan_position_guid</th>\n      <th>contract_create_date_time</th>\n      <th>contract_customer_inn</th>\n      <th>...</th>\n      <th>position_country_code</th>\n      <th>position_producer_country</th>\n      <th>position_impossible_to_determine_attr</th>\n      <th>position_okei_code</th>\n      <th>position_okei_name</th>\n      <th>position_qty</th>\n      <th>position_unit_price</th>\n      <th>position_rub_unit_price</th>\n      <th>position_currency_code</th>\n      <th>contracts_for_lot</th>\n    </tr>\n  </thead>\n  <tbody>\n    <tr>\n      <th>0</th>\n      <td>0036c56b-1874-4c0c-a7fe-7b8a47696acd</td>\n      <td>87825011824200000490001</td>\n      <td>0</td>\n      <td>1</td>\n      <td>0</td>\n      <td>0</td>\n      <td>None</td>\n      <td>None</td>\n      <td>2020-09-08 07:01:28</td>\n      <td>7825011824</td>\n      <td>...</td>\n      <td>None</td>\n      <td>None</td>\n      <td>0</td>\n      <td>876</td>\n      <td>Условная единица</td>\n      <td>1.0</td>\n      <td>590489.94</td>\n      <td>NaN</td>\n      <td>RUB</td>\n      <td>1</td>\n    </tr>\n    <tr>\n      <th>1</th>\n      <td>00751401-bc7d-40eb-8eb6-191df67b117e</td>\n      <td>56901067107210018890001</td>\n      <td>0</td>\n      <td>0</td>\n      <td>0</td>\n      <td>0</td>\n      <td>None</td>\n      <td>None</td>\n      <td>2021-08-17 14:12:13</td>\n      <td>6901067107</td>\n      <td>...</td>\n      <td>None</td>\n      <td>None</td>\n      <td>1</td>\n      <td>None</td>\n      <td>None</td>\n      <td>NaN</td>\n      <td>2108040.00</td>\n      <td>NaN</td>\n      <td>RUB</td>\n      <td>1</td>\n    </tr>\n    <tr>\n      <th>2</th>\n      <td>00954370-200e-403a-997b-f469f075967e</td>\n      <td>52312210286200000710001</td>\n      <td>0</td>\n      <td>0</td>\n      <td>0</td>\n      <td>0</td>\n      <td>None</td>\n      <td>None</td>\n      <td>2020-06-05 07:00:39</td>\n      <td>2312210286</td>\n      <td>...</td>\n      <td>None</td>\n      <td>None</td>\n      <td>1</td>\n      <td>None</td>\n      <td>None</td>\n      <td>NaN</td>\n      <td>NaN</td>\n      <td>NaN</td>\n      <td>None</td>\n      <td>1</td>\n    </tr>\n    <tr>\n      <th>3</th>\n      <td>0127411b-0516-4795-989e-38cb1ad9a343</td>\n      <td>67703695246200000980001</td>\n      <td>0</td>\n      <td>0</td>\n      <td>0</td>\n      <td>0</td>\n      <td>None</td>\n      <td>None</td>\n      <td>2020-06-23 06:16:18</td>\n      <td>7703695246</td>\n      <td>...</td>\n      <td>None</td>\n      <td>None</td>\n      <td>0</td>\n      <td>796</td>\n      <td>Штука</td>\n      <td>18.0</td>\n      <td>NaN</td>\n      <td>NaN</td>\n      <td>None</td>\n      <td>1</td>\n    </tr>\n    <tr>\n      <th>4</th>\n      <td>013cab73-6528-4279-a181-faed52623a60</td>\n      <td>57813417393210000360003</td>\n      <td>0</td>\n      <td>0</td>\n      <td>0</td>\n      <td>0</td>\n      <td>None</td>\n      <td>None</td>\n      <td>2021-06-09 15:04:20</td>\n      <td>7813417393</td>\n      <td>...</td>\n      <td>None</td>\n      <td>None</td>\n      <td>1</td>\n      <td>None</td>\n      <td>None</td>\n      <td>NaN</td>\n      <td>NaN</td>\n      <td>NaN</td>\n      <td>None</td>\n      <td>23</td>\n    </tr>\n    <tr>\n      <th>...</th>\n      <td>...</td>\n      <td>...</td>\n      <td>...</td>\n      <td>...</td>\n      <td>...</td>\n      <td>...</td>\n      <td>...</td>\n      <td>...</td>\n      <td>...</td>\n      <td>...</td>\n      <td>...</td>\n      <td>...</td>\n      <td>...</td>\n      <td>...</td>\n      <td>...</td>\n      <td>...</td>\n      <td>...</td>\n      <td>...</td>\n      <td>...</td>\n      <td>...</td>\n      <td>...</td>\n    </tr>\n    <tr>\n      <th>2044</th>\n      <td>ff80b68f-5be0-4951-b217-fa1aac06905a</td>\n      <td>67703695246200000500001</td>\n      <td>0</td>\n      <td>0</td>\n      <td>0</td>\n      <td>0</td>\n      <td>None</td>\n      <td>None</td>\n      <td>2020-06-18 13:00:13</td>\n      <td>7703695246</td>\n      <td>...</td>\n      <td>None</td>\n      <td>None</td>\n      <td>0</td>\n      <td>796</td>\n      <td>Штука</td>\n      <td>3.0</td>\n      <td>NaN</td>\n      <td>NaN</td>\n      <td>None</td>\n      <td>1</td>\n    </tr>\n    <tr>\n      <th>2045</th>\n      <td>ffa42833-0759-40db-ae64-5a329c09199a</td>\n      <td>57728816598200006640001</td>\n      <td>0</td>\n      <td>0</td>\n      <td>0</td>\n      <td>0</td>\n      <td>None</td>\n      <td>None</td>\n      <td>2020-11-18 07:20:58</td>\n      <td>7728816598</td>\n      <td>...</td>\n      <td>None</td>\n      <td>None</td>\n      <td>0</td>\n      <td>796</td>\n      <td>Штука</td>\n      <td>1.0</td>\n      <td>NaN</td>\n      <td>NaN</td>\n      <td>None</td>\n      <td>1</td>\n    </tr>\n    <tr>\n      <th>2046</th>\n      <td>ffa4cc42-393b-4774-b2ed-1c9b2fbd75bb</td>\n      <td>67703695246200001160001</td>\n      <td>0</td>\n      <td>0</td>\n      <td>0</td>\n      <td>0</td>\n      <td>None</td>\n      <td>None</td>\n      <td>2020-07-03 13:49:05</td>\n      <td>7703695246</td>\n      <td>...</td>\n      <td>None</td>\n      <td>None</td>\n      <td>0</td>\n      <td>796</td>\n      <td>Штука</td>\n      <td>220.0</td>\n      <td>NaN</td>\n      <td>NaN</td>\n      <td>None</td>\n      <td>1</td>\n    </tr>\n    <tr>\n      <th>2047</th>\n      <td>ffd13b8b-ffef-4b0d-8fa5-3214f3e44e2b</td>\n      <td>52312210286200000990001</td>\n      <td>0</td>\n      <td>0</td>\n      <td>0</td>\n      <td>0</td>\n      <td>None</td>\n      <td>None</td>\n      <td>2020-12-08 11:26:50</td>\n      <td>2312210286</td>\n      <td>...</td>\n      <td>None</td>\n      <td>None</td>\n      <td>1</td>\n      <td>None</td>\n      <td>None</td>\n      <td>NaN</td>\n      <td>NaN</td>\n      <td>NaN</td>\n      <td>None</td>\n      <td>1</td>\n    </tr>\n    <tr>\n      <th>2048</th>\n      <td>ffda639d-aada-44de-974a-4ce9ac345a55</td>\n      <td>67723011906200009850003</td>\n      <td>0</td>\n      <td>0</td>\n      <td>0</td>\n      <td>0</td>\n      <td>None</td>\n      <td>None</td>\n      <td>2020-11-11 10:04:03</td>\n      <td>7723011906</td>\n      <td>...</td>\n      <td>None</td>\n      <td>None</td>\n      <td>0</td>\n      <td>796</td>\n      <td>Штука</td>\n      <td>44.0</td>\n      <td>NaN</td>\n      <td>NaN</td>\n      <td>None</td>\n      <td>1</td>\n    </tr>\n  </tbody>\n</table>\n<p>2049 rows × 52 columns</p>\n</div>"
     },
     "execution_count": 23,
     "metadata": {},
     "output_type": "execute_result"
    }
   ],
   "source": [
    "dataset = pd.merge(\n",
    "    covid_contracts_positions_with_lot,\n",
    "    contracts_count_for_lot,\n",
    "    how='left',\n",
    "    on=['lot_guid']\n",
    ")\n",
    "\n",
    "dataset"
   ],
   "metadata": {
    "collapsed": false,
    "pycharm": {
     "name": "#%%\n"
    }
   }
  },
  {
   "cell_type": "markdown",
   "source": [
    "Добавим информацию об изначальных заказчиках в выборку"
   ],
   "metadata": {
    "collapsed": false,
    "pycharm": {
     "name": "#%% md\n"
    }
   }
  },
  {
   "cell_type": "code",
   "execution_count": 19,
   "outputs": [
    {
     "data": {
      "text/plain": "                             contract_guid notice_customer_inn  \\\n0     0036c56b-1874-4c0c-a7fe-7b8a47696acd          7825011824   \n1     00751401-bc7d-40eb-8eb6-191df67b117e          6901067107   \n2     00954370-200e-403a-997b-f469f075967e          2312210286   \n3     0127411b-0516-4795-989e-38cb1ad9a343          7703695246   \n4     013cab73-6528-4279-a181-faed52623a60          7813417393   \n...                                    ...                 ...   \n1536  ff80b68f-5be0-4951-b217-fa1aac06905a          7703695246   \n1537  ffa42833-0759-40db-ae64-5a329c09199a          7728816598   \n1538  ffa4cc42-393b-4774-b2ed-1c9b2fbd75bb          7703695246   \n1539  ffd13b8b-ffef-4b0d-8fa5-3214f3e44e2b          2312210286   \n1540  ffda639d-aada-44de-974a-4ce9ac345a55          7723011906   \n\n     notice_placer_inn notice_detached_org_inn  \n0           7825011824                    None  \n1           6901067107                    None  \n2           2312210286                    None  \n3           7703695246                    None  \n4           7813417393                    None  \n...                ...                     ...  \n1536        7703695246                    None  \n1537        7728816598                    None  \n1538        7703695246                    None  \n1539        2312210286                    None  \n1540        7723011906                    None  \n\n[1541 rows x 4 columns]",
      "text/html": "<div>\n<style scoped>\n    .dataframe tbody tr th:only-of-type {\n        vertical-align: middle;\n    }\n\n    .dataframe tbody tr th {\n        vertical-align: top;\n    }\n\n    .dataframe thead th {\n        text-align: right;\n    }\n</style>\n<table border=\"1\" class=\"dataframe\">\n  <thead>\n    <tr style=\"text-align: right;\">\n      <th></th>\n      <th>contract_guid</th>\n      <th>notice_customer_inn</th>\n      <th>notice_placer_inn</th>\n      <th>notice_detached_org_inn</th>\n    </tr>\n  </thead>\n  <tbody>\n    <tr>\n      <th>0</th>\n      <td>0036c56b-1874-4c0c-a7fe-7b8a47696acd</td>\n      <td>7825011824</td>\n      <td>7825011824</td>\n      <td>None</td>\n    </tr>\n    <tr>\n      <th>1</th>\n      <td>00751401-bc7d-40eb-8eb6-191df67b117e</td>\n      <td>6901067107</td>\n      <td>6901067107</td>\n      <td>None</td>\n    </tr>\n    <tr>\n      <th>2</th>\n      <td>00954370-200e-403a-997b-f469f075967e</td>\n      <td>2312210286</td>\n      <td>2312210286</td>\n      <td>None</td>\n    </tr>\n    <tr>\n      <th>3</th>\n      <td>0127411b-0516-4795-989e-38cb1ad9a343</td>\n      <td>7703695246</td>\n      <td>7703695246</td>\n      <td>None</td>\n    </tr>\n    <tr>\n      <th>4</th>\n      <td>013cab73-6528-4279-a181-faed52623a60</td>\n      <td>7813417393</td>\n      <td>7813417393</td>\n      <td>None</td>\n    </tr>\n    <tr>\n      <th>...</th>\n      <td>...</td>\n      <td>...</td>\n      <td>...</td>\n      <td>...</td>\n    </tr>\n    <tr>\n      <th>1536</th>\n      <td>ff80b68f-5be0-4951-b217-fa1aac06905a</td>\n      <td>7703695246</td>\n      <td>7703695246</td>\n      <td>None</td>\n    </tr>\n    <tr>\n      <th>1537</th>\n      <td>ffa42833-0759-40db-ae64-5a329c09199a</td>\n      <td>7728816598</td>\n      <td>7728816598</td>\n      <td>None</td>\n    </tr>\n    <tr>\n      <th>1538</th>\n      <td>ffa4cc42-393b-4774-b2ed-1c9b2fbd75bb</td>\n      <td>7703695246</td>\n      <td>7703695246</td>\n      <td>None</td>\n    </tr>\n    <tr>\n      <th>1539</th>\n      <td>ffd13b8b-ffef-4b0d-8fa5-3214f3e44e2b</td>\n      <td>2312210286</td>\n      <td>2312210286</td>\n      <td>None</td>\n    </tr>\n    <tr>\n      <th>1540</th>\n      <td>ffda639d-aada-44de-974a-4ce9ac345a55</td>\n      <td>7723011906</td>\n      <td>7723011906</td>\n      <td>None</td>\n    </tr>\n  </tbody>\n</table>\n<p>1541 rows × 4 columns</p>\n</div>"
     },
     "execution_count": 19,
     "metadata": {},
     "output_type": "execute_result"
    }
   ],
   "source": [
    "notice_customers_for_contract = pd.read_sql_query(\n",
    "    \"\"\"\n",
    "    SELECT c.guid as contract_guid, pn.customer_inn as notice_customer_inn,\n",
    "        pn.placer_inn as notice_placer_inn, pn.detached_org_inn as notice_detached_org_inn\n",
    "    FROM contract c\n",
    "    INNER JOIN (\n",
    "        SELECT contract_reg_number, MAX(version) ver\n",
    "        FROM contract\n",
    "        WHERE emergency = 1\n",
    "        AND lot_guid is not null\n",
    "        GROUP BY contract_reg_number\n",
    "    ) tmp ON c.contract_reg_number = tmp.contract_reg_number AND c.version = tmp.ver\n",
    "    INNER JOIN (\n",
    "        --если несколько извещений с одинаковым номером, выбераем последнее\n",
    "        SELECT c2.guid, c2.purchase_notice_info_number, MAX(pn2.create_date_time) as max_date\n",
    "        FROM contract c2\n",
    "        INNER JOIN purchase_notice pn2 ON pn2.registration_number = c2.purchase_notice_info_number\n",
    "        WHERE c2.emergency = 1\n",
    "        AND c2.purchase_notice_info_number is not null\n",
    "        GROUP BY c2.guid, c2.purchase_notice_info_number\n",
    "    ) tmp2 ON c.guid = tmp2.guid\n",
    "    LEFT JOIN purchase_notice pn ON pn.create_date_time = tmp2.max_date\n",
    "        AND pn.registration_number = tmp2.purchase_notice_info_number\n",
    "    WHERE c.emergency = 1\n",
    "    GROUP BY c.guid, pn.customer_inn, pn.placer_inn, pn.detached_org_inn\n",
    "    \"\"\",\n",
    "    conn\n",
    ")\n",
    "\n",
    "notice_customers_for_contract"
   ],
   "metadata": {
    "collapsed": false,
    "pycharm": {
     "name": "#%%\n"
    }
   }
  },
  {
   "cell_type": "code",
   "execution_count": 24,
   "outputs": [
    {
     "data": {
      "text/plain": "                             contract_guid contract_registration_number  \\\n0     0036c56b-1874-4c0c-a7fe-7b8a47696acd      87825011824200000490001   \n1     00751401-bc7d-40eb-8eb6-191df67b117e      56901067107210018890001   \n2     00954370-200e-403a-997b-f469f075967e      52312210286200000710001   \n3     0127411b-0516-4795-989e-38cb1ad9a343      67703695246200000980001   \n4     013cab73-6528-4279-a181-faed52623a60      57813417393210000360003   \n...                                    ...                          ...   \n2044  ff80b68f-5be0-4951-b217-fa1aac06905a      67703695246200000500001   \n2045  ffa42833-0759-40db-ae64-5a329c09199a      57728816598200006640001   \n2046  ffa4cc42-393b-4774-b2ed-1c9b2fbd75bb      67703695246200001160001   \n2047  ffd13b8b-ffef-4b0d-8fa5-3214f3e44e2b      52312210286200000990001   \n2048  ffda639d-aada-44de-974a-4ce9ac345a55      67723011906200009850003   \n\n      notice_not_placed_by_fz223p5s4  contract_extension  \\\n0                                  0                   1   \n1                                  0                   0   \n2                                  0                   0   \n3                                  0                   0   \n4                                  0                   0   \n...                              ...                 ...   \n2044                               0                   0   \n2045                               0                   0   \n2046                               0                   0   \n2047                               0                   0   \n2048                               0                   0   \n\n      contract_prolongation  customer_appeale_or_needs_approval  \\\n0                         0                                   0   \n1                         0                                   0   \n2                         0                                   0   \n3                         0                                   0   \n4                         0                                   0   \n...                     ...                                 ...   \n2044                      0                                   0   \n2045                      0                                   0   \n2046                      0                                   0   \n2047                      0                                   0   \n2048                      0                                   0   \n\n     customer_approval_or_antimonopoly_descision_date  \\\n0                                                None   \n1                                                None   \n2                                                None   \n3                                                None   \n4                                                None   \n...                                               ...   \n2044                                             None   \n2045                                             None   \n2046                                             None   \n2047                                             None   \n2048                                             None   \n\n     contract_plan_position_guid contract_create_date_time  \\\n0                           None       2020-09-08 07:01:28   \n1                           None       2021-08-17 14:12:13   \n2                           None       2020-06-05 07:00:39   \n3                           None       2020-06-23 06:16:18   \n4                           None       2021-06-09 15:04:20   \n...                          ...                       ...   \n2044                        None       2020-06-18 13:00:13   \n2045                        None       2020-11-18 07:20:58   \n2046                        None       2020-07-03 13:49:05   \n2047                        None       2020-12-08 11:26:50   \n2048                        None       2020-11-11 10:04:03   \n\n     contract_customer_inn  ... position_okei_code position_okei_name  \\\n0               7825011824  ...                876   Условная единица   \n1               6901067107  ...               None               None   \n2               2312210286  ...               None               None   \n3               7703695246  ...                796              Штука   \n4               7813417393  ...               None               None   \n...                    ...  ...                ...                ...   \n2044            7703695246  ...                796              Штука   \n2045            7728816598  ...                796              Штука   \n2046            7703695246  ...                796              Штука   \n2047            2312210286  ...               None               None   \n2048            7723011906  ...                796              Штука   \n\n     position_qty position_unit_price  position_rub_unit_price  \\\n0             1.0           590489.94                      NaN   \n1             NaN          2108040.00                      NaN   \n2             NaN                 NaN                      NaN   \n3            18.0                 NaN                      NaN   \n4             NaN                 NaN                      NaN   \n...           ...                 ...                      ...   \n2044          3.0                 NaN                      NaN   \n2045          1.0                 NaN                      NaN   \n2046        220.0                 NaN                      NaN   \n2047          NaN                 NaN                      NaN   \n2048         44.0                 NaN                      NaN   \n\n      position_currency_code contracts_for_lot notice_customer_inn  \\\n0                        RUB                 1          7825011824   \n1                        RUB                 1          6901067107   \n2                       None                 1          2312210286   \n3                       None                 1          7703695246   \n4                       None                23          7813417393   \n...                      ...               ...                 ...   \n2044                    None                 1          7703695246   \n2045                    None                 1          7728816598   \n2046                    None                 1          7703695246   \n2047                    None                 1          2312210286   \n2048                    None                 1          7723011906   \n\n     notice_placer_inn  notice_detached_org_inn  \n0           7825011824                     None  \n1           6901067107                     None  \n2           2312210286                     None  \n3           7703695246                     None  \n4           7813417393                     None  \n...                ...                      ...  \n2044        7703695246                     None  \n2045        7728816598                     None  \n2046        7703695246                     None  \n2047        2312210286                     None  \n2048        7723011906                     None  \n\n[2049 rows x 55 columns]",
      "text/html": "<div>\n<style scoped>\n    .dataframe tbody tr th:only-of-type {\n        vertical-align: middle;\n    }\n\n    .dataframe tbody tr th {\n        vertical-align: top;\n    }\n\n    .dataframe thead th {\n        text-align: right;\n    }\n</style>\n<table border=\"1\" class=\"dataframe\">\n  <thead>\n    <tr style=\"text-align: right;\">\n      <th></th>\n      <th>contract_guid</th>\n      <th>contract_registration_number</th>\n      <th>notice_not_placed_by_fz223p5s4</th>\n      <th>contract_extension</th>\n      <th>contract_prolongation</th>\n      <th>customer_appeale_or_needs_approval</th>\n      <th>customer_approval_or_antimonopoly_descision_date</th>\n      <th>contract_plan_position_guid</th>\n      <th>contract_create_date_time</th>\n      <th>contract_customer_inn</th>\n      <th>...</th>\n      <th>position_okei_code</th>\n      <th>position_okei_name</th>\n      <th>position_qty</th>\n      <th>position_unit_price</th>\n      <th>position_rub_unit_price</th>\n      <th>position_currency_code</th>\n      <th>contracts_for_lot</th>\n      <th>notice_customer_inn</th>\n      <th>notice_placer_inn</th>\n      <th>notice_detached_org_inn</th>\n    </tr>\n  </thead>\n  <tbody>\n    <tr>\n      <th>0</th>\n      <td>0036c56b-1874-4c0c-a7fe-7b8a47696acd</td>\n      <td>87825011824200000490001</td>\n      <td>0</td>\n      <td>1</td>\n      <td>0</td>\n      <td>0</td>\n      <td>None</td>\n      <td>None</td>\n      <td>2020-09-08 07:01:28</td>\n      <td>7825011824</td>\n      <td>...</td>\n      <td>876</td>\n      <td>Условная единица</td>\n      <td>1.0</td>\n      <td>590489.94</td>\n      <td>NaN</td>\n      <td>RUB</td>\n      <td>1</td>\n      <td>7825011824</td>\n      <td>7825011824</td>\n      <td>None</td>\n    </tr>\n    <tr>\n      <th>1</th>\n      <td>00751401-bc7d-40eb-8eb6-191df67b117e</td>\n      <td>56901067107210018890001</td>\n      <td>0</td>\n      <td>0</td>\n      <td>0</td>\n      <td>0</td>\n      <td>None</td>\n      <td>None</td>\n      <td>2021-08-17 14:12:13</td>\n      <td>6901067107</td>\n      <td>...</td>\n      <td>None</td>\n      <td>None</td>\n      <td>NaN</td>\n      <td>2108040.00</td>\n      <td>NaN</td>\n      <td>RUB</td>\n      <td>1</td>\n      <td>6901067107</td>\n      <td>6901067107</td>\n      <td>None</td>\n    </tr>\n    <tr>\n      <th>2</th>\n      <td>00954370-200e-403a-997b-f469f075967e</td>\n      <td>52312210286200000710001</td>\n      <td>0</td>\n      <td>0</td>\n      <td>0</td>\n      <td>0</td>\n      <td>None</td>\n      <td>None</td>\n      <td>2020-06-05 07:00:39</td>\n      <td>2312210286</td>\n      <td>...</td>\n      <td>None</td>\n      <td>None</td>\n      <td>NaN</td>\n      <td>NaN</td>\n      <td>NaN</td>\n      <td>None</td>\n      <td>1</td>\n      <td>2312210286</td>\n      <td>2312210286</td>\n      <td>None</td>\n    </tr>\n    <tr>\n      <th>3</th>\n      <td>0127411b-0516-4795-989e-38cb1ad9a343</td>\n      <td>67703695246200000980001</td>\n      <td>0</td>\n      <td>0</td>\n      <td>0</td>\n      <td>0</td>\n      <td>None</td>\n      <td>None</td>\n      <td>2020-06-23 06:16:18</td>\n      <td>7703695246</td>\n      <td>...</td>\n      <td>796</td>\n      <td>Штука</td>\n      <td>18.0</td>\n      <td>NaN</td>\n      <td>NaN</td>\n      <td>None</td>\n      <td>1</td>\n      <td>7703695246</td>\n      <td>7703695246</td>\n      <td>None</td>\n    </tr>\n    <tr>\n      <th>4</th>\n      <td>013cab73-6528-4279-a181-faed52623a60</td>\n      <td>57813417393210000360003</td>\n      <td>0</td>\n      <td>0</td>\n      <td>0</td>\n      <td>0</td>\n      <td>None</td>\n      <td>None</td>\n      <td>2021-06-09 15:04:20</td>\n      <td>7813417393</td>\n      <td>...</td>\n      <td>None</td>\n      <td>None</td>\n      <td>NaN</td>\n      <td>NaN</td>\n      <td>NaN</td>\n      <td>None</td>\n      <td>23</td>\n      <td>7813417393</td>\n      <td>7813417393</td>\n      <td>None</td>\n    </tr>\n    <tr>\n      <th>...</th>\n      <td>...</td>\n      <td>...</td>\n      <td>...</td>\n      <td>...</td>\n      <td>...</td>\n      <td>...</td>\n      <td>...</td>\n      <td>...</td>\n      <td>...</td>\n      <td>...</td>\n      <td>...</td>\n      <td>...</td>\n      <td>...</td>\n      <td>...</td>\n      <td>...</td>\n      <td>...</td>\n      <td>...</td>\n      <td>...</td>\n      <td>...</td>\n      <td>...</td>\n      <td>...</td>\n    </tr>\n    <tr>\n      <th>2044</th>\n      <td>ff80b68f-5be0-4951-b217-fa1aac06905a</td>\n      <td>67703695246200000500001</td>\n      <td>0</td>\n      <td>0</td>\n      <td>0</td>\n      <td>0</td>\n      <td>None</td>\n      <td>None</td>\n      <td>2020-06-18 13:00:13</td>\n      <td>7703695246</td>\n      <td>...</td>\n      <td>796</td>\n      <td>Штука</td>\n      <td>3.0</td>\n      <td>NaN</td>\n      <td>NaN</td>\n      <td>None</td>\n      <td>1</td>\n      <td>7703695246</td>\n      <td>7703695246</td>\n      <td>None</td>\n    </tr>\n    <tr>\n      <th>2045</th>\n      <td>ffa42833-0759-40db-ae64-5a329c09199a</td>\n      <td>57728816598200006640001</td>\n      <td>0</td>\n      <td>0</td>\n      <td>0</td>\n      <td>0</td>\n      <td>None</td>\n      <td>None</td>\n      <td>2020-11-18 07:20:58</td>\n      <td>7728816598</td>\n      <td>...</td>\n      <td>796</td>\n      <td>Штука</td>\n      <td>1.0</td>\n      <td>NaN</td>\n      <td>NaN</td>\n      <td>None</td>\n      <td>1</td>\n      <td>7728816598</td>\n      <td>7728816598</td>\n      <td>None</td>\n    </tr>\n    <tr>\n      <th>2046</th>\n      <td>ffa4cc42-393b-4774-b2ed-1c9b2fbd75bb</td>\n      <td>67703695246200001160001</td>\n      <td>0</td>\n      <td>0</td>\n      <td>0</td>\n      <td>0</td>\n      <td>None</td>\n      <td>None</td>\n      <td>2020-07-03 13:49:05</td>\n      <td>7703695246</td>\n      <td>...</td>\n      <td>796</td>\n      <td>Штука</td>\n      <td>220.0</td>\n      <td>NaN</td>\n      <td>NaN</td>\n      <td>None</td>\n      <td>1</td>\n      <td>7703695246</td>\n      <td>7703695246</td>\n      <td>None</td>\n    </tr>\n    <tr>\n      <th>2047</th>\n      <td>ffd13b8b-ffef-4b0d-8fa5-3214f3e44e2b</td>\n      <td>52312210286200000990001</td>\n      <td>0</td>\n      <td>0</td>\n      <td>0</td>\n      <td>0</td>\n      <td>None</td>\n      <td>None</td>\n      <td>2020-12-08 11:26:50</td>\n      <td>2312210286</td>\n      <td>...</td>\n      <td>None</td>\n      <td>None</td>\n      <td>NaN</td>\n      <td>NaN</td>\n      <td>NaN</td>\n      <td>None</td>\n      <td>1</td>\n      <td>2312210286</td>\n      <td>2312210286</td>\n      <td>None</td>\n    </tr>\n    <tr>\n      <th>2048</th>\n      <td>ffda639d-aada-44de-974a-4ce9ac345a55</td>\n      <td>67723011906200009850003</td>\n      <td>0</td>\n      <td>0</td>\n      <td>0</td>\n      <td>0</td>\n      <td>None</td>\n      <td>None</td>\n      <td>2020-11-11 10:04:03</td>\n      <td>7723011906</td>\n      <td>...</td>\n      <td>796</td>\n      <td>Штука</td>\n      <td>44.0</td>\n      <td>NaN</td>\n      <td>NaN</td>\n      <td>None</td>\n      <td>1</td>\n      <td>7723011906</td>\n      <td>7723011906</td>\n      <td>None</td>\n    </tr>\n  </tbody>\n</table>\n<p>2049 rows × 55 columns</p>\n</div>"
     },
     "execution_count": 24,
     "metadata": {},
     "output_type": "execute_result"
    }
   ],
   "source": [
    "dataset = pd.merge(\n",
    "    dataset,\n",
    "    notice_customers_for_contract,\n",
    "    how='left',\n",
    "    on='contract_guid'\n",
    ")\n",
    "\n",
    "dataset"
   ],
   "metadata": {
    "collapsed": false,
    "pycharm": {
     "name": "#%%\n"
    }
   }
  },
  {
   "cell_type": "markdown",
   "source": [
    "Добавим информацию о том, сколько позиций в каждом контракте"
   ],
   "metadata": {
    "collapsed": false,
    "pycharm": {
     "name": "#%% md\n"
    }
   }
  },
  {
   "cell_type": "code",
   "execution_count": 21,
   "outputs": [
    {
     "data": {
      "text/plain": "                             contract_guid  contract_positions_count\n0     0036c56b-1874-4c0c-a7fe-7b8a47696acd                         1\n1     00751401-bc7d-40eb-8eb6-191df67b117e                         1\n2     00954370-200e-403a-997b-f469f075967e                         1\n3     0127411b-0516-4795-989e-38cb1ad9a343                         1\n4     013cab73-6528-4279-a181-faed52623a60                         1\n...                                    ...                       ...\n1536  ff80b68f-5be0-4951-b217-fa1aac06905a                         1\n1537  ffa42833-0759-40db-ae64-5a329c09199a                         1\n1538  ffa4cc42-393b-4774-b2ed-1c9b2fbd75bb                         1\n1539  ffd13b8b-ffef-4b0d-8fa5-3214f3e44e2b                         1\n1540  ffda639d-aada-44de-974a-4ce9ac345a55                         1\n\n[1541 rows x 2 columns]",
      "text/html": "<div>\n<style scoped>\n    .dataframe tbody tr th:only-of-type {\n        vertical-align: middle;\n    }\n\n    .dataframe tbody tr th {\n        vertical-align: top;\n    }\n\n    .dataframe thead th {\n        text-align: right;\n    }\n</style>\n<table border=\"1\" class=\"dataframe\">\n  <thead>\n    <tr style=\"text-align: right;\">\n      <th></th>\n      <th>contract_guid</th>\n      <th>contract_positions_count</th>\n    </tr>\n  </thead>\n  <tbody>\n    <tr>\n      <th>0</th>\n      <td>0036c56b-1874-4c0c-a7fe-7b8a47696acd</td>\n      <td>1</td>\n    </tr>\n    <tr>\n      <th>1</th>\n      <td>00751401-bc7d-40eb-8eb6-191df67b117e</td>\n      <td>1</td>\n    </tr>\n    <tr>\n      <th>2</th>\n      <td>00954370-200e-403a-997b-f469f075967e</td>\n      <td>1</td>\n    </tr>\n    <tr>\n      <th>3</th>\n      <td>0127411b-0516-4795-989e-38cb1ad9a343</td>\n      <td>1</td>\n    </tr>\n    <tr>\n      <th>4</th>\n      <td>013cab73-6528-4279-a181-faed52623a60</td>\n      <td>1</td>\n    </tr>\n    <tr>\n      <th>...</th>\n      <td>...</td>\n      <td>...</td>\n    </tr>\n    <tr>\n      <th>1536</th>\n      <td>ff80b68f-5be0-4951-b217-fa1aac06905a</td>\n      <td>1</td>\n    </tr>\n    <tr>\n      <th>1537</th>\n      <td>ffa42833-0759-40db-ae64-5a329c09199a</td>\n      <td>1</td>\n    </tr>\n    <tr>\n      <th>1538</th>\n      <td>ffa4cc42-393b-4774-b2ed-1c9b2fbd75bb</td>\n      <td>1</td>\n    </tr>\n    <tr>\n      <th>1539</th>\n      <td>ffd13b8b-ffef-4b0d-8fa5-3214f3e44e2b</td>\n      <td>1</td>\n    </tr>\n    <tr>\n      <th>1540</th>\n      <td>ffda639d-aada-44de-974a-4ce9ac345a55</td>\n      <td>1</td>\n    </tr>\n  </tbody>\n</table>\n<p>1541 rows × 2 columns</p>\n</div>"
     },
     "execution_count": 21,
     "metadata": {},
     "output_type": "execute_result"
    }
   ],
   "source": [
    "contract_positions_count = pd.read_sql_query(\n",
    "    \"\"\"\n",
    "    SELECT c.guid as contract_guid, COUNT(*) as contract_positions_count\n",
    "    FROM contract c\n",
    "    INNER JOIN (\n",
    "        SELECT contract_reg_number, MAX(version) ver\n",
    "        FROM contract\n",
    "        WHERE emergency = 1\n",
    "        AND lot_guid is not null\n",
    "        GROUP BY contract_reg_number\n",
    "    ) tmp ON c.contract_reg_number = tmp.contract_reg_number AND c.version = tmp.ver\n",
    "    INNER JOIN purchase_notice_lot pnl ON c.lot_guid = pnl.guid\n",
    "    LEFT JOIN position_to_contract ptc on c.guid = ptc.contract_guid\n",
    "    LEFT JOIN contract_position cpos on ptc.position_guid = cpos.guid\n",
    "    GROUP BY c.guid\n",
    "    \"\"\",\n",
    "    conn\n",
    ")\n",
    "\n",
    "contract_positions_count"
   ],
   "metadata": {
    "collapsed": false,
    "pycharm": {
     "name": "#%%\n"
    }
   }
  },
  {
   "cell_type": "code",
   "execution_count": 25,
   "outputs": [
    {
     "data": {
      "text/plain": "                             contract_guid contract_registration_number  \\\n0     0036c56b-1874-4c0c-a7fe-7b8a47696acd      87825011824200000490001   \n1     00751401-bc7d-40eb-8eb6-191df67b117e      56901067107210018890001   \n2     00954370-200e-403a-997b-f469f075967e      52312210286200000710001   \n3     0127411b-0516-4795-989e-38cb1ad9a343      67703695246200000980001   \n4     013cab73-6528-4279-a181-faed52623a60      57813417393210000360003   \n...                                    ...                          ...   \n2044  ff80b68f-5be0-4951-b217-fa1aac06905a      67703695246200000500001   \n2045  ffa42833-0759-40db-ae64-5a329c09199a      57728816598200006640001   \n2046  ffa4cc42-393b-4774-b2ed-1c9b2fbd75bb      67703695246200001160001   \n2047  ffd13b8b-ffef-4b0d-8fa5-3214f3e44e2b      52312210286200000990001   \n2048  ffda639d-aada-44de-974a-4ce9ac345a55      67723011906200009850003   \n\n      notice_not_placed_by_fz223p5s4  contract_extension  \\\n0                                  0                   1   \n1                                  0                   0   \n2                                  0                   0   \n3                                  0                   0   \n4                                  0                   0   \n...                              ...                 ...   \n2044                               0                   0   \n2045                               0                   0   \n2046                               0                   0   \n2047                               0                   0   \n2048                               0                   0   \n\n      contract_prolongation  customer_appeale_or_needs_approval  \\\n0                         0                                   0   \n1                         0                                   0   \n2                         0                                   0   \n3                         0                                   0   \n4                         0                                   0   \n...                     ...                                 ...   \n2044                      0                                   0   \n2045                      0                                   0   \n2046                      0                                   0   \n2047                      0                                   0   \n2048                      0                                   0   \n\n     customer_approval_or_antimonopoly_descision_date  \\\n0                                                None   \n1                                                None   \n2                                                None   \n3                                                None   \n4                                                None   \n...                                               ...   \n2044                                             None   \n2045                                             None   \n2046                                             None   \n2047                                             None   \n2048                                             None   \n\n     contract_plan_position_guid contract_create_date_time  \\\n0                           None       2020-09-08 07:01:28   \n1                           None       2021-08-17 14:12:13   \n2                           None       2020-06-05 07:00:39   \n3                           None       2020-06-23 06:16:18   \n4                           None       2021-06-09 15:04:20   \n...                          ...                       ...   \n2044                        None       2020-06-18 13:00:13   \n2045                        None       2020-11-18 07:20:58   \n2046                        None       2020-07-03 13:49:05   \n2047                        None       2020-12-08 11:26:50   \n2048                        None       2020-11-11 10:04:03   \n\n     contract_customer_inn  ... position_okei_name position_qty  \\\n0               7825011824  ...   Условная единица          1.0   \n1               6901067107  ...               None          NaN   \n2               2312210286  ...               None          NaN   \n3               7703695246  ...              Штука         18.0   \n4               7813417393  ...               None          NaN   \n...                    ...  ...                ...          ...   \n2044            7703695246  ...              Штука          3.0   \n2045            7728816598  ...              Штука          1.0   \n2046            7703695246  ...              Штука        220.0   \n2047            2312210286  ...               None          NaN   \n2048            7723011906  ...              Штука         44.0   \n\n     position_unit_price position_rub_unit_price  position_currency_code  \\\n0              590489.94                     NaN                     RUB   \n1             2108040.00                     NaN                     RUB   \n2                    NaN                     NaN                    None   \n3                    NaN                     NaN                    None   \n4                    NaN                     NaN                    None   \n...                  ...                     ...                     ...   \n2044                 NaN                     NaN                    None   \n2045                 NaN                     NaN                    None   \n2046                 NaN                     NaN                    None   \n2047                 NaN                     NaN                    None   \n2048                 NaN                     NaN                    None   \n\n      contracts_for_lot notice_customer_inn notice_placer_inn  \\\n0                     1          7825011824        7825011824   \n1                     1          6901067107        6901067107   \n2                     1          2312210286        2312210286   \n3                     1          7703695246        7703695246   \n4                    23          7813417393        7813417393   \n...                 ...                 ...               ...   \n2044                  1          7703695246        7703695246   \n2045                  1          7728816598        7728816598   \n2046                  1          7703695246        7703695246   \n2047                  1          2312210286        2312210286   \n2048                  1          7723011906        7723011906   \n\n     notice_detached_org_inn  contract_positions_count  \n0                       None                         1  \n1                       None                         1  \n2                       None                         1  \n3                       None                         1  \n4                       None                         1  \n...                      ...                       ...  \n2044                    None                         1  \n2045                    None                         1  \n2046                    None                         1  \n2047                    None                         1  \n2048                    None                         1  \n\n[2049 rows x 56 columns]",
      "text/html": "<div>\n<style scoped>\n    .dataframe tbody tr th:only-of-type {\n        vertical-align: middle;\n    }\n\n    .dataframe tbody tr th {\n        vertical-align: top;\n    }\n\n    .dataframe thead th {\n        text-align: right;\n    }\n</style>\n<table border=\"1\" class=\"dataframe\">\n  <thead>\n    <tr style=\"text-align: right;\">\n      <th></th>\n      <th>contract_guid</th>\n      <th>contract_registration_number</th>\n      <th>notice_not_placed_by_fz223p5s4</th>\n      <th>contract_extension</th>\n      <th>contract_prolongation</th>\n      <th>customer_appeale_or_needs_approval</th>\n      <th>customer_approval_or_antimonopoly_descision_date</th>\n      <th>contract_plan_position_guid</th>\n      <th>contract_create_date_time</th>\n      <th>contract_customer_inn</th>\n      <th>...</th>\n      <th>position_okei_name</th>\n      <th>position_qty</th>\n      <th>position_unit_price</th>\n      <th>position_rub_unit_price</th>\n      <th>position_currency_code</th>\n      <th>contracts_for_lot</th>\n      <th>notice_customer_inn</th>\n      <th>notice_placer_inn</th>\n      <th>notice_detached_org_inn</th>\n      <th>contract_positions_count</th>\n    </tr>\n  </thead>\n  <tbody>\n    <tr>\n      <th>0</th>\n      <td>0036c56b-1874-4c0c-a7fe-7b8a47696acd</td>\n      <td>87825011824200000490001</td>\n      <td>0</td>\n      <td>1</td>\n      <td>0</td>\n      <td>0</td>\n      <td>None</td>\n      <td>None</td>\n      <td>2020-09-08 07:01:28</td>\n      <td>7825011824</td>\n      <td>...</td>\n      <td>Условная единица</td>\n      <td>1.0</td>\n      <td>590489.94</td>\n      <td>NaN</td>\n      <td>RUB</td>\n      <td>1</td>\n      <td>7825011824</td>\n      <td>7825011824</td>\n      <td>None</td>\n      <td>1</td>\n    </tr>\n    <tr>\n      <th>1</th>\n      <td>00751401-bc7d-40eb-8eb6-191df67b117e</td>\n      <td>56901067107210018890001</td>\n      <td>0</td>\n      <td>0</td>\n      <td>0</td>\n      <td>0</td>\n      <td>None</td>\n      <td>None</td>\n      <td>2021-08-17 14:12:13</td>\n      <td>6901067107</td>\n      <td>...</td>\n      <td>None</td>\n      <td>NaN</td>\n      <td>2108040.00</td>\n      <td>NaN</td>\n      <td>RUB</td>\n      <td>1</td>\n      <td>6901067107</td>\n      <td>6901067107</td>\n      <td>None</td>\n      <td>1</td>\n    </tr>\n    <tr>\n      <th>2</th>\n      <td>00954370-200e-403a-997b-f469f075967e</td>\n      <td>52312210286200000710001</td>\n      <td>0</td>\n      <td>0</td>\n      <td>0</td>\n      <td>0</td>\n      <td>None</td>\n      <td>None</td>\n      <td>2020-06-05 07:00:39</td>\n      <td>2312210286</td>\n      <td>...</td>\n      <td>None</td>\n      <td>NaN</td>\n      <td>NaN</td>\n      <td>NaN</td>\n      <td>None</td>\n      <td>1</td>\n      <td>2312210286</td>\n      <td>2312210286</td>\n      <td>None</td>\n      <td>1</td>\n    </tr>\n    <tr>\n      <th>3</th>\n      <td>0127411b-0516-4795-989e-38cb1ad9a343</td>\n      <td>67703695246200000980001</td>\n      <td>0</td>\n      <td>0</td>\n      <td>0</td>\n      <td>0</td>\n      <td>None</td>\n      <td>None</td>\n      <td>2020-06-23 06:16:18</td>\n      <td>7703695246</td>\n      <td>...</td>\n      <td>Штука</td>\n      <td>18.0</td>\n      <td>NaN</td>\n      <td>NaN</td>\n      <td>None</td>\n      <td>1</td>\n      <td>7703695246</td>\n      <td>7703695246</td>\n      <td>None</td>\n      <td>1</td>\n    </tr>\n    <tr>\n      <th>4</th>\n      <td>013cab73-6528-4279-a181-faed52623a60</td>\n      <td>57813417393210000360003</td>\n      <td>0</td>\n      <td>0</td>\n      <td>0</td>\n      <td>0</td>\n      <td>None</td>\n      <td>None</td>\n      <td>2021-06-09 15:04:20</td>\n      <td>7813417393</td>\n      <td>...</td>\n      <td>None</td>\n      <td>NaN</td>\n      <td>NaN</td>\n      <td>NaN</td>\n      <td>None</td>\n      <td>23</td>\n      <td>7813417393</td>\n      <td>7813417393</td>\n      <td>None</td>\n      <td>1</td>\n    </tr>\n    <tr>\n      <th>...</th>\n      <td>...</td>\n      <td>...</td>\n      <td>...</td>\n      <td>...</td>\n      <td>...</td>\n      <td>...</td>\n      <td>...</td>\n      <td>...</td>\n      <td>...</td>\n      <td>...</td>\n      <td>...</td>\n      <td>...</td>\n      <td>...</td>\n      <td>...</td>\n      <td>...</td>\n      <td>...</td>\n      <td>...</td>\n      <td>...</td>\n      <td>...</td>\n      <td>...</td>\n      <td>...</td>\n    </tr>\n    <tr>\n      <th>2044</th>\n      <td>ff80b68f-5be0-4951-b217-fa1aac06905a</td>\n      <td>67703695246200000500001</td>\n      <td>0</td>\n      <td>0</td>\n      <td>0</td>\n      <td>0</td>\n      <td>None</td>\n      <td>None</td>\n      <td>2020-06-18 13:00:13</td>\n      <td>7703695246</td>\n      <td>...</td>\n      <td>Штука</td>\n      <td>3.0</td>\n      <td>NaN</td>\n      <td>NaN</td>\n      <td>None</td>\n      <td>1</td>\n      <td>7703695246</td>\n      <td>7703695246</td>\n      <td>None</td>\n      <td>1</td>\n    </tr>\n    <tr>\n      <th>2045</th>\n      <td>ffa42833-0759-40db-ae64-5a329c09199a</td>\n      <td>57728816598200006640001</td>\n      <td>0</td>\n      <td>0</td>\n      <td>0</td>\n      <td>0</td>\n      <td>None</td>\n      <td>None</td>\n      <td>2020-11-18 07:20:58</td>\n      <td>7728816598</td>\n      <td>...</td>\n      <td>Штука</td>\n      <td>1.0</td>\n      <td>NaN</td>\n      <td>NaN</td>\n      <td>None</td>\n      <td>1</td>\n      <td>7728816598</td>\n      <td>7728816598</td>\n      <td>None</td>\n      <td>1</td>\n    </tr>\n    <tr>\n      <th>2046</th>\n      <td>ffa4cc42-393b-4774-b2ed-1c9b2fbd75bb</td>\n      <td>67703695246200001160001</td>\n      <td>0</td>\n      <td>0</td>\n      <td>0</td>\n      <td>0</td>\n      <td>None</td>\n      <td>None</td>\n      <td>2020-07-03 13:49:05</td>\n      <td>7703695246</td>\n      <td>...</td>\n      <td>Штука</td>\n      <td>220.0</td>\n      <td>NaN</td>\n      <td>NaN</td>\n      <td>None</td>\n      <td>1</td>\n      <td>7703695246</td>\n      <td>7703695246</td>\n      <td>None</td>\n      <td>1</td>\n    </tr>\n    <tr>\n      <th>2047</th>\n      <td>ffd13b8b-ffef-4b0d-8fa5-3214f3e44e2b</td>\n      <td>52312210286200000990001</td>\n      <td>0</td>\n      <td>0</td>\n      <td>0</td>\n      <td>0</td>\n      <td>None</td>\n      <td>None</td>\n      <td>2020-12-08 11:26:50</td>\n      <td>2312210286</td>\n      <td>...</td>\n      <td>None</td>\n      <td>NaN</td>\n      <td>NaN</td>\n      <td>NaN</td>\n      <td>None</td>\n      <td>1</td>\n      <td>2312210286</td>\n      <td>2312210286</td>\n      <td>None</td>\n      <td>1</td>\n    </tr>\n    <tr>\n      <th>2048</th>\n      <td>ffda639d-aada-44de-974a-4ce9ac345a55</td>\n      <td>67723011906200009850003</td>\n      <td>0</td>\n      <td>0</td>\n      <td>0</td>\n      <td>0</td>\n      <td>None</td>\n      <td>None</td>\n      <td>2020-11-11 10:04:03</td>\n      <td>7723011906</td>\n      <td>...</td>\n      <td>Штука</td>\n      <td>44.0</td>\n      <td>NaN</td>\n      <td>NaN</td>\n      <td>None</td>\n      <td>1</td>\n      <td>7723011906</td>\n      <td>7723011906</td>\n      <td>None</td>\n      <td>1</td>\n    </tr>\n  </tbody>\n</table>\n<p>2049 rows × 56 columns</p>\n</div>"
     },
     "execution_count": 25,
     "metadata": {},
     "output_type": "execute_result"
    }
   ],
   "source": [
    "dataset = pd.merge(\n",
    "    dataset,\n",
    "    contract_positions_count,\n",
    "    how='left',\n",
    "    on='contract_guid'\n",
    ")\n",
    "\n",
    "dataset\n"
   ],
   "metadata": {
    "collapsed": false,
    "pycharm": {
     "name": "#%%\n"
    }
   }
  },
  {
   "cell_type": "markdown",
   "source": [
    "Выгрузим датасет в эксель"
   ],
   "metadata": {
    "collapsed": false,
    "pycharm": {
     "name": "#%% md\n"
    }
   }
  },
  {
   "cell_type": "code",
   "execution_count": 26,
   "outputs": [],
   "source": [
    "dataset.to_excel(\"output.xlsx\")"
   ],
   "metadata": {
    "collapsed": false,
    "pycharm": {
     "name": "#%%\n"
    }
   }
  },
  {
   "cell_type": "markdown",
   "source": [
    "Проанализируем исполнение договоров в нашей выборке:"
   ],
   "metadata": {
    "collapsed": false,
    "pycharm": {
     "name": "#%% md\n"
    }
   }
  },
  {
   "cell_type": "code",
   "execution_count": 27,
   "outputs": [
    {
     "name": "stdout",
     "output_type": "stream",
     "text": [
      "Всего договоров: 1541\n",
      "Всего завершенных договоров: 830\n",
      "Всего расторженных договоров: 42\n",
      "Всего исполненных договоров: 788\n",
      "Процент расторженных договоров от завершенных: 5.0602409638554215%\n",
      "Процент расторженных договоров от всех: 2.7255029201817003%\n"
     ]
    }
   ],
   "source": [
    "failed_contracts = covid_contracts_performance_with_lot[covid_contracts_performance_with_lot[\"contract_is_complete\"] == 0]\n",
    "completed_contracts = covid_contracts_performance_with_lot[covid_contracts_performance_with_lot[\"contract_is_complete\"] == 1]\n",
    "\n",
    "contracts_count = covid_contracts_performance_with_lot.shape[0]\n",
    "failed_contracts_count = failed_contracts.shape[0]\n",
    "completed_contracts_count = completed_contracts.shape[0]\n",
    "\n",
    "print(f'Всего договоров: {contracts_count}')\n",
    "print(f'Всего завершенных договоров: {failed_contracts_count + completed_contracts_count}')\n",
    "print(f'Всего расторженных договоров: {failed_contracts_count}')\n",
    "print(f'Всего исполненных договоров: {completed_contracts_count}')\n",
    "print(f'Процент расторженных договоров от завершенных: {failed_contracts_count / (failed_contracts_count + completed_contracts_count) * 100}%')\n",
    "print(f'Процент расторженных договоров от всех: {failed_contracts_count / contracts_count * 100}%')"
   ],
   "metadata": {
    "collapsed": false,
    "pycharm": {
     "name": "#%%\n"
    }
   }
  },
  {
   "cell_type": "markdown",
   "source": [
    "Проанализируем в каком количестве позиций присутствует цена за единицу"
   ],
   "metadata": {
    "collapsed": false,
    "pycharm": {
     "name": "#%% md\n"
    }
   }
  },
  {
   "cell_type": "code",
   "execution_count": 28,
   "outputs": [
    {
     "name": "stdout",
     "output_type": "stream",
     "text": [
      "Всего позиций: 2049\n",
      "Всего позиций с указанной ценой: 537\n",
      "Процент позиций с указанной ценой: 26.207906295754025%\n"
     ]
    }
   ],
   "source": [
    "positions_count = covid_contracts_positions_with_lot.shape[0]\n",
    "unit_price_positions_count = covid_contracts_positions_with_lot[covid_contracts_positions_with_lot[\"position_unit_price\"].notnull()].shape[0]\n",
    "\n",
    "print(f'Всего позиций: {positions_count}')\n",
    "print(f'Всего позиций с указанной ценой: {unit_price_positions_count}')\n",
    "print(f'Процент позиций с указанной ценой: {unit_price_positions_count / positions_count * 100}%')"
   ],
   "metadata": {
    "collapsed": false,
    "pycharm": {
     "name": "#%%\n"
    }
   }
  }
 ],
 "metadata": {
  "kernelspec": {
   "display_name": "Python 3",
   "language": "python",
   "name": "python3"
  },
  "language_info": {
   "codemirror_mode": {
    "name": "ipython",
    "version": 2
   },
   "file_extension": ".py",
   "mimetype": "text/x-python",
   "name": "python",
   "nbconvert_exporter": "python",
   "pygments_lexer": "ipython2",
   "version": "2.7.6"
  }
 },
 "nbformat": 4,
 "nbformat_minor": 0
}