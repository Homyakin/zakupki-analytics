{
 "cells": [
  {
   "cell_type": "code",
   "execution_count": 3,
   "metadata": {
    "collapsed": true
   },
   "outputs": [],
   "source": [
    "import sqlite3\n",
    "import pandas as pd"
   ]
  },
  {
   "cell_type": "markdown",
   "source": [
    "## Подключение к БД"
   ],
   "metadata": {
    "collapsed": false,
    "pycharm": {
     "name": "#%% md\n"
    }
   }
  },
  {
   "cell_type": "code",
   "execution_count": 6,
   "outputs": [],
   "source": [
    "conn = sqlite3.connect(\"data.db\")\n",
    "\n"
   ],
   "metadata": {
    "collapsed": false,
    "pycharm": {
     "name": "#%%\n"
    }
   }
  },
  {
   "cell_type": "markdown",
   "source": [
    "Выбираем все договоры самой старшей версии с меткой emergency - \"Закупка осуществляется вследствие аварии,\n",
    " иных чрезвычайных ситуаций природного или техногенного характера, непреодолимой силы,\n",
    " принеобходимости срочного медицинского вмешательства, а также для предотвращения угрозы\n",
    " возникновения указанных ситуаций\""
   ],
   "metadata": {
    "collapsed": false,
    "pycharm": {
     "name": "#%% md\n"
    }
   }
  },
  {
   "cell_type": "code",
   "execution_count": 13,
   "outputs": [
    {
     "data": {
      "text/plain": "                                      guid      registration_number  \\\n0     0008f92e-3856-4383-97d2-2fd8b9b71aee  57708503727200082220007   \n1     00203b76-6dc4-4c1d-a191-da8bf4fb296a  57727344543200003930001   \n2     0030cab8-72d3-444e-b6ed-84e7bb44f22f  87729082090200002390001   \n3     0036c56b-1874-4c0c-a7fe-7b8a47696acd  87825011824200000490001   \n4     00751401-bc7d-40eb-8eb6-191df67b117e  56901067107210018890001   \n...                                    ...                      ...   \n3701  ffa4cc42-393b-4774-b2ed-1c9b2fbd75bb  67703695246200001160001   \n3702  ffbdaf3d-2e8d-4305-a550-c713406a61a2  59701039940200000450001   \n3703  ffd13b8b-ffef-4b0d-8fa5-3214f3e44e2b  52312210286200000990001   \n3704  ffda639d-aada-44de-974a-4ce9ac345a55  67723011906200009850003   \n3705  fffa65c3-f306-4bf8-a55c-89d740483fc5  57702070139200015180001   \n\n      notice_44fz  notice_not_placed_by_fz223p5s4  \\\n0               0                               1   \n1               0                               1   \n2               0                               1   \n3               0                               0   \n4               0                               0   \n...           ...                             ...   \n3701            0                               0   \n3702            0                               1   \n3703            0                               0   \n3704            0                               0   \n3705            0                               1   \n\n                                          notice_44_num lot_44_num  \\\n0                                                  None       None   \n1                                                  None       None   \n2                                                  None       None   \n3     32009471555 Выполнение аварийно-восстановитель...       None   \n4                                                  None       None   \n...                                                 ...        ...   \n3701                                               None       None   \n3702                                               None       None   \n3703                                               None       None   \n3704                                               None       None   \n3705                                               None       None   \n\n      termination  extension  prolongation  \\\n0               0          0             0   \n1               0          0             0   \n2               0          0             0   \n3               1          1             0   \n4               0          0             0   \n...           ...        ...           ...   \n3701            0          0             0   \n3702            0          0             0   \n3703            0          0             0   \n3704            0          0             0   \n3705            1          0             0   \n\n      customer_appeale_or_needs_approval  ... has_okpd_and_okdp_rows  \\\n0                                      0  ...                      0   \n1                                      0  ...                      0   \n2                                      0  ...                      0   \n3                                      0  ...                      0   \n4                                      0  ...                      0   \n...                                  ...  ...                    ...   \n3701                                   0  ...                      0   \n3702                                   0  ...                      0   \n3703                                   0  ...                      0   \n3704                                   0  ...                      0   \n3705                                   0  ...                      0   \n\n     has_okpd2_rows is_electronic_place electronic_place_name  \\\n0                 1                None                  None   \n1                 1                None                  None   \n2                 1                None                  None   \n3                 1                None                  None   \n4                 1                None                  None   \n...             ...                 ...                   ...   \n3701              1                None                  None   \n3702              1                None                  None   \n3703              1                None                  None   \n3704              1                None                  None   \n3705              1                None                  None   \n\n     electronic_place_url electronic_place_publish_date electronic_place_guid  \\\n0                    None                          None                  None   \n1                    None                          None                  None   \n2                    None                          None                  None   \n3                    None                          None                  None   \n4                    None                          None                  None   \n...                   ...                           ...                   ...   \n3701                 None                          None                  None   \n3702                 None                          None                  None   \n3703                 None                          None                  None   \n3704                 None                          None                  None   \n3705                 None                          None                  None   \n\n             region_name      contract_reg_number ver  \n0                 Moskva  57708503727200082220000   4  \n1                 Moskva  57727344543200003930000   1  \n2                 Moskva  87729082090200002390000   1  \n3        Sankt-Peterburg  87825011824200000490000   1  \n4                 Moskva  56901067107210018890000   1  \n...                  ...                      ...  ..  \n3701              Moskva  67703695246200001160000   1  \n3702              Moskva  59701039940200000450000   1  \n3703  Krasnodarskii_krai  52312210286200000990000   1  \n3704              Moskva  67723011906200009850000   2  \n3705     Sankt-Peterburg  57702070139200015180000   1  \n\n[3706 rows x 63 columns]",
      "text/html": "<div>\n<style scoped>\n    .dataframe tbody tr th:only-of-type {\n        vertical-align: middle;\n    }\n\n    .dataframe tbody tr th {\n        vertical-align: top;\n    }\n\n    .dataframe thead th {\n        text-align: right;\n    }\n</style>\n<table border=\"1\" class=\"dataframe\">\n  <thead>\n    <tr style=\"text-align: right;\">\n      <th></th>\n      <th>guid</th>\n      <th>registration_number</th>\n      <th>notice_44fz</th>\n      <th>notice_not_placed_by_fz223p5s4</th>\n      <th>notice_44_num</th>\n      <th>lot_44_num</th>\n      <th>termination</th>\n      <th>extension</th>\n      <th>prolongation</th>\n      <th>customer_appeale_or_needs_approval</th>\n      <th>...</th>\n      <th>has_okpd_and_okdp_rows</th>\n      <th>has_okpd2_rows</th>\n      <th>is_electronic_place</th>\n      <th>electronic_place_name</th>\n      <th>electronic_place_url</th>\n      <th>electronic_place_publish_date</th>\n      <th>electronic_place_guid</th>\n      <th>region_name</th>\n      <th>contract_reg_number</th>\n      <th>ver</th>\n    </tr>\n  </thead>\n  <tbody>\n    <tr>\n      <th>0</th>\n      <td>0008f92e-3856-4383-97d2-2fd8b9b71aee</td>\n      <td>57708503727200082220007</td>\n      <td>0</td>\n      <td>1</td>\n      <td>None</td>\n      <td>None</td>\n      <td>0</td>\n      <td>0</td>\n      <td>0</td>\n      <td>0</td>\n      <td>...</td>\n      <td>0</td>\n      <td>1</td>\n      <td>None</td>\n      <td>None</td>\n      <td>None</td>\n      <td>None</td>\n      <td>None</td>\n      <td>Moskva</td>\n      <td>57708503727200082220000</td>\n      <td>4</td>\n    </tr>\n    <tr>\n      <th>1</th>\n      <td>00203b76-6dc4-4c1d-a191-da8bf4fb296a</td>\n      <td>57727344543200003930001</td>\n      <td>0</td>\n      <td>1</td>\n      <td>None</td>\n      <td>None</td>\n      <td>0</td>\n      <td>0</td>\n      <td>0</td>\n      <td>0</td>\n      <td>...</td>\n      <td>0</td>\n      <td>1</td>\n      <td>None</td>\n      <td>None</td>\n      <td>None</td>\n      <td>None</td>\n      <td>None</td>\n      <td>Moskva</td>\n      <td>57727344543200003930000</td>\n      <td>1</td>\n    </tr>\n    <tr>\n      <th>2</th>\n      <td>0030cab8-72d3-444e-b6ed-84e7bb44f22f</td>\n      <td>87729082090200002390001</td>\n      <td>0</td>\n      <td>1</td>\n      <td>None</td>\n      <td>None</td>\n      <td>0</td>\n      <td>0</td>\n      <td>0</td>\n      <td>0</td>\n      <td>...</td>\n      <td>0</td>\n      <td>1</td>\n      <td>None</td>\n      <td>None</td>\n      <td>None</td>\n      <td>None</td>\n      <td>None</td>\n      <td>Moskva</td>\n      <td>87729082090200002390000</td>\n      <td>1</td>\n    </tr>\n    <tr>\n      <th>3</th>\n      <td>0036c56b-1874-4c0c-a7fe-7b8a47696acd</td>\n      <td>87825011824200000490001</td>\n      <td>0</td>\n      <td>0</td>\n      <td>32009471555 Выполнение аварийно-восстановитель...</td>\n      <td>None</td>\n      <td>1</td>\n      <td>1</td>\n      <td>0</td>\n      <td>0</td>\n      <td>...</td>\n      <td>0</td>\n      <td>1</td>\n      <td>None</td>\n      <td>None</td>\n      <td>None</td>\n      <td>None</td>\n      <td>None</td>\n      <td>Sankt-Peterburg</td>\n      <td>87825011824200000490000</td>\n      <td>1</td>\n    </tr>\n    <tr>\n      <th>4</th>\n      <td>00751401-bc7d-40eb-8eb6-191df67b117e</td>\n      <td>56901067107210018890001</td>\n      <td>0</td>\n      <td>0</td>\n      <td>None</td>\n      <td>None</td>\n      <td>0</td>\n      <td>0</td>\n      <td>0</td>\n      <td>0</td>\n      <td>...</td>\n      <td>0</td>\n      <td>1</td>\n      <td>None</td>\n      <td>None</td>\n      <td>None</td>\n      <td>None</td>\n      <td>None</td>\n      <td>Moskva</td>\n      <td>56901067107210018890000</td>\n      <td>1</td>\n    </tr>\n    <tr>\n      <th>...</th>\n      <td>...</td>\n      <td>...</td>\n      <td>...</td>\n      <td>...</td>\n      <td>...</td>\n      <td>...</td>\n      <td>...</td>\n      <td>...</td>\n      <td>...</td>\n      <td>...</td>\n      <td>...</td>\n      <td>...</td>\n      <td>...</td>\n      <td>...</td>\n      <td>...</td>\n      <td>...</td>\n      <td>...</td>\n      <td>...</td>\n      <td>...</td>\n      <td>...</td>\n      <td>...</td>\n    </tr>\n    <tr>\n      <th>3701</th>\n      <td>ffa4cc42-393b-4774-b2ed-1c9b2fbd75bb</td>\n      <td>67703695246200001160001</td>\n      <td>0</td>\n      <td>0</td>\n      <td>None</td>\n      <td>None</td>\n      <td>0</td>\n      <td>0</td>\n      <td>0</td>\n      <td>0</td>\n      <td>...</td>\n      <td>0</td>\n      <td>1</td>\n      <td>None</td>\n      <td>None</td>\n      <td>None</td>\n      <td>None</td>\n      <td>None</td>\n      <td>Moskva</td>\n      <td>67703695246200001160000</td>\n      <td>1</td>\n    </tr>\n    <tr>\n      <th>3702</th>\n      <td>ffbdaf3d-2e8d-4305-a550-c713406a61a2</td>\n      <td>59701039940200000450001</td>\n      <td>0</td>\n      <td>1</td>\n      <td>None</td>\n      <td>None</td>\n      <td>0</td>\n      <td>0</td>\n      <td>0</td>\n      <td>0</td>\n      <td>...</td>\n      <td>0</td>\n      <td>1</td>\n      <td>None</td>\n      <td>None</td>\n      <td>None</td>\n      <td>None</td>\n      <td>None</td>\n      <td>Moskva</td>\n      <td>59701039940200000450000</td>\n      <td>1</td>\n    </tr>\n    <tr>\n      <th>3703</th>\n      <td>ffd13b8b-ffef-4b0d-8fa5-3214f3e44e2b</td>\n      <td>52312210286200000990001</td>\n      <td>0</td>\n      <td>0</td>\n      <td>None</td>\n      <td>None</td>\n      <td>0</td>\n      <td>0</td>\n      <td>0</td>\n      <td>0</td>\n      <td>...</td>\n      <td>0</td>\n      <td>1</td>\n      <td>None</td>\n      <td>None</td>\n      <td>None</td>\n      <td>None</td>\n      <td>None</td>\n      <td>Krasnodarskii_krai</td>\n      <td>52312210286200000990000</td>\n      <td>1</td>\n    </tr>\n    <tr>\n      <th>3704</th>\n      <td>ffda639d-aada-44de-974a-4ce9ac345a55</td>\n      <td>67723011906200009850003</td>\n      <td>0</td>\n      <td>0</td>\n      <td>None</td>\n      <td>None</td>\n      <td>0</td>\n      <td>0</td>\n      <td>0</td>\n      <td>0</td>\n      <td>...</td>\n      <td>0</td>\n      <td>1</td>\n      <td>None</td>\n      <td>None</td>\n      <td>None</td>\n      <td>None</td>\n      <td>None</td>\n      <td>Moskva</td>\n      <td>67723011906200009850000</td>\n      <td>2</td>\n    </tr>\n    <tr>\n      <th>3705</th>\n      <td>fffa65c3-f306-4bf8-a55c-89d740483fc5</td>\n      <td>57702070139200015180001</td>\n      <td>0</td>\n      <td>1</td>\n      <td>None</td>\n      <td>None</td>\n      <td>1</td>\n      <td>0</td>\n      <td>0</td>\n      <td>0</td>\n      <td>...</td>\n      <td>0</td>\n      <td>1</td>\n      <td>None</td>\n      <td>None</td>\n      <td>None</td>\n      <td>None</td>\n      <td>None</td>\n      <td>Sankt-Peterburg</td>\n      <td>57702070139200015180000</td>\n      <td>1</td>\n    </tr>\n  </tbody>\n</table>\n<p>3706 rows × 63 columns</p>\n</div>"
     },
     "execution_count": 13,
     "metadata": {},
     "output_type": "execute_result"
    }
   ],
   "source": [
    "covid_contracts = pd.read_sql_query(\n",
    "    \"\"\"\n",
    "    SELECT *\n",
    "    FROM contract c\n",
    "    INNER JOIN (\n",
    "        SELECT contract_reg_number, MAX(version) ver\n",
    "        FROM contract\n",
    "        WHERE emergency = 1\n",
    "        GROUP BY contract_reg_number\n",
    "    ) tmp ON c.contract_reg_number = tmp.contract_reg_number AND c.version = tmp.ver\n",
    "    \"\"\",\n",
    "    conn\n",
    ")\n",
    "\n",
    "covid_contracts"
   ],
   "metadata": {
    "collapsed": false,
    "pycharm": {
     "name": "#%%\n"
    }
   }
  },
  {
   "cell_type": "markdown",
   "source": [
    "Для дальнейшего анализа необходимо проверить наличие поля с указанием лота"
   ],
   "metadata": {
    "collapsed": false,
    "pycharm": {
     "name": "#%% md\n"
    }
   }
  },
  {
   "cell_type": "code",
   "execution_count": 14,
   "outputs": [
    {
     "name": "stdout",
     "output_type": "stream",
     "text": [
      "Количество \"ковидных\" договоров: 3706\n",
      "Количество \"ковидных\" договоров с указанием лота: 1643\n"
     ]
    }
   ],
   "source": [
    "covid_contracts_with_not_null_lot = covid_contracts[covid_contracts[\"lot_guid\"].notnull()]\n",
    "\n",
    "print(f'Количество \"ковидных\" договоров: {covid_contracts.shape[0]}')\n",
    "print(f'Количество \"ковидных\" договоров с указанием лота: {covid_contracts_with_not_null_lot.shape[0]}')"
   ],
   "metadata": {
    "collapsed": false,
    "pycharm": {
     "name": "#%%\n"
    }
   }
  },
  {
   "cell_type": "markdown",
   "source": [
    "Договоры без указания lot_guid, это те где извещение не размещалось в соответствии\n",
    "с частью 5 статьи 4 Федерального Закона № 223-ФЗ, например https://zakupki.gov.ru/epz/contractfz223/card/contract-info.html?id=9268727\n",
    "\n",
    "\n",
    "Выберем из базы договоры с лотами"
   ],
   "metadata": {
    "collapsed": false,
    "pycharm": {
     "name": "#%% md\n"
    }
   }
  },
  {
   "cell_type": "code",
   "execution_count": 35,
   "outputs": [
    {
     "data": {
      "text/plain": "                                      guid      registration_number  \\\n0     0036c56b-1874-4c0c-a7fe-7b8a47696acd  87825011824200000490001   \n1     00751401-bc7d-40eb-8eb6-191df67b117e  56901067107210018890001   \n2     00954370-200e-403a-997b-f469f075967e  52312210286200000710001   \n3     0127411b-0516-4795-989e-38cb1ad9a343  67703695246200000980001   \n4     013cab73-6528-4279-a181-faed52623a60  57813417393210000360003   \n...                                    ...                      ...   \n1536  ff80b68f-5be0-4951-b217-fa1aac06905a  67703695246200000500001   \n1537  ffa42833-0759-40db-ae64-5a329c09199a  57728816598200006640001   \n1538  ffa4cc42-393b-4774-b2ed-1c9b2fbd75bb  67703695246200001160001   \n1539  ffd13b8b-ffef-4b0d-8fa5-3214f3e44e2b  52312210286200000990001   \n1540  ffda639d-aada-44de-974a-4ce9ac345a55  67723011906200009850003   \n\n      notice_44fz  notice_not_placed_by_fz223p5s4  \\\n0               0                               0   \n1               0                               0   \n2               0                               0   \n3               0                               0   \n4               0                               0   \n...           ...                             ...   \n1536            0                               0   \n1537            0                               0   \n1538            0                               0   \n1539            0                               0   \n1540            0                               0   \n\n                                          notice_44_num lot_44_num  \\\n0     32009471555 Выполнение аварийно-восстановитель...       None   \n1                                                  None       None   \n2                                                  None       None   \n3                                                  None       None   \n4                                                  None       None   \n...                                                 ...        ...   \n1536                                               None       None   \n1537                                               None       None   \n1538                                               None       None   \n1539                                               None       None   \n1540                                               None       None   \n\n      termination  extension  prolongation  \\\n0               1          1             0   \n1               0          0             0   \n2               0          0             0   \n3               0          0             0   \n4               0          0             0   \n...           ...        ...           ...   \n1536            0          0             0   \n1537            0          0             0   \n1538            0          0             0   \n1539            0          0             0   \n1540            0          0             0   \n\n      customer_appeale_or_needs_approval  ... ignored_purchase  \\\n0                                      0  ...                0   \n1                                      0  ...                0   \n2                                      0  ...                0   \n3                                      0  ...                1   \n4                                      0  ...                0   \n...                                  ...  ...              ...   \n1536                                   0  ...                1   \n1537                                   0  ...                0   \n1538                                   0  ...                1   \n1539                                   0  ...                0   \n1540                                   0  ...                0   \n\n     purchase_category_code centralized purchase_description  \\\n0                       NaN           0                 None   \n1                       NaN           0                 None   \n2                       NaN           0                 None   \n3                       1.0           0                 None   \n4                       NaN           0                 None   \n...                     ...         ...                  ...   \n1536                    1.0           0                 None   \n1537                    NaN           0                 None   \n1538                    1.0           0                 None   \n1539                    NaN           0                 None   \n1540                    NaN           0                 None   \n\n     application_supply_needed application_supply_summ  \\\n0                          NaN                     NaN   \n1                          NaN                     NaN   \n2                          NaN                     NaN   \n3                          NaN                     NaN   \n4                          NaN                     NaN   \n...                        ...                     ...   \n1536                       NaN                     NaN   \n1537                       NaN                     NaN   \n1538                       NaN                     NaN   \n1539                       NaN                     NaN   \n1540                       NaN                     NaN   \n\n     application_supply_currency_code application_supply_extra  \\\n0                                None                     None   \n1                                None                     None   \n2                                None                     None   \n3                                None                     None   \n4                                None                     None   \n...                               ...                      ...   \n1536                             None                     None   \n1537                             None                     None   \n1538                             None                     None   \n1539                             None                     None   \n1540                             None                     None   \n\n     major_contract_conditions antimonopoly_decision_taken  \n0                         None                        None  \n1                         None                        None  \n2                         None                        None  \n3                         None                        None  \n4                         None                        None  \n...                        ...                         ...  \n1536                      None                        None  \n1537                      None                        None  \n1538                      None                        None  \n1539                      None                        None  \n1540                      None                        None  \n\n[1541 rows x 108 columns]",
      "text/html": "<div>\n<style scoped>\n    .dataframe tbody tr th:only-of-type {\n        vertical-align: middle;\n    }\n\n    .dataframe tbody tr th {\n        vertical-align: top;\n    }\n\n    .dataframe thead th {\n        text-align: right;\n    }\n</style>\n<table border=\"1\" class=\"dataframe\">\n  <thead>\n    <tr style=\"text-align: right;\">\n      <th></th>\n      <th>guid</th>\n      <th>registration_number</th>\n      <th>notice_44fz</th>\n      <th>notice_not_placed_by_fz223p5s4</th>\n      <th>notice_44_num</th>\n      <th>lot_44_num</th>\n      <th>termination</th>\n      <th>extension</th>\n      <th>prolongation</th>\n      <th>customer_appeale_or_needs_approval</th>\n      <th>...</th>\n      <th>ignored_purchase</th>\n      <th>purchase_category_code</th>\n      <th>centralized</th>\n      <th>purchase_description</th>\n      <th>application_supply_needed</th>\n      <th>application_supply_summ</th>\n      <th>application_supply_currency_code</th>\n      <th>application_supply_extra</th>\n      <th>major_contract_conditions</th>\n      <th>antimonopoly_decision_taken</th>\n    </tr>\n  </thead>\n  <tbody>\n    <tr>\n      <th>0</th>\n      <td>0036c56b-1874-4c0c-a7fe-7b8a47696acd</td>\n      <td>87825011824200000490001</td>\n      <td>0</td>\n      <td>0</td>\n      <td>32009471555 Выполнение аварийно-восстановитель...</td>\n      <td>None</td>\n      <td>1</td>\n      <td>1</td>\n      <td>0</td>\n      <td>0</td>\n      <td>...</td>\n      <td>0</td>\n      <td>NaN</td>\n      <td>0</td>\n      <td>None</td>\n      <td>NaN</td>\n      <td>NaN</td>\n      <td>None</td>\n      <td>None</td>\n      <td>None</td>\n      <td>None</td>\n    </tr>\n    <tr>\n      <th>1</th>\n      <td>00751401-bc7d-40eb-8eb6-191df67b117e</td>\n      <td>56901067107210018890001</td>\n      <td>0</td>\n      <td>0</td>\n      <td>None</td>\n      <td>None</td>\n      <td>0</td>\n      <td>0</td>\n      <td>0</td>\n      <td>0</td>\n      <td>...</td>\n      <td>0</td>\n      <td>NaN</td>\n      <td>0</td>\n      <td>None</td>\n      <td>NaN</td>\n      <td>NaN</td>\n      <td>None</td>\n      <td>None</td>\n      <td>None</td>\n      <td>None</td>\n    </tr>\n    <tr>\n      <th>2</th>\n      <td>00954370-200e-403a-997b-f469f075967e</td>\n      <td>52312210286200000710001</td>\n      <td>0</td>\n      <td>0</td>\n      <td>None</td>\n      <td>None</td>\n      <td>0</td>\n      <td>0</td>\n      <td>0</td>\n      <td>0</td>\n      <td>...</td>\n      <td>0</td>\n      <td>NaN</td>\n      <td>0</td>\n      <td>None</td>\n      <td>NaN</td>\n      <td>NaN</td>\n      <td>None</td>\n      <td>None</td>\n      <td>None</td>\n      <td>None</td>\n    </tr>\n    <tr>\n      <th>3</th>\n      <td>0127411b-0516-4795-989e-38cb1ad9a343</td>\n      <td>67703695246200000980001</td>\n      <td>0</td>\n      <td>0</td>\n      <td>None</td>\n      <td>None</td>\n      <td>0</td>\n      <td>0</td>\n      <td>0</td>\n      <td>0</td>\n      <td>...</td>\n      <td>1</td>\n      <td>1.0</td>\n      <td>0</td>\n      <td>None</td>\n      <td>NaN</td>\n      <td>NaN</td>\n      <td>None</td>\n      <td>None</td>\n      <td>None</td>\n      <td>None</td>\n    </tr>\n    <tr>\n      <th>4</th>\n      <td>013cab73-6528-4279-a181-faed52623a60</td>\n      <td>57813417393210000360003</td>\n      <td>0</td>\n      <td>0</td>\n      <td>None</td>\n      <td>None</td>\n      <td>0</td>\n      <td>0</td>\n      <td>0</td>\n      <td>0</td>\n      <td>...</td>\n      <td>0</td>\n      <td>NaN</td>\n      <td>0</td>\n      <td>None</td>\n      <td>NaN</td>\n      <td>NaN</td>\n      <td>None</td>\n      <td>None</td>\n      <td>None</td>\n      <td>None</td>\n    </tr>\n    <tr>\n      <th>...</th>\n      <td>...</td>\n      <td>...</td>\n      <td>...</td>\n      <td>...</td>\n      <td>...</td>\n      <td>...</td>\n      <td>...</td>\n      <td>...</td>\n      <td>...</td>\n      <td>...</td>\n      <td>...</td>\n      <td>...</td>\n      <td>...</td>\n      <td>...</td>\n      <td>...</td>\n      <td>...</td>\n      <td>...</td>\n      <td>...</td>\n      <td>...</td>\n      <td>...</td>\n      <td>...</td>\n    </tr>\n    <tr>\n      <th>1536</th>\n      <td>ff80b68f-5be0-4951-b217-fa1aac06905a</td>\n      <td>67703695246200000500001</td>\n      <td>0</td>\n      <td>0</td>\n      <td>None</td>\n      <td>None</td>\n      <td>0</td>\n      <td>0</td>\n      <td>0</td>\n      <td>0</td>\n      <td>...</td>\n      <td>1</td>\n      <td>1.0</td>\n      <td>0</td>\n      <td>None</td>\n      <td>NaN</td>\n      <td>NaN</td>\n      <td>None</td>\n      <td>None</td>\n      <td>None</td>\n      <td>None</td>\n    </tr>\n    <tr>\n      <th>1537</th>\n      <td>ffa42833-0759-40db-ae64-5a329c09199a</td>\n      <td>57728816598200006640001</td>\n      <td>0</td>\n      <td>0</td>\n      <td>None</td>\n      <td>None</td>\n      <td>0</td>\n      <td>0</td>\n      <td>0</td>\n      <td>0</td>\n      <td>...</td>\n      <td>0</td>\n      <td>NaN</td>\n      <td>0</td>\n      <td>None</td>\n      <td>NaN</td>\n      <td>NaN</td>\n      <td>None</td>\n      <td>None</td>\n      <td>None</td>\n      <td>None</td>\n    </tr>\n    <tr>\n      <th>1538</th>\n      <td>ffa4cc42-393b-4774-b2ed-1c9b2fbd75bb</td>\n      <td>67703695246200001160001</td>\n      <td>0</td>\n      <td>0</td>\n      <td>None</td>\n      <td>None</td>\n      <td>0</td>\n      <td>0</td>\n      <td>0</td>\n      <td>0</td>\n      <td>...</td>\n      <td>1</td>\n      <td>1.0</td>\n      <td>0</td>\n      <td>None</td>\n      <td>NaN</td>\n      <td>NaN</td>\n      <td>None</td>\n      <td>None</td>\n      <td>None</td>\n      <td>None</td>\n    </tr>\n    <tr>\n      <th>1539</th>\n      <td>ffd13b8b-ffef-4b0d-8fa5-3214f3e44e2b</td>\n      <td>52312210286200000990001</td>\n      <td>0</td>\n      <td>0</td>\n      <td>None</td>\n      <td>None</td>\n      <td>0</td>\n      <td>0</td>\n      <td>0</td>\n      <td>0</td>\n      <td>...</td>\n      <td>0</td>\n      <td>NaN</td>\n      <td>0</td>\n      <td>None</td>\n      <td>NaN</td>\n      <td>NaN</td>\n      <td>None</td>\n      <td>None</td>\n      <td>None</td>\n      <td>None</td>\n    </tr>\n    <tr>\n      <th>1540</th>\n      <td>ffda639d-aada-44de-974a-4ce9ac345a55</td>\n      <td>67723011906200009850003</td>\n      <td>0</td>\n      <td>0</td>\n      <td>None</td>\n      <td>None</td>\n      <td>0</td>\n      <td>0</td>\n      <td>0</td>\n      <td>0</td>\n      <td>...</td>\n      <td>0</td>\n      <td>NaN</td>\n      <td>0</td>\n      <td>None</td>\n      <td>NaN</td>\n      <td>NaN</td>\n      <td>None</td>\n      <td>None</td>\n      <td>None</td>\n      <td>None</td>\n    </tr>\n  </tbody>\n</table>\n<p>1541 rows × 108 columns</p>\n</div>"
     },
     "execution_count": 35,
     "metadata": {},
     "output_type": "execute_result"
    }
   ],
   "source": [
    "covid_contracts_with_lot = pd.read_sql_query(\n",
    "    \"\"\"\n",
    "    SELECT *\n",
    "    FROM contract c\n",
    "    INNER JOIN (\n",
    "        SELECT contract_reg_number, MAX(version) ver\n",
    "        FROM contract\n",
    "        WHERE emergency = 1\n",
    "        AND lot_guid is not null\n",
    "        GROUP BY contract_reg_number\n",
    "    ) tmp ON c.contract_reg_number = tmp.contract_reg_number AND c.version = tmp.ver\n",
    "    INNER JOIN purchase_notice_lot pnl ON c.lot_guid = pnl.guid\n",
    "    LEFT JOIN purchase_notice_lot_data pnld on pnl.guid = pnld.purchase_notice_lot_guid\n",
    "    \"\"\",\n",
    "    conn\n",
    ")\n",
    "\n",
    "covid_contracts_with_lot"
   ],
   "metadata": {
    "collapsed": false,
    "pycharm": {
     "name": "#%%\n"
    }
   }
  },
  {
   "cell_type": "markdown",
   "source": [
    "Дополним информацией о том, был ли договор завершен или расторгнут"
   ],
   "metadata": {
    "collapsed": false,
    "pycharm": {
     "name": "#%% md\n"
    }
   }
  },
  {
   "cell_type": "code",
   "execution_count": 39,
   "outputs": [
    {
     "data": {
      "text/plain": "                                      guid      registration_number  \\\n0     0036c56b-1874-4c0c-a7fe-7b8a47696acd  87825011824200000490001   \n1     00751401-bc7d-40eb-8eb6-191df67b117e  56901067107210018890001   \n2     00954370-200e-403a-997b-f469f075967e  52312210286200000710001   \n3     0127411b-0516-4795-989e-38cb1ad9a343  67703695246200000980001   \n4     013cab73-6528-4279-a181-faed52623a60  57813417393210000360003   \n...                                    ...                      ...   \n1536  ff80b68f-5be0-4951-b217-fa1aac06905a  67703695246200000500001   \n1537  ffa42833-0759-40db-ae64-5a329c09199a  57728816598200006640001   \n1538  ffa4cc42-393b-4774-b2ed-1c9b2fbd75bb  67703695246200001160001   \n1539  ffd13b8b-ffef-4b0d-8fa5-3214f3e44e2b  52312210286200000990001   \n1540  ffda639d-aada-44de-974a-4ce9ac345a55  67723011906200009850003   \n\n      notice_44fz  notice_not_placed_by_fz223p5s4  \\\n0               0                               0   \n1               0                               0   \n2               0                               0   \n3               0                               0   \n4               0                               0   \n...           ...                             ...   \n1536            0                               0   \n1537            0                               0   \n1538            0                               0   \n1539            0                               0   \n1540            0                               0   \n\n                                          notice_44_num lot_44_num  \\\n0     32009471555 Выполнение аварийно-восстановитель...       None   \n1                                                  None       None   \n2                                                  None       None   \n3                                                  None       None   \n4                                                  None       None   \n...                                                 ...        ...   \n1536                                               None       None   \n1537                                               None       None   \n1538                                               None       None   \n1539                                               None       None   \n1540                                               None       None   \n\n      termination  extension  prolongation  \\\n0               1          1             0   \n1               0          0             0   \n2               0          0             0   \n3               0          0             0   \n4               0          0             0   \n...           ...        ...           ...   \n1536            0          0             0   \n1537            0          0             0   \n1538            0          0             0   \n1539            0          0             0   \n1540            0          0             0   \n\n      customer_appeale_or_needs_approval  ... application_supply_extra  \\\n0                                      0  ...                     None   \n1                                      0  ...                     None   \n2                                      0  ...                     None   \n3                                      0  ...                     None   \n4                                      0  ...                     None   \n...                                  ...  ...                      ...   \n1536                                   0  ...                     None   \n1537                                   0  ...                     None   \n1538                                   0  ...                     None   \n1539                                   0  ...                     None   \n1540                                   0  ...                     None   \n\n     major_contract_conditions antimonopoly_decision_taken  \\\n0                         None                        None   \n1                         None                        None   \n2                         None                        None   \n3                         None                        None   \n4                         None                        None   \n...                        ...                         ...   \n1536                      None                        None   \n1537                      None                        None   \n1538                      None                        None   \n1539                      None                        None   \n1540                      None                        None   \n\n                                      guid      registration_number  \\\n0     83a3bf65-4e85-4177-a7c8-db0e962bc19f  87825011824200000490007   \n1                                     None                     None   \n2                                     None                     None   \n3                                     None                     None   \n4                                     None                     None   \n...                                    ...                      ...   \n1536                                  None                     None   \n1537                                  None                     None   \n1538                                  None                     None   \n1539                                  None                     None   \n1540  03e704ea-ba21-4f57-af65-cdd42c845aea  67723011906200009850005   \n\n     contract_registration_number     status     publication_date  placer_inn  \\\n0         87825011824200000490000  Размещено  2020-11-16 13:32:29  7825011824   \n1                            None       None                 None        None   \n2                            None       None                 None        None   \n3                            None       None                 None        None   \n4                            None       None                 None        None   \n...                           ...        ...                  ...         ...   \n1536                         None       None                 None        None   \n1537                         None       None                 None        None   \n1538                         None       None                 None        None   \n1539                         None       None                 None        None   \n1540      67723011906200009850000  Размещено  2020-12-25 11:32:52  7723011906   \n\n     is_complete  \n0            1.0  \n1            NaN  \n2            NaN  \n3            NaN  \n4            NaN  \n...          ...  \n1536         NaN  \n1537         NaN  \n1538         NaN  \n1539         NaN  \n1540         1.0  \n\n[1541 rows x 113 columns]",
      "text/html": "<div>\n<style scoped>\n    .dataframe tbody tr th:only-of-type {\n        vertical-align: middle;\n    }\n\n    .dataframe tbody tr th {\n        vertical-align: top;\n    }\n\n    .dataframe thead th {\n        text-align: right;\n    }\n</style>\n<table border=\"1\" class=\"dataframe\">\n  <thead>\n    <tr style=\"text-align: right;\">\n      <th></th>\n      <th>guid</th>\n      <th>registration_number</th>\n      <th>notice_44fz</th>\n      <th>notice_not_placed_by_fz223p5s4</th>\n      <th>notice_44_num</th>\n      <th>lot_44_num</th>\n      <th>termination</th>\n      <th>extension</th>\n      <th>prolongation</th>\n      <th>customer_appeale_or_needs_approval</th>\n      <th>...</th>\n      <th>application_supply_extra</th>\n      <th>major_contract_conditions</th>\n      <th>antimonopoly_decision_taken</th>\n      <th>guid</th>\n      <th>registration_number</th>\n      <th>contract_registration_number</th>\n      <th>status</th>\n      <th>publication_date</th>\n      <th>placer_inn</th>\n      <th>is_complete</th>\n    </tr>\n  </thead>\n  <tbody>\n    <tr>\n      <th>0</th>\n      <td>0036c56b-1874-4c0c-a7fe-7b8a47696acd</td>\n      <td>87825011824200000490001</td>\n      <td>0</td>\n      <td>0</td>\n      <td>32009471555 Выполнение аварийно-восстановитель...</td>\n      <td>None</td>\n      <td>1</td>\n      <td>1</td>\n      <td>0</td>\n      <td>0</td>\n      <td>...</td>\n      <td>None</td>\n      <td>None</td>\n      <td>None</td>\n      <td>83a3bf65-4e85-4177-a7c8-db0e962bc19f</td>\n      <td>87825011824200000490007</td>\n      <td>87825011824200000490000</td>\n      <td>Размещено</td>\n      <td>2020-11-16 13:32:29</td>\n      <td>7825011824</td>\n      <td>1.0</td>\n    </tr>\n    <tr>\n      <th>1</th>\n      <td>00751401-bc7d-40eb-8eb6-191df67b117e</td>\n      <td>56901067107210018890001</td>\n      <td>0</td>\n      <td>0</td>\n      <td>None</td>\n      <td>None</td>\n      <td>0</td>\n      <td>0</td>\n      <td>0</td>\n      <td>0</td>\n      <td>...</td>\n      <td>None</td>\n      <td>None</td>\n      <td>None</td>\n      <td>None</td>\n      <td>None</td>\n      <td>None</td>\n      <td>None</td>\n      <td>None</td>\n      <td>None</td>\n      <td>NaN</td>\n    </tr>\n    <tr>\n      <th>2</th>\n      <td>00954370-200e-403a-997b-f469f075967e</td>\n      <td>52312210286200000710001</td>\n      <td>0</td>\n      <td>0</td>\n      <td>None</td>\n      <td>None</td>\n      <td>0</td>\n      <td>0</td>\n      <td>0</td>\n      <td>0</td>\n      <td>...</td>\n      <td>None</td>\n      <td>None</td>\n      <td>None</td>\n      <td>None</td>\n      <td>None</td>\n      <td>None</td>\n      <td>None</td>\n      <td>None</td>\n      <td>None</td>\n      <td>NaN</td>\n    </tr>\n    <tr>\n      <th>3</th>\n      <td>0127411b-0516-4795-989e-38cb1ad9a343</td>\n      <td>67703695246200000980001</td>\n      <td>0</td>\n      <td>0</td>\n      <td>None</td>\n      <td>None</td>\n      <td>0</td>\n      <td>0</td>\n      <td>0</td>\n      <td>0</td>\n      <td>...</td>\n      <td>None</td>\n      <td>None</td>\n      <td>None</td>\n      <td>None</td>\n      <td>None</td>\n      <td>None</td>\n      <td>None</td>\n      <td>None</td>\n      <td>None</td>\n      <td>NaN</td>\n    </tr>\n    <tr>\n      <th>4</th>\n      <td>013cab73-6528-4279-a181-faed52623a60</td>\n      <td>57813417393210000360003</td>\n      <td>0</td>\n      <td>0</td>\n      <td>None</td>\n      <td>None</td>\n      <td>0</td>\n      <td>0</td>\n      <td>0</td>\n      <td>0</td>\n      <td>...</td>\n      <td>None</td>\n      <td>None</td>\n      <td>None</td>\n      <td>None</td>\n      <td>None</td>\n      <td>None</td>\n      <td>None</td>\n      <td>None</td>\n      <td>None</td>\n      <td>NaN</td>\n    </tr>\n    <tr>\n      <th>...</th>\n      <td>...</td>\n      <td>...</td>\n      <td>...</td>\n      <td>...</td>\n      <td>...</td>\n      <td>...</td>\n      <td>...</td>\n      <td>...</td>\n      <td>...</td>\n      <td>...</td>\n      <td>...</td>\n      <td>...</td>\n      <td>...</td>\n      <td>...</td>\n      <td>...</td>\n      <td>...</td>\n      <td>...</td>\n      <td>...</td>\n      <td>...</td>\n      <td>...</td>\n      <td>...</td>\n    </tr>\n    <tr>\n      <th>1536</th>\n      <td>ff80b68f-5be0-4951-b217-fa1aac06905a</td>\n      <td>67703695246200000500001</td>\n      <td>0</td>\n      <td>0</td>\n      <td>None</td>\n      <td>None</td>\n      <td>0</td>\n      <td>0</td>\n      <td>0</td>\n      <td>0</td>\n      <td>...</td>\n      <td>None</td>\n      <td>None</td>\n      <td>None</td>\n      <td>None</td>\n      <td>None</td>\n      <td>None</td>\n      <td>None</td>\n      <td>None</td>\n      <td>None</td>\n      <td>NaN</td>\n    </tr>\n    <tr>\n      <th>1537</th>\n      <td>ffa42833-0759-40db-ae64-5a329c09199a</td>\n      <td>57728816598200006640001</td>\n      <td>0</td>\n      <td>0</td>\n      <td>None</td>\n      <td>None</td>\n      <td>0</td>\n      <td>0</td>\n      <td>0</td>\n      <td>0</td>\n      <td>...</td>\n      <td>None</td>\n      <td>None</td>\n      <td>None</td>\n      <td>None</td>\n      <td>None</td>\n      <td>None</td>\n      <td>None</td>\n      <td>None</td>\n      <td>None</td>\n      <td>NaN</td>\n    </tr>\n    <tr>\n      <th>1538</th>\n      <td>ffa4cc42-393b-4774-b2ed-1c9b2fbd75bb</td>\n      <td>67703695246200001160001</td>\n      <td>0</td>\n      <td>0</td>\n      <td>None</td>\n      <td>None</td>\n      <td>0</td>\n      <td>0</td>\n      <td>0</td>\n      <td>0</td>\n      <td>...</td>\n      <td>None</td>\n      <td>None</td>\n      <td>None</td>\n      <td>None</td>\n      <td>None</td>\n      <td>None</td>\n      <td>None</td>\n      <td>None</td>\n      <td>None</td>\n      <td>NaN</td>\n    </tr>\n    <tr>\n      <th>1539</th>\n      <td>ffd13b8b-ffef-4b0d-8fa5-3214f3e44e2b</td>\n      <td>52312210286200000990001</td>\n      <td>0</td>\n      <td>0</td>\n      <td>None</td>\n      <td>None</td>\n      <td>0</td>\n      <td>0</td>\n      <td>0</td>\n      <td>0</td>\n      <td>...</td>\n      <td>None</td>\n      <td>None</td>\n      <td>None</td>\n      <td>None</td>\n      <td>None</td>\n      <td>None</td>\n      <td>None</td>\n      <td>None</td>\n      <td>None</td>\n      <td>NaN</td>\n    </tr>\n    <tr>\n      <th>1540</th>\n      <td>ffda639d-aada-44de-974a-4ce9ac345a55</td>\n      <td>67723011906200009850003</td>\n      <td>0</td>\n      <td>0</td>\n      <td>None</td>\n      <td>None</td>\n      <td>0</td>\n      <td>0</td>\n      <td>0</td>\n      <td>0</td>\n      <td>...</td>\n      <td>None</td>\n      <td>None</td>\n      <td>None</td>\n      <td>03e704ea-ba21-4f57-af65-cdd42c845aea</td>\n      <td>67723011906200009850005</td>\n      <td>67723011906200009850000</td>\n      <td>Размещено</td>\n      <td>2020-12-25 11:32:52</td>\n      <td>7723011906</td>\n      <td>1.0</td>\n    </tr>\n  </tbody>\n</table>\n<p>1541 rows × 113 columns</p>\n</div>"
     },
     "execution_count": 39,
     "metadata": {},
     "output_type": "execute_result"
    }
   ],
   "source": [
    "covid_contracts_performance_with_lot = pd.read_sql_query(\n",
    "    \"\"\"\n",
    "    SELECT c.*, pnl.*, pnld.*, cp.*\n",
    "    FROM contract c\n",
    "    INNER JOIN (\n",
    "        SELECT contract_reg_number, MAX(version) ver\n",
    "        FROM contract\n",
    "        WHERE emergency = 1\n",
    "        AND lot_guid is not null\n",
    "        GROUP BY contract_reg_number\n",
    "    ) tmp ON c.contract_reg_number = tmp.contract_reg_number AND c.version = tmp.ver\n",
    "    INNER JOIN purchase_notice_lot pnl ON c.lot_guid = pnl.guid\n",
    "    LEFT JOIN purchase_notice_lot_data pnld on pnl.guid = pnld.purchase_notice_lot_guid\n",
    "    LEFT JOIN contract_performance cp on cp.guid = (\n",
    "                    SELECT cp1.guid FROM contract_performance cp1\n",
    "                    WHERE cp1.contract_registration_number = c.contract_reg_number\n",
    "                    ORDER BY cp1.is_complete\n",
    "                    LIMIT 1\n",
    "                    )\n",
    "    \"\"\",\n",
    "    conn\n",
    ")\n",
    "\n",
    "covid_contracts_performance_with_lot"
   ],
   "metadata": {
    "collapsed": false,
    "pycharm": {
     "name": "#%%\n"
    }
   }
  },
  {
   "cell_type": "markdown",
   "source": [
    "Необходимо дополнить выборку информацией о позициях договора"
   ],
   "metadata": {
    "collapsed": false,
    "pycharm": {
     "name": "#%% md\n"
    }
   }
  },
  {
   "cell_type": "code",
   "execution_count": 38,
   "outputs": [
    {
     "data": {
      "text/plain": "                                      guid      registration_number  \\\n0     0036c56b-1874-4c0c-a7fe-7b8a47696acd  87825011824200000490001   \n1     00751401-bc7d-40eb-8eb6-191df67b117e  56901067107210018890001   \n2     00954370-200e-403a-997b-f469f075967e  52312210286200000710001   \n3     0127411b-0516-4795-989e-38cb1ad9a343  67703695246200000980001   \n4     013cab73-6528-4279-a181-faed52623a60  57813417393210000360003   \n...                                    ...                      ...   \n2044  ff80b68f-5be0-4951-b217-fa1aac06905a  67703695246200000500001   \n2045  ffa42833-0759-40db-ae64-5a329c09199a  57728816598200006640001   \n2046  ffa4cc42-393b-4774-b2ed-1c9b2fbd75bb  67703695246200001160001   \n2047  ffd13b8b-ffef-4b0d-8fa5-3214f3e44e2b  52312210286200000990001   \n2048  ffda639d-aada-44de-974a-4ce9ac345a55  67723011906200009850003   \n\n      notice_44fz  notice_not_placed_by_fz223p5s4  \\\n0               0                               0   \n1               0                               0   \n2               0                               0   \n3               0                               0   \n4               0                               0   \n...           ...                             ...   \n2044            0                               0   \n2045            0                               0   \n2046            0                               0   \n2047            0                               0   \n2048            0                               0   \n\n                                          notice_44_num lot_44_num  \\\n0     32009471555 Выполнение аварийно-восстановитель...       None   \n1                                                  None       None   \n2                                                  None       None   \n3                                                  None       None   \n4                                                  None       None   \n...                                                 ...        ...   \n2044                                               None       None   \n2045                                               None       None   \n2046                                               None       None   \n2047                                               None       None   \n2048                                               None       None   \n\n      termination  extension  prolongation  \\\n0               1          1             0   \n1               0          0             0   \n2               0          0             0   \n3               0          0             0   \n4               0          0             0   \n...           ...        ...           ...   \n2044            0          0             0   \n2045            0          0             0   \n2046            0          0             0   \n2047            0          0             0   \n2048            0          0             0   \n\n      customer_appeale_or_needs_approval  ... producer_country  \\\n0                                      0  ...             None   \n1                                      0  ...             None   \n2                                      0  ...             None   \n3                                      0  ...             None   \n4                                      0  ...             None   \n...                                  ...  ...              ...   \n2044                                   0  ...             None   \n2045                                   0  ...             None   \n2046                                   0  ...             None   \n2047                                   0  ...             None   \n2048                                   0  ...             None   \n\n     impossible_to_determine_attr okei_code         okei_name    qty  \\\n0                               0       876  Условная единица    1.0   \n1                               1      None              None    NaN   \n2                               1      None              None    NaN   \n3                               0       796             Штука   18.0   \n4                               1      None              None    NaN   \n...                           ...       ...               ...    ...   \n2044                            0       796             Штука    3.0   \n2045                            0       796             Штука    1.0   \n2046                            0       796             Штука  220.0   \n2047                            1      None              None    NaN   \n2048                            0       796             Штука   44.0   \n\n      unit_price currency_code exchange_rate rub_unit_price source_info  \n0      590489.94           RUB           NaN            NaN        None  \n1     2108040.00           RUB           NaN            NaN        None  \n2            NaN          None           NaN            NaN        None  \n3            NaN          None           NaN            NaN        None  \n4            NaN          None           NaN            NaN        None  \n...          ...           ...           ...            ...         ...  \n2044         NaN          None           NaN            NaN        None  \n2045         NaN          None           NaN            NaN        None  \n2046         NaN          None           NaN            NaN        None  \n2047         NaN          None           NaN            NaN        None  \n2048         NaN          None           NaN            NaN        None  \n\n[2049 rows x 132 columns]",
      "text/html": "<div>\n<style scoped>\n    .dataframe tbody tr th:only-of-type {\n        vertical-align: middle;\n    }\n\n    .dataframe tbody tr th {\n        vertical-align: top;\n    }\n\n    .dataframe thead th {\n        text-align: right;\n    }\n</style>\n<table border=\"1\" class=\"dataframe\">\n  <thead>\n    <tr style=\"text-align: right;\">\n      <th></th>\n      <th>guid</th>\n      <th>registration_number</th>\n      <th>notice_44fz</th>\n      <th>notice_not_placed_by_fz223p5s4</th>\n      <th>notice_44_num</th>\n      <th>lot_44_num</th>\n      <th>termination</th>\n      <th>extension</th>\n      <th>prolongation</th>\n      <th>customer_appeale_or_needs_approval</th>\n      <th>...</th>\n      <th>producer_country</th>\n      <th>impossible_to_determine_attr</th>\n      <th>okei_code</th>\n      <th>okei_name</th>\n      <th>qty</th>\n      <th>unit_price</th>\n      <th>currency_code</th>\n      <th>exchange_rate</th>\n      <th>rub_unit_price</th>\n      <th>source_info</th>\n    </tr>\n  </thead>\n  <tbody>\n    <tr>\n      <th>0</th>\n      <td>0036c56b-1874-4c0c-a7fe-7b8a47696acd</td>\n      <td>87825011824200000490001</td>\n      <td>0</td>\n      <td>0</td>\n      <td>32009471555 Выполнение аварийно-восстановитель...</td>\n      <td>None</td>\n      <td>1</td>\n      <td>1</td>\n      <td>0</td>\n      <td>0</td>\n      <td>...</td>\n      <td>None</td>\n      <td>0</td>\n      <td>876</td>\n      <td>Условная единица</td>\n      <td>1.0</td>\n      <td>590489.94</td>\n      <td>RUB</td>\n      <td>NaN</td>\n      <td>NaN</td>\n      <td>None</td>\n    </tr>\n    <tr>\n      <th>1</th>\n      <td>00751401-bc7d-40eb-8eb6-191df67b117e</td>\n      <td>56901067107210018890001</td>\n      <td>0</td>\n      <td>0</td>\n      <td>None</td>\n      <td>None</td>\n      <td>0</td>\n      <td>0</td>\n      <td>0</td>\n      <td>0</td>\n      <td>...</td>\n      <td>None</td>\n      <td>1</td>\n      <td>None</td>\n      <td>None</td>\n      <td>NaN</td>\n      <td>2108040.00</td>\n      <td>RUB</td>\n      <td>NaN</td>\n      <td>NaN</td>\n      <td>None</td>\n    </tr>\n    <tr>\n      <th>2</th>\n      <td>00954370-200e-403a-997b-f469f075967e</td>\n      <td>52312210286200000710001</td>\n      <td>0</td>\n      <td>0</td>\n      <td>None</td>\n      <td>None</td>\n      <td>0</td>\n      <td>0</td>\n      <td>0</td>\n      <td>0</td>\n      <td>...</td>\n      <td>None</td>\n      <td>1</td>\n      <td>None</td>\n      <td>None</td>\n      <td>NaN</td>\n      <td>NaN</td>\n      <td>None</td>\n      <td>NaN</td>\n      <td>NaN</td>\n      <td>None</td>\n    </tr>\n    <tr>\n      <th>3</th>\n      <td>0127411b-0516-4795-989e-38cb1ad9a343</td>\n      <td>67703695246200000980001</td>\n      <td>0</td>\n      <td>0</td>\n      <td>None</td>\n      <td>None</td>\n      <td>0</td>\n      <td>0</td>\n      <td>0</td>\n      <td>0</td>\n      <td>...</td>\n      <td>None</td>\n      <td>0</td>\n      <td>796</td>\n      <td>Штука</td>\n      <td>18.0</td>\n      <td>NaN</td>\n      <td>None</td>\n      <td>NaN</td>\n      <td>NaN</td>\n      <td>None</td>\n    </tr>\n    <tr>\n      <th>4</th>\n      <td>013cab73-6528-4279-a181-faed52623a60</td>\n      <td>57813417393210000360003</td>\n      <td>0</td>\n      <td>0</td>\n      <td>None</td>\n      <td>None</td>\n      <td>0</td>\n      <td>0</td>\n      <td>0</td>\n      <td>0</td>\n      <td>...</td>\n      <td>None</td>\n      <td>1</td>\n      <td>None</td>\n      <td>None</td>\n      <td>NaN</td>\n      <td>NaN</td>\n      <td>None</td>\n      <td>NaN</td>\n      <td>NaN</td>\n      <td>None</td>\n    </tr>\n    <tr>\n      <th>...</th>\n      <td>...</td>\n      <td>...</td>\n      <td>...</td>\n      <td>...</td>\n      <td>...</td>\n      <td>...</td>\n      <td>...</td>\n      <td>...</td>\n      <td>...</td>\n      <td>...</td>\n      <td>...</td>\n      <td>...</td>\n      <td>...</td>\n      <td>...</td>\n      <td>...</td>\n      <td>...</td>\n      <td>...</td>\n      <td>...</td>\n      <td>...</td>\n      <td>...</td>\n      <td>...</td>\n    </tr>\n    <tr>\n      <th>2044</th>\n      <td>ff80b68f-5be0-4951-b217-fa1aac06905a</td>\n      <td>67703695246200000500001</td>\n      <td>0</td>\n      <td>0</td>\n      <td>None</td>\n      <td>None</td>\n      <td>0</td>\n      <td>0</td>\n      <td>0</td>\n      <td>0</td>\n      <td>...</td>\n      <td>None</td>\n      <td>0</td>\n      <td>796</td>\n      <td>Штука</td>\n      <td>3.0</td>\n      <td>NaN</td>\n      <td>None</td>\n      <td>NaN</td>\n      <td>NaN</td>\n      <td>None</td>\n    </tr>\n    <tr>\n      <th>2045</th>\n      <td>ffa42833-0759-40db-ae64-5a329c09199a</td>\n      <td>57728816598200006640001</td>\n      <td>0</td>\n      <td>0</td>\n      <td>None</td>\n      <td>None</td>\n      <td>0</td>\n      <td>0</td>\n      <td>0</td>\n      <td>0</td>\n      <td>...</td>\n      <td>None</td>\n      <td>0</td>\n      <td>796</td>\n      <td>Штука</td>\n      <td>1.0</td>\n      <td>NaN</td>\n      <td>None</td>\n      <td>NaN</td>\n      <td>NaN</td>\n      <td>None</td>\n    </tr>\n    <tr>\n      <th>2046</th>\n      <td>ffa4cc42-393b-4774-b2ed-1c9b2fbd75bb</td>\n      <td>67703695246200001160001</td>\n      <td>0</td>\n      <td>0</td>\n      <td>None</td>\n      <td>None</td>\n      <td>0</td>\n      <td>0</td>\n      <td>0</td>\n      <td>0</td>\n      <td>...</td>\n      <td>None</td>\n      <td>0</td>\n      <td>796</td>\n      <td>Штука</td>\n      <td>220.0</td>\n      <td>NaN</td>\n      <td>None</td>\n      <td>NaN</td>\n      <td>NaN</td>\n      <td>None</td>\n    </tr>\n    <tr>\n      <th>2047</th>\n      <td>ffd13b8b-ffef-4b0d-8fa5-3214f3e44e2b</td>\n      <td>52312210286200000990001</td>\n      <td>0</td>\n      <td>0</td>\n      <td>None</td>\n      <td>None</td>\n      <td>0</td>\n      <td>0</td>\n      <td>0</td>\n      <td>0</td>\n      <td>...</td>\n      <td>None</td>\n      <td>1</td>\n      <td>None</td>\n      <td>None</td>\n      <td>NaN</td>\n      <td>NaN</td>\n      <td>None</td>\n      <td>NaN</td>\n      <td>NaN</td>\n      <td>None</td>\n    </tr>\n    <tr>\n      <th>2048</th>\n      <td>ffda639d-aada-44de-974a-4ce9ac345a55</td>\n      <td>67723011906200009850003</td>\n      <td>0</td>\n      <td>0</td>\n      <td>None</td>\n      <td>None</td>\n      <td>0</td>\n      <td>0</td>\n      <td>0</td>\n      <td>0</td>\n      <td>...</td>\n      <td>None</td>\n      <td>0</td>\n      <td>796</td>\n      <td>Штука</td>\n      <td>44.0</td>\n      <td>NaN</td>\n      <td>None</td>\n      <td>NaN</td>\n      <td>NaN</td>\n      <td>None</td>\n    </tr>\n  </tbody>\n</table>\n<p>2049 rows × 132 columns</p>\n</div>"
     },
     "execution_count": 38,
     "metadata": {},
     "output_type": "execute_result"
    }
   ],
   "source": [
    "covid_contracts_positions_with_lot = pd.read_sql_query(\n",
    "    \"\"\"\n",
    "    SELECT c.*, pnl.*, pnld.*, cp.*, cpos.*\n",
    "    FROM contract c\n",
    "    INNER JOIN (\n",
    "        SELECT contract_reg_number, MAX(version) ver\n",
    "        FROM contract\n",
    "        WHERE emergency = 1\n",
    "        AND lot_guid is not null\n",
    "        GROUP BY contract_reg_number\n",
    "    ) tmp ON c.contract_reg_number = tmp.contract_reg_number AND c.version = tmp.ver\n",
    "    INNER JOIN purchase_notice_lot pnl ON c.lot_guid = pnl.guid\n",
    "    LEFT JOIN purchase_notice_lot_data pnld on pnl.guid = pnld.purchase_notice_lot_guid\n",
    "    LEFT JOIN position_to_contract ptc on c.guid = ptc.contract_guid\n",
    "    LEFT JOIN contract_performance cp on cp.guid = (\n",
    "                    SELECT cp1.guid FROM contract_performance cp1\n",
    "                    WHERE cp1.contract_registration_number = c.contract_reg_number\n",
    "                    ORDER BY cp1.is_complete\n",
    "                    LIMIT 1\n",
    "                    )\n",
    "    LEFT JOIN contract_position cpos on ptc.position_guid = cpos.guid\n",
    "    \"\"\",\n",
    "    conn\n",
    ")\n",
    "\n",
    "covid_contracts_positions_with_lot"
   ],
   "metadata": {
    "collapsed": false,
    "pycharm": {
     "name": "#%%\n"
    }
   }
  },
  {
   "cell_type": "markdown",
   "source": [
    "Выгрузим датасет в эксель"
   ],
   "metadata": {
    "collapsed": false,
    "pycharm": {
     "name": "#%% md\n"
    }
   }
  },
  {
   "cell_type": "code",
   "execution_count": 40,
   "outputs": [],
   "source": [
    "covid_contracts_positions_with_lot.to_excel(\"output.xlsx\")"
   ],
   "metadata": {
    "collapsed": false,
    "pycharm": {
     "name": "#%%\n"
    }
   }
  }
 ],
 "metadata": {
  "kernelspec": {
   "display_name": "Python 3",
   "language": "python",
   "name": "python3"
  },
  "language_info": {
   "codemirror_mode": {
    "name": "ipython",
    "version": 2
   },
   "file_extension": ".py",
   "mimetype": "text/x-python",
   "name": "python",
   "nbconvert_exporter": "python",
   "pygments_lexer": "ipython2",
   "version": "2.7.6"
  }
 },
 "nbformat": 4,
 "nbformat_minor": 0
}