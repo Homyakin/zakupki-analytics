{
 "cells": [
  {
   "cell_type": "code",
   "execution_count": 1,
   "metadata": {
    "collapsed": true
   },
   "outputs": [],
   "source": [
    "import sqlite3\n",
    "import pandas as pd"
   ]
  },
  {
   "cell_type": "markdown",
   "source": [
    "### Подключение к БД"
   ],
   "metadata": {
    "collapsed": false,
    "pycharm": {
     "name": "#%% md\n"
    }
   }
  },
  {
   "cell_type": "code",
   "execution_count": 2,
   "outputs": [],
   "source": [
    "conn = sqlite3.connect(\"data.db\")"
   ],
   "metadata": {
    "collapsed": false,
    "pycharm": {
     "name": "#%%\n"
    }
   }
  },
  {
   "cell_type": "markdown",
   "source": [
    "Выбираем все договоры самой старшей версии с меткой emergency - \"Закупка осуществляется вследствие аварии,\n",
    " иных чрезвычайных ситуаций природного или техногенного характера, непреодолимой силы,\n",
    " принеобходимости срочного медицинского вмешательства, а также для предотвращения угрозы\n",
    " возникновения указанных ситуаций\""
   ],
   "metadata": {
    "collapsed": false,
    "pycharm": {
     "name": "#%% md\n"
    }
   }
  },
  {
   "cell_type": "code",
   "execution_count": 23,
   "outputs": [
    {
     "data": {
      "text/plain": "                              contract_guid contract_registration_number  \\\n0      00015975-9c32-4b00-922d-7ab2866d3cf7      51433000147200015550001   \n1      0008f92e-3856-4383-97d2-2fd8b9b71aee      57708503727200082220007   \n2      000dc3f6-e39c-456b-b321-5486e2d8b78e      76652022897210001260001   \n3      000efbce-29cc-4fda-ba27-e5b895f5b6ad      56684021776200003580001   \n4      000f310c-5934-4d63-be2e-74dd4c99e301      56611000527200002950001   \n...                                     ...                          ...   \n16638  fff92ffe-8c3f-443f-8ca1-54b8cb98bb64      53801013663210002050001   \n16639  fffa65c3-f306-4bf8-a55c-89d740483fc5      57702070139200015180001   \n16640  fffaff02-11f4-4936-9d2c-01cc2b4c1c8d      58601053210200000270001   \n16641  fffb9623-244a-4c27-b1c7-4518ab6412bd      51431004812210000980001   \n16642  fffe1238-7e9b-4cbb-9162-7eb5e7910974      53812014556210000650001   \n\n       notice_not_placed_by_fz223p5s4  contract_extension  \\\n0                                   1                   0   \n1                                   1                   0   \n2                                   1                   0   \n3                                   0                   1   \n4                                   1                   0   \n...                               ...                 ...   \n16638                               1                   0   \n16639                               1                   0   \n16640                               1                   0   \n16641                               0                   0   \n16642                               1                   0   \n\n       contract_prolongation  customer_appeale_or_needs_approval  \\\n0                          0                                   0   \n1                          0                                   0   \n2                          0                                   0   \n3                          0                                   0   \n4                          0                                   0   \n...                      ...                                 ...   \n16638                      0                                   0   \n16639                      0                                   0   \n16640                      0                                   0   \n16641                      0                                   0   \n16642                      0                                   0   \n\n      customer_approval_or_antimonopoly_descision_date  \\\n0                                                 None   \n1                                                 None   \n2                                                 None   \n3                                                 None   \n4                                                 None   \n...                                                ...   \n16638                                             None   \n16639                                             None   \n16640                                             None   \n16641                                             None   \n16642                                             None   \n\n                contract_plan_position_guid contract_create_date_time  \\\n0                                      None       2020-12-01 00:32:23   \n1                                      None       2021-09-23 12:34:16   \n2      40451834-df9b-11eb-b80c-b8cef612661b       2021-07-23 04:46:32   \n3                                      None       2020-12-02 05:02:53   \n4      ed850d8e-b314-4c08-92b1-e49429220e75       2020-10-27 06:07:26   \n...                                     ...                       ...   \n16638                                  None       2021-10-04 02:31:36   \n16639                                  None       2020-06-04 06:38:35   \n16640                                  None       2020-10-02 05:04:25   \n16641                                  None       2021-07-07 09:05:27   \n16642  999009e9-12a2-4817-a43a-f5fa7c88cb31       2021-04-29 05:51:01   \n\n      contract_customer_inn  ... purchase_notice_info_number  \\\n0                1433000147  ...                        None   \n1                7708503727  ...                        None   \n2                6652022897  ...                        None   \n3                6684021776  ...                 32009740825   \n4                6611000527  ...                        None   \n...                     ...  ...                         ...   \n16638            3801013663  ...                        None   \n16639            7702070139  ...                        None   \n16640            8601053210  ...                        None   \n16641            1431004812  ...                 32110451253   \n16642            3812014556  ...                        None   \n\n                                   lot_guid  \\\n0                                      None   \n1                                      None   \n2                                      None   \n3      0621d71c-65f9-4181-81d5-b9e077fab7ef   \n4                                      None   \n...                                     ...   \n16638                                  None   \n16639                                  None   \n16640                                  None   \n16641  89d200ae-e338-463b-89b3-0cf5955eee3c   \n16642                                  None   \n\n                                        subject_contract purchase_type_code  \\\n0                                                   None              30000   \n1      Выполнение комплекса аварийно-восстановительны...              30000   \n2      1719-2021-00259. Выполнение работ по ремонту э...              30000   \n3                      Поставка лекарственных препаратов              40000   \n4                                 Поставка СИЗ: перчатки              30000   \n...                                                  ...                ...   \n16638        Поставка лекарственного препарата (гепарин)              30000   \n16639                         Поставка масок одноразовых              30000   \n16640  неисключительное право на воспроизведение прог...              30000   \n16641          Поставка лекарственных средств (артлегиа)              40000   \n16642  Поставка изделий медицинского назначения (комп...              30000   \n\n       contract_price  contract_rub_price contract_currency_code  \\\n0        5.342400e+06                 NaN                    RUB   \n1        1.016760e+09        1.016760e+09                    RUB   \n2        1.194000e+05        1.194000e+05                    RUB   \n3        2.453075e+06        2.453075e+06                    RUB   \n4        2.408000e+05        2.408000e+05                    RUB   \n...               ...                 ...                    ...   \n16638    1.341640e+05                 NaN                    RUB   \n16639    2.800000e+06                 NaN                    RUB   \n16640    1.250372e+05                 NaN                    RUB   \n16641    6.006000e+05                 NaN                    RUB   \n16642    2.042000e+06                 NaN                    RUB   \n\n      contract_start_execution_date contract_end_execution_date  \\\n0                        2020-10-15                  2020-12-17   \n1                        2020-05-31                  2021-12-30   \n2                        2021-07-21                  2021-08-20   \n3                        2020-11-29                  2021-02-27   \n4                        2020-10-25                  2020-12-30   \n...                             ...                         ...   \n16638                    2021-10-03                  2021-10-30   \n16639                    2020-05-18                  2020-06-03   \n16640                    2020-10-01                  2020-12-30   \n16641                    2021-07-06                  2021-12-30   \n16642                    2021-04-26                  2021-08-28   \n\n                        region_name  \n0                Saha_Jakutiya_Resp  \n1                            Moskva  \n2                 Sverdlovskaya_obl  \n3                 Sverdlovskaya_obl  \n4                 Sverdlovskaya_obl  \n...                             ...  \n16638                Irkutskaya_obl  \n16639               Sankt-Peterburg  \n16640  Hanty-Mansiiskii_AO_Iugra_AO  \n16641            Saha_Jakutiya_Resp  \n16642                Irkutskaya_obl  \n\n[16643 rows x 31 columns]",
      "text/html": "<div>\n<style scoped>\n    .dataframe tbody tr th:only-of-type {\n        vertical-align: middle;\n    }\n\n    .dataframe tbody tr th {\n        vertical-align: top;\n    }\n\n    .dataframe thead th {\n        text-align: right;\n    }\n</style>\n<table border=\"1\" class=\"dataframe\">\n  <thead>\n    <tr style=\"text-align: right;\">\n      <th></th>\n      <th>contract_guid</th>\n      <th>contract_registration_number</th>\n      <th>notice_not_placed_by_fz223p5s4</th>\n      <th>contract_extension</th>\n      <th>contract_prolongation</th>\n      <th>customer_appeale_or_needs_approval</th>\n      <th>customer_approval_or_antimonopoly_descision_date</th>\n      <th>contract_plan_position_guid</th>\n      <th>contract_create_date_time</th>\n      <th>contract_customer_inn</th>\n      <th>...</th>\n      <th>purchase_notice_info_number</th>\n      <th>lot_guid</th>\n      <th>subject_contract</th>\n      <th>purchase_type_code</th>\n      <th>contract_price</th>\n      <th>contract_rub_price</th>\n      <th>contract_currency_code</th>\n      <th>contract_start_execution_date</th>\n      <th>contract_end_execution_date</th>\n      <th>region_name</th>\n    </tr>\n  </thead>\n  <tbody>\n    <tr>\n      <th>0</th>\n      <td>00015975-9c32-4b00-922d-7ab2866d3cf7</td>\n      <td>51433000147200015550001</td>\n      <td>1</td>\n      <td>0</td>\n      <td>0</td>\n      <td>0</td>\n      <td>None</td>\n      <td>None</td>\n      <td>2020-12-01 00:32:23</td>\n      <td>1433000147</td>\n      <td>...</td>\n      <td>None</td>\n      <td>None</td>\n      <td>None</td>\n      <td>30000</td>\n      <td>5.342400e+06</td>\n      <td>NaN</td>\n      <td>RUB</td>\n      <td>2020-10-15</td>\n      <td>2020-12-17</td>\n      <td>Saha_Jakutiya_Resp</td>\n    </tr>\n    <tr>\n      <th>1</th>\n      <td>0008f92e-3856-4383-97d2-2fd8b9b71aee</td>\n      <td>57708503727200082220007</td>\n      <td>1</td>\n      <td>0</td>\n      <td>0</td>\n      <td>0</td>\n      <td>None</td>\n      <td>None</td>\n      <td>2021-09-23 12:34:16</td>\n      <td>7708503727</td>\n      <td>...</td>\n      <td>None</td>\n      <td>None</td>\n      <td>Выполнение комплекса аварийно-восстановительны...</td>\n      <td>30000</td>\n      <td>1.016760e+09</td>\n      <td>1.016760e+09</td>\n      <td>RUB</td>\n      <td>2020-05-31</td>\n      <td>2021-12-30</td>\n      <td>Moskva</td>\n    </tr>\n    <tr>\n      <th>2</th>\n      <td>000dc3f6-e39c-456b-b321-5486e2d8b78e</td>\n      <td>76652022897210001260001</td>\n      <td>1</td>\n      <td>0</td>\n      <td>0</td>\n      <td>0</td>\n      <td>None</td>\n      <td>40451834-df9b-11eb-b80c-b8cef612661b</td>\n      <td>2021-07-23 04:46:32</td>\n      <td>6652022897</td>\n      <td>...</td>\n      <td>None</td>\n      <td>None</td>\n      <td>1719-2021-00259. Выполнение работ по ремонту э...</td>\n      <td>30000</td>\n      <td>1.194000e+05</td>\n      <td>1.194000e+05</td>\n      <td>RUB</td>\n      <td>2021-07-21</td>\n      <td>2021-08-20</td>\n      <td>Sverdlovskaya_obl</td>\n    </tr>\n    <tr>\n      <th>3</th>\n      <td>000efbce-29cc-4fda-ba27-e5b895f5b6ad</td>\n      <td>56684021776200003580001</td>\n      <td>0</td>\n      <td>1</td>\n      <td>0</td>\n      <td>0</td>\n      <td>None</td>\n      <td>None</td>\n      <td>2020-12-02 05:02:53</td>\n      <td>6684021776</td>\n      <td>...</td>\n      <td>32009740825</td>\n      <td>0621d71c-65f9-4181-81d5-b9e077fab7ef</td>\n      <td>Поставка лекарственных препаратов</td>\n      <td>40000</td>\n      <td>2.453075e+06</td>\n      <td>2.453075e+06</td>\n      <td>RUB</td>\n      <td>2020-11-29</td>\n      <td>2021-02-27</td>\n      <td>Sverdlovskaya_obl</td>\n    </tr>\n    <tr>\n      <th>4</th>\n      <td>000f310c-5934-4d63-be2e-74dd4c99e301</td>\n      <td>56611000527200002950001</td>\n      <td>1</td>\n      <td>0</td>\n      <td>0</td>\n      <td>0</td>\n      <td>None</td>\n      <td>ed850d8e-b314-4c08-92b1-e49429220e75</td>\n      <td>2020-10-27 06:07:26</td>\n      <td>6611000527</td>\n      <td>...</td>\n      <td>None</td>\n      <td>None</td>\n      <td>Поставка СИЗ: перчатки</td>\n      <td>30000</td>\n      <td>2.408000e+05</td>\n      <td>2.408000e+05</td>\n      <td>RUB</td>\n      <td>2020-10-25</td>\n      <td>2020-12-30</td>\n      <td>Sverdlovskaya_obl</td>\n    </tr>\n    <tr>\n      <th>...</th>\n      <td>...</td>\n      <td>...</td>\n      <td>...</td>\n      <td>...</td>\n      <td>...</td>\n      <td>...</td>\n      <td>...</td>\n      <td>...</td>\n      <td>...</td>\n      <td>...</td>\n      <td>...</td>\n      <td>...</td>\n      <td>...</td>\n      <td>...</td>\n      <td>...</td>\n      <td>...</td>\n      <td>...</td>\n      <td>...</td>\n      <td>...</td>\n      <td>...</td>\n      <td>...</td>\n    </tr>\n    <tr>\n      <th>16638</th>\n      <td>fff92ffe-8c3f-443f-8ca1-54b8cb98bb64</td>\n      <td>53801013663210002050001</td>\n      <td>1</td>\n      <td>0</td>\n      <td>0</td>\n      <td>0</td>\n      <td>None</td>\n      <td>None</td>\n      <td>2021-10-04 02:31:36</td>\n      <td>3801013663</td>\n      <td>...</td>\n      <td>None</td>\n      <td>None</td>\n      <td>Поставка лекарственного препарата (гепарин)</td>\n      <td>30000</td>\n      <td>1.341640e+05</td>\n      <td>NaN</td>\n      <td>RUB</td>\n      <td>2021-10-03</td>\n      <td>2021-10-30</td>\n      <td>Irkutskaya_obl</td>\n    </tr>\n    <tr>\n      <th>16639</th>\n      <td>fffa65c3-f306-4bf8-a55c-89d740483fc5</td>\n      <td>57702070139200015180001</td>\n      <td>1</td>\n      <td>0</td>\n      <td>0</td>\n      <td>0</td>\n      <td>None</td>\n      <td>None</td>\n      <td>2020-06-04 06:38:35</td>\n      <td>7702070139</td>\n      <td>...</td>\n      <td>None</td>\n      <td>None</td>\n      <td>Поставка масок одноразовых</td>\n      <td>30000</td>\n      <td>2.800000e+06</td>\n      <td>NaN</td>\n      <td>RUB</td>\n      <td>2020-05-18</td>\n      <td>2020-06-03</td>\n      <td>Sankt-Peterburg</td>\n    </tr>\n    <tr>\n      <th>16640</th>\n      <td>fffaff02-11f4-4936-9d2c-01cc2b4c1c8d</td>\n      <td>58601053210200000270001</td>\n      <td>1</td>\n      <td>0</td>\n      <td>0</td>\n      <td>0</td>\n      <td>None</td>\n      <td>None</td>\n      <td>2020-10-02 05:04:25</td>\n      <td>8601053210</td>\n      <td>...</td>\n      <td>None</td>\n      <td>None</td>\n      <td>неисключительное право на воспроизведение прог...</td>\n      <td>30000</td>\n      <td>1.250372e+05</td>\n      <td>NaN</td>\n      <td>RUB</td>\n      <td>2020-10-01</td>\n      <td>2020-12-30</td>\n      <td>Hanty-Mansiiskii_AO_Iugra_AO</td>\n    </tr>\n    <tr>\n      <th>16641</th>\n      <td>fffb9623-244a-4c27-b1c7-4518ab6412bd</td>\n      <td>51431004812210000980001</td>\n      <td>0</td>\n      <td>0</td>\n      <td>0</td>\n      <td>0</td>\n      <td>None</td>\n      <td>None</td>\n      <td>2021-07-07 09:05:27</td>\n      <td>1431004812</td>\n      <td>...</td>\n      <td>32110451253</td>\n      <td>89d200ae-e338-463b-89b3-0cf5955eee3c</td>\n      <td>Поставка лекарственных средств (артлегиа)</td>\n      <td>40000</td>\n      <td>6.006000e+05</td>\n      <td>NaN</td>\n      <td>RUB</td>\n      <td>2021-07-06</td>\n      <td>2021-12-30</td>\n      <td>Saha_Jakutiya_Resp</td>\n    </tr>\n    <tr>\n      <th>16642</th>\n      <td>fffe1238-7e9b-4cbb-9162-7eb5e7910974</td>\n      <td>53812014556210000650001</td>\n      <td>1</td>\n      <td>0</td>\n      <td>0</td>\n      <td>0</td>\n      <td>None</td>\n      <td>999009e9-12a2-4817-a43a-f5fa7c88cb31</td>\n      <td>2021-04-29 05:51:01</td>\n      <td>3812014556</td>\n      <td>...</td>\n      <td>None</td>\n      <td>None</td>\n      <td>Поставка изделий медицинского назначения (комп...</td>\n      <td>30000</td>\n      <td>2.042000e+06</td>\n      <td>NaN</td>\n      <td>RUB</td>\n      <td>2021-04-26</td>\n      <td>2021-08-28</td>\n      <td>Irkutskaya_obl</td>\n    </tr>\n  </tbody>\n</table>\n<p>16643 rows × 31 columns</p>\n</div>"
     },
     "execution_count": 23,
     "metadata": {},
     "output_type": "execute_result"
    }
   ],
   "source": [
    "covid_contracts = pd.read_sql_query(\n",
    "    \"\"\"\n",
    "    SELECT c.guid as contract_guid, c.registration_number as contract_registration_number,\n",
    "    c.notice_not_placed_by_fz223p5s4 as notice_not_placed_by_fz223p5s4,\n",
    "    c.extension as contract_extension, c.prolongation as contract_prolongation,\n",
    "    c.customer_appeale_or_needs_approval as customer_appeale_or_needs_approval,\n",
    "    c.customer_approval_or_antimonopoly_descision_date as customer_approval_or_antimonopoly_descision_date,\n",
    "    c.plan_position_guid as contract_plan_position_guid,\n",
    "    c.create_date_time as contract_create_date_time,\n",
    "    c.customer_inn as contract_customer_inn, c.placer_inn as contract_placer_inn, c.detached_org_inn as contract_detached_org_inn,\n",
    "    c.publication_date as contract_publication_date, c.contract_status_code as contract_publication_date,\n",
    "    c.emergency as emergency, c.provider as provider, c.provider_code as provider_code, c.contract_reg_number as contract_reg_number,\n",
    "    c.contract_date as contract_date, c.digital_purchase as digital_purchase,\n",
    "    c.purchase_notice_info_guid as purchase_notice_info_guid, c.purchase_notice_info_number as purchase_notice_info_number,\n",
    "    c.lot_guid as lot_guid, c.subject_contract as subject_contract, c.purchase_type_code as purchase_type_code,\n",
    "    c.price as contract_price, c.rub_price as contract_rub_price, c.currency_code as contract_currency_code,\n",
    "    c.start_execution_date as contract_start_execution_date, c.end_execution_date as contract_end_execution_date,\n",
    "    c.region_name as region_name\n",
    "    FROM contract c\n",
    "    INNER JOIN (\n",
    "        SELECT contract_reg_number, MAX(version) ver\n",
    "        FROM contract\n",
    "        WHERE emergency = 1\n",
    "        GROUP BY contract_reg_number\n",
    "    ) tmp ON c.contract_reg_number = tmp.contract_reg_number AND c.version = tmp.ver\n",
    "    \"\"\",\n",
    "    conn\n",
    ")\n",
    "\n",
    "covid_contracts"
   ],
   "metadata": {
    "collapsed": false,
    "pycharm": {
     "name": "#%%\n"
    }
   }
  },
  {
   "cell_type": "markdown",
   "source": [
    "Для дальнейшего анализа необходимо проверить наличие поля с указанием лота"
   ],
   "metadata": {
    "collapsed": false,
    "pycharm": {
     "name": "#%% md\n"
    }
   }
  },
  {
   "cell_type": "code",
   "execution_count": 24,
   "outputs": [
    {
     "name": "stdout",
     "output_type": "stream",
     "text": [
      "Количество \"ковидных\" договоров: 16643\n",
      "Количество \"ковидных\" договоров с указанием лота: 7699\n"
     ]
    }
   ],
   "source": [
    "covid_contracts_with_not_null_lot = covid_contracts[covid_contracts[\"lot_guid\"].notnull()]\n",
    "\n",
    "print(f'Количество \"ковидных\" договоров: {covid_contracts.shape[0]}')\n",
    "print(f'Количество \"ковидных\" договоров с указанием лота: {covid_contracts_with_not_null_lot.shape[0]}')"
   ],
   "metadata": {
    "collapsed": false,
    "pycharm": {
     "name": "#%%\n"
    }
   }
  },
  {
   "cell_type": "markdown",
   "source": [
    "Договоры без указания lot_guid, это те где извещение не размещалось в соответствии\n",
    "с частью 5 статьи 4 Федерального Закона № 223-ФЗ, например https://zakupki.gov.ru/epz/contractfz223/card/contract-info.html?id=9268727\n",
    "\n",
    "Для выборки будем использовать только те договоры, в которых присутствуют лоты"
   ],
   "metadata": {
    "collapsed": false,
    "pycharm": {
     "name": "#%% md\n"
    }
   }
  },
  {
   "cell_type": "markdown",
   "source": [
    "Проверим, существуют ли лоты, на которые было заключено несколько договоров."
   ],
   "metadata": {
    "collapsed": false,
    "pycharm": {
     "name": "#%% md\n"
    }
   }
  },
  {
   "cell_type": "code",
   "execution_count": 5,
   "outputs": [
    {
     "data": {
      "text/plain": "                                lot_guid   c\n0   08fcfa39-dd35-45fc-a7fe-8856ab5a7f68   2\n1   0a0bad0e-049a-43e9-adfc-6896a21b42ed   3\n2   1097ee47-fe1d-4bce-8736-51e24e7c9910   2\n3   11db9fb9-da1b-49fc-a31e-97462414707f  35\n4   1581b86c-4c98-40d3-b578-76c76f4a2670   2\n5   161fae5d-952d-4fee-9bbd-3ff29b00fa30   4\n6   1c475aea-1c94-4fb8-913f-54d61fc719ed  25\n7   25ba1976-d000-4ee0-922c-ae463b64668b   2\n8   2b2b33b4-a466-4bf1-8632-436a0998ed67  19\n9   3032623b-bcf8-4b91-b93d-03010e4a41c3   2\n10  3fea1b35-643c-4ff7-ad7c-0bcff7bdff62   2\n11  40602db8-8636-4dad-b84b-0733f5c8e64d   2\n12  44c059df-9364-4dc7-83cd-3cde676c82fc  25\n13  473ca9ab-8757-4096-bbc4-c388578822b5   2\n14  4c45e6b8-7b7f-4b63-8745-bc336967585c   2\n15  5b129c78-8c4d-4e17-9096-c00cf60f3fe4   2\n16  5ec816dd-4682-3499-1a3a-81f4ffaeda06   3\n17  6300d01d-1559-4d52-a708-0ffc54e60827   2\n18  631240ca-a639-4137-bde5-b2e803f63ec8   2\n19  6c5b2be4-b5be-4191-8053-54df8e156ab5   2\n20  72b19591-a9c2-4f24-9261-6d272fb83247   2\n21  75b53f70-ae0f-4578-947f-0ce1a9159208   7\n22  7a90a090-6157-4c32-b276-b68f6643d077   2\n23  8885e84c-8f87-4723-905b-4e927a1ce195  47\n24  89702ad6-8d7c-4515-aaa3-f19d400aa2b4   3\n25  8c9444c5-4abb-4732-a336-81a3354d6f3f   2\n26  963d2a15-f036-4d98-acb3-dd365182f799   2\n27  9749e433-3637-4d3e-9856-1ccef48451b1   2\n28  98ec39e5-06a8-4efb-be3b-62b53ef93d74   2\n29  a0ce819f-d17a-4f42-ade9-e96e9aa0148f   4\n30  af45f2d7-cc75-4fd1-9ba4-cd71eae5e707   2\n31  bd47d4a1-a936-47d9-aab1-5617fd5f3243   2\n32  beecc59c-2f24-403a-b929-5a2885e1c44c   2\n33  c71a36e1-440a-4fe6-9e15-8bae2f6d0e53   2\n34  c7871859-c81b-47f7-ad15-a87faa47d78f   2\n35  d3def203-b11e-4367-8cea-4ecd4534911d   2\n36  d67918eb-a78c-413b-b393-fe6babd65056   2\n37  d927deed-0787-43db-969e-dbd4d19f5d9a  28\n38  da4990b2-a7e5-4fdf-bbad-04f81a7c245b   2",
      "text/html": "<div>\n<style scoped>\n    .dataframe tbody tr th:only-of-type {\n        vertical-align: middle;\n    }\n\n    .dataframe tbody tr th {\n        vertical-align: top;\n    }\n\n    .dataframe thead th {\n        text-align: right;\n    }\n</style>\n<table border=\"1\" class=\"dataframe\">\n  <thead>\n    <tr style=\"text-align: right;\">\n      <th></th>\n      <th>lot_guid</th>\n      <th>c</th>\n    </tr>\n  </thead>\n  <tbody>\n    <tr>\n      <th>0</th>\n      <td>08fcfa39-dd35-45fc-a7fe-8856ab5a7f68</td>\n      <td>2</td>\n    </tr>\n    <tr>\n      <th>1</th>\n      <td>0a0bad0e-049a-43e9-adfc-6896a21b42ed</td>\n      <td>3</td>\n    </tr>\n    <tr>\n      <th>2</th>\n      <td>1097ee47-fe1d-4bce-8736-51e24e7c9910</td>\n      <td>2</td>\n    </tr>\n    <tr>\n      <th>3</th>\n      <td>11db9fb9-da1b-49fc-a31e-97462414707f</td>\n      <td>35</td>\n    </tr>\n    <tr>\n      <th>4</th>\n      <td>1581b86c-4c98-40d3-b578-76c76f4a2670</td>\n      <td>2</td>\n    </tr>\n    <tr>\n      <th>5</th>\n      <td>161fae5d-952d-4fee-9bbd-3ff29b00fa30</td>\n      <td>4</td>\n    </tr>\n    <tr>\n      <th>6</th>\n      <td>1c475aea-1c94-4fb8-913f-54d61fc719ed</td>\n      <td>25</td>\n    </tr>\n    <tr>\n      <th>7</th>\n      <td>25ba1976-d000-4ee0-922c-ae463b64668b</td>\n      <td>2</td>\n    </tr>\n    <tr>\n      <th>8</th>\n      <td>2b2b33b4-a466-4bf1-8632-436a0998ed67</td>\n      <td>19</td>\n    </tr>\n    <tr>\n      <th>9</th>\n      <td>3032623b-bcf8-4b91-b93d-03010e4a41c3</td>\n      <td>2</td>\n    </tr>\n    <tr>\n      <th>10</th>\n      <td>3fea1b35-643c-4ff7-ad7c-0bcff7bdff62</td>\n      <td>2</td>\n    </tr>\n    <tr>\n      <th>11</th>\n      <td>40602db8-8636-4dad-b84b-0733f5c8e64d</td>\n      <td>2</td>\n    </tr>\n    <tr>\n      <th>12</th>\n      <td>44c059df-9364-4dc7-83cd-3cde676c82fc</td>\n      <td>25</td>\n    </tr>\n    <tr>\n      <th>13</th>\n      <td>473ca9ab-8757-4096-bbc4-c388578822b5</td>\n      <td>2</td>\n    </tr>\n    <tr>\n      <th>14</th>\n      <td>4c45e6b8-7b7f-4b63-8745-bc336967585c</td>\n      <td>2</td>\n    </tr>\n    <tr>\n      <th>15</th>\n      <td>5b129c78-8c4d-4e17-9096-c00cf60f3fe4</td>\n      <td>2</td>\n    </tr>\n    <tr>\n      <th>16</th>\n      <td>5ec816dd-4682-3499-1a3a-81f4ffaeda06</td>\n      <td>3</td>\n    </tr>\n    <tr>\n      <th>17</th>\n      <td>6300d01d-1559-4d52-a708-0ffc54e60827</td>\n      <td>2</td>\n    </tr>\n    <tr>\n      <th>18</th>\n      <td>631240ca-a639-4137-bde5-b2e803f63ec8</td>\n      <td>2</td>\n    </tr>\n    <tr>\n      <th>19</th>\n      <td>6c5b2be4-b5be-4191-8053-54df8e156ab5</td>\n      <td>2</td>\n    </tr>\n    <tr>\n      <th>20</th>\n      <td>72b19591-a9c2-4f24-9261-6d272fb83247</td>\n      <td>2</td>\n    </tr>\n    <tr>\n      <th>21</th>\n      <td>75b53f70-ae0f-4578-947f-0ce1a9159208</td>\n      <td>7</td>\n    </tr>\n    <tr>\n      <th>22</th>\n      <td>7a90a090-6157-4c32-b276-b68f6643d077</td>\n      <td>2</td>\n    </tr>\n    <tr>\n      <th>23</th>\n      <td>8885e84c-8f87-4723-905b-4e927a1ce195</td>\n      <td>47</td>\n    </tr>\n    <tr>\n      <th>24</th>\n      <td>89702ad6-8d7c-4515-aaa3-f19d400aa2b4</td>\n      <td>3</td>\n    </tr>\n    <tr>\n      <th>25</th>\n      <td>8c9444c5-4abb-4732-a336-81a3354d6f3f</td>\n      <td>2</td>\n    </tr>\n    <tr>\n      <th>26</th>\n      <td>963d2a15-f036-4d98-acb3-dd365182f799</td>\n      <td>2</td>\n    </tr>\n    <tr>\n      <th>27</th>\n      <td>9749e433-3637-4d3e-9856-1ccef48451b1</td>\n      <td>2</td>\n    </tr>\n    <tr>\n      <th>28</th>\n      <td>98ec39e5-06a8-4efb-be3b-62b53ef93d74</td>\n      <td>2</td>\n    </tr>\n    <tr>\n      <th>29</th>\n      <td>a0ce819f-d17a-4f42-ade9-e96e9aa0148f</td>\n      <td>4</td>\n    </tr>\n    <tr>\n      <th>30</th>\n      <td>af45f2d7-cc75-4fd1-9ba4-cd71eae5e707</td>\n      <td>2</td>\n    </tr>\n    <tr>\n      <th>31</th>\n      <td>bd47d4a1-a936-47d9-aab1-5617fd5f3243</td>\n      <td>2</td>\n    </tr>\n    <tr>\n      <th>32</th>\n      <td>beecc59c-2f24-403a-b929-5a2885e1c44c</td>\n      <td>2</td>\n    </tr>\n    <tr>\n      <th>33</th>\n      <td>c71a36e1-440a-4fe6-9e15-8bae2f6d0e53</td>\n      <td>2</td>\n    </tr>\n    <tr>\n      <th>34</th>\n      <td>c7871859-c81b-47f7-ad15-a87faa47d78f</td>\n      <td>2</td>\n    </tr>\n    <tr>\n      <th>35</th>\n      <td>d3def203-b11e-4367-8cea-4ecd4534911d</td>\n      <td>2</td>\n    </tr>\n    <tr>\n      <th>36</th>\n      <td>d67918eb-a78c-413b-b393-fe6babd65056</td>\n      <td>2</td>\n    </tr>\n    <tr>\n      <th>37</th>\n      <td>d927deed-0787-43db-969e-dbd4d19f5d9a</td>\n      <td>28</td>\n    </tr>\n    <tr>\n      <th>38</th>\n      <td>da4990b2-a7e5-4fdf-bbad-04f81a7c245b</td>\n      <td>2</td>\n    </tr>\n  </tbody>\n</table>\n</div>"
     },
     "execution_count": 5,
     "metadata": {},
     "output_type": "execute_result"
    }
   ],
   "source": [
    "lots_with_many_contracts = pd.read_sql_query(\n",
    "    \"\"\"\n",
    "    SELECT * FROM (\n",
    "        SELECT lot_guid, COUNT(*) as c\n",
    "            FROM contract c\n",
    "            INNER JOIN (\n",
    "                SELECT contract_reg_number, MAX(version) ver\n",
    "                FROM contract\n",
    "                WHERE emergency = 1\n",
    "                and lot_guid is not null\n",
    "                GROUP BY contract_reg_number\n",
    "            ) tmp ON c.contract_reg_number = tmp.contract_reg_number AND c.version = tmp.ver\n",
    "        GROUP BY lot_guid\n",
    "    ) WHERE c > 1\n",
    "    \"\"\",\n",
    "    conn\n",
    ")\n",
    "\n",
    "lots_with_many_contracts"
   ],
   "metadata": {
    "collapsed": false,
    "pycharm": {
     "name": "#%%\n"
    }
   }
  },
  {
   "cell_type": "markdown",
   "source": [
    "Такие договоры существуют.  Необходимо будет добавить информацию об этом в выборку."
   ],
   "metadata": {
    "collapsed": false,
    "pycharm": {
     "name": "#%% md\n"
    }
   }
  },
  {
   "cell_type": "markdown",
   "source": [
    "Выберем из базы договоры с лотами"
   ],
   "metadata": {
    "collapsed": false,
    "pycharm": {
     "name": "#%% md\n"
    }
   }
  },
  {
   "cell_type": "code",
   "execution_count": 6,
   "outputs": [
    {
     "data": {
      "text/plain": "                             contract_guid contract_registration_number  \\\n0     000efbce-29cc-4fda-ba27-e5b895f5b6ad      56684021776200003580001   \n1     0010055e-61aa-42c1-9ae5-cfadf002275c      76660000400200006120001   \n2     001170e0-57c5-4d89-89f2-e607079cd321      53821005886200000390001   \n3     00161a73-4f64-432b-915a-6d751c91d5a1      58603076205200000240001   \n4     0019ca0a-9df7-43fe-a57a-1a76ace715c4      83525147496200001260001   \n...                                    ...                          ...   \n7641  ffd13b8b-ffef-4b0d-8fa5-3214f3e44e2b      52312210286200000990001   \n7642  ffda639d-aada-44de-974a-4ce9ac345a55      67723011906200009850003   \n7643  ffe52c52-50b9-4962-8392-28ab996f7d62      56829018032200000820001   \n7644  ffeed1b5-bd37-4706-8109-95a9367e499e      56731033838200000460001   \n7645  fffb9623-244a-4c27-b1c7-4518ab6412bd      51431004812210000980001   \n\n      notice_not_placed_by_fz223p5s4  contract_extension  \\\n0                                  0                   1   \n1                                  0                   0   \n2                                  0                   0   \n3                                  0                   0   \n4                                  0                   0   \n...                              ...                 ...   \n7641                               0                   0   \n7642                               0                   0   \n7643                               0                   0   \n7644                               0                   0   \n7645                               0                   0   \n\n      contract_prolongation  customer_appeale_or_needs_approval  \\\n0                         0                                   0   \n1                         0                                   0   \n2                         0                                   0   \n3                         0                                   0   \n4                         0                                   0   \n...                     ...                                 ...   \n7641                      0                                   0   \n7642                      0                                   0   \n7643                      0                                   0   \n7644                      0                                   0   \n7645                      0                                   0   \n\n     customer_approval_or_antimonopoly_descision_date  \\\n0                                                None   \n1                                                None   \n2                                                None   \n3                                                None   \n4                                                None   \n...                                               ...   \n7641                                             None   \n7642                                             None   \n7643                                             None   \n7644                                             None   \n7645                                             None   \n\n     contract_plan_position_guid contract_create_date_time  \\\n0                           None       2020-12-02 05:02:53   \n1                           None       2020-08-12 04:13:04   \n2                           None       2020-08-13 00:50:19   \n3                           None       2020-12-19 17:15:48   \n4                           None       2020-11-16 08:51:47   \n...                          ...                       ...   \n7641                        None       2020-12-08 11:26:50   \n7642                        None       2020-11-11 10:04:03   \n7643                        None       2020-07-15 06:35:10   \n7644                        None       2020-12-21 07:26:42   \n7645                        None       2021-07-07 09:05:27   \n\n     contract_customer_inn  ... contract_start_execution_date  \\\n0               6684021776  ...                    2020-11-29   \n1               6660000400  ...                    2020-08-11   \n2               3821005886  ...                    2020-08-11   \n3               8603076205  ...                    2020-12-16   \n4               3525147496  ...                    2020-11-12   \n...                    ...  ...                           ...   \n7641            2312210286  ...                    2020-07-29   \n7642            7723011906  ...                    2020-10-25   \n7643            6829018032  ...                    2020-07-13   \n7644            6731033838  ...                    2020-12-17   \n7645            1431004812  ...                    2021-07-06   \n\n     contract_end_execution_date                   region_name  \\\n0                     2021-02-27             Sverdlovskaya_obl   \n1                     2020-12-30             Sverdlovskaya_obl   \n2                     2020-12-30                Irkutskaya_obl   \n3                     2020-12-30  Hanty-Mansiiskii_AO_Iugra_AO   \n4                           None              Vologodskaya_obl   \n...                          ...                           ...   \n7641                        None            Krasnodarskii_krai   \n7642                  2020-12-30                        Moskva   \n7643                  2020-08-30               Tambovskaya_obl   \n7644                  2020-12-27               Smolenskaya_obl   \n7645                  2021-12-30            Saha_Jakutiya_Resp   \n\n     notice_lot_initial_sum  notice_lot_starting_contract_price_rub  \\\n0                2453075.00                                     NaN   \n1                6000000.00                                     NaN   \n2                 243570.00                                     NaN   \n3                  85820.00                                     NaN   \n4                 358403.76                                     NaN   \n...                     ...                                     ...   \n7641              294928.00                                     NaN   \n7642              557776.76                                     NaN   \n7643            34650000.00                                     NaN   \n7644              895400.00                                     NaN   \n7645              600600.00                                     NaN   \n\n      notice_lot_currency_code notice_lot_commodity_price  \\\n0                          RUB                       None   \n1                          RUB                       None   \n2                          RUB                       None   \n3                          RUB                       None   \n4                          RUB                       None   \n...                        ...                        ...   \n7641                       RUB                       None   \n7642                       RUB                       None   \n7643                       RUB                       None   \n7644                       RUB                       None   \n7645                       RUB                       None   \n\n     notice_lot_commodity_price_rub notice_lot_max_contract_price  \\\n0                              None                           NaN   \n1                              None                           NaN   \n2                              None                           NaN   \n3                              None                           NaN   \n4                              None                           NaN   \n...                             ...                           ...   \n7641                           None                           NaN   \n7642                           None                           NaN   \n7643                           None                           NaN   \n7644                           None                           NaN   \n7645                           None                           NaN   \n\n      notice_lot_max_contract_price_rub  \n0                                  None  \n1                                  None  \n2                                  None  \n3                                  None  \n4                                  None  \n...                                 ...  \n7641                               None  \n7642                               None  \n7643                               None  \n7644                               None  \n7645                               None  \n\n[7646 rows x 38 columns]",
      "text/html": "<div>\n<style scoped>\n    .dataframe tbody tr th:only-of-type {\n        vertical-align: middle;\n    }\n\n    .dataframe tbody tr th {\n        vertical-align: top;\n    }\n\n    .dataframe thead th {\n        text-align: right;\n    }\n</style>\n<table border=\"1\" class=\"dataframe\">\n  <thead>\n    <tr style=\"text-align: right;\">\n      <th></th>\n      <th>contract_guid</th>\n      <th>contract_registration_number</th>\n      <th>notice_not_placed_by_fz223p5s4</th>\n      <th>contract_extension</th>\n      <th>contract_prolongation</th>\n      <th>customer_appeale_or_needs_approval</th>\n      <th>customer_approval_or_antimonopoly_descision_date</th>\n      <th>contract_plan_position_guid</th>\n      <th>contract_create_date_time</th>\n      <th>contract_customer_inn</th>\n      <th>...</th>\n      <th>contract_start_execution_date</th>\n      <th>contract_end_execution_date</th>\n      <th>region_name</th>\n      <th>notice_lot_initial_sum</th>\n      <th>notice_lot_starting_contract_price_rub</th>\n      <th>notice_lot_currency_code</th>\n      <th>notice_lot_commodity_price</th>\n      <th>notice_lot_commodity_price_rub</th>\n      <th>notice_lot_max_contract_price</th>\n      <th>notice_lot_max_contract_price_rub</th>\n    </tr>\n  </thead>\n  <tbody>\n    <tr>\n      <th>0</th>\n      <td>000efbce-29cc-4fda-ba27-e5b895f5b6ad</td>\n      <td>56684021776200003580001</td>\n      <td>0</td>\n      <td>1</td>\n      <td>0</td>\n      <td>0</td>\n      <td>None</td>\n      <td>None</td>\n      <td>2020-12-02 05:02:53</td>\n      <td>6684021776</td>\n      <td>...</td>\n      <td>2020-11-29</td>\n      <td>2021-02-27</td>\n      <td>Sverdlovskaya_obl</td>\n      <td>2453075.00</td>\n      <td>NaN</td>\n      <td>RUB</td>\n      <td>None</td>\n      <td>None</td>\n      <td>NaN</td>\n      <td>None</td>\n    </tr>\n    <tr>\n      <th>1</th>\n      <td>0010055e-61aa-42c1-9ae5-cfadf002275c</td>\n      <td>76660000400200006120001</td>\n      <td>0</td>\n      <td>0</td>\n      <td>0</td>\n      <td>0</td>\n      <td>None</td>\n      <td>None</td>\n      <td>2020-08-12 04:13:04</td>\n      <td>6660000400</td>\n      <td>...</td>\n      <td>2020-08-11</td>\n      <td>2020-12-30</td>\n      <td>Sverdlovskaya_obl</td>\n      <td>6000000.00</td>\n      <td>NaN</td>\n      <td>RUB</td>\n      <td>None</td>\n      <td>None</td>\n      <td>NaN</td>\n      <td>None</td>\n    </tr>\n    <tr>\n      <th>2</th>\n      <td>001170e0-57c5-4d89-89f2-e607079cd321</td>\n      <td>53821005886200000390001</td>\n      <td>0</td>\n      <td>0</td>\n      <td>0</td>\n      <td>0</td>\n      <td>None</td>\n      <td>None</td>\n      <td>2020-08-13 00:50:19</td>\n      <td>3821005886</td>\n      <td>...</td>\n      <td>2020-08-11</td>\n      <td>2020-12-30</td>\n      <td>Irkutskaya_obl</td>\n      <td>243570.00</td>\n      <td>NaN</td>\n      <td>RUB</td>\n      <td>None</td>\n      <td>None</td>\n      <td>NaN</td>\n      <td>None</td>\n    </tr>\n    <tr>\n      <th>3</th>\n      <td>00161a73-4f64-432b-915a-6d751c91d5a1</td>\n      <td>58603076205200000240001</td>\n      <td>0</td>\n      <td>0</td>\n      <td>0</td>\n      <td>0</td>\n      <td>None</td>\n      <td>None</td>\n      <td>2020-12-19 17:15:48</td>\n      <td>8603076205</td>\n      <td>...</td>\n      <td>2020-12-16</td>\n      <td>2020-12-30</td>\n      <td>Hanty-Mansiiskii_AO_Iugra_AO</td>\n      <td>85820.00</td>\n      <td>NaN</td>\n      <td>RUB</td>\n      <td>None</td>\n      <td>None</td>\n      <td>NaN</td>\n      <td>None</td>\n    </tr>\n    <tr>\n      <th>4</th>\n      <td>0019ca0a-9df7-43fe-a57a-1a76ace715c4</td>\n      <td>83525147496200001260001</td>\n      <td>0</td>\n      <td>0</td>\n      <td>0</td>\n      <td>0</td>\n      <td>None</td>\n      <td>None</td>\n      <td>2020-11-16 08:51:47</td>\n      <td>3525147496</td>\n      <td>...</td>\n      <td>2020-11-12</td>\n      <td>None</td>\n      <td>Vologodskaya_obl</td>\n      <td>358403.76</td>\n      <td>NaN</td>\n      <td>RUB</td>\n      <td>None</td>\n      <td>None</td>\n      <td>NaN</td>\n      <td>None</td>\n    </tr>\n    <tr>\n      <th>...</th>\n      <td>...</td>\n      <td>...</td>\n      <td>...</td>\n      <td>...</td>\n      <td>...</td>\n      <td>...</td>\n      <td>...</td>\n      <td>...</td>\n      <td>...</td>\n      <td>...</td>\n      <td>...</td>\n      <td>...</td>\n      <td>...</td>\n      <td>...</td>\n      <td>...</td>\n      <td>...</td>\n      <td>...</td>\n      <td>...</td>\n      <td>...</td>\n      <td>...</td>\n      <td>...</td>\n    </tr>\n    <tr>\n      <th>7641</th>\n      <td>ffd13b8b-ffef-4b0d-8fa5-3214f3e44e2b</td>\n      <td>52312210286200000990001</td>\n      <td>0</td>\n      <td>0</td>\n      <td>0</td>\n      <td>0</td>\n      <td>None</td>\n      <td>None</td>\n      <td>2020-12-08 11:26:50</td>\n      <td>2312210286</td>\n      <td>...</td>\n      <td>2020-07-29</td>\n      <td>None</td>\n      <td>Krasnodarskii_krai</td>\n      <td>294928.00</td>\n      <td>NaN</td>\n      <td>RUB</td>\n      <td>None</td>\n      <td>None</td>\n      <td>NaN</td>\n      <td>None</td>\n    </tr>\n    <tr>\n      <th>7642</th>\n      <td>ffda639d-aada-44de-974a-4ce9ac345a55</td>\n      <td>67723011906200009850003</td>\n      <td>0</td>\n      <td>0</td>\n      <td>0</td>\n      <td>0</td>\n      <td>None</td>\n      <td>None</td>\n      <td>2020-11-11 10:04:03</td>\n      <td>7723011906</td>\n      <td>...</td>\n      <td>2020-10-25</td>\n      <td>2020-12-30</td>\n      <td>Moskva</td>\n      <td>557776.76</td>\n      <td>NaN</td>\n      <td>RUB</td>\n      <td>None</td>\n      <td>None</td>\n      <td>NaN</td>\n      <td>None</td>\n    </tr>\n    <tr>\n      <th>7643</th>\n      <td>ffe52c52-50b9-4962-8392-28ab996f7d62</td>\n      <td>56829018032200000820001</td>\n      <td>0</td>\n      <td>0</td>\n      <td>0</td>\n      <td>0</td>\n      <td>None</td>\n      <td>None</td>\n      <td>2020-07-15 06:35:10</td>\n      <td>6829018032</td>\n      <td>...</td>\n      <td>2020-07-13</td>\n      <td>2020-08-30</td>\n      <td>Tambovskaya_obl</td>\n      <td>34650000.00</td>\n      <td>NaN</td>\n      <td>RUB</td>\n      <td>None</td>\n      <td>None</td>\n      <td>NaN</td>\n      <td>None</td>\n    </tr>\n    <tr>\n      <th>7644</th>\n      <td>ffeed1b5-bd37-4706-8109-95a9367e499e</td>\n      <td>56731033838200000460001</td>\n      <td>0</td>\n      <td>0</td>\n      <td>0</td>\n      <td>0</td>\n      <td>None</td>\n      <td>None</td>\n      <td>2020-12-21 07:26:42</td>\n      <td>6731033838</td>\n      <td>...</td>\n      <td>2020-12-17</td>\n      <td>2020-12-27</td>\n      <td>Smolenskaya_obl</td>\n      <td>895400.00</td>\n      <td>NaN</td>\n      <td>RUB</td>\n      <td>None</td>\n      <td>None</td>\n      <td>NaN</td>\n      <td>None</td>\n    </tr>\n    <tr>\n      <th>7645</th>\n      <td>fffb9623-244a-4c27-b1c7-4518ab6412bd</td>\n      <td>51431004812210000980001</td>\n      <td>0</td>\n      <td>0</td>\n      <td>0</td>\n      <td>0</td>\n      <td>None</td>\n      <td>None</td>\n      <td>2021-07-07 09:05:27</td>\n      <td>1431004812</td>\n      <td>...</td>\n      <td>2021-07-06</td>\n      <td>2021-12-30</td>\n      <td>Saha_Jakutiya_Resp</td>\n      <td>600600.00</td>\n      <td>NaN</td>\n      <td>RUB</td>\n      <td>None</td>\n      <td>None</td>\n      <td>NaN</td>\n      <td>None</td>\n    </tr>\n  </tbody>\n</table>\n<p>7646 rows × 38 columns</p>\n</div>"
     },
     "execution_count": 6,
     "metadata": {},
     "output_type": "execute_result"
    }
   ],
   "source": [
    "covid_contracts_with_lot = pd.read_sql_query(\n",
    "    \"\"\"\n",
    "    SELECT c.guid as contract_guid, c.registration_number as contract_registration_number,\n",
    "    c.notice_not_placed_by_fz223p5s4 as notice_not_placed_by_fz223p5s4,\n",
    "    c.extension as contract_extension, c.prolongation as contract_prolongation,\n",
    "    c.customer_appeale_or_needs_approval as customer_appeale_or_needs_approval,\n",
    "    c.customer_approval_or_antimonopoly_descision_date as customer_approval_or_antimonopoly_descision_date,\n",
    "    c.plan_position_guid as contract_plan_position_guid,\n",
    "    c.create_date_time as contract_create_date_time,\n",
    "    c.customer_inn as contract_customer_inn, c.placer_inn as contract_placer_inn, c.detached_org_inn as contract_detached_org_inn,\n",
    "    c.publication_date as contract_publication_date, c.contract_status_code as contract_publication_date,\n",
    "    c.emergency as emergency, c.provider as provider, c.provider_code as provider_code, c.contract_reg_number as contract_reg_number,\n",
    "    c.contract_date as contract_date, c.digital_purchase as digital_purchase,\n",
    "    c.purchase_notice_info_guid as purchase_notice_info_guid, c.purchase_notice_info_number as purchase_notice_info_number,\n",
    "    c.lot_guid as lot_guid, c.subject_contract as subject_contract, c.purchase_type_code as purchase_type_code,\n",
    "    c.price as contract_price, c.rub_price as contract_rub_price, c.currency_code as contract_currency_code,\n",
    "    c.start_execution_date as contract_start_execution_date, c.end_execution_date as contract_end_execution_date,\n",
    "    c.region_name as region_name,\n",
    "    pnld.initial_sum as notice_lot_initial_sum, pnld.starting_contract_price_rub as notice_lot_starting_contract_price_rub,\n",
    "    pnld.currency_code as notice_lot_currency_code,\n",
    "    pnld.commodity_price as notice_lot_commodity_price, pnld.commodity_price_rub as notice_lot_commodity_price_rub,\n",
    "    pnld.max_contract_price as notice_lot_max_contract_price, pnld.max_contract_price_rub as notice_lot_max_contract_price_rub\n",
    "    FROM contract c\n",
    "    INNER JOIN (\n",
    "        SELECT contract_reg_number, MAX(version) ver\n",
    "        FROM contract\n",
    "        WHERE emergency = 1\n",
    "        AND lot_guid is not null\n",
    "        GROUP BY contract_reg_number\n",
    "    ) tmp ON c.contract_reg_number = tmp.contract_reg_number AND c.version = tmp.ver\n",
    "    INNER JOIN purchase_notice_lot pnl ON c.lot_guid = pnl.guid\n",
    "    LEFT JOIN purchase_notice_lot_data pnld on pnl.guid = pnld.purchase_notice_lot_guid\n",
    "    \"\"\",\n",
    "    conn\n",
    ")\n",
    "\n",
    "covid_contracts_with_lot"
   ],
   "metadata": {
    "collapsed": false,
    "pycharm": {
     "name": "#%%\n"
    }
   }
  },
  {
   "cell_type": "markdown",
   "source": [
    "Проверим, существуют ли договоры, у которых заказчик отличается от заказчика в извещении"
   ],
   "metadata": {
    "collapsed": false,
    "pycharm": {
     "name": "#%% md\n"
    }
   }
  },
  {
   "cell_type": "code",
   "execution_count": 7,
   "outputs": [
    {
     "data": {
      "text/plain": "                                     guid customer_inn  placer_inn  \\\n0    02857c3c-59a6-44be-b942-4364a4c11a89   1435149216  1435149216   \n1    02a74aef-0dc0-48fb-b0d3-70731900673d   7736182930  7736182930   \n2    06c265e1-678b-4668-a263-54c8a9bcf63b   6345012488  6345012488   \n3    06c265e1-678b-4668-a263-54c8a9bcf63b   6345012488  6345012488   \n4    0c62cca5-11ff-4c74-98b3-99bfba43f439   7736182930  7736182930   \n..                                    ...          ...         ...   \n151  fb713851-be44-4799-9bd0-902ae17156aa   1435149216  1435149216   \n152  fe2b0f45-b439-47ba-98ec-b603db403de6   1101460616  1101460616   \n153  fe2b0f45-b439-47ba-98ec-b603db403de6   1101460616  1101460616   \n154  fe33caf4-1d35-4e0a-80ba-9706164e3018   2308131994  2308131994   \n155  fe71dd72-4c08-423a-b593-622e066ca4b3   7736607502  7736607502   \n\n    detached_org_inn                                  guid customer_inn  \\\n0         1435149216  de0960c6-fc19-403b-b852-7bca159cc3e5   1435149216   \n1         7736182930  84925ecd-c713-420e-b1a4-683af576b9e9   7736182930   \n2         6345012488  1d063c20-7aa0-46ad-9289-a1b9bfb28b87   1510012774   \n3         6345012488  219cfb41-11cb-aae8-b709-0d5a6bd131db   1510012774   \n4         7736182930  86da896b-2ac2-40d9-b8fd-5afc5c6834ef   7736182930   \n..               ...                                   ...          ...   \n151       1435149216  0c28ef37-7a49-41ae-aa0a-9c5fcf3c7dcc   1435149216   \n152       1101460616  114a6b3b-0786-4e3a-b781-0ea6bf86620f   1101460616   \n153       1101460616  4902cf8b-8311-41e0-9ecf-f05640097c81   1101460616   \n154       2308131994  ff0817d0-30ce-4169-921e-75834f01b2d2   2308131994   \n155       7736607502  005056be-1598-1eeb-8ed6-0c774e0f7be6   7706061801   \n\n     placer_inn detached_org_inn  \n0    7710357167             None  \n1    7707308480             None  \n2    1510012774             None  \n3    1510012774             None  \n4    7707308480             None  \n..          ...              ...  \n151  7710357167             None  \n152  7707308480             None  \n153  7707308480             None  \n154  7707308480             None  \n155  7706061801             None  \n\n[156 rows x 8 columns]",
      "text/html": "<div>\n<style scoped>\n    .dataframe tbody tr th:only-of-type {\n        vertical-align: middle;\n    }\n\n    .dataframe tbody tr th {\n        vertical-align: top;\n    }\n\n    .dataframe thead th {\n        text-align: right;\n    }\n</style>\n<table border=\"1\" class=\"dataframe\">\n  <thead>\n    <tr style=\"text-align: right;\">\n      <th></th>\n      <th>guid</th>\n      <th>customer_inn</th>\n      <th>placer_inn</th>\n      <th>detached_org_inn</th>\n      <th>guid</th>\n      <th>customer_inn</th>\n      <th>placer_inn</th>\n      <th>detached_org_inn</th>\n    </tr>\n  </thead>\n  <tbody>\n    <tr>\n      <th>0</th>\n      <td>02857c3c-59a6-44be-b942-4364a4c11a89</td>\n      <td>1435149216</td>\n      <td>1435149216</td>\n      <td>1435149216</td>\n      <td>de0960c6-fc19-403b-b852-7bca159cc3e5</td>\n      <td>1435149216</td>\n      <td>7710357167</td>\n      <td>None</td>\n    </tr>\n    <tr>\n      <th>1</th>\n      <td>02a74aef-0dc0-48fb-b0d3-70731900673d</td>\n      <td>7736182930</td>\n      <td>7736182930</td>\n      <td>7736182930</td>\n      <td>84925ecd-c713-420e-b1a4-683af576b9e9</td>\n      <td>7736182930</td>\n      <td>7707308480</td>\n      <td>None</td>\n    </tr>\n    <tr>\n      <th>2</th>\n      <td>06c265e1-678b-4668-a263-54c8a9bcf63b</td>\n      <td>6345012488</td>\n      <td>6345012488</td>\n      <td>6345012488</td>\n      <td>1d063c20-7aa0-46ad-9289-a1b9bfb28b87</td>\n      <td>1510012774</td>\n      <td>1510012774</td>\n      <td>None</td>\n    </tr>\n    <tr>\n      <th>3</th>\n      <td>06c265e1-678b-4668-a263-54c8a9bcf63b</td>\n      <td>6345012488</td>\n      <td>6345012488</td>\n      <td>6345012488</td>\n      <td>219cfb41-11cb-aae8-b709-0d5a6bd131db</td>\n      <td>1510012774</td>\n      <td>1510012774</td>\n      <td>None</td>\n    </tr>\n    <tr>\n      <th>4</th>\n      <td>0c62cca5-11ff-4c74-98b3-99bfba43f439</td>\n      <td>7736182930</td>\n      <td>7736182930</td>\n      <td>7736182930</td>\n      <td>86da896b-2ac2-40d9-b8fd-5afc5c6834ef</td>\n      <td>7736182930</td>\n      <td>7707308480</td>\n      <td>None</td>\n    </tr>\n    <tr>\n      <th>...</th>\n      <td>...</td>\n      <td>...</td>\n      <td>...</td>\n      <td>...</td>\n      <td>...</td>\n      <td>...</td>\n      <td>...</td>\n      <td>...</td>\n    </tr>\n    <tr>\n      <th>151</th>\n      <td>fb713851-be44-4799-9bd0-902ae17156aa</td>\n      <td>1435149216</td>\n      <td>1435149216</td>\n      <td>1435149216</td>\n      <td>0c28ef37-7a49-41ae-aa0a-9c5fcf3c7dcc</td>\n      <td>1435149216</td>\n      <td>7710357167</td>\n      <td>None</td>\n    </tr>\n    <tr>\n      <th>152</th>\n      <td>fe2b0f45-b439-47ba-98ec-b603db403de6</td>\n      <td>1101460616</td>\n      <td>1101460616</td>\n      <td>1101460616</td>\n      <td>114a6b3b-0786-4e3a-b781-0ea6bf86620f</td>\n      <td>1101460616</td>\n      <td>7707308480</td>\n      <td>None</td>\n    </tr>\n    <tr>\n      <th>153</th>\n      <td>fe2b0f45-b439-47ba-98ec-b603db403de6</td>\n      <td>1101460616</td>\n      <td>1101460616</td>\n      <td>1101460616</td>\n      <td>4902cf8b-8311-41e0-9ecf-f05640097c81</td>\n      <td>1101460616</td>\n      <td>7707308480</td>\n      <td>None</td>\n    </tr>\n    <tr>\n      <th>154</th>\n      <td>fe33caf4-1d35-4e0a-80ba-9706164e3018</td>\n      <td>2308131994</td>\n      <td>2308131994</td>\n      <td>2308131994</td>\n      <td>ff0817d0-30ce-4169-921e-75834f01b2d2</td>\n      <td>2308131994</td>\n      <td>7707308480</td>\n      <td>None</td>\n    </tr>\n    <tr>\n      <th>155</th>\n      <td>fe71dd72-4c08-423a-b593-622e066ca4b3</td>\n      <td>7736607502</td>\n      <td>7736607502</td>\n      <td>7736607502</td>\n      <td>005056be-1598-1eeb-8ed6-0c774e0f7be6</td>\n      <td>7706061801</td>\n      <td>7706061801</td>\n      <td>None</td>\n    </tr>\n  </tbody>\n</table>\n<p>156 rows × 8 columns</p>\n</div>"
     },
     "execution_count": 7,
     "metadata": {},
     "output_type": "execute_result"
    }
   ],
   "source": [
    "contracts_with_different_customer = pd.read_sql_query(\n",
    "    \"\"\"\n",
    "    SELECT c.guid, c.customer_inn, c.placer_inn, c.detached_org_inn, pn.guid, pn.customer_inn, pn.placer_inn, pn.detached_org_inn\n",
    "    FROM contract c\n",
    "    INNER JOIN purchase_notice_lot pnl on c.lot_guid = pnl.guid\n",
    "    LEFT JOIN purchase_notice_to_lot pntl on pnl.guid = pntl.purchase_notice_lot_guid\n",
    "    LEFT JOIN purchase_notice pn on pntl.purchase_notice_guid = pn.guid\n",
    "    WHERE\n",
    "    c.lot_guid is not null\n",
    "    AND c.emergency = 1\n",
    "    AND (c.customer_inn != pn.customer_inn or c.placer_inn != pn.placer_inn)\n",
    "    ;\n",
    "    \"\"\",\n",
    "    conn\n",
    ")\n",
    "\n",
    "contracts_with_different_customer"
   ],
   "metadata": {
    "collapsed": false,
    "pycharm": {
     "name": "#%%\n"
    }
   }
  },
  {
   "cell_type": "markdown",
   "source": [
    "Такие договоры существуют, поэтому необходимо будет добавить данные об изначальном заказчике в выборку"
   ],
   "metadata": {
    "collapsed": false,
    "pycharm": {
     "name": "#%% md\n"
    }
   }
  },
  {
   "cell_type": "markdown",
   "source": [
    "Дополним информацией о том, был ли договор завершен или расторгнут"
   ],
   "metadata": {
    "collapsed": false,
    "pycharm": {
     "name": "#%% md\n"
    }
   }
  },
  {
   "cell_type": "code",
   "execution_count": 8,
   "outputs": [
    {
     "data": {
      "text/plain": "                             contract_guid contract_registration_number  \\\n0     000efbce-29cc-4fda-ba27-e5b895f5b6ad      56684021776200003580001   \n1     0010055e-61aa-42c1-9ae5-cfadf002275c      76660000400200006120001   \n2     001170e0-57c5-4d89-89f2-e607079cd321      53821005886200000390001   \n3     00161a73-4f64-432b-915a-6d751c91d5a1      58603076205200000240001   \n4     0019ca0a-9df7-43fe-a57a-1a76ace715c4      83525147496200001260001   \n...                                    ...                          ...   \n7641  ffd13b8b-ffef-4b0d-8fa5-3214f3e44e2b      52312210286200000990001   \n7642  ffda639d-aada-44de-974a-4ce9ac345a55      67723011906200009850003   \n7643  ffe52c52-50b9-4962-8392-28ab996f7d62      56829018032200000820001   \n7644  ffeed1b5-bd37-4706-8109-95a9367e499e      56731033838200000460001   \n7645  fffb9623-244a-4c27-b1c7-4518ab6412bd      51431004812210000980001   \n\n      notice_not_placed_by_fz223p5s4  contract_extension  \\\n0                                  0                   1   \n1                                  0                   0   \n2                                  0                   0   \n3                                  0                   0   \n4                                  0                   0   \n...                              ...                 ...   \n7641                               0                   0   \n7642                               0                   0   \n7643                               0                   0   \n7644                               0                   0   \n7645                               0                   0   \n\n      contract_prolongation  customer_appeale_or_needs_approval  \\\n0                         0                                   0   \n1                         0                                   0   \n2                         0                                   0   \n3                         0                                   0   \n4                         0                                   0   \n...                     ...                                 ...   \n7641                      0                                   0   \n7642                      0                                   0   \n7643                      0                                   0   \n7644                      0                                   0   \n7645                      0                                   0   \n\n     customer_approval_or_antimonopoly_descision_date  \\\n0                                                None   \n1                                                None   \n2                                                None   \n3                                                None   \n4                                                None   \n...                                               ...   \n7641                                             None   \n7642                                             None   \n7643                                             None   \n7644                                             None   \n7645                                             None   \n\n     contract_plan_position_guid contract_create_date_time  \\\n0                           None       2020-12-02 05:02:53   \n1                           None       2020-08-12 04:13:04   \n2                           None       2020-08-13 00:50:19   \n3                           None       2020-12-19 17:15:48   \n4                           None       2020-11-16 08:51:47   \n...                          ...                       ...   \n7641                        None       2020-12-08 11:26:50   \n7642                        None       2020-11-11 10:04:03   \n7643                        None       2020-07-15 06:35:10   \n7644                        None       2020-12-21 07:26:42   \n7645                        None       2021-07-07 09:05:27   \n\n     contract_customer_inn  ... contract_end_execution_date  \\\n0               6684021776  ...                  2021-02-27   \n1               6660000400  ...                  2020-12-30   \n2               3821005886  ...                  2020-12-30   \n3               8603076205  ...                  2020-12-30   \n4               3525147496  ...                        None   \n...                    ...  ...                         ...   \n7641            2312210286  ...                        None   \n7642            7723011906  ...                  2020-12-30   \n7643            6829018032  ...                  2020-08-30   \n7644            6731033838  ...                  2020-12-27   \n7645            1431004812  ...                  2021-12-30   \n\n                       region_name notice_lot_initial_sum  \\\n0                Sverdlovskaya_obl             2453075.00   \n1                Sverdlovskaya_obl             6000000.00   \n2                   Irkutskaya_obl              243570.00   \n3     Hanty-Mansiiskii_AO_Iugra_AO               85820.00   \n4                 Vologodskaya_obl              358403.76   \n...                            ...                    ...   \n7641            Krasnodarskii_krai              294928.00   \n7642                        Moskva              557776.76   \n7643               Tambovskaya_obl            34650000.00   \n7644               Smolenskaya_obl              895400.00   \n7645            Saha_Jakutiya_Resp              600600.00   \n\n     notice_lot_starting_contract_price_rub  notice_lot_currency_code  \\\n0                                       NaN                       RUB   \n1                                       NaN                       RUB   \n2                                       NaN                       RUB   \n3                                       NaN                       RUB   \n4                                       NaN                       RUB   \n...                                     ...                       ...   \n7641                                    NaN                       RUB   \n7642                                    NaN                       RUB   \n7643                                    NaN                       RUB   \n7644                                    NaN                       RUB   \n7645                                    NaN                       RUB   \n\n      notice_lot_commodity_price notice_lot_commodity_price_rub  \\\n0                           None                           None   \n1                           None                           None   \n2                           None                           None   \n3                           None                           None   \n4                           None                           None   \n...                          ...                            ...   \n7641                        None                           None   \n7642                        None                           None   \n7643                        None                           None   \n7644                        None                           None   \n7645                        None                           None   \n\n     notice_lot_max_contract_price notice_lot_max_contract_price_rub  \\\n0                              NaN                              None   \n1                              NaN                              None   \n2                              NaN                              None   \n3                              NaN                              None   \n4                              NaN                              None   \n...                            ...                               ...   \n7641                           NaN                              None   \n7642                           NaN                              None   \n7643                           NaN                              None   \n7644                           NaN                              None   \n7645                           NaN                              None   \n\n      contract_is_complete  \n0                      1.0  \n1                      1.0  \n2                      1.0  \n3                      1.0  \n4                      1.0  \n...                    ...  \n7641                   NaN  \n7642                   1.0  \n7643                   1.0  \n7644                   NaN  \n7645                   1.0  \n\n[7646 rows x 39 columns]",
      "text/html": "<div>\n<style scoped>\n    .dataframe tbody tr th:only-of-type {\n        vertical-align: middle;\n    }\n\n    .dataframe tbody tr th {\n        vertical-align: top;\n    }\n\n    .dataframe thead th {\n        text-align: right;\n    }\n</style>\n<table border=\"1\" class=\"dataframe\">\n  <thead>\n    <tr style=\"text-align: right;\">\n      <th></th>\n      <th>contract_guid</th>\n      <th>contract_registration_number</th>\n      <th>notice_not_placed_by_fz223p5s4</th>\n      <th>contract_extension</th>\n      <th>contract_prolongation</th>\n      <th>customer_appeale_or_needs_approval</th>\n      <th>customer_approval_or_antimonopoly_descision_date</th>\n      <th>contract_plan_position_guid</th>\n      <th>contract_create_date_time</th>\n      <th>contract_customer_inn</th>\n      <th>...</th>\n      <th>contract_end_execution_date</th>\n      <th>region_name</th>\n      <th>notice_lot_initial_sum</th>\n      <th>notice_lot_starting_contract_price_rub</th>\n      <th>notice_lot_currency_code</th>\n      <th>notice_lot_commodity_price</th>\n      <th>notice_lot_commodity_price_rub</th>\n      <th>notice_lot_max_contract_price</th>\n      <th>notice_lot_max_contract_price_rub</th>\n      <th>contract_is_complete</th>\n    </tr>\n  </thead>\n  <tbody>\n    <tr>\n      <th>0</th>\n      <td>000efbce-29cc-4fda-ba27-e5b895f5b6ad</td>\n      <td>56684021776200003580001</td>\n      <td>0</td>\n      <td>1</td>\n      <td>0</td>\n      <td>0</td>\n      <td>None</td>\n      <td>None</td>\n      <td>2020-12-02 05:02:53</td>\n      <td>6684021776</td>\n      <td>...</td>\n      <td>2021-02-27</td>\n      <td>Sverdlovskaya_obl</td>\n      <td>2453075.00</td>\n      <td>NaN</td>\n      <td>RUB</td>\n      <td>None</td>\n      <td>None</td>\n      <td>NaN</td>\n      <td>None</td>\n      <td>1.0</td>\n    </tr>\n    <tr>\n      <th>1</th>\n      <td>0010055e-61aa-42c1-9ae5-cfadf002275c</td>\n      <td>76660000400200006120001</td>\n      <td>0</td>\n      <td>0</td>\n      <td>0</td>\n      <td>0</td>\n      <td>None</td>\n      <td>None</td>\n      <td>2020-08-12 04:13:04</td>\n      <td>6660000400</td>\n      <td>...</td>\n      <td>2020-12-30</td>\n      <td>Sverdlovskaya_obl</td>\n      <td>6000000.00</td>\n      <td>NaN</td>\n      <td>RUB</td>\n      <td>None</td>\n      <td>None</td>\n      <td>NaN</td>\n      <td>None</td>\n      <td>1.0</td>\n    </tr>\n    <tr>\n      <th>2</th>\n      <td>001170e0-57c5-4d89-89f2-e607079cd321</td>\n      <td>53821005886200000390001</td>\n      <td>0</td>\n      <td>0</td>\n      <td>0</td>\n      <td>0</td>\n      <td>None</td>\n      <td>None</td>\n      <td>2020-08-13 00:50:19</td>\n      <td>3821005886</td>\n      <td>...</td>\n      <td>2020-12-30</td>\n      <td>Irkutskaya_obl</td>\n      <td>243570.00</td>\n      <td>NaN</td>\n      <td>RUB</td>\n      <td>None</td>\n      <td>None</td>\n      <td>NaN</td>\n      <td>None</td>\n      <td>1.0</td>\n    </tr>\n    <tr>\n      <th>3</th>\n      <td>00161a73-4f64-432b-915a-6d751c91d5a1</td>\n      <td>58603076205200000240001</td>\n      <td>0</td>\n      <td>0</td>\n      <td>0</td>\n      <td>0</td>\n      <td>None</td>\n      <td>None</td>\n      <td>2020-12-19 17:15:48</td>\n      <td>8603076205</td>\n      <td>...</td>\n      <td>2020-12-30</td>\n      <td>Hanty-Mansiiskii_AO_Iugra_AO</td>\n      <td>85820.00</td>\n      <td>NaN</td>\n      <td>RUB</td>\n      <td>None</td>\n      <td>None</td>\n      <td>NaN</td>\n      <td>None</td>\n      <td>1.0</td>\n    </tr>\n    <tr>\n      <th>4</th>\n      <td>0019ca0a-9df7-43fe-a57a-1a76ace715c4</td>\n      <td>83525147496200001260001</td>\n      <td>0</td>\n      <td>0</td>\n      <td>0</td>\n      <td>0</td>\n      <td>None</td>\n      <td>None</td>\n      <td>2020-11-16 08:51:47</td>\n      <td>3525147496</td>\n      <td>...</td>\n      <td>None</td>\n      <td>Vologodskaya_obl</td>\n      <td>358403.76</td>\n      <td>NaN</td>\n      <td>RUB</td>\n      <td>None</td>\n      <td>None</td>\n      <td>NaN</td>\n      <td>None</td>\n      <td>1.0</td>\n    </tr>\n    <tr>\n      <th>...</th>\n      <td>...</td>\n      <td>...</td>\n      <td>...</td>\n      <td>...</td>\n      <td>...</td>\n      <td>...</td>\n      <td>...</td>\n      <td>...</td>\n      <td>...</td>\n      <td>...</td>\n      <td>...</td>\n      <td>...</td>\n      <td>...</td>\n      <td>...</td>\n      <td>...</td>\n      <td>...</td>\n      <td>...</td>\n      <td>...</td>\n      <td>...</td>\n      <td>...</td>\n      <td>...</td>\n    </tr>\n    <tr>\n      <th>7641</th>\n      <td>ffd13b8b-ffef-4b0d-8fa5-3214f3e44e2b</td>\n      <td>52312210286200000990001</td>\n      <td>0</td>\n      <td>0</td>\n      <td>0</td>\n      <td>0</td>\n      <td>None</td>\n      <td>None</td>\n      <td>2020-12-08 11:26:50</td>\n      <td>2312210286</td>\n      <td>...</td>\n      <td>None</td>\n      <td>Krasnodarskii_krai</td>\n      <td>294928.00</td>\n      <td>NaN</td>\n      <td>RUB</td>\n      <td>None</td>\n      <td>None</td>\n      <td>NaN</td>\n      <td>None</td>\n      <td>NaN</td>\n    </tr>\n    <tr>\n      <th>7642</th>\n      <td>ffda639d-aada-44de-974a-4ce9ac345a55</td>\n      <td>67723011906200009850003</td>\n      <td>0</td>\n      <td>0</td>\n      <td>0</td>\n      <td>0</td>\n      <td>None</td>\n      <td>None</td>\n      <td>2020-11-11 10:04:03</td>\n      <td>7723011906</td>\n      <td>...</td>\n      <td>2020-12-30</td>\n      <td>Moskva</td>\n      <td>557776.76</td>\n      <td>NaN</td>\n      <td>RUB</td>\n      <td>None</td>\n      <td>None</td>\n      <td>NaN</td>\n      <td>None</td>\n      <td>1.0</td>\n    </tr>\n    <tr>\n      <th>7643</th>\n      <td>ffe52c52-50b9-4962-8392-28ab996f7d62</td>\n      <td>56829018032200000820001</td>\n      <td>0</td>\n      <td>0</td>\n      <td>0</td>\n      <td>0</td>\n      <td>None</td>\n      <td>None</td>\n      <td>2020-07-15 06:35:10</td>\n      <td>6829018032</td>\n      <td>...</td>\n      <td>2020-08-30</td>\n      <td>Tambovskaya_obl</td>\n      <td>34650000.00</td>\n      <td>NaN</td>\n      <td>RUB</td>\n      <td>None</td>\n      <td>None</td>\n      <td>NaN</td>\n      <td>None</td>\n      <td>1.0</td>\n    </tr>\n    <tr>\n      <th>7644</th>\n      <td>ffeed1b5-bd37-4706-8109-95a9367e499e</td>\n      <td>56731033838200000460001</td>\n      <td>0</td>\n      <td>0</td>\n      <td>0</td>\n      <td>0</td>\n      <td>None</td>\n      <td>None</td>\n      <td>2020-12-21 07:26:42</td>\n      <td>6731033838</td>\n      <td>...</td>\n      <td>2020-12-27</td>\n      <td>Smolenskaya_obl</td>\n      <td>895400.00</td>\n      <td>NaN</td>\n      <td>RUB</td>\n      <td>None</td>\n      <td>None</td>\n      <td>NaN</td>\n      <td>None</td>\n      <td>NaN</td>\n    </tr>\n    <tr>\n      <th>7645</th>\n      <td>fffb9623-244a-4c27-b1c7-4518ab6412bd</td>\n      <td>51431004812210000980001</td>\n      <td>0</td>\n      <td>0</td>\n      <td>0</td>\n      <td>0</td>\n      <td>None</td>\n      <td>None</td>\n      <td>2021-07-07 09:05:27</td>\n      <td>1431004812</td>\n      <td>...</td>\n      <td>2021-12-30</td>\n      <td>Saha_Jakutiya_Resp</td>\n      <td>600600.00</td>\n      <td>NaN</td>\n      <td>RUB</td>\n      <td>None</td>\n      <td>None</td>\n      <td>NaN</td>\n      <td>None</td>\n      <td>1.0</td>\n    </tr>\n  </tbody>\n</table>\n<p>7646 rows × 39 columns</p>\n</div>"
     },
     "execution_count": 8,
     "metadata": {},
     "output_type": "execute_result"
    }
   ],
   "source": [
    "covid_contracts_performance_with_lot = pd.read_sql_query(\n",
    "    \"\"\"\n",
    "    SELECT c.guid as contract_guid, c.registration_number as contract_registration_number,\n",
    "    c.notice_not_placed_by_fz223p5s4 as notice_not_placed_by_fz223p5s4,\n",
    "    c.extension as contract_extension, c.prolongation as contract_prolongation,\n",
    "    c.customer_appeale_or_needs_approval as customer_appeale_or_needs_approval,\n",
    "    c.customer_approval_or_antimonopoly_descision_date as customer_approval_or_antimonopoly_descision_date,\n",
    "    c.plan_position_guid as contract_plan_position_guid,\n",
    "    c.create_date_time as contract_create_date_time,\n",
    "    c.customer_inn as contract_customer_inn, c.placer_inn as contract_placer_inn, c.detached_org_inn as contract_detached_org_inn,\n",
    "    c.publication_date as contract_publication_date, c.contract_status_code as contract_publication_date,\n",
    "    c.emergency as emergency, c.provider as provider, c.provider_code as provider_code, c.contract_reg_number as contract_reg_number,\n",
    "    c.contract_date as contract_date, c.digital_purchase as digital_purchase,\n",
    "    c.purchase_notice_info_guid as purchase_notice_info_guid, c.purchase_notice_info_number as purchase_notice_info_number,\n",
    "    c.lot_guid as lot_guid, c.subject_contract as subject_contract, c.purchase_type_code as purchase_type_code,\n",
    "    c.price as contract_price, c.rub_price as contract_rub_price, c.currency_code as contract_currency_code,\n",
    "    c.start_execution_date as contract_start_execution_date, c.end_execution_date as contract_end_execution_date,\n",
    "    c.region_name as region_name,\n",
    "    pnld.initial_sum as notice_lot_initial_sum, pnld.starting_contract_price_rub as notice_lot_starting_contract_price_rub,\n",
    "    pnld.currency_code as notice_lot_currency_code,\n",
    "    pnld.commodity_price as notice_lot_commodity_price, pnld.commodity_price_rub as notice_lot_commodity_price_rub,\n",
    "    pnld.max_contract_price as notice_lot_max_contract_price, pnld.max_contract_price_rub as notice_lot_max_contract_price_rub,\n",
    "    cp.is_complete as contract_is_complete\n",
    "    FROM contract c\n",
    "    INNER JOIN (\n",
    "        SELECT contract_reg_number, MAX(version) ver\n",
    "        FROM contract\n",
    "        WHERE emergency = 1\n",
    "        AND lot_guid is not null\n",
    "        GROUP BY contract_reg_number\n",
    "    ) tmp ON c.contract_reg_number = tmp.contract_reg_number AND c.version = tmp.ver\n",
    "    INNER JOIN purchase_notice_lot pnl ON c.lot_guid = pnl.guid\n",
    "    LEFT JOIN purchase_notice_lot_data pnld on pnl.guid = pnld.purchase_notice_lot_guid\n",
    "    LEFT JOIN (\n",
    "        SELECT c2.contract_reg_number, MIN(is_complete) as is_complete\n",
    "        FROM contract c2\n",
    "        LEFT JOIN contract_performance cp2 ON c2.contract_reg_number = cp2.contract_registration_number\n",
    "        WHERE c2.emergency = 1\n",
    "        AND c2.lot_guid is not null\n",
    "        GROUP BY c2.contract_reg_number\n",
    "    ) cp ON cp.contract_reg_number = c.contract_reg_number\n",
    "    \"\"\",\n",
    "    conn\n",
    ")\n",
    "\n",
    "covid_contracts_performance_with_lot"
   ],
   "metadata": {
    "collapsed": false,
    "pycharm": {
     "name": "#%%\n"
    }
   }
  },
  {
   "cell_type": "markdown",
   "source": [
    "Необходимо дополнить выборку информацией о позициях договора"
   ],
   "metadata": {
    "collapsed": false,
    "pycharm": {
     "name": "#%% md\n"
    }
   }
  },
  {
   "cell_type": "code",
   "execution_count": 9,
   "outputs": [
    {
     "data": {
      "text/plain": "                              contract_guid contract_registration_number  \\\n0      000efbce-29cc-4fda-ba27-e5b895f5b6ad      56684021776200003580001   \n1      000efbce-29cc-4fda-ba27-e5b895f5b6ad      56684021776200003580001   \n2      000efbce-29cc-4fda-ba27-e5b895f5b6ad      56684021776200003580001   \n3      000efbce-29cc-4fda-ba27-e5b895f5b6ad      56684021776200003580001   \n4      000efbce-29cc-4fda-ba27-e5b895f5b6ad      56684021776200003580001   \n...                                     ...                          ...   \n11305  ffd13b8b-ffef-4b0d-8fa5-3214f3e44e2b      52312210286200000990001   \n11306  ffda639d-aada-44de-974a-4ce9ac345a55      67723011906200009850003   \n11307  ffe52c52-50b9-4962-8392-28ab996f7d62      56829018032200000820001   \n11308  ffeed1b5-bd37-4706-8109-95a9367e499e      56731033838200000460001   \n11309  fffb9623-244a-4c27-b1c7-4518ab6412bd      51431004812210000980001   \n\n       notice_not_placed_by_fz223p5s4  contract_extension  \\\n0                                   0                   1   \n1                                   0                   1   \n2                                   0                   1   \n3                                   0                   1   \n4                                   0                   1   \n...                               ...                 ...   \n11305                               0                   0   \n11306                               0                   0   \n11307                               0                   0   \n11308                               0                   0   \n11309                               0                   0   \n\n       contract_prolongation  customer_appeale_or_needs_approval  \\\n0                          0                                   0   \n1                          0                                   0   \n2                          0                                   0   \n3                          0                                   0   \n4                          0                                   0   \n...                      ...                                 ...   \n11305                      0                                   0   \n11306                      0                                   0   \n11307                      0                                   0   \n11308                      0                                   0   \n11309                      0                                   0   \n\n      customer_approval_or_antimonopoly_descision_date  \\\n0                                                 None   \n1                                                 None   \n2                                                 None   \n3                                                 None   \n4                                                 None   \n...                                                ...   \n11305                                             None   \n11306                                             None   \n11307                                             None   \n11308                                             None   \n11309                                             None   \n\n      contract_plan_position_guid contract_create_date_time  \\\n0                            None       2020-12-02 05:02:53   \n1                            None       2020-12-02 05:02:53   \n2                            None       2020-12-02 05:02:53   \n3                            None       2020-12-02 05:02:53   \n4                            None       2020-12-02 05:02:53   \n...                           ...                       ...   \n11305                        None       2020-12-08 11:26:50   \n11306                        None       2020-11-11 10:04:03   \n11307                        None       2020-07-15 06:35:10   \n11308                        None       2020-12-21 07:26:42   \n11309                        None       2021-07-07 09:05:27   \n\n      contract_customer_inn  ...  \\\n0                6684021776  ...   \n1                6684021776  ...   \n2                6684021776  ...   \n3                6684021776  ...   \n4                6684021776  ...   \n...                     ...  ...   \n11305            2312210286  ...   \n11306            7723011906  ...   \n11307            6829018032  ...   \n11308            6731033838  ...   \n11309            1431004812  ...   \n\n                                     position_okpd2_name  \\\n0      Препараты антибактериальные для системного исп...   \n1      Препараты антибактериальные для системного исп...   \n2      Препараты антибактериальные для системного исп...   \n3                                         Антикоагулянты   \n4      Препараты антибактериальные для системного исп...   \n...                                                  ...   \n11305  Работы строительные по прокладке местных трубо...   \n11306  Услуги организаций санитарно-эпидемиологическо...   \n11307  Одежда производственная и профессиональная про...   \n11308  Комбинезоны мужские производственные и професс...   \n11309                            Препараты лекарственные   \n\n      position_country_code position_producer_country  \\\n0                      None                      None   \n1                      None                      None   \n2                      None                      None   \n3                      None                      None   \n4                      None                      None   \n...                     ...                       ...   \n11305                  None                      None   \n11306                  None                      None   \n11307                  None                      None   \n11308                  None                      None   \n11309                  None                      None   \n\n      position_impossible_to_determine_attr  position_okei_code  \\\n0                                         0                 778   \n1                                         0                 778   \n2                                         0                 778   \n3                                         0                 778   \n4                                         0                 778   \n...                                     ...                 ...   \n11305                                     1                None   \n11306                                     0                 796   \n11307                                     1                None   \n11308                                     0                 796   \n11309                                     0                 778   \n\n       position_okei_name position_qty position_unit_price  \\\n0                Упаковка        700.0               750.0   \n1                Упаковка        200.0              1600.0   \n2                Упаковка        500.0               940.0   \n3                Упаковка         66.0              2595.0   \n4                Упаковка          6.0             17050.0   \n...                   ...          ...                 ...   \n11305                None          NaN                 NaN   \n11306               Штука         44.0                 NaN   \n11307                None          NaN                 NaN   \n11308               Штука        814.0                 NaN   \n11309            Упаковка         14.0             54600.0   \n\n      position_rub_unit_price  position_currency_code  \n0                         NaN                    None  \n1                         NaN                    None  \n2                         NaN                    None  \n3                         NaN                    None  \n4                         NaN                    None  \n...                       ...                     ...  \n11305                     NaN                    None  \n11306                     NaN                    None  \n11307                     NaN                    None  \n11308                     NaN                    None  \n11309                     NaN                     RUB  \n\n[11310 rows x 51 columns]",
      "text/html": "<div>\n<style scoped>\n    .dataframe tbody tr th:only-of-type {\n        vertical-align: middle;\n    }\n\n    .dataframe tbody tr th {\n        vertical-align: top;\n    }\n\n    .dataframe thead th {\n        text-align: right;\n    }\n</style>\n<table border=\"1\" class=\"dataframe\">\n  <thead>\n    <tr style=\"text-align: right;\">\n      <th></th>\n      <th>contract_guid</th>\n      <th>contract_registration_number</th>\n      <th>notice_not_placed_by_fz223p5s4</th>\n      <th>contract_extension</th>\n      <th>contract_prolongation</th>\n      <th>customer_appeale_or_needs_approval</th>\n      <th>customer_approval_or_antimonopoly_descision_date</th>\n      <th>contract_plan_position_guid</th>\n      <th>contract_create_date_time</th>\n      <th>contract_customer_inn</th>\n      <th>...</th>\n      <th>position_okpd2_name</th>\n      <th>position_country_code</th>\n      <th>position_producer_country</th>\n      <th>position_impossible_to_determine_attr</th>\n      <th>position_okei_code</th>\n      <th>position_okei_name</th>\n      <th>position_qty</th>\n      <th>position_unit_price</th>\n      <th>position_rub_unit_price</th>\n      <th>position_currency_code</th>\n    </tr>\n  </thead>\n  <tbody>\n    <tr>\n      <th>0</th>\n      <td>000efbce-29cc-4fda-ba27-e5b895f5b6ad</td>\n      <td>56684021776200003580001</td>\n      <td>0</td>\n      <td>1</td>\n      <td>0</td>\n      <td>0</td>\n      <td>None</td>\n      <td>None</td>\n      <td>2020-12-02 05:02:53</td>\n      <td>6684021776</td>\n      <td>...</td>\n      <td>Препараты антибактериальные для системного исп...</td>\n      <td>None</td>\n      <td>None</td>\n      <td>0</td>\n      <td>778</td>\n      <td>Упаковка</td>\n      <td>700.0</td>\n      <td>750.0</td>\n      <td>NaN</td>\n      <td>None</td>\n    </tr>\n    <tr>\n      <th>1</th>\n      <td>000efbce-29cc-4fda-ba27-e5b895f5b6ad</td>\n      <td>56684021776200003580001</td>\n      <td>0</td>\n      <td>1</td>\n      <td>0</td>\n      <td>0</td>\n      <td>None</td>\n      <td>None</td>\n      <td>2020-12-02 05:02:53</td>\n      <td>6684021776</td>\n      <td>...</td>\n      <td>Препараты антибактериальные для системного исп...</td>\n      <td>None</td>\n      <td>None</td>\n      <td>0</td>\n      <td>778</td>\n      <td>Упаковка</td>\n      <td>200.0</td>\n      <td>1600.0</td>\n      <td>NaN</td>\n      <td>None</td>\n    </tr>\n    <tr>\n      <th>2</th>\n      <td>000efbce-29cc-4fda-ba27-e5b895f5b6ad</td>\n      <td>56684021776200003580001</td>\n      <td>0</td>\n      <td>1</td>\n      <td>0</td>\n      <td>0</td>\n      <td>None</td>\n      <td>None</td>\n      <td>2020-12-02 05:02:53</td>\n      <td>6684021776</td>\n      <td>...</td>\n      <td>Препараты антибактериальные для системного исп...</td>\n      <td>None</td>\n      <td>None</td>\n      <td>0</td>\n      <td>778</td>\n      <td>Упаковка</td>\n      <td>500.0</td>\n      <td>940.0</td>\n      <td>NaN</td>\n      <td>None</td>\n    </tr>\n    <tr>\n      <th>3</th>\n      <td>000efbce-29cc-4fda-ba27-e5b895f5b6ad</td>\n      <td>56684021776200003580001</td>\n      <td>0</td>\n      <td>1</td>\n      <td>0</td>\n      <td>0</td>\n      <td>None</td>\n      <td>None</td>\n      <td>2020-12-02 05:02:53</td>\n      <td>6684021776</td>\n      <td>...</td>\n      <td>Антикоагулянты</td>\n      <td>None</td>\n      <td>None</td>\n      <td>0</td>\n      <td>778</td>\n      <td>Упаковка</td>\n      <td>66.0</td>\n      <td>2595.0</td>\n      <td>NaN</td>\n      <td>None</td>\n    </tr>\n    <tr>\n      <th>4</th>\n      <td>000efbce-29cc-4fda-ba27-e5b895f5b6ad</td>\n      <td>56684021776200003580001</td>\n      <td>0</td>\n      <td>1</td>\n      <td>0</td>\n      <td>0</td>\n      <td>None</td>\n      <td>None</td>\n      <td>2020-12-02 05:02:53</td>\n      <td>6684021776</td>\n      <td>...</td>\n      <td>Препараты антибактериальные для системного исп...</td>\n      <td>None</td>\n      <td>None</td>\n      <td>0</td>\n      <td>778</td>\n      <td>Упаковка</td>\n      <td>6.0</td>\n      <td>17050.0</td>\n      <td>NaN</td>\n      <td>None</td>\n    </tr>\n    <tr>\n      <th>...</th>\n      <td>...</td>\n      <td>...</td>\n      <td>...</td>\n      <td>...</td>\n      <td>...</td>\n      <td>...</td>\n      <td>...</td>\n      <td>...</td>\n      <td>...</td>\n      <td>...</td>\n      <td>...</td>\n      <td>...</td>\n      <td>...</td>\n      <td>...</td>\n      <td>...</td>\n      <td>...</td>\n      <td>...</td>\n      <td>...</td>\n      <td>...</td>\n      <td>...</td>\n      <td>...</td>\n    </tr>\n    <tr>\n      <th>11305</th>\n      <td>ffd13b8b-ffef-4b0d-8fa5-3214f3e44e2b</td>\n      <td>52312210286200000990001</td>\n      <td>0</td>\n      <td>0</td>\n      <td>0</td>\n      <td>0</td>\n      <td>None</td>\n      <td>None</td>\n      <td>2020-12-08 11:26:50</td>\n      <td>2312210286</td>\n      <td>...</td>\n      <td>Работы строительные по прокладке местных трубо...</td>\n      <td>None</td>\n      <td>None</td>\n      <td>1</td>\n      <td>None</td>\n      <td>None</td>\n      <td>NaN</td>\n      <td>NaN</td>\n      <td>NaN</td>\n      <td>None</td>\n    </tr>\n    <tr>\n      <th>11306</th>\n      <td>ffda639d-aada-44de-974a-4ce9ac345a55</td>\n      <td>67723011906200009850003</td>\n      <td>0</td>\n      <td>0</td>\n      <td>0</td>\n      <td>0</td>\n      <td>None</td>\n      <td>None</td>\n      <td>2020-11-11 10:04:03</td>\n      <td>7723011906</td>\n      <td>...</td>\n      <td>Услуги организаций санитарно-эпидемиологическо...</td>\n      <td>None</td>\n      <td>None</td>\n      <td>0</td>\n      <td>796</td>\n      <td>Штука</td>\n      <td>44.0</td>\n      <td>NaN</td>\n      <td>NaN</td>\n      <td>None</td>\n    </tr>\n    <tr>\n      <th>11307</th>\n      <td>ffe52c52-50b9-4962-8392-28ab996f7d62</td>\n      <td>56829018032200000820001</td>\n      <td>0</td>\n      <td>0</td>\n      <td>0</td>\n      <td>0</td>\n      <td>None</td>\n      <td>None</td>\n      <td>2020-07-15 06:35:10</td>\n      <td>6829018032</td>\n      <td>...</td>\n      <td>Одежда производственная и профессиональная про...</td>\n      <td>None</td>\n      <td>None</td>\n      <td>1</td>\n      <td>None</td>\n      <td>None</td>\n      <td>NaN</td>\n      <td>NaN</td>\n      <td>NaN</td>\n      <td>None</td>\n    </tr>\n    <tr>\n      <th>11308</th>\n      <td>ffeed1b5-bd37-4706-8109-95a9367e499e</td>\n      <td>56731033838200000460001</td>\n      <td>0</td>\n      <td>0</td>\n      <td>0</td>\n      <td>0</td>\n      <td>None</td>\n      <td>None</td>\n      <td>2020-12-21 07:26:42</td>\n      <td>6731033838</td>\n      <td>...</td>\n      <td>Комбинезоны мужские производственные и професс...</td>\n      <td>None</td>\n      <td>None</td>\n      <td>0</td>\n      <td>796</td>\n      <td>Штука</td>\n      <td>814.0</td>\n      <td>NaN</td>\n      <td>NaN</td>\n      <td>None</td>\n    </tr>\n    <tr>\n      <th>11309</th>\n      <td>fffb9623-244a-4c27-b1c7-4518ab6412bd</td>\n      <td>51431004812210000980001</td>\n      <td>0</td>\n      <td>0</td>\n      <td>0</td>\n      <td>0</td>\n      <td>None</td>\n      <td>None</td>\n      <td>2021-07-07 09:05:27</td>\n      <td>1431004812</td>\n      <td>...</td>\n      <td>Препараты лекарственные</td>\n      <td>None</td>\n      <td>None</td>\n      <td>0</td>\n      <td>778</td>\n      <td>Упаковка</td>\n      <td>14.0</td>\n      <td>54600.0</td>\n      <td>NaN</td>\n      <td>RUB</td>\n    </tr>\n  </tbody>\n</table>\n<p>11310 rows × 51 columns</p>\n</div>"
     },
     "execution_count": 9,
     "metadata": {},
     "output_type": "execute_result"
    }
   ],
   "source": [
    "covid_contracts_positions_with_lot = pd.read_sql_query(\n",
    "    \"\"\"\n",
    "    SELECT c.guid as contract_guid, c.registration_number as contract_registration_number,\n",
    "    c.notice_not_placed_by_fz223p5s4 as notice_not_placed_by_fz223p5s4,\n",
    "    c.extension as contract_extension, c.prolongation as contract_prolongation,\n",
    "    c.customer_appeale_or_needs_approval as customer_appeale_or_needs_approval,\n",
    "    c.customer_approval_or_antimonopoly_descision_date as customer_approval_or_antimonopoly_descision_date,\n",
    "    c.plan_position_guid as contract_plan_position_guid,\n",
    "    c.create_date_time as contract_create_date_time,\n",
    "    c.customer_inn as contract_customer_inn, c.placer_inn as contract_placer_inn, c.detached_org_inn as contract_detached_org_inn,\n",
    "    c.publication_date as contract_publication_date, c.contract_status_code as contract_publication_date,\n",
    "    c.emergency as emergency, c.provider as provider, c.provider_code as provider_code, c.contract_reg_number as contract_reg_number,\n",
    "    c.contract_date as contract_date, c.digital_purchase as digital_purchase,\n",
    "    c.purchase_notice_info_guid as purchase_notice_info_guid, c.purchase_notice_info_number as purchase_notice_info_number,\n",
    "    c.lot_guid as lot_guid, c.subject_contract as subject_contract, c.purchase_type_code as purchase_type_code,\n",
    "    c.price as contract_price, c.rub_price as contract_rub_price, c.currency_code as contract_currency_code,\n",
    "    c.start_execution_date as contract_start_execution_date, c.end_execution_date as contract_end_execution_date,\n",
    "    c.region_name as region_name,\n",
    "    pnld.initial_sum as notice_lot_initial_sum, pnld.starting_contract_price_rub as notice_lot_starting_contract_price_rub,\n",
    "    pnld.currency_code as notice_lot_currency_code,\n",
    "    pnld.commodity_price as notice_lot_commodity_price, pnld.commodity_price_rub as notice_lot_commodity_price_rub,\n",
    "    pnld.max_contract_price as notice_lot_max_contract_price, pnld.max_contract_price_rub as notice_lot_max_contract_price_rub,\n",
    "    cp.is_complete as contract_is_complete,\n",
    "    cpos.name as contract_position_name,\n",
    "    cpos.okpd2_code as position_okpd2_code, cpos.okpd2_name as position_okpd2_name,\n",
    "    cpos.country_code as position_country_code, cpos.producer_country as position_producer_country,\n",
    "    cpos.impossible_to_determine_attr as position_impossible_to_determine_attr, cpos.okei_code as position_okei_code,\n",
    "    cpos.okei_name as position_okei_name, cpos.qty as position_qty, cpos.unit_price as position_unit_price,\n",
    "    cpos.rub_unit_price as position_rub_unit_price, cpos.currency_code as position_currency_code\n",
    "    FROM contract c\n",
    "    INNER JOIN (\n",
    "        SELECT contract_reg_number, MAX(version) ver\n",
    "        FROM contract\n",
    "        WHERE emergency = 1\n",
    "        AND lot_guid is not null\n",
    "        GROUP BY contract_reg_number\n",
    "    ) tmp ON c.contract_reg_number = tmp.contract_reg_number AND c.version = tmp.ver\n",
    "    INNER JOIN purchase_notice_lot pnl ON c.lot_guid = pnl.guid\n",
    "    LEFT JOIN purchase_notice_lot_data pnld on pnl.guid = pnld.purchase_notice_lot_guid\n",
    "    LEFT JOIN (\n",
    "        SELECT c2.contract_reg_number, MIN(is_complete) as is_complete\n",
    "        FROM contract c2\n",
    "        LEFT JOIN contract_performance cp2 ON c2.contract_reg_number = cp2.contract_registration_number\n",
    "        WHERE c2.emergency = 1\n",
    "        AND c2.lot_guid is not null\n",
    "        GROUP BY c2.contract_reg_number\n",
    "    ) cp ON cp.contract_reg_number = c.contract_reg_number\n",
    "    LEFT JOIN position_to_contract ptc on c.guid = ptc.contract_guid\n",
    "    LEFT JOIN contract_position cpos on ptc.position_guid = cpos.guid\n",
    "    \"\"\",\n",
    "    conn\n",
    ")\n",
    "\n",
    "covid_contracts_positions_with_lot"
   ],
   "metadata": {
    "collapsed": false,
    "pycharm": {
     "name": "#%%\n"
    }
   }
  },
  {
   "cell_type": "markdown",
   "source": [
    "Добавим информацию о том, сколько договоров заключено по лоту в выборку."
   ],
   "metadata": {
    "collapsed": false,
    "pycharm": {
     "name": "#%% md\n"
    }
   }
  },
  {
   "cell_type": "code",
   "execution_count": 10,
   "outputs": [
    {
     "data": {
      "text/plain": "                                  lot_guid  contracts_for_lot\n0     00069375-47f6-40d8-8b20-df78140b1416                  1\n1     001180aa-ec39-fe24-e63b-de59c6c8b320                  1\n2     0017ef8e-08d7-4175-a7fd-059f347b92a2                  1\n3     001b3f81-61cb-44be-85c6-c54ad269bc50                  1\n4     0024ab3a-2d0b-1777-ac85-fe8b9ab39c2d                  1\n...                                    ...                ...\n7483  ffe5b98d-3546-41ac-9caf-ec25916054ca                  1\n7484  ffea1521-4052-4501-ab6f-46b57d785c44                  1\n7485  fff0fffc-00bc-49c4-a131-fcc41d1f70dd                  1\n7486  fff3b4ba-20f9-451e-8ecd-d0c185e2cf56                  1\n7487  fff43019-a748-4955-af26-6f4f1488571f                  1\n\n[7488 rows x 2 columns]",
      "text/html": "<div>\n<style scoped>\n    .dataframe tbody tr th:only-of-type {\n        vertical-align: middle;\n    }\n\n    .dataframe tbody tr th {\n        vertical-align: top;\n    }\n\n    .dataframe thead th {\n        text-align: right;\n    }\n</style>\n<table border=\"1\" class=\"dataframe\">\n  <thead>\n    <tr style=\"text-align: right;\">\n      <th></th>\n      <th>lot_guid</th>\n      <th>contracts_for_lot</th>\n    </tr>\n  </thead>\n  <tbody>\n    <tr>\n      <th>0</th>\n      <td>00069375-47f6-40d8-8b20-df78140b1416</td>\n      <td>1</td>\n    </tr>\n    <tr>\n      <th>1</th>\n      <td>001180aa-ec39-fe24-e63b-de59c6c8b320</td>\n      <td>1</td>\n    </tr>\n    <tr>\n      <th>2</th>\n      <td>0017ef8e-08d7-4175-a7fd-059f347b92a2</td>\n      <td>1</td>\n    </tr>\n    <tr>\n      <th>3</th>\n      <td>001b3f81-61cb-44be-85c6-c54ad269bc50</td>\n      <td>1</td>\n    </tr>\n    <tr>\n      <th>4</th>\n      <td>0024ab3a-2d0b-1777-ac85-fe8b9ab39c2d</td>\n      <td>1</td>\n    </tr>\n    <tr>\n      <th>...</th>\n      <td>...</td>\n      <td>...</td>\n    </tr>\n    <tr>\n      <th>7483</th>\n      <td>ffe5b98d-3546-41ac-9caf-ec25916054ca</td>\n      <td>1</td>\n    </tr>\n    <tr>\n      <th>7484</th>\n      <td>ffea1521-4052-4501-ab6f-46b57d785c44</td>\n      <td>1</td>\n    </tr>\n    <tr>\n      <th>7485</th>\n      <td>fff0fffc-00bc-49c4-a131-fcc41d1f70dd</td>\n      <td>1</td>\n    </tr>\n    <tr>\n      <th>7486</th>\n      <td>fff3b4ba-20f9-451e-8ecd-d0c185e2cf56</td>\n      <td>1</td>\n    </tr>\n    <tr>\n      <th>7487</th>\n      <td>fff43019-a748-4955-af26-6f4f1488571f</td>\n      <td>1</td>\n    </tr>\n  </tbody>\n</table>\n<p>7488 rows × 2 columns</p>\n</div>"
     },
     "execution_count": 10,
     "metadata": {},
     "output_type": "execute_result"
    }
   ],
   "source": [
    "contracts_count_for_lot = pd.read_sql_query(\n",
    "    \"\"\"\n",
    "    SELECT lot_guid, COUNT(*) as contracts_for_lot\n",
    "        FROM contract c\n",
    "        INNER JOIN (\n",
    "            SELECT contract_reg_number, MAX(version) ver\n",
    "            FROM contract\n",
    "            WHERE emergency = 1\n",
    "            AND lot_guid is not null\n",
    "            GROUP BY contract_reg_number\n",
    "        ) tmp ON c.contract_reg_number = tmp.contract_reg_number AND c.version = tmp.ver\n",
    "    GROUP BY lot_guid\n",
    "    \"\"\",\n",
    "    conn\n",
    ")\n",
    "\n",
    "contracts_count_for_lot"
   ],
   "metadata": {
    "collapsed": false,
    "pycharm": {
     "name": "#%%\n"
    }
   }
  },
  {
   "cell_type": "code",
   "execution_count": 11,
   "outputs": [
    {
     "data": {
      "text/plain": "                              contract_guid contract_registration_number  \\\n0      000efbce-29cc-4fda-ba27-e5b895f5b6ad      56684021776200003580001   \n1      000efbce-29cc-4fda-ba27-e5b895f5b6ad      56684021776200003580001   \n2      000efbce-29cc-4fda-ba27-e5b895f5b6ad      56684021776200003580001   \n3      000efbce-29cc-4fda-ba27-e5b895f5b6ad      56684021776200003580001   \n4      000efbce-29cc-4fda-ba27-e5b895f5b6ad      56684021776200003580001   \n...                                     ...                          ...   \n11305  ffd13b8b-ffef-4b0d-8fa5-3214f3e44e2b      52312210286200000990001   \n11306  ffda639d-aada-44de-974a-4ce9ac345a55      67723011906200009850003   \n11307  ffe52c52-50b9-4962-8392-28ab996f7d62      56829018032200000820001   \n11308  ffeed1b5-bd37-4706-8109-95a9367e499e      56731033838200000460001   \n11309  fffb9623-244a-4c27-b1c7-4518ab6412bd      51431004812210000980001   \n\n       notice_not_placed_by_fz223p5s4  contract_extension  \\\n0                                   0                   1   \n1                                   0                   1   \n2                                   0                   1   \n3                                   0                   1   \n4                                   0                   1   \n...                               ...                 ...   \n11305                               0                   0   \n11306                               0                   0   \n11307                               0                   0   \n11308                               0                   0   \n11309                               0                   0   \n\n       contract_prolongation  customer_appeale_or_needs_approval  \\\n0                          0                                   0   \n1                          0                                   0   \n2                          0                                   0   \n3                          0                                   0   \n4                          0                                   0   \n...                      ...                                 ...   \n11305                      0                                   0   \n11306                      0                                   0   \n11307                      0                                   0   \n11308                      0                                   0   \n11309                      0                                   0   \n\n      customer_approval_or_antimonopoly_descision_date  \\\n0                                                 None   \n1                                                 None   \n2                                                 None   \n3                                                 None   \n4                                                 None   \n...                                                ...   \n11305                                             None   \n11306                                             None   \n11307                                             None   \n11308                                             None   \n11309                                             None   \n\n      contract_plan_position_guid contract_create_date_time  \\\n0                            None       2020-12-02 05:02:53   \n1                            None       2020-12-02 05:02:53   \n2                            None       2020-12-02 05:02:53   \n3                            None       2020-12-02 05:02:53   \n4                            None       2020-12-02 05:02:53   \n...                           ...                       ...   \n11305                        None       2020-12-08 11:26:50   \n11306                        None       2020-11-11 10:04:03   \n11307                        None       2020-07-15 06:35:10   \n11308                        None       2020-12-21 07:26:42   \n11309                        None       2021-07-07 09:05:27   \n\n      contract_customer_inn  ... position_country_code  \\\n0                6684021776  ...                  None   \n1                6684021776  ...                  None   \n2                6684021776  ...                  None   \n3                6684021776  ...                  None   \n4                6684021776  ...                  None   \n...                     ...  ...                   ...   \n11305            2312210286  ...                  None   \n11306            7723011906  ...                  None   \n11307            6829018032  ...                  None   \n11308            6731033838  ...                  None   \n11309            1431004812  ...                  None   \n\n      position_producer_country position_impossible_to_determine_attr  \\\n0                          None                                     0   \n1                          None                                     0   \n2                          None                                     0   \n3                          None                                     0   \n4                          None                                     0   \n...                         ...                                   ...   \n11305                      None                                     1   \n11306                      None                                     0   \n11307                      None                                     1   \n11308                      None                                     0   \n11309                      None                                     0   \n\n      position_okei_code  position_okei_name  position_qty  \\\n0                    778            Упаковка         700.0   \n1                    778            Упаковка         200.0   \n2                    778            Упаковка         500.0   \n3                    778            Упаковка          66.0   \n4                    778            Упаковка           6.0   \n...                  ...                 ...           ...   \n11305               None                None           NaN   \n11306                796               Штука          44.0   \n11307               None                None           NaN   \n11308                796               Штука         814.0   \n11309                778            Упаковка          14.0   \n\n      position_unit_price position_rub_unit_price position_currency_code  \\\n0                   750.0                     NaN                   None   \n1                  1600.0                     NaN                   None   \n2                   940.0                     NaN                   None   \n3                  2595.0                     NaN                   None   \n4                 17050.0                     NaN                   None   \n...                   ...                     ...                    ...   \n11305                 NaN                     NaN                   None   \n11306                 NaN                     NaN                   None   \n11307                 NaN                     NaN                   None   \n11308                 NaN                     NaN                   None   \n11309             54600.0                     NaN                    RUB   \n\n       contracts_for_lot  \n0                      1  \n1                      1  \n2                      1  \n3                      1  \n4                      1  \n...                  ...  \n11305                  1  \n11306                  1  \n11307                  1  \n11308                  1  \n11309                  1  \n\n[11310 rows x 52 columns]",
      "text/html": "<div>\n<style scoped>\n    .dataframe tbody tr th:only-of-type {\n        vertical-align: middle;\n    }\n\n    .dataframe tbody tr th {\n        vertical-align: top;\n    }\n\n    .dataframe thead th {\n        text-align: right;\n    }\n</style>\n<table border=\"1\" class=\"dataframe\">\n  <thead>\n    <tr style=\"text-align: right;\">\n      <th></th>\n      <th>contract_guid</th>\n      <th>contract_registration_number</th>\n      <th>notice_not_placed_by_fz223p5s4</th>\n      <th>contract_extension</th>\n      <th>contract_prolongation</th>\n      <th>customer_appeale_or_needs_approval</th>\n      <th>customer_approval_or_antimonopoly_descision_date</th>\n      <th>contract_plan_position_guid</th>\n      <th>contract_create_date_time</th>\n      <th>contract_customer_inn</th>\n      <th>...</th>\n      <th>position_country_code</th>\n      <th>position_producer_country</th>\n      <th>position_impossible_to_determine_attr</th>\n      <th>position_okei_code</th>\n      <th>position_okei_name</th>\n      <th>position_qty</th>\n      <th>position_unit_price</th>\n      <th>position_rub_unit_price</th>\n      <th>position_currency_code</th>\n      <th>contracts_for_lot</th>\n    </tr>\n  </thead>\n  <tbody>\n    <tr>\n      <th>0</th>\n      <td>000efbce-29cc-4fda-ba27-e5b895f5b6ad</td>\n      <td>56684021776200003580001</td>\n      <td>0</td>\n      <td>1</td>\n      <td>0</td>\n      <td>0</td>\n      <td>None</td>\n      <td>None</td>\n      <td>2020-12-02 05:02:53</td>\n      <td>6684021776</td>\n      <td>...</td>\n      <td>None</td>\n      <td>None</td>\n      <td>0</td>\n      <td>778</td>\n      <td>Упаковка</td>\n      <td>700.0</td>\n      <td>750.0</td>\n      <td>NaN</td>\n      <td>None</td>\n      <td>1</td>\n    </tr>\n    <tr>\n      <th>1</th>\n      <td>000efbce-29cc-4fda-ba27-e5b895f5b6ad</td>\n      <td>56684021776200003580001</td>\n      <td>0</td>\n      <td>1</td>\n      <td>0</td>\n      <td>0</td>\n      <td>None</td>\n      <td>None</td>\n      <td>2020-12-02 05:02:53</td>\n      <td>6684021776</td>\n      <td>...</td>\n      <td>None</td>\n      <td>None</td>\n      <td>0</td>\n      <td>778</td>\n      <td>Упаковка</td>\n      <td>200.0</td>\n      <td>1600.0</td>\n      <td>NaN</td>\n      <td>None</td>\n      <td>1</td>\n    </tr>\n    <tr>\n      <th>2</th>\n      <td>000efbce-29cc-4fda-ba27-e5b895f5b6ad</td>\n      <td>56684021776200003580001</td>\n      <td>0</td>\n      <td>1</td>\n      <td>0</td>\n      <td>0</td>\n      <td>None</td>\n      <td>None</td>\n      <td>2020-12-02 05:02:53</td>\n      <td>6684021776</td>\n      <td>...</td>\n      <td>None</td>\n      <td>None</td>\n      <td>0</td>\n      <td>778</td>\n      <td>Упаковка</td>\n      <td>500.0</td>\n      <td>940.0</td>\n      <td>NaN</td>\n      <td>None</td>\n      <td>1</td>\n    </tr>\n    <tr>\n      <th>3</th>\n      <td>000efbce-29cc-4fda-ba27-e5b895f5b6ad</td>\n      <td>56684021776200003580001</td>\n      <td>0</td>\n      <td>1</td>\n      <td>0</td>\n      <td>0</td>\n      <td>None</td>\n      <td>None</td>\n      <td>2020-12-02 05:02:53</td>\n      <td>6684021776</td>\n      <td>...</td>\n      <td>None</td>\n      <td>None</td>\n      <td>0</td>\n      <td>778</td>\n      <td>Упаковка</td>\n      <td>66.0</td>\n      <td>2595.0</td>\n      <td>NaN</td>\n      <td>None</td>\n      <td>1</td>\n    </tr>\n    <tr>\n      <th>4</th>\n      <td>000efbce-29cc-4fda-ba27-e5b895f5b6ad</td>\n      <td>56684021776200003580001</td>\n      <td>0</td>\n      <td>1</td>\n      <td>0</td>\n      <td>0</td>\n      <td>None</td>\n      <td>None</td>\n      <td>2020-12-02 05:02:53</td>\n      <td>6684021776</td>\n      <td>...</td>\n      <td>None</td>\n      <td>None</td>\n      <td>0</td>\n      <td>778</td>\n      <td>Упаковка</td>\n      <td>6.0</td>\n      <td>17050.0</td>\n      <td>NaN</td>\n      <td>None</td>\n      <td>1</td>\n    </tr>\n    <tr>\n      <th>...</th>\n      <td>...</td>\n      <td>...</td>\n      <td>...</td>\n      <td>...</td>\n      <td>...</td>\n      <td>...</td>\n      <td>...</td>\n      <td>...</td>\n      <td>...</td>\n      <td>...</td>\n      <td>...</td>\n      <td>...</td>\n      <td>...</td>\n      <td>...</td>\n      <td>...</td>\n      <td>...</td>\n      <td>...</td>\n      <td>...</td>\n      <td>...</td>\n      <td>...</td>\n      <td>...</td>\n    </tr>\n    <tr>\n      <th>11305</th>\n      <td>ffd13b8b-ffef-4b0d-8fa5-3214f3e44e2b</td>\n      <td>52312210286200000990001</td>\n      <td>0</td>\n      <td>0</td>\n      <td>0</td>\n      <td>0</td>\n      <td>None</td>\n      <td>None</td>\n      <td>2020-12-08 11:26:50</td>\n      <td>2312210286</td>\n      <td>...</td>\n      <td>None</td>\n      <td>None</td>\n      <td>1</td>\n      <td>None</td>\n      <td>None</td>\n      <td>NaN</td>\n      <td>NaN</td>\n      <td>NaN</td>\n      <td>None</td>\n      <td>1</td>\n    </tr>\n    <tr>\n      <th>11306</th>\n      <td>ffda639d-aada-44de-974a-4ce9ac345a55</td>\n      <td>67723011906200009850003</td>\n      <td>0</td>\n      <td>0</td>\n      <td>0</td>\n      <td>0</td>\n      <td>None</td>\n      <td>None</td>\n      <td>2020-11-11 10:04:03</td>\n      <td>7723011906</td>\n      <td>...</td>\n      <td>None</td>\n      <td>None</td>\n      <td>0</td>\n      <td>796</td>\n      <td>Штука</td>\n      <td>44.0</td>\n      <td>NaN</td>\n      <td>NaN</td>\n      <td>None</td>\n      <td>1</td>\n    </tr>\n    <tr>\n      <th>11307</th>\n      <td>ffe52c52-50b9-4962-8392-28ab996f7d62</td>\n      <td>56829018032200000820001</td>\n      <td>0</td>\n      <td>0</td>\n      <td>0</td>\n      <td>0</td>\n      <td>None</td>\n      <td>None</td>\n      <td>2020-07-15 06:35:10</td>\n      <td>6829018032</td>\n      <td>...</td>\n      <td>None</td>\n      <td>None</td>\n      <td>1</td>\n      <td>None</td>\n      <td>None</td>\n      <td>NaN</td>\n      <td>NaN</td>\n      <td>NaN</td>\n      <td>None</td>\n      <td>1</td>\n    </tr>\n    <tr>\n      <th>11308</th>\n      <td>ffeed1b5-bd37-4706-8109-95a9367e499e</td>\n      <td>56731033838200000460001</td>\n      <td>0</td>\n      <td>0</td>\n      <td>0</td>\n      <td>0</td>\n      <td>None</td>\n      <td>None</td>\n      <td>2020-12-21 07:26:42</td>\n      <td>6731033838</td>\n      <td>...</td>\n      <td>None</td>\n      <td>None</td>\n      <td>0</td>\n      <td>796</td>\n      <td>Штука</td>\n      <td>814.0</td>\n      <td>NaN</td>\n      <td>NaN</td>\n      <td>None</td>\n      <td>1</td>\n    </tr>\n    <tr>\n      <th>11309</th>\n      <td>fffb9623-244a-4c27-b1c7-4518ab6412bd</td>\n      <td>51431004812210000980001</td>\n      <td>0</td>\n      <td>0</td>\n      <td>0</td>\n      <td>0</td>\n      <td>None</td>\n      <td>None</td>\n      <td>2021-07-07 09:05:27</td>\n      <td>1431004812</td>\n      <td>...</td>\n      <td>None</td>\n      <td>None</td>\n      <td>0</td>\n      <td>778</td>\n      <td>Упаковка</td>\n      <td>14.0</td>\n      <td>54600.0</td>\n      <td>NaN</td>\n      <td>RUB</td>\n      <td>1</td>\n    </tr>\n  </tbody>\n</table>\n<p>11310 rows × 52 columns</p>\n</div>"
     },
     "execution_count": 11,
     "metadata": {},
     "output_type": "execute_result"
    }
   ],
   "source": [
    "dataset = pd.merge(\n",
    "    covid_contracts_positions_with_lot,\n",
    "    contracts_count_for_lot,\n",
    "    how='left',\n",
    "    on=['lot_guid']\n",
    ")\n",
    "\n",
    "dataset"
   ],
   "metadata": {
    "collapsed": false,
    "pycharm": {
     "name": "#%%\n"
    }
   }
  },
  {
   "cell_type": "markdown",
   "source": [
    "Добавим информацию об изначальных заказчиках в выборку"
   ],
   "metadata": {
    "collapsed": false,
    "pycharm": {
     "name": "#%% md\n"
    }
   }
  },
  {
   "cell_type": "code",
   "execution_count": 12,
   "outputs": [
    {
     "data": {
      "text/plain": "                             contract_guid notice_customer_inn  \\\n0     000efbce-29cc-4fda-ba27-e5b895f5b6ad          6684021776   \n1     0010055e-61aa-42c1-9ae5-cfadf002275c          6660000400   \n2     001170e0-57c5-4d89-89f2-e607079cd321          3821005886   \n3     00161a73-4f64-432b-915a-6d751c91d5a1          8603076205   \n4     0019ca0a-9df7-43fe-a57a-1a76ace715c4          3525147496   \n...                                    ...                 ...   \n7641  ffd13b8b-ffef-4b0d-8fa5-3214f3e44e2b          2312210286   \n7642  ffda639d-aada-44de-974a-4ce9ac345a55          7723011906   \n7643  ffe52c52-50b9-4962-8392-28ab996f7d62          6829018032   \n7644  ffeed1b5-bd37-4706-8109-95a9367e499e          6731033838   \n7645  fffb9623-244a-4c27-b1c7-4518ab6412bd          1431004812   \n\n     notice_placer_inn notice_detached_org_inn  \n0           6684021776                    None  \n1           6660000400                    None  \n2           3821005886                    None  \n3           8603076205                    None  \n4           3525147496                    None  \n...                ...                     ...  \n7641        2312210286                    None  \n7642        7723011906                    None  \n7643        6829018032                    None  \n7644        6731033838                    None  \n7645        1431004812                    None  \n\n[7646 rows x 4 columns]",
      "text/html": "<div>\n<style scoped>\n    .dataframe tbody tr th:only-of-type {\n        vertical-align: middle;\n    }\n\n    .dataframe tbody tr th {\n        vertical-align: top;\n    }\n\n    .dataframe thead th {\n        text-align: right;\n    }\n</style>\n<table border=\"1\" class=\"dataframe\">\n  <thead>\n    <tr style=\"text-align: right;\">\n      <th></th>\n      <th>contract_guid</th>\n      <th>notice_customer_inn</th>\n      <th>notice_placer_inn</th>\n      <th>notice_detached_org_inn</th>\n    </tr>\n  </thead>\n  <tbody>\n    <tr>\n      <th>0</th>\n      <td>000efbce-29cc-4fda-ba27-e5b895f5b6ad</td>\n      <td>6684021776</td>\n      <td>6684021776</td>\n      <td>None</td>\n    </tr>\n    <tr>\n      <th>1</th>\n      <td>0010055e-61aa-42c1-9ae5-cfadf002275c</td>\n      <td>6660000400</td>\n      <td>6660000400</td>\n      <td>None</td>\n    </tr>\n    <tr>\n      <th>2</th>\n      <td>001170e0-57c5-4d89-89f2-e607079cd321</td>\n      <td>3821005886</td>\n      <td>3821005886</td>\n      <td>None</td>\n    </tr>\n    <tr>\n      <th>3</th>\n      <td>00161a73-4f64-432b-915a-6d751c91d5a1</td>\n      <td>8603076205</td>\n      <td>8603076205</td>\n      <td>None</td>\n    </tr>\n    <tr>\n      <th>4</th>\n      <td>0019ca0a-9df7-43fe-a57a-1a76ace715c4</td>\n      <td>3525147496</td>\n      <td>3525147496</td>\n      <td>None</td>\n    </tr>\n    <tr>\n      <th>...</th>\n      <td>...</td>\n      <td>...</td>\n      <td>...</td>\n      <td>...</td>\n    </tr>\n    <tr>\n      <th>7641</th>\n      <td>ffd13b8b-ffef-4b0d-8fa5-3214f3e44e2b</td>\n      <td>2312210286</td>\n      <td>2312210286</td>\n      <td>None</td>\n    </tr>\n    <tr>\n      <th>7642</th>\n      <td>ffda639d-aada-44de-974a-4ce9ac345a55</td>\n      <td>7723011906</td>\n      <td>7723011906</td>\n      <td>None</td>\n    </tr>\n    <tr>\n      <th>7643</th>\n      <td>ffe52c52-50b9-4962-8392-28ab996f7d62</td>\n      <td>6829018032</td>\n      <td>6829018032</td>\n      <td>None</td>\n    </tr>\n    <tr>\n      <th>7644</th>\n      <td>ffeed1b5-bd37-4706-8109-95a9367e499e</td>\n      <td>6731033838</td>\n      <td>6731033838</td>\n      <td>None</td>\n    </tr>\n    <tr>\n      <th>7645</th>\n      <td>fffb9623-244a-4c27-b1c7-4518ab6412bd</td>\n      <td>1431004812</td>\n      <td>1431004812</td>\n      <td>None</td>\n    </tr>\n  </tbody>\n</table>\n<p>7646 rows × 4 columns</p>\n</div>"
     },
     "execution_count": 12,
     "metadata": {},
     "output_type": "execute_result"
    }
   ],
   "source": [
    "notice_customers_for_contract = pd.read_sql_query(\n",
    "    \"\"\"\n",
    "    SELECT c.guid as contract_guid, pn.customer_inn as notice_customer_inn,\n",
    "        pn.placer_inn as notice_placer_inn, pn.detached_org_inn as notice_detached_org_inn\n",
    "    FROM contract c\n",
    "    INNER JOIN (\n",
    "        SELECT contract_reg_number, MAX(version) ver\n",
    "        FROM contract\n",
    "        WHERE emergency = 1\n",
    "        AND lot_guid is not null\n",
    "        GROUP BY contract_reg_number\n",
    "    ) tmp ON c.contract_reg_number = tmp.contract_reg_number AND c.version = tmp.ver\n",
    "    INNER JOIN (\n",
    "        --если несколько извещений с одинаковым номером, выбераем последнее\n",
    "        SELECT c2.guid, c2.purchase_notice_info_number, MAX(pn2.create_date_time) as max_date\n",
    "        FROM contract c2\n",
    "        INNER JOIN purchase_notice pn2 ON pn2.registration_number = c2.purchase_notice_info_number\n",
    "        WHERE c2.emergency = 1\n",
    "        AND c2.purchase_notice_info_number is not null\n",
    "        GROUP BY c2.guid, c2.purchase_notice_info_number\n",
    "    ) tmp2 ON c.guid = tmp2.guid\n",
    "    LEFT JOIN purchase_notice pn ON pn.create_date_time = tmp2.max_date\n",
    "        AND pn.registration_number = tmp2.purchase_notice_info_number\n",
    "    WHERE c.emergency = 1\n",
    "    GROUP BY c.guid, pn.customer_inn, pn.placer_inn, pn.detached_org_inn\n",
    "    \"\"\",\n",
    "    conn\n",
    ")\n",
    "\n",
    "notice_customers_for_contract"
   ],
   "metadata": {
    "collapsed": false,
    "pycharm": {
     "name": "#%%\n"
    }
   }
  },
  {
   "cell_type": "code",
   "execution_count": 13,
   "outputs": [
    {
     "data": {
      "text/plain": "                              contract_guid contract_registration_number  \\\n0      000efbce-29cc-4fda-ba27-e5b895f5b6ad      56684021776200003580001   \n1      000efbce-29cc-4fda-ba27-e5b895f5b6ad      56684021776200003580001   \n2      000efbce-29cc-4fda-ba27-e5b895f5b6ad      56684021776200003580001   \n3      000efbce-29cc-4fda-ba27-e5b895f5b6ad      56684021776200003580001   \n4      000efbce-29cc-4fda-ba27-e5b895f5b6ad      56684021776200003580001   \n...                                     ...                          ...   \n11305  ffd13b8b-ffef-4b0d-8fa5-3214f3e44e2b      52312210286200000990001   \n11306  ffda639d-aada-44de-974a-4ce9ac345a55      67723011906200009850003   \n11307  ffe52c52-50b9-4962-8392-28ab996f7d62      56829018032200000820001   \n11308  ffeed1b5-bd37-4706-8109-95a9367e499e      56731033838200000460001   \n11309  fffb9623-244a-4c27-b1c7-4518ab6412bd      51431004812210000980001   \n\n       notice_not_placed_by_fz223p5s4  contract_extension  \\\n0                                   0                   1   \n1                                   0                   1   \n2                                   0                   1   \n3                                   0                   1   \n4                                   0                   1   \n...                               ...                 ...   \n11305                               0                   0   \n11306                               0                   0   \n11307                               0                   0   \n11308                               0                   0   \n11309                               0                   0   \n\n       contract_prolongation  customer_appeale_or_needs_approval  \\\n0                          0                                   0   \n1                          0                                   0   \n2                          0                                   0   \n3                          0                                   0   \n4                          0                                   0   \n...                      ...                                 ...   \n11305                      0                                   0   \n11306                      0                                   0   \n11307                      0                                   0   \n11308                      0                                   0   \n11309                      0                                   0   \n\n      customer_approval_or_antimonopoly_descision_date  \\\n0                                                 None   \n1                                                 None   \n2                                                 None   \n3                                                 None   \n4                                                 None   \n...                                                ...   \n11305                                             None   \n11306                                             None   \n11307                                             None   \n11308                                             None   \n11309                                             None   \n\n      contract_plan_position_guid contract_create_date_time  \\\n0                            None       2020-12-02 05:02:53   \n1                            None       2020-12-02 05:02:53   \n2                            None       2020-12-02 05:02:53   \n3                            None       2020-12-02 05:02:53   \n4                            None       2020-12-02 05:02:53   \n...                           ...                       ...   \n11305                        None       2020-12-08 11:26:50   \n11306                        None       2020-11-11 10:04:03   \n11307                        None       2020-07-15 06:35:10   \n11308                        None       2020-12-21 07:26:42   \n11309                        None       2021-07-07 09:05:27   \n\n      contract_customer_inn  ... position_okei_code position_okei_name  \\\n0                6684021776  ...                778           Упаковка   \n1                6684021776  ...                778           Упаковка   \n2                6684021776  ...                778           Упаковка   \n3                6684021776  ...                778           Упаковка   \n4                6684021776  ...                778           Упаковка   \n...                     ...  ...                ...                ...   \n11305            2312210286  ...               None               None   \n11306            7723011906  ...                796              Штука   \n11307            6829018032  ...               None               None   \n11308            6731033838  ...                796              Штука   \n11309            1431004812  ...                778           Упаковка   \n\n      position_qty position_unit_price  position_rub_unit_price  \\\n0            700.0               750.0                      NaN   \n1            200.0              1600.0                      NaN   \n2            500.0               940.0                      NaN   \n3             66.0              2595.0                      NaN   \n4              6.0             17050.0                      NaN   \n...            ...                 ...                      ...   \n11305          NaN                 NaN                      NaN   \n11306         44.0                 NaN                      NaN   \n11307          NaN                 NaN                      NaN   \n11308        814.0                 NaN                      NaN   \n11309         14.0             54600.0                      NaN   \n\n       position_currency_code contracts_for_lot notice_customer_inn  \\\n0                        None                 1          6684021776   \n1                        None                 1          6684021776   \n2                        None                 1          6684021776   \n3                        None                 1          6684021776   \n4                        None                 1          6684021776   \n...                       ...               ...                 ...   \n11305                    None                 1          2312210286   \n11306                    None                 1          7723011906   \n11307                    None                 1          6829018032   \n11308                    None                 1          6731033838   \n11309                     RUB                 1          1431004812   \n\n      notice_placer_inn  notice_detached_org_inn  \n0            6684021776                     None  \n1            6684021776                     None  \n2            6684021776                     None  \n3            6684021776                     None  \n4            6684021776                     None  \n...                 ...                      ...  \n11305        2312210286                     None  \n11306        7723011906                     None  \n11307        6829018032                     None  \n11308        6731033838                     None  \n11309        1431004812                     None  \n\n[11310 rows x 55 columns]",
      "text/html": "<div>\n<style scoped>\n    .dataframe tbody tr th:only-of-type {\n        vertical-align: middle;\n    }\n\n    .dataframe tbody tr th {\n        vertical-align: top;\n    }\n\n    .dataframe thead th {\n        text-align: right;\n    }\n</style>\n<table border=\"1\" class=\"dataframe\">\n  <thead>\n    <tr style=\"text-align: right;\">\n      <th></th>\n      <th>contract_guid</th>\n      <th>contract_registration_number</th>\n      <th>notice_not_placed_by_fz223p5s4</th>\n      <th>contract_extension</th>\n      <th>contract_prolongation</th>\n      <th>customer_appeale_or_needs_approval</th>\n      <th>customer_approval_or_antimonopoly_descision_date</th>\n      <th>contract_plan_position_guid</th>\n      <th>contract_create_date_time</th>\n      <th>contract_customer_inn</th>\n      <th>...</th>\n      <th>position_okei_code</th>\n      <th>position_okei_name</th>\n      <th>position_qty</th>\n      <th>position_unit_price</th>\n      <th>position_rub_unit_price</th>\n      <th>position_currency_code</th>\n      <th>contracts_for_lot</th>\n      <th>notice_customer_inn</th>\n      <th>notice_placer_inn</th>\n      <th>notice_detached_org_inn</th>\n    </tr>\n  </thead>\n  <tbody>\n    <tr>\n      <th>0</th>\n      <td>000efbce-29cc-4fda-ba27-e5b895f5b6ad</td>\n      <td>56684021776200003580001</td>\n      <td>0</td>\n      <td>1</td>\n      <td>0</td>\n      <td>0</td>\n      <td>None</td>\n      <td>None</td>\n      <td>2020-12-02 05:02:53</td>\n      <td>6684021776</td>\n      <td>...</td>\n      <td>778</td>\n      <td>Упаковка</td>\n      <td>700.0</td>\n      <td>750.0</td>\n      <td>NaN</td>\n      <td>None</td>\n      <td>1</td>\n      <td>6684021776</td>\n      <td>6684021776</td>\n      <td>None</td>\n    </tr>\n    <tr>\n      <th>1</th>\n      <td>000efbce-29cc-4fda-ba27-e5b895f5b6ad</td>\n      <td>56684021776200003580001</td>\n      <td>0</td>\n      <td>1</td>\n      <td>0</td>\n      <td>0</td>\n      <td>None</td>\n      <td>None</td>\n      <td>2020-12-02 05:02:53</td>\n      <td>6684021776</td>\n      <td>...</td>\n      <td>778</td>\n      <td>Упаковка</td>\n      <td>200.0</td>\n      <td>1600.0</td>\n      <td>NaN</td>\n      <td>None</td>\n      <td>1</td>\n      <td>6684021776</td>\n      <td>6684021776</td>\n      <td>None</td>\n    </tr>\n    <tr>\n      <th>2</th>\n      <td>000efbce-29cc-4fda-ba27-e5b895f5b6ad</td>\n      <td>56684021776200003580001</td>\n      <td>0</td>\n      <td>1</td>\n      <td>0</td>\n      <td>0</td>\n      <td>None</td>\n      <td>None</td>\n      <td>2020-12-02 05:02:53</td>\n      <td>6684021776</td>\n      <td>...</td>\n      <td>778</td>\n      <td>Упаковка</td>\n      <td>500.0</td>\n      <td>940.0</td>\n      <td>NaN</td>\n      <td>None</td>\n      <td>1</td>\n      <td>6684021776</td>\n      <td>6684021776</td>\n      <td>None</td>\n    </tr>\n    <tr>\n      <th>3</th>\n      <td>000efbce-29cc-4fda-ba27-e5b895f5b6ad</td>\n      <td>56684021776200003580001</td>\n      <td>0</td>\n      <td>1</td>\n      <td>0</td>\n      <td>0</td>\n      <td>None</td>\n      <td>None</td>\n      <td>2020-12-02 05:02:53</td>\n      <td>6684021776</td>\n      <td>...</td>\n      <td>778</td>\n      <td>Упаковка</td>\n      <td>66.0</td>\n      <td>2595.0</td>\n      <td>NaN</td>\n      <td>None</td>\n      <td>1</td>\n      <td>6684021776</td>\n      <td>6684021776</td>\n      <td>None</td>\n    </tr>\n    <tr>\n      <th>4</th>\n      <td>000efbce-29cc-4fda-ba27-e5b895f5b6ad</td>\n      <td>56684021776200003580001</td>\n      <td>0</td>\n      <td>1</td>\n      <td>0</td>\n      <td>0</td>\n      <td>None</td>\n      <td>None</td>\n      <td>2020-12-02 05:02:53</td>\n      <td>6684021776</td>\n      <td>...</td>\n      <td>778</td>\n      <td>Упаковка</td>\n      <td>6.0</td>\n      <td>17050.0</td>\n      <td>NaN</td>\n      <td>None</td>\n      <td>1</td>\n      <td>6684021776</td>\n      <td>6684021776</td>\n      <td>None</td>\n    </tr>\n    <tr>\n      <th>...</th>\n      <td>...</td>\n      <td>...</td>\n      <td>...</td>\n      <td>...</td>\n      <td>...</td>\n      <td>...</td>\n      <td>...</td>\n      <td>...</td>\n      <td>...</td>\n      <td>...</td>\n      <td>...</td>\n      <td>...</td>\n      <td>...</td>\n      <td>...</td>\n      <td>...</td>\n      <td>...</td>\n      <td>...</td>\n      <td>...</td>\n      <td>...</td>\n      <td>...</td>\n      <td>...</td>\n    </tr>\n    <tr>\n      <th>11305</th>\n      <td>ffd13b8b-ffef-4b0d-8fa5-3214f3e44e2b</td>\n      <td>52312210286200000990001</td>\n      <td>0</td>\n      <td>0</td>\n      <td>0</td>\n      <td>0</td>\n      <td>None</td>\n      <td>None</td>\n      <td>2020-12-08 11:26:50</td>\n      <td>2312210286</td>\n      <td>...</td>\n      <td>None</td>\n      <td>None</td>\n      <td>NaN</td>\n      <td>NaN</td>\n      <td>NaN</td>\n      <td>None</td>\n      <td>1</td>\n      <td>2312210286</td>\n      <td>2312210286</td>\n      <td>None</td>\n    </tr>\n    <tr>\n      <th>11306</th>\n      <td>ffda639d-aada-44de-974a-4ce9ac345a55</td>\n      <td>67723011906200009850003</td>\n      <td>0</td>\n      <td>0</td>\n      <td>0</td>\n      <td>0</td>\n      <td>None</td>\n      <td>None</td>\n      <td>2020-11-11 10:04:03</td>\n      <td>7723011906</td>\n      <td>...</td>\n      <td>796</td>\n      <td>Штука</td>\n      <td>44.0</td>\n      <td>NaN</td>\n      <td>NaN</td>\n      <td>None</td>\n      <td>1</td>\n      <td>7723011906</td>\n      <td>7723011906</td>\n      <td>None</td>\n    </tr>\n    <tr>\n      <th>11307</th>\n      <td>ffe52c52-50b9-4962-8392-28ab996f7d62</td>\n      <td>56829018032200000820001</td>\n      <td>0</td>\n      <td>0</td>\n      <td>0</td>\n      <td>0</td>\n      <td>None</td>\n      <td>None</td>\n      <td>2020-07-15 06:35:10</td>\n      <td>6829018032</td>\n      <td>...</td>\n      <td>None</td>\n      <td>None</td>\n      <td>NaN</td>\n      <td>NaN</td>\n      <td>NaN</td>\n      <td>None</td>\n      <td>1</td>\n      <td>6829018032</td>\n      <td>6829018032</td>\n      <td>None</td>\n    </tr>\n    <tr>\n      <th>11308</th>\n      <td>ffeed1b5-bd37-4706-8109-95a9367e499e</td>\n      <td>56731033838200000460001</td>\n      <td>0</td>\n      <td>0</td>\n      <td>0</td>\n      <td>0</td>\n      <td>None</td>\n      <td>None</td>\n      <td>2020-12-21 07:26:42</td>\n      <td>6731033838</td>\n      <td>...</td>\n      <td>796</td>\n      <td>Штука</td>\n      <td>814.0</td>\n      <td>NaN</td>\n      <td>NaN</td>\n      <td>None</td>\n      <td>1</td>\n      <td>6731033838</td>\n      <td>6731033838</td>\n      <td>None</td>\n    </tr>\n    <tr>\n      <th>11309</th>\n      <td>fffb9623-244a-4c27-b1c7-4518ab6412bd</td>\n      <td>51431004812210000980001</td>\n      <td>0</td>\n      <td>0</td>\n      <td>0</td>\n      <td>0</td>\n      <td>None</td>\n      <td>None</td>\n      <td>2021-07-07 09:05:27</td>\n      <td>1431004812</td>\n      <td>...</td>\n      <td>778</td>\n      <td>Упаковка</td>\n      <td>14.0</td>\n      <td>54600.0</td>\n      <td>NaN</td>\n      <td>RUB</td>\n      <td>1</td>\n      <td>1431004812</td>\n      <td>1431004812</td>\n      <td>None</td>\n    </tr>\n  </tbody>\n</table>\n<p>11310 rows × 55 columns</p>\n</div>"
     },
     "execution_count": 13,
     "metadata": {},
     "output_type": "execute_result"
    }
   ],
   "source": [
    "dataset = pd.merge(\n",
    "    dataset,\n",
    "    notice_customers_for_contract,\n",
    "    how='left',\n",
    "    on='contract_guid'\n",
    ")\n",
    "\n",
    "dataset"
   ],
   "metadata": {
    "collapsed": false,
    "pycharm": {
     "name": "#%%\n"
    }
   }
  },
  {
   "cell_type": "markdown",
   "source": [
    "Добавим информацию о том, сколько позиций в каждом контракте"
   ],
   "metadata": {
    "collapsed": false,
    "pycharm": {
     "name": "#%% md\n"
    }
   }
  },
  {
   "cell_type": "code",
   "execution_count": 14,
   "outputs": [
    {
     "data": {
      "text/plain": "                             contract_guid  contract_positions_count\n0     000efbce-29cc-4fda-ba27-e5b895f5b6ad                        11\n1     0010055e-61aa-42c1-9ae5-cfadf002275c                         1\n2     001170e0-57c5-4d89-89f2-e607079cd321                         1\n3     00161a73-4f64-432b-915a-6d751c91d5a1                         1\n4     0019ca0a-9df7-43fe-a57a-1a76ace715c4                         1\n...                                    ...                       ...\n7641  ffd13b8b-ffef-4b0d-8fa5-3214f3e44e2b                         1\n7642  ffda639d-aada-44de-974a-4ce9ac345a55                         1\n7643  ffe52c52-50b9-4962-8392-28ab996f7d62                         1\n7644  ffeed1b5-bd37-4706-8109-95a9367e499e                         1\n7645  fffb9623-244a-4c27-b1c7-4518ab6412bd                         1\n\n[7646 rows x 2 columns]",
      "text/html": "<div>\n<style scoped>\n    .dataframe tbody tr th:only-of-type {\n        vertical-align: middle;\n    }\n\n    .dataframe tbody tr th {\n        vertical-align: top;\n    }\n\n    .dataframe thead th {\n        text-align: right;\n    }\n</style>\n<table border=\"1\" class=\"dataframe\">\n  <thead>\n    <tr style=\"text-align: right;\">\n      <th></th>\n      <th>contract_guid</th>\n      <th>contract_positions_count</th>\n    </tr>\n  </thead>\n  <tbody>\n    <tr>\n      <th>0</th>\n      <td>000efbce-29cc-4fda-ba27-e5b895f5b6ad</td>\n      <td>11</td>\n    </tr>\n    <tr>\n      <th>1</th>\n      <td>0010055e-61aa-42c1-9ae5-cfadf002275c</td>\n      <td>1</td>\n    </tr>\n    <tr>\n      <th>2</th>\n      <td>001170e0-57c5-4d89-89f2-e607079cd321</td>\n      <td>1</td>\n    </tr>\n    <tr>\n      <th>3</th>\n      <td>00161a73-4f64-432b-915a-6d751c91d5a1</td>\n      <td>1</td>\n    </tr>\n    <tr>\n      <th>4</th>\n      <td>0019ca0a-9df7-43fe-a57a-1a76ace715c4</td>\n      <td>1</td>\n    </tr>\n    <tr>\n      <th>...</th>\n      <td>...</td>\n      <td>...</td>\n    </tr>\n    <tr>\n      <th>7641</th>\n      <td>ffd13b8b-ffef-4b0d-8fa5-3214f3e44e2b</td>\n      <td>1</td>\n    </tr>\n    <tr>\n      <th>7642</th>\n      <td>ffda639d-aada-44de-974a-4ce9ac345a55</td>\n      <td>1</td>\n    </tr>\n    <tr>\n      <th>7643</th>\n      <td>ffe52c52-50b9-4962-8392-28ab996f7d62</td>\n      <td>1</td>\n    </tr>\n    <tr>\n      <th>7644</th>\n      <td>ffeed1b5-bd37-4706-8109-95a9367e499e</td>\n      <td>1</td>\n    </tr>\n    <tr>\n      <th>7645</th>\n      <td>fffb9623-244a-4c27-b1c7-4518ab6412bd</td>\n      <td>1</td>\n    </tr>\n  </tbody>\n</table>\n<p>7646 rows × 2 columns</p>\n</div>"
     },
     "execution_count": 14,
     "metadata": {},
     "output_type": "execute_result"
    }
   ],
   "source": [
    "contract_positions_count = pd.read_sql_query(\n",
    "    \"\"\"\n",
    "    SELECT c.guid as contract_guid, COUNT(*) as contract_positions_count\n",
    "    FROM contract c\n",
    "    INNER JOIN (\n",
    "        SELECT contract_reg_number, MAX(version) ver\n",
    "        FROM contract\n",
    "        WHERE emergency = 1\n",
    "        AND lot_guid is not null\n",
    "        GROUP BY contract_reg_number\n",
    "    ) tmp ON c.contract_reg_number = tmp.contract_reg_number AND c.version = tmp.ver\n",
    "    INNER JOIN purchase_notice_lot pnl ON c.lot_guid = pnl.guid\n",
    "    LEFT JOIN position_to_contract ptc on c.guid = ptc.contract_guid\n",
    "    LEFT JOIN contract_position cpos on ptc.position_guid = cpos.guid\n",
    "    GROUP BY c.guid\n",
    "    \"\"\",\n",
    "    conn\n",
    ")\n",
    "\n",
    "contract_positions_count"
   ],
   "metadata": {
    "collapsed": false,
    "pycharm": {
     "name": "#%%\n"
    }
   }
  },
  {
   "cell_type": "code",
   "execution_count": 15,
   "outputs": [
    {
     "data": {
      "text/plain": "                              contract_guid contract_registration_number  \\\n0      000efbce-29cc-4fda-ba27-e5b895f5b6ad      56684021776200003580001   \n1      000efbce-29cc-4fda-ba27-e5b895f5b6ad      56684021776200003580001   \n2      000efbce-29cc-4fda-ba27-e5b895f5b6ad      56684021776200003580001   \n3      000efbce-29cc-4fda-ba27-e5b895f5b6ad      56684021776200003580001   \n4      000efbce-29cc-4fda-ba27-e5b895f5b6ad      56684021776200003580001   \n...                                     ...                          ...   \n11305  ffd13b8b-ffef-4b0d-8fa5-3214f3e44e2b      52312210286200000990001   \n11306  ffda639d-aada-44de-974a-4ce9ac345a55      67723011906200009850003   \n11307  ffe52c52-50b9-4962-8392-28ab996f7d62      56829018032200000820001   \n11308  ffeed1b5-bd37-4706-8109-95a9367e499e      56731033838200000460001   \n11309  fffb9623-244a-4c27-b1c7-4518ab6412bd      51431004812210000980001   \n\n       notice_not_placed_by_fz223p5s4  contract_extension  \\\n0                                   0                   1   \n1                                   0                   1   \n2                                   0                   1   \n3                                   0                   1   \n4                                   0                   1   \n...                               ...                 ...   \n11305                               0                   0   \n11306                               0                   0   \n11307                               0                   0   \n11308                               0                   0   \n11309                               0                   0   \n\n       contract_prolongation  customer_appeale_or_needs_approval  \\\n0                          0                                   0   \n1                          0                                   0   \n2                          0                                   0   \n3                          0                                   0   \n4                          0                                   0   \n...                      ...                                 ...   \n11305                      0                                   0   \n11306                      0                                   0   \n11307                      0                                   0   \n11308                      0                                   0   \n11309                      0                                   0   \n\n      customer_approval_or_antimonopoly_descision_date  \\\n0                                                 None   \n1                                                 None   \n2                                                 None   \n3                                                 None   \n4                                                 None   \n...                                                ...   \n11305                                             None   \n11306                                             None   \n11307                                             None   \n11308                                             None   \n11309                                             None   \n\n      contract_plan_position_guid contract_create_date_time  \\\n0                            None       2020-12-02 05:02:53   \n1                            None       2020-12-02 05:02:53   \n2                            None       2020-12-02 05:02:53   \n3                            None       2020-12-02 05:02:53   \n4                            None       2020-12-02 05:02:53   \n...                           ...                       ...   \n11305                        None       2020-12-08 11:26:50   \n11306                        None       2020-11-11 10:04:03   \n11307                        None       2020-07-15 06:35:10   \n11308                        None       2020-12-21 07:26:42   \n11309                        None       2021-07-07 09:05:27   \n\n      contract_customer_inn  ... position_okei_name position_qty  \\\n0                6684021776  ...           Упаковка        700.0   \n1                6684021776  ...           Упаковка        200.0   \n2                6684021776  ...           Упаковка        500.0   \n3                6684021776  ...           Упаковка         66.0   \n4                6684021776  ...           Упаковка          6.0   \n...                     ...  ...                ...          ...   \n11305            2312210286  ...               None          NaN   \n11306            7723011906  ...              Штука         44.0   \n11307            6829018032  ...               None          NaN   \n11308            6731033838  ...              Штука        814.0   \n11309            1431004812  ...           Упаковка         14.0   \n\n      position_unit_price position_rub_unit_price  position_currency_code  \\\n0                   750.0                     NaN                    None   \n1                  1600.0                     NaN                    None   \n2                   940.0                     NaN                    None   \n3                  2595.0                     NaN                    None   \n4                 17050.0                     NaN                    None   \n...                   ...                     ...                     ...   \n11305                 NaN                     NaN                    None   \n11306                 NaN                     NaN                    None   \n11307                 NaN                     NaN                    None   \n11308                 NaN                     NaN                    None   \n11309             54600.0                     NaN                     RUB   \n\n       contracts_for_lot notice_customer_inn notice_placer_inn  \\\n0                      1          6684021776        6684021776   \n1                      1          6684021776        6684021776   \n2                      1          6684021776        6684021776   \n3                      1          6684021776        6684021776   \n4                      1          6684021776        6684021776   \n...                  ...                 ...               ...   \n11305                  1          2312210286        2312210286   \n11306                  1          7723011906        7723011906   \n11307                  1          6829018032        6829018032   \n11308                  1          6731033838        6731033838   \n11309                  1          1431004812        1431004812   \n\n      notice_detached_org_inn  contract_positions_count  \n0                        None                        11  \n1                        None                        11  \n2                        None                        11  \n3                        None                        11  \n4                        None                        11  \n...                       ...                       ...  \n11305                    None                         1  \n11306                    None                         1  \n11307                    None                         1  \n11308                    None                         1  \n11309                    None                         1  \n\n[11310 rows x 56 columns]",
      "text/html": "<div>\n<style scoped>\n    .dataframe tbody tr th:only-of-type {\n        vertical-align: middle;\n    }\n\n    .dataframe tbody tr th {\n        vertical-align: top;\n    }\n\n    .dataframe thead th {\n        text-align: right;\n    }\n</style>\n<table border=\"1\" class=\"dataframe\">\n  <thead>\n    <tr style=\"text-align: right;\">\n      <th></th>\n      <th>contract_guid</th>\n      <th>contract_registration_number</th>\n      <th>notice_not_placed_by_fz223p5s4</th>\n      <th>contract_extension</th>\n      <th>contract_prolongation</th>\n      <th>customer_appeale_or_needs_approval</th>\n      <th>customer_approval_or_antimonopoly_descision_date</th>\n      <th>contract_plan_position_guid</th>\n      <th>contract_create_date_time</th>\n      <th>contract_customer_inn</th>\n      <th>...</th>\n      <th>position_okei_name</th>\n      <th>position_qty</th>\n      <th>position_unit_price</th>\n      <th>position_rub_unit_price</th>\n      <th>position_currency_code</th>\n      <th>contracts_for_lot</th>\n      <th>notice_customer_inn</th>\n      <th>notice_placer_inn</th>\n      <th>notice_detached_org_inn</th>\n      <th>contract_positions_count</th>\n    </tr>\n  </thead>\n  <tbody>\n    <tr>\n      <th>0</th>\n      <td>000efbce-29cc-4fda-ba27-e5b895f5b6ad</td>\n      <td>56684021776200003580001</td>\n      <td>0</td>\n      <td>1</td>\n      <td>0</td>\n      <td>0</td>\n      <td>None</td>\n      <td>None</td>\n      <td>2020-12-02 05:02:53</td>\n      <td>6684021776</td>\n      <td>...</td>\n      <td>Упаковка</td>\n      <td>700.0</td>\n      <td>750.0</td>\n      <td>NaN</td>\n      <td>None</td>\n      <td>1</td>\n      <td>6684021776</td>\n      <td>6684021776</td>\n      <td>None</td>\n      <td>11</td>\n    </tr>\n    <tr>\n      <th>1</th>\n      <td>000efbce-29cc-4fda-ba27-e5b895f5b6ad</td>\n      <td>56684021776200003580001</td>\n      <td>0</td>\n      <td>1</td>\n      <td>0</td>\n      <td>0</td>\n      <td>None</td>\n      <td>None</td>\n      <td>2020-12-02 05:02:53</td>\n      <td>6684021776</td>\n      <td>...</td>\n      <td>Упаковка</td>\n      <td>200.0</td>\n      <td>1600.0</td>\n      <td>NaN</td>\n      <td>None</td>\n      <td>1</td>\n      <td>6684021776</td>\n      <td>6684021776</td>\n      <td>None</td>\n      <td>11</td>\n    </tr>\n    <tr>\n      <th>2</th>\n      <td>000efbce-29cc-4fda-ba27-e5b895f5b6ad</td>\n      <td>56684021776200003580001</td>\n      <td>0</td>\n      <td>1</td>\n      <td>0</td>\n      <td>0</td>\n      <td>None</td>\n      <td>None</td>\n      <td>2020-12-02 05:02:53</td>\n      <td>6684021776</td>\n      <td>...</td>\n      <td>Упаковка</td>\n      <td>500.0</td>\n      <td>940.0</td>\n      <td>NaN</td>\n      <td>None</td>\n      <td>1</td>\n      <td>6684021776</td>\n      <td>6684021776</td>\n      <td>None</td>\n      <td>11</td>\n    </tr>\n    <tr>\n      <th>3</th>\n      <td>000efbce-29cc-4fda-ba27-e5b895f5b6ad</td>\n      <td>56684021776200003580001</td>\n      <td>0</td>\n      <td>1</td>\n      <td>0</td>\n      <td>0</td>\n      <td>None</td>\n      <td>None</td>\n      <td>2020-12-02 05:02:53</td>\n      <td>6684021776</td>\n      <td>...</td>\n      <td>Упаковка</td>\n      <td>66.0</td>\n      <td>2595.0</td>\n      <td>NaN</td>\n      <td>None</td>\n      <td>1</td>\n      <td>6684021776</td>\n      <td>6684021776</td>\n      <td>None</td>\n      <td>11</td>\n    </tr>\n    <tr>\n      <th>4</th>\n      <td>000efbce-29cc-4fda-ba27-e5b895f5b6ad</td>\n      <td>56684021776200003580001</td>\n      <td>0</td>\n      <td>1</td>\n      <td>0</td>\n      <td>0</td>\n      <td>None</td>\n      <td>None</td>\n      <td>2020-12-02 05:02:53</td>\n      <td>6684021776</td>\n      <td>...</td>\n      <td>Упаковка</td>\n      <td>6.0</td>\n      <td>17050.0</td>\n      <td>NaN</td>\n      <td>None</td>\n      <td>1</td>\n      <td>6684021776</td>\n      <td>6684021776</td>\n      <td>None</td>\n      <td>11</td>\n    </tr>\n    <tr>\n      <th>...</th>\n      <td>...</td>\n      <td>...</td>\n      <td>...</td>\n      <td>...</td>\n      <td>...</td>\n      <td>...</td>\n      <td>...</td>\n      <td>...</td>\n      <td>...</td>\n      <td>...</td>\n      <td>...</td>\n      <td>...</td>\n      <td>...</td>\n      <td>...</td>\n      <td>...</td>\n      <td>...</td>\n      <td>...</td>\n      <td>...</td>\n      <td>...</td>\n      <td>...</td>\n      <td>...</td>\n    </tr>\n    <tr>\n      <th>11305</th>\n      <td>ffd13b8b-ffef-4b0d-8fa5-3214f3e44e2b</td>\n      <td>52312210286200000990001</td>\n      <td>0</td>\n      <td>0</td>\n      <td>0</td>\n      <td>0</td>\n      <td>None</td>\n      <td>None</td>\n      <td>2020-12-08 11:26:50</td>\n      <td>2312210286</td>\n      <td>...</td>\n      <td>None</td>\n      <td>NaN</td>\n      <td>NaN</td>\n      <td>NaN</td>\n      <td>None</td>\n      <td>1</td>\n      <td>2312210286</td>\n      <td>2312210286</td>\n      <td>None</td>\n      <td>1</td>\n    </tr>\n    <tr>\n      <th>11306</th>\n      <td>ffda639d-aada-44de-974a-4ce9ac345a55</td>\n      <td>67723011906200009850003</td>\n      <td>0</td>\n      <td>0</td>\n      <td>0</td>\n      <td>0</td>\n      <td>None</td>\n      <td>None</td>\n      <td>2020-11-11 10:04:03</td>\n      <td>7723011906</td>\n      <td>...</td>\n      <td>Штука</td>\n      <td>44.0</td>\n      <td>NaN</td>\n      <td>NaN</td>\n      <td>None</td>\n      <td>1</td>\n      <td>7723011906</td>\n      <td>7723011906</td>\n      <td>None</td>\n      <td>1</td>\n    </tr>\n    <tr>\n      <th>11307</th>\n      <td>ffe52c52-50b9-4962-8392-28ab996f7d62</td>\n      <td>56829018032200000820001</td>\n      <td>0</td>\n      <td>0</td>\n      <td>0</td>\n      <td>0</td>\n      <td>None</td>\n      <td>None</td>\n      <td>2020-07-15 06:35:10</td>\n      <td>6829018032</td>\n      <td>...</td>\n      <td>None</td>\n      <td>NaN</td>\n      <td>NaN</td>\n      <td>NaN</td>\n      <td>None</td>\n      <td>1</td>\n      <td>6829018032</td>\n      <td>6829018032</td>\n      <td>None</td>\n      <td>1</td>\n    </tr>\n    <tr>\n      <th>11308</th>\n      <td>ffeed1b5-bd37-4706-8109-95a9367e499e</td>\n      <td>56731033838200000460001</td>\n      <td>0</td>\n      <td>0</td>\n      <td>0</td>\n      <td>0</td>\n      <td>None</td>\n      <td>None</td>\n      <td>2020-12-21 07:26:42</td>\n      <td>6731033838</td>\n      <td>...</td>\n      <td>Штука</td>\n      <td>814.0</td>\n      <td>NaN</td>\n      <td>NaN</td>\n      <td>None</td>\n      <td>1</td>\n      <td>6731033838</td>\n      <td>6731033838</td>\n      <td>None</td>\n      <td>1</td>\n    </tr>\n    <tr>\n      <th>11309</th>\n      <td>fffb9623-244a-4c27-b1c7-4518ab6412bd</td>\n      <td>51431004812210000980001</td>\n      <td>0</td>\n      <td>0</td>\n      <td>0</td>\n      <td>0</td>\n      <td>None</td>\n      <td>None</td>\n      <td>2021-07-07 09:05:27</td>\n      <td>1431004812</td>\n      <td>...</td>\n      <td>Упаковка</td>\n      <td>14.0</td>\n      <td>54600.0</td>\n      <td>NaN</td>\n      <td>RUB</td>\n      <td>1</td>\n      <td>1431004812</td>\n      <td>1431004812</td>\n      <td>None</td>\n      <td>1</td>\n    </tr>\n  </tbody>\n</table>\n<p>11310 rows × 56 columns</p>\n</div>"
     },
     "execution_count": 15,
     "metadata": {},
     "output_type": "execute_result"
    }
   ],
   "source": [
    "dataset = pd.merge(\n",
    "    dataset,\n",
    "    contract_positions_count,\n",
    "    how='left',\n",
    "    on='contract_guid'\n",
    ")\n",
    "\n",
    "dataset\n"
   ],
   "metadata": {
    "collapsed": false,
    "pycharm": {
     "name": "#%%\n"
    }
   }
  },
  {
   "cell_type": "markdown",
   "source": [
    "Добавим в выборку информацию о поставщиках\n"
   ],
   "metadata": {
    "collapsed": false,
    "pycharm": {
     "name": "#%% md\n"
    }
   }
  },
  {
   "cell_type": "code",
   "execution_count": 16,
   "outputs": [
    {
     "data": {
      "text/plain": "                                  lot_guid supplier_inn  \\\n0     001180aa-ec39-fe24-e63b-de59c6c8b320   7717729216   \n1     0062ff81-366a-467f-8b5e-8b8075bb08b3   6454074043   \n2     00cb1cf0-322f-46da-9de0-2fa76bfe22ae   7723733387   \n3     00ededaa-1b73-4387-8f30-2d56ab2a2459   5005060517   \n4     00ff6c74-d199-478a-89ca-9ee62384335d   6454074043   \n...                                    ...          ...   \n1166  ff46f520-4f87-4c0b-b114-a7527bf40b6d   5208005007   \n1167  ff6bfde8-e793-4c0c-8888-0433d8fa1ffe   3801069539   \n1168  ffaa3d53-69f7-48e7-a679-8cbc44eb7bbd   7725628067   \n1169  ffb5bde5-3196-49ec-b1d8-9385a4bed2d0   7725628067   \n1170  ffe29952-0bec-4deb-8422-0a118b0842e7   4003032047   \n\n                                          supplier_name  supplier_ogrn  \\\n0     ОБЩЕСТВО С ОГРАНИЧЕННОЙ ОТВЕТСТВЕННОСТЬЮ \"ВЫСО...  1127746547895   \n1                                ООО \"ГорЭнергоСервис\"   1056405417463   \n2                                  ООО \"ДЖОДАС ЭКСПОИМ\"  1097746637460   \n3                                     ООО «СТРОЙНАДЗОР»  1155005000281   \n4                                ООО \"ГорЭнергоСервис\"   1056405417463   \n...                                                 ...            ...   \n1166  Общество с ограниченной ответственностью «Энер...  1105252001381   \n1167                           ООО \"Арника-Пром-Сервис\"  1033800547978   \n1168                                    ООО \"БионаФарм\"  1087746155111   \n1169                                    ООО \"БионаФарм\"  1087746155111   \n1170  Общество с ограниченной ответственностью «Торг...  1114025005720   \n\n         supplier_type  \n0     Юридическое лицо  \n1     Юридическое лицо  \n2     Юридическое лицо  \n3     Юридическое лицо  \n4     Юридическое лицо  \n...                ...  \n1166  Юридическое лицо  \n1167  Юридическое лицо  \n1168  Юридическое лицо  \n1169  Юридическое лицо  \n1170  Юридическое лицо  \n\n[1171 rows x 5 columns]",
      "text/html": "<div>\n<style scoped>\n    .dataframe tbody tr th:only-of-type {\n        vertical-align: middle;\n    }\n\n    .dataframe tbody tr th {\n        vertical-align: top;\n    }\n\n    .dataframe thead th {\n        text-align: right;\n    }\n</style>\n<table border=\"1\" class=\"dataframe\">\n  <thead>\n    <tr style=\"text-align: right;\">\n      <th></th>\n      <th>lot_guid</th>\n      <th>supplier_inn</th>\n      <th>supplier_name</th>\n      <th>supplier_ogrn</th>\n      <th>supplier_type</th>\n    </tr>\n  </thead>\n  <tbody>\n    <tr>\n      <th>0</th>\n      <td>001180aa-ec39-fe24-e63b-de59c6c8b320</td>\n      <td>7717729216</td>\n      <td>ОБЩЕСТВО С ОГРАНИЧЕННОЙ ОТВЕТСТВЕННОСТЬЮ \"ВЫСО...</td>\n      <td>1127746547895</td>\n      <td>Юридическое лицо</td>\n    </tr>\n    <tr>\n      <th>1</th>\n      <td>0062ff81-366a-467f-8b5e-8b8075bb08b3</td>\n      <td>6454074043</td>\n      <td>ООО \"ГорЭнергоСервис\"</td>\n      <td>1056405417463</td>\n      <td>Юридическое лицо</td>\n    </tr>\n    <tr>\n      <th>2</th>\n      <td>00cb1cf0-322f-46da-9de0-2fa76bfe22ae</td>\n      <td>7723733387</td>\n      <td>ООО \"ДЖОДАС ЭКСПОИМ\"</td>\n      <td>1097746637460</td>\n      <td>Юридическое лицо</td>\n    </tr>\n    <tr>\n      <th>3</th>\n      <td>00ededaa-1b73-4387-8f30-2d56ab2a2459</td>\n      <td>5005060517</td>\n      <td>ООО «СТРОЙНАДЗОР»</td>\n      <td>1155005000281</td>\n      <td>Юридическое лицо</td>\n    </tr>\n    <tr>\n      <th>4</th>\n      <td>00ff6c74-d199-478a-89ca-9ee62384335d</td>\n      <td>6454074043</td>\n      <td>ООО \"ГорЭнергоСервис\"</td>\n      <td>1056405417463</td>\n      <td>Юридическое лицо</td>\n    </tr>\n    <tr>\n      <th>...</th>\n      <td>...</td>\n      <td>...</td>\n      <td>...</td>\n      <td>...</td>\n      <td>...</td>\n    </tr>\n    <tr>\n      <th>1166</th>\n      <td>ff46f520-4f87-4c0b-b114-a7527bf40b6d</td>\n      <td>5208005007</td>\n      <td>Общество с ограниченной ответственностью «Энер...</td>\n      <td>1105252001381</td>\n      <td>Юридическое лицо</td>\n    </tr>\n    <tr>\n      <th>1167</th>\n      <td>ff6bfde8-e793-4c0c-8888-0433d8fa1ffe</td>\n      <td>3801069539</td>\n      <td>ООО \"Арника-Пром-Сервис\"</td>\n      <td>1033800547978</td>\n      <td>Юридическое лицо</td>\n    </tr>\n    <tr>\n      <th>1168</th>\n      <td>ffaa3d53-69f7-48e7-a679-8cbc44eb7bbd</td>\n      <td>7725628067</td>\n      <td>ООО \"БионаФарм\"</td>\n      <td>1087746155111</td>\n      <td>Юридическое лицо</td>\n    </tr>\n    <tr>\n      <th>1169</th>\n      <td>ffb5bde5-3196-49ec-b1d8-9385a4bed2d0</td>\n      <td>7725628067</td>\n      <td>ООО \"БионаФарм\"</td>\n      <td>1087746155111</td>\n      <td>Юридическое лицо</td>\n    </tr>\n    <tr>\n      <th>1170</th>\n      <td>ffe29952-0bec-4deb-8422-0a118b0842e7</td>\n      <td>4003032047</td>\n      <td>Общество с ограниченной ответственностью «Торг...</td>\n      <td>1114025005720</td>\n      <td>Юридическое лицо</td>\n    </tr>\n  </tbody>\n</table>\n<p>1171 rows × 5 columns</p>\n</div>"
     },
     "execution_count": 16,
     "metadata": {},
     "output_type": "execute_result"
    }
   ],
   "source": [
    "lot_suppliers = pd.read_sql_query(\n",
    "    \"\"\"\n",
    "    SELECT lot_guid, si2.inn as supplier_inn,\n",
    "     si2.name as supplier_name, si2.ogrn as supplier_ogrn, si2.type as supplier_type\n",
    "    FROM (\n",
    "        SELECT lot_guid, MAX(supplier_guid) as supplier_guid\n",
    "        FROM (\n",
    "            SELECT c.lot_guid\n",
    "            FROM contract c\n",
    "            INNER JOIN (\n",
    "                SELECT contract_reg_number, MAX(version) ver\n",
    "                FROM contract\n",
    "                WHERE emergency = 1\n",
    "                AND lot_guid is not null\n",
    "                GROUP BY contract_reg_number\n",
    "            ) tmp ON c.contract_reg_number = tmp.contract_reg_number AND c.version = tmp.ver\n",
    "            GROUP BY c.lot_guid\n",
    "        ) tmp1\n",
    "        INNER JOIN protocol_lot pl ON tmp1.lot_guid = pl.guid\n",
    "        LEFT JOIN protocol_lot_applications pla on pl.guid = pla.protocol_lot_guid\n",
    "        LEFT JOIN application a on pla.id = a.protocol_lot_applications_id\n",
    "        LEFT JOIN supplier_info si on a.supplier_guid = si.guid\n",
    "        WHERE (contract_signed = 1 or\n",
    "         (a.winner_indication = 'Победитель'and contract_signed is null))\n",
    "         and (supplier_guid is not null)\n",
    "        GROUP BY lot_guid\n",
    "    ) sup\n",
    "    LEFT JOIN supplier_info si2 ON si2.guid = sup.supplier_guid;\n",
    "    \"\"\",\n",
    "    conn\n",
    ")\n",
    "\n",
    "lot_suppliers"
   ],
   "metadata": {
    "collapsed": false,
    "pycharm": {
     "name": "#%%\n"
    }
   }
  },
  {
   "cell_type": "code",
   "execution_count": 17,
   "outputs": [
    {
     "data": {
      "text/plain": "                              contract_guid contract_registration_number  \\\n0      000efbce-29cc-4fda-ba27-e5b895f5b6ad      56684021776200003580001   \n1      000efbce-29cc-4fda-ba27-e5b895f5b6ad      56684021776200003580001   \n2      000efbce-29cc-4fda-ba27-e5b895f5b6ad      56684021776200003580001   \n3      000efbce-29cc-4fda-ba27-e5b895f5b6ad      56684021776200003580001   \n4      000efbce-29cc-4fda-ba27-e5b895f5b6ad      56684021776200003580001   \n...                                     ...                          ...   \n11305  ffd13b8b-ffef-4b0d-8fa5-3214f3e44e2b      52312210286200000990001   \n11306  ffda639d-aada-44de-974a-4ce9ac345a55      67723011906200009850003   \n11307  ffe52c52-50b9-4962-8392-28ab996f7d62      56829018032200000820001   \n11308  ffeed1b5-bd37-4706-8109-95a9367e499e      56731033838200000460001   \n11309  fffb9623-244a-4c27-b1c7-4518ab6412bd      51431004812210000980001   \n\n       notice_not_placed_by_fz223p5s4  contract_extension  \\\n0                                   0                   1   \n1                                   0                   1   \n2                                   0                   1   \n3                                   0                   1   \n4                                   0                   1   \n...                               ...                 ...   \n11305                               0                   0   \n11306                               0                   0   \n11307                               0                   0   \n11308                               0                   0   \n11309                               0                   0   \n\n       contract_prolongation  customer_appeale_or_needs_approval  \\\n0                          0                                   0   \n1                          0                                   0   \n2                          0                                   0   \n3                          0                                   0   \n4                          0                                   0   \n...                      ...                                 ...   \n11305                      0                                   0   \n11306                      0                                   0   \n11307                      0                                   0   \n11308                      0                                   0   \n11309                      0                                   0   \n\n      customer_approval_or_antimonopoly_descision_date  \\\n0                                                 None   \n1                                                 None   \n2                                                 None   \n3                                                 None   \n4                                                 None   \n...                                                ...   \n11305                                             None   \n11306                                             None   \n11307                                             None   \n11308                                             None   \n11309                                             None   \n\n      contract_plan_position_guid contract_create_date_time  \\\n0                            None       2020-12-02 05:02:53   \n1                            None       2020-12-02 05:02:53   \n2                            None       2020-12-02 05:02:53   \n3                            None       2020-12-02 05:02:53   \n4                            None       2020-12-02 05:02:53   \n...                           ...                       ...   \n11305                        None       2020-12-08 11:26:50   \n11306                        None       2020-11-11 10:04:03   \n11307                        None       2020-07-15 06:35:10   \n11308                        None       2020-12-21 07:26:42   \n11309                        None       2021-07-07 09:05:27   \n\n      contract_customer_inn  ... position_currency_code contracts_for_lot  \\\n0                6684021776  ...                   None                 1   \n1                6684021776  ...                   None                 1   \n2                6684021776  ...                   None                 1   \n3                6684021776  ...                   None                 1   \n4                6684021776  ...                   None                 1   \n...                     ...  ...                    ...               ...   \n11305            2312210286  ...                   None                 1   \n11306            7723011906  ...                   None                 1   \n11307            6829018032  ...                   None                 1   \n11308            6731033838  ...                   None                 1   \n11309            1431004812  ...                    RUB                 1   \n\n      notice_customer_inn notice_placer_inn  notice_detached_org_inn  \\\n0              6684021776        6684021776                     None   \n1              6684021776        6684021776                     None   \n2              6684021776        6684021776                     None   \n3              6684021776        6684021776                     None   \n4              6684021776        6684021776                     None   \n...                   ...               ...                      ...   \n11305          2312210286        2312210286                     None   \n11306          7723011906        7723011906                     None   \n11307          6829018032        6829018032                     None   \n11308          6731033838        6731033838                     None   \n11309          1431004812        1431004812                     None   \n\n       contract_positions_count supplier_inn  \\\n0                            11          NaN   \n1                            11          NaN   \n2                            11          NaN   \n3                            11          NaN   \n4                            11          NaN   \n...                         ...          ...   \n11305                         1   2370005720   \n11306                         1          NaN   \n11307                         1          NaN   \n11308                         1          NaN   \n11309                         1          NaN   \n\n                                           supplier_name  supplier_ogrn  \\\n0                                                    NaN            NaN   \n1                                                    NaN            NaN   \n2                                                    NaN            NaN   \n3                                                    NaN            NaN   \n4                                                    NaN            NaN   \n...                                                  ...            ...   \n11305  ОБЩЕСТВО С ОГРАНИЧЕННОЙ ОТВЕТСТВЕННОСТЬЮ \"ЭНЕР...  1162370050446   \n11306                                                NaN            NaN   \n11307                                                NaN            NaN   \n11308                                                NaN            NaN   \n11309                                                NaN            NaN   \n\n          supplier_type  \n0                   NaN  \n1                   NaN  \n2                   NaN  \n3                   NaN  \n4                   NaN  \n...                 ...  \n11305  Юридическое лицо  \n11306               NaN  \n11307               NaN  \n11308               NaN  \n11309               NaN  \n\n[11310 rows x 60 columns]",
      "text/html": "<div>\n<style scoped>\n    .dataframe tbody tr th:only-of-type {\n        vertical-align: middle;\n    }\n\n    .dataframe tbody tr th {\n        vertical-align: top;\n    }\n\n    .dataframe thead th {\n        text-align: right;\n    }\n</style>\n<table border=\"1\" class=\"dataframe\">\n  <thead>\n    <tr style=\"text-align: right;\">\n      <th></th>\n      <th>contract_guid</th>\n      <th>contract_registration_number</th>\n      <th>notice_not_placed_by_fz223p5s4</th>\n      <th>contract_extension</th>\n      <th>contract_prolongation</th>\n      <th>customer_appeale_or_needs_approval</th>\n      <th>customer_approval_or_antimonopoly_descision_date</th>\n      <th>contract_plan_position_guid</th>\n      <th>contract_create_date_time</th>\n      <th>contract_customer_inn</th>\n      <th>...</th>\n      <th>position_currency_code</th>\n      <th>contracts_for_lot</th>\n      <th>notice_customer_inn</th>\n      <th>notice_placer_inn</th>\n      <th>notice_detached_org_inn</th>\n      <th>contract_positions_count</th>\n      <th>supplier_inn</th>\n      <th>supplier_name</th>\n      <th>supplier_ogrn</th>\n      <th>supplier_type</th>\n    </tr>\n  </thead>\n  <tbody>\n    <tr>\n      <th>0</th>\n      <td>000efbce-29cc-4fda-ba27-e5b895f5b6ad</td>\n      <td>56684021776200003580001</td>\n      <td>0</td>\n      <td>1</td>\n      <td>0</td>\n      <td>0</td>\n      <td>None</td>\n      <td>None</td>\n      <td>2020-12-02 05:02:53</td>\n      <td>6684021776</td>\n      <td>...</td>\n      <td>None</td>\n      <td>1</td>\n      <td>6684021776</td>\n      <td>6684021776</td>\n      <td>None</td>\n      <td>11</td>\n      <td>NaN</td>\n      <td>NaN</td>\n      <td>NaN</td>\n      <td>NaN</td>\n    </tr>\n    <tr>\n      <th>1</th>\n      <td>000efbce-29cc-4fda-ba27-e5b895f5b6ad</td>\n      <td>56684021776200003580001</td>\n      <td>0</td>\n      <td>1</td>\n      <td>0</td>\n      <td>0</td>\n      <td>None</td>\n      <td>None</td>\n      <td>2020-12-02 05:02:53</td>\n      <td>6684021776</td>\n      <td>...</td>\n      <td>None</td>\n      <td>1</td>\n      <td>6684021776</td>\n      <td>6684021776</td>\n      <td>None</td>\n      <td>11</td>\n      <td>NaN</td>\n      <td>NaN</td>\n      <td>NaN</td>\n      <td>NaN</td>\n    </tr>\n    <tr>\n      <th>2</th>\n      <td>000efbce-29cc-4fda-ba27-e5b895f5b6ad</td>\n      <td>56684021776200003580001</td>\n      <td>0</td>\n      <td>1</td>\n      <td>0</td>\n      <td>0</td>\n      <td>None</td>\n      <td>None</td>\n      <td>2020-12-02 05:02:53</td>\n      <td>6684021776</td>\n      <td>...</td>\n      <td>None</td>\n      <td>1</td>\n      <td>6684021776</td>\n      <td>6684021776</td>\n      <td>None</td>\n      <td>11</td>\n      <td>NaN</td>\n      <td>NaN</td>\n      <td>NaN</td>\n      <td>NaN</td>\n    </tr>\n    <tr>\n      <th>3</th>\n      <td>000efbce-29cc-4fda-ba27-e5b895f5b6ad</td>\n      <td>56684021776200003580001</td>\n      <td>0</td>\n      <td>1</td>\n      <td>0</td>\n      <td>0</td>\n      <td>None</td>\n      <td>None</td>\n      <td>2020-12-02 05:02:53</td>\n      <td>6684021776</td>\n      <td>...</td>\n      <td>None</td>\n      <td>1</td>\n      <td>6684021776</td>\n      <td>6684021776</td>\n      <td>None</td>\n      <td>11</td>\n      <td>NaN</td>\n      <td>NaN</td>\n      <td>NaN</td>\n      <td>NaN</td>\n    </tr>\n    <tr>\n      <th>4</th>\n      <td>000efbce-29cc-4fda-ba27-e5b895f5b6ad</td>\n      <td>56684021776200003580001</td>\n      <td>0</td>\n      <td>1</td>\n      <td>0</td>\n      <td>0</td>\n      <td>None</td>\n      <td>None</td>\n      <td>2020-12-02 05:02:53</td>\n      <td>6684021776</td>\n      <td>...</td>\n      <td>None</td>\n      <td>1</td>\n      <td>6684021776</td>\n      <td>6684021776</td>\n      <td>None</td>\n      <td>11</td>\n      <td>NaN</td>\n      <td>NaN</td>\n      <td>NaN</td>\n      <td>NaN</td>\n    </tr>\n    <tr>\n      <th>...</th>\n      <td>...</td>\n      <td>...</td>\n      <td>...</td>\n      <td>...</td>\n      <td>...</td>\n      <td>...</td>\n      <td>...</td>\n      <td>...</td>\n      <td>...</td>\n      <td>...</td>\n      <td>...</td>\n      <td>...</td>\n      <td>...</td>\n      <td>...</td>\n      <td>...</td>\n      <td>...</td>\n      <td>...</td>\n      <td>...</td>\n      <td>...</td>\n      <td>...</td>\n      <td>...</td>\n    </tr>\n    <tr>\n      <th>11305</th>\n      <td>ffd13b8b-ffef-4b0d-8fa5-3214f3e44e2b</td>\n      <td>52312210286200000990001</td>\n      <td>0</td>\n      <td>0</td>\n      <td>0</td>\n      <td>0</td>\n      <td>None</td>\n      <td>None</td>\n      <td>2020-12-08 11:26:50</td>\n      <td>2312210286</td>\n      <td>...</td>\n      <td>None</td>\n      <td>1</td>\n      <td>2312210286</td>\n      <td>2312210286</td>\n      <td>None</td>\n      <td>1</td>\n      <td>2370005720</td>\n      <td>ОБЩЕСТВО С ОГРАНИЧЕННОЙ ОТВЕТСТВЕННОСТЬЮ \"ЭНЕР...</td>\n      <td>1162370050446</td>\n      <td>Юридическое лицо</td>\n    </tr>\n    <tr>\n      <th>11306</th>\n      <td>ffda639d-aada-44de-974a-4ce9ac345a55</td>\n      <td>67723011906200009850003</td>\n      <td>0</td>\n      <td>0</td>\n      <td>0</td>\n      <td>0</td>\n      <td>None</td>\n      <td>None</td>\n      <td>2020-11-11 10:04:03</td>\n      <td>7723011906</td>\n      <td>...</td>\n      <td>None</td>\n      <td>1</td>\n      <td>7723011906</td>\n      <td>7723011906</td>\n      <td>None</td>\n      <td>1</td>\n      <td>NaN</td>\n      <td>NaN</td>\n      <td>NaN</td>\n      <td>NaN</td>\n    </tr>\n    <tr>\n      <th>11307</th>\n      <td>ffe52c52-50b9-4962-8392-28ab996f7d62</td>\n      <td>56829018032200000820001</td>\n      <td>0</td>\n      <td>0</td>\n      <td>0</td>\n      <td>0</td>\n      <td>None</td>\n      <td>None</td>\n      <td>2020-07-15 06:35:10</td>\n      <td>6829018032</td>\n      <td>...</td>\n      <td>None</td>\n      <td>1</td>\n      <td>6829018032</td>\n      <td>6829018032</td>\n      <td>None</td>\n      <td>1</td>\n      <td>NaN</td>\n      <td>NaN</td>\n      <td>NaN</td>\n      <td>NaN</td>\n    </tr>\n    <tr>\n      <th>11308</th>\n      <td>ffeed1b5-bd37-4706-8109-95a9367e499e</td>\n      <td>56731033838200000460001</td>\n      <td>0</td>\n      <td>0</td>\n      <td>0</td>\n      <td>0</td>\n      <td>None</td>\n      <td>None</td>\n      <td>2020-12-21 07:26:42</td>\n      <td>6731033838</td>\n      <td>...</td>\n      <td>None</td>\n      <td>1</td>\n      <td>6731033838</td>\n      <td>6731033838</td>\n      <td>None</td>\n      <td>1</td>\n      <td>NaN</td>\n      <td>NaN</td>\n      <td>NaN</td>\n      <td>NaN</td>\n    </tr>\n    <tr>\n      <th>11309</th>\n      <td>fffb9623-244a-4c27-b1c7-4518ab6412bd</td>\n      <td>51431004812210000980001</td>\n      <td>0</td>\n      <td>0</td>\n      <td>0</td>\n      <td>0</td>\n      <td>None</td>\n      <td>None</td>\n      <td>2021-07-07 09:05:27</td>\n      <td>1431004812</td>\n      <td>...</td>\n      <td>RUB</td>\n      <td>1</td>\n      <td>1431004812</td>\n      <td>1431004812</td>\n      <td>None</td>\n      <td>1</td>\n      <td>NaN</td>\n      <td>NaN</td>\n      <td>NaN</td>\n      <td>NaN</td>\n    </tr>\n  </tbody>\n</table>\n<p>11310 rows × 60 columns</p>\n</div>"
     },
     "execution_count": 17,
     "metadata": {},
     "output_type": "execute_result"
    }
   ],
   "source": [
    "dataset = pd.merge(\n",
    "    dataset,\n",
    "    lot_suppliers,\n",
    "    how='left',\n",
    "    on='lot_guid'\n",
    ")\n",
    "\n",
    "dataset"
   ],
   "metadata": {
    "collapsed": false,
    "pycharm": {
     "name": "#%%\n"
    }
   }
  },
  {
   "cell_type": "markdown",
   "source": [
    "Выгрузим датасет в эксель"
   ],
   "metadata": {
    "collapsed": false,
    "pycharm": {
     "name": "#%% md\n"
    }
   }
  },
  {
   "cell_type": "code",
   "execution_count": 18,
   "outputs": [],
   "source": [
    "dataset.to_excel(\"output.xlsx\", sheet_name=\"Main\")"
   ],
   "metadata": {
    "collapsed": false,
    "pycharm": {
     "name": "#%%\n"
    }
   }
  },
  {
   "cell_type": "markdown",
   "source": [
    "Найдём информацию о заявках, на интересующие нас лоты\n"
   ],
   "metadata": {
    "collapsed": false,
    "pycharm": {
     "name": "#%% md\n"
    }
   }
  },
  {
   "cell_type": "code",
   "execution_count": 19,
   "outputs": [
    {
     "data": {
      "text/plain": "                                  lot_guid  lot_initial_sum  \\\n0     001180aa-ec39-fe24-e63b-de59c6c8b320        532546.68   \n1     001180aa-ec39-fe24-e63b-de59c6c8b320        532546.68   \n2     001180aa-ec39-fe24-e63b-de59c6c8b320        532546.68   \n3     001180aa-ec39-fe24-e63b-de59c6c8b320        532546.68   \n4     0024ab3a-2d0b-1777-ac85-fe8b9ab39c2d       3700412.11   \n...                                    ...              ...   \n5494  ffb5bde5-3196-49ec-b1d8-9385a4bed2d0       2050145.44   \n5495  ffc9c985-1386-45ab-86f3-9b6590a600aa       2145000.00   \n5496  ffdd300a-57e0-493f-8f46-460d1ff65276        120000.00   \n5497  ffe29952-0bec-4deb-8422-0a118b0842e7        525000.00   \n5498  fff3b4ba-20f9-451e-8ecd-d0c185e2cf56       5159837.73   \n\n     lot_commodity_price  lot_max_contract_price  lot_non_price  \\\n0                   None                     NaN            NaN   \n1                   None                     NaN            NaN   \n2                   None                     NaN            NaN   \n3                   None                     NaN            NaN   \n4                   None                     NaN            NaN   \n...                  ...                     ...            ...   \n5494                None                     NaN            0.0   \n5495                None                     NaN            NaN   \n5496                None                     NaN            NaN   \n5497                None                     NaN            0.0   \n5498                None                     NaN            NaN   \n\n     lot_currency_code     application_date  application_not_dishonest  \\\n0                  RUB  2021-09-29 11:18:52                        1.0   \n1                  RUB  2021-09-30 09:40:50                        1.0   \n2                  RUB  2021-09-30 06:20:07                        1.0   \n3                  RUB  2021-09-30 08:31:16                        1.0   \n4                  RUB  2020-07-28 06:36:41                        NaN   \n...                ...                  ...                        ...   \n5494               RUB  2020-11-30 12:30:00                        1.0   \n5495               RUB  2021-01-19 09:00:00                        NaN   \n5496               RUB  2020-10-15 08:00:00                        NaN   \n5497               RUB  2021-09-29 08:00:00                        1.0   \n5498               RUB  2020-04-28 09:00:00                        NaN   \n\n      application_provider                         supplier_guid  ...  \\\n0                      1.0  1c9f992c-e5ef-45c3-9a26-5cae096c0914  ...   \n1                      1.0  5ea6fc6f-832d-4ffb-b16e-dc6dd159a4c6  ...   \n2                      1.0  d9ce1e3e-75d0-45b3-abcc-86d3f5fd5066  ...   \n3                      1.0  f6d6a2c5-0644-4bf6-b351-55d43380fd02  ...   \n4                      NaN                                  None  ...   \n...                    ...                                   ...  ...   \n5494                   1.0  48a73f6e-5714-4792-87c3-0ffd0597131d  ...   \n5495                   NaN                                  None  ...   \n5496                   NaN                                  None  ...   \n5497                   0.0  dbd4a182-5e48-4976-8016-510706a4f1cf  ...   \n5498                   NaN                                  None  ...   \n\n     application_price application_currency_code  \\\n0            528360.00                       RUB   \n1            528179.80                       RUB   \n2            528286.31                       RUB   \n3            532546.68                       RUB   \n4                  NaN                      None   \n...                ...                       ...   \n5494        2050145.44                       RUB   \n5495        2145000.00                       RUB   \n5496         120000.00                       RUB   \n5497         525000.00                       RUB   \n5498        5159837.73                       RUB   \n\n                   application_accepted application_rejection_reason_code  \\\n0                               Допущен                              None   \n1                               Допущен                              None   \n2                               Допущен                              None   \n3                               Допущен                              None   \n4     Не указывается в данном протоколе                              None   \n...                                 ...                               ...   \n5494                            Допущен          STRUCTURE_CONTENT_DESIGN   \n5495                               None                              None   \n5496                               None                              None   \n5497                            Допущен          STRUCTURE_CONTENT_DESIGN   \n5498                               None                              None   \n\n          application_winner_indication application_contract_signed  \\\n0                                  None                         NaN   \n1                                  None                         1.0   \n2                                  None                         NaN   \n3                                  None                         NaN   \n4     Не указывается в данном протоколе                         NaN   \n...                                 ...                         ...   \n5494                               None                         1.0   \n5495                               None                         NaN   \n5496                               None                         NaN   \n5497                               None                         1.0   \n5498                               None                         NaN   \n\n     application_additional_price application_rating  \\\n0                             NaN                NaN   \n1                             NaN                NaN   \n2                             NaN                NaN   \n3                             NaN                NaN   \n4                             NaN                NaN   \n...                           ...                ...   \n5494                   2050145.44                1.0   \n5495                          NaN                NaN   \n5496                          NaN                NaN   \n5497                          NaN                NaN   \n5498                          NaN                NaN   \n\n     application_assessment_result  application_commission_decision_place  \n0                              3.0                                    3.0  \n1                              1.0                                    1.0  \n2                              2.0                                    2.0  \n3                              4.0                                    4.0  \n4                              NaN                                    NaN  \n...                            ...                                    ...  \n5494                           NaN                                    1.0  \n5495                           NaN                                    NaN  \n5496                           NaN                                    NaN  \n5497                           NaN                                    1.0  \n5498                           NaN                                    NaN  \n\n[5499 rows x 24 columns]",
      "text/html": "<div>\n<style scoped>\n    .dataframe tbody tr th:only-of-type {\n        vertical-align: middle;\n    }\n\n    .dataframe tbody tr th {\n        vertical-align: top;\n    }\n\n    .dataframe thead th {\n        text-align: right;\n    }\n</style>\n<table border=\"1\" class=\"dataframe\">\n  <thead>\n    <tr style=\"text-align: right;\">\n      <th></th>\n      <th>lot_guid</th>\n      <th>lot_initial_sum</th>\n      <th>lot_commodity_price</th>\n      <th>lot_max_contract_price</th>\n      <th>lot_non_price</th>\n      <th>lot_currency_code</th>\n      <th>application_date</th>\n      <th>application_not_dishonest</th>\n      <th>application_provider</th>\n      <th>supplier_guid</th>\n      <th>...</th>\n      <th>application_price</th>\n      <th>application_currency_code</th>\n      <th>application_accepted</th>\n      <th>application_rejection_reason_code</th>\n      <th>application_winner_indication</th>\n      <th>application_contract_signed</th>\n      <th>application_additional_price</th>\n      <th>application_rating</th>\n      <th>application_assessment_result</th>\n      <th>application_commission_decision_place</th>\n    </tr>\n  </thead>\n  <tbody>\n    <tr>\n      <th>0</th>\n      <td>001180aa-ec39-fe24-e63b-de59c6c8b320</td>\n      <td>532546.68</td>\n      <td>None</td>\n      <td>NaN</td>\n      <td>NaN</td>\n      <td>RUB</td>\n      <td>2021-09-29 11:18:52</td>\n      <td>1.0</td>\n      <td>1.0</td>\n      <td>1c9f992c-e5ef-45c3-9a26-5cae096c0914</td>\n      <td>...</td>\n      <td>528360.00</td>\n      <td>RUB</td>\n      <td>Допущен</td>\n      <td>None</td>\n      <td>None</td>\n      <td>NaN</td>\n      <td>NaN</td>\n      <td>NaN</td>\n      <td>3.0</td>\n      <td>3.0</td>\n    </tr>\n    <tr>\n      <th>1</th>\n      <td>001180aa-ec39-fe24-e63b-de59c6c8b320</td>\n      <td>532546.68</td>\n      <td>None</td>\n      <td>NaN</td>\n      <td>NaN</td>\n      <td>RUB</td>\n      <td>2021-09-30 09:40:50</td>\n      <td>1.0</td>\n      <td>1.0</td>\n      <td>5ea6fc6f-832d-4ffb-b16e-dc6dd159a4c6</td>\n      <td>...</td>\n      <td>528179.80</td>\n      <td>RUB</td>\n      <td>Допущен</td>\n      <td>None</td>\n      <td>None</td>\n      <td>1.0</td>\n      <td>NaN</td>\n      <td>NaN</td>\n      <td>1.0</td>\n      <td>1.0</td>\n    </tr>\n    <tr>\n      <th>2</th>\n      <td>001180aa-ec39-fe24-e63b-de59c6c8b320</td>\n      <td>532546.68</td>\n      <td>None</td>\n      <td>NaN</td>\n      <td>NaN</td>\n      <td>RUB</td>\n      <td>2021-09-30 06:20:07</td>\n      <td>1.0</td>\n      <td>1.0</td>\n      <td>d9ce1e3e-75d0-45b3-abcc-86d3f5fd5066</td>\n      <td>...</td>\n      <td>528286.31</td>\n      <td>RUB</td>\n      <td>Допущен</td>\n      <td>None</td>\n      <td>None</td>\n      <td>NaN</td>\n      <td>NaN</td>\n      <td>NaN</td>\n      <td>2.0</td>\n      <td>2.0</td>\n    </tr>\n    <tr>\n      <th>3</th>\n      <td>001180aa-ec39-fe24-e63b-de59c6c8b320</td>\n      <td>532546.68</td>\n      <td>None</td>\n      <td>NaN</td>\n      <td>NaN</td>\n      <td>RUB</td>\n      <td>2021-09-30 08:31:16</td>\n      <td>1.0</td>\n      <td>1.0</td>\n      <td>f6d6a2c5-0644-4bf6-b351-55d43380fd02</td>\n      <td>...</td>\n      <td>532546.68</td>\n      <td>RUB</td>\n      <td>Допущен</td>\n      <td>None</td>\n      <td>None</td>\n      <td>NaN</td>\n      <td>NaN</td>\n      <td>NaN</td>\n      <td>4.0</td>\n      <td>4.0</td>\n    </tr>\n    <tr>\n      <th>4</th>\n      <td>0024ab3a-2d0b-1777-ac85-fe8b9ab39c2d</td>\n      <td>3700412.11</td>\n      <td>None</td>\n      <td>NaN</td>\n      <td>NaN</td>\n      <td>RUB</td>\n      <td>2020-07-28 06:36:41</td>\n      <td>NaN</td>\n      <td>NaN</td>\n      <td>None</td>\n      <td>...</td>\n      <td>NaN</td>\n      <td>None</td>\n      <td>Не указывается в данном протоколе</td>\n      <td>None</td>\n      <td>Не указывается в данном протоколе</td>\n      <td>NaN</td>\n      <td>NaN</td>\n      <td>NaN</td>\n      <td>NaN</td>\n      <td>NaN</td>\n    </tr>\n    <tr>\n      <th>...</th>\n      <td>...</td>\n      <td>...</td>\n      <td>...</td>\n      <td>...</td>\n      <td>...</td>\n      <td>...</td>\n      <td>...</td>\n      <td>...</td>\n      <td>...</td>\n      <td>...</td>\n      <td>...</td>\n      <td>...</td>\n      <td>...</td>\n      <td>...</td>\n      <td>...</td>\n      <td>...</td>\n      <td>...</td>\n      <td>...</td>\n      <td>...</td>\n      <td>...</td>\n      <td>...</td>\n    </tr>\n    <tr>\n      <th>5494</th>\n      <td>ffb5bde5-3196-49ec-b1d8-9385a4bed2d0</td>\n      <td>2050145.44</td>\n      <td>None</td>\n      <td>NaN</td>\n      <td>0.0</td>\n      <td>RUB</td>\n      <td>2020-11-30 12:30:00</td>\n      <td>1.0</td>\n      <td>1.0</td>\n      <td>48a73f6e-5714-4792-87c3-0ffd0597131d</td>\n      <td>...</td>\n      <td>2050145.44</td>\n      <td>RUB</td>\n      <td>Допущен</td>\n      <td>STRUCTURE_CONTENT_DESIGN</td>\n      <td>None</td>\n      <td>1.0</td>\n      <td>2050145.44</td>\n      <td>1.0</td>\n      <td>NaN</td>\n      <td>1.0</td>\n    </tr>\n    <tr>\n      <th>5495</th>\n      <td>ffc9c985-1386-45ab-86f3-9b6590a600aa</td>\n      <td>2145000.00</td>\n      <td>None</td>\n      <td>NaN</td>\n      <td>NaN</td>\n      <td>RUB</td>\n      <td>2021-01-19 09:00:00</td>\n      <td>NaN</td>\n      <td>NaN</td>\n      <td>None</td>\n      <td>...</td>\n      <td>2145000.00</td>\n      <td>RUB</td>\n      <td>None</td>\n      <td>None</td>\n      <td>None</td>\n      <td>NaN</td>\n      <td>NaN</td>\n      <td>NaN</td>\n      <td>NaN</td>\n      <td>NaN</td>\n    </tr>\n    <tr>\n      <th>5496</th>\n      <td>ffdd300a-57e0-493f-8f46-460d1ff65276</td>\n      <td>120000.00</td>\n      <td>None</td>\n      <td>NaN</td>\n      <td>NaN</td>\n      <td>RUB</td>\n      <td>2020-10-15 08:00:00</td>\n      <td>NaN</td>\n      <td>NaN</td>\n      <td>None</td>\n      <td>...</td>\n      <td>120000.00</td>\n      <td>RUB</td>\n      <td>None</td>\n      <td>None</td>\n      <td>None</td>\n      <td>NaN</td>\n      <td>NaN</td>\n      <td>NaN</td>\n      <td>NaN</td>\n      <td>NaN</td>\n    </tr>\n    <tr>\n      <th>5497</th>\n      <td>ffe29952-0bec-4deb-8422-0a118b0842e7</td>\n      <td>525000.00</td>\n      <td>None</td>\n      <td>NaN</td>\n      <td>0.0</td>\n      <td>RUB</td>\n      <td>2021-09-29 08:00:00</td>\n      <td>1.0</td>\n      <td>0.0</td>\n      <td>dbd4a182-5e48-4976-8016-510706a4f1cf</td>\n      <td>...</td>\n      <td>525000.00</td>\n      <td>RUB</td>\n      <td>Допущен</td>\n      <td>STRUCTURE_CONTENT_DESIGN</td>\n      <td>None</td>\n      <td>1.0</td>\n      <td>NaN</td>\n      <td>NaN</td>\n      <td>NaN</td>\n      <td>1.0</td>\n    </tr>\n    <tr>\n      <th>5498</th>\n      <td>fff3b4ba-20f9-451e-8ecd-d0c185e2cf56</td>\n      <td>5159837.73</td>\n      <td>None</td>\n      <td>NaN</td>\n      <td>NaN</td>\n      <td>RUB</td>\n      <td>2020-04-28 09:00:00</td>\n      <td>NaN</td>\n      <td>NaN</td>\n      <td>None</td>\n      <td>...</td>\n      <td>5159837.73</td>\n      <td>RUB</td>\n      <td>None</td>\n      <td>None</td>\n      <td>None</td>\n      <td>NaN</td>\n      <td>NaN</td>\n      <td>NaN</td>\n      <td>NaN</td>\n      <td>NaN</td>\n    </tr>\n  </tbody>\n</table>\n<p>5499 rows × 24 columns</p>\n</div>"
     },
     "execution_count": 19,
     "metadata": {},
     "output_type": "execute_result"
    }
   ],
   "source": [
    "lot_applications = pd.read_sql_query(\n",
    "    \"\"\"\n",
    "    SELECT tmp1.lot_guid, pl.initial_sum as lot_initial_sum, pl.commodity_price as lot_commodity_price,\n",
    "       pl.max_contract_price as lot_max_contract_price, pl.non_price as lot_non_price,\n",
    "       pl.currency_code as lot_currency_code,\n",
    "       a.application_date as application_date, a.not_dishonest as application_not_dishonest,\n",
    "       a.provider as application_provider, a.supplier_guid as supplier_guid, si.inn as supplier_inn,\n",
    "       si.name as supplier_name, si.ogrn as supplier_ogrn, si.type as supplier_type,\n",
    "       a.price as application_price, a.currency_code as application_currency_code,\n",
    "       a.accepted as application_accepted, a.application_rejection_reason_code as application_rejection_reason_code,\n",
    "       a.winner_indication as application_winner_indication, a.contract_signed as application_contract_signed,\n",
    "       a.additional_price as application_additional_price, a.rating as application_rating,\n",
    "       a.assessment_result as application_assessment_result,\n",
    "       a.commission_decision_place as application_commission_decision_place\n",
    "    FROM (\n",
    "        SELECT c.lot_guid\n",
    "        FROM contract c\n",
    "        INNER JOIN (\n",
    "            SELECT contract_reg_number, MAX(version) ver\n",
    "            FROM contract\n",
    "            WHERE emergency = 1\n",
    "            AND lot_guid is not null\n",
    "            GROUP BY contract_reg_number\n",
    "        ) tmp ON c.contract_reg_number = tmp.contract_reg_number AND c.version = tmp.ver\n",
    "        GROUP BY c.lot_guid\n",
    "    ) tmp1\n",
    "    INNER JOIN protocol_lot pl ON tmp1.lot_guid = pl.guid\n",
    "    INNER JOIN protocol_lot_applications pla on pl.guid = pla.protocol_lot_guid\n",
    "    INNER JOIN application a on pla.id = a.protocol_lot_applications_id\n",
    "    LEFT JOIN supplier_info si on a.supplier_guid = si.guid\n",
    "    ;\n",
    "    \"\"\",\n",
    "    conn\n",
    ")\n",
    "\n",
    "lot_applications"
   ],
   "metadata": {
    "collapsed": false,
    "pycharm": {
     "name": "#%%\n"
    }
   }
  },
  {
   "cell_type": "markdown",
   "source": [
    "Выгрузим заявки в эксель"
   ],
   "metadata": {
    "collapsed": false,
    "pycharm": {
     "name": "#%% md\n"
    }
   }
  },
  {
   "cell_type": "code",
   "execution_count": 20,
   "outputs": [],
   "source": [
    "lot_applications.to_excel(\"output.xlsx\", sheet_name=\"Applications\")"
   ],
   "metadata": {
    "collapsed": false,
    "pycharm": {
     "name": "#%%\n"
    }
   }
  },
  {
   "cell_type": "markdown",
   "source": [
    "Проанализируем исполнение договоров в нашей выборке:"
   ],
   "metadata": {
    "collapsed": false,
    "pycharm": {
     "name": "#%% md\n"
    }
   }
  },
  {
   "cell_type": "code",
   "execution_count": 21,
   "outputs": [
    {
     "name": "stdout",
     "output_type": "stream",
     "text": [
      "Всего договоров: 7646\n",
      "Всего завершенных договоров: 5522\n",
      "Всего расторженных договоров: 198\n",
      "Всего исполненных договоров: 5324\n",
      "Процент расторженных договоров от завершенных: 3.5856573705179287%\n",
      "Процент расторженных договоров от всех: 2.5895893277530733%\n"
     ]
    }
   ],
   "source": [
    "failed_contracts = covid_contracts_performance_with_lot[\n",
    "    covid_contracts_performance_with_lot[\"contract_is_complete\"] == 0]\n",
    "completed_contracts = covid_contracts_performance_with_lot[\n",
    "    covid_contracts_performance_with_lot[\"contract_is_complete\"] == 1]\n",
    "\n",
    "contracts_count = covid_contracts_performance_with_lot.shape[0]\n",
    "failed_contracts_count = failed_contracts.shape[0]\n",
    "completed_contracts_count = completed_contracts.shape[0]\n",
    "\n",
    "print(f'Всего договоров: {contracts_count}')\n",
    "print(f'Всего завершенных договоров: {failed_contracts_count + completed_contracts_count}')\n",
    "print(f'Всего расторженных договоров: {failed_contracts_count}')\n",
    "print(f'Всего исполненных договоров: {completed_contracts_count}')\n",
    "print(\n",
    "    f'Процент расторженных договоров от завершенных: {failed_contracts_count / (failed_contracts_count + completed_contracts_count) * 100}%')\n",
    "print(f'Процент расторженных договоров от всех: {failed_contracts_count / contracts_count * 100}%')"
   ],
   "metadata": {
    "collapsed": false,
    "pycharm": {
     "name": "#%%\n"
    }
   }
  },
  {
   "cell_type": "markdown",
   "source": [
    "Проанализируем в каком количестве позиций присутствует цена за единицу"
   ],
   "metadata": {
    "collapsed": false,
    "pycharm": {
     "name": "#%% md\n"
    }
   }
  },
  {
   "cell_type": "code",
   "execution_count": 22,
   "outputs": [
    {
     "name": "stdout",
     "output_type": "stream",
     "text": [
      "Всего позиций: 11310\n",
      "Всего позиций с указанной ценой: 4482\n",
      "Процент позиций с указанной ценой: 39.62864721485411%\n"
     ]
    }
   ],
   "source": [
    "positions_count = covid_contracts_positions_with_lot.shape[0]\n",
    "unit_price_positions_count = covid_contracts_positions_with_lot[covid_contracts_positions_with_lot[\"position_unit_price\"].notnull()].shape[0]\n",
    "\n",
    "print(f'Всего позиций: {positions_count}')\n",
    "print(f'Всего позиций с указанной ценой: {unit_price_positions_count}')\n",
    "print(f'Процент позиций с указанной ценой: {unit_price_positions_count / positions_count * 100}%')"
   ],
   "metadata": {
    "collapsed": false,
    "pycharm": {
     "name": "#%%\n"
    }
   }
  }
 ],
 "metadata": {
  "kernelspec": {
   "display_name": "Python 3",
   "language": "python",
   "name": "python3"
  },
  "language_info": {
   "codemirror_mode": {
    "name": "ipython",
    "version": 2
   },
   "file_extension": ".py",
   "mimetype": "text/x-python",
   "name": "python",
   "nbconvert_exporter": "python",
   "pygments_lexer": "ipython2",
   "version": "2.7.6"
  }
 },
 "nbformat": 4,
 "nbformat_minor": 0
}