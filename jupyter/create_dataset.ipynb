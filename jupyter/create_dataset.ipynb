{
 "cells": [
  {
   "cell_type": "code",
   "execution_count": 1,
   "metadata": {
    "collapsed": true
   },
   "outputs": [],
   "source": [
    "import sqlite3\n",
    "import pandas as pd"
   ]
  },
  {
   "cell_type": "markdown",
   "source": [
    "### Подключение к БД"
   ],
   "metadata": {
    "collapsed": false,
    "pycharm": {
     "name": "#%% md\n"
    }
   }
  },
  {
   "cell_type": "code",
   "execution_count": 2,
   "outputs": [],
   "source": [
    "conn = sqlite3.connect(\"data.db\")\n",
    "\n",
    "# Необходимо уметь приводить все символы к нижнему регистру, sqlite умеет только англ\n",
    "def sqlite_lower(value_):\n",
    "    return str(value_).lower()\n",
    "\n",
    "\n",
    "conn.create_function(\"LOWER\", 1, sqlite_lower)\n",
    "conn.commit()"
   ],
   "metadata": {
    "collapsed": false,
    "pycharm": {
     "name": "#%%\n"
    }
   }
  },
  {
   "cell_type": "markdown",
   "source": [
    "Выбираем все договоры самой старшей версии с меткой emergency - \"Закупка осуществляется вследствие аварии,\n",
    " иных чрезвычайных ситуаций природного или техногенного характера, непреодолимой силы,\n",
    " принеобходимости срочного медицинского вмешательства, а также для предотвращения угрозы\n",
    " возникновения указанных ситуаций\""
   ],
   "metadata": {
    "collapsed": false,
    "pycharm": {
     "name": "#%% md\n"
    }
   }
  },
  {
   "cell_type": "code",
   "execution_count": 3,
   "outputs": [
    {
     "data": {
      "text/plain": "                              contract_guid contract_registration_number  \\\n0      00015975-9c32-4b00-922d-7ab2866d3cf7      51433000147200015550001   \n1      0008f92e-3856-4383-97d2-2fd8b9b71aee      57708503727200082220007   \n2      000dc3f6-e39c-456b-b321-5486e2d8b78e      76652022897210001260001   \n3      000efbce-29cc-4fda-ba27-e5b895f5b6ad      56684021776200003580001   \n4      000f310c-5934-4d63-be2e-74dd4c99e301      56611000527200002950001   \n...                                     ...                          ...   \n16638  fff92ffe-8c3f-443f-8ca1-54b8cb98bb64      53801013663210002050001   \n16639  fffa65c3-f306-4bf8-a55c-89d740483fc5      57702070139200015180001   \n16640  fffaff02-11f4-4936-9d2c-01cc2b4c1c8d      58601053210200000270001   \n16641  fffb9623-244a-4c27-b1c7-4518ab6412bd      51431004812210000980001   \n16642  fffe1238-7e9b-4cbb-9162-7eb5e7910974      53812014556210000650001   \n\n       notice_not_placed_by_fz223p5s4  contract_extension  \\\n0                                   1                   0   \n1                                   1                   0   \n2                                   1                   0   \n3                                   0                   1   \n4                                   1                   0   \n...                               ...                 ...   \n16638                               1                   0   \n16639                               1                   0   \n16640                               1                   0   \n16641                               0                   0   \n16642                               1                   0   \n\n       contract_prolongation  customer_appeale_or_needs_approval  \\\n0                          0                                   0   \n1                          0                                   0   \n2                          0                                   0   \n3                          0                                   0   \n4                          0                                   0   \n...                      ...                                 ...   \n16638                      0                                   0   \n16639                      0                                   0   \n16640                      0                                   0   \n16641                      0                                   0   \n16642                      0                                   0   \n\n      customer_approval_or_antimonopoly_descision_date  \\\n0                                                 None   \n1                                                 None   \n2                                                 None   \n3                                                 None   \n4                                                 None   \n...                                                ...   \n16638                                             None   \n16639                                             None   \n16640                                             None   \n16641                                             None   \n16642                                             None   \n\n                contract_plan_position_guid contract_create_date_time  \\\n0                                      None       2020-12-01 00:32:23   \n1                                      None       2021-09-23 12:34:16   \n2      40451834-df9b-11eb-b80c-b8cef612661b       2021-07-23 04:46:32   \n3                                      None       2020-12-02 05:02:53   \n4      ed850d8e-b314-4c08-92b1-e49429220e75       2020-10-27 06:07:26   \n...                                     ...                       ...   \n16638                                  None       2021-10-04 02:31:36   \n16639                                  None       2020-06-04 06:38:35   \n16640                                  None       2020-10-02 05:04:25   \n16641                                  None       2021-07-07 09:05:27   \n16642  999009e9-12a2-4817-a43a-f5fa7c88cb31       2021-04-29 05:51:01   \n\n      contract_customer_inn  ... purchase_notice_info_number  \\\n0                1433000147  ...                        None   \n1                7708503727  ...                        None   \n2                6652022897  ...                        None   \n3                6684021776  ...                 32009740825   \n4                6611000527  ...                        None   \n...                     ...  ...                         ...   \n16638            3801013663  ...                        None   \n16639            7702070139  ...                        None   \n16640            8601053210  ...                        None   \n16641            1431004812  ...                 32110451253   \n16642            3812014556  ...                        None   \n\n                                   lot_guid  \\\n0                                      None   \n1                                      None   \n2                                      None   \n3      0621d71c-65f9-4181-81d5-b9e077fab7ef   \n4                                      None   \n...                                     ...   \n16638                                  None   \n16639                                  None   \n16640                                  None   \n16641  89d200ae-e338-463b-89b3-0cf5955eee3c   \n16642                                  None   \n\n                                        subject_contract purchase_type_code  \\\n0                                                   None              30000   \n1      Выполнение комплекса аварийно-восстановительны...              30000   \n2      1719-2021-00259. Выполнение работ по ремонту э...              30000   \n3                      Поставка лекарственных препаратов              40000   \n4                                 Поставка СИЗ: перчатки              30000   \n...                                                  ...                ...   \n16638        Поставка лекарственного препарата (гепарин)              30000   \n16639                         Поставка масок одноразовых              30000   \n16640  неисключительное право на воспроизведение прог...              30000   \n16641          Поставка лекарственных средств (артлегиа)              40000   \n16642  Поставка изделий медицинского назначения (комп...              30000   \n\n       contract_price  contract_rub_price contract_currency_code  \\\n0        5.342400e+06                 NaN                    RUB   \n1        1.016760e+09        1.016760e+09                    RUB   \n2        1.194000e+05        1.194000e+05                    RUB   \n3        2.453075e+06        2.453075e+06                    RUB   \n4        2.408000e+05        2.408000e+05                    RUB   \n...               ...                 ...                    ...   \n16638    1.341640e+05                 NaN                    RUB   \n16639    2.800000e+06                 NaN                    RUB   \n16640    1.250372e+05                 NaN                    RUB   \n16641    6.006000e+05                 NaN                    RUB   \n16642    2.042000e+06                 NaN                    RUB   \n\n      contract_start_execution_date contract_end_execution_date  \\\n0                        2020-10-15                  2020-12-17   \n1                        2020-05-31                  2021-12-30   \n2                        2021-07-21                  2021-08-20   \n3                        2020-11-29                  2021-02-27   \n4                        2020-10-25                  2020-12-30   \n...                             ...                         ...   \n16638                    2021-10-03                  2021-10-30   \n16639                    2020-05-18                  2020-06-03   \n16640                    2020-10-01                  2020-12-30   \n16641                    2021-07-06                  2021-12-30   \n16642                    2021-04-26                  2021-08-28   \n\n                        region_name  \n0                Saha_Jakutiya_Resp  \n1                            Moskva  \n2                 Sverdlovskaya_obl  \n3                 Sverdlovskaya_obl  \n4                 Sverdlovskaya_obl  \n...                             ...  \n16638                Irkutskaya_obl  \n16639               Sankt-Peterburg  \n16640  Hanty-Mansiiskii_AO_Iugra_AO  \n16641            Saha_Jakutiya_Resp  \n16642                Irkutskaya_obl  \n\n[16643 rows x 31 columns]",
      "text/html": "<div>\n<style scoped>\n    .dataframe tbody tr th:only-of-type {\n        vertical-align: middle;\n    }\n\n    .dataframe tbody tr th {\n        vertical-align: top;\n    }\n\n    .dataframe thead th {\n        text-align: right;\n    }\n</style>\n<table border=\"1\" class=\"dataframe\">\n  <thead>\n    <tr style=\"text-align: right;\">\n      <th></th>\n      <th>contract_guid</th>\n      <th>contract_registration_number</th>\n      <th>notice_not_placed_by_fz223p5s4</th>\n      <th>contract_extension</th>\n      <th>contract_prolongation</th>\n      <th>customer_appeale_or_needs_approval</th>\n      <th>customer_approval_or_antimonopoly_descision_date</th>\n      <th>contract_plan_position_guid</th>\n      <th>contract_create_date_time</th>\n      <th>contract_customer_inn</th>\n      <th>...</th>\n      <th>purchase_notice_info_number</th>\n      <th>lot_guid</th>\n      <th>subject_contract</th>\n      <th>purchase_type_code</th>\n      <th>contract_price</th>\n      <th>contract_rub_price</th>\n      <th>contract_currency_code</th>\n      <th>contract_start_execution_date</th>\n      <th>contract_end_execution_date</th>\n      <th>region_name</th>\n    </tr>\n  </thead>\n  <tbody>\n    <tr>\n      <th>0</th>\n      <td>00015975-9c32-4b00-922d-7ab2866d3cf7</td>\n      <td>51433000147200015550001</td>\n      <td>1</td>\n      <td>0</td>\n      <td>0</td>\n      <td>0</td>\n      <td>None</td>\n      <td>None</td>\n      <td>2020-12-01 00:32:23</td>\n      <td>1433000147</td>\n      <td>...</td>\n      <td>None</td>\n      <td>None</td>\n      <td>None</td>\n      <td>30000</td>\n      <td>5.342400e+06</td>\n      <td>NaN</td>\n      <td>RUB</td>\n      <td>2020-10-15</td>\n      <td>2020-12-17</td>\n      <td>Saha_Jakutiya_Resp</td>\n    </tr>\n    <tr>\n      <th>1</th>\n      <td>0008f92e-3856-4383-97d2-2fd8b9b71aee</td>\n      <td>57708503727200082220007</td>\n      <td>1</td>\n      <td>0</td>\n      <td>0</td>\n      <td>0</td>\n      <td>None</td>\n      <td>None</td>\n      <td>2021-09-23 12:34:16</td>\n      <td>7708503727</td>\n      <td>...</td>\n      <td>None</td>\n      <td>None</td>\n      <td>Выполнение комплекса аварийно-восстановительны...</td>\n      <td>30000</td>\n      <td>1.016760e+09</td>\n      <td>1.016760e+09</td>\n      <td>RUB</td>\n      <td>2020-05-31</td>\n      <td>2021-12-30</td>\n      <td>Moskva</td>\n    </tr>\n    <tr>\n      <th>2</th>\n      <td>000dc3f6-e39c-456b-b321-5486e2d8b78e</td>\n      <td>76652022897210001260001</td>\n      <td>1</td>\n      <td>0</td>\n      <td>0</td>\n      <td>0</td>\n      <td>None</td>\n      <td>40451834-df9b-11eb-b80c-b8cef612661b</td>\n      <td>2021-07-23 04:46:32</td>\n      <td>6652022897</td>\n      <td>...</td>\n      <td>None</td>\n      <td>None</td>\n      <td>1719-2021-00259. Выполнение работ по ремонту э...</td>\n      <td>30000</td>\n      <td>1.194000e+05</td>\n      <td>1.194000e+05</td>\n      <td>RUB</td>\n      <td>2021-07-21</td>\n      <td>2021-08-20</td>\n      <td>Sverdlovskaya_obl</td>\n    </tr>\n    <tr>\n      <th>3</th>\n      <td>000efbce-29cc-4fda-ba27-e5b895f5b6ad</td>\n      <td>56684021776200003580001</td>\n      <td>0</td>\n      <td>1</td>\n      <td>0</td>\n      <td>0</td>\n      <td>None</td>\n      <td>None</td>\n      <td>2020-12-02 05:02:53</td>\n      <td>6684021776</td>\n      <td>...</td>\n      <td>32009740825</td>\n      <td>0621d71c-65f9-4181-81d5-b9e077fab7ef</td>\n      <td>Поставка лекарственных препаратов</td>\n      <td>40000</td>\n      <td>2.453075e+06</td>\n      <td>2.453075e+06</td>\n      <td>RUB</td>\n      <td>2020-11-29</td>\n      <td>2021-02-27</td>\n      <td>Sverdlovskaya_obl</td>\n    </tr>\n    <tr>\n      <th>4</th>\n      <td>000f310c-5934-4d63-be2e-74dd4c99e301</td>\n      <td>56611000527200002950001</td>\n      <td>1</td>\n      <td>0</td>\n      <td>0</td>\n      <td>0</td>\n      <td>None</td>\n      <td>ed850d8e-b314-4c08-92b1-e49429220e75</td>\n      <td>2020-10-27 06:07:26</td>\n      <td>6611000527</td>\n      <td>...</td>\n      <td>None</td>\n      <td>None</td>\n      <td>Поставка СИЗ: перчатки</td>\n      <td>30000</td>\n      <td>2.408000e+05</td>\n      <td>2.408000e+05</td>\n      <td>RUB</td>\n      <td>2020-10-25</td>\n      <td>2020-12-30</td>\n      <td>Sverdlovskaya_obl</td>\n    </tr>\n    <tr>\n      <th>...</th>\n      <td>...</td>\n      <td>...</td>\n      <td>...</td>\n      <td>...</td>\n      <td>...</td>\n      <td>...</td>\n      <td>...</td>\n      <td>...</td>\n      <td>...</td>\n      <td>...</td>\n      <td>...</td>\n      <td>...</td>\n      <td>...</td>\n      <td>...</td>\n      <td>...</td>\n      <td>...</td>\n      <td>...</td>\n      <td>...</td>\n      <td>...</td>\n      <td>...</td>\n      <td>...</td>\n    </tr>\n    <tr>\n      <th>16638</th>\n      <td>fff92ffe-8c3f-443f-8ca1-54b8cb98bb64</td>\n      <td>53801013663210002050001</td>\n      <td>1</td>\n      <td>0</td>\n      <td>0</td>\n      <td>0</td>\n      <td>None</td>\n      <td>None</td>\n      <td>2021-10-04 02:31:36</td>\n      <td>3801013663</td>\n      <td>...</td>\n      <td>None</td>\n      <td>None</td>\n      <td>Поставка лекарственного препарата (гепарин)</td>\n      <td>30000</td>\n      <td>1.341640e+05</td>\n      <td>NaN</td>\n      <td>RUB</td>\n      <td>2021-10-03</td>\n      <td>2021-10-30</td>\n      <td>Irkutskaya_obl</td>\n    </tr>\n    <tr>\n      <th>16639</th>\n      <td>fffa65c3-f306-4bf8-a55c-89d740483fc5</td>\n      <td>57702070139200015180001</td>\n      <td>1</td>\n      <td>0</td>\n      <td>0</td>\n      <td>0</td>\n      <td>None</td>\n      <td>None</td>\n      <td>2020-06-04 06:38:35</td>\n      <td>7702070139</td>\n      <td>...</td>\n      <td>None</td>\n      <td>None</td>\n      <td>Поставка масок одноразовых</td>\n      <td>30000</td>\n      <td>2.800000e+06</td>\n      <td>NaN</td>\n      <td>RUB</td>\n      <td>2020-05-18</td>\n      <td>2020-06-03</td>\n      <td>Sankt-Peterburg</td>\n    </tr>\n    <tr>\n      <th>16640</th>\n      <td>fffaff02-11f4-4936-9d2c-01cc2b4c1c8d</td>\n      <td>58601053210200000270001</td>\n      <td>1</td>\n      <td>0</td>\n      <td>0</td>\n      <td>0</td>\n      <td>None</td>\n      <td>None</td>\n      <td>2020-10-02 05:04:25</td>\n      <td>8601053210</td>\n      <td>...</td>\n      <td>None</td>\n      <td>None</td>\n      <td>неисключительное право на воспроизведение прог...</td>\n      <td>30000</td>\n      <td>1.250372e+05</td>\n      <td>NaN</td>\n      <td>RUB</td>\n      <td>2020-10-01</td>\n      <td>2020-12-30</td>\n      <td>Hanty-Mansiiskii_AO_Iugra_AO</td>\n    </tr>\n    <tr>\n      <th>16641</th>\n      <td>fffb9623-244a-4c27-b1c7-4518ab6412bd</td>\n      <td>51431004812210000980001</td>\n      <td>0</td>\n      <td>0</td>\n      <td>0</td>\n      <td>0</td>\n      <td>None</td>\n      <td>None</td>\n      <td>2021-07-07 09:05:27</td>\n      <td>1431004812</td>\n      <td>...</td>\n      <td>32110451253</td>\n      <td>89d200ae-e338-463b-89b3-0cf5955eee3c</td>\n      <td>Поставка лекарственных средств (артлегиа)</td>\n      <td>40000</td>\n      <td>6.006000e+05</td>\n      <td>NaN</td>\n      <td>RUB</td>\n      <td>2021-07-06</td>\n      <td>2021-12-30</td>\n      <td>Saha_Jakutiya_Resp</td>\n    </tr>\n    <tr>\n      <th>16642</th>\n      <td>fffe1238-7e9b-4cbb-9162-7eb5e7910974</td>\n      <td>53812014556210000650001</td>\n      <td>1</td>\n      <td>0</td>\n      <td>0</td>\n      <td>0</td>\n      <td>None</td>\n      <td>999009e9-12a2-4817-a43a-f5fa7c88cb31</td>\n      <td>2021-04-29 05:51:01</td>\n      <td>3812014556</td>\n      <td>...</td>\n      <td>None</td>\n      <td>None</td>\n      <td>Поставка изделий медицинского назначения (комп...</td>\n      <td>30000</td>\n      <td>2.042000e+06</td>\n      <td>NaN</td>\n      <td>RUB</td>\n      <td>2021-04-26</td>\n      <td>2021-08-28</td>\n      <td>Irkutskaya_obl</td>\n    </tr>\n  </tbody>\n</table>\n<p>16643 rows × 31 columns</p>\n</div>"
     },
     "execution_count": 3,
     "metadata": {},
     "output_type": "execute_result"
    }
   ],
   "source": [
    "covid_contracts = pd.read_sql_query(\n",
    "    \"\"\"\n",
    "    SELECT c.guid as contract_guid, c.registration_number as contract_registration_number,\n",
    "    c.notice_not_placed_by_fz223p5s4 as notice_not_placed_by_fz223p5s4,\n",
    "    c.extension as contract_extension, c.prolongation as contract_prolongation,\n",
    "    c.customer_appeale_or_needs_approval as customer_appeale_or_needs_approval,\n",
    "    c.customer_approval_or_antimonopoly_descision_date as customer_approval_or_antimonopoly_descision_date,\n",
    "    c.plan_position_guid as contract_plan_position_guid,\n",
    "    c.create_date_time as contract_create_date_time,\n",
    "    c.customer_inn as contract_customer_inn, c.placer_inn as contract_placer_inn, c.detached_org_inn as contract_detached_org_inn,\n",
    "    c.publication_date as contract_publication_date, c.contract_status_code as contract_publication_date,\n",
    "    c.emergency as emergency, c.provider as provider, c.provider_code as provider_code, c.contract_reg_number as contract_reg_number,\n",
    "    c.contract_date as contract_date, c.digital_purchase as digital_purchase,\n",
    "    c.purchase_notice_info_guid as purchase_notice_info_guid, c.purchase_notice_info_number as purchase_notice_info_number,\n",
    "    c.lot_guid as lot_guid, c.subject_contract as subject_contract, c.purchase_type_code as purchase_type_code,\n",
    "    c.price as contract_price, c.rub_price as contract_rub_price, c.currency_code as contract_currency_code,\n",
    "    c.start_execution_date as contract_start_execution_date, c.end_execution_date as contract_end_execution_date,\n",
    "    c.region_name as region_name\n",
    "    FROM contract c\n",
    "    INNER JOIN (\n",
    "        SELECT contract_reg_number, MAX(version) ver\n",
    "        FROM contract\n",
    "        WHERE emergency = 1\n",
    "        GROUP BY contract_reg_number\n",
    "    ) tmp ON c.contract_reg_number = tmp.contract_reg_number AND c.version = tmp.ver\n",
    "    \"\"\",\n",
    "    conn\n",
    ")\n",
    "\n",
    "covid_contracts"
   ],
   "metadata": {
    "collapsed": false,
    "pycharm": {
     "name": "#%%\n"
    }
   }
  },
  {
   "cell_type": "markdown",
   "source": [
    "Для дальнейшего анализа необходимо проверить наличие поля с указанием лота"
   ],
   "metadata": {
    "collapsed": false,
    "pycharm": {
     "name": "#%% md\n"
    }
   }
  },
  {
   "cell_type": "code",
   "execution_count": 4,
   "outputs": [
    {
     "name": "stdout",
     "output_type": "stream",
     "text": [
      "Количество \"ковидных\" договоров: 16643\n",
      "Количество \"ковидных\" договоров с указанием лота: 7699\n"
     ]
    }
   ],
   "source": [
    "covid_contracts_with_not_null_lot = covid_contracts[covid_contracts[\"lot_guid\"].notnull()]\n",
    "\n",
    "print(f'Количество \"ковидных\" договоров: {covid_contracts.shape[0]}')\n",
    "print(f'Количество \"ковидных\" договоров с указанием лота: {covid_contracts_with_not_null_lot.shape[0]}')"
   ],
   "metadata": {
    "collapsed": false,
    "pycharm": {
     "name": "#%%\n"
    }
   }
  },
  {
   "cell_type": "markdown",
   "source": [
    "Договоры без указания lot_guid, это те где извещение не размещалось в соответствии\n",
    "с частью 5 статьи 4 Федерального Закона № 223-ФЗ, например https://zakupki.gov.ru/epz/contractfz223/card/contract-info.html?id=9268727\n",
    "\n",
    "Для выборки будем использовать только те договоры, в которых присутствуют лоты"
   ],
   "metadata": {
    "collapsed": false,
    "pycharm": {
     "name": "#%% md\n"
    }
   }
  },
  {
   "cell_type": "markdown",
   "source": [
    "К сожалению, полученная выборка слишком мала. Попробуем расширить её, использую предмет договора"
   ],
   "metadata": {
    "collapsed": false,
    "pycharm": {
     "name": "#%% md\n"
    }
   }
  },
  {
   "cell_type": "code",
   "execution_count": 5,
   "outputs": [
    {
     "data": {
      "text/plain": "   COUNT(*)\n0     32175",
      "text/html": "<div>\n<style scoped>\n    .dataframe tbody tr th:only-of-type {\n        vertical-align: middle;\n    }\n\n    .dataframe tbody tr th {\n        vertical-align: top;\n    }\n\n    .dataframe thead th {\n        text-align: right;\n    }\n</style>\n<table border=\"1\" class=\"dataframe\">\n  <thead>\n    <tr style=\"text-align: right;\">\n      <th></th>\n      <th>COUNT(*)</th>\n    </tr>\n  </thead>\n  <tbody>\n    <tr>\n      <th>0</th>\n      <td>32175</td>\n    </tr>\n  </tbody>\n</table>\n</div>"
     },
     "execution_count": 5,
     "metadata": {},
     "output_type": "execute_result"
    }
   ],
   "source": [
    "COVID_CONDITIONS = \"\"\" (\n",
    "emergency = 1\n",
    "or lower(subject_contract) like '%sars%cov%'\n",
    "or lower(subject_contract) like '%covid%'\n",
    "or lower(subject_contract) like '%коронавирус%'\n",
    "or lower(subject_contract) like '%противовирусн%'\n",
    "or lower(subject_contract) like '%пцр%'\n",
    "or lower(subject_contract) like '%пандеми%'\n",
    "or lower(subject_contract) like '%маск%медицинск%'\n",
    "or lower(subject_contract) like '%медицинск%маск%'\n",
    "or lower(subject_contract) like '%медицинск%масок%'\n",
    "or lower(subject_contract) like '%дезинфекц%'\n",
    "or lower(subject_contract) like '%дезинфиц%'\n",
    "or lower(subject_contract) like '%аппарат%ивл%'\n",
    "or lower(subject_contract) like '%искусственн%вентиляц%л_гк%'\n",
    "or lower(subject_contract) like '%масок%медицинск%'\n",
    "or lower(subject_contract) like '%одноразов%масок%'\n",
    "or lower(subject_contract) like '%одноразов%маск%'\n",
    "or lower(subject_contract) like '%маск%одноразов%'\n",
    "or lower(subject_contract) like '%масок%одноразов%'\n",
    "or lower(subject_contract) like '%антисепти%'\n",
    "or lower(subject_contract) like '%термометр%'\n",
    "or lower(subject_contract) like '%контрол%температур%'\n",
    "or lower(subject_contract) like '%медицинск%перчат%'\n",
    "or lower(subject_contract) like '%перчат%медицинск%'\n",
    "or lower(subject_contract) like '%медиц%кислород%'\n",
    "or lower(subject_contract) like '%кислород%медиц%'\n",
    ")\n",
    "\"\"\"\n",
    "covid_contracts = pd.read_sql_query(\n",
    "    f\"\"\"\n",
    "    SELECT COUNT(*)\n",
    "    FROM contract c\n",
    "    INNER JOIN (\n",
    "        SELECT contract_reg_number, MAX(version) ver\n",
    "        FROM contract\n",
    "        WHERE {COVID_CONDITIONS}\n",
    "        AND lot_guid is not null\n",
    "        GROUP BY contract_reg_number\n",
    "    ) tmp ON c.contract_reg_number = tmp.contract_reg_number AND c.version = tmp.ver\n",
    "    \"\"\",\n",
    "    conn\n",
    ")\n",
    "\n",
    "covid_contracts"
   ],
   "metadata": {
    "collapsed": false,
    "pycharm": {
     "name": "#%%\n"
    }
   }
  },
  {
   "cell_type": "markdown",
   "source": [
    "Проверим, существуют ли лоты, на которые было заключено несколько договоров."
   ],
   "metadata": {
    "collapsed": false,
    "pycharm": {
     "name": "#%% md\n"
    }
   }
  },
  {
   "cell_type": "code",
   "execution_count": 6,
   "outputs": [
    {
     "data": {
      "text/plain": "                                 lot_guid   c\n0    0073f630-28e6-41af-ab51-5d2996956007   2\n1    03fd4534-23ea-4cf7-9591-069f6ac23de1  13\n2    04e89b57-23f6-4c2d-a7f9-aa74884104e5   2\n3    067223a9-c129-4110-865a-8a0f0fa283cc   2\n4    06f56a5d-372f-b19f-87da-caec33c8af02   7\n..                                    ...  ..\n353  fdff2801-bed2-4ed1-83b5-1b82b0ea93c5   2\n354  fe96d4a7-3c6f-43d1-b937-4e4ac68e19ea   2\n355  fee77238-6233-44dc-83a4-a94f2471a6b0  17\n356  ff1be10a-721c-4075-b5e1-13ae00f5f001   4\n357  ff261896-8830-4824-aea3-2aec4e8570bd   3\n\n[358 rows x 2 columns]",
      "text/html": "<div>\n<style scoped>\n    .dataframe tbody tr th:only-of-type {\n        vertical-align: middle;\n    }\n\n    .dataframe tbody tr th {\n        vertical-align: top;\n    }\n\n    .dataframe thead th {\n        text-align: right;\n    }\n</style>\n<table border=\"1\" class=\"dataframe\">\n  <thead>\n    <tr style=\"text-align: right;\">\n      <th></th>\n      <th>lot_guid</th>\n      <th>c</th>\n    </tr>\n  </thead>\n  <tbody>\n    <tr>\n      <th>0</th>\n      <td>0073f630-28e6-41af-ab51-5d2996956007</td>\n      <td>2</td>\n    </tr>\n    <tr>\n      <th>1</th>\n      <td>03fd4534-23ea-4cf7-9591-069f6ac23de1</td>\n      <td>13</td>\n    </tr>\n    <tr>\n      <th>2</th>\n      <td>04e89b57-23f6-4c2d-a7f9-aa74884104e5</td>\n      <td>2</td>\n    </tr>\n    <tr>\n      <th>3</th>\n      <td>067223a9-c129-4110-865a-8a0f0fa283cc</td>\n      <td>2</td>\n    </tr>\n    <tr>\n      <th>4</th>\n      <td>06f56a5d-372f-b19f-87da-caec33c8af02</td>\n      <td>7</td>\n    </tr>\n    <tr>\n      <th>...</th>\n      <td>...</td>\n      <td>...</td>\n    </tr>\n    <tr>\n      <th>353</th>\n      <td>fdff2801-bed2-4ed1-83b5-1b82b0ea93c5</td>\n      <td>2</td>\n    </tr>\n    <tr>\n      <th>354</th>\n      <td>fe96d4a7-3c6f-43d1-b937-4e4ac68e19ea</td>\n      <td>2</td>\n    </tr>\n    <tr>\n      <th>355</th>\n      <td>fee77238-6233-44dc-83a4-a94f2471a6b0</td>\n      <td>17</td>\n    </tr>\n    <tr>\n      <th>356</th>\n      <td>ff1be10a-721c-4075-b5e1-13ae00f5f001</td>\n      <td>4</td>\n    </tr>\n    <tr>\n      <th>357</th>\n      <td>ff261896-8830-4824-aea3-2aec4e8570bd</td>\n      <td>3</td>\n    </tr>\n  </tbody>\n</table>\n<p>358 rows × 2 columns</p>\n</div>"
     },
     "execution_count": 6,
     "metadata": {},
     "output_type": "execute_result"
    }
   ],
   "source": [
    "lots_with_many_contracts = pd.read_sql_query(\n",
    "    f\"\"\"\n",
    "    SELECT * FROM (\n",
    "        SELECT lot_guid, COUNT(*) as c\n",
    "            FROM contract c\n",
    "            INNER JOIN (\n",
    "                SELECT contract_reg_number, MAX(version) ver\n",
    "                FROM contract\n",
    "                WHERE {COVID_CONDITIONS}\n",
    "                and lot_guid is not null\n",
    "                GROUP BY contract_reg_number\n",
    "            ) tmp ON c.contract_reg_number = tmp.contract_reg_number AND c.version = tmp.ver\n",
    "        GROUP BY lot_guid\n",
    "    ) WHERE c > 1\n",
    "    \"\"\",\n",
    "    conn\n",
    ")\n",
    "\n",
    "lots_with_many_contracts"
   ],
   "metadata": {
    "collapsed": false,
    "pycharm": {
     "name": "#%%\n"
    }
   }
  },
  {
   "cell_type": "markdown",
   "source": [
    "Такие договоры существуют.  Необходимо будет добавить информацию об этом в выборку."
   ],
   "metadata": {
    "collapsed": false,
    "pycharm": {
     "name": "#%% md\n"
    }
   }
  },
  {
   "cell_type": "markdown",
   "source": [
    "Выберем из базы договоры с лотами"
   ],
   "metadata": {
    "collapsed": false,
    "pycharm": {
     "name": "#%% md\n"
    }
   }
  },
  {
   "cell_type": "code",
   "execution_count": 7,
   "outputs": [
    {
     "data": {
      "text/plain": "                              contract_guid contract_registration_number  \\\n0      00026a57-3035-45cd-9a0b-598d5b233a6b      57017000450210000030001   \n1      0004ff4b-67ff-42b6-a163-88e556affbeb      50274946336210000830007   \n2      000ab495-ae5e-42c4-9643-94083ebb7ceb      59111006597210000080013   \n3      000ccb0b-8346-4f62-bb32-04d284ba6fca      56027024472210000150001   \n4      000d73ea-90c4-460f-8074-2d8eb70aa733      83664056479200000350001   \n...                                     ...                          ...   \n30698  fff5ad7e-5884-46f1-9f07-4150e8cc6258      52801022793210003140001   \n30699  fff6f724-be51-4180-930f-41999fdd5497      51435149216210002250001   \n30700  fff8c702-ba6a-48c2-90d4-67c2c857cfd1      67725038124200003980001   \n30701  fffb9623-244a-4c27-b1c7-4518ab6412bd      51431004812210000980001   \n30702  fffc951e-8b19-4069-8a04-bd4242859bbb      67704759968200001230003   \n\n       notice_not_placed_by_fz223p5s4  contract_extension  \\\n0                                   0                   0   \n1                                   0                   0   \n2                                   0                   0   \n3                                   0                   0   \n4                                   0                   0   \n...                               ...                 ...   \n30698                               0                   0   \n30699                               0                   0   \n30700                               0                   0   \n30701                               0                   0   \n30702                               0                   0   \n\n       contract_prolongation  customer_appeale_or_needs_approval  \\\n0                          0                                   0   \n1                          0                                   0   \n2                          0                                   0   \n3                          0                                   0   \n4                          0                                   0   \n...                      ...                                 ...   \n30698                      0                                   0   \n30699                      0                                   0   \n30700                      0                                   0   \n30701                      0                                   0   \n30702                      0                                   0   \n\n      customer_approval_or_antimonopoly_descision_date  \\\n0                                                 None   \n1                                                 None   \n2                                                 None   \n3                                                 None   \n4                                                 None   \n...                                                ...   \n30698                                             None   \n30699                                             None   \n30700                                             None   \n30701                                             None   \n30702                                             None   \n\n      contract_plan_position_guid contract_create_date_time  \\\n0                            None       2021-01-12 02:56:07   \n1                            None       2021-11-29 10:29:58   \n2                            None       2021-10-27 09:33:09   \n3                            None       2021-06-21 10:50:00   \n4                            None       2020-06-29 05:37:38   \n...                           ...                       ...   \n30698                        None       2021-11-01 05:30:25   \n30699                        None       2021-11-25 02:46:38   \n30700                        None       2020-11-20 08:42:35   \n30701                        None       2021-07-07 09:05:27   \n30702                        None       2020-12-31 09:12:09   \n\n      contract_customer_inn  ... contract_start_execution_date  \\\n0                7017000450  ...                    2021-01-11   \n1                0274946336  ...                    2021-04-19   \n2                9111006597  ...                    2021-08-09   \n3                6027024472  ...                    2021-06-20   \n4                3664056479  ...                    2020-06-28   \n...                     ...  ...                           ...   \n30698            2801022793  ...                    2021-10-31   \n30699            1435149216  ...                    2021-11-24   \n30700            7725038124  ...                    2020-11-16   \n30701            1431004812  ...                    2021-07-06   \n30702            7704759968  ...                    2020-12-30   \n\n      contract_end_execution_date         region_name notice_lot_initial_sum  \\\n0                      2021-06-29        Tomskaya_obl              550800.00   \n1                      2022-12-30  Bashkortostan_Resp             4415139.00   \n2                      2022-05-30           Krym_Resp             1998600.00   \n3                      2021-08-30      Pskovskaya_obl             1143188.00   \n4                      2020-12-30   Voronezhskaya_obl             4974515.45   \n...                           ...                 ...                    ...   \n30698                  2021-11-09       Amurskaya_obl              365400.00   \n30699                  2021-12-30  Saha_Jakutiya_Resp              686400.00   \n30700                        None              Moskva            23705828.40   \n30701                  2021-12-30  Saha_Jakutiya_Resp              600600.00   \n30702                  2021-12-30              Moskva             1279800.00   \n\n       notice_lot_starting_contract_price_rub  notice_lot_currency_code  \\\n0                                         NaN                       RUB   \n1                                         NaN                       RUB   \n2                                         NaN                       RUB   \n3                                         NaN                       RUB   \n4                                         NaN                       RUB   \n...                                       ...                       ...   \n30698                                     NaN                       RUB   \n30699                                     NaN                       RUB   \n30700                                     NaN                       RUB   \n30701                                     NaN                       RUB   \n30702                                     NaN                       RUB   \n\n      notice_lot_commodity_price notice_lot_commodity_price_rub  \\\n0                           None                           None   \n1                           None                           None   \n2                           None                           None   \n3                           None                           None   \n4                           None                           None   \n...                          ...                            ...   \n30698                       None                           None   \n30699                       None                           None   \n30700                       None                           None   \n30701                       None                           None   \n30702                       None                           None   \n\n      notice_lot_max_contract_price  notice_lot_max_contract_price_rub  \n0                               NaN                                NaN  \n1                               NaN                                NaN  \n2                               NaN                                NaN  \n3                               NaN                                NaN  \n4                               NaN                                NaN  \n...                             ...                                ...  \n30698                           NaN                                NaN  \n30699                           NaN                                NaN  \n30700                           NaN                                NaN  \n30701                           NaN                                NaN  \n30702                           NaN                                NaN  \n\n[30703 rows x 38 columns]",
      "text/html": "<div>\n<style scoped>\n    .dataframe tbody tr th:only-of-type {\n        vertical-align: middle;\n    }\n\n    .dataframe tbody tr th {\n        vertical-align: top;\n    }\n\n    .dataframe thead th {\n        text-align: right;\n    }\n</style>\n<table border=\"1\" class=\"dataframe\">\n  <thead>\n    <tr style=\"text-align: right;\">\n      <th></th>\n      <th>contract_guid</th>\n      <th>contract_registration_number</th>\n      <th>notice_not_placed_by_fz223p5s4</th>\n      <th>contract_extension</th>\n      <th>contract_prolongation</th>\n      <th>customer_appeale_or_needs_approval</th>\n      <th>customer_approval_or_antimonopoly_descision_date</th>\n      <th>contract_plan_position_guid</th>\n      <th>contract_create_date_time</th>\n      <th>contract_customer_inn</th>\n      <th>...</th>\n      <th>contract_start_execution_date</th>\n      <th>contract_end_execution_date</th>\n      <th>region_name</th>\n      <th>notice_lot_initial_sum</th>\n      <th>notice_lot_starting_contract_price_rub</th>\n      <th>notice_lot_currency_code</th>\n      <th>notice_lot_commodity_price</th>\n      <th>notice_lot_commodity_price_rub</th>\n      <th>notice_lot_max_contract_price</th>\n      <th>notice_lot_max_contract_price_rub</th>\n    </tr>\n  </thead>\n  <tbody>\n    <tr>\n      <th>0</th>\n      <td>00026a57-3035-45cd-9a0b-598d5b233a6b</td>\n      <td>57017000450210000030001</td>\n      <td>0</td>\n      <td>0</td>\n      <td>0</td>\n      <td>0</td>\n      <td>None</td>\n      <td>None</td>\n      <td>2021-01-12 02:56:07</td>\n      <td>7017000450</td>\n      <td>...</td>\n      <td>2021-01-11</td>\n      <td>2021-06-29</td>\n      <td>Tomskaya_obl</td>\n      <td>550800.00</td>\n      <td>NaN</td>\n      <td>RUB</td>\n      <td>None</td>\n      <td>None</td>\n      <td>NaN</td>\n      <td>NaN</td>\n    </tr>\n    <tr>\n      <th>1</th>\n      <td>0004ff4b-67ff-42b6-a163-88e556affbeb</td>\n      <td>50274946336210000830007</td>\n      <td>0</td>\n      <td>0</td>\n      <td>0</td>\n      <td>0</td>\n      <td>None</td>\n      <td>None</td>\n      <td>2021-11-29 10:29:58</td>\n      <td>0274946336</td>\n      <td>...</td>\n      <td>2021-04-19</td>\n      <td>2022-12-30</td>\n      <td>Bashkortostan_Resp</td>\n      <td>4415139.00</td>\n      <td>NaN</td>\n      <td>RUB</td>\n      <td>None</td>\n      <td>None</td>\n      <td>NaN</td>\n      <td>NaN</td>\n    </tr>\n    <tr>\n      <th>2</th>\n      <td>000ab495-ae5e-42c4-9643-94083ebb7ceb</td>\n      <td>59111006597210000080013</td>\n      <td>0</td>\n      <td>0</td>\n      <td>0</td>\n      <td>0</td>\n      <td>None</td>\n      <td>None</td>\n      <td>2021-10-27 09:33:09</td>\n      <td>9111006597</td>\n      <td>...</td>\n      <td>2021-08-09</td>\n      <td>2022-05-30</td>\n      <td>Krym_Resp</td>\n      <td>1998600.00</td>\n      <td>NaN</td>\n      <td>RUB</td>\n      <td>None</td>\n      <td>None</td>\n      <td>NaN</td>\n      <td>NaN</td>\n    </tr>\n    <tr>\n      <th>3</th>\n      <td>000ccb0b-8346-4f62-bb32-04d284ba6fca</td>\n      <td>56027024472210000150001</td>\n      <td>0</td>\n      <td>0</td>\n      <td>0</td>\n      <td>0</td>\n      <td>None</td>\n      <td>None</td>\n      <td>2021-06-21 10:50:00</td>\n      <td>6027024472</td>\n      <td>...</td>\n      <td>2021-06-20</td>\n      <td>2021-08-30</td>\n      <td>Pskovskaya_obl</td>\n      <td>1143188.00</td>\n      <td>NaN</td>\n      <td>RUB</td>\n      <td>None</td>\n      <td>None</td>\n      <td>NaN</td>\n      <td>NaN</td>\n    </tr>\n    <tr>\n      <th>4</th>\n      <td>000d73ea-90c4-460f-8074-2d8eb70aa733</td>\n      <td>83664056479200000350001</td>\n      <td>0</td>\n      <td>0</td>\n      <td>0</td>\n      <td>0</td>\n      <td>None</td>\n      <td>None</td>\n      <td>2020-06-29 05:37:38</td>\n      <td>3664056479</td>\n      <td>...</td>\n      <td>2020-06-28</td>\n      <td>2020-12-30</td>\n      <td>Voronezhskaya_obl</td>\n      <td>4974515.45</td>\n      <td>NaN</td>\n      <td>RUB</td>\n      <td>None</td>\n      <td>None</td>\n      <td>NaN</td>\n      <td>NaN</td>\n    </tr>\n    <tr>\n      <th>...</th>\n      <td>...</td>\n      <td>...</td>\n      <td>...</td>\n      <td>...</td>\n      <td>...</td>\n      <td>...</td>\n      <td>...</td>\n      <td>...</td>\n      <td>...</td>\n      <td>...</td>\n      <td>...</td>\n      <td>...</td>\n      <td>...</td>\n      <td>...</td>\n      <td>...</td>\n      <td>...</td>\n      <td>...</td>\n      <td>...</td>\n      <td>...</td>\n      <td>...</td>\n      <td>...</td>\n    </tr>\n    <tr>\n      <th>30698</th>\n      <td>fff5ad7e-5884-46f1-9f07-4150e8cc6258</td>\n      <td>52801022793210003140001</td>\n      <td>0</td>\n      <td>0</td>\n      <td>0</td>\n      <td>0</td>\n      <td>None</td>\n      <td>None</td>\n      <td>2021-11-01 05:30:25</td>\n      <td>2801022793</td>\n      <td>...</td>\n      <td>2021-10-31</td>\n      <td>2021-11-09</td>\n      <td>Amurskaya_obl</td>\n      <td>365400.00</td>\n      <td>NaN</td>\n      <td>RUB</td>\n      <td>None</td>\n      <td>None</td>\n      <td>NaN</td>\n      <td>NaN</td>\n    </tr>\n    <tr>\n      <th>30699</th>\n      <td>fff6f724-be51-4180-930f-41999fdd5497</td>\n      <td>51435149216210002250001</td>\n      <td>0</td>\n      <td>0</td>\n      <td>0</td>\n      <td>0</td>\n      <td>None</td>\n      <td>None</td>\n      <td>2021-11-25 02:46:38</td>\n      <td>1435149216</td>\n      <td>...</td>\n      <td>2021-11-24</td>\n      <td>2021-12-30</td>\n      <td>Saha_Jakutiya_Resp</td>\n      <td>686400.00</td>\n      <td>NaN</td>\n      <td>RUB</td>\n      <td>None</td>\n      <td>None</td>\n      <td>NaN</td>\n      <td>NaN</td>\n    </tr>\n    <tr>\n      <th>30700</th>\n      <td>fff8c702-ba6a-48c2-90d4-67c2c857cfd1</td>\n      <td>67725038124200003980001</td>\n      <td>0</td>\n      <td>0</td>\n      <td>0</td>\n      <td>0</td>\n      <td>None</td>\n      <td>None</td>\n      <td>2020-11-20 08:42:35</td>\n      <td>7725038124</td>\n      <td>...</td>\n      <td>2020-11-16</td>\n      <td>None</td>\n      <td>Moskva</td>\n      <td>23705828.40</td>\n      <td>NaN</td>\n      <td>RUB</td>\n      <td>None</td>\n      <td>None</td>\n      <td>NaN</td>\n      <td>NaN</td>\n    </tr>\n    <tr>\n      <th>30701</th>\n      <td>fffb9623-244a-4c27-b1c7-4518ab6412bd</td>\n      <td>51431004812210000980001</td>\n      <td>0</td>\n      <td>0</td>\n      <td>0</td>\n      <td>0</td>\n      <td>None</td>\n      <td>None</td>\n      <td>2021-07-07 09:05:27</td>\n      <td>1431004812</td>\n      <td>...</td>\n      <td>2021-07-06</td>\n      <td>2021-12-30</td>\n      <td>Saha_Jakutiya_Resp</td>\n      <td>600600.00</td>\n      <td>NaN</td>\n      <td>RUB</td>\n      <td>None</td>\n      <td>None</td>\n      <td>NaN</td>\n      <td>NaN</td>\n    </tr>\n    <tr>\n      <th>30702</th>\n      <td>fffc951e-8b19-4069-8a04-bd4242859bbb</td>\n      <td>67704759968200001230003</td>\n      <td>0</td>\n      <td>0</td>\n      <td>0</td>\n      <td>0</td>\n      <td>None</td>\n      <td>None</td>\n      <td>2020-12-31 09:12:09</td>\n      <td>7704759968</td>\n      <td>...</td>\n      <td>2020-12-30</td>\n      <td>2021-12-30</td>\n      <td>Moskva</td>\n      <td>1279800.00</td>\n      <td>NaN</td>\n      <td>RUB</td>\n      <td>None</td>\n      <td>None</td>\n      <td>NaN</td>\n      <td>NaN</td>\n    </tr>\n  </tbody>\n</table>\n<p>30703 rows × 38 columns</p>\n</div>"
     },
     "execution_count": 7,
     "metadata": {},
     "output_type": "execute_result"
    }
   ],
   "source": [
    "covid_contracts_with_lot = pd.read_sql_query(\n",
    "    f\"\"\"\n",
    "    SELECT c.guid as contract_guid, c.registration_number as contract_registration_number,\n",
    "    c.notice_not_placed_by_fz223p5s4 as notice_not_placed_by_fz223p5s4,\n",
    "    c.extension as contract_extension, c.prolongation as contract_prolongation,\n",
    "    c.customer_appeale_or_needs_approval as customer_appeale_or_needs_approval,\n",
    "    c.customer_approval_or_antimonopoly_descision_date as customer_approval_or_antimonopoly_descision_date,\n",
    "    c.plan_position_guid as contract_plan_position_guid,\n",
    "    c.create_date_time as contract_create_date_time,\n",
    "    c.customer_inn as contract_customer_inn, c.placer_inn as contract_placer_inn, c.detached_org_inn as contract_detached_org_inn,\n",
    "    c.publication_date as contract_publication_date, c.contract_status_code as contract_publication_date,\n",
    "    c.emergency as emergency, c.provider as provider, c.provider_code as provider_code, c.contract_reg_number as contract_reg_number,\n",
    "    c.contract_date as contract_date, c.digital_purchase as digital_purchase,\n",
    "    c.purchase_notice_info_guid as purchase_notice_info_guid, c.purchase_notice_info_number as purchase_notice_info_number,\n",
    "    c.lot_guid as lot_guid, c.subject_contract as subject_contract, c.purchase_type_code as purchase_type_code,\n",
    "    c.price as contract_price, c.rub_price as contract_rub_price, c.currency_code as contract_currency_code,\n",
    "    c.start_execution_date as contract_start_execution_date, c.end_execution_date as contract_end_execution_date,\n",
    "    c.region_name as region_name,\n",
    "    pnld.initial_sum as notice_lot_initial_sum, pnld.starting_contract_price_rub as notice_lot_starting_contract_price_rub,\n",
    "    pnld.currency_code as notice_lot_currency_code,\n",
    "    pnld.commodity_price as notice_lot_commodity_price, pnld.commodity_price_rub as notice_lot_commodity_price_rub,\n",
    "    pnld.max_contract_price as notice_lot_max_contract_price, pnld.max_contract_price_rub as notice_lot_max_contract_price_rub\n",
    "    FROM contract c\n",
    "    INNER JOIN (\n",
    "        SELECT contract_reg_number, MAX(version) ver\n",
    "        FROM contract\n",
    "        WHERE {COVID_CONDITIONS}\n",
    "        AND lot_guid is not null\n",
    "        GROUP BY contract_reg_number\n",
    "    ) tmp ON c.contract_reg_number = tmp.contract_reg_number AND c.version = tmp.ver\n",
    "    INNER JOIN purchase_notice_lot pnl ON c.lot_guid = pnl.guid\n",
    "    LEFT JOIN purchase_notice_lot_data pnld on pnl.guid = pnld.purchase_notice_lot_guid\n",
    "    \"\"\",\n",
    "    conn\n",
    ")\n",
    "\n",
    "covid_contracts_with_lot"
   ],
   "metadata": {
    "collapsed": false,
    "pycharm": {
     "name": "#%%\n"
    }
   }
  },
  {
   "cell_type": "markdown",
   "source": [
    "Проверим, существуют ли договоры, у которых заказчик отличается от заказчика в извещении"
   ],
   "metadata": {
    "collapsed": false,
    "pycharm": {
     "name": "#%% md\n"
    }
   }
  },
  {
   "cell_type": "code",
   "execution_count": 8,
   "outputs": [
    {
     "data": {
      "text/plain": "                                      guid customer_inn  placer_inn  \\\n0     000d73ea-90c4-460f-8074-2d8eb70aa733   3664056479  3664056479   \n1     0018a028-28b4-4f82-a1a3-802bcf99dd89   7820309254  7820309254   \n2     002307d1-8cba-4a17-a125-104668f2558f   1654038766  1654038766   \n3     003bbfbc-93d1-49e2-8555-e8447bc9e99c   2902037066  2902037066   \n4     003f2613-8a83-482f-8546-b07df2a3ee86   3908010986  3908010986   \n...                                    ...          ...         ...   \n4578  ffd95f92-f12b-4488-9a93-f0fd06c2c38e   1101481574  1101481574   \n4579  ffea4edc-1b55-4df6-b429-f485f18cd350   7724490000  7724490000   \n4580  fff544f3-3733-4943-b6db-1a9662558747   7708245723  7708245723   \n4581  fff6f724-be51-4180-930f-41999fdd5497   1435149216  1435149216   \n4582  fffc951e-8b19-4069-8a04-bd4242859bbb   7704759968  1655218458   \n\n     detached_org_inn                                  guid customer_inn  \\\n0                None  1cb41fb5-1c6e-47e4-a123-13a39cf27d46   3664056479   \n1                None  696da96f-20ee-4e87-bcdd-2248ee08d63f   7708619320   \n2          1654038766  949dedf2-ff3a-401e-abbc-b5c9bca976b8   1654038766   \n3          2902037066  645ea858-2470-b86e-0b24-52e8a596865e   2902037066   \n4                None  fea8d150-1c42-466b-a5a9-3f3e5550ede0   3908010986   \n...               ...                                   ...          ...   \n4578       1101481574  e877d410-a198-440e-a893-24b62e54745d   1101481574   \n4579             None  2b7ea3c4-dd16-45f4-bbb5-737b1357a3fc   7724490000   \n4580       7708245723  c39dbd31-9f6f-4d23-83b2-0cdc960a7985   7708245723   \n4581             None  1dea37d1-6ff1-4eed-8de4-f28d7ca17be2   1435149216   \n4582             None  4e2b8b8a-c89a-481c-9727-ec7595cc1480   7704759968   \n\n      placer_inn detached_org_inn  \n0     3662158965             None  \n1     7708619320             None  \n2     1660291100             None  \n3     2901252568             None  \n4     3904612235             None  \n...          ...              ...  \n4578  7707308480             None  \n4579  7838430413       7724490000  \n4580  7707308480             None  \n4581  7710357167             None  \n4582  7704759968             None  \n\n[4583 rows x 8 columns]",
      "text/html": "<div>\n<style scoped>\n    .dataframe tbody tr th:only-of-type {\n        vertical-align: middle;\n    }\n\n    .dataframe tbody tr th {\n        vertical-align: top;\n    }\n\n    .dataframe thead th {\n        text-align: right;\n    }\n</style>\n<table border=\"1\" class=\"dataframe\">\n  <thead>\n    <tr style=\"text-align: right;\">\n      <th></th>\n      <th>guid</th>\n      <th>customer_inn</th>\n      <th>placer_inn</th>\n      <th>detached_org_inn</th>\n      <th>guid</th>\n      <th>customer_inn</th>\n      <th>placer_inn</th>\n      <th>detached_org_inn</th>\n    </tr>\n  </thead>\n  <tbody>\n    <tr>\n      <th>0</th>\n      <td>000d73ea-90c4-460f-8074-2d8eb70aa733</td>\n      <td>3664056479</td>\n      <td>3664056479</td>\n      <td>None</td>\n      <td>1cb41fb5-1c6e-47e4-a123-13a39cf27d46</td>\n      <td>3664056479</td>\n      <td>3662158965</td>\n      <td>None</td>\n    </tr>\n    <tr>\n      <th>1</th>\n      <td>0018a028-28b4-4f82-a1a3-802bcf99dd89</td>\n      <td>7820309254</td>\n      <td>7820309254</td>\n      <td>None</td>\n      <td>696da96f-20ee-4e87-bcdd-2248ee08d63f</td>\n      <td>7708619320</td>\n      <td>7708619320</td>\n      <td>None</td>\n    </tr>\n    <tr>\n      <th>2</th>\n      <td>002307d1-8cba-4a17-a125-104668f2558f</td>\n      <td>1654038766</td>\n      <td>1654038766</td>\n      <td>1654038766</td>\n      <td>949dedf2-ff3a-401e-abbc-b5c9bca976b8</td>\n      <td>1654038766</td>\n      <td>1660291100</td>\n      <td>None</td>\n    </tr>\n    <tr>\n      <th>3</th>\n      <td>003bbfbc-93d1-49e2-8555-e8447bc9e99c</td>\n      <td>2902037066</td>\n      <td>2902037066</td>\n      <td>2902037066</td>\n      <td>645ea858-2470-b86e-0b24-52e8a596865e</td>\n      <td>2902037066</td>\n      <td>2901252568</td>\n      <td>None</td>\n    </tr>\n    <tr>\n      <th>4</th>\n      <td>003f2613-8a83-482f-8546-b07df2a3ee86</td>\n      <td>3908010986</td>\n      <td>3908010986</td>\n      <td>None</td>\n      <td>fea8d150-1c42-466b-a5a9-3f3e5550ede0</td>\n      <td>3908010986</td>\n      <td>3904612235</td>\n      <td>None</td>\n    </tr>\n    <tr>\n      <th>...</th>\n      <td>...</td>\n      <td>...</td>\n      <td>...</td>\n      <td>...</td>\n      <td>...</td>\n      <td>...</td>\n      <td>...</td>\n      <td>...</td>\n    </tr>\n    <tr>\n      <th>4578</th>\n      <td>ffd95f92-f12b-4488-9a93-f0fd06c2c38e</td>\n      <td>1101481574</td>\n      <td>1101481574</td>\n      <td>1101481574</td>\n      <td>e877d410-a198-440e-a893-24b62e54745d</td>\n      <td>1101481574</td>\n      <td>7707308480</td>\n      <td>None</td>\n    </tr>\n    <tr>\n      <th>4579</th>\n      <td>ffea4edc-1b55-4df6-b429-f485f18cd350</td>\n      <td>7724490000</td>\n      <td>7724490000</td>\n      <td>None</td>\n      <td>2b7ea3c4-dd16-45f4-bbb5-737b1357a3fc</td>\n      <td>7724490000</td>\n      <td>7838430413</td>\n      <td>7724490000</td>\n    </tr>\n    <tr>\n      <th>4580</th>\n      <td>fff544f3-3733-4943-b6db-1a9662558747</td>\n      <td>7708245723</td>\n      <td>7708245723</td>\n      <td>7708245723</td>\n      <td>c39dbd31-9f6f-4d23-83b2-0cdc960a7985</td>\n      <td>7708245723</td>\n      <td>7707308480</td>\n      <td>None</td>\n    </tr>\n    <tr>\n      <th>4581</th>\n      <td>fff6f724-be51-4180-930f-41999fdd5497</td>\n      <td>1435149216</td>\n      <td>1435149216</td>\n      <td>None</td>\n      <td>1dea37d1-6ff1-4eed-8de4-f28d7ca17be2</td>\n      <td>1435149216</td>\n      <td>7710357167</td>\n      <td>None</td>\n    </tr>\n    <tr>\n      <th>4582</th>\n      <td>fffc951e-8b19-4069-8a04-bd4242859bbb</td>\n      <td>7704759968</td>\n      <td>1655218458</td>\n      <td>None</td>\n      <td>4e2b8b8a-c89a-481c-9727-ec7595cc1480</td>\n      <td>7704759968</td>\n      <td>7704759968</td>\n      <td>None</td>\n    </tr>\n  </tbody>\n</table>\n<p>4583 rows × 8 columns</p>\n</div>"
     },
     "execution_count": 8,
     "metadata": {},
     "output_type": "execute_result"
    }
   ],
   "source": [
    "contracts_with_different_customer = pd.read_sql_query(\n",
    "    f\"\"\"\n",
    "    SELECT c.guid, c.customer_inn, c.placer_inn, c.detached_org_inn, pn.guid, pn.customer_inn, pn.placer_inn, pn.detached_org_inn\n",
    "    FROM contract c\n",
    "    INNER JOIN (\n",
    "        SELECT contract_reg_number, MAX(version) ver\n",
    "        FROM contract\n",
    "        WHERE {COVID_CONDITIONS}\n",
    "        AND lot_guid is not null\n",
    "        GROUP BY contract_reg_number\n",
    "    ) tmp ON c.contract_reg_number = tmp.contract_reg_number AND c.version = tmp.ver\n",
    "    INNER JOIN purchase_notice_lot pnl on c.lot_guid = pnl.guid\n",
    "    LEFT JOIN purchase_notice_to_lot pntl on pnl.guid = pntl.purchase_notice_lot_guid\n",
    "    LEFT JOIN purchase_notice pn on pntl.purchase_notice_guid = pn.guid\n",
    "    WHERE (c.customer_inn != pn.customer_inn or c.placer_inn != pn.placer_inn)\n",
    "    ;\n",
    "    \"\"\",\n",
    "    conn\n",
    ")\n",
    "\n",
    "contracts_with_different_customer"
   ],
   "metadata": {
    "collapsed": false,
    "pycharm": {
     "name": "#%%\n"
    }
   }
  },
  {
   "cell_type": "markdown",
   "source": [
    "Такие договоры существуют, поэтому необходимо будет добавить данные об изначальном заказчике в выборку"
   ],
   "metadata": {
    "collapsed": false,
    "pycharm": {
     "name": "#%% md\n"
    }
   }
  },
  {
   "cell_type": "markdown",
   "source": [
    "Дополним информацией о том, был ли договор завершен или расторгнут"
   ],
   "metadata": {
    "collapsed": false,
    "pycharm": {
     "name": "#%% md\n"
    }
   }
  },
  {
   "cell_type": "code",
   "execution_count": 9,
   "outputs": [
    {
     "data": {
      "text/plain": "                              contract_guid contract_registration_number  \\\n0      00026a57-3035-45cd-9a0b-598d5b233a6b      57017000450210000030001   \n1      0004ff4b-67ff-42b6-a163-88e556affbeb      50274946336210000830007   \n2      000ab495-ae5e-42c4-9643-94083ebb7ceb      59111006597210000080013   \n3      000ccb0b-8346-4f62-bb32-04d284ba6fca      56027024472210000150001   \n4      000d73ea-90c4-460f-8074-2d8eb70aa733      83664056479200000350001   \n...                                     ...                          ...   \n30698  fff5ad7e-5884-46f1-9f07-4150e8cc6258      52801022793210003140001   \n30699  fff6f724-be51-4180-930f-41999fdd5497      51435149216210002250001   \n30700  fff8c702-ba6a-48c2-90d4-67c2c857cfd1      67725038124200003980001   \n30701  fffb9623-244a-4c27-b1c7-4518ab6412bd      51431004812210000980001   \n30702  fffc951e-8b19-4069-8a04-bd4242859bbb      67704759968200001230003   \n\n       notice_not_placed_by_fz223p5s4  contract_extension  \\\n0                                   0                   0   \n1                                   0                   0   \n2                                   0                   0   \n3                                   0                   0   \n4                                   0                   0   \n...                               ...                 ...   \n30698                               0                   0   \n30699                               0                   0   \n30700                               0                   0   \n30701                               0                   0   \n30702                               0                   0   \n\n       contract_prolongation  customer_appeale_or_needs_approval  \\\n0                          0                                   0   \n1                          0                                   0   \n2                          0                                   0   \n3                          0                                   0   \n4                          0                                   0   \n...                      ...                                 ...   \n30698                      0                                   0   \n30699                      0                                   0   \n30700                      0                                   0   \n30701                      0                                   0   \n30702                      0                                   0   \n\n      customer_approval_or_antimonopoly_descision_date  \\\n0                                                 None   \n1                                                 None   \n2                                                 None   \n3                                                 None   \n4                                                 None   \n...                                                ...   \n30698                                             None   \n30699                                             None   \n30700                                             None   \n30701                                             None   \n30702                                             None   \n\n      contract_plan_position_guid contract_create_date_time  \\\n0                            None       2021-01-12 02:56:07   \n1                            None       2021-11-29 10:29:58   \n2                            None       2021-10-27 09:33:09   \n3                            None       2021-06-21 10:50:00   \n4                            None       2020-06-29 05:37:38   \n...                           ...                       ...   \n30698                        None       2021-11-01 05:30:25   \n30699                        None       2021-11-25 02:46:38   \n30700                        None       2020-11-20 08:42:35   \n30701                        None       2021-07-07 09:05:27   \n30702                        None       2020-12-31 09:12:09   \n\n      contract_customer_inn  ... contract_end_execution_date  \\\n0                7017000450  ...                  2021-06-29   \n1                0274946336  ...                  2022-12-30   \n2                9111006597  ...                  2022-05-30   \n3                6027024472  ...                  2021-08-30   \n4                3664056479  ...                  2020-12-30   \n...                     ...  ...                         ...   \n30698            2801022793  ...                  2021-11-09   \n30699            1435149216  ...                  2021-12-30   \n30700            7725038124  ...                        None   \n30701            1431004812  ...                  2021-12-30   \n30702            7704759968  ...                  2021-12-30   \n\n              region_name notice_lot_initial_sum  \\\n0            Tomskaya_obl              550800.00   \n1      Bashkortostan_Resp             4415139.00   \n2               Krym_Resp             1998600.00   \n3          Pskovskaya_obl             1143188.00   \n4       Voronezhskaya_obl             4974515.45   \n...                   ...                    ...   \n30698       Amurskaya_obl              365400.00   \n30699  Saha_Jakutiya_Resp              686400.00   \n30700              Moskva            23705828.40   \n30701  Saha_Jakutiya_Resp              600600.00   \n30702              Moskva             1279800.00   \n\n      notice_lot_starting_contract_price_rub  notice_lot_currency_code  \\\n0                                        NaN                       RUB   \n1                                        NaN                       RUB   \n2                                        NaN                       RUB   \n3                                        NaN                       RUB   \n4                                        NaN                       RUB   \n...                                      ...                       ...   \n30698                                    NaN                       RUB   \n30699                                    NaN                       RUB   \n30700                                    NaN                       RUB   \n30701                                    NaN                       RUB   \n30702                                    NaN                       RUB   \n\n       notice_lot_commodity_price notice_lot_commodity_price_rub  \\\n0                            None                           None   \n1                            None                           None   \n2                            None                           None   \n3                            None                           None   \n4                            None                           None   \n...                           ...                            ...   \n30698                        None                           None   \n30699                        None                           None   \n30700                        None                           None   \n30701                        None                           None   \n30702                        None                           None   \n\n      notice_lot_max_contract_price notice_lot_max_contract_price_rub  \\\n0                               NaN                               NaN   \n1                               NaN                               NaN   \n2                               NaN                               NaN   \n3                               NaN                               NaN   \n4                               NaN                               NaN   \n...                             ...                               ...   \n30698                           NaN                               NaN   \n30699                           NaN                               NaN   \n30700                           NaN                               NaN   \n30701                           NaN                               NaN   \n30702                           NaN                               NaN   \n\n       contract_is_complete  \n0                       1.0  \n1                       1.0  \n2                       1.0  \n3                       1.0  \n4                       NaN  \n...                     ...  \n30698                   NaN  \n30699                   NaN  \n30700                   0.0  \n30701                   1.0  \n30702                   NaN  \n\n[30703 rows x 39 columns]",
      "text/html": "<div>\n<style scoped>\n    .dataframe tbody tr th:only-of-type {\n        vertical-align: middle;\n    }\n\n    .dataframe tbody tr th {\n        vertical-align: top;\n    }\n\n    .dataframe thead th {\n        text-align: right;\n    }\n</style>\n<table border=\"1\" class=\"dataframe\">\n  <thead>\n    <tr style=\"text-align: right;\">\n      <th></th>\n      <th>contract_guid</th>\n      <th>contract_registration_number</th>\n      <th>notice_not_placed_by_fz223p5s4</th>\n      <th>contract_extension</th>\n      <th>contract_prolongation</th>\n      <th>customer_appeale_or_needs_approval</th>\n      <th>customer_approval_or_antimonopoly_descision_date</th>\n      <th>contract_plan_position_guid</th>\n      <th>contract_create_date_time</th>\n      <th>contract_customer_inn</th>\n      <th>...</th>\n      <th>contract_end_execution_date</th>\n      <th>region_name</th>\n      <th>notice_lot_initial_sum</th>\n      <th>notice_lot_starting_contract_price_rub</th>\n      <th>notice_lot_currency_code</th>\n      <th>notice_lot_commodity_price</th>\n      <th>notice_lot_commodity_price_rub</th>\n      <th>notice_lot_max_contract_price</th>\n      <th>notice_lot_max_contract_price_rub</th>\n      <th>contract_is_complete</th>\n    </tr>\n  </thead>\n  <tbody>\n    <tr>\n      <th>0</th>\n      <td>00026a57-3035-45cd-9a0b-598d5b233a6b</td>\n      <td>57017000450210000030001</td>\n      <td>0</td>\n      <td>0</td>\n      <td>0</td>\n      <td>0</td>\n      <td>None</td>\n      <td>None</td>\n      <td>2021-01-12 02:56:07</td>\n      <td>7017000450</td>\n      <td>...</td>\n      <td>2021-06-29</td>\n      <td>Tomskaya_obl</td>\n      <td>550800.00</td>\n      <td>NaN</td>\n      <td>RUB</td>\n      <td>None</td>\n      <td>None</td>\n      <td>NaN</td>\n      <td>NaN</td>\n      <td>1.0</td>\n    </tr>\n    <tr>\n      <th>1</th>\n      <td>0004ff4b-67ff-42b6-a163-88e556affbeb</td>\n      <td>50274946336210000830007</td>\n      <td>0</td>\n      <td>0</td>\n      <td>0</td>\n      <td>0</td>\n      <td>None</td>\n      <td>None</td>\n      <td>2021-11-29 10:29:58</td>\n      <td>0274946336</td>\n      <td>...</td>\n      <td>2022-12-30</td>\n      <td>Bashkortostan_Resp</td>\n      <td>4415139.00</td>\n      <td>NaN</td>\n      <td>RUB</td>\n      <td>None</td>\n      <td>None</td>\n      <td>NaN</td>\n      <td>NaN</td>\n      <td>1.0</td>\n    </tr>\n    <tr>\n      <th>2</th>\n      <td>000ab495-ae5e-42c4-9643-94083ebb7ceb</td>\n      <td>59111006597210000080013</td>\n      <td>0</td>\n      <td>0</td>\n      <td>0</td>\n      <td>0</td>\n      <td>None</td>\n      <td>None</td>\n      <td>2021-10-27 09:33:09</td>\n      <td>9111006597</td>\n      <td>...</td>\n      <td>2022-05-30</td>\n      <td>Krym_Resp</td>\n      <td>1998600.00</td>\n      <td>NaN</td>\n      <td>RUB</td>\n      <td>None</td>\n      <td>None</td>\n      <td>NaN</td>\n      <td>NaN</td>\n      <td>1.0</td>\n    </tr>\n    <tr>\n      <th>3</th>\n      <td>000ccb0b-8346-4f62-bb32-04d284ba6fca</td>\n      <td>56027024472210000150001</td>\n      <td>0</td>\n      <td>0</td>\n      <td>0</td>\n      <td>0</td>\n      <td>None</td>\n      <td>None</td>\n      <td>2021-06-21 10:50:00</td>\n      <td>6027024472</td>\n      <td>...</td>\n      <td>2021-08-30</td>\n      <td>Pskovskaya_obl</td>\n      <td>1143188.00</td>\n      <td>NaN</td>\n      <td>RUB</td>\n      <td>None</td>\n      <td>None</td>\n      <td>NaN</td>\n      <td>NaN</td>\n      <td>1.0</td>\n    </tr>\n    <tr>\n      <th>4</th>\n      <td>000d73ea-90c4-460f-8074-2d8eb70aa733</td>\n      <td>83664056479200000350001</td>\n      <td>0</td>\n      <td>0</td>\n      <td>0</td>\n      <td>0</td>\n      <td>None</td>\n      <td>None</td>\n      <td>2020-06-29 05:37:38</td>\n      <td>3664056479</td>\n      <td>...</td>\n      <td>2020-12-30</td>\n      <td>Voronezhskaya_obl</td>\n      <td>4974515.45</td>\n      <td>NaN</td>\n      <td>RUB</td>\n      <td>None</td>\n      <td>None</td>\n      <td>NaN</td>\n      <td>NaN</td>\n      <td>NaN</td>\n    </tr>\n    <tr>\n      <th>...</th>\n      <td>...</td>\n      <td>...</td>\n      <td>...</td>\n      <td>...</td>\n      <td>...</td>\n      <td>...</td>\n      <td>...</td>\n      <td>...</td>\n      <td>...</td>\n      <td>...</td>\n      <td>...</td>\n      <td>...</td>\n      <td>...</td>\n      <td>...</td>\n      <td>...</td>\n      <td>...</td>\n      <td>...</td>\n      <td>...</td>\n      <td>...</td>\n      <td>...</td>\n      <td>...</td>\n    </tr>\n    <tr>\n      <th>30698</th>\n      <td>fff5ad7e-5884-46f1-9f07-4150e8cc6258</td>\n      <td>52801022793210003140001</td>\n      <td>0</td>\n      <td>0</td>\n      <td>0</td>\n      <td>0</td>\n      <td>None</td>\n      <td>None</td>\n      <td>2021-11-01 05:30:25</td>\n      <td>2801022793</td>\n      <td>...</td>\n      <td>2021-11-09</td>\n      <td>Amurskaya_obl</td>\n      <td>365400.00</td>\n      <td>NaN</td>\n      <td>RUB</td>\n      <td>None</td>\n      <td>None</td>\n      <td>NaN</td>\n      <td>NaN</td>\n      <td>NaN</td>\n    </tr>\n    <tr>\n      <th>30699</th>\n      <td>fff6f724-be51-4180-930f-41999fdd5497</td>\n      <td>51435149216210002250001</td>\n      <td>0</td>\n      <td>0</td>\n      <td>0</td>\n      <td>0</td>\n      <td>None</td>\n      <td>None</td>\n      <td>2021-11-25 02:46:38</td>\n      <td>1435149216</td>\n      <td>...</td>\n      <td>2021-12-30</td>\n      <td>Saha_Jakutiya_Resp</td>\n      <td>686400.00</td>\n      <td>NaN</td>\n      <td>RUB</td>\n      <td>None</td>\n      <td>None</td>\n      <td>NaN</td>\n      <td>NaN</td>\n      <td>NaN</td>\n    </tr>\n    <tr>\n      <th>30700</th>\n      <td>fff8c702-ba6a-48c2-90d4-67c2c857cfd1</td>\n      <td>67725038124200003980001</td>\n      <td>0</td>\n      <td>0</td>\n      <td>0</td>\n      <td>0</td>\n      <td>None</td>\n      <td>None</td>\n      <td>2020-11-20 08:42:35</td>\n      <td>7725038124</td>\n      <td>...</td>\n      <td>None</td>\n      <td>Moskva</td>\n      <td>23705828.40</td>\n      <td>NaN</td>\n      <td>RUB</td>\n      <td>None</td>\n      <td>None</td>\n      <td>NaN</td>\n      <td>NaN</td>\n      <td>0.0</td>\n    </tr>\n    <tr>\n      <th>30701</th>\n      <td>fffb9623-244a-4c27-b1c7-4518ab6412bd</td>\n      <td>51431004812210000980001</td>\n      <td>0</td>\n      <td>0</td>\n      <td>0</td>\n      <td>0</td>\n      <td>None</td>\n      <td>None</td>\n      <td>2021-07-07 09:05:27</td>\n      <td>1431004812</td>\n      <td>...</td>\n      <td>2021-12-30</td>\n      <td>Saha_Jakutiya_Resp</td>\n      <td>600600.00</td>\n      <td>NaN</td>\n      <td>RUB</td>\n      <td>None</td>\n      <td>None</td>\n      <td>NaN</td>\n      <td>NaN</td>\n      <td>1.0</td>\n    </tr>\n    <tr>\n      <th>30702</th>\n      <td>fffc951e-8b19-4069-8a04-bd4242859bbb</td>\n      <td>67704759968200001230003</td>\n      <td>0</td>\n      <td>0</td>\n      <td>0</td>\n      <td>0</td>\n      <td>None</td>\n      <td>None</td>\n      <td>2020-12-31 09:12:09</td>\n      <td>7704759968</td>\n      <td>...</td>\n      <td>2021-12-30</td>\n      <td>Moskva</td>\n      <td>1279800.00</td>\n      <td>NaN</td>\n      <td>RUB</td>\n      <td>None</td>\n      <td>None</td>\n      <td>NaN</td>\n      <td>NaN</td>\n      <td>NaN</td>\n    </tr>\n  </tbody>\n</table>\n<p>30703 rows × 39 columns</p>\n</div>"
     },
     "execution_count": 9,
     "metadata": {},
     "output_type": "execute_result"
    }
   ],
   "source": [
    "covid_contracts_performance_with_lot = pd.read_sql_query(\n",
    "    f\"\"\"\n",
    "    SELECT c.guid as contract_guid, c.registration_number as contract_registration_number,\n",
    "    c.notice_not_placed_by_fz223p5s4 as notice_not_placed_by_fz223p5s4,\n",
    "    c.extension as contract_extension, c.prolongation as contract_prolongation,\n",
    "    c.customer_appeale_or_needs_approval as customer_appeale_or_needs_approval,\n",
    "    c.customer_approval_or_antimonopoly_descision_date as customer_approval_or_antimonopoly_descision_date,\n",
    "    c.plan_position_guid as contract_plan_position_guid,\n",
    "    c.create_date_time as contract_create_date_time,\n",
    "    c.customer_inn as contract_customer_inn, c.placer_inn as contract_placer_inn, c.detached_org_inn as contract_detached_org_inn,\n",
    "    c.publication_date as contract_publication_date, c.contract_status_code as contract_publication_date,\n",
    "    c.emergency as emergency, c.provider as provider, c.provider_code as provider_code, c.contract_reg_number as contract_reg_number,\n",
    "    c.contract_date as contract_date, c.digital_purchase as digital_purchase,\n",
    "    c.purchase_notice_info_guid as purchase_notice_info_guid, c.purchase_notice_info_number as purchase_notice_info_number,\n",
    "    c.lot_guid as lot_guid, c.subject_contract as subject_contract, c.purchase_type_code as purchase_type_code,\n",
    "    c.price as contract_price, c.rub_price as contract_rub_price, c.currency_code as contract_currency_code,\n",
    "    c.start_execution_date as contract_start_execution_date, c.end_execution_date as contract_end_execution_date,\n",
    "    c.region_name as region_name,\n",
    "    pnld.initial_sum as notice_lot_initial_sum, pnld.starting_contract_price_rub as notice_lot_starting_contract_price_rub,\n",
    "    pnld.currency_code as notice_lot_currency_code,\n",
    "    pnld.commodity_price as notice_lot_commodity_price, pnld.commodity_price_rub as notice_lot_commodity_price_rub,\n",
    "    pnld.max_contract_price as notice_lot_max_contract_price, pnld.max_contract_price_rub as notice_lot_max_contract_price_rub,\n",
    "    cp.is_complete as contract_is_complete\n",
    "    FROM contract c\n",
    "    INNER JOIN (\n",
    "        SELECT contract_reg_number, MAX(version) ver\n",
    "        FROM contract\n",
    "        WHERE {COVID_CONDITIONS}\n",
    "        AND lot_guid is not null\n",
    "        GROUP BY contract_reg_number\n",
    "    ) tmp ON c.contract_reg_number = tmp.contract_reg_number AND c.version = tmp.ver\n",
    "    INNER JOIN purchase_notice_lot pnl ON c.lot_guid = pnl.guid\n",
    "    LEFT JOIN purchase_notice_lot_data pnld on pnl.guid = pnld.purchase_notice_lot_guid\n",
    "    LEFT JOIN (\n",
    "        SELECT c2.contract_reg_number, MIN(is_complete) as is_complete\n",
    "        FROM contract c2\n",
    "        LEFT JOIN contract_performance cp2 ON c2.contract_reg_number = cp2.contract_registration_number\n",
    "        AND c2.lot_guid is not null\n",
    "        GROUP BY c2.contract_reg_number\n",
    "    ) cp ON cp.contract_reg_number = c.contract_reg_number\n",
    "    \"\"\",\n",
    "    conn\n",
    ")\n",
    "\n",
    "covid_contracts_performance_with_lot"
   ],
   "metadata": {
    "collapsed": false,
    "pycharm": {
     "name": "#%%\n"
    }
   }
  },
  {
   "cell_type": "markdown",
   "source": [
    "Необходимо дополнить выборку информацией о позициях договора"
   ],
   "metadata": {
    "collapsed": false,
    "pycharm": {
     "name": "#%% md\n"
    }
   }
  },
  {
   "cell_type": "code",
   "execution_count": 10,
   "outputs": [
    {
     "data": {
      "text/plain": "                              contract_guid contract_registration_number  \\\n0      00026a57-3035-45cd-9a0b-598d5b233a6b      57017000450210000030001   \n1      00026a57-3035-45cd-9a0b-598d5b233a6b      57017000450210000030001   \n2      00026a57-3035-45cd-9a0b-598d5b233a6b      57017000450210000030001   \n3      00026a57-3035-45cd-9a0b-598d5b233a6b      57017000450210000030001   \n4      00026a57-3035-45cd-9a0b-598d5b233a6b      57017000450210000030001   \n...                                     ...                          ...   \n72190  fff5ad7e-5884-46f1-9f07-4150e8cc6258      52801022793210003140001   \n72191  fff6f724-be51-4180-930f-41999fdd5497      51435149216210002250001   \n72192  fff8c702-ba6a-48c2-90d4-67c2c857cfd1      67725038124200003980001   \n72193  fffb9623-244a-4c27-b1c7-4518ab6412bd      51431004812210000980001   \n72194  fffc951e-8b19-4069-8a04-bd4242859bbb      67704759968200001230003   \n\n       notice_not_placed_by_fz223p5s4  contract_extension  \\\n0                                   0                   0   \n1                                   0                   0   \n2                                   0                   0   \n3                                   0                   0   \n4                                   0                   0   \n...                               ...                 ...   \n72190                               0                   0   \n72191                               0                   0   \n72192                               0                   0   \n72193                               0                   0   \n72194                               0                   0   \n\n       contract_prolongation  customer_appeale_or_needs_approval  \\\n0                          0                                   0   \n1                          0                                   0   \n2                          0                                   0   \n3                          0                                   0   \n4                          0                                   0   \n...                      ...                                 ...   \n72190                      0                                   0   \n72191                      0                                   0   \n72192                      0                                   0   \n72193                      0                                   0   \n72194                      0                                   0   \n\n      customer_approval_or_antimonopoly_descision_date  \\\n0                                                 None   \n1                                                 None   \n2                                                 None   \n3                                                 None   \n4                                                 None   \n...                                                ...   \n72190                                             None   \n72191                                             None   \n72192                                             None   \n72193                                             None   \n72194                                             None   \n\n      contract_plan_position_guid contract_create_date_time  \\\n0                            None       2021-01-12 02:56:07   \n1                            None       2021-01-12 02:56:07   \n2                            None       2021-01-12 02:56:07   \n3                            None       2021-01-12 02:56:07   \n4                            None       2021-01-12 02:56:07   \n...                           ...                       ...   \n72190                        None       2021-11-01 05:30:25   \n72191                        None       2021-11-25 02:46:38   \n72192                        None       2020-11-20 08:42:35   \n72193                        None       2021-07-07 09:05:27   \n72194                        None       2020-12-31 09:12:09   \n\n      contract_customer_inn  ...  \\\n0                7017000450  ...   \n1                7017000450  ...   \n2                7017000450  ...   \n3                7017000450  ...   \n4                7017000450  ...   \n...                     ...  ...   \n72190            2801022793  ...   \n72191            1435149216  ...   \n72192            7725038124  ...   \n72193            1431004812  ...   \n72194            7704759968  ...   \n\n                                     position_okpd2_name  \\\n0                       Перчатки хирургические резиновые   \n1                       Перчатки хирургические резиновые   \n2                       Перчатки хирургические резиновые   \n3                       Перчатки хирургические резиновые   \n4                       Перчатки хирургические резиновые   \n...                                                  ...   \n72190  Изделия медицинские, в том числе хирургические...   \n72191                            Препараты лекарственные   \n72192   Услуги по дезинфекции, дезинсекции и дератизации   \n72193                            Препараты лекарственные   \n72194                   Услуги в области медицины прочие   \n\n      position_country_code position_producer_country  \\\n0                      None                      None   \n1                      None                      None   \n2                      None                      None   \n3                      None                      None   \n4                      None                      None   \n...                     ...                       ...   \n72190                  None                      None   \n72191                  None                      None   \n72192                  None                      None   \n72193                  None                      None   \n72194                  None                      None   \n\n      position_impossible_to_determine_attr  position_okei_code  \\\n0                                         0                 715   \n1                                         0                 715   \n2                                         0                 715   \n3                                         0                 715   \n4                                         0                 715   \n...                                     ...                 ...   \n72190                                     0                 778   \n72191                                     1                None   \n72192                                     0                 876   \n72193                                     0                 778   \n72194                                     1                None   \n\n       position_okei_name position_qty position_unit_price  \\\n0            Пара (2 шт.)       4000.0                26.0   \n1            Пара (2 шт.)       5000.0                26.0   \n2            Пара (2 шт.)       1000.0                28.0   \n3            Пара (2 шт.)        100.0                54.0   \n4            Пара (2 шт.)       8000.0                26.0   \n...                   ...          ...                 ...   \n72190            Упаковка         63.0              5800.0   \n72191                None          NaN            617760.0   \n72192    Условная единица          1.0                 NaN   \n72193            Упаковка         14.0             54600.0   \n72194                None          NaN                 NaN   \n\n      position_rub_unit_price  position_currency_code  \n0                         NaN                     RUB  \n1                         NaN                     RUB  \n2                         NaN                     RUB  \n3                         NaN                     RUB  \n4                         NaN                     RUB  \n...                       ...                     ...  \n72190                     NaN                     RUB  \n72191                     NaN                     RUB  \n72192                     NaN                    None  \n72193                     NaN                     RUB  \n72194                     NaN                     RUB  \n\n[72195 rows x 51 columns]",
      "text/html": "<div>\n<style scoped>\n    .dataframe tbody tr th:only-of-type {\n        vertical-align: middle;\n    }\n\n    .dataframe tbody tr th {\n        vertical-align: top;\n    }\n\n    .dataframe thead th {\n        text-align: right;\n    }\n</style>\n<table border=\"1\" class=\"dataframe\">\n  <thead>\n    <tr style=\"text-align: right;\">\n      <th></th>\n      <th>contract_guid</th>\n      <th>contract_registration_number</th>\n      <th>notice_not_placed_by_fz223p5s4</th>\n      <th>contract_extension</th>\n      <th>contract_prolongation</th>\n      <th>customer_appeale_or_needs_approval</th>\n      <th>customer_approval_or_antimonopoly_descision_date</th>\n      <th>contract_plan_position_guid</th>\n      <th>contract_create_date_time</th>\n      <th>contract_customer_inn</th>\n      <th>...</th>\n      <th>position_okpd2_name</th>\n      <th>position_country_code</th>\n      <th>position_producer_country</th>\n      <th>position_impossible_to_determine_attr</th>\n      <th>position_okei_code</th>\n      <th>position_okei_name</th>\n      <th>position_qty</th>\n      <th>position_unit_price</th>\n      <th>position_rub_unit_price</th>\n      <th>position_currency_code</th>\n    </tr>\n  </thead>\n  <tbody>\n    <tr>\n      <th>0</th>\n      <td>00026a57-3035-45cd-9a0b-598d5b233a6b</td>\n      <td>57017000450210000030001</td>\n      <td>0</td>\n      <td>0</td>\n      <td>0</td>\n      <td>0</td>\n      <td>None</td>\n      <td>None</td>\n      <td>2021-01-12 02:56:07</td>\n      <td>7017000450</td>\n      <td>...</td>\n      <td>Перчатки хирургические резиновые</td>\n      <td>None</td>\n      <td>None</td>\n      <td>0</td>\n      <td>715</td>\n      <td>Пара (2 шт.)</td>\n      <td>4000.0</td>\n      <td>26.0</td>\n      <td>NaN</td>\n      <td>RUB</td>\n    </tr>\n    <tr>\n      <th>1</th>\n      <td>00026a57-3035-45cd-9a0b-598d5b233a6b</td>\n      <td>57017000450210000030001</td>\n      <td>0</td>\n      <td>0</td>\n      <td>0</td>\n      <td>0</td>\n      <td>None</td>\n      <td>None</td>\n      <td>2021-01-12 02:56:07</td>\n      <td>7017000450</td>\n      <td>...</td>\n      <td>Перчатки хирургические резиновые</td>\n      <td>None</td>\n      <td>None</td>\n      <td>0</td>\n      <td>715</td>\n      <td>Пара (2 шт.)</td>\n      <td>5000.0</td>\n      <td>26.0</td>\n      <td>NaN</td>\n      <td>RUB</td>\n    </tr>\n    <tr>\n      <th>2</th>\n      <td>00026a57-3035-45cd-9a0b-598d5b233a6b</td>\n      <td>57017000450210000030001</td>\n      <td>0</td>\n      <td>0</td>\n      <td>0</td>\n      <td>0</td>\n      <td>None</td>\n      <td>None</td>\n      <td>2021-01-12 02:56:07</td>\n      <td>7017000450</td>\n      <td>...</td>\n      <td>Перчатки хирургические резиновые</td>\n      <td>None</td>\n      <td>None</td>\n      <td>0</td>\n      <td>715</td>\n      <td>Пара (2 шт.)</td>\n      <td>1000.0</td>\n      <td>28.0</td>\n      <td>NaN</td>\n      <td>RUB</td>\n    </tr>\n    <tr>\n      <th>3</th>\n      <td>00026a57-3035-45cd-9a0b-598d5b233a6b</td>\n      <td>57017000450210000030001</td>\n      <td>0</td>\n      <td>0</td>\n      <td>0</td>\n      <td>0</td>\n      <td>None</td>\n      <td>None</td>\n      <td>2021-01-12 02:56:07</td>\n      <td>7017000450</td>\n      <td>...</td>\n      <td>Перчатки хирургические резиновые</td>\n      <td>None</td>\n      <td>None</td>\n      <td>0</td>\n      <td>715</td>\n      <td>Пара (2 шт.)</td>\n      <td>100.0</td>\n      <td>54.0</td>\n      <td>NaN</td>\n      <td>RUB</td>\n    </tr>\n    <tr>\n      <th>4</th>\n      <td>00026a57-3035-45cd-9a0b-598d5b233a6b</td>\n      <td>57017000450210000030001</td>\n      <td>0</td>\n      <td>0</td>\n      <td>0</td>\n      <td>0</td>\n      <td>None</td>\n      <td>None</td>\n      <td>2021-01-12 02:56:07</td>\n      <td>7017000450</td>\n      <td>...</td>\n      <td>Перчатки хирургические резиновые</td>\n      <td>None</td>\n      <td>None</td>\n      <td>0</td>\n      <td>715</td>\n      <td>Пара (2 шт.)</td>\n      <td>8000.0</td>\n      <td>26.0</td>\n      <td>NaN</td>\n      <td>RUB</td>\n    </tr>\n    <tr>\n      <th>...</th>\n      <td>...</td>\n      <td>...</td>\n      <td>...</td>\n      <td>...</td>\n      <td>...</td>\n      <td>...</td>\n      <td>...</td>\n      <td>...</td>\n      <td>...</td>\n      <td>...</td>\n      <td>...</td>\n      <td>...</td>\n      <td>...</td>\n      <td>...</td>\n      <td>...</td>\n      <td>...</td>\n      <td>...</td>\n      <td>...</td>\n      <td>...</td>\n      <td>...</td>\n      <td>...</td>\n    </tr>\n    <tr>\n      <th>72190</th>\n      <td>fff5ad7e-5884-46f1-9f07-4150e8cc6258</td>\n      <td>52801022793210003140001</td>\n      <td>0</td>\n      <td>0</td>\n      <td>0</td>\n      <td>0</td>\n      <td>None</td>\n      <td>None</td>\n      <td>2021-11-01 05:30:25</td>\n      <td>2801022793</td>\n      <td>...</td>\n      <td>Изделия медицинские, в том числе хирургические...</td>\n      <td>None</td>\n      <td>None</td>\n      <td>0</td>\n      <td>778</td>\n      <td>Упаковка</td>\n      <td>63.0</td>\n      <td>5800.0</td>\n      <td>NaN</td>\n      <td>RUB</td>\n    </tr>\n    <tr>\n      <th>72191</th>\n      <td>fff6f724-be51-4180-930f-41999fdd5497</td>\n      <td>51435149216210002250001</td>\n      <td>0</td>\n      <td>0</td>\n      <td>0</td>\n      <td>0</td>\n      <td>None</td>\n      <td>None</td>\n      <td>2021-11-25 02:46:38</td>\n      <td>1435149216</td>\n      <td>...</td>\n      <td>Препараты лекарственные</td>\n      <td>None</td>\n      <td>None</td>\n      <td>1</td>\n      <td>None</td>\n      <td>None</td>\n      <td>NaN</td>\n      <td>617760.0</td>\n      <td>NaN</td>\n      <td>RUB</td>\n    </tr>\n    <tr>\n      <th>72192</th>\n      <td>fff8c702-ba6a-48c2-90d4-67c2c857cfd1</td>\n      <td>67725038124200003980001</td>\n      <td>0</td>\n      <td>0</td>\n      <td>0</td>\n      <td>0</td>\n      <td>None</td>\n      <td>None</td>\n      <td>2020-11-20 08:42:35</td>\n      <td>7725038124</td>\n      <td>...</td>\n      <td>Услуги по дезинфекции, дезинсекции и дератизации</td>\n      <td>None</td>\n      <td>None</td>\n      <td>0</td>\n      <td>876</td>\n      <td>Условная единица</td>\n      <td>1.0</td>\n      <td>NaN</td>\n      <td>NaN</td>\n      <td>None</td>\n    </tr>\n    <tr>\n      <th>72193</th>\n      <td>fffb9623-244a-4c27-b1c7-4518ab6412bd</td>\n      <td>51431004812210000980001</td>\n      <td>0</td>\n      <td>0</td>\n      <td>0</td>\n      <td>0</td>\n      <td>None</td>\n      <td>None</td>\n      <td>2021-07-07 09:05:27</td>\n      <td>1431004812</td>\n      <td>...</td>\n      <td>Препараты лекарственные</td>\n      <td>None</td>\n      <td>None</td>\n      <td>0</td>\n      <td>778</td>\n      <td>Упаковка</td>\n      <td>14.0</td>\n      <td>54600.0</td>\n      <td>NaN</td>\n      <td>RUB</td>\n    </tr>\n    <tr>\n      <th>72194</th>\n      <td>fffc951e-8b19-4069-8a04-bd4242859bbb</td>\n      <td>67704759968200001230003</td>\n      <td>0</td>\n      <td>0</td>\n      <td>0</td>\n      <td>0</td>\n      <td>None</td>\n      <td>None</td>\n      <td>2020-12-31 09:12:09</td>\n      <td>7704759968</td>\n      <td>...</td>\n      <td>Услуги в области медицины прочие</td>\n      <td>None</td>\n      <td>None</td>\n      <td>1</td>\n      <td>None</td>\n      <td>None</td>\n      <td>NaN</td>\n      <td>NaN</td>\n      <td>NaN</td>\n      <td>RUB</td>\n    </tr>\n  </tbody>\n</table>\n<p>72195 rows × 51 columns</p>\n</div>"
     },
     "execution_count": 10,
     "metadata": {},
     "output_type": "execute_result"
    }
   ],
   "source": [
    "covid_contracts_positions_with_lot = pd.read_sql_query(\n",
    "    f\"\"\"\n",
    "    SELECT c.guid as contract_guid, c.registration_number as contract_registration_number,\n",
    "    c.notice_not_placed_by_fz223p5s4 as notice_not_placed_by_fz223p5s4,\n",
    "    c.extension as contract_extension, c.prolongation as contract_prolongation,\n",
    "    c.customer_appeale_or_needs_approval as customer_appeale_or_needs_approval,\n",
    "    c.customer_approval_or_antimonopoly_descision_date as customer_approval_or_antimonopoly_descision_date,\n",
    "    c.plan_position_guid as contract_plan_position_guid,\n",
    "    c.create_date_time as contract_create_date_time,\n",
    "    c.customer_inn as contract_customer_inn, c.placer_inn as contract_placer_inn, c.detached_org_inn as contract_detached_org_inn,\n",
    "    c.publication_date as contract_publication_date, c.contract_status_code as contract_publication_date,\n",
    "    c.emergency as emergency, c.provider as provider, c.provider_code as provider_code, c.contract_reg_number as contract_reg_number,\n",
    "    c.contract_date as contract_date, c.digital_purchase as digital_purchase,\n",
    "    c.purchase_notice_info_guid as purchase_notice_info_guid, c.purchase_notice_info_number as purchase_notice_info_number,\n",
    "    c.lot_guid as lot_guid, c.subject_contract as subject_contract, c.purchase_type_code as purchase_type_code,\n",
    "    c.price as contract_price, c.rub_price as contract_rub_price, c.currency_code as contract_currency_code,\n",
    "    c.start_execution_date as contract_start_execution_date, c.end_execution_date as contract_end_execution_date,\n",
    "    c.region_name as region_name,\n",
    "    pnld.initial_sum as notice_lot_initial_sum, pnld.starting_contract_price_rub as notice_lot_starting_contract_price_rub,\n",
    "    pnld.currency_code as notice_lot_currency_code,\n",
    "    pnld.commodity_price as notice_lot_commodity_price, pnld.commodity_price_rub as notice_lot_commodity_price_rub,\n",
    "    pnld.max_contract_price as notice_lot_max_contract_price, pnld.max_contract_price_rub as notice_lot_max_contract_price_rub,\n",
    "    cp.is_complete as contract_is_complete,\n",
    "    cpos.name as contract_position_name,\n",
    "    cpos.okpd2_code as position_okpd2_code, cpos.okpd2_name as position_okpd2_name,\n",
    "    cpos.country_code as position_country_code, cpos.producer_country as position_producer_country,\n",
    "    cpos.impossible_to_determine_attr as position_impossible_to_determine_attr, cpos.okei_code as position_okei_code,\n",
    "    cpos.okei_name as position_okei_name, cpos.qty as position_qty, cpos.unit_price as position_unit_price,\n",
    "    cpos.rub_unit_price as position_rub_unit_price, cpos.currency_code as position_currency_code\n",
    "    FROM contract c\n",
    "    INNER JOIN (\n",
    "        SELECT contract_reg_number, MAX(version) ver\n",
    "        FROM contract\n",
    "        WHERE {COVID_CONDITIONS}\n",
    "        AND lot_guid is not null\n",
    "        GROUP BY contract_reg_number\n",
    "    ) tmp ON c.contract_reg_number = tmp.contract_reg_number AND c.version = tmp.ver\n",
    "    INNER JOIN purchase_notice_lot pnl ON c.lot_guid = pnl.guid\n",
    "    LEFT JOIN purchase_notice_lot_data pnld on pnl.guid = pnld.purchase_notice_lot_guid\n",
    "    LEFT JOIN (\n",
    "        SELECT c2.contract_reg_number, MIN(is_complete) as is_complete\n",
    "        FROM contract c2\n",
    "        LEFT JOIN contract_performance cp2 ON c2.contract_reg_number = cp2.contract_registration_number\n",
    "        AND c2.lot_guid is not null\n",
    "        GROUP BY c2.contract_reg_number\n",
    "    ) cp ON cp.contract_reg_number = c.contract_reg_number\n",
    "    LEFT JOIN position_to_contract ptc on c.guid = ptc.contract_guid\n",
    "    LEFT JOIN contract_position cpos on ptc.position_guid = cpos.guid\n",
    "    \"\"\",\n",
    "    conn\n",
    ")\n",
    "\n",
    "covid_contracts_positions_with_lot"
   ],
   "metadata": {
    "collapsed": false,
    "pycharm": {
     "name": "#%%\n"
    }
   }
  },
  {
   "cell_type": "markdown",
   "source": [
    "Добавим информацию о том, сколько договоров заключено по лоту в выборку."
   ],
   "metadata": {
    "collapsed": false,
    "pycharm": {
     "name": "#%% md\n"
    }
   }
  },
  {
   "cell_type": "code",
   "execution_count": 11,
   "outputs": [
    {
     "data": {
      "text/plain": "                                   lot_guid  contracts_for_lot\n0      0001eb03-1d53-4a0d-afed-d15afacc9c03                  1\n1      00063eeb-9fc5-4bd1-b269-9ebf61448d5d                  1\n2      00069375-47f6-40d8-8b20-df78140b1416                  1\n3      000b0a3c-7291-4077-836d-73b1ce173a73                  1\n4      000f785b-cde8-42fc-bdd4-dd401bf48e52                  1\n...                                     ...                ...\n30677  fff43019-a748-4955-af26-6f4f1488571f                  1\n30678  fff43d4a-a42c-4665-bfc5-c50c164bf48b                  1\n30679  fff60f78-fc33-4858-ad9e-90605a125069                  1\n30680  fffdce4d-a139-4939-ada5-5bea3fb1d25e                  1\n30681  fffec4c3-a162-4d92-b7ab-3abb51142033                  1\n\n[30682 rows x 2 columns]",
      "text/html": "<div>\n<style scoped>\n    .dataframe tbody tr th:only-of-type {\n        vertical-align: middle;\n    }\n\n    .dataframe tbody tr th {\n        vertical-align: top;\n    }\n\n    .dataframe thead th {\n        text-align: right;\n    }\n</style>\n<table border=\"1\" class=\"dataframe\">\n  <thead>\n    <tr style=\"text-align: right;\">\n      <th></th>\n      <th>lot_guid</th>\n      <th>contracts_for_lot</th>\n    </tr>\n  </thead>\n  <tbody>\n    <tr>\n      <th>0</th>\n      <td>0001eb03-1d53-4a0d-afed-d15afacc9c03</td>\n      <td>1</td>\n    </tr>\n    <tr>\n      <th>1</th>\n      <td>00063eeb-9fc5-4bd1-b269-9ebf61448d5d</td>\n      <td>1</td>\n    </tr>\n    <tr>\n      <th>2</th>\n      <td>00069375-47f6-40d8-8b20-df78140b1416</td>\n      <td>1</td>\n    </tr>\n    <tr>\n      <th>3</th>\n      <td>000b0a3c-7291-4077-836d-73b1ce173a73</td>\n      <td>1</td>\n    </tr>\n    <tr>\n      <th>4</th>\n      <td>000f785b-cde8-42fc-bdd4-dd401bf48e52</td>\n      <td>1</td>\n    </tr>\n    <tr>\n      <th>...</th>\n      <td>...</td>\n      <td>...</td>\n    </tr>\n    <tr>\n      <th>30677</th>\n      <td>fff43019-a748-4955-af26-6f4f1488571f</td>\n      <td>1</td>\n    </tr>\n    <tr>\n      <th>30678</th>\n      <td>fff43d4a-a42c-4665-bfc5-c50c164bf48b</td>\n      <td>1</td>\n    </tr>\n    <tr>\n      <th>30679</th>\n      <td>fff60f78-fc33-4858-ad9e-90605a125069</td>\n      <td>1</td>\n    </tr>\n    <tr>\n      <th>30680</th>\n      <td>fffdce4d-a139-4939-ada5-5bea3fb1d25e</td>\n      <td>1</td>\n    </tr>\n    <tr>\n      <th>30681</th>\n      <td>fffec4c3-a162-4d92-b7ab-3abb51142033</td>\n      <td>1</td>\n    </tr>\n  </tbody>\n</table>\n<p>30682 rows × 2 columns</p>\n</div>"
     },
     "execution_count": 11,
     "metadata": {},
     "output_type": "execute_result"
    }
   ],
   "source": [
    "contracts_count_for_lot = pd.read_sql_query(\n",
    "    f\"\"\"\n",
    "    SELECT lot_guid, COUNT(*) as contracts_for_lot\n",
    "        FROM contract c\n",
    "        INNER JOIN (\n",
    "            SELECT contract_reg_number, MAX(version) ver\n",
    "            FROM contract\n",
    "            WHERE {COVID_CONDITIONS}\n",
    "            AND lot_guid is not null\n",
    "            GROUP BY contract_reg_number\n",
    "        ) tmp ON c.contract_reg_number = tmp.contract_reg_number AND c.version = tmp.ver\n",
    "    GROUP BY lot_guid\n",
    "    \"\"\",\n",
    "    conn\n",
    ")\n",
    "\n",
    "contracts_count_for_lot"
   ],
   "metadata": {
    "collapsed": false,
    "pycharm": {
     "name": "#%%\n"
    }
   }
  },
  {
   "cell_type": "code",
   "execution_count": 12,
   "outputs": [
    {
     "data": {
      "text/plain": "                              contract_guid contract_registration_number  \\\n0      00026a57-3035-45cd-9a0b-598d5b233a6b      57017000450210000030001   \n1      00026a57-3035-45cd-9a0b-598d5b233a6b      57017000450210000030001   \n2      00026a57-3035-45cd-9a0b-598d5b233a6b      57017000450210000030001   \n3      00026a57-3035-45cd-9a0b-598d5b233a6b      57017000450210000030001   \n4      00026a57-3035-45cd-9a0b-598d5b233a6b      57017000450210000030001   \n...                                     ...                          ...   \n72190  fff5ad7e-5884-46f1-9f07-4150e8cc6258      52801022793210003140001   \n72191  fff6f724-be51-4180-930f-41999fdd5497      51435149216210002250001   \n72192  fff8c702-ba6a-48c2-90d4-67c2c857cfd1      67725038124200003980001   \n72193  fffb9623-244a-4c27-b1c7-4518ab6412bd      51431004812210000980001   \n72194  fffc951e-8b19-4069-8a04-bd4242859bbb      67704759968200001230003   \n\n       notice_not_placed_by_fz223p5s4  contract_extension  \\\n0                                   0                   0   \n1                                   0                   0   \n2                                   0                   0   \n3                                   0                   0   \n4                                   0                   0   \n...                               ...                 ...   \n72190                               0                   0   \n72191                               0                   0   \n72192                               0                   0   \n72193                               0                   0   \n72194                               0                   0   \n\n       contract_prolongation  customer_appeale_or_needs_approval  \\\n0                          0                                   0   \n1                          0                                   0   \n2                          0                                   0   \n3                          0                                   0   \n4                          0                                   0   \n...                      ...                                 ...   \n72190                      0                                   0   \n72191                      0                                   0   \n72192                      0                                   0   \n72193                      0                                   0   \n72194                      0                                   0   \n\n      customer_approval_or_antimonopoly_descision_date  \\\n0                                                 None   \n1                                                 None   \n2                                                 None   \n3                                                 None   \n4                                                 None   \n...                                                ...   \n72190                                             None   \n72191                                             None   \n72192                                             None   \n72193                                             None   \n72194                                             None   \n\n      contract_plan_position_guid contract_create_date_time  \\\n0                            None       2021-01-12 02:56:07   \n1                            None       2021-01-12 02:56:07   \n2                            None       2021-01-12 02:56:07   \n3                            None       2021-01-12 02:56:07   \n4                            None       2021-01-12 02:56:07   \n...                           ...                       ...   \n72190                        None       2021-11-01 05:30:25   \n72191                        None       2021-11-25 02:46:38   \n72192                        None       2020-11-20 08:42:35   \n72193                        None       2021-07-07 09:05:27   \n72194                        None       2020-12-31 09:12:09   \n\n      contract_customer_inn  ... position_country_code  \\\n0                7017000450  ...                  None   \n1                7017000450  ...                  None   \n2                7017000450  ...                  None   \n3                7017000450  ...                  None   \n4                7017000450  ...                  None   \n...                     ...  ...                   ...   \n72190            2801022793  ...                  None   \n72191            1435149216  ...                  None   \n72192            7725038124  ...                  None   \n72193            1431004812  ...                  None   \n72194            7704759968  ...                  None   \n\n      position_producer_country position_impossible_to_determine_attr  \\\n0                          None                                     0   \n1                          None                                     0   \n2                          None                                     0   \n3                          None                                     0   \n4                          None                                     0   \n...                         ...                                   ...   \n72190                      None                                     0   \n72191                      None                                     1   \n72192                      None                                     0   \n72193                      None                                     0   \n72194                      None                                     1   \n\n      position_okei_code  position_okei_name  position_qty  \\\n0                    715        Пара (2 шт.)        4000.0   \n1                    715        Пара (2 шт.)        5000.0   \n2                    715        Пара (2 шт.)        1000.0   \n3                    715        Пара (2 шт.)         100.0   \n4                    715        Пара (2 шт.)        8000.0   \n...                  ...                 ...           ...   \n72190                778            Упаковка          63.0   \n72191               None                None           NaN   \n72192                876    Условная единица           1.0   \n72193                778            Упаковка          14.0   \n72194               None                None           NaN   \n\n      position_unit_price position_rub_unit_price position_currency_code  \\\n0                    26.0                     NaN                    RUB   \n1                    26.0                     NaN                    RUB   \n2                    28.0                     NaN                    RUB   \n3                    54.0                     NaN                    RUB   \n4                    26.0                     NaN                    RUB   \n...                   ...                     ...                    ...   \n72190              5800.0                     NaN                    RUB   \n72191            617760.0                     NaN                    RUB   \n72192                 NaN                     NaN                   None   \n72193             54600.0                     NaN                    RUB   \n72194                 NaN                     NaN                    RUB   \n\n       contracts_for_lot  \n0                      1  \n1                      1  \n2                      1  \n3                      1  \n4                      1  \n...                  ...  \n72190                  1  \n72191                  1  \n72192                  1  \n72193                  1  \n72194                  1  \n\n[72195 rows x 52 columns]",
      "text/html": "<div>\n<style scoped>\n    .dataframe tbody tr th:only-of-type {\n        vertical-align: middle;\n    }\n\n    .dataframe tbody tr th {\n        vertical-align: top;\n    }\n\n    .dataframe thead th {\n        text-align: right;\n    }\n</style>\n<table border=\"1\" class=\"dataframe\">\n  <thead>\n    <tr style=\"text-align: right;\">\n      <th></th>\n      <th>contract_guid</th>\n      <th>contract_registration_number</th>\n      <th>notice_not_placed_by_fz223p5s4</th>\n      <th>contract_extension</th>\n      <th>contract_prolongation</th>\n      <th>customer_appeale_or_needs_approval</th>\n      <th>customer_approval_or_antimonopoly_descision_date</th>\n      <th>contract_plan_position_guid</th>\n      <th>contract_create_date_time</th>\n      <th>contract_customer_inn</th>\n      <th>...</th>\n      <th>position_country_code</th>\n      <th>position_producer_country</th>\n      <th>position_impossible_to_determine_attr</th>\n      <th>position_okei_code</th>\n      <th>position_okei_name</th>\n      <th>position_qty</th>\n      <th>position_unit_price</th>\n      <th>position_rub_unit_price</th>\n      <th>position_currency_code</th>\n      <th>contracts_for_lot</th>\n    </tr>\n  </thead>\n  <tbody>\n    <tr>\n      <th>0</th>\n      <td>00026a57-3035-45cd-9a0b-598d5b233a6b</td>\n      <td>57017000450210000030001</td>\n      <td>0</td>\n      <td>0</td>\n      <td>0</td>\n      <td>0</td>\n      <td>None</td>\n      <td>None</td>\n      <td>2021-01-12 02:56:07</td>\n      <td>7017000450</td>\n      <td>...</td>\n      <td>None</td>\n      <td>None</td>\n      <td>0</td>\n      <td>715</td>\n      <td>Пара (2 шт.)</td>\n      <td>4000.0</td>\n      <td>26.0</td>\n      <td>NaN</td>\n      <td>RUB</td>\n      <td>1</td>\n    </tr>\n    <tr>\n      <th>1</th>\n      <td>00026a57-3035-45cd-9a0b-598d5b233a6b</td>\n      <td>57017000450210000030001</td>\n      <td>0</td>\n      <td>0</td>\n      <td>0</td>\n      <td>0</td>\n      <td>None</td>\n      <td>None</td>\n      <td>2021-01-12 02:56:07</td>\n      <td>7017000450</td>\n      <td>...</td>\n      <td>None</td>\n      <td>None</td>\n      <td>0</td>\n      <td>715</td>\n      <td>Пара (2 шт.)</td>\n      <td>5000.0</td>\n      <td>26.0</td>\n      <td>NaN</td>\n      <td>RUB</td>\n      <td>1</td>\n    </tr>\n    <tr>\n      <th>2</th>\n      <td>00026a57-3035-45cd-9a0b-598d5b233a6b</td>\n      <td>57017000450210000030001</td>\n      <td>0</td>\n      <td>0</td>\n      <td>0</td>\n      <td>0</td>\n      <td>None</td>\n      <td>None</td>\n      <td>2021-01-12 02:56:07</td>\n      <td>7017000450</td>\n      <td>...</td>\n      <td>None</td>\n      <td>None</td>\n      <td>0</td>\n      <td>715</td>\n      <td>Пара (2 шт.)</td>\n      <td>1000.0</td>\n      <td>28.0</td>\n      <td>NaN</td>\n      <td>RUB</td>\n      <td>1</td>\n    </tr>\n    <tr>\n      <th>3</th>\n      <td>00026a57-3035-45cd-9a0b-598d5b233a6b</td>\n      <td>57017000450210000030001</td>\n      <td>0</td>\n      <td>0</td>\n      <td>0</td>\n      <td>0</td>\n      <td>None</td>\n      <td>None</td>\n      <td>2021-01-12 02:56:07</td>\n      <td>7017000450</td>\n      <td>...</td>\n      <td>None</td>\n      <td>None</td>\n      <td>0</td>\n      <td>715</td>\n      <td>Пара (2 шт.)</td>\n      <td>100.0</td>\n      <td>54.0</td>\n      <td>NaN</td>\n      <td>RUB</td>\n      <td>1</td>\n    </tr>\n    <tr>\n      <th>4</th>\n      <td>00026a57-3035-45cd-9a0b-598d5b233a6b</td>\n      <td>57017000450210000030001</td>\n      <td>0</td>\n      <td>0</td>\n      <td>0</td>\n      <td>0</td>\n      <td>None</td>\n      <td>None</td>\n      <td>2021-01-12 02:56:07</td>\n      <td>7017000450</td>\n      <td>...</td>\n      <td>None</td>\n      <td>None</td>\n      <td>0</td>\n      <td>715</td>\n      <td>Пара (2 шт.)</td>\n      <td>8000.0</td>\n      <td>26.0</td>\n      <td>NaN</td>\n      <td>RUB</td>\n      <td>1</td>\n    </tr>\n    <tr>\n      <th>...</th>\n      <td>...</td>\n      <td>...</td>\n      <td>...</td>\n      <td>...</td>\n      <td>...</td>\n      <td>...</td>\n      <td>...</td>\n      <td>...</td>\n      <td>...</td>\n      <td>...</td>\n      <td>...</td>\n      <td>...</td>\n      <td>...</td>\n      <td>...</td>\n      <td>...</td>\n      <td>...</td>\n      <td>...</td>\n      <td>...</td>\n      <td>...</td>\n      <td>...</td>\n      <td>...</td>\n    </tr>\n    <tr>\n      <th>72190</th>\n      <td>fff5ad7e-5884-46f1-9f07-4150e8cc6258</td>\n      <td>52801022793210003140001</td>\n      <td>0</td>\n      <td>0</td>\n      <td>0</td>\n      <td>0</td>\n      <td>None</td>\n      <td>None</td>\n      <td>2021-11-01 05:30:25</td>\n      <td>2801022793</td>\n      <td>...</td>\n      <td>None</td>\n      <td>None</td>\n      <td>0</td>\n      <td>778</td>\n      <td>Упаковка</td>\n      <td>63.0</td>\n      <td>5800.0</td>\n      <td>NaN</td>\n      <td>RUB</td>\n      <td>1</td>\n    </tr>\n    <tr>\n      <th>72191</th>\n      <td>fff6f724-be51-4180-930f-41999fdd5497</td>\n      <td>51435149216210002250001</td>\n      <td>0</td>\n      <td>0</td>\n      <td>0</td>\n      <td>0</td>\n      <td>None</td>\n      <td>None</td>\n      <td>2021-11-25 02:46:38</td>\n      <td>1435149216</td>\n      <td>...</td>\n      <td>None</td>\n      <td>None</td>\n      <td>1</td>\n      <td>None</td>\n      <td>None</td>\n      <td>NaN</td>\n      <td>617760.0</td>\n      <td>NaN</td>\n      <td>RUB</td>\n      <td>1</td>\n    </tr>\n    <tr>\n      <th>72192</th>\n      <td>fff8c702-ba6a-48c2-90d4-67c2c857cfd1</td>\n      <td>67725038124200003980001</td>\n      <td>0</td>\n      <td>0</td>\n      <td>0</td>\n      <td>0</td>\n      <td>None</td>\n      <td>None</td>\n      <td>2020-11-20 08:42:35</td>\n      <td>7725038124</td>\n      <td>...</td>\n      <td>None</td>\n      <td>None</td>\n      <td>0</td>\n      <td>876</td>\n      <td>Условная единица</td>\n      <td>1.0</td>\n      <td>NaN</td>\n      <td>NaN</td>\n      <td>None</td>\n      <td>1</td>\n    </tr>\n    <tr>\n      <th>72193</th>\n      <td>fffb9623-244a-4c27-b1c7-4518ab6412bd</td>\n      <td>51431004812210000980001</td>\n      <td>0</td>\n      <td>0</td>\n      <td>0</td>\n      <td>0</td>\n      <td>None</td>\n      <td>None</td>\n      <td>2021-07-07 09:05:27</td>\n      <td>1431004812</td>\n      <td>...</td>\n      <td>None</td>\n      <td>None</td>\n      <td>0</td>\n      <td>778</td>\n      <td>Упаковка</td>\n      <td>14.0</td>\n      <td>54600.0</td>\n      <td>NaN</td>\n      <td>RUB</td>\n      <td>1</td>\n    </tr>\n    <tr>\n      <th>72194</th>\n      <td>fffc951e-8b19-4069-8a04-bd4242859bbb</td>\n      <td>67704759968200001230003</td>\n      <td>0</td>\n      <td>0</td>\n      <td>0</td>\n      <td>0</td>\n      <td>None</td>\n      <td>None</td>\n      <td>2020-12-31 09:12:09</td>\n      <td>7704759968</td>\n      <td>...</td>\n      <td>None</td>\n      <td>None</td>\n      <td>1</td>\n      <td>None</td>\n      <td>None</td>\n      <td>NaN</td>\n      <td>NaN</td>\n      <td>NaN</td>\n      <td>RUB</td>\n      <td>1</td>\n    </tr>\n  </tbody>\n</table>\n<p>72195 rows × 52 columns</p>\n</div>"
     },
     "execution_count": 12,
     "metadata": {},
     "output_type": "execute_result"
    }
   ],
   "source": [
    "dataset = pd.merge(\n",
    "    covid_contracts_positions_with_lot,\n",
    "    contracts_count_for_lot,\n",
    "    how='left',\n",
    "    on=['lot_guid']\n",
    ")\n",
    "\n",
    "dataset"
   ],
   "metadata": {
    "collapsed": false,
    "pycharm": {
     "name": "#%%\n"
    }
   }
  },
  {
   "cell_type": "markdown",
   "source": [
    "Добавим информацию об изначальных заказчиках в выборку"
   ],
   "metadata": {
    "collapsed": false,
    "pycharm": {
     "name": "#%% md\n"
    }
   }
  },
  {
   "cell_type": "code",
   "execution_count": 13,
   "outputs": [
    {
     "data": {
      "text/plain": "                              contract_guid notice_customer_inn  \\\n0      00026a57-3035-45cd-9a0b-598d5b233a6b          7017000450   \n1      0004ff4b-67ff-42b6-a163-88e556affbeb          0274946336   \n2      000ab495-ae5e-42c4-9643-94083ebb7ceb          9111006597   \n3      000ccb0b-8346-4f62-bb32-04d284ba6fca          6027024472   \n4      000d73ea-90c4-460f-8074-2d8eb70aa733          3664056479   \n...                                     ...                 ...   \n30698  fff5ad7e-5884-46f1-9f07-4150e8cc6258          2801022793   \n30699  fff6f724-be51-4180-930f-41999fdd5497          1435149216   \n30700  fff8c702-ba6a-48c2-90d4-67c2c857cfd1          7725038124   \n30701  fffb9623-244a-4c27-b1c7-4518ab6412bd          1431004812   \n30702  fffc951e-8b19-4069-8a04-bd4242859bbb          7704759968   \n\n      notice_placer_inn notice_detached_org_inn  \n0            7017000450                    None  \n1            0274946336                    None  \n2            9111006597                    None  \n3            6027024472                    None  \n4            3662158965                    None  \n...                 ...                     ...  \n30698        2801022793                    None  \n30699        7710357167                    None  \n30700        7725038124                    None  \n30701        1431004812                    None  \n30702        7704759968                    None  \n\n[30703 rows x 4 columns]",
      "text/html": "<div>\n<style scoped>\n    .dataframe tbody tr th:only-of-type {\n        vertical-align: middle;\n    }\n\n    .dataframe tbody tr th {\n        vertical-align: top;\n    }\n\n    .dataframe thead th {\n        text-align: right;\n    }\n</style>\n<table border=\"1\" class=\"dataframe\">\n  <thead>\n    <tr style=\"text-align: right;\">\n      <th></th>\n      <th>contract_guid</th>\n      <th>notice_customer_inn</th>\n      <th>notice_placer_inn</th>\n      <th>notice_detached_org_inn</th>\n    </tr>\n  </thead>\n  <tbody>\n    <tr>\n      <th>0</th>\n      <td>00026a57-3035-45cd-9a0b-598d5b233a6b</td>\n      <td>7017000450</td>\n      <td>7017000450</td>\n      <td>None</td>\n    </tr>\n    <tr>\n      <th>1</th>\n      <td>0004ff4b-67ff-42b6-a163-88e556affbeb</td>\n      <td>0274946336</td>\n      <td>0274946336</td>\n      <td>None</td>\n    </tr>\n    <tr>\n      <th>2</th>\n      <td>000ab495-ae5e-42c4-9643-94083ebb7ceb</td>\n      <td>9111006597</td>\n      <td>9111006597</td>\n      <td>None</td>\n    </tr>\n    <tr>\n      <th>3</th>\n      <td>000ccb0b-8346-4f62-bb32-04d284ba6fca</td>\n      <td>6027024472</td>\n      <td>6027024472</td>\n      <td>None</td>\n    </tr>\n    <tr>\n      <th>4</th>\n      <td>000d73ea-90c4-460f-8074-2d8eb70aa733</td>\n      <td>3664056479</td>\n      <td>3662158965</td>\n      <td>None</td>\n    </tr>\n    <tr>\n      <th>...</th>\n      <td>...</td>\n      <td>...</td>\n      <td>...</td>\n      <td>...</td>\n    </tr>\n    <tr>\n      <th>30698</th>\n      <td>fff5ad7e-5884-46f1-9f07-4150e8cc6258</td>\n      <td>2801022793</td>\n      <td>2801022793</td>\n      <td>None</td>\n    </tr>\n    <tr>\n      <th>30699</th>\n      <td>fff6f724-be51-4180-930f-41999fdd5497</td>\n      <td>1435149216</td>\n      <td>7710357167</td>\n      <td>None</td>\n    </tr>\n    <tr>\n      <th>30700</th>\n      <td>fff8c702-ba6a-48c2-90d4-67c2c857cfd1</td>\n      <td>7725038124</td>\n      <td>7725038124</td>\n      <td>None</td>\n    </tr>\n    <tr>\n      <th>30701</th>\n      <td>fffb9623-244a-4c27-b1c7-4518ab6412bd</td>\n      <td>1431004812</td>\n      <td>1431004812</td>\n      <td>None</td>\n    </tr>\n    <tr>\n      <th>30702</th>\n      <td>fffc951e-8b19-4069-8a04-bd4242859bbb</td>\n      <td>7704759968</td>\n      <td>7704759968</td>\n      <td>None</td>\n    </tr>\n  </tbody>\n</table>\n<p>30703 rows × 4 columns</p>\n</div>"
     },
     "execution_count": 13,
     "metadata": {},
     "output_type": "execute_result"
    }
   ],
   "source": [
    "notice_customers_for_contract = pd.read_sql_query(\n",
    "    f\"\"\"\n",
    "    SELECT c.guid as contract_guid, pn.customer_inn as notice_customer_inn,\n",
    "        pn.placer_inn as notice_placer_inn, pn.detached_org_inn as notice_detached_org_inn\n",
    "    FROM contract c\n",
    "    INNER JOIN (\n",
    "        SELECT contract_reg_number, MAX(version) ver\n",
    "        FROM contract\n",
    "        WHERE {COVID_CONDITIONS}\n",
    "        AND lot_guid is not null\n",
    "        GROUP BY contract_reg_number\n",
    "    ) tmp ON c.contract_reg_number = tmp.contract_reg_number AND c.version = tmp.ver\n",
    "    INNER JOIN (\n",
    "        --если несколько извещений с одинаковым номером, выбераем последнее\n",
    "        SELECT c2.guid, c2.purchase_notice_info_number, MAX(pn2.create_date_time) as max_date\n",
    "        FROM contract c2\n",
    "        INNER JOIN purchase_notice pn2 ON pn2.registration_number = c2.purchase_notice_info_number\n",
    "        AND c2.purchase_notice_info_number is not null\n",
    "        GROUP BY c2.guid, c2.purchase_notice_info_number\n",
    "    ) tmp2 ON c.guid = tmp2.guid\n",
    "    LEFT JOIN purchase_notice pn ON pn.create_date_time = tmp2.max_date\n",
    "        AND pn.registration_number = tmp2.purchase_notice_info_number\n",
    "    GROUP BY c.guid, pn.customer_inn, pn.placer_inn, pn.detached_org_inn\n",
    "    \"\"\",\n",
    "    conn\n",
    ")\n",
    "\n",
    "notice_customers_for_contract"
   ],
   "metadata": {
    "collapsed": false,
    "pycharm": {
     "name": "#%%\n"
    }
   }
  },
  {
   "cell_type": "code",
   "execution_count": 14,
   "outputs": [
    {
     "data": {
      "text/plain": "                              contract_guid contract_registration_number  \\\n0      00026a57-3035-45cd-9a0b-598d5b233a6b      57017000450210000030001   \n1      00026a57-3035-45cd-9a0b-598d5b233a6b      57017000450210000030001   \n2      00026a57-3035-45cd-9a0b-598d5b233a6b      57017000450210000030001   \n3      00026a57-3035-45cd-9a0b-598d5b233a6b      57017000450210000030001   \n4      00026a57-3035-45cd-9a0b-598d5b233a6b      57017000450210000030001   \n...                                     ...                          ...   \n72190  fff5ad7e-5884-46f1-9f07-4150e8cc6258      52801022793210003140001   \n72191  fff6f724-be51-4180-930f-41999fdd5497      51435149216210002250001   \n72192  fff8c702-ba6a-48c2-90d4-67c2c857cfd1      67725038124200003980001   \n72193  fffb9623-244a-4c27-b1c7-4518ab6412bd      51431004812210000980001   \n72194  fffc951e-8b19-4069-8a04-bd4242859bbb      67704759968200001230003   \n\n       notice_not_placed_by_fz223p5s4  contract_extension  \\\n0                                   0                   0   \n1                                   0                   0   \n2                                   0                   0   \n3                                   0                   0   \n4                                   0                   0   \n...                               ...                 ...   \n72190                               0                   0   \n72191                               0                   0   \n72192                               0                   0   \n72193                               0                   0   \n72194                               0                   0   \n\n       contract_prolongation  customer_appeale_or_needs_approval  \\\n0                          0                                   0   \n1                          0                                   0   \n2                          0                                   0   \n3                          0                                   0   \n4                          0                                   0   \n...                      ...                                 ...   \n72190                      0                                   0   \n72191                      0                                   0   \n72192                      0                                   0   \n72193                      0                                   0   \n72194                      0                                   0   \n\n      customer_approval_or_antimonopoly_descision_date  \\\n0                                                 None   \n1                                                 None   \n2                                                 None   \n3                                                 None   \n4                                                 None   \n...                                                ...   \n72190                                             None   \n72191                                             None   \n72192                                             None   \n72193                                             None   \n72194                                             None   \n\n      contract_plan_position_guid contract_create_date_time  \\\n0                            None       2021-01-12 02:56:07   \n1                            None       2021-01-12 02:56:07   \n2                            None       2021-01-12 02:56:07   \n3                            None       2021-01-12 02:56:07   \n4                            None       2021-01-12 02:56:07   \n...                           ...                       ...   \n72190                        None       2021-11-01 05:30:25   \n72191                        None       2021-11-25 02:46:38   \n72192                        None       2020-11-20 08:42:35   \n72193                        None       2021-07-07 09:05:27   \n72194                        None       2020-12-31 09:12:09   \n\n      contract_customer_inn  ... position_okei_code position_okei_name  \\\n0                7017000450  ...                715       Пара (2 шт.)   \n1                7017000450  ...                715       Пара (2 шт.)   \n2                7017000450  ...                715       Пара (2 шт.)   \n3                7017000450  ...                715       Пара (2 шт.)   \n4                7017000450  ...                715       Пара (2 шт.)   \n...                     ...  ...                ...                ...   \n72190            2801022793  ...                778           Упаковка   \n72191            1435149216  ...               None               None   \n72192            7725038124  ...                876   Условная единица   \n72193            1431004812  ...                778           Упаковка   \n72194            7704759968  ...               None               None   \n\n      position_qty position_unit_price  position_rub_unit_price  \\\n0           4000.0                26.0                      NaN   \n1           5000.0                26.0                      NaN   \n2           1000.0                28.0                      NaN   \n3            100.0                54.0                      NaN   \n4           8000.0                26.0                      NaN   \n...            ...                 ...                      ...   \n72190         63.0              5800.0                      NaN   \n72191          NaN            617760.0                      NaN   \n72192          1.0                 NaN                      NaN   \n72193         14.0             54600.0                      NaN   \n72194          NaN                 NaN                      NaN   \n\n       position_currency_code contracts_for_lot notice_customer_inn  \\\n0                         RUB                 1          7017000450   \n1                         RUB                 1          7017000450   \n2                         RUB                 1          7017000450   \n3                         RUB                 1          7017000450   \n4                         RUB                 1          7017000450   \n...                       ...               ...                 ...   \n72190                     RUB                 1          2801022793   \n72191                     RUB                 1          1435149216   \n72192                    None                 1          7725038124   \n72193                     RUB                 1          1431004812   \n72194                     RUB                 1          7704759968   \n\n      notice_placer_inn  notice_detached_org_inn  \n0            7017000450                     None  \n1            7017000450                     None  \n2            7017000450                     None  \n3            7017000450                     None  \n4            7017000450                     None  \n...                 ...                      ...  \n72190        2801022793                     None  \n72191        7710357167                     None  \n72192        7725038124                     None  \n72193        1431004812                     None  \n72194        7704759968                     None  \n\n[72195 rows x 55 columns]",
      "text/html": "<div>\n<style scoped>\n    .dataframe tbody tr th:only-of-type {\n        vertical-align: middle;\n    }\n\n    .dataframe tbody tr th {\n        vertical-align: top;\n    }\n\n    .dataframe thead th {\n        text-align: right;\n    }\n</style>\n<table border=\"1\" class=\"dataframe\">\n  <thead>\n    <tr style=\"text-align: right;\">\n      <th></th>\n      <th>contract_guid</th>\n      <th>contract_registration_number</th>\n      <th>notice_not_placed_by_fz223p5s4</th>\n      <th>contract_extension</th>\n      <th>contract_prolongation</th>\n      <th>customer_appeale_or_needs_approval</th>\n      <th>customer_approval_or_antimonopoly_descision_date</th>\n      <th>contract_plan_position_guid</th>\n      <th>contract_create_date_time</th>\n      <th>contract_customer_inn</th>\n      <th>...</th>\n      <th>position_okei_code</th>\n      <th>position_okei_name</th>\n      <th>position_qty</th>\n      <th>position_unit_price</th>\n      <th>position_rub_unit_price</th>\n      <th>position_currency_code</th>\n      <th>contracts_for_lot</th>\n      <th>notice_customer_inn</th>\n      <th>notice_placer_inn</th>\n      <th>notice_detached_org_inn</th>\n    </tr>\n  </thead>\n  <tbody>\n    <tr>\n      <th>0</th>\n      <td>00026a57-3035-45cd-9a0b-598d5b233a6b</td>\n      <td>57017000450210000030001</td>\n      <td>0</td>\n      <td>0</td>\n      <td>0</td>\n      <td>0</td>\n      <td>None</td>\n      <td>None</td>\n      <td>2021-01-12 02:56:07</td>\n      <td>7017000450</td>\n      <td>...</td>\n      <td>715</td>\n      <td>Пара (2 шт.)</td>\n      <td>4000.0</td>\n      <td>26.0</td>\n      <td>NaN</td>\n      <td>RUB</td>\n      <td>1</td>\n      <td>7017000450</td>\n      <td>7017000450</td>\n      <td>None</td>\n    </tr>\n    <tr>\n      <th>1</th>\n      <td>00026a57-3035-45cd-9a0b-598d5b233a6b</td>\n      <td>57017000450210000030001</td>\n      <td>0</td>\n      <td>0</td>\n      <td>0</td>\n      <td>0</td>\n      <td>None</td>\n      <td>None</td>\n      <td>2021-01-12 02:56:07</td>\n      <td>7017000450</td>\n      <td>...</td>\n      <td>715</td>\n      <td>Пара (2 шт.)</td>\n      <td>5000.0</td>\n      <td>26.0</td>\n      <td>NaN</td>\n      <td>RUB</td>\n      <td>1</td>\n      <td>7017000450</td>\n      <td>7017000450</td>\n      <td>None</td>\n    </tr>\n    <tr>\n      <th>2</th>\n      <td>00026a57-3035-45cd-9a0b-598d5b233a6b</td>\n      <td>57017000450210000030001</td>\n      <td>0</td>\n      <td>0</td>\n      <td>0</td>\n      <td>0</td>\n      <td>None</td>\n      <td>None</td>\n      <td>2021-01-12 02:56:07</td>\n      <td>7017000450</td>\n      <td>...</td>\n      <td>715</td>\n      <td>Пара (2 шт.)</td>\n      <td>1000.0</td>\n      <td>28.0</td>\n      <td>NaN</td>\n      <td>RUB</td>\n      <td>1</td>\n      <td>7017000450</td>\n      <td>7017000450</td>\n      <td>None</td>\n    </tr>\n    <tr>\n      <th>3</th>\n      <td>00026a57-3035-45cd-9a0b-598d5b233a6b</td>\n      <td>57017000450210000030001</td>\n      <td>0</td>\n      <td>0</td>\n      <td>0</td>\n      <td>0</td>\n      <td>None</td>\n      <td>None</td>\n      <td>2021-01-12 02:56:07</td>\n      <td>7017000450</td>\n      <td>...</td>\n      <td>715</td>\n      <td>Пара (2 шт.)</td>\n      <td>100.0</td>\n      <td>54.0</td>\n      <td>NaN</td>\n      <td>RUB</td>\n      <td>1</td>\n      <td>7017000450</td>\n      <td>7017000450</td>\n      <td>None</td>\n    </tr>\n    <tr>\n      <th>4</th>\n      <td>00026a57-3035-45cd-9a0b-598d5b233a6b</td>\n      <td>57017000450210000030001</td>\n      <td>0</td>\n      <td>0</td>\n      <td>0</td>\n      <td>0</td>\n      <td>None</td>\n      <td>None</td>\n      <td>2021-01-12 02:56:07</td>\n      <td>7017000450</td>\n      <td>...</td>\n      <td>715</td>\n      <td>Пара (2 шт.)</td>\n      <td>8000.0</td>\n      <td>26.0</td>\n      <td>NaN</td>\n      <td>RUB</td>\n      <td>1</td>\n      <td>7017000450</td>\n      <td>7017000450</td>\n      <td>None</td>\n    </tr>\n    <tr>\n      <th>...</th>\n      <td>...</td>\n      <td>...</td>\n      <td>...</td>\n      <td>...</td>\n      <td>...</td>\n      <td>...</td>\n      <td>...</td>\n      <td>...</td>\n      <td>...</td>\n      <td>...</td>\n      <td>...</td>\n      <td>...</td>\n      <td>...</td>\n      <td>...</td>\n      <td>...</td>\n      <td>...</td>\n      <td>...</td>\n      <td>...</td>\n      <td>...</td>\n      <td>...</td>\n      <td>...</td>\n    </tr>\n    <tr>\n      <th>72190</th>\n      <td>fff5ad7e-5884-46f1-9f07-4150e8cc6258</td>\n      <td>52801022793210003140001</td>\n      <td>0</td>\n      <td>0</td>\n      <td>0</td>\n      <td>0</td>\n      <td>None</td>\n      <td>None</td>\n      <td>2021-11-01 05:30:25</td>\n      <td>2801022793</td>\n      <td>...</td>\n      <td>778</td>\n      <td>Упаковка</td>\n      <td>63.0</td>\n      <td>5800.0</td>\n      <td>NaN</td>\n      <td>RUB</td>\n      <td>1</td>\n      <td>2801022793</td>\n      <td>2801022793</td>\n      <td>None</td>\n    </tr>\n    <tr>\n      <th>72191</th>\n      <td>fff6f724-be51-4180-930f-41999fdd5497</td>\n      <td>51435149216210002250001</td>\n      <td>0</td>\n      <td>0</td>\n      <td>0</td>\n      <td>0</td>\n      <td>None</td>\n      <td>None</td>\n      <td>2021-11-25 02:46:38</td>\n      <td>1435149216</td>\n      <td>...</td>\n      <td>None</td>\n      <td>None</td>\n      <td>NaN</td>\n      <td>617760.0</td>\n      <td>NaN</td>\n      <td>RUB</td>\n      <td>1</td>\n      <td>1435149216</td>\n      <td>7710357167</td>\n      <td>None</td>\n    </tr>\n    <tr>\n      <th>72192</th>\n      <td>fff8c702-ba6a-48c2-90d4-67c2c857cfd1</td>\n      <td>67725038124200003980001</td>\n      <td>0</td>\n      <td>0</td>\n      <td>0</td>\n      <td>0</td>\n      <td>None</td>\n      <td>None</td>\n      <td>2020-11-20 08:42:35</td>\n      <td>7725038124</td>\n      <td>...</td>\n      <td>876</td>\n      <td>Условная единица</td>\n      <td>1.0</td>\n      <td>NaN</td>\n      <td>NaN</td>\n      <td>None</td>\n      <td>1</td>\n      <td>7725038124</td>\n      <td>7725038124</td>\n      <td>None</td>\n    </tr>\n    <tr>\n      <th>72193</th>\n      <td>fffb9623-244a-4c27-b1c7-4518ab6412bd</td>\n      <td>51431004812210000980001</td>\n      <td>0</td>\n      <td>0</td>\n      <td>0</td>\n      <td>0</td>\n      <td>None</td>\n      <td>None</td>\n      <td>2021-07-07 09:05:27</td>\n      <td>1431004812</td>\n      <td>...</td>\n      <td>778</td>\n      <td>Упаковка</td>\n      <td>14.0</td>\n      <td>54600.0</td>\n      <td>NaN</td>\n      <td>RUB</td>\n      <td>1</td>\n      <td>1431004812</td>\n      <td>1431004812</td>\n      <td>None</td>\n    </tr>\n    <tr>\n      <th>72194</th>\n      <td>fffc951e-8b19-4069-8a04-bd4242859bbb</td>\n      <td>67704759968200001230003</td>\n      <td>0</td>\n      <td>0</td>\n      <td>0</td>\n      <td>0</td>\n      <td>None</td>\n      <td>None</td>\n      <td>2020-12-31 09:12:09</td>\n      <td>7704759968</td>\n      <td>...</td>\n      <td>None</td>\n      <td>None</td>\n      <td>NaN</td>\n      <td>NaN</td>\n      <td>NaN</td>\n      <td>RUB</td>\n      <td>1</td>\n      <td>7704759968</td>\n      <td>7704759968</td>\n      <td>None</td>\n    </tr>\n  </tbody>\n</table>\n<p>72195 rows × 55 columns</p>\n</div>"
     },
     "execution_count": 14,
     "metadata": {},
     "output_type": "execute_result"
    }
   ],
   "source": [
    "dataset = pd.merge(\n",
    "    dataset,\n",
    "    notice_customers_for_contract,\n",
    "    how='left',\n",
    "    on='contract_guid'\n",
    ")\n",
    "\n",
    "dataset"
   ],
   "metadata": {
    "collapsed": false,
    "pycharm": {
     "name": "#%%\n"
    }
   }
  },
  {
   "cell_type": "markdown",
   "source": [
    "Добавим информацию о том, сколько позиций в каждом контракте"
   ],
   "metadata": {
    "collapsed": false,
    "pycharm": {
     "name": "#%% md\n"
    }
   }
  },
  {
   "cell_type": "code",
   "execution_count": 15,
   "outputs": [
    {
     "data": {
      "text/plain": "                              contract_guid  contract_positions_count\n0      00026a57-3035-45cd-9a0b-598d5b233a6b                         8\n1      0004ff4b-67ff-42b6-a163-88e556affbeb                         3\n2      000ab495-ae5e-42c4-9643-94083ebb7ceb                        21\n3      000ccb0b-8346-4f62-bb32-04d284ba6fca                         5\n4      000d73ea-90c4-460f-8074-2d8eb70aa733                         1\n...                                     ...                       ...\n30698  fff5ad7e-5884-46f1-9f07-4150e8cc6258                         1\n30699  fff6f724-be51-4180-930f-41999fdd5497                         1\n30700  fff8c702-ba6a-48c2-90d4-67c2c857cfd1                         1\n30701  fffb9623-244a-4c27-b1c7-4518ab6412bd                         1\n30702  fffc951e-8b19-4069-8a04-bd4242859bbb                         1\n\n[30703 rows x 2 columns]",
      "text/html": "<div>\n<style scoped>\n    .dataframe tbody tr th:only-of-type {\n        vertical-align: middle;\n    }\n\n    .dataframe tbody tr th {\n        vertical-align: top;\n    }\n\n    .dataframe thead th {\n        text-align: right;\n    }\n</style>\n<table border=\"1\" class=\"dataframe\">\n  <thead>\n    <tr style=\"text-align: right;\">\n      <th></th>\n      <th>contract_guid</th>\n      <th>contract_positions_count</th>\n    </tr>\n  </thead>\n  <tbody>\n    <tr>\n      <th>0</th>\n      <td>00026a57-3035-45cd-9a0b-598d5b233a6b</td>\n      <td>8</td>\n    </tr>\n    <tr>\n      <th>1</th>\n      <td>0004ff4b-67ff-42b6-a163-88e556affbeb</td>\n      <td>3</td>\n    </tr>\n    <tr>\n      <th>2</th>\n      <td>000ab495-ae5e-42c4-9643-94083ebb7ceb</td>\n      <td>21</td>\n    </tr>\n    <tr>\n      <th>3</th>\n      <td>000ccb0b-8346-4f62-bb32-04d284ba6fca</td>\n      <td>5</td>\n    </tr>\n    <tr>\n      <th>4</th>\n      <td>000d73ea-90c4-460f-8074-2d8eb70aa733</td>\n      <td>1</td>\n    </tr>\n    <tr>\n      <th>...</th>\n      <td>...</td>\n      <td>...</td>\n    </tr>\n    <tr>\n      <th>30698</th>\n      <td>fff5ad7e-5884-46f1-9f07-4150e8cc6258</td>\n      <td>1</td>\n    </tr>\n    <tr>\n      <th>30699</th>\n      <td>fff6f724-be51-4180-930f-41999fdd5497</td>\n      <td>1</td>\n    </tr>\n    <tr>\n      <th>30700</th>\n      <td>fff8c702-ba6a-48c2-90d4-67c2c857cfd1</td>\n      <td>1</td>\n    </tr>\n    <tr>\n      <th>30701</th>\n      <td>fffb9623-244a-4c27-b1c7-4518ab6412bd</td>\n      <td>1</td>\n    </tr>\n    <tr>\n      <th>30702</th>\n      <td>fffc951e-8b19-4069-8a04-bd4242859bbb</td>\n      <td>1</td>\n    </tr>\n  </tbody>\n</table>\n<p>30703 rows × 2 columns</p>\n</div>"
     },
     "execution_count": 15,
     "metadata": {},
     "output_type": "execute_result"
    }
   ],
   "source": [
    "contract_positions_count = pd.read_sql_query(\n",
    "    f\"\"\"\n",
    "    SELECT c.guid as contract_guid, COUNT(*) as contract_positions_count\n",
    "    FROM contract c\n",
    "    INNER JOIN (\n",
    "        SELECT contract_reg_number, MAX(version) ver\n",
    "        FROM contract\n",
    "        WHERE {COVID_CONDITIONS}\n",
    "        AND lot_guid is not null\n",
    "        GROUP BY contract_reg_number\n",
    "    ) tmp ON c.contract_reg_number = tmp.contract_reg_number AND c.version = tmp.ver\n",
    "    INNER JOIN purchase_notice_lot pnl ON c.lot_guid = pnl.guid\n",
    "    LEFT JOIN position_to_contract ptc on c.guid = ptc.contract_guid\n",
    "    LEFT JOIN contract_position cpos on ptc.position_guid = cpos.guid\n",
    "    GROUP BY c.guid\n",
    "    \"\"\",\n",
    "    conn\n",
    ")\n",
    "\n",
    "contract_positions_count"
   ],
   "metadata": {
    "collapsed": false,
    "pycharm": {
     "name": "#%%\n"
    }
   }
  },
  {
   "cell_type": "code",
   "execution_count": 16,
   "outputs": [
    {
     "data": {
      "text/plain": "                              contract_guid contract_registration_number  \\\n0      00026a57-3035-45cd-9a0b-598d5b233a6b      57017000450210000030001   \n1      00026a57-3035-45cd-9a0b-598d5b233a6b      57017000450210000030001   \n2      00026a57-3035-45cd-9a0b-598d5b233a6b      57017000450210000030001   \n3      00026a57-3035-45cd-9a0b-598d5b233a6b      57017000450210000030001   \n4      00026a57-3035-45cd-9a0b-598d5b233a6b      57017000450210000030001   \n...                                     ...                          ...   \n72190  fff5ad7e-5884-46f1-9f07-4150e8cc6258      52801022793210003140001   \n72191  fff6f724-be51-4180-930f-41999fdd5497      51435149216210002250001   \n72192  fff8c702-ba6a-48c2-90d4-67c2c857cfd1      67725038124200003980001   \n72193  fffb9623-244a-4c27-b1c7-4518ab6412bd      51431004812210000980001   \n72194  fffc951e-8b19-4069-8a04-bd4242859bbb      67704759968200001230003   \n\n       notice_not_placed_by_fz223p5s4  contract_extension  \\\n0                                   0                   0   \n1                                   0                   0   \n2                                   0                   0   \n3                                   0                   0   \n4                                   0                   0   \n...                               ...                 ...   \n72190                               0                   0   \n72191                               0                   0   \n72192                               0                   0   \n72193                               0                   0   \n72194                               0                   0   \n\n       contract_prolongation  customer_appeale_or_needs_approval  \\\n0                          0                                   0   \n1                          0                                   0   \n2                          0                                   0   \n3                          0                                   0   \n4                          0                                   0   \n...                      ...                                 ...   \n72190                      0                                   0   \n72191                      0                                   0   \n72192                      0                                   0   \n72193                      0                                   0   \n72194                      0                                   0   \n\n      customer_approval_or_antimonopoly_descision_date  \\\n0                                                 None   \n1                                                 None   \n2                                                 None   \n3                                                 None   \n4                                                 None   \n...                                                ...   \n72190                                             None   \n72191                                             None   \n72192                                             None   \n72193                                             None   \n72194                                             None   \n\n      contract_plan_position_guid contract_create_date_time  \\\n0                            None       2021-01-12 02:56:07   \n1                            None       2021-01-12 02:56:07   \n2                            None       2021-01-12 02:56:07   \n3                            None       2021-01-12 02:56:07   \n4                            None       2021-01-12 02:56:07   \n...                           ...                       ...   \n72190                        None       2021-11-01 05:30:25   \n72191                        None       2021-11-25 02:46:38   \n72192                        None       2020-11-20 08:42:35   \n72193                        None       2021-07-07 09:05:27   \n72194                        None       2020-12-31 09:12:09   \n\n      contract_customer_inn  ... position_okei_name position_qty  \\\n0                7017000450  ...       Пара (2 шт.)       4000.0   \n1                7017000450  ...       Пара (2 шт.)       5000.0   \n2                7017000450  ...       Пара (2 шт.)       1000.0   \n3                7017000450  ...       Пара (2 шт.)        100.0   \n4                7017000450  ...       Пара (2 шт.)       8000.0   \n...                     ...  ...                ...          ...   \n72190            2801022793  ...           Упаковка         63.0   \n72191            1435149216  ...               None          NaN   \n72192            7725038124  ...   Условная единица          1.0   \n72193            1431004812  ...           Упаковка         14.0   \n72194            7704759968  ...               None          NaN   \n\n      position_unit_price position_rub_unit_price  position_currency_code  \\\n0                    26.0                     NaN                     RUB   \n1                    26.0                     NaN                     RUB   \n2                    28.0                     NaN                     RUB   \n3                    54.0                     NaN                     RUB   \n4                    26.0                     NaN                     RUB   \n...                   ...                     ...                     ...   \n72190              5800.0                     NaN                     RUB   \n72191            617760.0                     NaN                     RUB   \n72192                 NaN                     NaN                    None   \n72193             54600.0                     NaN                     RUB   \n72194                 NaN                     NaN                     RUB   \n\n       contracts_for_lot notice_customer_inn notice_placer_inn  \\\n0                      1          7017000450        7017000450   \n1                      1          7017000450        7017000450   \n2                      1          7017000450        7017000450   \n3                      1          7017000450        7017000450   \n4                      1          7017000450        7017000450   \n...                  ...                 ...               ...   \n72190                  1          2801022793        2801022793   \n72191                  1          1435149216        7710357167   \n72192                  1          7725038124        7725038124   \n72193                  1          1431004812        1431004812   \n72194                  1          7704759968        7704759968   \n\n      notice_detached_org_inn  contract_positions_count  \n0                        None                         8  \n1                        None                         8  \n2                        None                         8  \n3                        None                         8  \n4                        None                         8  \n...                       ...                       ...  \n72190                    None                         1  \n72191                    None                         1  \n72192                    None                         1  \n72193                    None                         1  \n72194                    None                         1  \n\n[72195 rows x 56 columns]",
      "text/html": "<div>\n<style scoped>\n    .dataframe tbody tr th:only-of-type {\n        vertical-align: middle;\n    }\n\n    .dataframe tbody tr th {\n        vertical-align: top;\n    }\n\n    .dataframe thead th {\n        text-align: right;\n    }\n</style>\n<table border=\"1\" class=\"dataframe\">\n  <thead>\n    <tr style=\"text-align: right;\">\n      <th></th>\n      <th>contract_guid</th>\n      <th>contract_registration_number</th>\n      <th>notice_not_placed_by_fz223p5s4</th>\n      <th>contract_extension</th>\n      <th>contract_prolongation</th>\n      <th>customer_appeale_or_needs_approval</th>\n      <th>customer_approval_or_antimonopoly_descision_date</th>\n      <th>contract_plan_position_guid</th>\n      <th>contract_create_date_time</th>\n      <th>contract_customer_inn</th>\n      <th>...</th>\n      <th>position_okei_name</th>\n      <th>position_qty</th>\n      <th>position_unit_price</th>\n      <th>position_rub_unit_price</th>\n      <th>position_currency_code</th>\n      <th>contracts_for_lot</th>\n      <th>notice_customer_inn</th>\n      <th>notice_placer_inn</th>\n      <th>notice_detached_org_inn</th>\n      <th>contract_positions_count</th>\n    </tr>\n  </thead>\n  <tbody>\n    <tr>\n      <th>0</th>\n      <td>00026a57-3035-45cd-9a0b-598d5b233a6b</td>\n      <td>57017000450210000030001</td>\n      <td>0</td>\n      <td>0</td>\n      <td>0</td>\n      <td>0</td>\n      <td>None</td>\n      <td>None</td>\n      <td>2021-01-12 02:56:07</td>\n      <td>7017000450</td>\n      <td>...</td>\n      <td>Пара (2 шт.)</td>\n      <td>4000.0</td>\n      <td>26.0</td>\n      <td>NaN</td>\n      <td>RUB</td>\n      <td>1</td>\n      <td>7017000450</td>\n      <td>7017000450</td>\n      <td>None</td>\n      <td>8</td>\n    </tr>\n    <tr>\n      <th>1</th>\n      <td>00026a57-3035-45cd-9a0b-598d5b233a6b</td>\n      <td>57017000450210000030001</td>\n      <td>0</td>\n      <td>0</td>\n      <td>0</td>\n      <td>0</td>\n      <td>None</td>\n      <td>None</td>\n      <td>2021-01-12 02:56:07</td>\n      <td>7017000450</td>\n      <td>...</td>\n      <td>Пара (2 шт.)</td>\n      <td>5000.0</td>\n      <td>26.0</td>\n      <td>NaN</td>\n      <td>RUB</td>\n      <td>1</td>\n      <td>7017000450</td>\n      <td>7017000450</td>\n      <td>None</td>\n      <td>8</td>\n    </tr>\n    <tr>\n      <th>2</th>\n      <td>00026a57-3035-45cd-9a0b-598d5b233a6b</td>\n      <td>57017000450210000030001</td>\n      <td>0</td>\n      <td>0</td>\n      <td>0</td>\n      <td>0</td>\n      <td>None</td>\n      <td>None</td>\n      <td>2021-01-12 02:56:07</td>\n      <td>7017000450</td>\n      <td>...</td>\n      <td>Пара (2 шт.)</td>\n      <td>1000.0</td>\n      <td>28.0</td>\n      <td>NaN</td>\n      <td>RUB</td>\n      <td>1</td>\n      <td>7017000450</td>\n      <td>7017000450</td>\n      <td>None</td>\n      <td>8</td>\n    </tr>\n    <tr>\n      <th>3</th>\n      <td>00026a57-3035-45cd-9a0b-598d5b233a6b</td>\n      <td>57017000450210000030001</td>\n      <td>0</td>\n      <td>0</td>\n      <td>0</td>\n      <td>0</td>\n      <td>None</td>\n      <td>None</td>\n      <td>2021-01-12 02:56:07</td>\n      <td>7017000450</td>\n      <td>...</td>\n      <td>Пара (2 шт.)</td>\n      <td>100.0</td>\n      <td>54.0</td>\n      <td>NaN</td>\n      <td>RUB</td>\n      <td>1</td>\n      <td>7017000450</td>\n      <td>7017000450</td>\n      <td>None</td>\n      <td>8</td>\n    </tr>\n    <tr>\n      <th>4</th>\n      <td>00026a57-3035-45cd-9a0b-598d5b233a6b</td>\n      <td>57017000450210000030001</td>\n      <td>0</td>\n      <td>0</td>\n      <td>0</td>\n      <td>0</td>\n      <td>None</td>\n      <td>None</td>\n      <td>2021-01-12 02:56:07</td>\n      <td>7017000450</td>\n      <td>...</td>\n      <td>Пара (2 шт.)</td>\n      <td>8000.0</td>\n      <td>26.0</td>\n      <td>NaN</td>\n      <td>RUB</td>\n      <td>1</td>\n      <td>7017000450</td>\n      <td>7017000450</td>\n      <td>None</td>\n      <td>8</td>\n    </tr>\n    <tr>\n      <th>...</th>\n      <td>...</td>\n      <td>...</td>\n      <td>...</td>\n      <td>...</td>\n      <td>...</td>\n      <td>...</td>\n      <td>...</td>\n      <td>...</td>\n      <td>...</td>\n      <td>...</td>\n      <td>...</td>\n      <td>...</td>\n      <td>...</td>\n      <td>...</td>\n      <td>...</td>\n      <td>...</td>\n      <td>...</td>\n      <td>...</td>\n      <td>...</td>\n      <td>...</td>\n      <td>...</td>\n    </tr>\n    <tr>\n      <th>72190</th>\n      <td>fff5ad7e-5884-46f1-9f07-4150e8cc6258</td>\n      <td>52801022793210003140001</td>\n      <td>0</td>\n      <td>0</td>\n      <td>0</td>\n      <td>0</td>\n      <td>None</td>\n      <td>None</td>\n      <td>2021-11-01 05:30:25</td>\n      <td>2801022793</td>\n      <td>...</td>\n      <td>Упаковка</td>\n      <td>63.0</td>\n      <td>5800.0</td>\n      <td>NaN</td>\n      <td>RUB</td>\n      <td>1</td>\n      <td>2801022793</td>\n      <td>2801022793</td>\n      <td>None</td>\n      <td>1</td>\n    </tr>\n    <tr>\n      <th>72191</th>\n      <td>fff6f724-be51-4180-930f-41999fdd5497</td>\n      <td>51435149216210002250001</td>\n      <td>0</td>\n      <td>0</td>\n      <td>0</td>\n      <td>0</td>\n      <td>None</td>\n      <td>None</td>\n      <td>2021-11-25 02:46:38</td>\n      <td>1435149216</td>\n      <td>...</td>\n      <td>None</td>\n      <td>NaN</td>\n      <td>617760.0</td>\n      <td>NaN</td>\n      <td>RUB</td>\n      <td>1</td>\n      <td>1435149216</td>\n      <td>7710357167</td>\n      <td>None</td>\n      <td>1</td>\n    </tr>\n    <tr>\n      <th>72192</th>\n      <td>fff8c702-ba6a-48c2-90d4-67c2c857cfd1</td>\n      <td>67725038124200003980001</td>\n      <td>0</td>\n      <td>0</td>\n      <td>0</td>\n      <td>0</td>\n      <td>None</td>\n      <td>None</td>\n      <td>2020-11-20 08:42:35</td>\n      <td>7725038124</td>\n      <td>...</td>\n      <td>Условная единица</td>\n      <td>1.0</td>\n      <td>NaN</td>\n      <td>NaN</td>\n      <td>None</td>\n      <td>1</td>\n      <td>7725038124</td>\n      <td>7725038124</td>\n      <td>None</td>\n      <td>1</td>\n    </tr>\n    <tr>\n      <th>72193</th>\n      <td>fffb9623-244a-4c27-b1c7-4518ab6412bd</td>\n      <td>51431004812210000980001</td>\n      <td>0</td>\n      <td>0</td>\n      <td>0</td>\n      <td>0</td>\n      <td>None</td>\n      <td>None</td>\n      <td>2021-07-07 09:05:27</td>\n      <td>1431004812</td>\n      <td>...</td>\n      <td>Упаковка</td>\n      <td>14.0</td>\n      <td>54600.0</td>\n      <td>NaN</td>\n      <td>RUB</td>\n      <td>1</td>\n      <td>1431004812</td>\n      <td>1431004812</td>\n      <td>None</td>\n      <td>1</td>\n    </tr>\n    <tr>\n      <th>72194</th>\n      <td>fffc951e-8b19-4069-8a04-bd4242859bbb</td>\n      <td>67704759968200001230003</td>\n      <td>0</td>\n      <td>0</td>\n      <td>0</td>\n      <td>0</td>\n      <td>None</td>\n      <td>None</td>\n      <td>2020-12-31 09:12:09</td>\n      <td>7704759968</td>\n      <td>...</td>\n      <td>None</td>\n      <td>NaN</td>\n      <td>NaN</td>\n      <td>NaN</td>\n      <td>RUB</td>\n      <td>1</td>\n      <td>7704759968</td>\n      <td>7704759968</td>\n      <td>None</td>\n      <td>1</td>\n    </tr>\n  </tbody>\n</table>\n<p>72195 rows × 56 columns</p>\n</div>"
     },
     "execution_count": 16,
     "metadata": {},
     "output_type": "execute_result"
    }
   ],
   "source": [
    "dataset = pd.merge(\n",
    "    dataset,\n",
    "    contract_positions_count,\n",
    "    how='left',\n",
    "    on='contract_guid'\n",
    ")\n",
    "\n",
    "dataset\n"
   ],
   "metadata": {
    "collapsed": false,
    "pycharm": {
     "name": "#%%\n"
    }
   }
  },
  {
   "cell_type": "markdown",
   "source": [
    "Добавим в выборку информацию о поставщиках\n"
   ],
   "metadata": {
    "collapsed": false,
    "pycharm": {
     "name": "#%% md\n"
    }
   }
  },
  {
   "cell_type": "code",
   "execution_count": 17,
   "outputs": [
    {
     "data": {
      "text/plain": "                                  lot_guid  supplier_inn  \\\n0     001180aa-ec39-fe24-e63b-de59c6c8b320    7717729216   \n1     002db7ef-9ca6-4b69-abce-04c3b9b7a06a    6452925517   \n2     00305ade-c747-4999-b604-f4146cd4025d  551200523301   \n3     0046cc75-3f65-47db-be53-2ad0ce7b202c    7453040371   \n4     005056bd-0450-1eea-aaf8-a92723b8381c    7817333828   \n...                                    ...           ...   \n2762  ffaa3d53-69f7-48e7-a679-8cbc44eb7bbd    7725628067   \n2763  ffb5bde5-3196-49ec-b1d8-9385a4bed2d0    7725628067   \n2764  ffe29952-0bec-4deb-8422-0a118b0842e7    4003032047   \n2765  ffe6f942-bfa1-4f78-bb1c-a8b0cf755881          None   \n2766  ffefd4b8-0b0a-42ee-bfc7-3cd36ccf6166    7814108542   \n\n                                          supplier_name  supplier_ogrn  \\\n0     ОБЩЕСТВО С ОГРАНИЧЕННОЙ ОТВЕТСТВЕННОСТЬЮ \"ВЫСО...  1127746547895   \n1        Общество с ограниченной ответственностью «СОК»  1066450129382   \n2                              Бердник Елена Михайловна           None   \n3     Челябинское региональное отделение Общероссийс...  1207400002706   \n4                                   ООО \"Олимп Медикал\"  1147847368217   \n...                                                 ...            ...   \n2762                                    ООО \"БионаФарм\"  1087746155111   \n2763                                    ООО \"БионаФарм\"  1087746155111   \n2764  Общество с ограниченной ответственностью «Торг...  1114025005720   \n2765                                ООО «СТАТУС-РЕГИОН»           None   \n2766                                 ООО \"Лизоформ-СПб\"  1037832001745   \n\n         supplier_type  \n0     Юридическое лицо  \n1     Юридическое лицо  \n2      Физическое лицо  \n3     Юридическое лицо  \n4     Юридическое лицо  \n...                ...  \n2762  Юридическое лицо  \n2763  Юридическое лицо  \n2764  Юридическое лицо  \n2765  Юридическое лицо  \n2766  Юридическое лицо  \n\n[2767 rows x 5 columns]",
      "text/html": "<div>\n<style scoped>\n    .dataframe tbody tr th:only-of-type {\n        vertical-align: middle;\n    }\n\n    .dataframe tbody tr th {\n        vertical-align: top;\n    }\n\n    .dataframe thead th {\n        text-align: right;\n    }\n</style>\n<table border=\"1\" class=\"dataframe\">\n  <thead>\n    <tr style=\"text-align: right;\">\n      <th></th>\n      <th>lot_guid</th>\n      <th>supplier_inn</th>\n      <th>supplier_name</th>\n      <th>supplier_ogrn</th>\n      <th>supplier_type</th>\n    </tr>\n  </thead>\n  <tbody>\n    <tr>\n      <th>0</th>\n      <td>001180aa-ec39-fe24-e63b-de59c6c8b320</td>\n      <td>7717729216</td>\n      <td>ОБЩЕСТВО С ОГРАНИЧЕННОЙ ОТВЕТСТВЕННОСТЬЮ \"ВЫСО...</td>\n      <td>1127746547895</td>\n      <td>Юридическое лицо</td>\n    </tr>\n    <tr>\n      <th>1</th>\n      <td>002db7ef-9ca6-4b69-abce-04c3b9b7a06a</td>\n      <td>6452925517</td>\n      <td>Общество с ограниченной ответственностью «СОК»</td>\n      <td>1066450129382</td>\n      <td>Юридическое лицо</td>\n    </tr>\n    <tr>\n      <th>2</th>\n      <td>00305ade-c747-4999-b604-f4146cd4025d</td>\n      <td>551200523301</td>\n      <td>Бердник Елена Михайловна</td>\n      <td>None</td>\n      <td>Физическое лицо</td>\n    </tr>\n    <tr>\n      <th>3</th>\n      <td>0046cc75-3f65-47db-be53-2ad0ce7b202c</td>\n      <td>7453040371</td>\n      <td>Челябинское региональное отделение Общероссийс...</td>\n      <td>1207400002706</td>\n      <td>Юридическое лицо</td>\n    </tr>\n    <tr>\n      <th>4</th>\n      <td>005056bd-0450-1eea-aaf8-a92723b8381c</td>\n      <td>7817333828</td>\n      <td>ООО \"Олимп Медикал\"</td>\n      <td>1147847368217</td>\n      <td>Юридическое лицо</td>\n    </tr>\n    <tr>\n      <th>...</th>\n      <td>...</td>\n      <td>...</td>\n      <td>...</td>\n      <td>...</td>\n      <td>...</td>\n    </tr>\n    <tr>\n      <th>2762</th>\n      <td>ffaa3d53-69f7-48e7-a679-8cbc44eb7bbd</td>\n      <td>7725628067</td>\n      <td>ООО \"БионаФарм\"</td>\n      <td>1087746155111</td>\n      <td>Юридическое лицо</td>\n    </tr>\n    <tr>\n      <th>2763</th>\n      <td>ffb5bde5-3196-49ec-b1d8-9385a4bed2d0</td>\n      <td>7725628067</td>\n      <td>ООО \"БионаФарм\"</td>\n      <td>1087746155111</td>\n      <td>Юридическое лицо</td>\n    </tr>\n    <tr>\n      <th>2764</th>\n      <td>ffe29952-0bec-4deb-8422-0a118b0842e7</td>\n      <td>4003032047</td>\n      <td>Общество с ограниченной ответственностью «Торг...</td>\n      <td>1114025005720</td>\n      <td>Юридическое лицо</td>\n    </tr>\n    <tr>\n      <th>2765</th>\n      <td>ffe6f942-bfa1-4f78-bb1c-a8b0cf755881</td>\n      <td>None</td>\n      <td>ООО «СТАТУС-РЕГИОН»</td>\n      <td>None</td>\n      <td>Юридическое лицо</td>\n    </tr>\n    <tr>\n      <th>2766</th>\n      <td>ffefd4b8-0b0a-42ee-bfc7-3cd36ccf6166</td>\n      <td>7814108542</td>\n      <td>ООО \"Лизоформ-СПб\"</td>\n      <td>1037832001745</td>\n      <td>Юридическое лицо</td>\n    </tr>\n  </tbody>\n</table>\n<p>2767 rows × 5 columns</p>\n</div>"
     },
     "execution_count": 17,
     "metadata": {},
     "output_type": "execute_result"
    }
   ],
   "source": [
    "lot_suppliers = pd.read_sql_query(\n",
    "    f\"\"\"\n",
    "    SELECT lot_guid, si2.inn as supplier_inn,\n",
    "     si2.name as supplier_name, si2.ogrn as supplier_ogrn, si2.type as supplier_type\n",
    "    FROM (\n",
    "        SELECT lot_guid, MAX(supplier_guid) as supplier_guid\n",
    "        FROM (\n",
    "            SELECT c.lot_guid\n",
    "            FROM contract c\n",
    "            INNER JOIN (\n",
    "                SELECT contract_reg_number, MAX(version) ver\n",
    "                FROM contract\n",
    "                WHERE {COVID_CONDITIONS}\n",
    "                AND lot_guid is not null\n",
    "                GROUP BY contract_reg_number\n",
    "            ) tmp ON c.contract_reg_number = tmp.contract_reg_number AND c.version = tmp.ver\n",
    "            GROUP BY c.lot_guid\n",
    "        ) tmp1\n",
    "        INNER JOIN protocol_lot pl ON tmp1.lot_guid = pl.guid\n",
    "        LEFT JOIN protocol_lot_applications pla on pl.guid = pla.protocol_lot_guid\n",
    "        LEFT JOIN application a on pla.id = a.protocol_lot_applications_id\n",
    "        LEFT JOIN supplier_info si on a.supplier_guid = si.guid\n",
    "        WHERE (contract_signed = 1 or\n",
    "         (a.winner_indication = 'Победитель'and contract_signed is null))\n",
    "         and (supplier_guid is not null)\n",
    "        GROUP BY lot_guid\n",
    "    ) sup\n",
    "    LEFT JOIN supplier_info si2 ON si2.guid = sup.supplier_guid;\n",
    "    \"\"\",\n",
    "    conn\n",
    ")\n",
    "\n",
    "lot_suppliers"
   ],
   "metadata": {
    "collapsed": false,
    "pycharm": {
     "name": "#%%\n"
    }
   }
  },
  {
   "cell_type": "code",
   "execution_count": 18,
   "outputs": [
    {
     "data": {
      "text/plain": "                              contract_guid contract_registration_number  \\\n0      00026a57-3035-45cd-9a0b-598d5b233a6b      57017000450210000030001   \n1      00026a57-3035-45cd-9a0b-598d5b233a6b      57017000450210000030001   \n2      00026a57-3035-45cd-9a0b-598d5b233a6b      57017000450210000030001   \n3      00026a57-3035-45cd-9a0b-598d5b233a6b      57017000450210000030001   \n4      00026a57-3035-45cd-9a0b-598d5b233a6b      57017000450210000030001   \n...                                     ...                          ...   \n72190  fff5ad7e-5884-46f1-9f07-4150e8cc6258      52801022793210003140001   \n72191  fff6f724-be51-4180-930f-41999fdd5497      51435149216210002250001   \n72192  fff8c702-ba6a-48c2-90d4-67c2c857cfd1      67725038124200003980001   \n72193  fffb9623-244a-4c27-b1c7-4518ab6412bd      51431004812210000980001   \n72194  fffc951e-8b19-4069-8a04-bd4242859bbb      67704759968200001230003   \n\n       notice_not_placed_by_fz223p5s4  contract_extension  \\\n0                                   0                   0   \n1                                   0                   0   \n2                                   0                   0   \n3                                   0                   0   \n4                                   0                   0   \n...                               ...                 ...   \n72190                               0                   0   \n72191                               0                   0   \n72192                               0                   0   \n72193                               0                   0   \n72194                               0                   0   \n\n       contract_prolongation  customer_appeale_or_needs_approval  \\\n0                          0                                   0   \n1                          0                                   0   \n2                          0                                   0   \n3                          0                                   0   \n4                          0                                   0   \n...                      ...                                 ...   \n72190                      0                                   0   \n72191                      0                                   0   \n72192                      0                                   0   \n72193                      0                                   0   \n72194                      0                                   0   \n\n      customer_approval_or_antimonopoly_descision_date  \\\n0                                                 None   \n1                                                 None   \n2                                                 None   \n3                                                 None   \n4                                                 None   \n...                                                ...   \n72190                                             None   \n72191                                             None   \n72192                                             None   \n72193                                             None   \n72194                                             None   \n\n      contract_plan_position_guid contract_create_date_time  \\\n0                            None       2021-01-12 02:56:07   \n1                            None       2021-01-12 02:56:07   \n2                            None       2021-01-12 02:56:07   \n3                            None       2021-01-12 02:56:07   \n4                            None       2021-01-12 02:56:07   \n...                           ...                       ...   \n72190                        None       2021-11-01 05:30:25   \n72191                        None       2021-11-25 02:46:38   \n72192                        None       2020-11-20 08:42:35   \n72193                        None       2021-07-07 09:05:27   \n72194                        None       2020-12-31 09:12:09   \n\n      contract_customer_inn  ... position_currency_code contracts_for_lot  \\\n0                7017000450  ...                    RUB                 1   \n1                7017000450  ...                    RUB                 1   \n2                7017000450  ...                    RUB                 1   \n3                7017000450  ...                    RUB                 1   \n4                7017000450  ...                    RUB                 1   \n...                     ...  ...                    ...               ...   \n72190            2801022793  ...                    RUB                 1   \n72191            1435149216  ...                    RUB                 1   \n72192            7725038124  ...                   None                 1   \n72193            1431004812  ...                    RUB                 1   \n72194            7704759968  ...                    RUB                 1   \n\n      notice_customer_inn notice_placer_inn  notice_detached_org_inn  \\\n0              7017000450        7017000450                     None   \n1              7017000450        7017000450                     None   \n2              7017000450        7017000450                     None   \n3              7017000450        7017000450                     None   \n4              7017000450        7017000450                     None   \n...                   ...               ...                      ...   \n72190          2801022793        2801022793                     None   \n72191          1435149216        7710357167                     None   \n72192          7725038124        7725038124                     None   \n72193          1431004812        1431004812                     None   \n72194          7704759968        7704759968                     None   \n\n       contract_positions_count supplier_inn supplier_name supplier_ogrn  \\\n0                             8          NaN           NaN           NaN   \n1                             8          NaN           NaN           NaN   \n2                             8          NaN           NaN           NaN   \n3                             8          NaN           NaN           NaN   \n4                             8          NaN           NaN           NaN   \n...                         ...          ...           ...           ...   \n72190                         1          NaN           NaN           NaN   \n72191                         1          NaN           NaN           NaN   \n72192                         1          NaN           NaN           NaN   \n72193                         1          NaN           NaN           NaN   \n72194                         1          NaN           NaN           NaN   \n\n       supplier_type  \n0                NaN  \n1                NaN  \n2                NaN  \n3                NaN  \n4                NaN  \n...              ...  \n72190            NaN  \n72191            NaN  \n72192            NaN  \n72193            NaN  \n72194            NaN  \n\n[72195 rows x 60 columns]",
      "text/html": "<div>\n<style scoped>\n    .dataframe tbody tr th:only-of-type {\n        vertical-align: middle;\n    }\n\n    .dataframe tbody tr th {\n        vertical-align: top;\n    }\n\n    .dataframe thead th {\n        text-align: right;\n    }\n</style>\n<table border=\"1\" class=\"dataframe\">\n  <thead>\n    <tr style=\"text-align: right;\">\n      <th></th>\n      <th>contract_guid</th>\n      <th>contract_registration_number</th>\n      <th>notice_not_placed_by_fz223p5s4</th>\n      <th>contract_extension</th>\n      <th>contract_prolongation</th>\n      <th>customer_appeale_or_needs_approval</th>\n      <th>customer_approval_or_antimonopoly_descision_date</th>\n      <th>contract_plan_position_guid</th>\n      <th>contract_create_date_time</th>\n      <th>contract_customer_inn</th>\n      <th>...</th>\n      <th>position_currency_code</th>\n      <th>contracts_for_lot</th>\n      <th>notice_customer_inn</th>\n      <th>notice_placer_inn</th>\n      <th>notice_detached_org_inn</th>\n      <th>contract_positions_count</th>\n      <th>supplier_inn</th>\n      <th>supplier_name</th>\n      <th>supplier_ogrn</th>\n      <th>supplier_type</th>\n    </tr>\n  </thead>\n  <tbody>\n    <tr>\n      <th>0</th>\n      <td>00026a57-3035-45cd-9a0b-598d5b233a6b</td>\n      <td>57017000450210000030001</td>\n      <td>0</td>\n      <td>0</td>\n      <td>0</td>\n      <td>0</td>\n      <td>None</td>\n      <td>None</td>\n      <td>2021-01-12 02:56:07</td>\n      <td>7017000450</td>\n      <td>...</td>\n      <td>RUB</td>\n      <td>1</td>\n      <td>7017000450</td>\n      <td>7017000450</td>\n      <td>None</td>\n      <td>8</td>\n      <td>NaN</td>\n      <td>NaN</td>\n      <td>NaN</td>\n      <td>NaN</td>\n    </tr>\n    <tr>\n      <th>1</th>\n      <td>00026a57-3035-45cd-9a0b-598d5b233a6b</td>\n      <td>57017000450210000030001</td>\n      <td>0</td>\n      <td>0</td>\n      <td>0</td>\n      <td>0</td>\n      <td>None</td>\n      <td>None</td>\n      <td>2021-01-12 02:56:07</td>\n      <td>7017000450</td>\n      <td>...</td>\n      <td>RUB</td>\n      <td>1</td>\n      <td>7017000450</td>\n      <td>7017000450</td>\n      <td>None</td>\n      <td>8</td>\n      <td>NaN</td>\n      <td>NaN</td>\n      <td>NaN</td>\n      <td>NaN</td>\n    </tr>\n    <tr>\n      <th>2</th>\n      <td>00026a57-3035-45cd-9a0b-598d5b233a6b</td>\n      <td>57017000450210000030001</td>\n      <td>0</td>\n      <td>0</td>\n      <td>0</td>\n      <td>0</td>\n      <td>None</td>\n      <td>None</td>\n      <td>2021-01-12 02:56:07</td>\n      <td>7017000450</td>\n      <td>...</td>\n      <td>RUB</td>\n      <td>1</td>\n      <td>7017000450</td>\n      <td>7017000450</td>\n      <td>None</td>\n      <td>8</td>\n      <td>NaN</td>\n      <td>NaN</td>\n      <td>NaN</td>\n      <td>NaN</td>\n    </tr>\n    <tr>\n      <th>3</th>\n      <td>00026a57-3035-45cd-9a0b-598d5b233a6b</td>\n      <td>57017000450210000030001</td>\n      <td>0</td>\n      <td>0</td>\n      <td>0</td>\n      <td>0</td>\n      <td>None</td>\n      <td>None</td>\n      <td>2021-01-12 02:56:07</td>\n      <td>7017000450</td>\n      <td>...</td>\n      <td>RUB</td>\n      <td>1</td>\n      <td>7017000450</td>\n      <td>7017000450</td>\n      <td>None</td>\n      <td>8</td>\n      <td>NaN</td>\n      <td>NaN</td>\n      <td>NaN</td>\n      <td>NaN</td>\n    </tr>\n    <tr>\n      <th>4</th>\n      <td>00026a57-3035-45cd-9a0b-598d5b233a6b</td>\n      <td>57017000450210000030001</td>\n      <td>0</td>\n      <td>0</td>\n      <td>0</td>\n      <td>0</td>\n      <td>None</td>\n      <td>None</td>\n      <td>2021-01-12 02:56:07</td>\n      <td>7017000450</td>\n      <td>...</td>\n      <td>RUB</td>\n      <td>1</td>\n      <td>7017000450</td>\n      <td>7017000450</td>\n      <td>None</td>\n      <td>8</td>\n      <td>NaN</td>\n      <td>NaN</td>\n      <td>NaN</td>\n      <td>NaN</td>\n    </tr>\n    <tr>\n      <th>...</th>\n      <td>...</td>\n      <td>...</td>\n      <td>...</td>\n      <td>...</td>\n      <td>...</td>\n      <td>...</td>\n      <td>...</td>\n      <td>...</td>\n      <td>...</td>\n      <td>...</td>\n      <td>...</td>\n      <td>...</td>\n      <td>...</td>\n      <td>...</td>\n      <td>...</td>\n      <td>...</td>\n      <td>...</td>\n      <td>...</td>\n      <td>...</td>\n      <td>...</td>\n      <td>...</td>\n    </tr>\n    <tr>\n      <th>72190</th>\n      <td>fff5ad7e-5884-46f1-9f07-4150e8cc6258</td>\n      <td>52801022793210003140001</td>\n      <td>0</td>\n      <td>0</td>\n      <td>0</td>\n      <td>0</td>\n      <td>None</td>\n      <td>None</td>\n      <td>2021-11-01 05:30:25</td>\n      <td>2801022793</td>\n      <td>...</td>\n      <td>RUB</td>\n      <td>1</td>\n      <td>2801022793</td>\n      <td>2801022793</td>\n      <td>None</td>\n      <td>1</td>\n      <td>NaN</td>\n      <td>NaN</td>\n      <td>NaN</td>\n      <td>NaN</td>\n    </tr>\n    <tr>\n      <th>72191</th>\n      <td>fff6f724-be51-4180-930f-41999fdd5497</td>\n      <td>51435149216210002250001</td>\n      <td>0</td>\n      <td>0</td>\n      <td>0</td>\n      <td>0</td>\n      <td>None</td>\n      <td>None</td>\n      <td>2021-11-25 02:46:38</td>\n      <td>1435149216</td>\n      <td>...</td>\n      <td>RUB</td>\n      <td>1</td>\n      <td>1435149216</td>\n      <td>7710357167</td>\n      <td>None</td>\n      <td>1</td>\n      <td>NaN</td>\n      <td>NaN</td>\n      <td>NaN</td>\n      <td>NaN</td>\n    </tr>\n    <tr>\n      <th>72192</th>\n      <td>fff8c702-ba6a-48c2-90d4-67c2c857cfd1</td>\n      <td>67725038124200003980001</td>\n      <td>0</td>\n      <td>0</td>\n      <td>0</td>\n      <td>0</td>\n      <td>None</td>\n      <td>None</td>\n      <td>2020-11-20 08:42:35</td>\n      <td>7725038124</td>\n      <td>...</td>\n      <td>None</td>\n      <td>1</td>\n      <td>7725038124</td>\n      <td>7725038124</td>\n      <td>None</td>\n      <td>1</td>\n      <td>NaN</td>\n      <td>NaN</td>\n      <td>NaN</td>\n      <td>NaN</td>\n    </tr>\n    <tr>\n      <th>72193</th>\n      <td>fffb9623-244a-4c27-b1c7-4518ab6412bd</td>\n      <td>51431004812210000980001</td>\n      <td>0</td>\n      <td>0</td>\n      <td>0</td>\n      <td>0</td>\n      <td>None</td>\n      <td>None</td>\n      <td>2021-07-07 09:05:27</td>\n      <td>1431004812</td>\n      <td>...</td>\n      <td>RUB</td>\n      <td>1</td>\n      <td>1431004812</td>\n      <td>1431004812</td>\n      <td>None</td>\n      <td>1</td>\n      <td>NaN</td>\n      <td>NaN</td>\n      <td>NaN</td>\n      <td>NaN</td>\n    </tr>\n    <tr>\n      <th>72194</th>\n      <td>fffc951e-8b19-4069-8a04-bd4242859bbb</td>\n      <td>67704759968200001230003</td>\n      <td>0</td>\n      <td>0</td>\n      <td>0</td>\n      <td>0</td>\n      <td>None</td>\n      <td>None</td>\n      <td>2020-12-31 09:12:09</td>\n      <td>7704759968</td>\n      <td>...</td>\n      <td>RUB</td>\n      <td>1</td>\n      <td>7704759968</td>\n      <td>7704759968</td>\n      <td>None</td>\n      <td>1</td>\n      <td>NaN</td>\n      <td>NaN</td>\n      <td>NaN</td>\n      <td>NaN</td>\n    </tr>\n  </tbody>\n</table>\n<p>72195 rows × 60 columns</p>\n</div>"
     },
     "execution_count": 18,
     "metadata": {},
     "output_type": "execute_result"
    }
   ],
   "source": [
    "dataset = pd.merge(\n",
    "    dataset,\n",
    "    lot_suppliers,\n",
    "    how='left',\n",
    "    on='lot_guid'\n",
    ")\n",
    "\n",
    "dataset"
   ],
   "metadata": {
    "collapsed": false,
    "pycharm": {
     "name": "#%%\n"
    }
   }
  },
  {
   "cell_type": "code",
   "execution_count": 19,
   "outputs": [],
   "source": [
    "from pathlib import Path\n",
    "from typing import Union, Optional\n",
    "import numpy as np\n",
    "import pandas as pd\n",
    "from openpyxl import load_workbook\n",
    "from openpyxl.utils import get_column_letter\n",
    "\n",
    "def append_df_to_excel(\n",
    "        filename: Union[str, Path],\n",
    "        df: pd.DataFrame,\n",
    "        sheet_name: str = 'Sheet1',\n",
    "        max_col_width: int = 30,\n",
    "        autofilter: bool = False,\n",
    "        fmt_int: str = \"#,##0\",\n",
    "        fmt_float: str = \"#,##0.00\",\n",
    "        fmt_date: str = \"yyyy-mm-dd\",\n",
    "        fmt_datetime: str = \"yyyy-mm-dd hh:mm\",\n",
    "        truncate_sheet: bool = False,\n",
    "        storage_options: Optional[dict] = None,\n",
    "        **to_excel_kwargs\n",
    ") -> None:\n",
    "    def set_column_format(ws, column_letter, fmt):\n",
    "        for cell in ws[column_letter]:\n",
    "            cell.number_format = fmt\n",
    "    filename = Path(filename)\n",
    "    file_exists = filename.is_file()\n",
    "    first_col = int(to_excel_kwargs.get(\"index\", True)) + 1\n",
    "    if 'engine' in to_excel_kwargs:\n",
    "        to_excel_kwargs.pop('engine')\n",
    "    if file_exists:\n",
    "        wb = load_workbook(filename)\n",
    "        sheets = {ws.title: ws for ws in wb.worksheets}\n",
    "\n",
    "    with pd.ExcelWriter(\n",
    "        filename.with_suffix(\".xlsx\"),\n",
    "        engine=\"openpyxl\",\n",
    "        mode=\"a\" if file_exists else \"w\",\n",
    "        if_sheet_exists=\"new\" if file_exists else None,\n",
    "        date_format=fmt_date,\n",
    "        datetime_format=fmt_datetime,\n",
    "        storage_options=storage_options\n",
    "    ) as writer:\n",
    "        if file_exists:\n",
    "            writer.book = wb\n",
    "            if truncate_sheet and sheet_name in writer.book.sheetnames:\n",
    "                idx = writer.book.sheetnames.index(sheet_name)\n",
    "                writer.book.remove(writer.book.worksheets[idx])\n",
    "                writer.book.create_sheet(sheet_name, idx)\n",
    "            writer.sheets = sheets\n",
    "\n",
    "        df.to_excel(writer, sheet_name=sheet_name, **to_excel_kwargs)\n",
    "        worksheet = writer.sheets[sheet_name]\n",
    "\n",
    "        if autofilter:\n",
    "            worksheet.auto_filter.ref = worksheet.dimensions\n",
    "\n",
    "        for xl_col_no, dtyp in enumerate(df.dtypes, first_col):\n",
    "            col_no = xl_col_no - first_col\n",
    "            width = max(df.iloc[:, col_no].astype(str).str.len().max(),\n",
    "                        len(df.columns[col_no]) + 6)\n",
    "            width = min(max_col_width, width)\n",
    "            column_letter = get_column_letter(xl_col_no)\n",
    "            worksheet.column_dimensions[column_letter].width = width\n",
    "            if np.issubdtype(dtyp, np.integer):\n",
    "                set_column_format(worksheet, column_letter, fmt_int)\n",
    "            if np.issubdtype(dtyp, np.floating):\n",
    "                set_column_format(worksheet, column_letter, fmt_float)"
   ],
   "metadata": {
    "collapsed": false,
    "pycharm": {
     "name": "#%%\n"
    }
   }
  },
  {
   "cell_type": "markdown",
   "source": [
    "Выгрузим датасет в эксель"
   ],
   "metadata": {
    "collapsed": false,
    "pycharm": {
     "name": "#%% md\n"
    }
   }
  },
  {
   "cell_type": "code",
   "execution_count": 20,
   "outputs": [],
   "source": [
    "append_df_to_excel(\"output.xlsx\", dataset, sheet_name=\"Main\")"
   ],
   "metadata": {
    "collapsed": false,
    "pycharm": {
     "name": "#%%\n"
    }
   }
  },
  {
   "cell_type": "markdown",
   "source": [
    "Найдём информацию о заявках, на интересующие нас лоты\n"
   ],
   "metadata": {
    "collapsed": false,
    "pycharm": {
     "name": "#%% md\n"
    }
   }
  },
  {
   "cell_type": "code",
   "execution_count": 25,
   "outputs": [
    {
     "data": {
      "text/plain": "                                   lot_guid  lot_initial_sum  \\\n0      00063eeb-9fc5-4bd1-b269-9ebf61448d5d        195264.00   \n1      000b0a3c-7291-4077-836d-73b1ce173a73        826881.93   \n2      000b0a3c-7291-4077-836d-73b1ce173a73        826881.93   \n3      000f785b-cde8-42fc-bdd4-dd401bf48e52              NaN   \n4      000f785b-cde8-42fc-bdd4-dd401bf48e52              NaN   \n...                                     ...              ...   \n44908  fff15ad5-3a2e-9349-9c82-fd90df956788         28200.00   \n44909  fff3b4ba-20f9-451e-8ecd-d0c185e2cf56       5159837.73   \n44910  fffdce4d-a139-4939-ada5-5bea3fb1d25e        499924.76   \n44911  fffdce4d-a139-4939-ada5-5bea3fb1d25e        499924.76   \n44912  fffec4c3-a162-4d92-b7ab-3abb51142033        231538.82   \n\n      lot_commodity_price  lot_max_contract_price  lot_non_price  \\\n0                    None                     NaN            NaN   \n1                    None                     NaN            NaN   \n2                    None                     NaN            NaN   \n3                    None                574135.0            NaN   \n4                    None                574135.0            NaN   \n...                   ...                     ...            ...   \n44908                None                     NaN            NaN   \n44909                None                     NaN            NaN   \n44910                None                     NaN            NaN   \n44911                None                     NaN            NaN   \n44912                None                     NaN            NaN   \n\n      lot_currency_code     application_date  application_not_dishonest  \\\n0                   RUB  2021-04-20 15:58:54                        NaN   \n1                   RUB  2020-07-13 06:11:07                        NaN   \n2                   RUB  2020-07-13 17:25:37                        NaN   \n3                   RUB  2020-03-17 13:45:04                        NaN   \n4                   RUB  2020-03-17 13:45:04                        NaN   \n...                 ...                  ...                        ...   \n44908               RUB  2020-02-26 13:50:22                        NaN   \n44909               RUB  2020-04-28 09:00:00                        NaN   \n44910               RUB  2021-01-25 16:08:08                        NaN   \n44911               RUB  2021-01-19 05:59:35                        NaN   \n44912               RUB  2021-03-24 06:23:45                        NaN   \n\n       application_provider supplier_guid  ... application_price  \\\n0                       NaN          None  ...         187600.00   \n1                       NaN          None  ...         797264.49   \n2                       NaN          None  ...         597995.04   \n3                       NaN          None  ...         574135.00   \n4                       NaN          None  ...         574135.00   \n...                     ...           ...  ...               ...   \n44908                   NaN          None  ...          27000.00   \n44909                   NaN          None  ...        5159837.73   \n44910                   NaN          None  ...         497425.14   \n44911                   NaN          None  ...         472428.90   \n44912                   NaN          None  ...         230192.00   \n\n      application_currency_code application_accepted  \\\n0                           RUB              Допущен   \n1                           RUB              Допущен   \n2                           RUB              Допущен   \n3                           RUB              Допущен   \n4                           RUB              Допущен   \n...                         ...                  ...   \n44908                       RUB              Допущен   \n44909                       RUB                 None   \n44910                       RUB              Допущен   \n44911                       RUB              Допущен   \n44912                       RUB              Допущен   \n\n      application_rejection_reason_code  application_winner_indication  \\\n0                                  None                           None   \n1                                  None                           None   \n2                                  None                           None   \n3                                  None                           None   \n4                                  None                           None   \n...                                 ...                            ...   \n44908                              None                           None   \n44909                              None                           None   \n44910                              None                           None   \n44911                              None                           None   \n44912                              None                           None   \n\n      application_contract_signed application_additional_price  \\\n0                             1.0                          NaN   \n1                             0.0                          NaN   \n2                             1.0                          NaN   \n3                             1.0                          NaN   \n4                             1.0                          NaN   \n...                           ...                          ...   \n44908                         0.0                          NaN   \n44909                         NaN                          NaN   \n44910                         0.0                          NaN   \n44911                         1.0                          NaN   \n44912                         1.0                          NaN   \n\n      application_rating application_assessment_result  \\\n0                    1.0                           NaN   \n1                    NaN                           NaN   \n2                    NaN                           NaN   \n3                    1.0                           NaN   \n4                    1.0                           NaN   \n...                  ...                           ...   \n44908                NaN                           2.0   \n44909                NaN                           NaN   \n44910                NaN                           NaN   \n44911                NaN                           NaN   \n44912                1.0                           NaN   \n\n       application_commission_decision_place  \n0                                        NaN  \n1                                        2.0  \n2                                        1.0  \n3                                        NaN  \n4                                        NaN  \n...                                      ...  \n44908                                    0.0  \n44909                                    NaN  \n44910                                    2.0  \n44911                                    1.0  \n44912                                    NaN  \n\n[44913 rows x 24 columns]",
      "text/html": "<div>\n<style scoped>\n    .dataframe tbody tr th:only-of-type {\n        vertical-align: middle;\n    }\n\n    .dataframe tbody tr th {\n        vertical-align: top;\n    }\n\n    .dataframe thead th {\n        text-align: right;\n    }\n</style>\n<table border=\"1\" class=\"dataframe\">\n  <thead>\n    <tr style=\"text-align: right;\">\n      <th></th>\n      <th>lot_guid</th>\n      <th>lot_initial_sum</th>\n      <th>lot_commodity_price</th>\n      <th>lot_max_contract_price</th>\n      <th>lot_non_price</th>\n      <th>lot_currency_code</th>\n      <th>application_date</th>\n      <th>application_not_dishonest</th>\n      <th>application_provider</th>\n      <th>supplier_guid</th>\n      <th>...</th>\n      <th>application_price</th>\n      <th>application_currency_code</th>\n      <th>application_accepted</th>\n      <th>application_rejection_reason_code</th>\n      <th>application_winner_indication</th>\n      <th>application_contract_signed</th>\n      <th>application_additional_price</th>\n      <th>application_rating</th>\n      <th>application_assessment_result</th>\n      <th>application_commission_decision_place</th>\n    </tr>\n  </thead>\n  <tbody>\n    <tr>\n      <th>0</th>\n      <td>00063eeb-9fc5-4bd1-b269-9ebf61448d5d</td>\n      <td>195264.00</td>\n      <td>None</td>\n      <td>NaN</td>\n      <td>NaN</td>\n      <td>RUB</td>\n      <td>2021-04-20 15:58:54</td>\n      <td>NaN</td>\n      <td>NaN</td>\n      <td>None</td>\n      <td>...</td>\n      <td>187600.00</td>\n      <td>RUB</td>\n      <td>Допущен</td>\n      <td>None</td>\n      <td>None</td>\n      <td>1.0</td>\n      <td>NaN</td>\n      <td>1.0</td>\n      <td>NaN</td>\n      <td>NaN</td>\n    </tr>\n    <tr>\n      <th>1</th>\n      <td>000b0a3c-7291-4077-836d-73b1ce173a73</td>\n      <td>826881.93</td>\n      <td>None</td>\n      <td>NaN</td>\n      <td>NaN</td>\n      <td>RUB</td>\n      <td>2020-07-13 06:11:07</td>\n      <td>NaN</td>\n      <td>NaN</td>\n      <td>None</td>\n      <td>...</td>\n      <td>797264.49</td>\n      <td>RUB</td>\n      <td>Допущен</td>\n      <td>None</td>\n      <td>None</td>\n      <td>0.0</td>\n      <td>NaN</td>\n      <td>NaN</td>\n      <td>NaN</td>\n      <td>2.0</td>\n    </tr>\n    <tr>\n      <th>2</th>\n      <td>000b0a3c-7291-4077-836d-73b1ce173a73</td>\n      <td>826881.93</td>\n      <td>None</td>\n      <td>NaN</td>\n      <td>NaN</td>\n      <td>RUB</td>\n      <td>2020-07-13 17:25:37</td>\n      <td>NaN</td>\n      <td>NaN</td>\n      <td>None</td>\n      <td>...</td>\n      <td>597995.04</td>\n      <td>RUB</td>\n      <td>Допущен</td>\n      <td>None</td>\n      <td>None</td>\n      <td>1.0</td>\n      <td>NaN</td>\n      <td>NaN</td>\n      <td>NaN</td>\n      <td>1.0</td>\n    </tr>\n    <tr>\n      <th>3</th>\n      <td>000f785b-cde8-42fc-bdd4-dd401bf48e52</td>\n      <td>NaN</td>\n      <td>None</td>\n      <td>574135.0</td>\n      <td>NaN</td>\n      <td>RUB</td>\n      <td>2020-03-17 13:45:04</td>\n      <td>NaN</td>\n      <td>NaN</td>\n      <td>None</td>\n      <td>...</td>\n      <td>574135.00</td>\n      <td>RUB</td>\n      <td>Допущен</td>\n      <td>None</td>\n      <td>None</td>\n      <td>1.0</td>\n      <td>NaN</td>\n      <td>1.0</td>\n      <td>NaN</td>\n      <td>NaN</td>\n    </tr>\n    <tr>\n      <th>4</th>\n      <td>000f785b-cde8-42fc-bdd4-dd401bf48e52</td>\n      <td>NaN</td>\n      <td>None</td>\n      <td>574135.0</td>\n      <td>NaN</td>\n      <td>RUB</td>\n      <td>2020-03-17 13:45:04</td>\n      <td>NaN</td>\n      <td>NaN</td>\n      <td>None</td>\n      <td>...</td>\n      <td>574135.00</td>\n      <td>RUB</td>\n      <td>Допущен</td>\n      <td>None</td>\n      <td>None</td>\n      <td>1.0</td>\n      <td>NaN</td>\n      <td>1.0</td>\n      <td>NaN</td>\n      <td>NaN</td>\n    </tr>\n    <tr>\n      <th>...</th>\n      <td>...</td>\n      <td>...</td>\n      <td>...</td>\n      <td>...</td>\n      <td>...</td>\n      <td>...</td>\n      <td>...</td>\n      <td>...</td>\n      <td>...</td>\n      <td>...</td>\n      <td>...</td>\n      <td>...</td>\n      <td>...</td>\n      <td>...</td>\n      <td>...</td>\n      <td>...</td>\n      <td>...</td>\n      <td>...</td>\n      <td>...</td>\n      <td>...</td>\n      <td>...</td>\n    </tr>\n    <tr>\n      <th>44908</th>\n      <td>fff15ad5-3a2e-9349-9c82-fd90df956788</td>\n      <td>28200.00</td>\n      <td>None</td>\n      <td>NaN</td>\n      <td>NaN</td>\n      <td>RUB</td>\n      <td>2020-02-26 13:50:22</td>\n      <td>NaN</td>\n      <td>NaN</td>\n      <td>None</td>\n      <td>...</td>\n      <td>27000.00</td>\n      <td>RUB</td>\n      <td>Допущен</td>\n      <td>None</td>\n      <td>None</td>\n      <td>0.0</td>\n      <td>NaN</td>\n      <td>NaN</td>\n      <td>2.0</td>\n      <td>0.0</td>\n    </tr>\n    <tr>\n      <th>44909</th>\n      <td>fff3b4ba-20f9-451e-8ecd-d0c185e2cf56</td>\n      <td>5159837.73</td>\n      <td>None</td>\n      <td>NaN</td>\n      <td>NaN</td>\n      <td>RUB</td>\n      <td>2020-04-28 09:00:00</td>\n      <td>NaN</td>\n      <td>NaN</td>\n      <td>None</td>\n      <td>...</td>\n      <td>5159837.73</td>\n      <td>RUB</td>\n      <td>None</td>\n      <td>None</td>\n      <td>None</td>\n      <td>NaN</td>\n      <td>NaN</td>\n      <td>NaN</td>\n      <td>NaN</td>\n      <td>NaN</td>\n    </tr>\n    <tr>\n      <th>44910</th>\n      <td>fffdce4d-a139-4939-ada5-5bea3fb1d25e</td>\n      <td>499924.76</td>\n      <td>None</td>\n      <td>NaN</td>\n      <td>NaN</td>\n      <td>RUB</td>\n      <td>2021-01-25 16:08:08</td>\n      <td>NaN</td>\n      <td>NaN</td>\n      <td>None</td>\n      <td>...</td>\n      <td>497425.14</td>\n      <td>RUB</td>\n      <td>Допущен</td>\n      <td>None</td>\n      <td>None</td>\n      <td>0.0</td>\n      <td>NaN</td>\n      <td>NaN</td>\n      <td>NaN</td>\n      <td>2.0</td>\n    </tr>\n    <tr>\n      <th>44911</th>\n      <td>fffdce4d-a139-4939-ada5-5bea3fb1d25e</td>\n      <td>499924.76</td>\n      <td>None</td>\n      <td>NaN</td>\n      <td>NaN</td>\n      <td>RUB</td>\n      <td>2021-01-19 05:59:35</td>\n      <td>NaN</td>\n      <td>NaN</td>\n      <td>None</td>\n      <td>...</td>\n      <td>472428.90</td>\n      <td>RUB</td>\n      <td>Допущен</td>\n      <td>None</td>\n      <td>None</td>\n      <td>1.0</td>\n      <td>NaN</td>\n      <td>NaN</td>\n      <td>NaN</td>\n      <td>1.0</td>\n    </tr>\n    <tr>\n      <th>44912</th>\n      <td>fffec4c3-a162-4d92-b7ab-3abb51142033</td>\n      <td>231538.82</td>\n      <td>None</td>\n      <td>NaN</td>\n      <td>NaN</td>\n      <td>RUB</td>\n      <td>2021-03-24 06:23:45</td>\n      <td>NaN</td>\n      <td>NaN</td>\n      <td>None</td>\n      <td>...</td>\n      <td>230192.00</td>\n      <td>RUB</td>\n      <td>Допущен</td>\n      <td>None</td>\n      <td>None</td>\n      <td>1.0</td>\n      <td>NaN</td>\n      <td>1.0</td>\n      <td>NaN</td>\n      <td>NaN</td>\n    </tr>\n  </tbody>\n</table>\n<p>44913 rows × 24 columns</p>\n</div>"
     },
     "execution_count": 25,
     "metadata": {},
     "output_type": "execute_result"
    }
   ],
   "source": [
    "lot_applications = pd.read_sql_query(\n",
    "    f\"\"\"\n",
    "    WITH covid_contract AS (\n",
    "        SELECT *\n",
    "        FROM contract c\n",
    "        INNER JOIN (\n",
    "            SELECT contract_reg_number, MAX(version) ver\n",
    "            FROM contract\n",
    "            WHERE {COVID_CONDITIONS}\n",
    "            AND lot_guid is not null\n",
    "            GROUP BY contract_reg_number\n",
    "        ) tmp ON c.contract_reg_number = tmp.contract_reg_number AND c.version = tmp.ver\n",
    "    )\n",
    "    SELECT l.lot_guid, pl.initial_sum as lot_initial_sum, pl.commodity_price as lot_commodity_price,\n",
    "           pl.max_contract_price as lot_max_contract_price, pl.non_price as lot_non_price,\n",
    "           pl.currency_code as lot_currency_code,\n",
    "           a.application_date as application_date, a.not_dishonest as application_not_dishonest,\n",
    "           a.provider as application_provider, a.supplier_guid as supplier_guid, si.inn as supplier_inn,\n",
    "           si.name as supplier_name, si.ogrn as supplier_ogrn, si.type as supplier_type,\n",
    "           a.price as application_price, a.currency_code as application_currency_code,\n",
    "           a.accepted as application_accepted, a.application_rejection_reason_code as application_rejection_reason_code,\n",
    "           a.winner_indication as application_winner_indication, a.contract_signed as application_contract_signed,\n",
    "           a.additional_price as application_additional_price, a.rating as application_rating,\n",
    "           a.assessment_result as application_assessment_result,\n",
    "           a.commission_decision_place as application_commission_decision_place\n",
    "    FROM (\n",
    "        SELECT cc.lot_guid\n",
    "        FROM covid_contract cc\n",
    "        GROUP BY cc.lot_guid\n",
    "    ) l\n",
    "    INNER JOIN (\n",
    "        SELECT cc2.lot_guid, MAX(pp2.create_date_time) as create_date_time FROM\n",
    "        covid_contract cc2\n",
    "        INNER JOIN protocol_lot pl2 ON cc2.lot_guid = pl2.guid\n",
    "        LEFT JOIN protocol_lot_applications pla2 on pl2.guid = pla2.protocol_lot_guid\n",
    "        LEFT JOIN purchase_protocol pp2 on pla2.purchase_protocol_guid = pp2.guid\n",
    "        GROUP BY cc2.lot_guid\n",
    "    ) tmp2 ON l.lot_guid = tmp2.lot_guid\n",
    "    INNER JOIN protocol_lot pl ON l.lot_guid = pl.guid\n",
    "    INNER JOIN protocol_lot_applications pla on pl.guid = pla.protocol_lot_guid\n",
    "    INNER JOIN purchase_protocol pp on pla.purchase_protocol_guid = pp.guid and tmp2.create_date_time = pp.create_date_time\n",
    "    INNER JOIN application a on pla.id = a.protocol_lot_applications_id\n",
    "    LEFT JOIN supplier_info si on a.supplier_guid = si.guid\n",
    "    ;\n",
    "    \"\"\",\n",
    "    conn\n",
    ")\n",
    "\n",
    "lot_applications"
   ],
   "metadata": {
    "collapsed": false,
    "pycharm": {
     "name": "#%%\n"
    }
   }
  },
  {
   "cell_type": "markdown",
   "source": [
    "Выгрузим заявки в эксель"
   ],
   "metadata": {
    "collapsed": false,
    "pycharm": {
     "name": "#%% md\n"
    }
   }
  },
  {
   "cell_type": "code",
   "execution_count": 26,
   "outputs": [],
   "source": [
    "append_df_to_excel(\"output.xlsx\", lot_applications, sheet_name=\"Applications\")"
   ],
   "metadata": {
    "collapsed": false,
    "pycharm": {
     "name": "#%%\n"
    }
   }
  },
  {
   "cell_type": "markdown",
   "source": [
    "Проанализируем исполнение договоров в нашей выборке:"
   ],
   "metadata": {
    "collapsed": false,
    "pycharm": {
     "name": "#%% md\n"
    }
   }
  },
  {
   "cell_type": "code",
   "execution_count": 23,
   "outputs": [
    {
     "name": "stdout",
     "output_type": "stream",
     "text": [
      "Всего договоров: 30703\n",
      "Всего завершенных договоров: 21685\n",
      "Всего расторженных договоров: 1090\n",
      "Всего исполненных договоров: 20595\n",
      "Процент расторженных договоров от завершенных: 5.026516024902006%\n",
      "Процент расторженных договоров от всех: 3.550141679966127%\n"
     ]
    }
   ],
   "source": [
    "failed_contracts = covid_contracts_performance_with_lot[\n",
    "    covid_contracts_performance_with_lot[\"contract_is_complete\"] == 0]\n",
    "completed_contracts = covid_contracts_performance_with_lot[\n",
    "    covid_contracts_performance_with_lot[\"contract_is_complete\"] == 1]\n",
    "\n",
    "contracts_count = covid_contracts_performance_with_lot.shape[0]\n",
    "failed_contracts_count = failed_contracts.shape[0]\n",
    "completed_contracts_count = completed_contracts.shape[0]\n",
    "\n",
    "print(f'Всего договоров: {contracts_count}')\n",
    "print(f'Всего завершенных договоров: {failed_contracts_count + completed_contracts_count}')\n",
    "print(f'Всего расторженных договоров: {failed_contracts_count}')\n",
    "print(f'Всего исполненных договоров: {completed_contracts_count}')\n",
    "print(\n",
    "    f'Процент расторженных договоров от завершенных: {failed_contracts_count / (failed_contracts_count + completed_contracts_count) * 100}%')\n",
    "print(f'Процент расторженных договоров от всех: {failed_contracts_count / contracts_count * 100}%')"
   ],
   "metadata": {
    "collapsed": false,
    "pycharm": {
     "name": "#%%\n"
    }
   }
  },
  {
   "cell_type": "markdown",
   "source": [
    "Проанализируем в каком количестве позиций присутствует цена за единицу"
   ],
   "metadata": {
    "collapsed": false,
    "pycharm": {
     "name": "#%% md\n"
    }
   }
  },
  {
   "cell_type": "code",
   "execution_count": 24,
   "outputs": [
    {
     "name": "stdout",
     "output_type": "stream",
     "text": [
      "Всего позиций: 72195\n",
      "Всего позиций с указанной ценой: 42814\n",
      "Процент позиций с указанной ценой: 59.303275850128124%\n"
     ]
    }
   ],
   "source": [
    "positions_count = covid_contracts_positions_with_lot.shape[0]\n",
    "unit_price_positions_count = covid_contracts_positions_with_lot[covid_contracts_positions_with_lot[\"position_unit_price\"].notnull()].shape[0]\n",
    "\n",
    "print(f'Всего позиций: {positions_count}')\n",
    "print(f'Всего позиций с указанной ценой: {unit_price_positions_count}')\n",
    "print(f'Процент позиций с указанной ценой: {unit_price_positions_count / positions_count * 100}%')"
   ],
   "metadata": {
    "collapsed": false,
    "pycharm": {
     "name": "#%%\n"
    }
   }
  }
 ],
 "metadata": {
  "kernelspec": {
   "display_name": "Python 3",
   "language": "python",
   "name": "python3"
  },
  "language_info": {
   "codemirror_mode": {
    "name": "ipython",
    "version": 2
   },
   "file_extension": ".py",
   "mimetype": "text/x-python",
   "name": "python",
   "nbconvert_exporter": "python",
   "pygments_lexer": "ipython2",
   "version": "2.7.6"
  }
 },
 "nbformat": 4,
 "nbformat_minor": 0
}