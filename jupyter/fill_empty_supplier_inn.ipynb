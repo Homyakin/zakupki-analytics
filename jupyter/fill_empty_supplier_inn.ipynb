{
 "cells": [
  {
   "cell_type": "code",
   "execution_count": 47,
   "metadata": {
    "collapsed": true
   },
   "outputs": [],
   "source": [
    "import sqlite3\n",
    "import pandas as pd\n",
    "from typing import List"
   ]
  },
  {
   "cell_type": "markdown",
   "source": [
    "# Подключаемся к базе"
   ],
   "metadata": {
    "collapsed": false,
    "pycharm": {
     "name": "#%% md\n"
    }
   }
  },
  {
   "cell_type": "code",
   "execution_count": 48,
   "outputs": [],
   "source": [
    "conn = sqlite3.connect(\"data.db\")"
   ],
   "metadata": {
    "collapsed": false,
    "pycharm": {
     "name": "#%%\n"
    }
   }
  },
  {
   "cell_type": "markdown",
   "source": [
    "# Достаём поставщиков, у которых нет ИНН, но есть имя или ОГРН, по ковидным закупкам\n",
    "(Нужна таблица covid_contracts из файла create_dataset.ipynb)"
   ],
   "metadata": {
    "collapsed": false,
    "pycharm": {
     "name": "#%% md\n"
    }
   }
  },
  {
   "cell_type": "code",
   "execution_count": 78,
   "outputs": [
    {
     "data": {
      "text/plain": "                                 lot_guid  \\\n0    005056bd-6164-1eeb-9fb2-80f01f612591   \n1    005056bd-6164-1eeb-a1ae-7ba36231c160   \n2    026fcfb8-4455-4b4d-883a-f617b00cdab3   \n3    0437d64f-ebdd-4655-9b47-4a8e72d87272   \n4    04d6845a-2383-4c6a-b586-cb91a62b9643   \n..                                    ...   \n200  facf8fed-230d-440b-aedf-f8f3b5314719   \n201  fdccc2e6-448a-4c97-a08e-658d675133e7   \n202  fe3ba8b8-8034-47a4-919d-deea81b45945   \n203  ff968e2f-ad32-9b54-1493-e52fff049a34   \n204  ffe6f942-bfa1-4f78-bb1c-a8b0cf755881   \n\n                            supplier_guid supplier_inn  \\\n0    2965f69d-c02b-42b2-91e5-478fd6adb776         None   \n1    cf0fc835-edf4-4ea7-abe6-17cbbed0c26e         None   \n2    35eccf7b-f3c3-4485-99de-040ed279cd37         None   \n3    249271e5-72f2-444e-b285-1b9f48cb8af6         None   \n4    a236aba8-b4dd-4d7d-adb7-8e5dac988792         None   \n..                                    ...          ...   \n200  0ac08fb1-9a48-4bf5-a575-745bfca9b314         None   \n201  20ba4f29-cf14-4194-b094-94d5ebc2f8b8         None   \n202  a4895213-6489-42cd-9138-2affff3ebd80         None   \n203  ff1b4bc7-3b7c-4c5b-820d-21eb9208996c         None   \n204  20703e79-2165-47b9-aacc-3aba0b70bba3         None   \n\n                                         supplier_name supplier_ogrn  \\\n0                                    Не предусмотрено.          None   \n1                                      ООО НПП \"Ареал\"          None   \n2                                   ИП Гарифуллин А.Н.          None   \n3                                                    1          None   \n4                                   ООО ИнтерЛабСервис          None   \n..                                                 ...           ...   \n200                                                  1          None   \n201  Общество с ограниченной ответственностью \"ОллНэт\"          None   \n202                                           Заявка 1          None   \n203                                         Участник 2          None   \n204                                ООО «СТАТУС-РЕГИОН»          None   \n\n        supplier_type  \n0    Юридическое лицо  \n1    Юридическое лицо  \n2     Физическое лицо  \n3    Юридическое лицо  \n4    Юридическое лицо  \n..                ...  \n200  Юридическое лицо  \n201  Юридическое лицо  \n202  Юридическое лицо  \n203   Физическое лицо  \n204  Юридическое лицо  \n\n[205 rows x 6 columns]",
      "text/html": "<div>\n<style scoped>\n    .dataframe tbody tr th:only-of-type {\n        vertical-align: middle;\n    }\n\n    .dataframe tbody tr th {\n        vertical-align: top;\n    }\n\n    .dataframe thead th {\n        text-align: right;\n    }\n</style>\n<table border=\"1\" class=\"dataframe\">\n  <thead>\n    <tr style=\"text-align: right;\">\n      <th></th>\n      <th>lot_guid</th>\n      <th>supplier_guid</th>\n      <th>supplier_inn</th>\n      <th>supplier_name</th>\n      <th>supplier_ogrn</th>\n      <th>supplier_type</th>\n    </tr>\n  </thead>\n  <tbody>\n    <tr>\n      <th>0</th>\n      <td>005056bd-6164-1eeb-9fb2-80f01f612591</td>\n      <td>2965f69d-c02b-42b2-91e5-478fd6adb776</td>\n      <td>None</td>\n      <td>Не предусмотрено.</td>\n      <td>None</td>\n      <td>Юридическое лицо</td>\n    </tr>\n    <tr>\n      <th>1</th>\n      <td>005056bd-6164-1eeb-a1ae-7ba36231c160</td>\n      <td>cf0fc835-edf4-4ea7-abe6-17cbbed0c26e</td>\n      <td>None</td>\n      <td>ООО НПП \"Ареал\"</td>\n      <td>None</td>\n      <td>Юридическое лицо</td>\n    </tr>\n    <tr>\n      <th>2</th>\n      <td>026fcfb8-4455-4b4d-883a-f617b00cdab3</td>\n      <td>35eccf7b-f3c3-4485-99de-040ed279cd37</td>\n      <td>None</td>\n      <td>ИП Гарифуллин А.Н.</td>\n      <td>None</td>\n      <td>Физическое лицо</td>\n    </tr>\n    <tr>\n      <th>3</th>\n      <td>0437d64f-ebdd-4655-9b47-4a8e72d87272</td>\n      <td>249271e5-72f2-444e-b285-1b9f48cb8af6</td>\n      <td>None</td>\n      <td>1</td>\n      <td>None</td>\n      <td>Юридическое лицо</td>\n    </tr>\n    <tr>\n      <th>4</th>\n      <td>04d6845a-2383-4c6a-b586-cb91a62b9643</td>\n      <td>a236aba8-b4dd-4d7d-adb7-8e5dac988792</td>\n      <td>None</td>\n      <td>ООО ИнтерЛабСервис</td>\n      <td>None</td>\n      <td>Юридическое лицо</td>\n    </tr>\n    <tr>\n      <th>...</th>\n      <td>...</td>\n      <td>...</td>\n      <td>...</td>\n      <td>...</td>\n      <td>...</td>\n      <td>...</td>\n    </tr>\n    <tr>\n      <th>200</th>\n      <td>facf8fed-230d-440b-aedf-f8f3b5314719</td>\n      <td>0ac08fb1-9a48-4bf5-a575-745bfca9b314</td>\n      <td>None</td>\n      <td>1</td>\n      <td>None</td>\n      <td>Юридическое лицо</td>\n    </tr>\n    <tr>\n      <th>201</th>\n      <td>fdccc2e6-448a-4c97-a08e-658d675133e7</td>\n      <td>20ba4f29-cf14-4194-b094-94d5ebc2f8b8</td>\n      <td>None</td>\n      <td>Общество с ограниченной ответственностью \"ОллНэт\"</td>\n      <td>None</td>\n      <td>Юридическое лицо</td>\n    </tr>\n    <tr>\n      <th>202</th>\n      <td>fe3ba8b8-8034-47a4-919d-deea81b45945</td>\n      <td>a4895213-6489-42cd-9138-2affff3ebd80</td>\n      <td>None</td>\n      <td>Заявка 1</td>\n      <td>None</td>\n      <td>Юридическое лицо</td>\n    </tr>\n    <tr>\n      <th>203</th>\n      <td>ff968e2f-ad32-9b54-1493-e52fff049a34</td>\n      <td>ff1b4bc7-3b7c-4c5b-820d-21eb9208996c</td>\n      <td>None</td>\n      <td>Участник 2</td>\n      <td>None</td>\n      <td>Физическое лицо</td>\n    </tr>\n    <tr>\n      <th>204</th>\n      <td>ffe6f942-bfa1-4f78-bb1c-a8b0cf755881</td>\n      <td>20703e79-2165-47b9-aacc-3aba0b70bba3</td>\n      <td>None</td>\n      <td>ООО «СТАТУС-РЕГИОН»</td>\n      <td>None</td>\n      <td>Юридическое лицо</td>\n    </tr>\n  </tbody>\n</table>\n<p>205 rows × 6 columns</p>\n</div>"
     },
     "execution_count": 78,
     "metadata": {},
     "output_type": "execute_result"
    }
   ],
   "source": [
    "lot_suppliers = pd.read_sql_query(\n",
    "    f\"\"\"\n",
    "    SELECT lot_guid, supplier_guid, si2.inn as supplier_inn,\n",
    "        si2.name as supplier_name, si2.ogrn as supplier_ogrn, si2.type as supplier_type\n",
    "    FROM (\n",
    "        SELECT lot_guid, MAX(supplier_guid) as supplier_guid\n",
    "        FROM (\n",
    "            SELECT c.lot_guid\n",
    "            FROM covid_contracts c\n",
    "            GROUP BY c.lot_guid\n",
    "        ) tmp1\n",
    "        INNER JOIN protocol_lot pl ON tmp1.lot_guid = pl.guid\n",
    "        LEFT JOIN protocol_lot_applications pla on pl.guid = pla.protocol_lot_guid\n",
    "        LEFT JOIN application a on pla.id = a.protocol_lot_applications_id\n",
    "        LEFT JOIN supplier_info si on a.supplier_guid = si.guid\n",
    "        WHERE (contract_signed = 1 or\n",
    "         (a.winner_indication = 'Победитель'and contract_signed is null))\n",
    "         and (supplier_guid is not null)\n",
    "         and (si.inn is null and (si.name is not null or si.ogrn is not null))\n",
    "        GROUP BY lot_guid\n",
    "    ) sup\n",
    "    LEFT JOIN supplier_info si2 ON si2.guid = sup.supplier_guid;\n",
    "    \"\"\",\n",
    "    conn\n",
    ")\n",
    "\n",
    "lot_suppliers"
   ],
   "metadata": {
    "collapsed": false,
    "pycharm": {
     "name": "#%%\n"
    }
   }
  },
  {
   "cell_type": "markdown",
   "source": [
    "# Удалим анонимные заявки"
   ],
   "metadata": {
    "collapsed": false,
    "pycharm": {
     "name": "#%% md\n"
    }
   }
  },
  {
   "cell_type": "code",
   "execution_count": 79,
   "outputs": [
    {
     "data": {
      "text/plain": "                                 lot_guid  \\\n1    005056bd-6164-1eeb-a1ae-7ba36231c160   \n2    026fcfb8-4455-4b4d-883a-f617b00cdab3   \n4    04d6845a-2383-4c6a-b586-cb91a62b9643   \n6    06510062-3df1-4f2a-85f7-2f548ea3ffeb   \n8    083e4f95-a0b7-7967-a72c-1c23babda3ce   \n..                                    ...   \n193  f118da07-418a-4f7b-bf0b-dae0b7739d82   \n194  f1840e5c-15e6-4b48-8a32-9be7693685ad   \n198  f96c040a-5e28-44b5-9c7b-925f41a19a29   \n201  fdccc2e6-448a-4c97-a08e-658d675133e7   \n204  ffe6f942-bfa1-4f78-bb1c-a8b0cf755881   \n\n                            supplier_guid supplier_inn  \\\n1    cf0fc835-edf4-4ea7-abe6-17cbbed0c26e         None   \n2    35eccf7b-f3c3-4485-99de-040ed279cd37         None   \n4    a236aba8-b4dd-4d7d-adb7-8e5dac988792         None   \n6    8afe21e7-d135-466f-b5c5-280c112ef055         None   \n8    deb4eb71-523f-4063-b16e-76e718140c23         None   \n..                                    ...          ...   \n193  d142a09a-ae65-42ae-b497-82c537bdc9e5         None   \n194  dcba4e42-0611-472b-b8e3-edffce7bd6c8         None   \n198  5ecd8d4d-f194-4bb2-a14b-2d194785d07c         None   \n201  20ba4f29-cf14-4194-b094-94d5ebc2f8b8         None   \n204  20703e79-2165-47b9-aacc-3aba0b70bba3         None   \n\n                                         supplier_name  supplier_ogrn  \\\n1                                      ООО НПП \"Ареал\"           None   \n2                                   ИП Гарифуллин А.Н.           None   \n4                                   ООО ИнтерЛабСервис           None   \n6                                     ООО \"АДР-Трафик\"           None   \n8    Общество с ограниченной ответственностью «ДВ А...  1102537003953   \n..                                                 ...            ...   \n193                                 ООО ДНК Технология           None   \n194  ГБУЗ ТО \"Областная клиническая больница №1\" г....           None   \n198                         ИП Тороян Дианна Шерамовна           None   \n201  Общество с ограниченной ответственностью \"ОллНэт\"           None   \n204                                ООО «СТАТУС-РЕГИОН»           None   \n\n        supplier_type  is_anonym  \n1    Юридическое лицо      False  \n2     Физическое лицо      False  \n4    Юридическое лицо      False  \n6    Юридическое лицо      False  \n8    Юридическое лицо      False  \n..                ...        ...  \n193  Юридическое лицо      False  \n194  Юридическое лицо      False  \n198   Физическое лицо      False  \n201  Юридическое лицо      False  \n204  Юридическое лицо      False  \n\n[125 rows x 7 columns]",
      "text/html": "<div>\n<style scoped>\n    .dataframe tbody tr th:only-of-type {\n        vertical-align: middle;\n    }\n\n    .dataframe tbody tr th {\n        vertical-align: top;\n    }\n\n    .dataframe thead th {\n        text-align: right;\n    }\n</style>\n<table border=\"1\" class=\"dataframe\">\n  <thead>\n    <tr style=\"text-align: right;\">\n      <th></th>\n      <th>lot_guid</th>\n      <th>supplier_guid</th>\n      <th>supplier_inn</th>\n      <th>supplier_name</th>\n      <th>supplier_ogrn</th>\n      <th>supplier_type</th>\n      <th>is_anonym</th>\n    </tr>\n  </thead>\n  <tbody>\n    <tr>\n      <th>1</th>\n      <td>005056bd-6164-1eeb-a1ae-7ba36231c160</td>\n      <td>cf0fc835-edf4-4ea7-abe6-17cbbed0c26e</td>\n      <td>None</td>\n      <td>ООО НПП \"Ареал\"</td>\n      <td>None</td>\n      <td>Юридическое лицо</td>\n      <td>False</td>\n    </tr>\n    <tr>\n      <th>2</th>\n      <td>026fcfb8-4455-4b4d-883a-f617b00cdab3</td>\n      <td>35eccf7b-f3c3-4485-99de-040ed279cd37</td>\n      <td>None</td>\n      <td>ИП Гарифуллин А.Н.</td>\n      <td>None</td>\n      <td>Физическое лицо</td>\n      <td>False</td>\n    </tr>\n    <tr>\n      <th>4</th>\n      <td>04d6845a-2383-4c6a-b586-cb91a62b9643</td>\n      <td>a236aba8-b4dd-4d7d-adb7-8e5dac988792</td>\n      <td>None</td>\n      <td>ООО ИнтерЛабСервис</td>\n      <td>None</td>\n      <td>Юридическое лицо</td>\n      <td>False</td>\n    </tr>\n    <tr>\n      <th>6</th>\n      <td>06510062-3df1-4f2a-85f7-2f548ea3ffeb</td>\n      <td>8afe21e7-d135-466f-b5c5-280c112ef055</td>\n      <td>None</td>\n      <td>ООО \"АДР-Трафик\"</td>\n      <td>None</td>\n      <td>Юридическое лицо</td>\n      <td>False</td>\n    </tr>\n    <tr>\n      <th>8</th>\n      <td>083e4f95-a0b7-7967-a72c-1c23babda3ce</td>\n      <td>deb4eb71-523f-4063-b16e-76e718140c23</td>\n      <td>None</td>\n      <td>Общество с ограниченной ответственностью «ДВ А...</td>\n      <td>1102537003953</td>\n      <td>Юридическое лицо</td>\n      <td>False</td>\n    </tr>\n    <tr>\n      <th>...</th>\n      <td>...</td>\n      <td>...</td>\n      <td>...</td>\n      <td>...</td>\n      <td>...</td>\n      <td>...</td>\n      <td>...</td>\n    </tr>\n    <tr>\n      <th>193</th>\n      <td>f118da07-418a-4f7b-bf0b-dae0b7739d82</td>\n      <td>d142a09a-ae65-42ae-b497-82c537bdc9e5</td>\n      <td>None</td>\n      <td>ООО ДНК Технология</td>\n      <td>None</td>\n      <td>Юридическое лицо</td>\n      <td>False</td>\n    </tr>\n    <tr>\n      <th>194</th>\n      <td>f1840e5c-15e6-4b48-8a32-9be7693685ad</td>\n      <td>dcba4e42-0611-472b-b8e3-edffce7bd6c8</td>\n      <td>None</td>\n      <td>ГБУЗ ТО \"Областная клиническая больница №1\" г....</td>\n      <td>None</td>\n      <td>Юридическое лицо</td>\n      <td>False</td>\n    </tr>\n    <tr>\n      <th>198</th>\n      <td>f96c040a-5e28-44b5-9c7b-925f41a19a29</td>\n      <td>5ecd8d4d-f194-4bb2-a14b-2d194785d07c</td>\n      <td>None</td>\n      <td>ИП Тороян Дианна Шерамовна</td>\n      <td>None</td>\n      <td>Физическое лицо</td>\n      <td>False</td>\n    </tr>\n    <tr>\n      <th>201</th>\n      <td>fdccc2e6-448a-4c97-a08e-658d675133e7</td>\n      <td>20ba4f29-cf14-4194-b094-94d5ebc2f8b8</td>\n      <td>None</td>\n      <td>Общество с ограниченной ответственностью \"ОллНэт\"</td>\n      <td>None</td>\n      <td>Юридическое лицо</td>\n      <td>False</td>\n    </tr>\n    <tr>\n      <th>204</th>\n      <td>ffe6f942-bfa1-4f78-bb1c-a8b0cf755881</td>\n      <td>20703e79-2165-47b9-aacc-3aba0b70bba3</td>\n      <td>None</td>\n      <td>ООО «СТАТУС-РЕГИОН»</td>\n      <td>None</td>\n      <td>Юридическое лицо</td>\n      <td>False</td>\n    </tr>\n  </tbody>\n</table>\n<p>125 rows × 7 columns</p>\n</div>"
     },
     "execution_count": 79,
     "metadata": {},
     "output_type": "execute_result"
    }
   ],
   "source": [
    "anonym_names = {\n",
    "    '1',\n",
    "    'Заявка 1',\n",
    "    'Участник 1',\n",
    "    'Участник 4',\n",
    "    'Участник 2',\n",
    "    'Не предусмотрено.',\n",
    "    'Заявка 2',\n",
    "    'Участник 7',\n",
    "    'Участник 5',\n",
    "    'Участник №1',\n",
    "    'Заявка 12',\n",
    "    'Участник 3',\n",
    "    'Заявка 5818',\n",
    "    'Участник 6',\n",
    "    'Участник 6'\n",
    "    'Заявка 7880',\n",
    "    'Заявка 7880',\n",
    "    'Заявка 8097',\n",
    "    'Заявка №12571',\n",
    "    'не предоставляется'\n",
    "}\n",
    "\n",
    "def is_anonym_name(name: str) -> bool:\n",
    "    return name in anonym_names\n",
    "\n",
    "lot_suppliers['is_anonym'] = lot_suppliers['supplier_name'].map(is_anonym_name)\n",
    "lot_suppliers = lot_suppliers[lot_suppliers['is_anonym'] == False]\n",
    "lot_suppliers"
   ],
   "metadata": {
    "collapsed": false,
    "pycharm": {
     "name": "#%%\n"
    }
   }
  },
  {
   "cell_type": "markdown",
   "source": [
    "# Сгруппируем по имени"
   ],
   "metadata": {
    "collapsed": false,
    "pycharm": {
     "name": "#%% md\n"
    }
   }
  },
  {
   "cell_type": "code",
   "execution_count": 80,
   "outputs": [
    {
     "data": {
      "text/plain": "supplier_name\nГАУЗ ТО «ОКБ №1»                                                                                                                                                   1\nГБУЗ ТО \"ОКБ №1\" г.Тюмень                                                                                                                                          1\nГБУЗ ТО \"Областная клиническая больница №1\" г.Тюмени                                                                                                               1\nГоленкова Маргарита Николаевна                                                                                                                                     1\nГосударственное автономное учреждение Республики Саха (Якутия) «Республиканская клиническая больница №3»                                                           1\n                                                                                                                                                                  ..\nОбщество с ограниченной ответственностью Производственно-торговая компания «Профессиональный Лидер»                                                                1\nОбществом с ограниченной ответственностью «Эколайф»                                                                                                                1\nПителин Сергей Михайлович                                                                                                                                          1\nПогорелко Владимир Иванович                                                                                                                                        1\nФБУ НАУКИ \"ЦЕНТРАЛЬНЫЙ НАУЧНО-ИССЛЕДОВАТЕЛЬСКИЙ ИНСТИТУТ ЭПИДЕМИОЛОГИИ\" ФЕДЕРАЛЬНОЙ СЛУЖБЫ ПО НАДЗОРУ В СФЕРЕ ЗАЩИТЫ ПРАВ ПОТРЕБИТЕЛЕЙ И БЛАГОПОЛУЧИЯ ЧЕЛОВЕКА     1\nLength: 93, dtype: int64"
     },
     "execution_count": 80,
     "metadata": {},
     "output_type": "execute_result"
    }
   ],
   "source": [
    "lot_suppliers.groupby('supplier_name').size()"
   ],
   "metadata": {
    "collapsed": false,
    "pycharm": {
     "name": "#%%\n"
    }
   }
  },
  {
   "cell_type": "markdown",
   "source": [
    "# Заполняем ИНН"
   ],
   "metadata": {
    "collapsed": false,
    "pycharm": {
     "name": "#%% md\n"
    }
   }
  },
  {
   "cell_type": "code",
   "execution_count": 90,
   "outputs": [],
   "source": [
    "missed = []"
   ],
   "metadata": {
    "collapsed": false,
    "pycharm": {
     "name": "#%%\n"
    }
   }
  },
  {
   "cell_type": "code",
   "execution_count": 164,
   "outputs": [],
   "source": [
    "def list_to_query(str_list: List[str]) -> str:\n",
    "    query_str = \"\"\n",
    "    list_len = len(str_list)\n",
    "    for _idx in range(list_len):\n",
    "        query_str += f\"'{str_list[_idx]}'\"\n",
    "        if _idx != list_len - 1:\n",
    "            query_str += ','\n",
    "    return query_str\n",
    "\n",
    "def fill_supplier_inn(_names: List[str], _inn: str):\n",
    "    query_names = list_to_query(_names)\n",
    "\n",
    "    supplier = pd.read_sql_query(\n",
    "        f\"\"\"\n",
    "        SELECT * FROM supplier_info where name in ({query_names});\n",
    "        \"\"\",\n",
    "        conn\n",
    "    )\n",
    "\n",
    "    guid = ''\n",
    "    present_inn = supplier[~supplier['inn'].isnull()]\n",
    "    if present_inn.shape[0] > 0:\n",
    "        guid = present_inn.iloc[0]['guid']\n",
    "        m_inn = present_inn.iloc[0]['inn']\n",
    "        if _inn != m_inn:\n",
    "            print(f'ERROR {_inn} != {m_inn}')\n",
    "            return\n",
    "    else:\n",
    "        guid = supplier.iloc[0]['guid']\n",
    "        cur = conn.cursor()\n",
    "        cur.execute(f\"UPDATE supplier_info SET inn = '{_inn}' WHERE guid='{guid}'\")\n",
    "        conn.commit()\n",
    "        cur.close()\n",
    "\n",
    "    guids = supplier['guid'].tolist()\n",
    "    query_guids = list_to_query(guids)\n",
    "\n",
    "    cur = conn.cursor()\n",
    "    cur.execute(f\"UPDATE application SET supplier_guid = '{guid}' WHERE supplier_guid in ({query_guids})\")\n",
    "    conn.commit()\n",
    "    cur.close()"
   ],
   "metadata": {
    "collapsed": false,
    "pycharm": {
     "name": "#%%\n"
    }
   }
  },
  {
   "cell_type": "markdown",
   "source": [
    "### АО \"Фармация\"\n",
    "https://www.rusprofile.ru/id/1601224"
   ],
   "metadata": {
    "collapsed": false,
    "pycharm": {
     "name": "#%% md\n"
    }
   }
  },
  {
   "cell_type": "code",
   "execution_count": 53,
   "outputs": [],
   "source": [
    "names = ['АО \"Фармация\"', 'Акционерное общество \"Фармация\"']\n",
    "inn = \"7202157342\"\n",
    "fill_supplier_inn(names, inn)"
   ],
   "metadata": {
    "collapsed": false,
    "pycharm": {
     "name": "#%%\n"
    }
   }
  },
  {
   "cell_type": "markdown",
   "source": [
    "### АО «Медико-санитарная часть «Нефтяник»\n",
    "https://www.rusprofile.ru/id/145266"
   ],
   "metadata": {
    "collapsed": false,
    "pycharm": {
     "name": "#%% md\n"
    }
   }
  },
  {
   "cell_type": "code",
   "execution_count": 77,
   "outputs": [],
   "source": [
    "names = [\n",
    "    'АО «Медико-санитарная часть «Нефтяник»',\n",
    "    'АО \"Медико-санитарная часть \"Нефтяник\"',\n",
    "    'АО \"МСЧ \"Нефтяник\"',\n",
    "    'АО «Медико-санитарная часть «Нефтяник» '\n",
    "]\n",
    "inn = \"7202086042\"\n",
    "fill_supplier_inn(names, inn)"
   ],
   "metadata": {
    "collapsed": false,
    "pycharm": {
     "name": "#%%\n"
    }
   }
  },
  {
   "cell_type": "markdown",
   "source": [
    "### Акционерное общество «Лента»\n",
    "https://www.rusprofile.ru/id/1038748"
   ],
   "metadata": {
    "collapsed": false,
    "pycharm": {
     "name": "#%% md\n"
    }
   }
  },
  {
   "cell_type": "code",
   "execution_count": 58,
   "outputs": [],
   "source": [
    "names = ['Акционерное общество «Лента»']\n",
    "inn = \"2127008692\"\n",
    "fill_supplier_inn(names, inn)"
   ],
   "metadata": {
    "collapsed": false,
    "pycharm": {
     "name": "#%%\n"
    }
   }
  },
  {
   "cell_type": "markdown",
   "source": [
    "### ГАУЗ ТО \"ГОРОДСКАЯ ПОЛИКЛИНИКА №17\" (г.Тюмень)\n",
    "https://www.rusprofile.ru/id/2349989"
   ],
   "metadata": {
    "collapsed": false,
    "pycharm": {
     "name": "#%% md\n"
    }
   }
  },
  {
   "cell_type": "code",
   "execution_count": 59,
   "outputs": [],
   "source": [
    "names = ['ГАУЗ ТО \"ГОРОДСКАЯ ПОЛИКЛИНИКА №17\" (г.Тюмень)', 'ГАУЗ ТО \"Городская поликлиника №17\"']\n",
    "inn = \"7203116331\"\n",
    "fill_supplier_inn(names, inn)"
   ],
   "metadata": {
    "collapsed": false,
    "pycharm": {
     "name": "#%%\n"
    }
   }
  },
  {
   "cell_type": "markdown",
   "source": [
    "### ГАУЗ ТО «ОКБ №1»\n",
    "https://www.rusprofile.ru/id/9923137"
   ],
   "metadata": {
    "collapsed": false,
    "pycharm": {
     "name": "#%% md\n"
    }
   }
  },
  {
   "cell_type": "code",
   "execution_count": 81,
   "outputs": [],
   "source": [
    "names = [\n",
    "    'ГАУЗ ТО «ОКБ №1»',\n",
    "    'ГБУЗ ТО «ОКБ №1»               (г. Тюмень) ',\n",
    "    'ГБУЗ ТО \"ОБ №1\" г.Тюмень',\n",
    "    'ГБУЗ ТО \"ОКБ №1\" г.Тюмень',\n",
    "    'ГАУЗ ТО \"ОКБ №1\"',\n",
    "    'ГБУЗ ТО \"Областная клиническая больница №1\" г.Тюмени',\n",
    "    'ГБУЗ ТО \"Областная клиническая больница №1\"',\n",
    "    'Государственное бюджетное учреждение здравоохранения Тюменской области «Областная клиническая больница №1» ',\n",
    "    'ГБУЗ ТО \"ОКБ №1\"'\n",
    "]\n",
    "inn = \"7203000249\"\n",
    "fill_supplier_inn(names, inn)"
   ],
   "metadata": {
    "collapsed": false,
    "pycharm": {
     "name": "#%%\n"
    }
   }
  },
  {
   "cell_type": "markdown",
   "source": [
    "### Голенкова Маргарита Николаевна\n",
    "https://www.rusprofile.ru/ip/319325600000672"
   ],
   "metadata": {
    "collapsed": false,
    "pycharm": {
     "name": "#%% md\n"
    }
   }
  },
  {
   "cell_type": "code",
   "execution_count": 83,
   "outputs": [],
   "source": [
    "names = [\n",
    "    'ИП Голенкова М.Н.',\n",
    "    'Голенкова Маргарита Николаевна'\n",
    "]\n",
    "inn = \"323408634627\"\n",
    "fill_supplier_inn(names, inn)"
   ],
   "metadata": {
    "collapsed": false,
    "pycharm": {
     "name": "#%%\n"
    }
   }
  },
  {
   "cell_type": "markdown",
   "source": [
    "### Государственное автономное учреждение Республики Саха (Якутия) «Республиканская клиническая больница №3»\n",
    "https://www.rusprofile.ru/id/4119281"
   ],
   "metadata": {
    "collapsed": false,
    "pycharm": {
     "name": "#%% md\n"
    }
   }
  },
  {
   "cell_type": "code",
   "execution_count": 84,
   "outputs": [],
   "source": [
    "names = [\n",
    "    'Государственное автономное учреждение Республики Саха (Якутия) «Республиканская клиническая больница №3»',\n",
    "    'ГОСУДАРСТВЕННОЕ АВТОНОМНОЕ УЧРЕЖДЕНИЕ РЕСПУБЛИКИ САХА (ЯКУТИЯ) \"РЕСПУБЛИКАНСКАЯ КЛИНИЧЕСКАЯ БОЛЬНИЦА №3\"'\n",
    "]\n",
    "inn = \"1435024023\"\n",
    "fill_supplier_inn(names, inn)"
   ],
   "metadata": {
    "collapsed": false,
    "pycharm": {
     "name": "#%%\n"
    }
   }
  },
  {
   "cell_type": "markdown",
   "source": [
    "### ЗАО НПО «ГАРАНТ»\n",
    "https://www.rusprofile.ru/id/3061194"
   ],
   "metadata": {
    "collapsed": false,
    "pycharm": {
     "name": "#%% md\n"
    }
   }
  },
  {
   "cell_type": "code",
   "execution_count": 85,
   "outputs": [],
   "source": [
    "names = [\n",
    "    'ЗАО НПО «ГАРАНТ»',\n",
    "    'ЗАО НПО \"Гарант\"',\n",
    "    'ЗАО НПО «Гарант»'\n",
    "]\n",
    "inn = \"7716017505\"\n",
    "fill_supplier_inn(names, inn)"
   ],
   "metadata": {
    "collapsed": false,
    "pycharm": {
     "name": "#%%\n"
    }
   }
  },
  {
   "cell_type": "markdown",
   "source": [
    "### ИП Гарифуллин А.Н.\n",
    "https://www.rusprofile.ru/ip/317784700241060"
   ],
   "metadata": {
    "collapsed": false,
    "pycharm": {
     "name": "#%% md\n"
    }
   }
  },
  {
   "cell_type": "code",
   "execution_count": 86,
   "outputs": [],
   "source": [
    "names = [\n",
    "    'ИП Гарифуллин А.Н.',\n",
    "]\n",
    "inn = \"450132791601\"\n",
    "fill_supplier_inn(names, inn)"
   ],
   "metadata": {
    "collapsed": false,
    "pycharm": {
     "name": "#%%\n"
    }
   }
  },
  {
   "cell_type": "markdown",
   "source": [
    "### ИП Грицюк\n",
    "Без имени отчества не определить точно\n",
    "https://www.rusprofile.ru/ip/319774600160971\n",
    "https://www.rusprofile.ru/ip/315774600032550"
   ],
   "metadata": {
    "collapsed": false,
    "pycharm": {
     "name": "#%% md\n"
    }
   }
  },
  {
   "cell_type": "code",
   "execution_count": 91,
   "outputs": [],
   "source": [
    "names = ['ИП Грицюк']\n",
    "missed += names"
   ],
   "metadata": {
    "collapsed": false,
    "pycharm": {
     "name": "#%%\n"
    }
   }
  },
  {
   "cell_type": "markdown",
   "source": [
    "### ИП Резников Дмитрий Александрович\n",
    "Не определить точно\n",
    "https://www.rusprofile.ru/ip/321774600007587\n",
    "https://www.rusprofile.ru/ip/317723200001220"
   ],
   "metadata": {
    "collapsed": false,
    "pycharm": {
     "name": "#%% md\n"
    }
   }
  },
  {
   "cell_type": "code",
   "execution_count": 92,
   "outputs": [],
   "source": [
    "names = [\n",
    "    'ИП Резников Дмитрий Александрович '\n",
    "]\n",
    "missed += names"
   ],
   "metadata": {
    "collapsed": false,
    "pycharm": {
     "name": "#%%\n"
    }
   }
  },
  {
   "cell_type": "markdown",
   "source": [
    "### ИП Тороян Д.Ш.\n",
    "https://www.rusprofile.ru/ip/304720732900059"
   ],
   "metadata": {
    "collapsed": false,
    "pycharm": {
     "name": "#%% md\n"
    }
   }
  },
  {
   "cell_type": "code",
   "execution_count": 87,
   "outputs": [],
   "source": [
    "names = [\n",
    "    'ИП Тороян Дианна Шерамовна',\n",
    "    'ИП Тороян Д.Ш.',\n",
    "]\n",
    "inn = \"722800226122\"\n",
    "fill_supplier_inn(names, inn)"
   ],
   "metadata": {
    "collapsed": false,
    "pycharm": {
     "name": "#%%\n"
    }
   }
  },
  {
   "cell_type": "markdown",
   "source": [
    "### Индивидуальный предприниматель Ситников Максим Сергеевич\n",
    "Невозможно определить\n",
    "https://www.rusprofile.ru/ip/321440000015832\n",
    "https://www.rusprofile.ru/ip/321784700261540"
   ],
   "metadata": {
    "collapsed": false,
    "pycharm": {
     "name": "#%% md\n"
    }
   }
  },
  {
   "cell_type": "code",
   "execution_count": 94,
   "outputs": [],
   "source": [
    "names = [\n",
    "    'Индивидуальный предприниматель Ситников Максим Сергеевич '\n",
    "]\n",
    "missed += names"
   ],
   "metadata": {
    "collapsed": false,
    "pycharm": {
     "name": "#%%\n"
    }
   }
  },
  {
   "cell_type": "markdown",
   "source": [
    "### Индивидуальный предприниматель Солодкий Дмитрий Павлович\n",
    "https://www.rusprofile.ru/ip/310526008400032"
   ],
   "metadata": {
    "collapsed": false,
    "pycharm": {
     "name": "#%% md\n"
    }
   }
  },
  {
   "cell_type": "code",
   "execution_count": 95,
   "outputs": [],
   "source": [
    "names = [\n",
    "    'Индивидуальный предприниматель Солодкий Дмитрий Павлович'\n",
    "]\n",
    "inn = \"526098514448\"\n",
    "fill_supplier_inn(names, inn)"
   ],
   "metadata": {
    "collapsed": false,
    "pycharm": {
     "name": "#%%\n"
    }
   }
  },
  {
   "cell_type": "markdown",
   "source": [
    "### Индивидуальный предприниматель Тибирьков Сергей Евгеньевич\n",
    "https://www.rusprofile.ru/ip/314345725900031"
   ],
   "metadata": {
    "collapsed": false,
    "pycharm": {
     "name": "#%% md\n"
    }
   }
  },
  {
   "cell_type": "code",
   "execution_count": 96,
   "outputs": [],
   "source": [
    "names = [\n",
    "    'Тибирьков Сергей Евгеньевич',\n",
    "    'Индивидуальный предприниматель Тибирьков Сергей Евгеньевич'\n",
    "]\n",
    "inn = \"341700066482\"\n",
    "fill_supplier_inn(names, inn)"
   ],
   "metadata": {
    "collapsed": false,
    "pycharm": {
     "name": "#%%\n"
    }
   }
  },
  {
   "cell_type": "markdown",
   "source": [
    "### Общество с ограниченной ответственностью «Компания Экотех»\n",
    "https://www.rusprofile.ru/id/4872060"
   ],
   "metadata": {
    "collapsed": false,
    "pycharm": {
     "name": "#%% md\n"
    }
   }
  },
  {
   "cell_type": "code",
   "execution_count": 98,
   "outputs": [],
   "source": [
    "names = [\n",
    "    'Компания Экотех',\n",
    "    'Общество с ограниченной ответственностью «Компания Экотех»'\n",
    "]\n",
    "inn = \"7716681579\"\n",
    "fill_supplier_inn(names, inn)"
   ],
   "metadata": {
    "collapsed": false,
    "pycharm": {
     "name": "#%%\n"
    }
   }
  },
  {
   "cell_type": "markdown",
   "source": [
    "### ОБЩЕСТВО ОГРАНИЧЕННОЙ ОТВЕТСТВЕННОСТЬЮ \"Аква-сервис\"\n",
    "Невозможно определить\n",
    "https://www.rusprofile.ru/id/667040\n",
    "https://www.rusprofile.ru/id/6821822"
   ],
   "metadata": {
    "collapsed": false,
    "pycharm": {
     "name": "#%% md\n"
    }
   }
  },
  {
   "cell_type": "code",
   "execution_count": 99,
   "outputs": [],
   "source": [
    "names = [\n",
    "    'ОБЩЕСТВО ОГРАНИЧЕННОЙ ОТВЕТСТВЕННОСТЬЮ \"Аква-сервис\"'\n",
    "]\n",
    "missed += names"
   ],
   "metadata": {
    "collapsed": false,
    "pycharm": {
     "name": "#%%\n"
    }
   }
  },
  {
   "cell_type": "markdown",
   "source": [
    "### ОБЩЕСТВО ОГРАНИЧЕННОЙ ОТВЕТСТВЕННОСТЬЮ \"Визирь\"\n",
    "Невозможно определить\n",
    "https://www.rusprofile.ru/id/10642775\n",
    "https://www.rusprofile.ru/id/3755163"
   ],
   "metadata": {
    "collapsed": false,
    "pycharm": {
     "name": "#%% md\n"
    }
   }
  },
  {
   "cell_type": "code",
   "execution_count": 100,
   "outputs": [],
   "source": [
    "names = [\n",
    "    'ООО \"Визирь\"',\n",
    "    'ОБЩЕСТВО ОГРАНИЧЕННОЙ ОТВЕТСТВЕННОСТЬЮ \"Визирь\"'\n",
    "]\n",
    "missed += names"
   ],
   "metadata": {
    "collapsed": false,
    "pycharm": {
     "name": "#%%\n"
    }
   }
  },
  {
   "cell_type": "markdown",
   "source": [
    "### ОБЩЕСТВО ОГРАНИЧЕННОЙ ОТВЕТСТВЕННОСТЬЮ \"Лазаревка\"\n",
    "https://www.rusprofile.ru/id/5529710"
   ],
   "metadata": {
    "collapsed": false,
    "pycharm": {
     "name": "#%% md\n"
    }
   }
  },
  {
   "cell_type": "code",
   "execution_count": 102,
   "outputs": [],
   "source": [
    "names = [\n",
    "    'ООО \"Лазаревка\"',\n",
    "    'ОБЩЕСТВО ОГРАНИЧЕННОЙ ОТВЕТСТВЕННОСТЬЮ \"Лазаревка\"'\n",
    "]\n",
    "inn = \"7203267323\"\n",
    "fill_supplier_inn(names, inn)"
   ],
   "metadata": {
    "collapsed": false,
    "pycharm": {
     "name": "#%%\n"
    }
   }
  },
  {
   "cell_type": "markdown",
   "source": [
    "### ОБЩЕСТВО ОГРАНИЧЕННОЙ ОТВЕТСТВЕННОСТЬЮ \"ФармЛайн\"\n",
    "https://www.rusprofile.ru/id/3329982"
   ],
   "metadata": {
    "collapsed": false,
    "pycharm": {
     "name": "#%% md\n"
    }
   }
  },
  {
   "cell_type": "code",
   "execution_count": 135,
   "outputs": [],
   "source": [
    "names = [\n",
    "    'ОБЩЕСТВО ОГРАНИЧЕННОЙ ОТВЕТСТВЕННОСТЬЮ \"ФармЛайн\"',\n",
    "    'ООО \"ФармЛайн\"',\n",
    "    'ООО \"Фарм Лайн\"'\n",
    "]\n",
    "inn = \"7714511476\"\n",
    "fill_supplier_inn(names, inn)"
   ],
   "metadata": {
    "collapsed": false,
    "pycharm": {
     "name": "#%%\n"
    }
   }
  },
  {
   "cell_type": "markdown",
   "source": [
    "### ОБЩЕСТВО ОГРАНИЧЕННОЙ ОТВЕТСТВЕННОСТЬЮ \"ЮС ГРАНД\"\n",
    "https://www.rusprofile.ru/id/11908433"
   ],
   "metadata": {
    "collapsed": false,
    "pycharm": {
     "name": "#%% md\n"
    }
   }
  },
  {
   "cell_type": "code",
   "source": [
    "names = [\n",
    "    'ОБЩЕСТВО ОГРАНИЧЕННОЙ ОТВЕТСТВЕННОСТЬЮ \"ЮС ГРАНД\"',\n",
    "    'ОБЩЕСТВО С ОГРАНИЧЕННОЙ ОТВЕТСТВЕННОСТЬЮ \"ЮС ГРАНД\"',\n",
    "    'ОБЩЕСТВО ОГРАНИЧЕННОЙ ОТВЕТСТВЕННОСТЬЮ \"Юс Гранд\"',\n",
    "    'ООО «Юс Гранд»',\n",
    "    'Общество с ограниченной ответственностью \"ЮС ГРАНД\"',\n",
    "    'ООО \"ЮС Гранд\"'\n",
    "]\n",
    "inn = \"7203490314\"\n",
    "fill_supplier_inn(names, inn)"
   ],
   "metadata": {
    "collapsed": false,
    "pycharm": {
     "name": "#%%\n"
    }
   },
   "execution_count": 139,
   "outputs": []
  },
  {
   "cell_type": "markdown",
   "source": [
    "### ОБЩЕСТВО С ОГРАНИЧЕННОЙ ОТВЕТСТВЕННОСТЬЮ \"ТОРГОВАЯ ГРУППА \"МЯСНОЙ ДВОР\"\n",
    "https://www.rusprofile.ru/id/3768805"
   ],
   "metadata": {
    "collapsed": false,
    "pycharm": {
     "name": "#%% md\n"
    }
   }
  },
  {
   "cell_type": "code",
   "execution_count": 107,
   "outputs": [],
   "source": [
    "names = [\n",
    "    'ОБЩЕСТВО С ОГРАНИЧЕННОЙ ОТВЕТСТВЕННОСТЬЮ \"ТОРГОВАЯ ГРУППА \"МЯСНОЙ ДВОР\"',\n",
    "    'Общество с ограниченной ответственность «Торговая группа «Мясной двор»'\n",
    "]\n",
    "inn = \"5504071730\"\n",
    "fill_supplier_inn(names, inn)"
   ],
   "metadata": {
    "collapsed": false,
    "pycharm": {
     "name": "#%%\n"
    }
   }
  },
  {
   "cell_type": "markdown",
   "source": [
    "### ОБЩЕСТВО С ОГРАНИЧЕННОЙ ОТВЕТСТВЕННОСТЬЮ \"ЭНЕРГОСТРОЙ\"\n",
    "https://www.rusprofile.ru/id/7144463"
   ],
   "metadata": {
    "collapsed": false,
    "pycharm": {
     "name": "#%% md\n"
    }
   }
  },
  {
   "cell_type": "code",
   "execution_count": 108,
   "outputs": [],
   "source": [
    "names = [\n",
    "    'ОБЩЕСТВО С ОГРАНИЧЕННОЙ ОТВЕТСТВЕННОСТЬЮ \"ЭНЕРГОСТРОЙ\"',\n",
    "]\n",
    "inn = \"7733866971\"\n",
    "fill_supplier_inn(names, inn)"
   ],
   "metadata": {
    "collapsed": false,
    "pycharm": {
     "name": "#%%\n"
    }
   }
  },
  {
   "cell_type": "markdown",
   "source": [
    "### ООО \"АДР-Трафик\"\n",
    "https://www.rusprofile.ru/id/1207700376950"
   ],
   "metadata": {
    "collapsed": false,
    "pycharm": {
     "name": "#%% md\n"
    }
   }
  },
  {
   "cell_type": "code",
   "execution_count": 110,
   "outputs": [],
   "source": [
    "names = [\n",
    "    'ООО \"АДР-Трафик\"',\n",
    "]\n",
    "inn = \"9709066022\"\n",
    "fill_supplier_inn(names, inn)"
   ],
   "metadata": {
    "collapsed": false,
    "pycharm": {
     "name": "#%%\n"
    }
   }
  },
  {
   "cell_type": "markdown",
   "source": [
    "### ООО \"Аксиома БИО\"\n",
    "https://www.rusprofile.ru/id/7870899"
   ],
   "metadata": {
    "collapsed": false,
    "pycharm": {
     "name": "#%% md\n"
    }
   }
  },
  {
   "cell_type": "code",
   "execution_count": 112,
   "outputs": [],
   "source": [
    "names = [\n",
    "    'ООО \"Аксиома БИО\"',\n",
    "    'Общество с ограниченной ответственностью «АксиомаБИО»'\n",
    "]\n",
    "inn = \"7724330020\"\n",
    "fill_supplier_inn(names, inn)"
   ],
   "metadata": {
    "collapsed": false,
    "pycharm": {
     "name": "#%%\n"
    }
   }
  },
  {
   "cell_type": "markdown",
   "source": [
    "### ООО \"Альхон -Трейд\"\n",
    "https://www.rusprofile.ru/id/11614943"
   ],
   "metadata": {
    "collapsed": false,
    "pycharm": {
     "name": "#%% md\n"
    }
   }
  },
  {
   "cell_type": "code",
   "execution_count": 113,
   "outputs": [],
   "source": [
    "names = [\n",
    "    'ООО \"Альхон -Трейд\"',\n",
    "    'ООО «Альхон-Трейд»',\n",
    "    'Общество с ограниченной ответственностью \"Альхон-Трейд\"'\n",
    "]\n",
    "inn = \"7203462204\"\n",
    "fill_supplier_inn(names, inn)"
   ],
   "metadata": {
    "collapsed": false,
    "pycharm": {
     "name": "#%%\n"
    }
   }
  },
  {
   "cell_type": "markdown",
   "source": [
    "### ООО \"Альянс-Сервис\"\n",
    "https://www.rusprofile.ru/id/3785475"
   ],
   "metadata": {
    "collapsed": false,
    "pycharm": {
     "name": "#%% md\n"
    }
   }
  },
  {
   "cell_type": "code",
   "execution_count": 114,
   "outputs": [],
   "source": [
    "names = [\n",
    "    'ООО \"Альянс-Сервис\"'\n",
    "]\n",
    "inn = \"7710705784\"\n",
    "fill_supplier_inn(names, inn)"
   ],
   "metadata": {
    "collapsed": false,
    "pycharm": {
     "name": "#%%\n"
    }
   }
  },
  {
   "cell_type": "markdown",
   "source": [
    "### ООО \"ВЕРБА\"\n",
    "Невозможно определить\n",
    "https://www.rusprofile.ru/company/ooo-verba"
   ],
   "metadata": {
    "collapsed": false,
    "pycharm": {
     "name": "#%% md\n"
    }
   }
  },
  {
   "cell_type": "code",
   "execution_count": 115,
   "outputs": [],
   "source": [
    "names = [\n",
    "    'ООО \"ВЕРБА\"'\n",
    "]\n",
    "missed += names"
   ],
   "metadata": {
    "collapsed": false,
    "pycharm": {
     "name": "#%%\n"
    }
   }
  },
  {
   "cell_type": "markdown",
   "source": [
    "### ООО \"ВЭС\"\n",
    "Невозможно определить\n",
    "https://www.rusprofile.ru/id/5913281\n",
    "https://www.rusprofile.ru/id/3657772\n",
    "https://www.rusprofile.ru/id/3926182"
   ],
   "metadata": {
    "collapsed": false,
    "pycharm": {
     "name": "#%% md\n"
    }
   }
  },
  {
   "cell_type": "code",
   "execution_count": 117,
   "outputs": [],
   "source": [
    "names = [\n",
    "    'ООО \"ВЭС\"'\n",
    "]\n",
    "missed += names"
   ],
   "metadata": {
    "collapsed": false,
    "pycharm": {
     "name": "#%%\n"
    }
   }
  },
  {
   "cell_type": "markdown",
   "source": [
    "### ООО \"КомСпецТех\"\n",
    "Невозможно определить\n",
    "https://www.rusprofile.ru/id/6076474\n",
    "https://www.rusprofile.ru/id/3650602"
   ],
   "metadata": {
    "collapsed": false,
    "pycharm": {
     "name": "#%% md\n"
    }
   }
  },
  {
   "cell_type": "code",
   "execution_count": 118,
   "outputs": [],
   "source": [
    "names = [\n",
    "    'ООО \"КомСпецТех\"'\n",
    "]\n",
    "missed += names"
   ],
   "metadata": {
    "collapsed": false,
    "pycharm": {
     "name": "#%%\n"
    }
   }
  },
  {
   "cell_type": "markdown",
   "source": [
    "### ООО \"Лизоформ-СПб\"\n",
    "https://www.rusprofile.ru/id/973317"
   ],
   "metadata": {
    "collapsed": false,
    "pycharm": {
     "name": "#%% md\n"
    }
   }
  },
  {
   "cell_type": "code",
   "execution_count": 119,
   "outputs": [],
   "source": [
    "names = [\n",
    "    'ООО \"Лизоформ-СПб\"'\n",
    "]\n",
    "inn = \"7814108542\"\n",
    "fill_supplier_inn(names, inn)"
   ],
   "metadata": {
    "collapsed": false,
    "pycharm": {
     "name": "#%%\n"
    }
   }
  },
  {
   "cell_type": "markdown",
   "source": [
    "### ООО \"МедФарм\"\n",
    "Невозможно определить\n",
    "https://www.rusprofile.ru/id/7845896\n",
    "https://www.rusprofile.ru/id/10905675"
   ],
   "metadata": {
    "collapsed": false,
    "pycharm": {
     "name": "#%% md\n"
    }
   }
  },
  {
   "cell_type": "code",
   "execution_count": 120,
   "outputs": [],
   "source": [
    "names = [\n",
    "    'ООО \"МедФарм\"'\n",
    "]\n",
    "missed += names"
   ],
   "metadata": {
    "collapsed": false,
    "pycharm": {
     "name": "#%%\n"
    }
   }
  },
  {
   "cell_type": "markdown",
   "source": [
    "### ООО \"МедиАрт\"\n",
    "Невозможно определить\n",
    "https://www.rusprofile.ru/id/2738713\n",
    "https://www.rusprofile.ru/id/11854933"
   ],
   "metadata": {
    "collapsed": false,
    "pycharm": {
     "name": "#%% md\n"
    }
   }
  },
  {
   "cell_type": "code",
   "execution_count": 179,
   "outputs": [],
   "source": [
    "names = [\n",
    "    'ООО \"МедиАрт\"',\n",
    "    'ОБЩЕСТВО ОГРАНИЧЕННОЙ ОТВЕТСТВЕННОСТЬЮ \"МедиАрт\"',\n",
    "    'ООО\"МедиАрт\"'\n",
    "]\n",
    "missed += names"
   ],
   "metadata": {
    "collapsed": false,
    "pycharm": {
     "name": "#%%\n"
    }
   }
  },
  {
   "cell_type": "markdown",
   "source": [
    "### ООО \"Мединтелл\"\n",
    "https://www.rusprofile.ru/id/1571132"
   ],
   "metadata": {
    "collapsed": false,
    "pycharm": {
     "name": "#%% md\n"
    }
   }
  },
  {
   "cell_type": "code",
   "execution_count": 122,
   "outputs": [],
   "source": [
    "names = [\n",
    "    'Общество с ограниченной ответственностью \"Мединтелл\"',\n",
    "    'ООО \"Мединтелл\"',\n",
    "    'ООО «Мединтелл»',\n",
    "    'Общество с ограниченной ответственностью «Мединтелл»',\n",
    "    'ООО \"Мединтел\"'\n",
    "]\n",
    "inn = \"7202062972\"\n",
    "fill_supplier_inn(names, inn)"
   ],
   "metadata": {
    "collapsed": false,
    "pycharm": {
     "name": "#%%\n"
    }
   }
  },
  {
   "cell_type": "markdown",
   "source": [
    "### ООО \"Морозко\"\n",
    "https://www.rusprofile.ru/id/1103928"
   ],
   "metadata": {
    "collapsed": false,
    "pycharm": {
     "name": "#%% md\n"
    }
   }
  },
  {
   "cell_type": "code",
   "execution_count": 124,
   "outputs": [],
   "source": [
    "names = [\n",
    "    'ООО \"Морозко\"'\n",
    "]\n",
    "inn = \"7728024000\"\n",
    "fill_supplier_inn(names, inn)"
   ],
   "metadata": {
    "collapsed": false,
    "pycharm": {
     "name": "#%%\n"
    }
   }
  },
  {
   "cell_type": "markdown",
   "source": [
    "### ОБЩЕСТВО С ОГРАНИЧЕННОЙ ОТВЕТСТВЕННОСТЬЮ \"ПРАЙДГРУПП ДВ\"\n",
    "https://www.rusprofile.ru/id/11849977"
   ],
   "metadata": {
    "collapsed": false,
    "pycharm": {
     "name": "#%% md\n"
    }
   }
  },
  {
   "cell_type": "code",
   "execution_count": 126,
   "outputs": [],
   "source": [
    "names = [\n",
    "    'ООО \"ППАЙДГРУПП ДВ\"'\n",
    "]\n",
    "inn = \"2723206455\"\n",
    "fill_supplier_inn(names, inn)"
   ],
   "metadata": {
    "collapsed": false,
    "pycharm": {
     "name": "#%%\n"
    }
   }
  },
  {
   "cell_type": "markdown",
   "source": [
    "### ООО \"ПрофЭнерго\"\n",
    "Невозможно определить\n",
    "https://www.rusprofile.ru/id/9458634\n",
    "https://www.rusprofile.ru/id/10501997"
   ],
   "metadata": {
    "collapsed": false,
    "pycharm": {
     "name": "#%% md\n"
    }
   }
  },
  {
   "cell_type": "code",
   "execution_count": 127,
   "outputs": [],
   "source": [
    "names = [\n",
    "    'ООО \"ПрофЭнерго\"'\n",
    "]\n",
    "missed += names"
   ],
   "metadata": {
    "collapsed": false,
    "pycharm": {
     "name": "#%%\n"
    }
   }
  },
  {
   "cell_type": "markdown",
   "source": [
    "### ООО \"СВ-Инжиниринг М\"\n",
    "https://www.rusprofile.ru/id/11134082"
   ],
   "metadata": {
    "collapsed": false,
    "pycharm": {
     "name": "#%% md\n"
    }
   }
  },
  {
   "cell_type": "code",
   "execution_count": 128,
   "outputs": [],
   "source": [
    "names = [\n",
    "    'Общество с ограниченной ответственностью «СВ-Инжиниринг М» ',\n",
    "    'ООО \"СВ-Инжиниринг М\"'\n",
    "]\n",
    "inn = \"7733322643\"\n",
    "fill_supplier_inn(names, inn)"
   ],
   "metadata": {
    "collapsed": false,
    "pycharm": {
     "name": "#%%\n"
    }
   }
  },
  {
   "cell_type": "markdown",
   "source": [
    "### ООО \"СибПромГаз\"\n",
    "Невозможно определить\n",
    "https://www.rusprofile.ru/id/3794392\n",
    "https://www.rusprofile.ru/id/1205400028239"
   ],
   "metadata": {
    "collapsed": false,
    "pycharm": {
     "name": "#%% md\n"
    }
   }
  },
  {
   "cell_type": "code",
   "execution_count": 129,
   "outputs": [],
   "source": [
    "names = [\n",
    "    'ООО \"СибПромГаз\"'\n",
    "]\n",
    "missed += names"
   ],
   "metadata": {
    "collapsed": false,
    "pycharm": {
     "name": "#%%\n"
    }
   }
  },
  {
   "cell_type": "markdown",
   "source": [
    "### ООО \"ТПК \"ПЛОДОРОДИЕ\"\n",
    "https://www.rusprofile.ru/id/7850830"
   ],
   "metadata": {
    "collapsed": false,
    "pycharm": {
     "name": "#%% md\n"
    }
   }
  },
  {
   "cell_type": "code",
   "execution_count": 131,
   "outputs": [],
   "source": [
    "names = [\n",
    "    'ООО \"ТПК \"ПЛОДОРОДИЕ\"',\n",
    "    'ОБЩЕСТВО С ОГРАНИЧЕННОЙ ОТВЕТСТВЕННОСТЬЮ \"ТПК \"ПЛОДОРОДИЕ\"',\n",
    "    'ОБЩЕСТВО С ОГРАНИЧЕННОЙ ОТВЕТСТВЕННОСТЬЮ ТОРГОВО-ПРОИЗВОДСТВЕННАЯ КОМПАНИЯ \"ПЛОДОРОДИЕ\"'\n",
    "]\n",
    "inn = \"7203357513\"\n",
    "fill_supplier_inn(names, inn)"
   ],
   "metadata": {
    "collapsed": false,
    "pycharm": {
     "name": "#%%\n"
    }
   }
  },
  {
   "cell_type": "markdown",
   "source": [
    "### ООО \"Тюменское АТП\"\n",
    "https://www.rusprofile.ru/id/4261942"
   ],
   "metadata": {
    "collapsed": false,
    "pycharm": {
     "name": "#%% md\n"
    }
   }
  },
  {
   "cell_type": "code",
   "execution_count": 133,
   "outputs": [],
   "source": [
    "names = [\n",
    "    'ООО \"Тюменское АТП\"',\n",
    "    'ООО \"Тюменское автотранспортное предприятие\"'\n",
    "]\n",
    "inn = \"7203141970\"\n",
    "fill_supplier_inn(names, inn)"
   ],
   "metadata": {
    "collapsed": false,
    "pycharm": {
     "name": "#%%\n"
    }
   }
  },
  {
   "cell_type": "markdown",
   "source": [
    "### ООО \"Универсал\"\n",
    "Невозможно определить\n",
    "https://www.rusprofile.ru/id/7313341\n",
    "https://www.rusprofile.ru/id/1217700123695\n",
    "https://www.rusprofile.ru/id/10357015"
   ],
   "metadata": {
    "collapsed": false,
    "pycharm": {
     "name": "#%% md\n"
    }
   }
  },
  {
   "cell_type": "code",
   "execution_count": 134,
   "outputs": [],
   "source": [
    "names = [\n",
    "    'ООО \"Универсал\"'\n",
    "]\n",
    "missed += names"
   ],
   "metadata": {
    "collapsed": false,
    "pycharm": {
     "name": "#%%\n"
    }
   }
  },
  {
   "cell_type": "markdown",
   "source": [
    "### ООО \"Фармплюс\"\n",
    "https://www.rusprofile.ru/id/11907388"
   ],
   "metadata": {
    "collapsed": false,
    "pycharm": {
     "name": "#%% md\n"
    }
   }
  },
  {
   "cell_type": "code",
   "execution_count": 136,
   "outputs": [],
   "source": [
    "names = [\n",
    "    'ООО «Фармплюс»',\n",
    "    'ООО \"Фармплюс\"'\n",
    "]\n",
    "inn = \"6658529147\"\n",
    "fill_supplier_inn(names, inn)"
   ],
   "metadata": {
    "collapsed": false,
    "pycharm": {
     "name": "#%%\n"
    }
   }
  },
  {
   "cell_type": "markdown",
   "source": [
    "### ООО \"Энергосервиис\"\n",
    "Невозможно определить\n",
    "https://www.rusprofile.ru/id/5444108\n",
    "https://www.rusprofile.ru/id/5850085"
   ],
   "metadata": {
    "collapsed": false,
    "pycharm": {
     "name": "#%% md\n"
    }
   }
  },
  {
   "cell_type": "code",
   "execution_count": 137,
   "outputs": [],
   "source": [
    "names = [\n",
    "    'ООО \"Энергосервиис\"'\n",
    "]\n",
    "missed += names"
   ],
   "metadata": {
    "collapsed": false,
    "pycharm": {
     "name": "#%%\n"
    }
   }
  },
  {
   "cell_type": "markdown",
   "source": [
    "### ООО \"Лаборатория Медилис\"\n",
    "https://www.rusprofile.ru/id/341280"
   ],
   "metadata": {
    "collapsed": false,
    "pycharm": {
     "name": "#%% md\n"
    }
   }
  },
  {
   "cell_type": "code",
   "execution_count": 141,
   "outputs": [],
   "source": [
    "names = [\n",
    "    'ООО \"Лаборатория МедиЛИС\"',\n",
    "    'ООО 2лаборатория МедиЛИС\"'\n",
    "]\n",
    "inn = \"7726625051\"\n",
    "fill_supplier_inn(names, inn)"
   ],
   "metadata": {
    "collapsed": false,
    "pycharm": {
     "name": "#%%\n"
    }
   }
  },
  {
   "cell_type": "markdown",
   "source": [
    "### ООО «1П Технолоджиз»\n",
    "https://www.rusprofile.ru/id/6908865"
   ],
   "metadata": {
    "collapsed": false,
    "pycharm": {
     "name": "#%% md\n"
    }
   }
  },
  {
   "cell_type": "code",
   "execution_count": 143,
   "outputs": [],
   "source": [
    "names = [\n",
    "    'ООО \"1П Технолоджиз\"',\n",
    "    'ООО «1П Технолоджиз»',\n",
    "    'ОБЩЕСТВО С ОГРАНИЧЕННОЙ ОТВЕТСТВЕННОСТЬЮ \"1П ТЕХНОЛОДЖИЗ\"'\n",
    "]\n",
    "inn = \"7714905135\"\n",
    "fill_supplier_inn(names, inn)"
   ],
   "metadata": {
    "collapsed": false,
    "pycharm": {
     "name": "#%%\n"
    }
   }
  },
  {
   "cell_type": "markdown",
   "source": [
    "### ООО «Альянс-Сервис Салават»\n",
    "https://www.rusprofile.ru/id/11964696"
   ],
   "metadata": {
    "collapsed": false,
    "pycharm": {
     "name": "#%% md\n"
    }
   }
  },
  {
   "cell_type": "code",
   "execution_count": 145,
   "outputs": [],
   "source": [
    "names = [\n",
    "    'ООО «Альянс-Сервис Салават»',\n",
    "    'ОБЩЕСТВО С ОГРАНИЧЕННОЙ ОТВЕТСТВЕННОСТЬЮ \"АЛЬЯНС-СЕРВИС САЛАВАТ\"'\n",
    "]\n",
    "inn = \"0274953083\"\n",
    "fill_supplier_inn(names, inn)"
   ],
   "metadata": {
    "collapsed": false,
    "pycharm": {
     "name": "#%%\n"
    }
   }
  },
  {
   "cell_type": "markdown",
   "source": [
    "### ООО «Диагностические системы-Урал»\n",
    "https://www.rusprofile.ru/id/6584165"
   ],
   "metadata": {
    "collapsed": false,
    "pycharm": {
     "name": "#%% md\n"
    }
   }
  },
  {
   "cell_type": "code",
   "execution_count": 146,
   "outputs": [],
   "source": [
    "names = [\n",
    "    'ООО \"Диагностические системы-Урал\"',\n",
    "    'ООО «Диагностические системы-Урал»'\n",
    "]\n",
    "inn = \"6685024025\"\n",
    "fill_supplier_inn(names, inn)"
   ],
   "metadata": {
    "collapsed": false,
    "pycharm": {
     "name": "#%%\n"
    }
   }
  },
  {
   "cell_type": "markdown",
   "source": [
    "### ООО «Евроген Лаб»\n",
    "https://www.rusprofile.ru/id/2904166"
   ],
   "metadata": {
    "collapsed": false,
    "pycharm": {
     "name": "#%% md\n"
    }
   }
  },
  {
   "cell_type": "code",
   "execution_count": 147,
   "outputs": [],
   "source": [
    "names = [\n",
    "    'ООО \"Евроген Лаб\"',\n",
    "    'ООО «Евроген Лаб»'\n",
    "]\n",
    "inn = \"7728650342\"\n",
    "fill_supplier_inn(names, inn)"
   ],
   "metadata": {
    "collapsed": false,
    "pycharm": {
     "name": "#%%\n"
    }
   }
  },
  {
   "cell_type": "markdown",
   "source": [
    "### ООО «МЕДИКОМ»\n",
    "Невозможно определить\n",
    "https://www.rusprofile.ru/id/4005650\n",
    "https://www.rusprofile.ru/id/4334735"
   ],
   "metadata": {
    "collapsed": false,
    "pycharm": {
     "name": "#%% md\n"
    }
   }
  },
  {
   "cell_type": "code",
   "execution_count": 149,
   "outputs": [],
   "source": [
    "names = [\n",
    "    'ООО «МЕДИКОМ» '\n",
    "]\n",
    "missed += names"
   ],
   "metadata": {
    "collapsed": false,
    "pycharm": {
     "name": "#%%\n"
    }
   }
  },
  {
   "cell_type": "markdown",
   "source": [
    "### ООО «МедПартнер»\n",
    "Невозможно определить\n",
    "https://www.rusprofile.ru/id/11930686\n",
    "https://www.rusprofile.ru/id/7764744"
   ],
   "metadata": {
    "collapsed": false,
    "pycharm": {
     "name": "#%% md\n"
    }
   }
  },
  {
   "cell_type": "code",
   "execution_count": 151,
   "outputs": [],
   "source": [
    "names = [\n",
    "    'ООО «МедПартнер»'\n",
    "]\n",
    "missed += names"
   ],
   "metadata": {
    "collapsed": false,
    "pycharm": {
     "name": "#%%\n"
    }
   }
  },
  {
   "cell_type": "markdown",
   "source": [
    "### ООО «НХРС»\n",
    "https://www.rusprofile.ru/id/1877388"
   ],
   "metadata": {
    "collapsed": false,
    "pycharm": {
     "name": "#%% md\n"
    }
   }
  },
  {
   "cell_type": "code",
   "execution_count": 152,
   "outputs": [],
   "source": [
    "names = [\n",
    "    'ООО «НХРС',\n",
    "    'ООО «НХРС»',\n",
    "    'ООО «НХРС» ',\n",
    "    'ООО «НХРС»,',\n",
    "    'ООО НХРС'\n",
    "]\n",
    "inn = \"6125028059\"\n",
    "fill_supplier_inn(names, inn)"
   ],
   "metadata": {
    "collapsed": false,
    "pycharm": {
     "name": "#%%\n"
    }
   }
  },
  {
   "cell_type": "markdown",
   "source": [
    "### ООО «Научно-методический центр клинической лабораторной диагностики Ситилаб»\n",
    "https://www.rusprofile.ru/id/5417508"
   ],
   "metadata": {
    "collapsed": false,
    "pycharm": {
     "name": "#%% md\n"
    }
   }
  },
  {
   "cell_type": "code",
   "execution_count": 154,
   "outputs": [],
   "source": [
    "names = [\n",
    "    'ООО «Научно-методический центр клинической лабораторной диагностики Ситилаб»',\n",
    "    'ОБЩЕСТВО С ОГРАНИЧЕННОЙ ОТВЕТСТВЕННОСТЬЮ \"НАУЧНО-МЕТОДИЧЕСКИЙ ЦЕНТР КЛИНИЧЕСКОЙ ЛАБОРАТОРНОЙ ДИАГНОСТИКИ СИТИЛАБ\"'\n",
    "]\n",
    "inn = \"7714822471\"\n",
    "fill_supplier_inn(names, inn)"
   ],
   "metadata": {
    "collapsed": false,
    "pycharm": {
     "name": "#%%\n"
    }
   }
  },
  {
   "cell_type": "markdown",
   "source": [
    "### ООО «РТК-Инвест\n",
    "https://www.rusprofile.ru/id/11471403"
   ],
   "metadata": {
    "collapsed": false,
    "pycharm": {
     "name": "#%% md\n"
    }
   }
  },
  {
   "cell_type": "code",
   "execution_count": 156,
   "outputs": [],
   "source": [
    "names = [\n",
    "    'ООО «РТК-Инвест  ',\n",
    "    'ООО «РТК-Инвест»',\n",
    "    'ОБЩЕСТВО С ОГРАНИЧЕННОЙ ОТВЕТСТВЕННОСТЬЮ \"РТК-ИНВЕСТ\"'\n",
    "]\n",
    "inn = \"7726434025\"\n",
    "fill_supplier_inn(names, inn)"
   ],
   "metadata": {
    "collapsed": false,
    "pycharm": {
     "name": "#%%\n"
    }
   }
  },
  {
   "cell_type": "markdown",
   "source": [
    "### ООО \" Русал Медицинский Центр \"\n",
    "https://www.rusprofile.ru/id/225224"
   ],
   "metadata": {
    "collapsed": false,
    "pycharm": {
     "name": "#%% md\n"
    }
   }
  },
  {
   "cell_type": "code",
   "execution_count": 157,
   "outputs": [],
   "source": [
    "names = [\n",
    "    'ООО «РУСАЛ Медицинский Центр»'\n",
    "]\n",
    "inn = \"2465094460\"\n",
    "fill_supplier_inn(names, inn)"
   ],
   "metadata": {
    "collapsed": false,
    "pycharm": {
     "name": "#%%\n"
    }
   }
  },
  {
   "cell_type": "markdown",
   "source": [
    "### ООО «Радника»\n",
    "https://www.rusprofile.ru/id/6709045"
   ],
   "metadata": {
    "collapsed": false,
    "pycharm": {
     "name": "#%% md\n"
    }
   }
  },
  {
   "cell_type": "code",
   "execution_count": 158,
   "outputs": [],
   "source": [
    "names = [\n",
    "    'ООО «Радника»'\n",
    "]\n",
    "inn = \"2543023195\"\n",
    "fill_supplier_inn(names, inn)"
   ],
   "metadata": {
    "collapsed": false,
    "pycharm": {
     "name": "#%%\n"
    }
   }
  },
  {
   "cell_type": "markdown",
   "source": [
    "### ООО «СТАТУС-РЕГИОН»\n",
    "Невозможно определить\n",
    "https://www.rusprofile.ru/id/3115817\n",
    "https://www.rusprofile.ru/id/11703691"
   ],
   "metadata": {
    "collapsed": false,
    "pycharm": {
     "name": "#%% md\n"
    }
   }
  },
  {
   "cell_type": "code",
   "execution_count": 159,
   "outputs": [],
   "source": [
    "names = [\n",
    "    'ООО «СТАТУС-РЕГИОН»'\n",
    "]\n",
    "missed += names"
   ],
   "metadata": {
    "collapsed": false,
    "pycharm": {
     "name": "#%%\n"
    }
   }
  },
  {
   "cell_type": "markdown",
   "source": [
    "### ООО Авиа-1\n",
    "https://www.rusprofile.ru/id/11221940"
   ],
   "metadata": {
    "collapsed": false,
    "pycharm": {
     "name": "#%% md\n"
    }
   }
  },
  {
   "cell_type": "code",
   "execution_count": 161,
   "outputs": [],
   "source": [
    "names = [\n",
    "    'ООО Авиа-1'\n",
    "]\n",
    "inn = \"9705111387\"\n",
    "fill_supplier_inn(names, inn)"
   ],
   "metadata": {
    "collapsed": false,
    "pycharm": {
     "name": "#%%\n"
    }
   }
  },
  {
   "cell_type": "markdown",
   "source": [
    "### ООО Апоцентр\n",
    "Невозможно определить\n",
    "https://www.rusprofile.ru/id/1784630\n",
    "https://www.rusprofile.ru/id/301648"
   ],
   "metadata": {
    "collapsed": false,
    "pycharm": {
     "name": "#%% md\n"
    }
   }
  },
  {
   "cell_type": "code",
   "execution_count": 162,
   "outputs": [],
   "source": [
    "names = [\n",
    "    'ООО Апоцентр'\n",
    "]\n",
    "missed += names"
   ],
   "metadata": {
    "collapsed": false,
    "pycharm": {
     "name": "#%%\n"
    }
   }
  },
  {
   "cell_type": "markdown",
   "source": [
    "### ООО ДНК Технология\n",
    "https://www.rusprofile.ru/id/2749627"
   ],
   "metadata": {
    "collapsed": false,
    "pycharm": {
     "name": "#%% md\n"
    }
   }
  },
  {
   "cell_type": "code",
   "execution_count": 163,
   "outputs": [],
   "source": [
    "names = [\n",
    "    'ООО \"ДНК-Технология\"',\n",
    "    'ООО ДНК Технология',\n",
    "    'ООО ДНК-Технология'\n",
    "]\n",
    "inn = \"7723537840\"\n",
    "fill_supplier_inn(names, inn)"
   ],
   "metadata": {
    "collapsed": false,
    "pycharm": {
     "name": "#%%\n"
    }
   }
  },
  {
   "cell_type": "markdown",
   "source": [
    "### ООО ИнтерЛабСервис\n",
    "https://www.rusprofile.ru/id/630939"
   ],
   "metadata": {
    "collapsed": false,
    "pycharm": {
     "name": "#%% md\n"
    }
   }
  },
  {
   "cell_type": "code",
   "execution_count": 165,
   "outputs": [],
   "source": [
    "names = [\n",
    "    'ОБЩЕСТВО С ОГРАНИЧЕННОЙ ОТВЕТСТВЕННОСТЬЮ \"ИНТЕРЛАБСЕРВИС\"',\n",
    "    'ООО  \"ИнтерЛабСервис\"',\n",
    "    'ООО \"ИнтерЛабСервис\"',\n",
    "    'ООО ИнтерЛабСервис'\n",
    "]\n",
    "inn = \"7720263905\"\n",
    "fill_supplier_inn(names, inn)"
   ],
   "metadata": {
    "collapsed": false,
    "pycharm": {
     "name": "#%%\n"
    }
   }
  },
  {
   "cell_type": "markdown",
   "source": [
    "### ООО Компания ПанЭко\n",
    "https://www.rusprofile.ru/id/3562008"
   ],
   "metadata": {
    "collapsed": false,
    "pycharm": {
     "name": "#%% md\n"
    }
   }
  },
  {
   "cell_type": "code",
   "execution_count": 167,
   "outputs": [],
   "source": [
    "names = [\n",
    "    'ООО Компания ПанЭко',\n",
    "    'ОБЩЕСТВО С ОГРАНИЧЕННОЙ ОТВЕТСТВЕННОСТЬЮ \"КОМПАНИЯ \"ПАНЭКО\"'\n",
    "]\n",
    "inn = \"7723613788\"\n",
    "fill_supplier_inn(names, inn)"
   ],
   "metadata": {
    "collapsed": false,
    "pycharm": {
     "name": "#%%\n"
    }
   }
  },
  {
   "cell_type": "markdown",
   "source": [
    "### ООО НПП \"Ареал\"\n",
    "https://www.rusprofile.ru/id/10638707"
   ],
   "metadata": {
    "collapsed": false,
    "pycharm": {
     "name": "#%% md\n"
    }
   }
  },
  {
   "cell_type": "code",
   "execution_count": 169,
   "outputs": [],
   "source": [
    "names = [\n",
    "    'ООО НПП \"Ареал\"',\n",
    "    'ОБЩЕСТВО С ОГРАНИЧЕННОЙ ОТВЕТСТВЕННОСТЬЮ НАУЧНО-ПРОИЗВОДСТВЕННОЕ ПРЕДПРИЯТИЕ \"АРЕАЛ\"',\n",
    "    'ООО НПП \"АРЕАЛ\"'\n",
    "]\n",
    "inn = \"0277915495\"\n",
    "fill_supplier_inn(names, inn)"
   ],
   "metadata": {
    "collapsed": false,
    "pycharm": {
     "name": "#%%\n"
    }
   }
  },
  {
   "cell_type": "markdown",
   "source": [
    "### ООО Ормет\n",
    "https://www.rusprofile.ru/id/4214586"
   ],
   "metadata": {
    "collapsed": false,
    "pycharm": {
     "name": "#%% md\n"
    }
   }
  },
  {
   "cell_type": "code",
   "execution_count": 171,
   "outputs": [],
   "source": [
    "names = [\n",
    "    'ООО Ормет'\n",
    "]\n",
    "inn = \"7704547804\"\n",
    "fill_supplier_inn(names, inn)"
   ],
   "metadata": {
    "collapsed": false,
    "pycharm": {
     "name": "#%%\n"
    }
   }
  },
  {
   "cell_type": "markdown",
   "source": [
    "### ООО Растер\n",
    "https://www.rusprofile.ru/id/3295495"
   ],
   "metadata": {
    "collapsed": false,
    "pycharm": {
     "name": "#%% md\n"
    }
   }
  },
  {
   "cell_type": "code",
   "execution_count": 172,
   "outputs": [],
   "source": [
    "names = [\n",
    "    'ООО \"Растер\"',\n",
    "    'ООО Растер'\n",
    "]\n",
    "inn = \"6658037917\"\n",
    "fill_supplier_inn(names, inn)"
   ],
   "metadata": {
    "collapsed": false,
    "pycharm": {
     "name": "#%%\n"
    }
   }
  },
  {
   "cell_type": "markdown",
   "source": [
    "### ООО Торговый Дом «Артекс»\n",
    "https://www.rusprofile.ru/id/7899899"
   ],
   "metadata": {
    "collapsed": false,
    "pycharm": {
     "name": "#%% md\n"
    }
   }
  },
  {
   "cell_type": "code",
   "execution_count": 174,
   "outputs": [],
   "source": [
    "names = [\n",
    "    'ООО Торговый Дом «Артекс» ',\n",
    "    'ОБЩЕСТВО С ОГРАНИЧЕННОЙ ОТВЕТСТВЕННОСТЬЮ ТОРГОВЫЙ ДОМ \"АРТЕКС\"'\n",
    "]\n",
    "inn = \"3702121280\"\n",
    "fill_supplier_inn(names, inn)"
   ],
   "metadata": {
    "collapsed": false,
    "pycharm": {
     "name": "#%%\n"
    }
   }
  },
  {
   "cell_type": "markdown",
   "source": [
    "### ООО Элтемикс\n",
    "https://www.rusprofile.ru/id/7446829"
   ],
   "metadata": {
    "collapsed": false,
    "pycharm": {
     "name": "#%% md\n"
    }
   }
  },
  {
   "cell_type": "code",
   "execution_count": 175,
   "outputs": [],
   "source": [
    "names = [\n",
    "    'Общество с ограниченной ответственностью «Элтемикс»',\n",
    "    'ООО Элтемикс'\n",
    "]\n",
    "inn = \"3666197034\"\n",
    "fill_supplier_inn(names, inn)"
   ],
   "metadata": {
    "collapsed": false,
    "pycharm": {
     "name": "#%%\n"
    }
   }
  },
  {
   "cell_type": "markdown",
   "source": [
    "### ООО Юго-Запад\n",
    "Невозможно определить\n",
    "https://www.rusprofile.ru/id/6909642\n",
    "https://www.rusprofile.ru/id/2169570"
   ],
   "metadata": {
    "collapsed": false,
    "pycharm": {
     "name": "#%% md\n"
    }
   }
  },
  {
   "cell_type": "code",
   "execution_count": 176,
   "outputs": [],
   "source": [
    "names = [\n",
    "    'ООО Юго-Запад'\n",
    "]\n",
    "missed += names"
   ],
   "metadata": {
    "collapsed": false,
    "pycharm": {
     "name": "#%%\n"
    }
   }
  },
  {
   "cell_type": "markdown",
   "source": [
    "### ООО фирма «Тритон-ЭлектроникС»  г. Екатеринбург\n",
    "https://www.rusprofile.ru/id/2415060"
   ],
   "metadata": {
    "collapsed": false,
    "pycharm": {
     "name": "#%% md\n"
    }
   }
  },
  {
   "cell_type": "code",
   "execution_count": 177,
   "outputs": [],
   "source": [
    "names = [\n",
    "    'ООО фирма «Тритон-ЭлектроникС»  г. Екатеринбург'\n",
    "]\n",
    "inn = \"6659005570\"\n",
    "fill_supplier_inn(names, inn)"
   ],
   "metadata": {
    "collapsed": false,
    "pycharm": {
     "name": "#%%\n"
    }
   }
  },
  {
   "cell_type": "markdown",
   "source": [
    "### ООО\"Экострой\"\n",
    "https://www.rusprofile.ru/id/7116995"
   ],
   "metadata": {
    "collapsed": false,
    "pycharm": {
     "name": "#%% md\n"
    }
   }
  },
  {
   "cell_type": "code",
   "execution_count": 182,
   "outputs": [],
   "source": [
    "names = [\n",
    "    'ООО \"Экострой\"',\n",
    "    'ООО\"Экострой\"',\n",
    "    'Общество с ограниченной ответственностью “Экострой”'\n",
    "]\n",
    "inn = \"5032269606\"\n",
    "fill_supplier_inn(names, inn)"
   ],
   "metadata": {
    "collapsed": false,
    "pycharm": {
     "name": "#%%\n"
    }
   }
  },
  {
   "cell_type": "markdown",
   "source": [
    "### Общество с ограниченной ответственностью «МЕДИПАЛ-ОНКО»\n",
    "https://www.rusprofile.ru/id/879084"
   ],
   "metadata": {
    "collapsed": false,
    "pycharm": {
     "name": "#%% md\n"
    }
   }
  },
  {
   "cell_type": "code",
   "execution_count": 184,
   "outputs": [],
   "source": [
    "names = [\n",
    "    'Общество с ограниченной ответственностью         «МЕДИПАЛ-ОНКО»',\n",
    "    'ООО \"Медипал-Онко\" ',\n",
    "    'Общество с ограниченной ответственностью «Медипал-онко»',\n",
    "    'Общество с ограниченной ответственностью «Медипал-ОНКО»'\n",
    "]\n",
    "inn = \"7701213835\"\n",
    "fill_supplier_inn(names, inn)"
   ],
   "metadata": {
    "collapsed": false,
    "pycharm": {
     "name": "#%%\n"
    }
   }
  },
  {
   "cell_type": "markdown",
   "source": [
    "### Общество с ограниченной ответственностью \"ОллНэт\"\n",
    "https://www.rusprofile.ru/id/2514066"
   ],
   "metadata": {
    "collapsed": false,
    "pycharm": {
     "name": "#%% md\n"
    }
   }
  },
  {
   "cell_type": "code",
   "execution_count": 185,
   "outputs": [],
   "source": [
    "names = [\n",
    "    'Общество с ограниченной ответственностью \"ОллНэт\"',\n",
    "    'ООО \"ОллНэт\"'\n",
    "]\n",
    "inn = \"5047111570\"\n",
    "fill_supplier_inn(names, inn)"
   ],
   "metadata": {
    "collapsed": false,
    "pycharm": {
     "name": "#%%\n"
    }
   }
  },
  {
   "cell_type": "markdown",
   "source": [
    "### Общество с ограниченной ответственностью «БионаФарм»\n",
    "https://www.rusprofile.ru/id/235398"
   ],
   "metadata": {
    "collapsed": false,
    "pycharm": {
     "name": "#%% md\n"
    }
   }
  },
  {
   "cell_type": "code",
   "execution_count": 186,
   "outputs": [],
   "source": [
    "names = [\n",
    "    'Общество с ограниченной ответственностью «БионаФарм»',\n",
    "    'ООО \"БионаФарм\"'\n",
    "]\n",
    "inn = \"7725628067\"\n",
    "fill_supplier_inn(names, inn)"
   ],
   "metadata": {
    "collapsed": false,
    "pycharm": {
     "name": "#%%\n"
    }
   }
  },
  {
   "cell_type": "markdown",
   "source": [
    "### Общество с ограниченной ответственностью «Виталон»\n",
    "https://www.rusprofile.ru/id/10830392"
   ],
   "metadata": {
    "collapsed": false,
    "pycharm": {
     "name": "#%% md\n"
    }
   }
  },
  {
   "cell_type": "code",
   "execution_count": 188,
   "outputs": [],
   "source": [
    "names = [\n",
    "    'Общество с ограниченной ответственностью «Виталон»',\n",
    "    'Общество с ограниченной ответственностью \"ВИТАЛОН\"',\n",
    "    'ООО «ВИТАЛОН»'\n",
    "]\n",
    "inn = \"5017112368\"\n",
    "fill_supplier_inn(names, inn)"
   ],
   "metadata": {
    "collapsed": false,
    "pycharm": {
     "name": "#%%\n"
    }
   }
  },
  {
   "cell_type": "markdown",
   "source": [
    "### Общество с ограниченной ответственностью «ДВ АльфаРесурс»\n",
    "https://www.rusprofile.ru/id/657468"
   ],
   "metadata": {
    "collapsed": false,
    "pycharm": {
     "name": "#%% md\n"
    }
   }
  },
  {
   "cell_type": "code",
   "execution_count": 189,
   "outputs": [],
   "source": [
    "names = [\n",
    "    'Общество с ограниченной ответственностью «ДВ АльфаРесурс»'\n",
    "]\n",
    "inn = \"2537083622\"\n",
    "fill_supplier_inn(names, inn)"
   ],
   "metadata": {
    "collapsed": false,
    "pycharm": {
     "name": "#%%\n"
    }
   }
  },
  {
   "cell_type": "markdown",
   "source": [
    "### Общество с ограниченной ответственностью «ОБЛАСТНАЯ СЛУЖБА ДЕЗИНФЕКЦИИ»\n",
    "https://www.rusprofile.ru/id/10814954"
   ],
   "metadata": {
    "collapsed": false,
    "pycharm": {
     "name": "#%% md\n"
    }
   }
  },
  {
   "cell_type": "code",
   "execution_count": 190,
   "outputs": [],
   "source": [
    "names = [\n",
    "    'Общество с ограниченной ответственностью «ОБЛАСТНАЯ СЛУЖБА ДЕЗИНФЕКЦИИ» '\n",
    "]\n",
    "inn = \"7203405333\"\n",
    "fill_supplier_inn(names, inn)"
   ],
   "metadata": {
    "collapsed": false,
    "pycharm": {
     "name": "#%%\n"
    }
   }
  },
  {
   "cell_type": "markdown",
   "source": [
    "### Общество с ограниченной ответственностью «Универ Клаб»\n",
    "https://www.rusprofile.ru/id/5919105"
   ],
   "metadata": {
    "collapsed": false,
    "pycharm": {
     "name": "#%% md\n"
    }
   }
  },
  {
   "cell_type": "code",
   "execution_count": 193,
   "outputs": [],
   "source": [
    "names = [\n",
    "    'Общество с ограниченной ответственностью «Универ Клаб»',\n",
    "    'ОБЩЕСТВО С ОГРАНИЧЕННОЙ ОТВЕТСТВЕННОСТЬЮ \"УНИВЕР КЛАБ\"'\n",
    "]\n",
    "inn = \"7728789672\"\n",
    "fill_supplier_inn(names, inn)"
   ],
   "metadata": {
    "collapsed": false,
    "pycharm": {
     "name": "#%%\n"
    }
   }
  },
  {
   "cell_type": "markdown",
   "source": [
    "### Общество с ограниченной ответственностью Производственно-торговая компания «Профессиональный Лидер»\n",
    "https://www.rusprofile.ru/id/10315641"
   ],
   "metadata": {
    "collapsed": false,
    "pycharm": {
     "name": "#%% md\n"
    }
   }
  },
  {
   "cell_type": "code",
   "execution_count": 194,
   "outputs": [],
   "source": [
    "names = [\n",
    "    'Общество с ограниченной ответственностью Производственно-торговая компания «Профессиональный Лидер»',\n",
    "    'Общество с ограниченной ответственностью Производственно-торговая компания «Профессиональный Лидер» '\n",
    "]\n",
    "inn = \"7203370313\"\n",
    "fill_supplier_inn(names, inn)"
   ],
   "metadata": {
    "collapsed": false,
    "pycharm": {
     "name": "#%%\n"
    }
   }
  },
  {
   "cell_type": "markdown",
   "source": [
    "### Обществом с ограниченной ответственностью «Эколайф»\n",
    "Невозможно определить\n",
    "https://www.rusprofile.ru/id/11475993\n",
    "https://www.rusprofile.ru/id/6914001\n",
    "https://www.rusprofile.ru/id/7099261"
   ],
   "metadata": {
    "collapsed": false,
    "pycharm": {
     "name": "#%% md\n"
    }
   }
  },
  {
   "cell_type": "code",
   "execution_count": 195,
   "outputs": [],
   "source": [
    "names = [\n",
    "    'Обществом с ограниченной ответственностью «Эколайф»'\n",
    "]\n",
    "missed += names"
   ],
   "metadata": {
    "collapsed": false,
    "pycharm": {
     "name": "#%%\n"
    }
   }
  },
  {
   "cell_type": "markdown",
   "source": [
    "### Пителин Сергей Михайлович\n",
    "https://www.rusprofile.ru/ip/317470400078813"
   ],
   "metadata": {
    "collapsed": false,
    "pycharm": {
     "name": "#%% md\n"
    }
   }
  },
  {
   "cell_type": "code",
   "execution_count": 196,
   "outputs": [],
   "source": [
    "names = [\n",
    "    'Пителин Сергей Михайлович ',\n",
    "    'Пителин Сергей Михайлович'\n",
    "]\n",
    "inn = \"301505252144\"\n",
    "fill_supplier_inn(names, inn)"
   ],
   "metadata": {
    "collapsed": false,
    "pycharm": {
     "name": "#%%\n"
    }
   }
  },
  {
   "cell_type": "markdown",
   "source": [
    "### Погорелко Владимир Иванович\n",
    "На руспрофайле нет, взято из БД"
   ],
   "metadata": {
    "collapsed": false,
    "pycharm": {
     "name": "#%% md\n"
    }
   }
  },
  {
   "cell_type": "code",
   "execution_count": 197,
   "outputs": [],
   "source": [
    "names = [\n",
    "    'Погорелко Владимир Иванович',\n",
    "]\n",
    "inn = \"551400222527\"\n",
    "fill_supplier_inn(names, inn)"
   ],
   "metadata": {
    "collapsed": false,
    "pycharm": {
     "name": "#%%\n"
    }
   }
  },
  {
   "cell_type": "markdown",
   "source": [
    "### ФБУ НАУКИ \"ЦЕНТРАЛЬНЫЙ НАУЧНО-ИССЛЕДОВАТЕЛЬСКИЙ ИНСТИТУТ ЭПИДЕМИОЛОГИИ\" ФЕДЕРАЛЬНОЙ СЛУЖБЫ ПО НАДЗОРУ В СФЕРЕ ЗАЩИТЫ ПРАВ ПОТРЕБИТЕЛЕЙ И БЛАГОПОЛУЧИЯ ЧЕЛОВЕКА\n",
    "https://www.rusprofile.ru/id/2873325"
   ],
   "metadata": {
    "collapsed": false,
    "pycharm": {
     "name": "#%% md\n"
    }
   }
  },
  {
   "cell_type": "code",
   "execution_count": 199,
   "outputs": [],
   "source": [
    "names = [\n",
    "    'ФБУ НАУКИ \"ЦЕНТРАЛЬНЫЙ НАУЧНО-ИССЛЕДОВАТЕЛЬСКИЙ ИНСТИТУТ ЭПИДЕМИОЛОГИИ\" ФЕДЕРАЛЬНОЙ СЛУЖБЫ ПО НАДЗОРУ В СФЕРЕ ЗАЩИТЫ ПРАВ ПОТРЕБИТЕЛЕЙ И БЛАГОПОЛУЧИЯ ЧЕЛОВЕКА ',\n",
    "    'ФБУН ЦНИИ Эпидемиологии Роспотребнадзора'\n",
    "]\n",
    "inn = \"7720024671\"\n",
    "fill_supplier_inn(names, inn)"
   ],
   "metadata": {
    "collapsed": false,
    "pycharm": {
     "name": "#%%\n"
    }
   }
  },
  {
   "cell_type": "markdown",
   "source": [
    "# Проверим, что заполнили всех поставщиков"
   ],
   "metadata": {
    "collapsed": false,
    "pycharm": {
     "name": "#%% md\n"
    }
   }
  },
  {
   "cell_type": "code",
   "execution_count": 200,
   "outputs": [
    {
     "data": {
      "text/plain": "Series([], dtype: int64)"
     },
     "execution_count": 200,
     "metadata": {},
     "output_type": "execute_result"
    }
   ],
   "source": [
    "lot_suppliers = pd.read_sql_query(\n",
    "    f\"\"\"\n",
    "    SELECT lot_guid, supplier_guid, si2.inn as supplier_inn,\n",
    "        si2.name as supplier_name, si2.ogrn as supplier_ogrn, si2.type as supplier_type\n",
    "    FROM (\n",
    "        SELECT lot_guid, MAX(supplier_guid) as supplier_guid\n",
    "        FROM (\n",
    "            SELECT c.lot_guid\n",
    "            FROM covid_contracts c\n",
    "            GROUP BY c.lot_guid\n",
    "        ) tmp1\n",
    "        INNER JOIN protocol_lot pl ON tmp1.lot_guid = pl.guid\n",
    "        LEFT JOIN protocol_lot_applications pla on pl.guid = pla.protocol_lot_guid\n",
    "        LEFT JOIN application a on pla.id = a.protocol_lot_applications_id\n",
    "        LEFT JOIN supplier_info si on a.supplier_guid = si.guid\n",
    "        WHERE (contract_signed = 1 or\n",
    "         (a.winner_indication = 'Победитель'and contract_signed is null))\n",
    "         and (supplier_guid is not null)\n",
    "         and (si.inn is null and (si.name is not null or si.ogrn is not null))\n",
    "        GROUP BY lot_guid\n",
    "    ) sup\n",
    "    LEFT JOIN supplier_info si2 ON si2.guid = sup.supplier_guid;\n",
    "    \"\"\",\n",
    "    conn\n",
    ")\n",
    "lot_suppliers['is_anonym'] = lot_suppliers['supplier_name'].map(is_anonym_name)\n",
    "lot_suppliers = lot_suppliers[lot_suppliers['is_anonym'] == False]\n",
    "\n",
    "def is_missed(name: str) -> bool:\n",
    "    return name in missed\n",
    "\n",
    "lot_suppliers['is_missed'] = lot_suppliers['supplier_name'].map(is_missed)\n",
    "lot_suppliers = lot_suppliers[lot_suppliers['is_missed'] == False]\n",
    "\n",
    "lot_suppliers.groupby('supplier_name').size()"
   ],
   "metadata": {
    "collapsed": false,
    "pycharm": {
     "name": "#%%\n"
    }
   }
  },
  {
   "cell_type": "code",
   "execution_count": null,
   "outputs": [],
   "source": [],
   "metadata": {
    "collapsed": false,
    "pycharm": {
     "name": "#%%\n"
    }
   }
  }
 ],
 "metadata": {
  "kernelspec": {
   "display_name": "Python 3",
   "language": "python",
   "name": "python3"
  },
  "language_info": {
   "codemirror_mode": {
    "name": "ipython",
    "version": 2
   },
   "file_extension": ".py",
   "mimetype": "text/x-python",
   "name": "python",
   "nbconvert_exporter": "python",
   "pygments_lexer": "ipython2",
   "version": "2.7.6"
  }
 },
 "nbformat": 4,
 "nbformat_minor": 0
}