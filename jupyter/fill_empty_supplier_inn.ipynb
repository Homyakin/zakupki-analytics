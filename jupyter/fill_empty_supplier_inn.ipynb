{
 "cells": [
  {
   "cell_type": "code",
   "execution_count": 1,
   "metadata": {
    "collapsed": true
   },
   "outputs": [],
   "source": [
    "import sqlite3\n",
    "import pandas as pd\n",
    "from typing import List\n",
    "\n",
    "import warnings\n",
    "\n",
    "warnings.filterwarnings('ignore')"
   ]
  },
  {
   "cell_type": "markdown",
   "source": [
    "# Подключаемся к базе"
   ],
   "metadata": {
    "collapsed": false,
    "pycharm": {
     "name": "#%% md\n"
    }
   }
  },
  {
   "cell_type": "code",
   "execution_count": 2,
   "outputs": [],
   "source": [
    "conn = sqlite3.connect(\"data.db\")"
   ],
   "metadata": {
    "collapsed": false,
    "pycharm": {
     "name": "#%%\n"
    }
   }
  },
  {
   "cell_type": "markdown",
   "source": [
    "# Достаём поставщиков, у которых нет ИНН, но есть имя или ОГРН, по ковидным закупкам\n",
    "(Нужна таблица covid_contracts из файла create_dataset.ipynb)"
   ],
   "metadata": {
    "collapsed": false,
    "pycharm": {
     "name": "#%% md\n"
    }
   }
  },
  {
   "cell_type": "code",
   "execution_count": 3,
   "outputs": [
    {
     "data": {
      "text/plain": "                                 lot_guid supplier_inn        supplier_name  \\\n0    005056bd-6164-1eeb-9fb2-80f01f612591         None    Не предусмотрено.   \n1    00df267a-6a5c-4658-920e-82d3b9befc00         None                    1   \n2    01cf8d1a-0b52-4969-fb5b-42096c59758a         None           Участник 2   \n3    02a8dd28-a5f8-91db-1f46-9bcad4d1b907         None           Участник 3   \n4    0437d64f-ebdd-4655-9b47-4a8e72d87272         None                    1   \n..                                    ...          ...                  ...   \n156  facf8fed-230d-440b-aedf-f8f3b5314719         None                    1   \n157  fe3ba8b8-8034-47a4-919d-deea81b45945         None             Заявка 1   \n158  fee08492-034f-d9ec-eeaf-97b36d4ba1ce         None           Участник 1   \n159  ff968e2f-ad32-9b54-1493-e52fff049a34         None           Участник 2   \n160  ffe6f942-bfa1-4f78-bb1c-a8b0cf755881         None  ООО «СТАТУС-РЕГИОН»   \n\n    supplier_ogrn     supplier_type  \n0            None  Юридическое лицо  \n1            None  Юридическое лицо  \n2            None  Юридическое лицо  \n3            None  Юридическое лицо  \n4            None  Юридическое лицо  \n..            ...               ...  \n156          None  Юридическое лицо  \n157          None  Юридическое лицо  \n158          None  Юридическое лицо  \n159          None   Физическое лицо  \n160          None  Юридическое лицо  \n\n[161 rows x 5 columns]",
      "text/html": "<div>\n<style scoped>\n    .dataframe tbody tr th:only-of-type {\n        vertical-align: middle;\n    }\n\n    .dataframe tbody tr th {\n        vertical-align: top;\n    }\n\n    .dataframe thead th {\n        text-align: right;\n    }\n</style>\n<table border=\"1\" class=\"dataframe\">\n  <thead>\n    <tr style=\"text-align: right;\">\n      <th></th>\n      <th>lot_guid</th>\n      <th>supplier_inn</th>\n      <th>supplier_name</th>\n      <th>supplier_ogrn</th>\n      <th>supplier_type</th>\n    </tr>\n  </thead>\n  <tbody>\n    <tr>\n      <th>0</th>\n      <td>005056bd-6164-1eeb-9fb2-80f01f612591</td>\n      <td>None</td>\n      <td>Не предусмотрено.</td>\n      <td>None</td>\n      <td>Юридическое лицо</td>\n    </tr>\n    <tr>\n      <th>1</th>\n      <td>00df267a-6a5c-4658-920e-82d3b9befc00</td>\n      <td>None</td>\n      <td>1</td>\n      <td>None</td>\n      <td>Юридическое лицо</td>\n    </tr>\n    <tr>\n      <th>2</th>\n      <td>01cf8d1a-0b52-4969-fb5b-42096c59758a</td>\n      <td>None</td>\n      <td>Участник 2</td>\n      <td>None</td>\n      <td>Юридическое лицо</td>\n    </tr>\n    <tr>\n      <th>3</th>\n      <td>02a8dd28-a5f8-91db-1f46-9bcad4d1b907</td>\n      <td>None</td>\n      <td>Участник 3</td>\n      <td>None</td>\n      <td>Юридическое лицо</td>\n    </tr>\n    <tr>\n      <th>4</th>\n      <td>0437d64f-ebdd-4655-9b47-4a8e72d87272</td>\n      <td>None</td>\n      <td>1</td>\n      <td>None</td>\n      <td>Юридическое лицо</td>\n    </tr>\n    <tr>\n      <th>...</th>\n      <td>...</td>\n      <td>...</td>\n      <td>...</td>\n      <td>...</td>\n      <td>...</td>\n    </tr>\n    <tr>\n      <th>156</th>\n      <td>facf8fed-230d-440b-aedf-f8f3b5314719</td>\n      <td>None</td>\n      <td>1</td>\n      <td>None</td>\n      <td>Юридическое лицо</td>\n    </tr>\n    <tr>\n      <th>157</th>\n      <td>fe3ba8b8-8034-47a4-919d-deea81b45945</td>\n      <td>None</td>\n      <td>Заявка 1</td>\n      <td>None</td>\n      <td>Юридическое лицо</td>\n    </tr>\n    <tr>\n      <th>158</th>\n      <td>fee08492-034f-d9ec-eeaf-97b36d4ba1ce</td>\n      <td>None</td>\n      <td>Участник 1</td>\n      <td>None</td>\n      <td>Юридическое лицо</td>\n    </tr>\n    <tr>\n      <th>159</th>\n      <td>ff968e2f-ad32-9b54-1493-e52fff049a34</td>\n      <td>None</td>\n      <td>Участник 2</td>\n      <td>None</td>\n      <td>Физическое лицо</td>\n    </tr>\n    <tr>\n      <th>160</th>\n      <td>ffe6f942-bfa1-4f78-bb1c-a8b0cf755881</td>\n      <td>None</td>\n      <td>ООО «СТАТУС-РЕГИОН»</td>\n      <td>None</td>\n      <td>Юридическое лицо</td>\n    </tr>\n  </tbody>\n</table>\n<p>161 rows × 5 columns</p>\n</div>"
     },
     "execution_count": 3,
     "metadata": {},
     "output_type": "execute_result"
    }
   ],
   "source": [
    "lot_suppliers = pd.read_sql_query(\n",
    "    f\"\"\"\n",
    "    SELECT lot_guid, si2.inn as supplier_inn,\n",
    "        si2.name as supplier_name, si2.ogrn as supplier_ogrn, si2.type as supplier_type\n",
    "    FROM (\n",
    "        SELECT lot_guid, MAX(supplier_guid) as supplier_guid\n",
    "        FROM (\n",
    "            SELECT c.lot_guid, COUNT(*) as lot_count\n",
    "            FROM covid_contracts c\n",
    "            GROUP BY c.lot_guid\n",
    "        ) tmp1\n",
    "        INNER JOIN protocol_lot pl ON tmp1.lot_guid = pl.guid\n",
    "        LEFT JOIN protocol_lot_applications pla on pl.guid = pla.protocol_lot_guid\n",
    "        LEFT JOIN application a on pla.id = a.protocol_lot_applications_id\n",
    "        LEFT JOIN supplier_info si on a.supplier_guid = si.guid\n",
    "        WHERE (contract_signed = 1 or\n",
    "         (a.winner_indication = 'Победитель'and contract_signed is null))\n",
    "         and (supplier_guid is not null)\n",
    "         and (si.inn is null and (si.name is not null or si.ogrn is not null))\n",
    "         and tmp1.lot_count = 1\n",
    "        GROUP BY lot_guid\n",
    "    ) sup\n",
    "    LEFT JOIN supplier_info si2 ON si2.guid = sup.supplier_guid;\n",
    "    \"\"\",\n",
    "    conn\n",
    ")\n",
    "\n",
    "lot_suppliers"
   ],
   "metadata": {
    "collapsed": false,
    "pycharm": {
     "name": "#%%\n"
    }
   }
  },
  {
   "cell_type": "markdown",
   "source": [
    "# Удалим анонимные заявки"
   ],
   "metadata": {
    "collapsed": false,
    "pycharm": {
     "name": "#%% md\n"
    }
   }
  },
  {
   "cell_type": "code",
   "execution_count": 4,
   "outputs": [
    {
     "data": {
      "text/plain": "                                 lot_guid supplier_inn  \\\n7    0550f1d8-1e60-40e1-af2d-e3139a6e4045         None   \n15   176d4b78-a651-4520-970a-598a8176bb40         None   \n20   1dc5fd4e-f708-4c33-aaf1-1b78cce759ca         None   \n21   1f41003a-d18b-4bfb-82ff-3b4a8124a09a         None   \n23   20a1c9f8-5eab-4dd2-b5c9-739448c4cb1c         None   \n27   29f7dfcd-7c53-4e5b-9284-584503b68b48         None   \n29   2fbd95ac-289b-4b7c-8bda-1bd282a0aec6         None   \n37   401398cf-5147-4c30-9abd-d0dffcf6b365         None   \n42   448fd8a6-16f3-470f-afb0-047bb915b442         None   \n44   4776c041-a49b-4700-8b5e-c1cf8b6b2816         None   \n48   526325f9-38a6-470f-a625-7027f68d5740         None   \n52   562e887b-a485-4027-b2fe-4abe3f3ad0f6         None   \n65   65282254-0446-46c5-93f2-96840158cc9c         None   \n72   773362e2-c837-4e46-88a0-27fbce4f7a76         None   \n77   7f9cb823-52be-4a6e-8d44-557f5f7196db         None   \n78   821996c8-df9d-4c64-ba7c-10825c1e66ab         None   \n79   8413ef93-ea4b-441f-a6e4-9fcb02c86f6e         None   \n81   8b9c475c-ff6f-4662-bcf1-f58d2fdb364b         None   \n83   8c1d8cb6-e436-41d2-85a9-eda9ed5c88c3         None   \n85   8d53edc4-6ef9-43d4-849b-03db64a99746         None   \n88   941ad059-6cd3-4f4e-b2ef-416301defca6         None   \n91   9911b53f-1863-4b0f-bffc-bcc1c12dadd5         None   \n93   99dc0682-4d39-478a-bbfd-65701ea488ba         None   \n96   9a48ac2c-78fc-4ca4-af55-d79b86a21621         None   \n97   9ab1e3a7-fe9f-499d-b390-bba60df4b606         None   \n98   9d3871fe-29ae-4f70-9217-effeef4b3714         None   \n102  a50d6523-4e99-49b5-a881-dd598307aff4         None   \n111  aed0decb-7eb1-45eb-97ab-aeb174ffcfce         None   \n114  b6833b9e-0bc5-4928-be52-559e428479a7         None   \n120  c2d980bb-f90a-47c8-a7b0-617a0fefeaaf         None   \n121  c3a2d102-09e2-4ada-8773-29fe6c12ad45         None   \n125  c91fed59-5b27-4e0a-b7e5-e28fd7e76b69         None   \n130  d76cb56c-36d1-40df-88ad-87137dfdd89e         None   \n131  dad6644b-1b4e-47fa-ab0b-38f385df4448         None   \n133  db501b50-7d78-47d7-8058-fd5ad8d0b812         None   \n138  e17f3af8-f988-4884-b8a3-683a901674f0         None   \n141  e3a48655-6d97-4e87-9c0f-e5598a5d3b27         None   \n144  e893191b-624c-4d4f-9631-cf82ee2aa9b0         None   \n160  ffe6f942-bfa1-4f78-bb1c-a8b0cf755881         None   \n\n                                         supplier_name supplier_ogrn  \\\n7                                       ООО «ЭкоЦентр»          None   \n15                                        ООО Апоцентр          None   \n20                                    ООО \"СибПромГаз\"          None   \n21                                       ООО «Торгсин»          None   \n23                                        ООО \"Визирь\"          None   \n27                                       ООО \"МедФарм\"          None   \n29                                    ООО \"КомСпецТех\"          None   \n37                                    ООО \"КомСпецТех\"          None   \n42                                 ООО «СТАТУС-РЕГИОН»          None   \n44                                     ООО \"Универсал\"          None   \n48                                        ООО \"Визирь\"          None   \n52                                    ООО \"ПрофЭнерго\"          None   \n65     ОБЩЕСТВО ОГРАНИЧЕННОЙ ОТВЕТСТВЕННОСТЬЮ \"Визирь\"          None   \n72                                        ООО \"Визирь\"          None   \n77                                    ООО \"КомСпецТех\"          None   \n78                                      ООО «МЕДИКОМ»           None   \n79                                       ООО Юго-Запад          None   \n81                                        ООО Апоцентр          None   \n83                                    ООО \"ПрофЭнерго\"          None   \n85                                           ИП Грицюк          None   \n88                                        ООО\"МедиАрт\"          None   \n91                                        ООО \"Визирь\"          None   \n93                                        ООО \"Визирь\"          None   \n96   Обществом с ограниченной ответственностью «Эко...          None   \n97                                        ООО \"Визирь\"          None   \n98                                       ООО \"МедиАрт\"          None   \n102                                        ООО \"ВЕРБА\"          None   \n111                                   ООО «МедПартнер»          None   \n114                 ИП Резников Дмитрий Александрович           None   \n120                                          ООО \"ВЭС\"          None   \n121  ОБЩЕСТВО ОГРАНИЧЕННОЙ ОТВЕТСТВЕННОСТЬЮ \"Аква-с...          None   \n125  Индивидуальный предприниматель Ситников Максим...          None   \n130                                       ООО \"Визирь\"          None   \n131                                      ООО \"Морозко\"          None   \n133                                ООО \"Энергосервиис\"          None   \n138                                       ООО \"Диомид\"          None   \n141                                       ООО \"Визирь\"          None   \n144                                       ООО \"Визирь\"          None   \n160                                ООО «СТАТУС-РЕГИОН»          None   \n\n        supplier_type  is_anonym  \n7    Юридическое лицо      False  \n15   Юридическое лицо      False  \n20   Юридическое лицо      False  \n21   Юридическое лицо      False  \n23   Юридическое лицо      False  \n27   Юридическое лицо      False  \n29   Юридическое лицо      False  \n37   Юридическое лицо      False  \n42   Юридическое лицо      False  \n44   Юридическое лицо      False  \n48   Юридическое лицо      False  \n52   Юридическое лицо      False  \n65   Юридическое лицо      False  \n72   Юридическое лицо      False  \n77   Юридическое лицо      False  \n78   Юридическое лицо      False  \n79   Юридическое лицо      False  \n81   Юридическое лицо      False  \n83   Юридическое лицо      False  \n85    Физическое лицо      False  \n88   Юридическое лицо      False  \n91   Юридическое лицо      False  \n93   Юридическое лицо      False  \n96   Юридическое лицо      False  \n97   Юридическое лицо      False  \n98   Юридическое лицо      False  \n102  Юридическое лицо      False  \n111  Юридическое лицо      False  \n114   Физическое лицо      False  \n120  Юридическое лицо      False  \n121  Юридическое лицо      False  \n125   Физическое лицо      False  \n130  Юридическое лицо      False  \n131  Юридическое лицо      False  \n133  Юридическое лицо      False  \n138  Юридическое лицо      False  \n141  Юридическое лицо      False  \n144  Юридическое лицо      False  \n160  Юридическое лицо      False  ",
      "text/html": "<div>\n<style scoped>\n    .dataframe tbody tr th:only-of-type {\n        vertical-align: middle;\n    }\n\n    .dataframe tbody tr th {\n        vertical-align: top;\n    }\n\n    .dataframe thead th {\n        text-align: right;\n    }\n</style>\n<table border=\"1\" class=\"dataframe\">\n  <thead>\n    <tr style=\"text-align: right;\">\n      <th></th>\n      <th>lot_guid</th>\n      <th>supplier_inn</th>\n      <th>supplier_name</th>\n      <th>supplier_ogrn</th>\n      <th>supplier_type</th>\n      <th>is_anonym</th>\n    </tr>\n  </thead>\n  <tbody>\n    <tr>\n      <th>7</th>\n      <td>0550f1d8-1e60-40e1-af2d-e3139a6e4045</td>\n      <td>None</td>\n      <td>ООО «ЭкоЦентр»</td>\n      <td>None</td>\n      <td>Юридическое лицо</td>\n      <td>False</td>\n    </tr>\n    <tr>\n      <th>15</th>\n      <td>176d4b78-a651-4520-970a-598a8176bb40</td>\n      <td>None</td>\n      <td>ООО Апоцентр</td>\n      <td>None</td>\n      <td>Юридическое лицо</td>\n      <td>False</td>\n    </tr>\n    <tr>\n      <th>20</th>\n      <td>1dc5fd4e-f708-4c33-aaf1-1b78cce759ca</td>\n      <td>None</td>\n      <td>ООО \"СибПромГаз\"</td>\n      <td>None</td>\n      <td>Юридическое лицо</td>\n      <td>False</td>\n    </tr>\n    <tr>\n      <th>21</th>\n      <td>1f41003a-d18b-4bfb-82ff-3b4a8124a09a</td>\n      <td>None</td>\n      <td>ООО «Торгсин»</td>\n      <td>None</td>\n      <td>Юридическое лицо</td>\n      <td>False</td>\n    </tr>\n    <tr>\n      <th>23</th>\n      <td>20a1c9f8-5eab-4dd2-b5c9-739448c4cb1c</td>\n      <td>None</td>\n      <td>ООО \"Визирь\"</td>\n      <td>None</td>\n      <td>Юридическое лицо</td>\n      <td>False</td>\n    </tr>\n    <tr>\n      <th>27</th>\n      <td>29f7dfcd-7c53-4e5b-9284-584503b68b48</td>\n      <td>None</td>\n      <td>ООО \"МедФарм\"</td>\n      <td>None</td>\n      <td>Юридическое лицо</td>\n      <td>False</td>\n    </tr>\n    <tr>\n      <th>29</th>\n      <td>2fbd95ac-289b-4b7c-8bda-1bd282a0aec6</td>\n      <td>None</td>\n      <td>ООО \"КомСпецТех\"</td>\n      <td>None</td>\n      <td>Юридическое лицо</td>\n      <td>False</td>\n    </tr>\n    <tr>\n      <th>37</th>\n      <td>401398cf-5147-4c30-9abd-d0dffcf6b365</td>\n      <td>None</td>\n      <td>ООО \"КомСпецТех\"</td>\n      <td>None</td>\n      <td>Юридическое лицо</td>\n      <td>False</td>\n    </tr>\n    <tr>\n      <th>42</th>\n      <td>448fd8a6-16f3-470f-afb0-047bb915b442</td>\n      <td>None</td>\n      <td>ООО «СТАТУС-РЕГИОН»</td>\n      <td>None</td>\n      <td>Юридическое лицо</td>\n      <td>False</td>\n    </tr>\n    <tr>\n      <th>44</th>\n      <td>4776c041-a49b-4700-8b5e-c1cf8b6b2816</td>\n      <td>None</td>\n      <td>ООО \"Универсал\"</td>\n      <td>None</td>\n      <td>Юридическое лицо</td>\n      <td>False</td>\n    </tr>\n    <tr>\n      <th>48</th>\n      <td>526325f9-38a6-470f-a625-7027f68d5740</td>\n      <td>None</td>\n      <td>ООО \"Визирь\"</td>\n      <td>None</td>\n      <td>Юридическое лицо</td>\n      <td>False</td>\n    </tr>\n    <tr>\n      <th>52</th>\n      <td>562e887b-a485-4027-b2fe-4abe3f3ad0f6</td>\n      <td>None</td>\n      <td>ООО \"ПрофЭнерго\"</td>\n      <td>None</td>\n      <td>Юридическое лицо</td>\n      <td>False</td>\n    </tr>\n    <tr>\n      <th>65</th>\n      <td>65282254-0446-46c5-93f2-96840158cc9c</td>\n      <td>None</td>\n      <td>ОБЩЕСТВО ОГРАНИЧЕННОЙ ОТВЕТСТВЕННОСТЬЮ \"Визирь\"</td>\n      <td>None</td>\n      <td>Юридическое лицо</td>\n      <td>False</td>\n    </tr>\n    <tr>\n      <th>72</th>\n      <td>773362e2-c837-4e46-88a0-27fbce4f7a76</td>\n      <td>None</td>\n      <td>ООО \"Визирь\"</td>\n      <td>None</td>\n      <td>Юридическое лицо</td>\n      <td>False</td>\n    </tr>\n    <tr>\n      <th>77</th>\n      <td>7f9cb823-52be-4a6e-8d44-557f5f7196db</td>\n      <td>None</td>\n      <td>ООО \"КомСпецТех\"</td>\n      <td>None</td>\n      <td>Юридическое лицо</td>\n      <td>False</td>\n    </tr>\n    <tr>\n      <th>78</th>\n      <td>821996c8-df9d-4c64-ba7c-10825c1e66ab</td>\n      <td>None</td>\n      <td>ООО «МЕДИКОМ»</td>\n      <td>None</td>\n      <td>Юридическое лицо</td>\n      <td>False</td>\n    </tr>\n    <tr>\n      <th>79</th>\n      <td>8413ef93-ea4b-441f-a6e4-9fcb02c86f6e</td>\n      <td>None</td>\n      <td>ООО Юго-Запад</td>\n      <td>None</td>\n      <td>Юридическое лицо</td>\n      <td>False</td>\n    </tr>\n    <tr>\n      <th>81</th>\n      <td>8b9c475c-ff6f-4662-bcf1-f58d2fdb364b</td>\n      <td>None</td>\n      <td>ООО Апоцентр</td>\n      <td>None</td>\n      <td>Юридическое лицо</td>\n      <td>False</td>\n    </tr>\n    <tr>\n      <th>83</th>\n      <td>8c1d8cb6-e436-41d2-85a9-eda9ed5c88c3</td>\n      <td>None</td>\n      <td>ООО \"ПрофЭнерго\"</td>\n      <td>None</td>\n      <td>Юридическое лицо</td>\n      <td>False</td>\n    </tr>\n    <tr>\n      <th>85</th>\n      <td>8d53edc4-6ef9-43d4-849b-03db64a99746</td>\n      <td>None</td>\n      <td>ИП Грицюк</td>\n      <td>None</td>\n      <td>Физическое лицо</td>\n      <td>False</td>\n    </tr>\n    <tr>\n      <th>88</th>\n      <td>941ad059-6cd3-4f4e-b2ef-416301defca6</td>\n      <td>None</td>\n      <td>ООО\"МедиАрт\"</td>\n      <td>None</td>\n      <td>Юридическое лицо</td>\n      <td>False</td>\n    </tr>\n    <tr>\n      <th>91</th>\n      <td>9911b53f-1863-4b0f-bffc-bcc1c12dadd5</td>\n      <td>None</td>\n      <td>ООО \"Визирь\"</td>\n      <td>None</td>\n      <td>Юридическое лицо</td>\n      <td>False</td>\n    </tr>\n    <tr>\n      <th>93</th>\n      <td>99dc0682-4d39-478a-bbfd-65701ea488ba</td>\n      <td>None</td>\n      <td>ООО \"Визирь\"</td>\n      <td>None</td>\n      <td>Юридическое лицо</td>\n      <td>False</td>\n    </tr>\n    <tr>\n      <th>96</th>\n      <td>9a48ac2c-78fc-4ca4-af55-d79b86a21621</td>\n      <td>None</td>\n      <td>Обществом с ограниченной ответственностью «Эко...</td>\n      <td>None</td>\n      <td>Юридическое лицо</td>\n      <td>False</td>\n    </tr>\n    <tr>\n      <th>97</th>\n      <td>9ab1e3a7-fe9f-499d-b390-bba60df4b606</td>\n      <td>None</td>\n      <td>ООО \"Визирь\"</td>\n      <td>None</td>\n      <td>Юридическое лицо</td>\n      <td>False</td>\n    </tr>\n    <tr>\n      <th>98</th>\n      <td>9d3871fe-29ae-4f70-9217-effeef4b3714</td>\n      <td>None</td>\n      <td>ООО \"МедиАрт\"</td>\n      <td>None</td>\n      <td>Юридическое лицо</td>\n      <td>False</td>\n    </tr>\n    <tr>\n      <th>102</th>\n      <td>a50d6523-4e99-49b5-a881-dd598307aff4</td>\n      <td>None</td>\n      <td>ООО \"ВЕРБА\"</td>\n      <td>None</td>\n      <td>Юридическое лицо</td>\n      <td>False</td>\n    </tr>\n    <tr>\n      <th>111</th>\n      <td>aed0decb-7eb1-45eb-97ab-aeb174ffcfce</td>\n      <td>None</td>\n      <td>ООО «МедПартнер»</td>\n      <td>None</td>\n      <td>Юридическое лицо</td>\n      <td>False</td>\n    </tr>\n    <tr>\n      <th>114</th>\n      <td>b6833b9e-0bc5-4928-be52-559e428479a7</td>\n      <td>None</td>\n      <td>ИП Резников Дмитрий Александрович</td>\n      <td>None</td>\n      <td>Физическое лицо</td>\n      <td>False</td>\n    </tr>\n    <tr>\n      <th>120</th>\n      <td>c2d980bb-f90a-47c8-a7b0-617a0fefeaaf</td>\n      <td>None</td>\n      <td>ООО \"ВЭС\"</td>\n      <td>None</td>\n      <td>Юридическое лицо</td>\n      <td>False</td>\n    </tr>\n    <tr>\n      <th>121</th>\n      <td>c3a2d102-09e2-4ada-8773-29fe6c12ad45</td>\n      <td>None</td>\n      <td>ОБЩЕСТВО ОГРАНИЧЕННОЙ ОТВЕТСТВЕННОСТЬЮ \"Аква-с...</td>\n      <td>None</td>\n      <td>Юридическое лицо</td>\n      <td>False</td>\n    </tr>\n    <tr>\n      <th>125</th>\n      <td>c91fed59-5b27-4e0a-b7e5-e28fd7e76b69</td>\n      <td>None</td>\n      <td>Индивидуальный предприниматель Ситников Максим...</td>\n      <td>None</td>\n      <td>Физическое лицо</td>\n      <td>False</td>\n    </tr>\n    <tr>\n      <th>130</th>\n      <td>d76cb56c-36d1-40df-88ad-87137dfdd89e</td>\n      <td>None</td>\n      <td>ООО \"Визирь\"</td>\n      <td>None</td>\n      <td>Юридическое лицо</td>\n      <td>False</td>\n    </tr>\n    <tr>\n      <th>131</th>\n      <td>dad6644b-1b4e-47fa-ab0b-38f385df4448</td>\n      <td>None</td>\n      <td>ООО \"Морозко\"</td>\n      <td>None</td>\n      <td>Юридическое лицо</td>\n      <td>False</td>\n    </tr>\n    <tr>\n      <th>133</th>\n      <td>db501b50-7d78-47d7-8058-fd5ad8d0b812</td>\n      <td>None</td>\n      <td>ООО \"Энергосервиис\"</td>\n      <td>None</td>\n      <td>Юридическое лицо</td>\n      <td>False</td>\n    </tr>\n    <tr>\n      <th>138</th>\n      <td>e17f3af8-f988-4884-b8a3-683a901674f0</td>\n      <td>None</td>\n      <td>ООО \"Диомид\"</td>\n      <td>None</td>\n      <td>Юридическое лицо</td>\n      <td>False</td>\n    </tr>\n    <tr>\n      <th>141</th>\n      <td>e3a48655-6d97-4e87-9c0f-e5598a5d3b27</td>\n      <td>None</td>\n      <td>ООО \"Визирь\"</td>\n      <td>None</td>\n      <td>Юридическое лицо</td>\n      <td>False</td>\n    </tr>\n    <tr>\n      <th>144</th>\n      <td>e893191b-624c-4d4f-9631-cf82ee2aa9b0</td>\n      <td>None</td>\n      <td>ООО \"Визирь\"</td>\n      <td>None</td>\n      <td>Юридическое лицо</td>\n      <td>False</td>\n    </tr>\n    <tr>\n      <th>160</th>\n      <td>ffe6f942-bfa1-4f78-bb1c-a8b0cf755881</td>\n      <td>None</td>\n      <td>ООО «СТАТУС-РЕГИОН»</td>\n      <td>None</td>\n      <td>Юридическое лицо</td>\n      <td>False</td>\n    </tr>\n  </tbody>\n</table>\n</div>"
     },
     "execution_count": 4,
     "metadata": {},
     "output_type": "execute_result"
    }
   ],
   "source": [
    "anonym_names = {\n",
    "    '1',\n",
    "    'Заявка 1',\n",
    "    'Участник 1',\n",
    "    'Участник 4',\n",
    "    'Участник 2',\n",
    "    'Не предусмотрено.',\n",
    "    'Заявка 2',\n",
    "    'Участник 7',\n",
    "    'Участник 5',\n",
    "    'Участник №1',\n",
    "    'Заявка 12',\n",
    "    'Участник 3',\n",
    "    'Заявка 5818',\n",
    "    'Участник 6',\n",
    "    'Участник 6'\n",
    "    'Заявка 7880',\n",
    "    'Заявка 7880',\n",
    "    'Заявка 8097',\n",
    "    'Заявка №12571',\n",
    "    'не предоставляется',\n",
    "    'Участник 1701',\n",
    "    'Участник 4501',\n",
    "    'Участник 6102'\n",
    "}\n",
    "\n",
    "def is_anonym_name(name: str) -> bool:\n",
    "    lower_anonym = [i.lower() for i in anonym_names]\n",
    "    return name.lower() in lower_anonym\n",
    "\n",
    "lot_suppliers['is_anonym'] = lot_suppliers['supplier_name'].map(is_anonym_name)\n",
    "lot_suppliers = lot_suppliers[lot_suppliers['is_anonym'] == False]\n",
    "lot_suppliers"
   ],
   "metadata": {
    "collapsed": false,
    "pycharm": {
     "name": "#%%\n"
    }
   }
  },
  {
   "cell_type": "markdown",
   "source": [
    "# Сгруппируем по имени"
   ],
   "metadata": {
    "collapsed": false,
    "pycharm": {
     "name": "#%% md\n"
    }
   }
  },
  {
   "cell_type": "code",
   "execution_count": 5,
   "outputs": [
    {
     "data": {
      "text/plain": "supplier_name\nИП Грицюк                                                    1\nИП Резников Дмитрий Александрович                            1\nИндивидуальный предприниматель Ситников Максим Сергеевич     1\nОБЩЕСТВО ОГРАНИЧЕННОЙ ОТВЕТСТВЕННОСТЬЮ \"Аква-сервис\"         1\nОБЩЕСТВО ОГРАНИЧЕННОЙ ОТВЕТСТВЕННОСТЬЮ \"Визирь\"              1\nООО \"ВЕРБА\"                                                  1\nООО \"ВЭС\"                                                    1\nООО \"Визирь\"                                                 9\nООО \"Диомид\"                                                 1\nООО \"КомСпецТех\"                                             3\nООО \"МедФарм\"                                                1\nООО \"МедиАрт\"                                                1\nООО \"Морозко\"                                                1\nООО \"ПрофЭнерго\"                                             2\nООО \"СибПромГаз\"                                             1\nООО \"Универсал\"                                              1\nООО \"Энергосервиис\"                                          1\nООО «МЕДИКОМ»                                                1\nООО «МедПартнер»                                             1\nООО «СТАТУС-РЕГИОН»                                          2\nООО «Торгсин»                                                1\nООО «ЭкоЦентр»                                               1\nООО Апоцентр                                                 2\nООО Юго-Запад                                                1\nООО\"МедиАрт\"                                                 1\nОбществом с ограниченной ответственностью «Эколайф»          1\ndtype: int64"
     },
     "execution_count": 5,
     "metadata": {},
     "output_type": "execute_result"
    }
   ],
   "source": [
    "lot_suppliers.groupby('supplier_name').size()"
   ],
   "metadata": {
    "collapsed": false,
    "pycharm": {
     "name": "#%%\n"
    }
   }
  },
  {
   "cell_type": "markdown",
   "source": [
    "# Заполняем ИНН"
   ],
   "metadata": {
    "collapsed": false,
    "pycharm": {
     "name": "#%% md\n"
    }
   }
  },
  {
   "cell_type": "code",
   "execution_count": 6,
   "outputs": [],
   "source": [
    "missed = []"
   ],
   "metadata": {
    "collapsed": false,
    "pycharm": {
     "name": "#%%\n"
    }
   }
  },
  {
   "cell_type": "code",
   "execution_count": 7,
   "outputs": [],
   "source": [
    "def list_to_query(str_list: List[str]) -> str:\n",
    "    query_str = \"\"\n",
    "    list_len = len(str_list)\n",
    "    for _idx in range(list_len):\n",
    "        query_str += f\"'{str_list[_idx]}'\"\n",
    "        if _idx != list_len - 1:\n",
    "            query_str += ','\n",
    "    return query_str\n",
    "\n",
    "def fill_supplier_inn(_names: List[str], _inn: str):\n",
    "    query_names = list_to_query(_names)\n",
    "\n",
    "    supplier = pd.read_sql_query(\n",
    "        f\"\"\"\n",
    "        SELECT * FROM supplier_info where name in ({query_names});\n",
    "        \"\"\",\n",
    "        conn\n",
    "    )\n",
    "\n",
    "    guid = ''\n",
    "    present_inn = supplier[~supplier['inn'].isnull()]\n",
    "    if present_inn.shape[0] > 0:\n",
    "        guid = present_inn.iloc[0]['guid']\n",
    "        m_inn = present_inn.iloc[0]['inn']\n",
    "        if _inn != m_inn:\n",
    "            print(f'ERROR {_inn} != {m_inn}')\n",
    "            return\n",
    "    else:\n",
    "        guid = supplier.iloc[0]['guid']\n",
    "        cur = conn.cursor()\n",
    "        cur.execute(f\"UPDATE supplier_info SET inn = '{_inn}' WHERE guid='{guid}'\")\n",
    "        conn.commit()\n",
    "        cur.close()\n",
    "\n",
    "    guids = supplier['guid'].tolist()\n",
    "    query_guids = list_to_query(guids)\n",
    "\n",
    "    cur = conn.cursor()\n",
    "    cur.execute(f\"UPDATE application SET supplier_guid = '{guid}' WHERE supplier_guid in ({query_guids})\")\n",
    "    conn.commit()\n",
    "    cur.close()"
   ],
   "metadata": {
    "collapsed": false,
    "pycharm": {
     "name": "#%%\n"
    }
   }
  },
  {
   "cell_type": "markdown",
   "source": [
    "### АО \"Фармация\"\n",
    "https://www.rusprofile.ru/id/1601224"
   ],
   "metadata": {
    "collapsed": false,
    "pycharm": {
     "name": "#%% md\n"
    }
   }
  },
  {
   "cell_type": "code",
   "execution_count": 8,
   "outputs": [],
   "source": [
    "names = ['АО \"Фармация\"', 'Акционерное общество \"Фармация\"']\n",
    "inn = \"7202157342\"\n",
    "fill_supplier_inn(names, inn)"
   ],
   "metadata": {
    "collapsed": false,
    "pycharm": {
     "name": "#%%\n"
    }
   }
  },
  {
   "cell_type": "markdown",
   "source": [
    "### АО «Медико-санитарная часть «Нефтяник»\n",
    "https://www.rusprofile.ru/id/145266"
   ],
   "metadata": {
    "collapsed": false,
    "pycharm": {
     "name": "#%% md\n"
    }
   }
  },
  {
   "cell_type": "code",
   "execution_count": 9,
   "outputs": [],
   "source": [
    "names = [\n",
    "    'АО «Медико-санитарная часть «Нефтяник»',\n",
    "    'АО \"Медико-санитарная часть \"Нефтяник\"',\n",
    "    'АО \"МСЧ \"Нефтяник\"',\n",
    "    'АО «Медико-санитарная часть «Нефтяник» ',\n",
    "    'Акционерное общество «Медико-санитарная часть «Нефтяник» '\n",
    "]\n",
    "inn = \"7202086042\"\n",
    "fill_supplier_inn(names, inn)"
   ],
   "metadata": {
    "collapsed": false,
    "pycharm": {
     "name": "#%%\n"
    }
   }
  },
  {
   "cell_type": "markdown",
   "source": [
    "### Акционерное общество «Лента»\n",
    "https://www.rusprofile.ru/id/1038748"
   ],
   "metadata": {
    "collapsed": false,
    "pycharm": {
     "name": "#%% md\n"
    }
   }
  },
  {
   "cell_type": "code",
   "execution_count": 10,
   "outputs": [],
   "source": [
    "names = ['Акционерное общество «Лента»']\n",
    "inn = \"2127008692\"\n",
    "fill_supplier_inn(names, inn)"
   ],
   "metadata": {
    "collapsed": false,
    "pycharm": {
     "name": "#%%\n"
    }
   }
  },
  {
   "cell_type": "markdown",
   "source": [
    "### ГАУЗ ТО \"ГОРОДСКАЯ ПОЛИКЛИНИКА №17\" (г.Тюмень)\n",
    "https://www.rusprofile.ru/id/2349989"
   ],
   "metadata": {
    "collapsed": false,
    "pycharm": {
     "name": "#%% md\n"
    }
   }
  },
  {
   "cell_type": "code",
   "execution_count": 11,
   "outputs": [],
   "source": [
    "names = ['ГАУЗ ТО \"ГОРОДСКАЯ ПОЛИКЛИНИКА №17\" (г.Тюмень)', 'ГАУЗ ТО \"Городская поликлиника №17\"']\n",
    "inn = \"7203116331\"\n",
    "fill_supplier_inn(names, inn)"
   ],
   "metadata": {
    "collapsed": false,
    "pycharm": {
     "name": "#%%\n"
    }
   }
  },
  {
   "cell_type": "markdown",
   "source": [
    "### ГАУЗ ТО «ОКБ №1»\n",
    "https://www.rusprofile.ru/id/9923137"
   ],
   "metadata": {
    "collapsed": false,
    "pycharm": {
     "name": "#%% md\n"
    }
   }
  },
  {
   "cell_type": "code",
   "execution_count": 12,
   "outputs": [],
   "source": [
    "names = [\n",
    "    'ГАУЗ ТО «ОКБ №1»',\n",
    "    'ГБУЗ ТО «ОКБ №1»               (г. Тюмень) ',\n",
    "    'ГБУЗ ТО \"ОБ №1\" г.Тюмень',\n",
    "    'ГБУЗ ТО \"ОКБ №1\" г.Тюмень',\n",
    "    'ГАУЗ ТО \"ОКБ №1\"',\n",
    "    'ГБУЗ ТО \"Областная клиническая больница №1\" г.Тюмени',\n",
    "    'ГБУЗ ТО \"Областная клиническая больница №1\"',\n",
    "    'Государственное бюджетное учреждение здравоохранения Тюменской области «Областная клиническая больница №1» ',\n",
    "    'ГБУЗ ТО \"ОКБ №1\"'\n",
    "]\n",
    "inn = \"7203000249\"\n",
    "fill_supplier_inn(names, inn)"
   ],
   "metadata": {
    "collapsed": false,
    "pycharm": {
     "name": "#%%\n"
    }
   }
  },
  {
   "cell_type": "markdown",
   "source": [
    "### Голенкова Маргарита Николаевна\n",
    "https://www.rusprofile.ru/ip/319325600000672"
   ],
   "metadata": {
    "collapsed": false,
    "pycharm": {
     "name": "#%% md\n"
    }
   }
  },
  {
   "cell_type": "code",
   "execution_count": 13,
   "outputs": [],
   "source": [
    "names = [\n",
    "    'ИП Голенкова М.Н.',\n",
    "    'Голенкова Маргарита Николаевна'\n",
    "]\n",
    "inn = \"323408634627\"\n",
    "fill_supplier_inn(names, inn)"
   ],
   "metadata": {
    "collapsed": false,
    "pycharm": {
     "name": "#%%\n"
    }
   }
  },
  {
   "cell_type": "markdown",
   "source": [
    "### Государственное автономное учреждение Республики Саха (Якутия) «Республиканская клиническая больница №3»\n",
    "https://www.rusprofile.ru/id/4119281"
   ],
   "metadata": {
    "collapsed": false,
    "pycharm": {
     "name": "#%% md\n"
    }
   }
  },
  {
   "cell_type": "code",
   "execution_count": 14,
   "outputs": [],
   "source": [
    "names = [\n",
    "    'Государственное автономное учреждение Республики Саха (Якутия) «Республиканская клиническая больница №3»',\n",
    "    'ГОСУДАРСТВЕННОЕ АВТОНОМНОЕ УЧРЕЖДЕНИЕ РЕСПУБЛИКИ САХА (ЯКУТИЯ) \"РЕСПУБЛИКАНСКАЯ КЛИНИЧЕСКАЯ БОЛЬНИЦА №3\"'\n",
    "]\n",
    "inn = \"1435024023\"\n",
    "fill_supplier_inn(names, inn)"
   ],
   "metadata": {
    "collapsed": false,
    "pycharm": {
     "name": "#%%\n"
    }
   }
  },
  {
   "cell_type": "markdown",
   "source": [
    "### ЗАО НПО «ГАРАНТ»\n",
    "https://www.rusprofile.ru/id/3061194"
   ],
   "metadata": {
    "collapsed": false,
    "pycharm": {
     "name": "#%% md\n"
    }
   }
  },
  {
   "cell_type": "code",
   "execution_count": 15,
   "outputs": [],
   "source": [
    "names = [\n",
    "    'ЗАО НПО «ГАРАНТ»',\n",
    "    'ЗАО НПО \"Гарант\"',\n",
    "    'ЗАО НПО «Гарант»'\n",
    "]\n",
    "inn = \"7716017505\"\n",
    "fill_supplier_inn(names, inn)"
   ],
   "metadata": {
    "collapsed": false,
    "pycharm": {
     "name": "#%%\n"
    }
   }
  },
  {
   "cell_type": "markdown",
   "source": [
    "### ИП Гарифуллин А.Н.\n",
    "https://www.rusprofile.ru/ip/317784700241060"
   ],
   "metadata": {
    "collapsed": false,
    "pycharm": {
     "name": "#%% md\n"
    }
   }
  },
  {
   "cell_type": "code",
   "execution_count": 16,
   "outputs": [],
   "source": [
    "names = [\n",
    "    'ИП Гарифуллин А.Н.',\n",
    "]\n",
    "inn = \"450132791601\"\n",
    "fill_supplier_inn(names, inn)"
   ],
   "metadata": {
    "collapsed": false,
    "pycharm": {
     "name": "#%%\n"
    }
   }
  },
  {
   "cell_type": "markdown",
   "source": [
    "### ИП Грицюк\n",
    "Без имени отчества не определить точно\n",
    "https://www.rusprofile.ru/ip/319774600160971\n",
    "https://www.rusprofile.ru/ip/315774600032550"
   ],
   "metadata": {
    "collapsed": false,
    "pycharm": {
     "name": "#%% md\n"
    }
   }
  },
  {
   "cell_type": "code",
   "execution_count": 17,
   "outputs": [],
   "source": [
    "names = ['ИП Грицюк']\n",
    "missed += names"
   ],
   "metadata": {
    "collapsed": false,
    "pycharm": {
     "name": "#%%\n"
    }
   }
  },
  {
   "cell_type": "markdown",
   "source": [
    "### ИП Резников Дмитрий Александрович\n",
    "Не определить точно\n",
    "https://www.rusprofile.ru/ip/321774600007587\n",
    "https://www.rusprofile.ru/ip/317723200001220"
   ],
   "metadata": {
    "collapsed": false,
    "pycharm": {
     "name": "#%% md\n"
    }
   }
  },
  {
   "cell_type": "code",
   "execution_count": 18,
   "outputs": [],
   "source": [
    "names = [\n",
    "    'ИП Резников Дмитрий Александрович '\n",
    "]\n",
    "missed += names"
   ],
   "metadata": {
    "collapsed": false,
    "pycharm": {
     "name": "#%%\n"
    }
   }
  },
  {
   "cell_type": "markdown",
   "source": [
    "### ИП Тороян Д.Ш.\n",
    "https://www.rusprofile.ru/ip/304720732900059"
   ],
   "metadata": {
    "collapsed": false,
    "pycharm": {
     "name": "#%% md\n"
    }
   }
  },
  {
   "cell_type": "code",
   "execution_count": 19,
   "outputs": [],
   "source": [
    "names = [\n",
    "    'ИП Тороян Дианна Шерамовна',\n",
    "    'ИП Тороян Д.Ш.',\n",
    "]\n",
    "inn = \"722800226122\"\n",
    "fill_supplier_inn(names, inn)"
   ],
   "metadata": {
    "collapsed": false,
    "pycharm": {
     "name": "#%%\n"
    }
   }
  },
  {
   "cell_type": "markdown",
   "source": [
    "### Индивидуальный предприниматель Ситников Максим Сергеевич\n",
    "Невозможно определить\n",
    "https://www.rusprofile.ru/ip/321440000015832\n",
    "https://www.rusprofile.ru/ip/321784700261540"
   ],
   "metadata": {
    "collapsed": false,
    "pycharm": {
     "name": "#%% md\n"
    }
   }
  },
  {
   "cell_type": "code",
   "execution_count": 20,
   "outputs": [],
   "source": [
    "names = [\n",
    "    'Индивидуальный предприниматель Ситников Максим Сергеевич '\n",
    "]\n",
    "missed += names"
   ],
   "metadata": {
    "collapsed": false,
    "pycharm": {
     "name": "#%%\n"
    }
   }
  },
  {
   "cell_type": "markdown",
   "source": [
    "### Индивидуальный предприниматель Солодкий Дмитрий Павлович\n",
    "https://www.rusprofile.ru/ip/310526008400032"
   ],
   "metadata": {
    "collapsed": false,
    "pycharm": {
     "name": "#%% md\n"
    }
   }
  },
  {
   "cell_type": "code",
   "execution_count": 21,
   "outputs": [],
   "source": [
    "names = [\n",
    "    'Индивидуальный предприниматель Солодкий Дмитрий Павлович'\n",
    "]\n",
    "inn = \"526098514448\"\n",
    "fill_supplier_inn(names, inn)"
   ],
   "metadata": {
    "collapsed": false,
    "pycharm": {
     "name": "#%%\n"
    }
   }
  },
  {
   "cell_type": "markdown",
   "source": [
    "### Индивидуальный предприниматель Тибирьков Сергей Евгеньевич\n",
    "https://www.rusprofile.ru/ip/314345725900031"
   ],
   "metadata": {
    "collapsed": false,
    "pycharm": {
     "name": "#%% md\n"
    }
   }
  },
  {
   "cell_type": "code",
   "execution_count": 22,
   "outputs": [],
   "source": [
    "names = [\n",
    "    'Тибирьков Сергей Евгеньевич',\n",
    "    'Индивидуальный предприниматель Тибирьков Сергей Евгеньевич'\n",
    "]\n",
    "inn = \"341700066482\"\n",
    "fill_supplier_inn(names, inn)"
   ],
   "metadata": {
    "collapsed": false,
    "pycharm": {
     "name": "#%%\n"
    }
   }
  },
  {
   "cell_type": "markdown",
   "source": [
    "### Общество с ограниченной ответственностью «Компания Экотех»\n",
    "https://www.rusprofile.ru/id/4872060"
   ],
   "metadata": {
    "collapsed": false,
    "pycharm": {
     "name": "#%% md\n"
    }
   }
  },
  {
   "cell_type": "code",
   "execution_count": 23,
   "outputs": [],
   "source": [
    "names = [\n",
    "    'Компания Экотех',\n",
    "    'Общество с ограниченной ответственностью «Компания Экотех»'\n",
    "]\n",
    "inn = \"7716681579\"\n",
    "fill_supplier_inn(names, inn)"
   ],
   "metadata": {
    "collapsed": false,
    "pycharm": {
     "name": "#%%\n"
    }
   }
  },
  {
   "cell_type": "markdown",
   "source": [
    "### ОБЩЕСТВО ОГРАНИЧЕННОЙ ОТВЕТСТВЕННОСТЬЮ \"Аква-сервис\"\n",
    "Невозможно определить\n",
    "https://www.rusprofile.ru/id/667040\n",
    "https://www.rusprofile.ru/id/6821822"
   ],
   "metadata": {
    "collapsed": false,
    "pycharm": {
     "name": "#%% md\n"
    }
   }
  },
  {
   "cell_type": "code",
   "execution_count": 24,
   "outputs": [],
   "source": [
    "names = [\n",
    "    'ОБЩЕСТВО ОГРАНИЧЕННОЙ ОТВЕТСТВЕННОСТЬЮ \"Аква-сервис\"'\n",
    "]\n",
    "missed += names"
   ],
   "metadata": {
    "collapsed": false,
    "pycharm": {
     "name": "#%%\n"
    }
   }
  },
  {
   "cell_type": "markdown",
   "source": [
    "### ОБЩЕСТВО ОГРАНИЧЕННОЙ ОТВЕТСТВЕННОСТЬЮ \"Визирь\"\n",
    "Невозможно определить\n",
    "https://www.rusprofile.ru/id/10642775\n",
    "https://www.rusprofile.ru/id/3755163"
   ],
   "metadata": {
    "collapsed": false,
    "pycharm": {
     "name": "#%% md\n"
    }
   }
  },
  {
   "cell_type": "code",
   "execution_count": 25,
   "outputs": [],
   "source": [
    "names = [\n",
    "    'ООО \"Визирь\"',\n",
    "    'ОБЩЕСТВО ОГРАНИЧЕННОЙ ОТВЕТСТВЕННОСТЬЮ \"Визирь\"'\n",
    "]\n",
    "missed += names"
   ],
   "metadata": {
    "collapsed": false,
    "pycharm": {
     "name": "#%%\n"
    }
   }
  },
  {
   "cell_type": "markdown",
   "source": [
    "### ОБЩЕСТВО ОГРАНИЧЕННОЙ ОТВЕТСТВЕННОСТЬЮ \"Лазаревка\"\n",
    "https://www.rusprofile.ru/id/5529710"
   ],
   "metadata": {
    "collapsed": false,
    "pycharm": {
     "name": "#%% md\n"
    }
   }
  },
  {
   "cell_type": "code",
   "execution_count": 26,
   "outputs": [],
   "source": [
    "names = [\n",
    "    'ООО \"Лазаревка\"',\n",
    "    'ОБЩЕСТВО ОГРАНИЧЕННОЙ ОТВЕТСТВЕННОСТЬЮ \"Лазаревка\"'\n",
    "]\n",
    "inn = \"7203267323\"\n",
    "fill_supplier_inn(names, inn)"
   ],
   "metadata": {
    "collapsed": false,
    "pycharm": {
     "name": "#%%\n"
    }
   }
  },
  {
   "cell_type": "markdown",
   "source": [
    "### ОБЩЕСТВО ОГРАНИЧЕННОЙ ОТВЕТСТВЕННОСТЬЮ \"ФармЛайн\"\n",
    "https://www.rusprofile.ru/id/3329982"
   ],
   "metadata": {
    "collapsed": false,
    "pycharm": {
     "name": "#%% md\n"
    }
   }
  },
  {
   "cell_type": "code",
   "execution_count": 27,
   "outputs": [],
   "source": [
    "names = [\n",
    "    'ОБЩЕСТВО ОГРАНИЧЕННОЙ ОТВЕТСТВЕННОСТЬЮ \"ФармЛайн\"',\n",
    "    'ООО \"ФармЛайн\"',\n",
    "    'ООО \"Фарм Лайн\"'\n",
    "]\n",
    "inn = \"7714511476\"\n",
    "fill_supplier_inn(names, inn)"
   ],
   "metadata": {
    "collapsed": false,
    "pycharm": {
     "name": "#%%\n"
    }
   }
  },
  {
   "cell_type": "markdown",
   "source": [
    "### ОБЩЕСТВО ОГРАНИЧЕННОЙ ОТВЕТСТВЕННОСТЬЮ \"ЮС ГРАНД\"\n",
    "https://www.rusprofile.ru/id/11908433"
   ],
   "metadata": {
    "collapsed": false,
    "pycharm": {
     "name": "#%% md\n"
    }
   }
  },
  {
   "cell_type": "code",
   "source": [
    "names = [\n",
    "    'ОБЩЕСТВО ОГРАНИЧЕННОЙ ОТВЕТСТВЕННОСТЬЮ \"ЮС ГРАНД\"',\n",
    "    'ОБЩЕСТВО С ОГРАНИЧЕННОЙ ОТВЕТСТВЕННОСТЬЮ \"ЮС ГРАНД\"',\n",
    "    'ОБЩЕСТВО ОГРАНИЧЕННОЙ ОТВЕТСТВЕННОСТЬЮ \"Юс Гранд\"',\n",
    "    'ООО «Юс Гранд»',\n",
    "    'Общество с ограниченной ответственностью \"ЮС ГРАНД\"',\n",
    "    'ООО \"ЮС Гранд\"'\n",
    "]\n",
    "inn = \"7203490314\"\n",
    "fill_supplier_inn(names, inn)"
   ],
   "metadata": {
    "collapsed": false,
    "pycharm": {
     "name": "#%%\n"
    }
   },
   "execution_count": 28,
   "outputs": []
  },
  {
   "cell_type": "markdown",
   "source": [
    "### ОБЩЕСТВО С ОГРАНИЧЕННОЙ ОТВЕТСТВЕННОСТЬЮ \"ТОРГОВАЯ ГРУППА \"МЯСНОЙ ДВОР\"\n",
    "https://www.rusprofile.ru/id/3768805"
   ],
   "metadata": {
    "collapsed": false,
    "pycharm": {
     "name": "#%% md\n"
    }
   }
  },
  {
   "cell_type": "code",
   "execution_count": 29,
   "outputs": [],
   "source": [
    "names = [\n",
    "    'ОБЩЕСТВО С ОГРАНИЧЕННОЙ ОТВЕТСТВЕННОСТЬЮ \"ТОРГОВАЯ ГРУППА \"МЯСНОЙ ДВОР\"',\n",
    "    'Общество с ограниченной ответственность «Торговая группа «Мясной двор»'\n",
    "]\n",
    "inn = \"5504071730\"\n",
    "fill_supplier_inn(names, inn)"
   ],
   "metadata": {
    "collapsed": false,
    "pycharm": {
     "name": "#%%\n"
    }
   }
  },
  {
   "cell_type": "markdown",
   "source": [
    "### ОБЩЕСТВО С ОГРАНИЧЕННОЙ ОТВЕТСТВЕННОСТЬЮ \"ЭНЕРГОСТРОЙ\"\n",
    "https://www.rusprofile.ru/id/7144463"
   ],
   "metadata": {
    "collapsed": false,
    "pycharm": {
     "name": "#%% md\n"
    }
   }
  },
  {
   "cell_type": "code",
   "execution_count": 30,
   "outputs": [],
   "source": [
    "names = [\n",
    "    'ОБЩЕСТВО С ОГРАНИЧЕННОЙ ОТВЕТСТВЕННОСТЬЮ \"ЭНЕРГОСТРОЙ\"',\n",
    "]\n",
    "inn = \"7733866971\"\n",
    "fill_supplier_inn(names, inn)"
   ],
   "metadata": {
    "collapsed": false,
    "pycharm": {
     "name": "#%%\n"
    }
   }
  },
  {
   "cell_type": "markdown",
   "source": [
    "### ООО \"АДР-Трафик\"\n",
    "https://www.rusprofile.ru/id/1207700376950"
   ],
   "metadata": {
    "collapsed": false,
    "pycharm": {
     "name": "#%% md\n"
    }
   }
  },
  {
   "cell_type": "code",
   "execution_count": 31,
   "outputs": [],
   "source": [
    "names = [\n",
    "    'ООО \"АДР-Трафик\"',\n",
    "]\n",
    "inn = \"9709066022\"\n",
    "fill_supplier_inn(names, inn)"
   ],
   "metadata": {
    "collapsed": false,
    "pycharm": {
     "name": "#%%\n"
    }
   }
  },
  {
   "cell_type": "markdown",
   "source": [
    "### ООО \"Аксиома БИО\"\n",
    "https://www.rusprofile.ru/id/7870899"
   ],
   "metadata": {
    "collapsed": false,
    "pycharm": {
     "name": "#%% md\n"
    }
   }
  },
  {
   "cell_type": "code",
   "execution_count": 32,
   "outputs": [],
   "source": [
    "names = [\n",
    "    'ООО \"Аксиома БИО\"',\n",
    "    'Общество с ограниченной ответственностью «АксиомаБИО»'\n",
    "]\n",
    "inn = \"7724330020\"\n",
    "fill_supplier_inn(names, inn)"
   ],
   "metadata": {
    "collapsed": false,
    "pycharm": {
     "name": "#%%\n"
    }
   }
  },
  {
   "cell_type": "markdown",
   "source": [
    "### ООО \"Альхон -Трейд\"\n",
    "https://www.rusprofile.ru/id/11614943"
   ],
   "metadata": {
    "collapsed": false,
    "pycharm": {
     "name": "#%% md\n"
    }
   }
  },
  {
   "cell_type": "code",
   "execution_count": 33,
   "outputs": [],
   "source": [
    "names = [\n",
    "    'ООО \"Альхон -Трейд\"',\n",
    "    'ООО «Альхон-Трейд»',\n",
    "    'Общество с ограниченной ответственностью \"Альхон-Трейд\"'\n",
    "]\n",
    "inn = \"7203462204\"\n",
    "fill_supplier_inn(names, inn)"
   ],
   "metadata": {
    "collapsed": false,
    "pycharm": {
     "name": "#%%\n"
    }
   }
  },
  {
   "cell_type": "markdown",
   "source": [
    "### ООО \"Альянс-Сервис\"\n",
    "https://www.rusprofile.ru/id/3785475"
   ],
   "metadata": {
    "collapsed": false,
    "pycharm": {
     "name": "#%% md\n"
    }
   }
  },
  {
   "cell_type": "code",
   "execution_count": 34,
   "outputs": [],
   "source": [
    "names = [\n",
    "    'ООО \"Альянс-Сервис\"'\n",
    "]\n",
    "inn = \"7710705784\"\n",
    "fill_supplier_inn(names, inn)"
   ],
   "metadata": {
    "collapsed": false,
    "pycharm": {
     "name": "#%%\n"
    }
   }
  },
  {
   "cell_type": "markdown",
   "source": [
    "### ООО \"ВЕРБА\"\n",
    "Невозможно определить\n",
    "https://www.rusprofile.ru/company/ooo-verba"
   ],
   "metadata": {
    "collapsed": false,
    "pycharm": {
     "name": "#%% md\n"
    }
   }
  },
  {
   "cell_type": "code",
   "execution_count": 35,
   "outputs": [],
   "source": [
    "names = [\n",
    "    'ООО \"ВЕРБА\"'\n",
    "]\n",
    "missed += names"
   ],
   "metadata": {
    "collapsed": false,
    "pycharm": {
     "name": "#%%\n"
    }
   }
  },
  {
   "cell_type": "markdown",
   "source": [
    "### ООО \"ВЭС\"\n",
    "Невозможно определить\n",
    "https://www.rusprofile.ru/id/5913281\n",
    "https://www.rusprofile.ru/id/3657772\n",
    "https://www.rusprofile.ru/id/3926182"
   ],
   "metadata": {
    "collapsed": false,
    "pycharm": {
     "name": "#%% md\n"
    }
   }
  },
  {
   "cell_type": "code",
   "execution_count": 36,
   "outputs": [],
   "source": [
    "names = [\n",
    "    'ООО \"ВЭС\"'\n",
    "]\n",
    "missed += names"
   ],
   "metadata": {
    "collapsed": false,
    "pycharm": {
     "name": "#%%\n"
    }
   }
  },
  {
   "cell_type": "markdown",
   "source": [
    "### ООО \"КомСпецТех\"\n",
    "Невозможно определить\n",
    "https://www.rusprofile.ru/id/6076474\n",
    "https://www.rusprofile.ru/id/3650602"
   ],
   "metadata": {
    "collapsed": false,
    "pycharm": {
     "name": "#%% md\n"
    }
   }
  },
  {
   "cell_type": "code",
   "execution_count": 37,
   "outputs": [],
   "source": [
    "names = [\n",
    "    'ООО \"КомСпецТех\"'\n",
    "]\n",
    "missed += names"
   ],
   "metadata": {
    "collapsed": false,
    "pycharm": {
     "name": "#%%\n"
    }
   }
  },
  {
   "cell_type": "markdown",
   "source": [
    "### ООО \"Лизоформ-СПб\"\n",
    "https://www.rusprofile.ru/id/973317"
   ],
   "metadata": {
    "collapsed": false,
    "pycharm": {
     "name": "#%% md\n"
    }
   }
  },
  {
   "cell_type": "code",
   "execution_count": 38,
   "outputs": [],
   "source": [
    "names = [\n",
    "    'ООО \"Лизоформ-СПб\"'\n",
    "]\n",
    "inn = \"7814108542\"\n",
    "fill_supplier_inn(names, inn)"
   ],
   "metadata": {
    "collapsed": false,
    "pycharm": {
     "name": "#%%\n"
    }
   }
  },
  {
   "cell_type": "markdown",
   "source": [
    "### ООО \"МедФарм\"\n",
    "Невозможно определить\n",
    "https://www.rusprofile.ru/id/7845896\n",
    "https://www.rusprofile.ru/id/10905675"
   ],
   "metadata": {
    "collapsed": false,
    "pycharm": {
     "name": "#%% md\n"
    }
   }
  },
  {
   "cell_type": "code",
   "execution_count": 39,
   "outputs": [],
   "source": [
    "names = [\n",
    "    'ООО \"МедФарм\"'\n",
    "]\n",
    "missed += names"
   ],
   "metadata": {
    "collapsed": false,
    "pycharm": {
     "name": "#%%\n"
    }
   }
  },
  {
   "cell_type": "markdown",
   "source": [
    "### ООО \"МедиАрт\"\n",
    "Невозможно определить\n",
    "https://www.rusprofile.ru/id/2738713\n",
    "https://www.rusprofile.ru/id/11854933"
   ],
   "metadata": {
    "collapsed": false,
    "pycharm": {
     "name": "#%% md\n"
    }
   }
  },
  {
   "cell_type": "code",
   "execution_count": 40,
   "outputs": [],
   "source": [
    "names = [\n",
    "    'ООО \"МедиАрт\"',\n",
    "    'ОБЩЕСТВО ОГРАНИЧЕННОЙ ОТВЕТСТВЕННОСТЬЮ \"МедиАрт\"',\n",
    "    'ООО\"МедиАрт\"'\n",
    "]\n",
    "missed += names"
   ],
   "metadata": {
    "collapsed": false,
    "pycharm": {
     "name": "#%%\n"
    }
   }
  },
  {
   "cell_type": "markdown",
   "source": [
    "### ООО \"Мединтелл\"\n",
    "https://www.rusprofile.ru/id/1571132"
   ],
   "metadata": {
    "collapsed": false,
    "pycharm": {
     "name": "#%% md\n"
    }
   }
  },
  {
   "cell_type": "code",
   "execution_count": 41,
   "outputs": [],
   "source": [
    "names = [\n",
    "    'Общество с ограниченной ответственностью \"Мединтелл\"',\n",
    "    'ООО \"Мединтелл\"',\n",
    "    'ООО «Мединтелл»',\n",
    "    'Общество с ограниченной ответственностью «Мединтелл»',\n",
    "    'ООО \"Мединтел\"'\n",
    "]\n",
    "inn = \"7202062972\"\n",
    "fill_supplier_inn(names, inn)"
   ],
   "metadata": {
    "collapsed": false,
    "pycharm": {
     "name": "#%%\n"
    }
   }
  },
  {
   "cell_type": "markdown",
   "source": [
    "### ООО \"Морозко\"\n",
    "Невозможно определить\n",
    "https://www.rusprofile.ru/id/1103928\n",
    "https://www.rusprofile.ru/id/7453274"
   ],
   "metadata": {
    "collapsed": false,
    "pycharm": {
     "name": "#%% md\n"
    }
   }
  },
  {
   "cell_type": "code",
   "execution_count": 42,
   "outputs": [],
   "source": [
    "names = [\n",
    "    'ООО \"Морозко\"',\n",
    "    'ОБЩЕСТВО С ОГРАНИЧЕННОЙ ОТВЕТСТВЕННОСТЬЮ \"МОРОЗКО\"'\n",
    "]\n",
    "missed += names"
   ],
   "metadata": {
    "collapsed": false,
    "pycharm": {
     "name": "#%%\n"
    }
   }
  },
  {
   "cell_type": "markdown",
   "source": [
    "### ОБЩЕСТВО С ОГРАНИЧЕННОЙ ОТВЕТСТВЕННОСТЬЮ \"ПРАЙДГРУПП ДВ\"\n",
    "https://www.rusprofile.ru/id/11849977"
   ],
   "metadata": {
    "collapsed": false,
    "pycharm": {
     "name": "#%% md\n"
    }
   }
  },
  {
   "cell_type": "code",
   "execution_count": 43,
   "outputs": [],
   "source": [
    "names = [\n",
    "    'ООО \"ППАЙДГРУПП ДВ\"'\n",
    "]\n",
    "inn = \"2723206455\"\n",
    "fill_supplier_inn(names, inn)"
   ],
   "metadata": {
    "collapsed": false,
    "pycharm": {
     "name": "#%%\n"
    }
   }
  },
  {
   "cell_type": "markdown",
   "source": [
    "### ООО \"ПрофЭнерго\"\n",
    "Невозможно определить\n",
    "https://www.rusprofile.ru/id/9458634\n",
    "https://www.rusprofile.ru/id/10501997"
   ],
   "metadata": {
    "collapsed": false,
    "pycharm": {
     "name": "#%% md\n"
    }
   }
  },
  {
   "cell_type": "code",
   "execution_count": 44,
   "outputs": [],
   "source": [
    "names = [\n",
    "    'ООО \"ПрофЭнерго\"'\n",
    "]\n",
    "missed += names"
   ],
   "metadata": {
    "collapsed": false,
    "pycharm": {
     "name": "#%%\n"
    }
   }
  },
  {
   "cell_type": "markdown",
   "source": [
    "### ООО \"СВ-Инжиниринг М\"\n",
    "https://www.rusprofile.ru/id/11134082"
   ],
   "metadata": {
    "collapsed": false,
    "pycharm": {
     "name": "#%% md\n"
    }
   }
  },
  {
   "cell_type": "code",
   "execution_count": 45,
   "outputs": [],
   "source": [
    "names = [\n",
    "    'Общество с ограниченной ответственностью «СВ-Инжиниринг М» ',\n",
    "    'ООО \"СВ-Инжиниринг М\"'\n",
    "]\n",
    "inn = \"7733322643\"\n",
    "fill_supplier_inn(names, inn)"
   ],
   "metadata": {
    "collapsed": false,
    "pycharm": {
     "name": "#%%\n"
    }
   }
  },
  {
   "cell_type": "markdown",
   "source": [
    "### ООО \"СибПромГаз\"\n",
    "Невозможно определить\n",
    "https://www.rusprofile.ru/id/3794392\n",
    "https://www.rusprofile.ru/id/1205400028239"
   ],
   "metadata": {
    "collapsed": false,
    "pycharm": {
     "name": "#%% md\n"
    }
   }
  },
  {
   "cell_type": "code",
   "execution_count": 46,
   "outputs": [],
   "source": [
    "names = [\n",
    "    'ООО \"СибПромГаз\"'\n",
    "]\n",
    "missed += names"
   ],
   "metadata": {
    "collapsed": false,
    "pycharm": {
     "name": "#%%\n"
    }
   }
  },
  {
   "cell_type": "markdown",
   "source": [
    "### ООО \"ТПК \"ПЛОДОРОДИЕ\"\n",
    "https://www.rusprofile.ru/id/7850830"
   ],
   "metadata": {
    "collapsed": false,
    "pycharm": {
     "name": "#%% md\n"
    }
   }
  },
  {
   "cell_type": "code",
   "execution_count": 47,
   "outputs": [],
   "source": [
    "names = [\n",
    "    'ООО \"ТПК \"ПЛОДОРОДИЕ\"',\n",
    "    'ОБЩЕСТВО С ОГРАНИЧЕННОЙ ОТВЕТСТВЕННОСТЬЮ \"ТПК \"ПЛОДОРОДИЕ\"',\n",
    "    'ОБЩЕСТВО С ОГРАНИЧЕННОЙ ОТВЕТСТВЕННОСТЬЮ ТОРГОВО-ПРОИЗВОДСТВЕННАЯ КОМПАНИЯ \"ПЛОДОРОДИЕ\"'\n",
    "]\n",
    "inn = \"7203357513\"\n",
    "fill_supplier_inn(names, inn)"
   ],
   "metadata": {
    "collapsed": false,
    "pycharm": {
     "name": "#%%\n"
    }
   }
  },
  {
   "cell_type": "markdown",
   "source": [
    "### ООО \"Тюменское АТП\"\n",
    "https://www.rusprofile.ru/id/4261942"
   ],
   "metadata": {
    "collapsed": false,
    "pycharm": {
     "name": "#%% md\n"
    }
   }
  },
  {
   "cell_type": "code",
   "execution_count": 48,
   "outputs": [],
   "source": [
    "names = [\n",
    "    'ООО \"Тюменское АТП\"',\n",
    "    'ООО \"Тюменское автотранспортное предприятие\"'\n",
    "]\n",
    "inn = \"7203141970\"\n",
    "fill_supplier_inn(names, inn)"
   ],
   "metadata": {
    "collapsed": false,
    "pycharm": {
     "name": "#%%\n"
    }
   }
  },
  {
   "cell_type": "markdown",
   "source": [
    "### ООО \"Универсал\"\n",
    "Невозможно определить\n",
    "https://www.rusprofile.ru/id/7313341\n",
    "https://www.rusprofile.ru/id/1217700123695\n",
    "https://www.rusprofile.ru/id/10357015"
   ],
   "metadata": {
    "collapsed": false,
    "pycharm": {
     "name": "#%% md\n"
    }
   }
  },
  {
   "cell_type": "code",
   "execution_count": 49,
   "outputs": [],
   "source": [
    "names = [\n",
    "    'ООО \"Универсал\"',\n",
    "    'ОБЩЕСТВО С ОГРАНИЧЕННОЙ ОТВЕТСТВЕННОСТЬЮ \"УНИВЕРСАЛ\"'\n",
    "]\n",
    "missed += names"
   ],
   "metadata": {
    "collapsed": false,
    "pycharm": {
     "name": "#%%\n"
    }
   }
  },
  {
   "cell_type": "markdown",
   "source": [
    "### ООО \"Фармплюс\"\n",
    "https://www.rusprofile.ru/id/11907388"
   ],
   "metadata": {
    "collapsed": false,
    "pycharm": {
     "name": "#%% md\n"
    }
   }
  },
  {
   "cell_type": "code",
   "execution_count": 50,
   "outputs": [],
   "source": [
    "names = [\n",
    "    'ООО «Фармплюс»',\n",
    "    'ООО \"Фармплюс\"'\n",
    "]\n",
    "inn = \"6658529147\"\n",
    "fill_supplier_inn(names, inn)"
   ],
   "metadata": {
    "collapsed": false,
    "pycharm": {
     "name": "#%%\n"
    }
   }
  },
  {
   "cell_type": "markdown",
   "source": [
    "### ООО \"Энергосервиис\"\n",
    "Невозможно определить\n",
    "https://www.rusprofile.ru/id/5444108\n",
    "https://www.rusprofile.ru/id/5850085"
   ],
   "metadata": {
    "collapsed": false,
    "pycharm": {
     "name": "#%% md\n"
    }
   }
  },
  {
   "cell_type": "code",
   "execution_count": 51,
   "outputs": [],
   "source": [
    "names = [\n",
    "    'ООО \"Энергосервиис\"'\n",
    "]\n",
    "missed += names"
   ],
   "metadata": {
    "collapsed": false,
    "pycharm": {
     "name": "#%%\n"
    }
   }
  },
  {
   "cell_type": "markdown",
   "source": [
    "### ООО \"Лаборатория Медилис\"\n",
    "https://www.rusprofile.ru/id/341280"
   ],
   "metadata": {
    "collapsed": false,
    "pycharm": {
     "name": "#%% md\n"
    }
   }
  },
  {
   "cell_type": "code",
   "execution_count": 52,
   "outputs": [],
   "source": [
    "names = [\n",
    "    'ООО \"Лаборатория МедиЛИС\"',\n",
    "    'ООО 2лаборатория МедиЛИС\"'\n",
    "]\n",
    "inn = \"7726625051\"\n",
    "fill_supplier_inn(names, inn)"
   ],
   "metadata": {
    "collapsed": false,
    "pycharm": {
     "name": "#%%\n"
    }
   }
  },
  {
   "cell_type": "markdown",
   "source": [
    "### ООО «1П Технолоджиз»\n",
    "https://www.rusprofile.ru/id/6908865"
   ],
   "metadata": {
    "collapsed": false,
    "pycharm": {
     "name": "#%% md\n"
    }
   }
  },
  {
   "cell_type": "code",
   "execution_count": 53,
   "outputs": [],
   "source": [
    "names = [\n",
    "    'ООО \"1П Технолоджиз\"',\n",
    "    'ООО «1П Технолоджиз»',\n",
    "    'ОБЩЕСТВО С ОГРАНИЧЕННОЙ ОТВЕТСТВЕННОСТЬЮ \"1П ТЕХНОЛОДЖИЗ\"'\n",
    "]\n",
    "inn = \"7714905135\"\n",
    "fill_supplier_inn(names, inn)"
   ],
   "metadata": {
    "collapsed": false,
    "pycharm": {
     "name": "#%%\n"
    }
   }
  },
  {
   "cell_type": "markdown",
   "source": [
    "### ООО «Альянс-Сервис Салават»\n",
    "https://www.rusprofile.ru/id/11964696"
   ],
   "metadata": {
    "collapsed": false,
    "pycharm": {
     "name": "#%% md\n"
    }
   }
  },
  {
   "cell_type": "code",
   "execution_count": 54,
   "outputs": [],
   "source": [
    "names = [\n",
    "    'ООО «Альянс-Сервис Салават»',\n",
    "    'ОБЩЕСТВО С ОГРАНИЧЕННОЙ ОТВЕТСТВЕННОСТЬЮ \"АЛЬЯНС-СЕРВИС САЛАВАТ\"'\n",
    "]\n",
    "inn = \"0274953083\"\n",
    "fill_supplier_inn(names, inn)"
   ],
   "metadata": {
    "collapsed": false,
    "pycharm": {
     "name": "#%%\n"
    }
   }
  },
  {
   "cell_type": "markdown",
   "source": [
    "### ООО «Диагностические системы-Урал»\n",
    "https://www.rusprofile.ru/id/6584165"
   ],
   "metadata": {
    "collapsed": false,
    "pycharm": {
     "name": "#%% md\n"
    }
   }
  },
  {
   "cell_type": "code",
   "execution_count": 55,
   "outputs": [],
   "source": [
    "names = [\n",
    "    'ООО \"Диагностические системы-Урал\"',\n",
    "    'ООО «Диагностические системы-Урал»'\n",
    "]\n",
    "inn = \"6685024025\"\n",
    "fill_supplier_inn(names, inn)"
   ],
   "metadata": {
    "collapsed": false,
    "pycharm": {
     "name": "#%%\n"
    }
   }
  },
  {
   "cell_type": "markdown",
   "source": [
    "### ООО «Евроген Лаб»\n",
    "https://www.rusprofile.ru/id/2904166"
   ],
   "metadata": {
    "collapsed": false,
    "pycharm": {
     "name": "#%% md\n"
    }
   }
  },
  {
   "cell_type": "code",
   "execution_count": 56,
   "outputs": [],
   "source": [
    "names = [\n",
    "    'ООО \"Евроген Лаб\"',\n",
    "    'ООО «Евроген Лаб»'\n",
    "]\n",
    "inn = \"7728650342\"\n",
    "fill_supplier_inn(names, inn)"
   ],
   "metadata": {
    "collapsed": false,
    "pycharm": {
     "name": "#%%\n"
    }
   }
  },
  {
   "cell_type": "markdown",
   "source": [
    "### ООО «МЕДИКОМ»\n",
    "Невозможно определить\n",
    "https://www.rusprofile.ru/id/4005650\n",
    "https://www.rusprofile.ru/id/4334735"
   ],
   "metadata": {
    "collapsed": false,
    "pycharm": {
     "name": "#%% md\n"
    }
   }
  },
  {
   "cell_type": "code",
   "execution_count": 57,
   "outputs": [],
   "source": [
    "names = [\n",
    "    'ООО «МЕДИКОМ» '\n",
    "]\n",
    "missed += names"
   ],
   "metadata": {
    "collapsed": false,
    "pycharm": {
     "name": "#%%\n"
    }
   }
  },
  {
   "cell_type": "markdown",
   "source": [
    "### ООО «МедПартнер»\n",
    "Невозможно определить\n",
    "https://www.rusprofile.ru/id/11930686\n",
    "https://www.rusprofile.ru/id/7764744"
   ],
   "metadata": {
    "collapsed": false,
    "pycharm": {
     "name": "#%% md\n"
    }
   }
  },
  {
   "cell_type": "code",
   "execution_count": 58,
   "outputs": [],
   "source": [
    "names = [\n",
    "    'ООО «МедПартнер»'\n",
    "]\n",
    "missed += names"
   ],
   "metadata": {
    "collapsed": false,
    "pycharm": {
     "name": "#%%\n"
    }
   }
  },
  {
   "cell_type": "markdown",
   "source": [
    "### ООО «НХРС»\n",
    "https://www.rusprofile.ru/id/1877388"
   ],
   "metadata": {
    "collapsed": false,
    "pycharm": {
     "name": "#%% md\n"
    }
   }
  },
  {
   "cell_type": "code",
   "execution_count": 59,
   "outputs": [],
   "source": [
    "names = [\n",
    "    'ООО «НХРС',\n",
    "    'ООО «НХРС»',\n",
    "    'ООО «НХРС» ',\n",
    "    'ООО «НХРС»,',\n",
    "    'ООО НХРС'\n",
    "]\n",
    "inn = \"6125028059\"\n",
    "fill_supplier_inn(names, inn)"
   ],
   "metadata": {
    "collapsed": false,
    "pycharm": {
     "name": "#%%\n"
    }
   }
  },
  {
   "cell_type": "markdown",
   "source": [
    "### ООО «Научно-методический центр клинической лабораторной диагностики Ситилаб»\n",
    "https://www.rusprofile.ru/id/5417508"
   ],
   "metadata": {
    "collapsed": false,
    "pycharm": {
     "name": "#%% md\n"
    }
   }
  },
  {
   "cell_type": "code",
   "execution_count": 60,
   "outputs": [],
   "source": [
    "names = [\n",
    "    'ООО «Научно-методический центр клинической лабораторной диагностики Ситилаб»',\n",
    "    'ОБЩЕСТВО С ОГРАНИЧЕННОЙ ОТВЕТСТВЕННОСТЬЮ \"НАУЧНО-МЕТОДИЧЕСКИЙ ЦЕНТР КЛИНИЧЕСКОЙ ЛАБОРАТОРНОЙ ДИАГНОСТИКИ СИТИЛАБ\"'\n",
    "]\n",
    "inn = \"7714822471\"\n",
    "fill_supplier_inn(names, inn)"
   ],
   "metadata": {
    "collapsed": false,
    "pycharm": {
     "name": "#%%\n"
    }
   }
  },
  {
   "cell_type": "markdown",
   "source": [
    "### ООО «РТК-Инвест\n",
    "https://www.rusprofile.ru/id/11471403"
   ],
   "metadata": {
    "collapsed": false,
    "pycharm": {
     "name": "#%% md\n"
    }
   }
  },
  {
   "cell_type": "code",
   "execution_count": 61,
   "outputs": [],
   "source": [
    "names = [\n",
    "    'ООО «РТК-Инвест  ',\n",
    "    'ООО «РТК-Инвест»',\n",
    "    'ОБЩЕСТВО С ОГРАНИЧЕННОЙ ОТВЕТСТВЕННОСТЬЮ \"РТК-ИНВЕСТ\"'\n",
    "]\n",
    "inn = \"7726434025\"\n",
    "fill_supplier_inn(names, inn)"
   ],
   "metadata": {
    "collapsed": false,
    "pycharm": {
     "name": "#%%\n"
    }
   }
  },
  {
   "cell_type": "markdown",
   "source": [
    "### ООО \" Русал Медицинский Центр \"\n",
    "https://www.rusprofile.ru/id/225224"
   ],
   "metadata": {
    "collapsed": false,
    "pycharm": {
     "name": "#%% md\n"
    }
   }
  },
  {
   "cell_type": "code",
   "execution_count": 62,
   "outputs": [],
   "source": [
    "names = [\n",
    "    'ООО «РУСАЛ Медицинский Центр»'\n",
    "]\n",
    "inn = \"2465094460\"\n",
    "fill_supplier_inn(names, inn)"
   ],
   "metadata": {
    "collapsed": false,
    "pycharm": {
     "name": "#%%\n"
    }
   }
  },
  {
   "cell_type": "markdown",
   "source": [
    "### ООО «Радника»\n",
    "https://www.rusprofile.ru/id/6709045"
   ],
   "metadata": {
    "collapsed": false,
    "pycharm": {
     "name": "#%% md\n"
    }
   }
  },
  {
   "cell_type": "code",
   "execution_count": 63,
   "outputs": [],
   "source": [
    "names = [\n",
    "    'ООО «Радника»'\n",
    "]\n",
    "inn = \"2543023195\"\n",
    "fill_supplier_inn(names, inn)"
   ],
   "metadata": {
    "collapsed": false,
    "pycharm": {
     "name": "#%%\n"
    }
   }
  },
  {
   "cell_type": "markdown",
   "source": [
    "### ООО «СТАТУС-РЕГИОН»\n",
    "Невозможно определить\n",
    "https://www.rusprofile.ru/id/3115817\n",
    "https://www.rusprofile.ru/id/11703691"
   ],
   "metadata": {
    "collapsed": false,
    "pycharm": {
     "name": "#%% md\n"
    }
   }
  },
  {
   "cell_type": "code",
   "execution_count": 64,
   "outputs": [],
   "source": [
    "names = [\n",
    "    'ООО «СТАТУС-РЕГИОН»'\n",
    "]\n",
    "missed += names"
   ],
   "metadata": {
    "collapsed": false,
    "pycharm": {
     "name": "#%%\n"
    }
   }
  },
  {
   "cell_type": "markdown",
   "source": [
    "### ООО Авиа-1\n",
    "https://www.rusprofile.ru/id/11221940"
   ],
   "metadata": {
    "collapsed": false,
    "pycharm": {
     "name": "#%% md\n"
    }
   }
  },
  {
   "cell_type": "code",
   "execution_count": 65,
   "outputs": [],
   "source": [
    "names = [\n",
    "    'ООО Авиа-1'\n",
    "]\n",
    "inn = \"9705111387\"\n",
    "fill_supplier_inn(names, inn)"
   ],
   "metadata": {
    "collapsed": false,
    "pycharm": {
     "name": "#%%\n"
    }
   }
  },
  {
   "cell_type": "markdown",
   "source": [
    "### ООО Апоцентр\n",
    "Невозможно определить\n",
    "https://www.rusprofile.ru/id/1784630\n",
    "https://www.rusprofile.ru/id/301648"
   ],
   "metadata": {
    "collapsed": false,
    "pycharm": {
     "name": "#%% md\n"
    }
   }
  },
  {
   "cell_type": "code",
   "execution_count": 66,
   "outputs": [],
   "source": [
    "names = [\n",
    "    'ООО Апоцентр'\n",
    "]\n",
    "missed += names"
   ],
   "metadata": {
    "collapsed": false,
    "pycharm": {
     "name": "#%%\n"
    }
   }
  },
  {
   "cell_type": "markdown",
   "source": [
    "### ООО ДНК Технология\n",
    "https://www.rusprofile.ru/id/2749627"
   ],
   "metadata": {
    "collapsed": false,
    "pycharm": {
     "name": "#%% md\n"
    }
   }
  },
  {
   "cell_type": "code",
   "execution_count": 67,
   "outputs": [],
   "source": [
    "names = [\n",
    "    'ООО \"ДНК-Технология\"',\n",
    "    'ООО ДНК Технология',\n",
    "    'ООО ДНК-Технология'\n",
    "]\n",
    "inn = \"7723537840\"\n",
    "fill_supplier_inn(names, inn)"
   ],
   "metadata": {
    "collapsed": false,
    "pycharm": {
     "name": "#%%\n"
    }
   }
  },
  {
   "cell_type": "markdown",
   "source": [
    "### ООО ИнтерЛабСервис\n",
    "https://www.rusprofile.ru/id/630939"
   ],
   "metadata": {
    "collapsed": false,
    "pycharm": {
     "name": "#%% md\n"
    }
   }
  },
  {
   "cell_type": "code",
   "execution_count": 68,
   "outputs": [],
   "source": [
    "names = [\n",
    "    'ОБЩЕСТВО С ОГРАНИЧЕННОЙ ОТВЕТСТВЕННОСТЬЮ \"ИНТЕРЛАБСЕРВИС\"',\n",
    "    'ООО  \"ИнтерЛабСервис\"',\n",
    "    'ООО \"ИнтерЛабСервис\"',\n",
    "    'ООО ИнтерЛабСервис'\n",
    "]\n",
    "inn = \"7720263905\"\n",
    "fill_supplier_inn(names, inn)"
   ],
   "metadata": {
    "collapsed": false,
    "pycharm": {
     "name": "#%%\n"
    }
   }
  },
  {
   "cell_type": "markdown",
   "source": [
    "### ООО Компания ПанЭко\n",
    "https://www.rusprofile.ru/id/3562008"
   ],
   "metadata": {
    "collapsed": false,
    "pycharm": {
     "name": "#%% md\n"
    }
   }
  },
  {
   "cell_type": "code",
   "execution_count": 69,
   "outputs": [],
   "source": [
    "names = [\n",
    "    'ООО Компания ПанЭко',\n",
    "    'ОБЩЕСТВО С ОГРАНИЧЕННОЙ ОТВЕТСТВЕННОСТЬЮ \"КОМПАНИЯ \"ПАНЭКО\"'\n",
    "]\n",
    "inn = \"7723613788\"\n",
    "fill_supplier_inn(names, inn)"
   ],
   "metadata": {
    "collapsed": false,
    "pycharm": {
     "name": "#%%\n"
    }
   }
  },
  {
   "cell_type": "markdown",
   "source": [
    "### ООО НПП \"Ареал\"\n",
    "https://www.rusprofile.ru/id/10638707"
   ],
   "metadata": {
    "collapsed": false,
    "pycharm": {
     "name": "#%% md\n"
    }
   }
  },
  {
   "cell_type": "code",
   "execution_count": 70,
   "outputs": [],
   "source": [
    "names = [\n",
    "    'ООО НПП \"Ареал\"',\n",
    "    'ОБЩЕСТВО С ОГРАНИЧЕННОЙ ОТВЕТСТВЕННОСТЬЮ НАУЧНО-ПРОИЗВОДСТВЕННОЕ ПРЕДПРИЯТИЕ \"АРЕАЛ\"',\n",
    "    'ООО НПП \"АРЕАЛ\"'\n",
    "]\n",
    "inn = \"0277915495\"\n",
    "fill_supplier_inn(names, inn)"
   ],
   "metadata": {
    "collapsed": false,
    "pycharm": {
     "name": "#%%\n"
    }
   }
  },
  {
   "cell_type": "markdown",
   "source": [
    "### ООО Ормет\n",
    "https://www.rusprofile.ru/id/4214586"
   ],
   "metadata": {
    "collapsed": false,
    "pycharm": {
     "name": "#%% md\n"
    }
   }
  },
  {
   "cell_type": "code",
   "execution_count": 71,
   "outputs": [],
   "source": [
    "names = [\n",
    "    'ООО Ормет'\n",
    "]\n",
    "inn = \"7704547804\"\n",
    "fill_supplier_inn(names, inn)"
   ],
   "metadata": {
    "collapsed": false,
    "pycharm": {
     "name": "#%%\n"
    }
   }
  },
  {
   "cell_type": "markdown",
   "source": [
    "### ООО Растер\n",
    "https://www.rusprofile.ru/id/3295495"
   ],
   "metadata": {
    "collapsed": false,
    "pycharm": {
     "name": "#%% md\n"
    }
   }
  },
  {
   "cell_type": "code",
   "execution_count": 72,
   "outputs": [],
   "source": [
    "names = [\n",
    "    'ООО \"Растер\"',\n",
    "    'ООО Растер'\n",
    "]\n",
    "inn = \"6658037917\"\n",
    "fill_supplier_inn(names, inn)"
   ],
   "metadata": {
    "collapsed": false,
    "pycharm": {
     "name": "#%%\n"
    }
   }
  },
  {
   "cell_type": "markdown",
   "source": [
    "### ООО Торговый Дом «Артекс»\n",
    "https://www.rusprofile.ru/id/7899899"
   ],
   "metadata": {
    "collapsed": false,
    "pycharm": {
     "name": "#%% md\n"
    }
   }
  },
  {
   "cell_type": "code",
   "execution_count": 73,
   "outputs": [],
   "source": [
    "names = [\n",
    "    'ООО Торговый Дом «Артекс» ',\n",
    "    'ОБЩЕСТВО С ОГРАНИЧЕННОЙ ОТВЕТСТВЕННОСТЬЮ ТОРГОВЫЙ ДОМ \"АРТЕКС\"'\n",
    "]\n",
    "inn = \"3702121280\"\n",
    "fill_supplier_inn(names, inn)"
   ],
   "metadata": {
    "collapsed": false,
    "pycharm": {
     "name": "#%%\n"
    }
   }
  },
  {
   "cell_type": "markdown",
   "source": [
    "### ООО Элтемикс\n",
    "https://www.rusprofile.ru/id/7446829"
   ],
   "metadata": {
    "collapsed": false,
    "pycharm": {
     "name": "#%% md\n"
    }
   }
  },
  {
   "cell_type": "code",
   "execution_count": 74,
   "outputs": [],
   "source": [
    "names = [\n",
    "    'Общество с ограниченной ответственностью «Элтемикс»',\n",
    "    'ООО Элтемикс'\n",
    "]\n",
    "inn = \"3666197034\"\n",
    "fill_supplier_inn(names, inn)"
   ],
   "metadata": {
    "collapsed": false,
    "pycharm": {
     "name": "#%%\n"
    }
   }
  },
  {
   "cell_type": "markdown",
   "source": [
    "### ООО Юго-Запад\n",
    "Невозможно определить\n",
    "https://www.rusprofile.ru/id/6909642\n",
    "https://www.rusprofile.ru/id/2169570"
   ],
   "metadata": {
    "collapsed": false,
    "pycharm": {
     "name": "#%% md\n"
    }
   }
  },
  {
   "cell_type": "code",
   "execution_count": 75,
   "outputs": [],
   "source": [
    "names = [\n",
    "    'ООО Юго-Запад'\n",
    "]\n",
    "missed += names"
   ],
   "metadata": {
    "collapsed": false,
    "pycharm": {
     "name": "#%%\n"
    }
   }
  },
  {
   "cell_type": "markdown",
   "source": [
    "### ООО фирма «Тритон-ЭлектроникС»  г. Екатеринбург\n",
    "https://www.rusprofile.ru/id/2415060"
   ],
   "metadata": {
    "collapsed": false,
    "pycharm": {
     "name": "#%% md\n"
    }
   }
  },
  {
   "cell_type": "code",
   "execution_count": 76,
   "outputs": [],
   "source": [
    "names = [\n",
    "    'ООО фирма «Тритон-ЭлектроникС»  г. Екатеринбург'\n",
    "]\n",
    "inn = \"6659005570\"\n",
    "fill_supplier_inn(names, inn)"
   ],
   "metadata": {
    "collapsed": false,
    "pycharm": {
     "name": "#%%\n"
    }
   }
  },
  {
   "cell_type": "markdown",
   "source": [
    "### ООО\"Экострой\"\n",
    "https://www.rusprofile.ru/id/7116995"
   ],
   "metadata": {
    "collapsed": false,
    "pycharm": {
     "name": "#%% md\n"
    }
   }
  },
  {
   "cell_type": "code",
   "execution_count": 77,
   "outputs": [],
   "source": [
    "names = [\n",
    "    'ООО \"Экострой\"',\n",
    "    'ООО\"Экострой\"',\n",
    "    'Общество с ограниченной ответственностью “Экострой”'\n",
    "]\n",
    "inn = \"5032269606\"\n",
    "fill_supplier_inn(names, inn)"
   ],
   "metadata": {
    "collapsed": false,
    "pycharm": {
     "name": "#%%\n"
    }
   }
  },
  {
   "cell_type": "markdown",
   "source": [
    "### Общество с ограниченной ответственностью «МЕДИПАЛ-ОНКО»\n",
    "https://www.rusprofile.ru/id/879084"
   ],
   "metadata": {
    "collapsed": false,
    "pycharm": {
     "name": "#%% md\n"
    }
   }
  },
  {
   "cell_type": "code",
   "execution_count": 78,
   "outputs": [],
   "source": [
    "names = [\n",
    "    'Общество с ограниченной ответственностью         «МЕДИПАЛ-ОНКО»',\n",
    "    'ООО \"Медипал-Онко\" ',\n",
    "    'Общество с ограниченной ответственностью «Медипал-онко»',\n",
    "    'Общество с ограниченной ответственностью «Медипал-ОНКО»'\n",
    "]\n",
    "inn = \"7701213835\"\n",
    "fill_supplier_inn(names, inn)"
   ],
   "metadata": {
    "collapsed": false,
    "pycharm": {
     "name": "#%%\n"
    }
   }
  },
  {
   "cell_type": "markdown",
   "source": [
    "### Общество с ограниченной ответственностью \"ОллНэт\"\n",
    "https://www.rusprofile.ru/id/2514066"
   ],
   "metadata": {
    "collapsed": false,
    "pycharm": {
     "name": "#%% md\n"
    }
   }
  },
  {
   "cell_type": "code",
   "execution_count": 79,
   "outputs": [],
   "source": [
    "names = [\n",
    "    'Общество с ограниченной ответственностью \"ОллНэт\"',\n",
    "    'ООО \"ОллНэт\"'\n",
    "]\n",
    "inn = \"5047111570\"\n",
    "fill_supplier_inn(names, inn)"
   ],
   "metadata": {
    "collapsed": false,
    "pycharm": {
     "name": "#%%\n"
    }
   }
  },
  {
   "cell_type": "markdown",
   "source": [
    "### Общество с ограниченной ответственностью «БионаФарм»\n",
    "https://www.rusprofile.ru/id/235398"
   ],
   "metadata": {
    "collapsed": false,
    "pycharm": {
     "name": "#%% md\n"
    }
   }
  },
  {
   "cell_type": "code",
   "execution_count": 80,
   "outputs": [],
   "source": [
    "names = [\n",
    "    'Общество с ограниченной ответственностью «БионаФарм»',\n",
    "    'ООО \"БионаФарм\"'\n",
    "]\n",
    "inn = \"7725628067\"\n",
    "fill_supplier_inn(names, inn)"
   ],
   "metadata": {
    "collapsed": false,
    "pycharm": {
     "name": "#%%\n"
    }
   }
  },
  {
   "cell_type": "markdown",
   "source": [
    "### Общество с ограниченной ответственностью «Виталон»\n",
    "https://www.rusprofile.ru/id/10830392"
   ],
   "metadata": {
    "collapsed": false,
    "pycharm": {
     "name": "#%% md\n"
    }
   }
  },
  {
   "cell_type": "code",
   "execution_count": 81,
   "outputs": [],
   "source": [
    "names = [\n",
    "    'Общество с ограниченной ответственностью «Виталон»',\n",
    "    'Общество с ограниченной ответственностью \"ВИТАЛОН\"',\n",
    "    'ООО «ВИТАЛОН»'\n",
    "]\n",
    "inn = \"5017112368\"\n",
    "fill_supplier_inn(names, inn)"
   ],
   "metadata": {
    "collapsed": false,
    "pycharm": {
     "name": "#%%\n"
    }
   }
  },
  {
   "cell_type": "markdown",
   "source": [
    "### Общество с ограниченной ответственностью «ДВ АльфаРесурс»\n",
    "https://www.rusprofile.ru/id/657468"
   ],
   "metadata": {
    "collapsed": false,
    "pycharm": {
     "name": "#%% md\n"
    }
   }
  },
  {
   "cell_type": "code",
   "execution_count": 82,
   "outputs": [],
   "source": [
    "names = [\n",
    "    'Общество с ограниченной ответственностью «ДВ АльфаРесурс»'\n",
    "]\n",
    "inn = \"2537083622\"\n",
    "fill_supplier_inn(names, inn)"
   ],
   "metadata": {
    "collapsed": false,
    "pycharm": {
     "name": "#%%\n"
    }
   }
  },
  {
   "cell_type": "markdown",
   "source": [
    "### Общество с ограниченной ответственностью «ОБЛАСТНАЯ СЛУЖБА ДЕЗИНФЕКЦИИ»\n",
    "https://www.rusprofile.ru/id/10814954"
   ],
   "metadata": {
    "collapsed": false,
    "pycharm": {
     "name": "#%% md\n"
    }
   }
  },
  {
   "cell_type": "code",
   "execution_count": 83,
   "outputs": [],
   "source": [
    "names = [\n",
    "    'Общество с ограниченной ответственностью «ОБЛАСТНАЯ СЛУЖБА ДЕЗИНФЕКЦИИ» '\n",
    "]\n",
    "inn = \"7203405333\"\n",
    "fill_supplier_inn(names, inn)"
   ],
   "metadata": {
    "collapsed": false,
    "pycharm": {
     "name": "#%%\n"
    }
   }
  },
  {
   "cell_type": "markdown",
   "source": [
    "### Общество с ограниченной ответственностью «Универ Клаб»\n",
    "https://www.rusprofile.ru/id/5919105"
   ],
   "metadata": {
    "collapsed": false,
    "pycharm": {
     "name": "#%% md\n"
    }
   }
  },
  {
   "cell_type": "code",
   "execution_count": 84,
   "outputs": [],
   "source": [
    "names = [\n",
    "    'Общество с ограниченной ответственностью «Универ Клаб»',\n",
    "    'ОБЩЕСТВО С ОГРАНИЧЕННОЙ ОТВЕТСТВЕННОСТЬЮ \"УНИВЕР КЛАБ\"'\n",
    "]\n",
    "inn = \"7728789672\"\n",
    "fill_supplier_inn(names, inn)"
   ],
   "metadata": {
    "collapsed": false,
    "pycharm": {
     "name": "#%%\n"
    }
   }
  },
  {
   "cell_type": "markdown",
   "source": [
    "### Общество с ограниченной ответственностью Производственно-торговая компания «Профессиональный Лидер»\n",
    "https://www.rusprofile.ru/id/10315641"
   ],
   "metadata": {
    "collapsed": false,
    "pycharm": {
     "name": "#%% md\n"
    }
   }
  },
  {
   "cell_type": "code",
   "execution_count": 85,
   "outputs": [],
   "source": [
    "names = [\n",
    "    'Общество с ограниченной ответственностью Производственно-торговая компания «Профессиональный Лидер»',\n",
    "    'Общество с ограниченной ответственностью Производственно-торговая компания «Профессиональный Лидер» '\n",
    "]\n",
    "inn = \"7203370313\"\n",
    "fill_supplier_inn(names, inn)"
   ],
   "metadata": {
    "collapsed": false,
    "pycharm": {
     "name": "#%%\n"
    }
   }
  },
  {
   "cell_type": "markdown",
   "source": [
    "### Обществом с ограниченной ответственностью «Эколайф»\n",
    "Невозможно определить\n",
    "https://www.rusprofile.ru/id/11475993\n",
    "https://www.rusprofile.ru/id/6914001\n",
    "https://www.rusprofile.ru/id/7099261"
   ],
   "metadata": {
    "collapsed": false,
    "pycharm": {
     "name": "#%% md\n"
    }
   }
  },
  {
   "cell_type": "code",
   "execution_count": 86,
   "outputs": [],
   "source": [
    "names = [\n",
    "    'Обществом с ограниченной ответственностью «Эколайф»'\n",
    "]\n",
    "missed += names"
   ],
   "metadata": {
    "collapsed": false,
    "pycharm": {
     "name": "#%%\n"
    }
   }
  },
  {
   "cell_type": "markdown",
   "source": [
    "### Пителин Сергей Михайлович\n",
    "https://www.rusprofile.ru/ip/317470400078813"
   ],
   "metadata": {
    "collapsed": false,
    "pycharm": {
     "name": "#%% md\n"
    }
   }
  },
  {
   "cell_type": "code",
   "execution_count": 87,
   "outputs": [],
   "source": [
    "names = [\n",
    "    'Пителин Сергей Михайлович ',\n",
    "    'Пителин Сергей Михайлович'\n",
    "]\n",
    "inn = \"301505252144\"\n",
    "fill_supplier_inn(names, inn)"
   ],
   "metadata": {
    "collapsed": false,
    "pycharm": {
     "name": "#%%\n"
    }
   }
  },
  {
   "cell_type": "markdown",
   "source": [
    "### Погорелко Владимир Иванович\n",
    "На руспрофайле нет, взято из БД"
   ],
   "metadata": {
    "collapsed": false,
    "pycharm": {
     "name": "#%% md\n"
    }
   }
  },
  {
   "cell_type": "code",
   "execution_count": 88,
   "outputs": [],
   "source": [
    "names = [\n",
    "    'Погорелко Владимир Иванович',\n",
    "]\n",
    "inn = \"551400222527\"\n",
    "fill_supplier_inn(names, inn)"
   ],
   "metadata": {
    "collapsed": false,
    "pycharm": {
     "name": "#%%\n"
    }
   }
  },
  {
   "cell_type": "markdown",
   "source": [
    "### ФБУ НАУКИ \"ЦЕНТРАЛЬНЫЙ НАУЧНО-ИССЛЕДОВАТЕЛЬСКИЙ ИНСТИТУТ ЭПИДЕМИОЛОГИИ\" ФЕДЕРАЛЬНОЙ СЛУЖБЫ ПО НАДЗОРУ В СФЕРЕ ЗАЩИТЫ ПРАВ ПОТРЕБИТЕЛЕЙ И БЛАГОПОЛУЧИЯ ЧЕЛОВЕКА\n",
    "https://www.rusprofile.ru/id/2873325"
   ],
   "metadata": {
    "collapsed": false,
    "pycharm": {
     "name": "#%% md\n"
    }
   }
  },
  {
   "cell_type": "code",
   "execution_count": 89,
   "outputs": [],
   "source": [
    "names = [\n",
    "    'ФБУ НАУКИ \"ЦЕНТРАЛЬНЫЙ НАУЧНО-ИССЛЕДОВАТЕЛЬСКИЙ ИНСТИТУТ ЭПИДЕМИОЛОГИИ\" ФЕДЕРАЛЬНОЙ СЛУЖБЫ ПО НАДЗОРУ В СФЕРЕ ЗАЩИТЫ ПРАВ ПОТРЕБИТЕЛЕЙ И БЛАГОПОЛУЧИЯ ЧЕЛОВЕКА ',\n",
    "    'ФБУН ЦНИИ Эпидемиологии Роспотребнадзора'\n",
    "]\n",
    "inn = \"7720024671\"\n",
    "fill_supplier_inn(names, inn)"
   ],
   "metadata": {
    "collapsed": false,
    "pycharm": {
     "name": "#%%\n"
    }
   }
  },
  {
   "cell_type": "markdown",
   "source": [
    "### ООО \"БЕЛДЕЗСЕРВИС\"\n",
    "https://www.rusprofile.ru/id/11368698"
   ],
   "metadata": {
    "collapsed": false,
    "pycharm": {
     "name": "#%% md\n"
    }
   }
  },
  {
   "cell_type": "code",
   "execution_count": 90,
   "outputs": [],
   "source": [
    "names = [\n",
    "    'ООО \"БЕЛДЕЗСЕРВИС\"'\n",
    "]\n",
    "inn = \"0255021007\"\n",
    "fill_supplier_inn(names, inn)"
   ],
   "metadata": {
    "collapsed": false,
    "pycharm": {
     "name": "#%%\n"
    }
   }
  },
  {
   "cell_type": "markdown",
   "source": [
    "### ООО \"Диомид\"\n",
    "Невозможно определить\n",
    "https://www.rusprofile.ru/id/11151262\n",
    "https://www.rusprofile.ru/id/10427941"
   ],
   "metadata": {
    "collapsed": false,
    "pycharm": {
     "name": "#%% md\n"
    }
   }
  },
  {
   "cell_type": "code",
   "execution_count": 91,
   "outputs": [],
   "source": [
    "names = [\n",
    "    'ООО \"Диомид\"'\n",
    "]\n",
    "missed += names"
   ],
   "metadata": {
    "collapsed": false,
    "pycharm": {
     "name": "#%%\n"
    }
   }
  },
  {
   "cell_type": "markdown",
   "source": [
    "### ООО \"Прогресс эко юг\"\n",
    "https://www.rusprofile.ru/id/5381075"
   ],
   "metadata": {
    "collapsed": false,
    "pycharm": {
     "name": "#%% md\n"
    }
   }
  },
  {
   "cell_type": "code",
   "execution_count": 92,
   "outputs": [],
   "source": [
    "names = [\n",
    "    'ООО \"Прогресс эко юг\"'\n",
    "]\n",
    "inn = \"5043042195\"\n",
    "fill_supplier_inn(names, inn)"
   ],
   "metadata": {
    "collapsed": false,
    "pycharm": {
     "name": "#%%\n"
    }
   }
  },
  {
   "cell_type": "markdown",
   "source": [
    "### ООО «ЭкоЦентр»\n",
    "\n",
    "Невозможно определить\n",
    "https://www.rusprofile.ru/id/7874886\n",
    "https://www.rusprofile.ru/id/11710649"
   ],
   "metadata": {
    "collapsed": false,
    "pycharm": {
     "name": "#%% md\n"
    }
   }
  },
  {
   "cell_type": "code",
   "execution_count": 93,
   "outputs": [],
   "source": [
    "names = [\n",
    "    'ООО \"ЭкоЦентр\"',\n",
    "    'ООО «ЭкоЦентр»',\n",
    "    'ЭкоЦентр ООО '\n",
    "]\n",
    "missed += names"
   ],
   "metadata": {
    "collapsed": false,
    "pycharm": {
     "name": "#%%\n"
    }
   }
  },
  {
   "cell_type": "markdown",
   "source": [
    "### ФГУП «Южно-Уральский институт биофизики Федерального медико-биологического агентства»\n",
    "https://www.rusprofile.ru/id/1883147"
   ],
   "metadata": {
    "collapsed": false,
    "pycharm": {
     "name": "#%% md\n"
    }
   }
  },
  {
   "cell_type": "code",
   "execution_count": 94,
   "outputs": [],
   "source": [
    "names = [\n",
    "    'ФГУП «Южно-Уральский институт биофизики Федерального медико-биологического агентства»',\n",
    "    'ФГУП «Южно-Уральский институт биофизики Федерального медико-биологического агентства» '\n",
    "]\n",
    "inn = \"7422028215\"\n",
    "fill_supplier_inn(names, inn)"
   ],
   "metadata": {
    "collapsed": false,
    "pycharm": {
     "name": "#%%\n"
    }
   }
  },
  {
   "cell_type": "markdown",
   "source": [
    "### ЧУЗ КБ РЖД Медицина\n",
    "https://www.rusprofile.ru/id/3545442"
   ],
   "metadata": {
    "collapsed": false,
    "pycharm": {
     "name": "#%% md\n"
    }
   }
  },
  {
   "cell_type": "code",
   "execution_count": 95,
   "outputs": [],
   "source": [
    "names = [\n",
    "    'ЧУЗ КБ РЖД Медицина',\n",
    "    'ЧУЗ РЖД Медицина'\n",
    "]\n",
    "inn = \"7723518340\"\n",
    "fill_supplier_inn(names, inn)"
   ],
   "metadata": {
    "collapsed": false,
    "pycharm": {
     "name": "#%%\n"
    }
   }
  },
  {
   "cell_type": "markdown",
   "source": [
    "### санаторий-профилакторий «Родник» (ООО «СтройАчинск»)»\n",
    "https://www.rusprofile.ru/id/1815542"
   ],
   "metadata": {
    "collapsed": false,
    "pycharm": {
     "name": "#%% md\n"
    }
   }
  },
  {
   "cell_type": "code",
   "execution_count": 96,
   "outputs": [],
   "source": [
    "names = [\n",
    "    'санаторий-профилакторий «Родник» (ООО «СтройАчинск»)»'\n",
    "]\n",
    "inn = \"2443017871\"\n",
    "fill_supplier_inn(names, inn)"
   ],
   "metadata": {
    "collapsed": false,
    "pycharm": {
     "name": "#%%\n"
    }
   }
  },
  {
   "cell_type": "markdown",
   "source": [
    "### ООО \"Швабе-Сибирь\"\n",
    "https://www.rusprofile.ru/id/7067960"
   ],
   "metadata": {
    "collapsed": false,
    "pycharm": {
     "name": "#%% md\n"
    }
   }
  },
  {
   "cell_type": "code",
   "execution_count": 97,
   "outputs": [],
   "source": [
    "names = [\n",
    "    'ООО \"Швабе-Сибирь\"',\n",
    "    'ООО «Швабе-Сибирь»'\n",
    "]\n",
    "inn = \"5402570930\"\n",
    "fill_supplier_inn(names, inn)"
   ],
   "metadata": {
    "collapsed": false,
    "pycharm": {
     "name": "#%%\n"
    }
   }
  },
  {
   "cell_type": "markdown",
   "source": [
    "### ООО «Торгсин»\n",
    "Невозможно определить\n",
    "https://www.rusprofile.ru/id/875447\n",
    "https://www.rusprofile.ru/id/11384773"
   ],
   "metadata": {
    "collapsed": false,
    "pycharm": {
     "name": "#%% md\n"
    }
   }
  },
  {
   "cell_type": "code",
   "execution_count": 98,
   "outputs": [],
   "source": [
    "names = [\n",
    "    'ООО \"Торгсин\"',\n",
    "    'ООО «Торгсин»'\n",
    "]\n",
    "missed += names"
   ],
   "metadata": {
    "collapsed": false,
    "pycharm": {
     "name": "#%%\n"
    }
   }
  },
  {
   "cell_type": "markdown",
   "source": [
    "# Проверим, что заполнили всех поставщиков"
   ],
   "metadata": {
    "collapsed": false,
    "pycharm": {
     "name": "#%% md\n"
    }
   }
  },
  {
   "cell_type": "code",
   "execution_count": 99,
   "outputs": [
    {
     "data": {
      "text/plain": "Series([], dtype: int64)"
     },
     "execution_count": 99,
     "metadata": {},
     "output_type": "execute_result"
    }
   ],
   "source": [
    "lot_suppliers = pd.read_sql_query(\n",
    "    f\"\"\"\n",
    "    SELECT lot_guid, supplier_guid, si2.inn as supplier_inn,\n",
    "        si2.name as supplier_name, si2.ogrn as supplier_ogrn, si2.type as supplier_type\n",
    "    FROM (\n",
    "        SELECT lot_guid, MAX(supplier_guid) as supplier_guid\n",
    "        FROM (\n",
    "            SELECT c.lot_guid\n",
    "            FROM covid_contracts c\n",
    "            GROUP BY c.lot_guid\n",
    "        ) tmp1\n",
    "        INNER JOIN protocol_lot pl ON tmp1.lot_guid = pl.guid\n",
    "        LEFT JOIN protocol_lot_applications pla on pl.guid = pla.protocol_lot_guid\n",
    "        LEFT JOIN application a on pla.id = a.protocol_lot_applications_id\n",
    "        LEFT JOIN supplier_info si on a.supplier_guid = si.guid\n",
    "        WHERE (contract_signed = 1 or\n",
    "         (a.winner_indication = 'Победитель'and contract_signed is null))\n",
    "         and (supplier_guid is not null)\n",
    "         and (si.inn is null and (si.name is not null or si.ogrn is not null))\n",
    "        GROUP BY lot_guid\n",
    "    ) sup\n",
    "    LEFT JOIN supplier_info si2 ON si2.guid = sup.supplier_guid;\n",
    "    \"\"\",\n",
    "    conn\n",
    ")\n",
    "lot_suppliers['is_anonym'] = lot_suppliers['supplier_name'].map(is_anonym_name)\n",
    "lot_suppliers = lot_suppliers[lot_suppliers['is_anonym'] == False]\n",
    "\n",
    "def is_missed(name: str) -> bool:\n",
    "    return name in missed\n",
    "\n",
    "lot_suppliers['is_missed'] = lot_suppliers['supplier_name'].map(is_missed)\n",
    "lot_suppliers = lot_suppliers[lot_suppliers['is_missed'] == False]\n",
    "\n",
    "lot_suppliers.groupby('supplier_name').size()"
   ],
   "metadata": {
    "collapsed": false,
    "pycharm": {
     "name": "#%%\n"
    }
   }
  },
  {
   "cell_type": "markdown",
   "source": [
    "# Заполняем поставщиков для выявления картелей"
   ],
   "metadata": {
    "collapsed": false,
    "pycharm": {
     "name": "#%% md\n"
    }
   }
  },
  {
   "cell_type": "code",
   "execution_count": 100,
   "outputs": [
    {
     "data": {
      "text/plain": "                                 lot_guid supplier_inn        supplier_name  \\\n0    005056bd-6164-1eeb-9fb2-80f01f612591         None    Не предусмотрено.   \n1    00df267a-6a5c-4658-920e-82d3b9befc00         None                    1   \n2    00df267a-6a5c-4658-920e-82d3b9befc00         None                    1   \n3    01cf8d1a-0b52-4969-fb5b-42096c59758a         None           Участник 5   \n4    01cf8d1a-0b52-4969-fb5b-42096c59758a         None           Участник 1   \n..                                    ...          ...                  ...   \n425  fee08492-034f-d9ec-eeaf-97b36d4ba1ce         None           Участник 2   \n426  fee08492-034f-d9ec-eeaf-97b36d4ba1ce         None           Участник 1   \n427  ff968e2f-ad32-9b54-1493-e52fff049a34         None           Участник 1   \n428  ff968e2f-ad32-9b54-1493-e52fff049a34         None           Участник 2   \n429  ffe6f942-bfa1-4f78-bb1c-a8b0cf755881         None  ООО «СТАТУС-РЕГИОН»   \n\n    supplier_ogrn     supplier_type  \n0            None  Юридическое лицо  \n1            None  Юридическое лицо  \n2            None  Юридическое лицо  \n3            None  Юридическое лицо  \n4            None  Юридическое лицо  \n..            ...               ...  \n425          None  Юридическое лицо  \n426          None  Юридическое лицо  \n427          None  Юридическое лицо  \n428          None   Физическое лицо  \n429          None  Юридическое лицо  \n\n[430 rows x 5 columns]",
      "text/html": "<div>\n<style scoped>\n    .dataframe tbody tr th:only-of-type {\n        vertical-align: middle;\n    }\n\n    .dataframe tbody tr th {\n        vertical-align: top;\n    }\n\n    .dataframe thead th {\n        text-align: right;\n    }\n</style>\n<table border=\"1\" class=\"dataframe\">\n  <thead>\n    <tr style=\"text-align: right;\">\n      <th></th>\n      <th>lot_guid</th>\n      <th>supplier_inn</th>\n      <th>supplier_name</th>\n      <th>supplier_ogrn</th>\n      <th>supplier_type</th>\n    </tr>\n  </thead>\n  <tbody>\n    <tr>\n      <th>0</th>\n      <td>005056bd-6164-1eeb-9fb2-80f01f612591</td>\n      <td>None</td>\n      <td>Не предусмотрено.</td>\n      <td>None</td>\n      <td>Юридическое лицо</td>\n    </tr>\n    <tr>\n      <th>1</th>\n      <td>00df267a-6a5c-4658-920e-82d3b9befc00</td>\n      <td>None</td>\n      <td>1</td>\n      <td>None</td>\n      <td>Юридическое лицо</td>\n    </tr>\n    <tr>\n      <th>2</th>\n      <td>00df267a-6a5c-4658-920e-82d3b9befc00</td>\n      <td>None</td>\n      <td>1</td>\n      <td>None</td>\n      <td>Юридическое лицо</td>\n    </tr>\n    <tr>\n      <th>3</th>\n      <td>01cf8d1a-0b52-4969-fb5b-42096c59758a</td>\n      <td>None</td>\n      <td>Участник 5</td>\n      <td>None</td>\n      <td>Юридическое лицо</td>\n    </tr>\n    <tr>\n      <th>4</th>\n      <td>01cf8d1a-0b52-4969-fb5b-42096c59758a</td>\n      <td>None</td>\n      <td>Участник 1</td>\n      <td>None</td>\n      <td>Юридическое лицо</td>\n    </tr>\n    <tr>\n      <th>...</th>\n      <td>...</td>\n      <td>...</td>\n      <td>...</td>\n      <td>...</td>\n      <td>...</td>\n    </tr>\n    <tr>\n      <th>425</th>\n      <td>fee08492-034f-d9ec-eeaf-97b36d4ba1ce</td>\n      <td>None</td>\n      <td>Участник 2</td>\n      <td>None</td>\n      <td>Юридическое лицо</td>\n    </tr>\n    <tr>\n      <th>426</th>\n      <td>fee08492-034f-d9ec-eeaf-97b36d4ba1ce</td>\n      <td>None</td>\n      <td>Участник 1</td>\n      <td>None</td>\n      <td>Юридическое лицо</td>\n    </tr>\n    <tr>\n      <th>427</th>\n      <td>ff968e2f-ad32-9b54-1493-e52fff049a34</td>\n      <td>None</td>\n      <td>Участник 1</td>\n      <td>None</td>\n      <td>Юридическое лицо</td>\n    </tr>\n    <tr>\n      <th>428</th>\n      <td>ff968e2f-ad32-9b54-1493-e52fff049a34</td>\n      <td>None</td>\n      <td>Участник 2</td>\n      <td>None</td>\n      <td>Физическое лицо</td>\n    </tr>\n    <tr>\n      <th>429</th>\n      <td>ffe6f942-bfa1-4f78-bb1c-a8b0cf755881</td>\n      <td>None</td>\n      <td>ООО «СТАТУС-РЕГИОН»</td>\n      <td>None</td>\n      <td>Юридическое лицо</td>\n    </tr>\n  </tbody>\n</table>\n<p>430 rows × 5 columns</p>\n</div>"
     },
     "execution_count": 100,
     "metadata": {},
     "output_type": "execute_result"
    }
   ],
   "source": [
    "lot_suppliers = pd.read_sql_query(\n",
    "    f\"\"\"\n",
    "    SELECT l.lot_guid, si.inn as supplier_inn,\n",
    "           si.name as supplier_name, si.ogrn as supplier_ogrn, si.type as supplier_type\n",
    "    FROM (\n",
    "        SELECT cc.lot_guid\n",
    "        FROM covid_contracts cc\n",
    "        GROUP BY cc.lot_guid\n",
    "    ) l\n",
    "    INNER JOIN (\n",
    "        SELECT cc2.lot_guid, MAX(pp2.create_date_time) as create_date_time FROM\n",
    "        covid_contracts cc2\n",
    "        INNER JOIN protocol_lot pl2 ON cc2.lot_guid = pl2.guid\n",
    "        LEFT JOIN protocol_lot_applications pla2 on pl2.guid = pla2.protocol_lot_guid\n",
    "        LEFT JOIN purchase_protocol pp2 on pla2.purchase_protocol_guid = pp2.guid\n",
    "        GROUP BY cc2.lot_guid\n",
    "    ) tmp2 ON l.lot_guid = tmp2.lot_guid\n",
    "    INNER JOIN protocol_lot pl ON l.lot_guid = pl.guid\n",
    "    INNER JOIN protocol_lot_applications pla on pl.guid = pla.protocol_lot_guid\n",
    "    INNER JOIN purchase_protocol pp on pla.purchase_protocol_guid = pp.guid and tmp2.create_date_time = pp.create_date_time\n",
    "    INNER JOIN application a on pla.id = a.protocol_lot_applications_id\n",
    "    LEFT JOIN supplier_info si on a.supplier_guid = si.guid\n",
    "    where si.inn is null\n",
    "    and si.name is not null\n",
    "    ;\n",
    "    \"\"\",\n",
    "    conn\n",
    ")\n",
    "\n",
    "lot_suppliers"
   ],
   "metadata": {
    "collapsed": false,
    "pycharm": {
     "name": "#%%\n"
    }
   }
  },
  {
   "cell_type": "markdown",
   "source": [
    "# Удалим анонимные заявки"
   ],
   "metadata": {
    "collapsed": false,
    "pycharm": {
     "name": "#%% md\n"
    }
   }
  },
  {
   "cell_type": "code",
   "execution_count": 101,
   "outputs": [
    {
     "data": {
      "text/plain": "                                 lot_guid supplier_inn  \\\n8    021185ff-3647-4ceb-9fd8-64566314a7dd         None   \n17   0550f1d8-1e60-40e1-af2d-e3139a6e4045         None   \n19   06510062-3df1-4f2a-85f7-2f548ea3ffeb         None   \n38   14c63810-b1fe-419d-97ae-0573ef27fa05         None   \n39   14c63810-b1fe-419d-97ae-0573ef27fa05         None   \n..                                    ...          ...   \n392  eabc6ae1-ddc8-48f5-88d6-6a2170f2388a         None   \n404  f14161fe-70b5-4cda-ace4-d5b2312b4094         None   \n419  f96c040a-5e28-44b5-9c7b-925f41a19a29         None   \n420  f96c040a-5e28-44b5-9c7b-925f41a19a29         None   \n429  ffe6f942-bfa1-4f78-bb1c-a8b0cf755881         None   \n\n                                         supplier_name supplier_ogrn  \\\n8                        ИП Губин Андрей Александрович          None   \n17                                      ООО «ЭкоЦентр»          None   \n19                                     ООО \"Еврокарго\"          None   \n38   ОБЩЕСТВО ОГРАНИЧЕННОЙ ОТВЕТСТВЕННОСТЬЮ \"Артмед...          None   \n39     ОБЩЕСТВО ОГРАНИЧЕННОЙ ОТВЕТСТВЕННОСТЬЮ \"Сириус\"          None   \n..                                                 ...           ...   \n392  ОБЩЕСТВО С ОГРАНИЧЕННОЙ ОТВЕТСТВЕННОСТЬЮ \"МОРО...          None   \n404    ОБЩЕСТВО ОГРАНИЧЕННОЙ ОТВЕТСТВЕННОСТЬЮ \"Визирь\"          None   \n419     ОБЩЕСТВО ОГРАНИЧЕННОЙ ОТВЕТСТВЕННОСТЬЮ \"Ретро\"          None   \n420     ОБЩЕСТВО ОГРАНИЧЕННОЙ ОТВЕТСТВЕННОСТЬЮ \"Земля\"          None   \n429                                ООО «СТАТУС-РЕГИОН»          None   \n\n        supplier_type  is_anonym  \n8     Физическое лицо      False  \n17   Юридическое лицо      False  \n19   Юридическое лицо      False  \n38   Юридическое лицо      False  \n39   Юридическое лицо      False  \n..                ...        ...  \n392  Юридическое лицо      False  \n404  Юридическое лицо      False  \n419  Юридическое лицо      False  \n420  Юридическое лицо      False  \n429  Юридическое лицо      False  \n\n[96 rows x 6 columns]",
      "text/html": "<div>\n<style scoped>\n    .dataframe tbody tr th:only-of-type {\n        vertical-align: middle;\n    }\n\n    .dataframe tbody tr th {\n        vertical-align: top;\n    }\n\n    .dataframe thead th {\n        text-align: right;\n    }\n</style>\n<table border=\"1\" class=\"dataframe\">\n  <thead>\n    <tr style=\"text-align: right;\">\n      <th></th>\n      <th>lot_guid</th>\n      <th>supplier_inn</th>\n      <th>supplier_name</th>\n      <th>supplier_ogrn</th>\n      <th>supplier_type</th>\n      <th>is_anonym</th>\n    </tr>\n  </thead>\n  <tbody>\n    <tr>\n      <th>8</th>\n      <td>021185ff-3647-4ceb-9fd8-64566314a7dd</td>\n      <td>None</td>\n      <td>ИП Губин Андрей Александрович</td>\n      <td>None</td>\n      <td>Физическое лицо</td>\n      <td>False</td>\n    </tr>\n    <tr>\n      <th>17</th>\n      <td>0550f1d8-1e60-40e1-af2d-e3139a6e4045</td>\n      <td>None</td>\n      <td>ООО «ЭкоЦентр»</td>\n      <td>None</td>\n      <td>Юридическое лицо</td>\n      <td>False</td>\n    </tr>\n    <tr>\n      <th>19</th>\n      <td>06510062-3df1-4f2a-85f7-2f548ea3ffeb</td>\n      <td>None</td>\n      <td>ООО \"Еврокарго\"</td>\n      <td>None</td>\n      <td>Юридическое лицо</td>\n      <td>False</td>\n    </tr>\n    <tr>\n      <th>38</th>\n      <td>14c63810-b1fe-419d-97ae-0573ef27fa05</td>\n      <td>None</td>\n      <td>ОБЩЕСТВО ОГРАНИЧЕННОЙ ОТВЕТСТВЕННОСТЬЮ \"Артмед...</td>\n      <td>None</td>\n      <td>Юридическое лицо</td>\n      <td>False</td>\n    </tr>\n    <tr>\n      <th>39</th>\n      <td>14c63810-b1fe-419d-97ae-0573ef27fa05</td>\n      <td>None</td>\n      <td>ОБЩЕСТВО ОГРАНИЧЕННОЙ ОТВЕТСТВЕННОСТЬЮ \"Сириус\"</td>\n      <td>None</td>\n      <td>Юридическое лицо</td>\n      <td>False</td>\n    </tr>\n    <tr>\n      <th>...</th>\n      <td>...</td>\n      <td>...</td>\n      <td>...</td>\n      <td>...</td>\n      <td>...</td>\n      <td>...</td>\n    </tr>\n    <tr>\n      <th>392</th>\n      <td>eabc6ae1-ddc8-48f5-88d6-6a2170f2388a</td>\n      <td>None</td>\n      <td>ОБЩЕСТВО С ОГРАНИЧЕННОЙ ОТВЕТСТВЕННОСТЬЮ \"МОРО...</td>\n      <td>None</td>\n      <td>Юридическое лицо</td>\n      <td>False</td>\n    </tr>\n    <tr>\n      <th>404</th>\n      <td>f14161fe-70b5-4cda-ace4-d5b2312b4094</td>\n      <td>None</td>\n      <td>ОБЩЕСТВО ОГРАНИЧЕННОЙ ОТВЕТСТВЕННОСТЬЮ \"Визирь\"</td>\n      <td>None</td>\n      <td>Юридическое лицо</td>\n      <td>False</td>\n    </tr>\n    <tr>\n      <th>419</th>\n      <td>f96c040a-5e28-44b5-9c7b-925f41a19a29</td>\n      <td>None</td>\n      <td>ОБЩЕСТВО ОГРАНИЧЕННОЙ ОТВЕТСТВЕННОСТЬЮ \"Ретро\"</td>\n      <td>None</td>\n      <td>Юридическое лицо</td>\n      <td>False</td>\n    </tr>\n    <tr>\n      <th>420</th>\n      <td>f96c040a-5e28-44b5-9c7b-925f41a19a29</td>\n      <td>None</td>\n      <td>ОБЩЕСТВО ОГРАНИЧЕННОЙ ОТВЕТСТВЕННОСТЬЮ \"Земля\"</td>\n      <td>None</td>\n      <td>Юридическое лицо</td>\n      <td>False</td>\n    </tr>\n    <tr>\n      <th>429</th>\n      <td>ffe6f942-bfa1-4f78-bb1c-a8b0cf755881</td>\n      <td>None</td>\n      <td>ООО «СТАТУС-РЕГИОН»</td>\n      <td>None</td>\n      <td>Юридическое лицо</td>\n      <td>False</td>\n    </tr>\n  </tbody>\n</table>\n<p>96 rows × 6 columns</p>\n</div>"
     },
     "execution_count": 101,
     "metadata": {},
     "output_type": "execute_result"
    }
   ],
   "source": [
    "anonym_names = anonym_names.union({\n",
    "    'Участник № 1', 'КП № 3', 'КП № 2', 'Участник 8', 'Участник 9','3', '2','Участник №5', 'Участник №3', 'Заявка 10',\n",
    "    'Заявка 11', 'Заявка 13', 'Заявка 14', 'Заявка 15','Заявка 16', 'Заявка 3', 'Заявка 4', 'Заявка 5', 'Заявка 5860',\n",
    "    'Заявка 5877', 'Заявка 5888', 'Заявка 5889', 'Заявка 5919', 'Заявка 5946', 'Заявка 5960', 'Участник №9', 'Участник №7',\n",
    "    'Участник №8', 'Участник №2', 'Участник №6', 'Участник №4', 'Заявка 5969', 'Заявка 5984', 'Заявка 5987', 'Заявка 5989',\n",
    "    'Заявка 5990', 'Заявка 5996', 'Заявка 5999', 'Заявка 6', 'Заявка 6002', 'Заявка 6012', 'Заявка 6013', 'Заявка 7',\n",
    "    'Заявка 8', 'Заявка 8087', 'Заявка 8152', 'Заявка 9', 'КП № 1', 'КП №2', 'КП №3'\n",
    "})\n",
    "lot_suppliers['is_anonym'] = lot_suppliers['supplier_name'].map(is_anonym_name)\n",
    "lot_suppliers = lot_suppliers[lot_suppliers['is_anonym'] == False]\n",
    "lot_suppliers"
   ],
   "metadata": {
    "collapsed": false,
    "pycharm": {
     "name": "#%%\n"
    }
   }
  },
  {
   "cell_type": "markdown",
   "source": [
    "# Сгруппируем по имени"
   ],
   "metadata": {
    "collapsed": false,
    "pycharm": {
     "name": "#%% md\n"
    }
   }
  },
  {
   "cell_type": "code",
   "execution_count": 102,
   "outputs": [
    {
     "data": {
      "text/plain": "supplier_name\nИП Бубнов                                              2\nИП Грицюк                                              1\nИП Губин Андрей Александрович                          1\nИП Ефремов В.С.                                        1\nИП Конаков Б.И.                                        1\n                                                      ..\nООО Юго-Запад                                          2\nООО\"МедиАрт\"                                           1\nОСИПОВ В. И.                                           1\nОбществом с ограниченной ответственностью «Эколайф»    1\nооо \"Астер\"                                            1\nLength: 62, dtype: int64"
     },
     "execution_count": 102,
     "metadata": {},
     "output_type": "execute_result"
    }
   ],
   "source": [
    "lot_suppliers.groupby('supplier_name').size()"
   ],
   "metadata": {
    "collapsed": false,
    "pycharm": {
     "name": "#%%\n"
    }
   }
  },
  {
   "cell_type": "markdown",
   "source": [
    "# Заполняем ИНН"
   ],
   "metadata": {
    "collapsed": false,
    "pycharm": {
     "name": "#%% md\n"
    }
   }
  },
  {
   "cell_type": "markdown",
   "source": [
    "### Общество с ограниченной ответственностью \"Аквазар\"\n",
    "\n",
    "https://www.rusprofile.ru/id/5990523"
   ],
   "metadata": {
    "collapsed": false,
    "pycharm": {
     "name": "#%% md\n"
    }
   }
  },
  {
   "cell_type": "code",
   "execution_count": 103,
   "outputs": [],
   "source": [
    "names = [\n",
    "    '                            \t\tОбщество с ограниченной ответственностью \"Аквазар\"                          \t'\n",
    "]\n",
    "inn = \"7451341528\"\n",
    "fill_supplier_inn(names, inn)"
   ],
   "metadata": {
    "collapsed": false,
    "pycharm": {
     "name": "#%%\n"
    }
   }
  },
  {
   "cell_type": "markdown",
   "source": [
    "### ООО \"ПК Монтажстрой\"\n",
    "https://www.rusprofile.ru/id/1304528"
   ],
   "metadata": {
    "collapsed": false,
    "pycharm": {
     "name": "#%% md\n"
    }
   }
  },
  {
   "cell_type": "code",
   "execution_count": 104,
   "outputs": [],
   "source": [
    "names = [\n",
    "    'ООО ПК Монтажстрой',\n",
    "    ' ООО \"ПК Монтажстрой\"'\n",
    "]\n",
    "inn = \"7204101955\"\n",
    "fill_supplier_inn(names, inn)"
   ],
   "metadata": {
    "collapsed": false,
    "pycharm": {
     "name": "#%%\n"
    }
   }
  },
  {
   "cell_type": "markdown",
   "source": [
    "### АКЦИОНЕРНОЕ ОБЩЕСТВО \"Р-Фарм\"\n",
    "https://www.rusprofile.ru/id/2311415"
   ],
   "metadata": {
    "collapsed": false,
    "pycharm": {
     "name": "#%% md\n"
    }
   }
  },
  {
   "cell_type": "code",
   "execution_count": 105,
   "outputs": [],
   "source": [
    "names = [\n",
    "    'Акционерное общество  «Р-Фарм»',\n",
    "    'АКЦИОНЕРНОЕ ОБЩЕСТВО \"Р-Фарм\"',\n",
    "    'Акционерное общество\"Р-Фарм\"',\n",
    "    'АО \"Р-Фарм\"',\n",
    "    'ООО \"Р-Фарм\"'\n",
    "]\n",
    "inn = \"7726311464\"\n",
    "fill_supplier_inn(names, inn)"
   ],
   "metadata": {
    "collapsed": false,
    "pycharm": {
     "name": "#%%\n"
    }
   }
  },
  {
   "cell_type": "markdown",
   "source": [
    "### АО \"ПроцессКартриджПринт\"\n",
    "https://www.rusprofile.ru/id/7573127"
   ],
   "metadata": {
    "collapsed": false,
    "pycharm": {
     "name": "#%% md\n"
    }
   }
  },
  {
   "cell_type": "code",
   "execution_count": 106,
   "outputs": [],
   "source": [
    "names = [\n",
    "    'АО \"ПроцессКартриджПринт\"'\n",
    "]\n",
    "inn = \"7203333368\"\n",
    "fill_supplier_inn(names, inn)"
   ],
   "metadata": {
    "collapsed": false,
    "pycharm": {
     "name": "#%%\n"
    }
   }
  },
  {
   "cell_type": "markdown",
   "source": [
    "### АО \"ФАРМ\"\n",
    "https://www.rusprofile.ru/id/4257747"
   ],
   "metadata": {
    "collapsed": false,
    "pycharm": {
     "name": "#%% md\n"
    }
   }
  },
  {
   "cell_type": "code",
   "execution_count": 107,
   "outputs": [],
   "source": [
    "names = [\n",
    "    'АО \"ФАРМ\"',\n",
    "    'АО \"Фарм\" '\n",
    "]\n",
    "inn = \"7701019588\"\n",
    "fill_supplier_inn(names, inn)"
   ],
   "metadata": {
    "collapsed": false,
    "pycharm": {
     "name": "#%%\n"
    }
   }
  },
  {
   "cell_type": "markdown",
   "source": [
    "### Балабас Владимир Николаевич\n",
    "https://www.rusprofile.ru/ip/316723200101371"
   ],
   "metadata": {
    "collapsed": false,
    "pycharm": {
     "name": "#%% md\n"
    }
   }
  },
  {
   "cell_type": "code",
   "execution_count": 108,
   "outputs": [],
   "source": [
    "names = [\n",
    "    'Балабас В.Н.',\n",
    "    'Балабас В.Н. ',\n",
    "    'Балабас Владимир Николаевич',\n",
    "    'ИП Балабас В.Н.',\n",
    "    'Индивидуальный предприниматель Балабас Владимир Николаевич'\n",
    "]\n",
    "inn = \"722200475952\"\n",
    "fill_supplier_inn(names, inn)"
   ],
   "metadata": {
    "collapsed": false,
    "pycharm": {
     "name": "#%%\n"
    }
   }
  },
  {
   "cell_type": "markdown",
   "source": [
    "### ГАУЗ ТО \"МКДЦ\"\n",
    "https://www.rusprofile.ru/id/1966940"
   ],
   "metadata": {
    "collapsed": false,
    "pycharm": {
     "name": "#%% md\n"
    }
   }
  },
  {
   "cell_type": "code",
   "execution_count": 109,
   "outputs": [],
   "source": [
    "names = [\n",
    "    'ГАУЗ ТО «МКДЦ» \t',\n",
    "    'ГАУЗ ТО \"МКДЦ\"',\n",
    "    'Государственное автономное учреждение здравоохранения Тюменской области «Многопрофильный консультативно-диагностический центр» '\n",
    "]\n",
    "inn = \"7203116229\"\n",
    "fill_supplier_inn(names, inn)"
   ],
   "metadata": {
    "collapsed": false,
    "pycharm": {
     "name": "#%%\n"
    }
   }
  },
  {
   "cell_type": "markdown",
   "source": [
    "### ГАУЗ ТО \"ОКБ №2\"\n",
    "https://www.rusprofile.ru/id/3584951"
   ],
   "metadata": {
    "collapsed": false,
    "pycharm": {
     "name": "#%% md\n"
    }
   }
  },
  {
   "cell_type": "code",
   "execution_count": 110,
   "outputs": [],
   "source": [
    "names = [\n",
    "    'ГАУЗ ТО «ОКБ №2»',\n",
    "    'ГАУЗ ТО \"ОКБ №2\"',\n",
    "    'Государственное бюджетное учреждение здравоохранения Тюменской области «Областная клиническая больница №2»'\n",
    "]\n",
    "inn = \"7203116211\"\n",
    "fill_supplier_inn(names, inn)"
   ],
   "metadata": {
    "collapsed": false,
    "pycharm": {
     "name": "#%%\n"
    }
   }
  },
  {
   "cell_type": "markdown",
   "source": [
    "### ГБУЗ ТО \"ОБ №23\" г.Ялуторовск\n",
    "https://www.rusprofile.ru/id/2954388"
   ],
   "metadata": {
    "collapsed": false,
    "pycharm": {
     "name": "#%% md\n"
    }
   }
  },
  {
   "cell_type": "code",
   "execution_count": 111,
   "outputs": [],
   "source": [
    "names = [\n",
    "    'ГБУЗ ТО \"ОБ №23\" г.Ялуторовск',\n",
    "    'ГБУЗ ТО \"ОБ №\"№ г.Ялуторовска\"',\n",
    "    'Государственное бюджетное учреждение здравоохранения Тюменской области «Областная больница №23» (г. Ялуторовск)'\n",
    "]\n",
    "inn = \"7228000177\"\n",
    "fill_supplier_inn(names, inn)"
   ],
   "metadata": {
    "collapsed": false,
    "pycharm": {
     "name": "#%%\n"
    }
   }
  },
  {
   "cell_type": "markdown",
   "source": [
    "### ГБУЗ ТО \"ОБ №4\" г.Ишим\n",
    "https://www.rusprofile.ru/id/2355385"
   ],
   "metadata": {
    "collapsed": false,
    "pycharm": {
     "name": "#%% md\n"
    }
   }
  },
  {
   "cell_type": "code",
   "execution_count": 112,
   "outputs": [],
   "source": [
    "names = [\n",
    "    'ГБУЗ ТО \"ОБ №4\" г.Ишим',\n",
    "    'ГБУЗ ТО \"ОБ №;\" г. Ишим',\n",
    "    'ГБУЗ ТО «Областная больница №4»                         (г. Ишим)',\n",
    "    'ГБУЗ ТО \"Областая боьница №4'\n",
    "]\n",
    "inn = \"7217003842\"\n",
    "fill_supplier_inn(names, inn)"
   ],
   "metadata": {
    "collapsed": false,
    "pycharm": {
     "name": "#%%\n"
    }
   }
  },
  {
   "cell_type": "markdown",
   "source": [
    "### ЗАО \"сосновоагропромтехника\"\n",
    "https://www.rusprofile.ru/id/2071303"
   ],
   "metadata": {
    "collapsed": false,
    "pycharm": {
     "name": "#%% md\n"
    }
   }
  },
  {
   "cell_type": "code",
   "execution_count": 113,
   "outputs": [],
   "source": [
    "names = [\n",
    "    'ЗАО 2сосновоагропромтехника\"',\n",
    "    'ЗАКРЫТОЕ АКЦИОНЕРНОЕ ОБЩЕСТВО \"СОСНОВОАГРОПРОМТЕХНИКА\"'\n",
    "]\n",
    "inn = \"4712002559\"\n",
    "fill_supplier_inn(names, inn)"
   ],
   "metadata": {
    "collapsed": false,
    "pycharm": {
     "name": "#%%\n"
    }
   }
  },
  {
   "cell_type": "markdown",
   "source": [
    "### ИП Анучкина Наталья Вячеславовна\n",
    "https://www.rusprofile.ru/ip/317272400027473"
   ],
   "metadata": {
    "collapsed": false,
    "pycharm": {
     "name": "#%% md\n"
    }
   }
  },
  {
   "cell_type": "code",
   "execution_count": 114,
   "outputs": [],
   "source": [
    "names = [\n",
    "    'ИП Анучкина Наталья Вячеславовна'\n",
    "]\n",
    "inn = \"272056192523\"\n",
    "fill_supplier_inn(names, inn)"
   ],
   "metadata": {
    "collapsed": false,
    "pycharm": {
     "name": "#%%\n"
    }
   }
  },
  {
   "cell_type": "markdown",
   "source": [
    "### ИП Бубнов\n",
    "Невозможно определить\n",
    "https://www.rusprofile.ru/ip/320774600506794\n",
    "https://www.rusprofile.ru/ip/321774600679817"
   ],
   "metadata": {
    "collapsed": false,
    "pycharm": {
     "name": "#%% md\n"
    }
   }
  },
  {
   "cell_type": "code",
   "execution_count": 115,
   "outputs": [],
   "source": [
    "names = [\n",
    "    'ИП Бубнов'\n",
    "]\n",
    "missed += names"
   ],
   "metadata": {
    "collapsed": false,
    "pycharm": {
     "name": "#%%\n"
    }
   }
  },
  {
   "cell_type": "markdown",
   "source": [
    "### ИП Губин Андрей Александрович\n",
    "Невозможно определить\n",
    "https://www.rusprofile.ru/ip/321703100037822\n",
    "https://www.rusprofile.ru/ip/304720708500066"
   ],
   "metadata": {
    "collapsed": false,
    "pycharm": {
     "name": "#%% md\n"
    }
   }
  },
  {
   "cell_type": "code",
   "execution_count": 116,
   "outputs": [],
   "source": [
    "names = [\n",
    "    'ИП Губин А.А. ',\n",
    "    'ИП Губин А.А.',\n",
    "    'ИП Губин Андрей Александрович'\n",
    "]\n",
    "missed += names"
   ],
   "metadata": {
    "collapsed": false,
    "pycharm": {
     "name": "#%%\n"
    }
   }
  },
  {
   "cell_type": "markdown",
   "source": [
    "### ИП Ефремов В.С.\n",
    "Невозможно определить\n",
    "https://www.rusprofile.ru/ip/309774619000904\n",
    "https://www.rusprofile.ru/ip/317774600348790"
   ],
   "metadata": {
    "collapsed": false,
    "pycharm": {
     "name": "#%% md\n"
    }
   }
  },
  {
   "cell_type": "code",
   "execution_count": 117,
   "outputs": [],
   "source": [
    "names = [\n",
    "    'ИП Ефремов В.С.',\n",
    "]\n",
    "missed += names"
   ],
   "metadata": {
    "collapsed": false,
    "pycharm": {
     "name": "#%%\n"
    }
   }
  },
  {
   "cell_type": "markdown",
   "source": [
    "### ИП Конаков Б.И.\n",
    "Не найдено"
   ],
   "metadata": {
    "collapsed": false,
    "pycharm": {
     "name": "#%% md\n"
    }
   }
  },
  {
   "cell_type": "code",
   "execution_count": 118,
   "outputs": [],
   "source": [
    "names = [\n",
    "    'ИП Конаков Б.И.',\n",
    "]\n",
    "missed += names"
   ],
   "metadata": {
    "collapsed": false,
    "pycharm": {
     "name": "#%%\n"
    }
   }
  },
  {
   "cell_type": "markdown",
   "source": [
    "### ИП Кувандиков И.Р.\n",
    "https://www.rusprofile.ru/ip/316723200118857"
   ],
   "metadata": {
    "collapsed": false,
    "pycharm": {
     "name": "#%% md\n"
    }
   }
  },
  {
   "cell_type": "code",
   "execution_count": 119,
   "outputs": [],
   "source": [
    "names = [\n",
    "    'ИП Кувандиков И.Р.'\n",
    "]\n",
    "inn = \"720705930705\"\n",
    "fill_supplier_inn(names, inn)"
   ],
   "metadata": {
    "collapsed": false,
    "pycharm": {
     "name": "#%%\n"
    }
   }
  },
  {
   "cell_type": "markdown",
   "source": [
    "### ИП Масленников В.В.\n",
    "Невозможно определить\n",
    "https://www.rusprofile.ru/ip/318774600073855\n",
    "https://www.rusprofile.ru/ip/320774600156292"
   ],
   "metadata": {
    "collapsed": false,
    "pycharm": {
     "name": "#%% md\n"
    }
   }
  },
  {
   "cell_type": "code",
   "execution_count": 120,
   "outputs": [],
   "source": [
    "names = [\n",
    "    'ИП Масленников В.В.',\n",
    "]\n",
    "missed += names"
   ],
   "metadata": {
    "collapsed": false,
    "pycharm": {
     "name": "#%%\n"
    }
   }
  },
  {
   "cell_type": "markdown",
   "source": [
    "### ИП Полицина В.С.\n",
    "https://www.rusprofile.ru/ip/318723200010205"
   ],
   "metadata": {
    "collapsed": false,
    "pycharm": {
     "name": "#%% md\n"
    }
   }
  },
  {
   "cell_type": "code",
   "execution_count": 121,
   "outputs": [],
   "source": [
    "names = [\n",
    "    'ИП Полицина Вера Сергеевна',\n",
    "    'ИП Полицина В.С',\n",
    "    'ИП Полицина В.С.'\n",
    "]\n",
    "inn = \"720412279473\"\n",
    "fill_supplier_inn(names, inn)"
   ],
   "metadata": {
    "collapsed": false,
    "pycharm": {
     "name": "#%%\n"
    }
   }
  },
  {
   "cell_type": "markdown",
   "source": [
    "### ИП Столбов А.С.\n",
    "https://www.rusprofile.ru/ip/320237500346704"
   ],
   "metadata": {
    "collapsed": false,
    "pycharm": {
     "name": "#%% md\n"
    }
   }
  },
  {
   "cell_type": "code",
   "execution_count": 122,
   "outputs": [],
   "source": [
    "names = [\n",
    "    'ИП Столбов А.С.'\n",
    "]\n",
    "inn = \"790600452157\"\n",
    "fill_supplier_inn(names, inn)"
   ],
   "metadata": {
    "collapsed": false,
    "pycharm": {
     "name": "#%%\n"
    }
   }
  },
  {
   "cell_type": "markdown",
   "source": [
    "### ИП Тахирли Фаргана Тахир кызы\n",
    "https://www.rusprofile.ru/ip/319723200050053"
   ],
   "metadata": {
    "collapsed": false,
    "pycharm": {
     "name": "#%% md\n"
    }
   }
  },
  {
   "cell_type": "code",
   "execution_count": 123,
   "outputs": [],
   "source": [
    "names = [\n",
    "    'ИП Тахирли Фаргана Тахир кызы'\n",
    "]\n",
    "inn = \"720706599275\"\n",
    "fill_supplier_inn(names, inn)"
   ],
   "metadata": {
    "collapsed": false,
    "pycharm": {
     "name": "#%%\n"
    }
   }
  },
  {
   "cell_type": "markdown",
   "source": [
    "### ИП Туровинин Д.А.\n",
    "https://www.rusprofile.ru/ip/316723200118337"
   ],
   "metadata": {
    "collapsed": false,
    "pycharm": {
     "name": "#%% md\n"
    }
   }
  },
  {
   "cell_type": "code",
   "execution_count": 124,
   "outputs": [],
   "source": [
    "names = [\n",
    "    'ИП Туровинин Д.А.'\n",
    "]\n",
    "inn = \"723020384000\"\n",
    "fill_supplier_inn(names, inn)"
   ],
   "metadata": {
    "collapsed": false,
    "pycharm": {
     "name": "#%%\n"
    }
   }
  },
  {
   "cell_type": "markdown",
   "source": [
    "### ИП Черепанова Александрина Андреевна\n",
    "https://www.rusprofile.ru/ip/319723200062132"
   ],
   "metadata": {
    "collapsed": false,
    "pycharm": {
     "name": "#%% md\n"
    }
   }
  },
  {
   "cell_type": "code",
   "execution_count": 125,
   "outputs": [],
   "source": [
    "names = [\n",
    "    'ИП Черепанова Александрина Андреевна',\n",
    "]\n",
    "inn = \"720701864459\"\n",
    "fill_supplier_inn(names, inn)\n",
    "names = [\n",
    "    'ИП Черепанова А.А.',\n",
    "]\n",
    "missed += names"
   ],
   "metadata": {
    "collapsed": false,
    "pycharm": {
     "name": "#%%\n"
    }
   }
  },
  {
   "cell_type": "markdown",
   "source": [
    "### ИП Шатохин Владимир Алексеевич\n",
    "https://www.rusprofile.ru/ip/312723206500023"
   ],
   "metadata": {
    "collapsed": false,
    "pycharm": {
     "name": "#%% md\n"
    }
   }
  },
  {
   "cell_type": "code",
   "execution_count": 126,
   "outputs": [],
   "source": [
    "names = [\n",
    "    'Шатохин Владимир Алексеевич',\n",
    "    'ИП Шатохин Владимир Алексеевич',\n",
    "    'ИП Шатохин В.А.'\n",
    "]\n",
    "inn = \"7270661872\"\n",
    "fill_supplier_inn(names, inn)"
   ],
   "metadata": {
    "collapsed": false,
    "pycharm": {
     "name": "#%%\n"
    }
   }
  },
  {
   "cell_type": "markdown",
   "source": [
    "### Индивидуальный предприниматель Синельников Егор Андреевич\n",
    "https://www.rusprofile.ru/ip/321290100037303"
   ],
   "metadata": {
    "collapsed": false,
    "pycharm": {
     "name": "#%% md\n"
    }
   }
  },
  {
   "cell_type": "code",
   "execution_count": 127,
   "outputs": [],
   "source": [
    "names = [\n",
    "    'Индивидуальный предприниматель Синельников Егор Андреевич'\n",
    "]\n",
    "inn = \"290502340677\"\n",
    "fill_supplier_inn(names, inn)"
   ],
   "metadata": {
    "collapsed": false,
    "pycharm": {
     "name": "#%%\n"
    }
   }
  },
  {
   "cell_type": "markdown",
   "source": [
    "### Марару К.П.\n",
    "https://www.rusprofile.ru/ip/312723201100191"
   ],
   "metadata": {
    "collapsed": false,
    "pycharm": {
     "name": "#%% md\n"
    }
   }
  },
  {
   "cell_type": "code",
   "execution_count": 128,
   "outputs": [],
   "source": [
    "names = [\n",
    "    'ИП Марару К.Ф.',\n",
    "    'Марару К.П.' # тут опечатка. по протоколу понятно что он из тюмени\n",
    "]\n",
    "inn = \"720318477809\"\n",
    "fill_supplier_inn(names, inn)"
   ],
   "metadata": {
    "collapsed": false,
    "pycharm": {
     "name": "#%%\n"
    }
   }
  },
  {
   "cell_type": "markdown",
   "source": [
    "### ОАО \"Автогенный завод\"\n",
    "https://www.rusprofile.ru/id/354104"
   ],
   "metadata": {
    "collapsed": false,
    "pycharm": {
     "name": "#%% md\n"
    }
   }
  },
  {
   "cell_type": "code",
   "execution_count": 129,
   "outputs": [],
   "source": [
    "names = [\n",
    "    'Открытое акционерное общество \"Автогенный завод\"',\n",
    "    'ОАО \"Автогенный завод\"'\n",
    "]\n",
    "inn = \"5506022720\"\n",
    "fill_supplier_inn(names, inn)"
   ],
   "metadata": {
    "collapsed": false,
    "pycharm": {
     "name": "#%%\n"
    }
   }
  },
  {
   "cell_type": "markdown",
   "source": [
    "### ОБЩЕСТВО ОГРАНИЧЕННОЙ ОТВЕТСТВЕННОСТЬЮ \"Авиатор\"\n",
    "Невозможно определить\n",
    "https://www.rusprofile.ru/id/1310648\n",
    "https://www.rusprofile.ru/id/10849202"
   ],
   "metadata": {
    "collapsed": false,
    "pycharm": {
     "name": "#%% md\n"
    }
   }
  },
  {
   "cell_type": "code",
   "execution_count": 130,
   "outputs": [],
   "source": [
    "names = [\n",
    "    'ОБЩЕСТВО ОГРАНИЧЕННОЙ ОТВЕТСТВЕННОСТЬЮ \"Авиатор\"',\n",
    "    'ООО \"Авиатор\"'\n",
    "]\n",
    "missed += names"
   ],
   "metadata": {
    "collapsed": false,
    "pycharm": {
     "name": "#%%\n"
    }
   }
  },
  {
   "cell_type": "markdown",
   "source": [
    "### ОБЩЕСТВО ОГРАНИЧЕННОЙ ОТВЕТСТВЕННОСТЬЮ \"Артмедикал\"\n",
    "Невозможно определить\n",
    "https://www.rusprofile.ru/id/11574071\n",
    "https://www.rusprofile.ru/id/6825881"
   ],
   "metadata": {
    "collapsed": false,
    "pycharm": {
     "name": "#%% md\n"
    }
   }
  },
  {
   "cell_type": "code",
   "execution_count": 131,
   "outputs": [],
   "source": [
    "names = [\n",
    "    'ОБЩЕСТВО ОГРАНИЧЕННОЙ ОТВЕТСТВЕННОСТЬЮ \"Артмедикал\"'\n",
    "]\n",
    "missed += names"
   ],
   "metadata": {
    "collapsed": false,
    "pycharm": {
     "name": "#%%\n"
    }
   }
  },
  {
   "cell_type": "markdown",
   "source": [
    "### ОБЩЕСТВО ОГРАНИЧЕННОЙ ОТВЕТСТВЕННОСТЬЮ \"ГлобалФарм\"\n",
    "https://www.rusprofile.ru/id/11722127"
   ],
   "metadata": {
    "collapsed": false,
    "pycharm": {
     "name": "#%% md\n"
    }
   }
  },
  {
   "cell_type": "code",
   "execution_count": 132,
   "outputs": [],
   "source": [
    "names = [\n",
    "    'ООО «ГлобалФарм» ',\n",
    "    'ОБЩЕСТВО ОГРАНИЧЕННОЙ ОТВЕТСТВЕННОСТЬЮ \"ГлобалФарм\"',\n",
    "    'ООО \"ГлобалФарм\"'\n",
    "]\n",
    "inn = \"5007107062\"\n",
    "fill_supplier_inn(names, inn)"
   ],
   "metadata": {
    "collapsed": false,
    "pycharm": {
     "name": "#%%\n"
    }
   }
  },
  {
   "cell_type": "markdown",
   "source": [
    "### ОБЩЕСТВО ОГРАНИЧЕННОЙ ОТВЕТСТВЕННОСТЬЮ \"Земля\"\n",
    "Невозможно определить\n",
    "https://www.rusprofile.ru/id/2349072\n",
    "https://www.rusprofile.ru/id/1933539"
   ],
   "metadata": {
    "collapsed": false,
    "pycharm": {
     "name": "#%% md\n"
    }
   }
  },
  {
   "cell_type": "code",
   "execution_count": 133,
   "outputs": [],
   "source": [
    "names = [\n",
    "    'ОБЩЕСТВО ОГРАНИЧЕННОЙ ОТВЕТСТВЕННОСТЬЮ \"Земля\"'\n",
    "]\n",
    "missed += names"
   ],
   "metadata": {
    "collapsed": false,
    "pycharm": {
     "name": "#%%\n"
    }
   }
  },
  {
   "cell_type": "markdown",
   "source": [
    "### ОБЩЕСТВО ОГРАНИЧЕННОЙ ОТВЕТСТВЕННОСТЬЮ \"Империал\"\n",
    "Невозможно определить\n",
    "https://www.rusprofile.ru/id/5459659\n",
    "https://www.rusprofile.ru/id/11722127"
   ],
   "metadata": {
    "collapsed": false,
    "pycharm": {
     "name": "#%% md\n"
    }
   }
  },
  {
   "cell_type": "code",
   "execution_count": 134,
   "outputs": [],
   "source": [
    "names = [\n",
    "    'ОБЩЕСТВО ОГРАНИЧЕННОЙ ОТВЕТСТВЕННОСТЬЮ \"Империал\"'\n",
    "]\n",
    "missed += names"
   ],
   "metadata": {
    "collapsed": false,
    "pycharm": {
     "name": "#%%\n"
    }
   }
  },
  {
   "cell_type": "markdown",
   "source": [
    "### ОБЩЕСТВО ОГРАНИЧЕННОЙ ОТВЕТСТВЕННОСТЬЮ \"Меганом\"\n",
    "Невозможно определить\n",
    "https://www.rusprofile.ru/id/11716355\n",
    "https://www.rusprofile.ru/id/11819191"
   ],
   "metadata": {
    "collapsed": false,
    "pycharm": {
     "name": "#%% md\n"
    }
   }
  },
  {
   "cell_type": "code",
   "execution_count": 135,
   "outputs": [],
   "source": [
    "names = [\n",
    "    'ОБЩЕСТВО ОГРАНИЧЕННОЙ ОТВЕТСТВЕННОСТЬЮ \"Меганом\"'\n",
    "]\n",
    "missed += names"
   ],
   "metadata": {
    "collapsed": false,
    "pycharm": {
     "name": "#%%\n"
    }
   }
  },
  {
   "cell_type": "markdown",
   "source": [
    "### ОБЩЕСТВО ОГРАНИЧЕННОЙ ОТВЕТСТВЕННОСТЬЮ \"ПУЛЬС Екатеринбург\"\n",
    "https://www.rusprofile.ru/id/964418"
   ],
   "metadata": {
    "collapsed": false,
    "pycharm": {
     "name": "#%% md\n"
    }
   }
  },
  {
   "cell_type": "code",
   "execution_count": 136,
   "outputs": [],
   "source": [
    "names = [\n",
    "    'ОБЩЕСТВО ОГРАНИЧЕННОЙ ОТВЕТСТВЕННОСТЬЮ \"ПУЛЬС Екатеринбург\"',\n",
    "    'ООО «ПУЛЬС Екатеринбург»',\n",
    "    'ООО \"ПУЛЬС ЕКАТЕРИНБУРГ\"',\n",
    "    'ООО \"Пульс Екатеринбург\"',\n",
    "    'ОБЩЕСТВО ОГРАНИЧЕННОЙ ОТВЕТСТВЕННОСТЬЮ \"Пульс Екатеринбург\"',\n",
    "    'ОБЩЕСТВО С ОГРАНИЧЕННОЙ ОТВЕТСТВЕННОСТЬЮ \"ПУЛЬСЕКАТЕРИНБУРГ\"',\n",
    "    'ОБЩЕСТВО С ОГРАНИЧЕННОЙ ОТВЕТСТВЕННОСТЬЮ \"ПУЛЬС ЕКАТЕРИНБУРГ\"'\n",
    "]\n",
    "inn = \"6670300868\"\n",
    "fill_supplier_inn(names, inn)"
   ],
   "metadata": {
    "collapsed": false,
    "pycharm": {
     "name": "#%%\n"
    }
   }
  },
  {
   "cell_type": "markdown",
   "source": [
    "### ОБЩЕСТВО ОГРАНИЧЕННОЙ ОТВЕТСТВЕННОСТЬЮ \"ПЭТ-сервис\"\n",
    "Невозможно определить\n",
    "https://www.rusprofile.ru/id/1207500003370\n",
    "https://www.rusprofile.ru/id/3468847"
   ],
   "metadata": {
    "collapsed": false,
    "pycharm": {
     "name": "#%% md\n"
    }
   }
  },
  {
   "cell_type": "code",
   "execution_count": 137,
   "outputs": [],
   "source": [
    "names = [\n",
    "    'ОБЩЕСТВО ОГРАНИЧЕННОЙ ОТВЕТСТВЕННОСТЬЮ \"ПЭТ-сервис\"'\n",
    "]\n",
    "missed += names"
   ],
   "metadata": {
    "collapsed": false,
    "pycharm": {
     "name": "#%%\n"
    }
   }
  },
  {
   "cell_type": "markdown",
   "source": [
    "### ОБЩЕСТВО ОГРАНИЧЕННОЙ ОТВЕТСТВЕННОСТЬЮ \"Промедфарм-Тюмень\"\n",
    "https://www.rusprofile.ru/id/3710667"
   ],
   "metadata": {
    "collapsed": false,
    "pycharm": {
     "name": "#%% md\n"
    }
   }
  },
  {
   "cell_type": "code",
   "execution_count": 138,
   "outputs": [],
   "source": [
    "names = [\n",
    "    'ОБЩЕСТВО ОГРАНИЧЕННОЙ ОТВЕТСТВЕННОСТЬЮ \"Промедфарм- Тюмень\"',\n",
    "    'ОБЩЕСТВО ОГРАНИЧЕННОЙ ОТВЕТСТВЕННОСТЬЮ \"Промедфарм-Тюмень\"',\n",
    "    'ООО \"Промедфарм-Тюмень\"',\n",
    "    'ООО «Промедфарм-Тюмень»',\n",
    "    'ОБЩЕСТВО ОГРАНИЧЕННОЙ ОТВЕТСТВЕННОСТЬЮ \"Про Медфарм-Тюмень\"',\n",
    "    'ОБЩЕСТВО С ОГРАНИЧЕННОЙ ОТВЕТСТВЕННОСТЬЮ \"ПРОМЕДФАРМ-ТЮМЕНЬ\"',\n",
    "    'ООО \"Про Медфарм Тюмень\"'\n",
    "]\n",
    "inn = \"7202189513\"\n",
    "fill_supplier_inn(names, inn)"
   ],
   "metadata": {
    "collapsed": false,
    "pycharm": {
     "name": "#%%\n"
    }
   }
  },
  {
   "cell_type": "markdown",
   "source": [
    "### ОБЩЕСТВО ОГРАНИЧЕННОЙ ОТВЕТСТВЕННОСТЬЮ \"Региональная МЕДИЦИНСКАЯ компания-72 \"\n",
    "https://www.rusprofile.ru/id/11259705"
   ],
   "metadata": {
    "collapsed": false,
    "pycharm": {
     "name": "#%% md\n"
    }
   }
  },
  {
   "cell_type": "code",
   "execution_count": 139,
   "outputs": [],
   "source": [
    "names = [\n",
    "    'ОБЩЕСТВО ОГРАНИЧЕННОЙ ОТВЕТСТВЕННОСТЬЮ \"Региональная МЕДИЦИНСКАЯ компания-72 \"',\n",
    "    'Общество с ограниченной ответственностью \" Региональная Медицинская Компания-72\"'\n",
    "]\n",
    "inn = \"7203436853\"\n",
    "fill_supplier_inn(names, inn)"
   ],
   "metadata": {
    "collapsed": false,
    "pycharm": {
     "name": "#%%\n"
    }
   }
  },
  {
   "cell_type": "markdown",
   "source": [
    "### ОБЩЕСТВО ОГРАНИЧЕННОЙ ОТВЕТСТВЕННОСТЬЮ \"Ретро\"\n",
    "Невозможно определить\n",
    "https://www.rusprofile.ru/id/1115562\n",
    "https://www.rusprofile.ru/id/1207700360515"
   ],
   "metadata": {
    "collapsed": false,
    "pycharm": {
     "name": "#%% md\n"
    }
   }
  },
  {
   "cell_type": "code",
   "execution_count": 140,
   "outputs": [],
   "source": [
    "names = [\n",
    "    'ОБЩЕСТВО ОГРАНИЧЕННОЙ ОТВЕТСТВЕННОСТЬЮ \"Ретро\"'\n",
    "]\n",
    "missed += names"
   ],
   "metadata": {
    "collapsed": false,
    "pycharm": {
     "name": "#%%\n"
    }
   }
  },
  {
   "cell_type": "markdown",
   "source": [
    "### ОБЩЕСТВО ОГРАНИЧЕННОЙ ОТВЕТСТВЕННОСТЬЮ \"Символ\"\n",
    "Невозможно определить\n",
    "https://www.rusprofile.ru/id/7882444\n",
    "https://www.rusprofile.ru/id/11945787"
   ],
   "metadata": {
    "collapsed": false,
    "pycharm": {
     "name": "#%% md\n"
    }
   }
  },
  {
   "cell_type": "code",
   "execution_count": 141,
   "outputs": [],
   "source": [
    "names = [\n",
    "    'ОБЩЕСТВО ОГРАНИЧЕННОЙ ОТВЕТСТВЕННОСТЬЮ \"Символ\"'\n",
    "]\n",
    "missed += names"
   ],
   "metadata": {
    "collapsed": false,
    "pycharm": {
     "name": "#%%\n"
    }
   }
  },
  {
   "cell_type": "markdown",
   "source": [
    "### ОБЩЕСТВО ОГРАНИЧЕННОЙ ОТВЕТСТВЕННОСТЬЮ \"Сириус\"\n",
    "Невозможно определить\n",
    "https://www.rusprofile.ru/id/10920742\n",
    "https://www.rusprofile.ru/id/5855674"
   ],
   "metadata": {
    "collapsed": false,
    "pycharm": {
     "name": "#%% md\n"
    }
   }
  },
  {
   "cell_type": "code",
   "execution_count": 142,
   "outputs": [],
   "source": [
    "names = [\n",
    "    'ОБЩЕСТВО ОГРАНИЧЕННОЙ ОТВЕТСТВЕННОСТЬЮ \"Сириус\"',\n",
    "    'ООО «Сириус» ',\n",
    "    'ООО \"Сириус\"',\n",
    "]\n",
    "missed += names"
   ],
   "metadata": {
    "collapsed": false,
    "pycharm": {
     "name": "#%%\n"
    }
   }
  },
  {
   "cell_type": "markdown",
   "source": [
    "### ОБЩЕСТВО ОГРАНИЧЕННОЙ ОТВЕТСТВЕННОСТЬЮ \"Фарм-Поставка\"\n",
    "https://www.rusprofile.ru/id/7073787"
   ],
   "metadata": {
    "collapsed": false,
    "pycharm": {
     "name": "#%% md\n"
    }
   }
  },
  {
   "cell_type": "code",
   "execution_count": 143,
   "outputs": [],
   "source": [
    "names = [\n",
    "    'ОБЩЕСТВО ОГРАНИЧЕННОЙ ОТВЕТСТВЕННОСТЬЮ \"Фарм-Поставка\"',\n",
    "    'ООО «Фарм-Поставка»',\n",
    "    'ООО \"Фарм-поставка\"'\n",
    "]\n",
    "inn = \"7735598252\"\n",
    "fill_supplier_inn(names, inn)"
   ],
   "metadata": {
    "collapsed": false,
    "pycharm": {
     "name": "#%%\n"
    }
   }
  },
  {
   "cell_type": "markdown",
   "source": [
    "### ОБЩЕСТВО ОГРАНИЧЕННОЙ ОТВЕТСТВЕННОСТЬЮ \"ФармСоюз\"\n",
    "https://www.rusprofile.ru/id/10503620"
   ],
   "metadata": {
    "collapsed": false,
    "pycharm": {
     "name": "#%% md\n"
    }
   }
  },
  {
   "cell_type": "code",
   "execution_count": 144,
   "outputs": [],
   "source": [
    "names = [\n",
    "    'ООО \"Фармсоюз\"',\n",
    "    'ОБЩЕСТВО ОГРАНИЧЕННОЙ ОТВЕТСТВЕННОСТЬЮ \"ФармСоюз\"'\n",
    "]\n",
    "inn = \"7203385574\"\n",
    "fill_supplier_inn(names, inn)"
   ],
   "metadata": {
    "collapsed": false,
    "pycharm": {
     "name": "#%%\n"
    }
   }
  },
  {
   "cell_type": "markdown",
   "source": [
    "### ОБЩЕСТВО ОГРАНИЧЕННОЙ ОТВЕТСТВЕННОСТЬЮ \"ФлайФарма\"\n",
    "https://www.rusprofile.ru/id/7808003"
   ],
   "metadata": {
    "collapsed": false,
    "pycharm": {
     "name": "#%% md\n"
    }
   }
  },
  {
   "cell_type": "code",
   "execution_count": 145,
   "outputs": [],
   "source": [
    "names = [\n",
    "    'ООО \"ФлайФарма\"',\n",
    "    'ОБЩЕСТВО ОГРАНИЧЕННОЙ ОТВЕТСТВЕННОСТЬЮ \"ФлайФарма\"'\n",
    "]\n",
    "inn = \"7729442698\"\n",
    "fill_supplier_inn(names, inn)"
   ],
   "metadata": {
    "collapsed": false,
    "pycharm": {
     "name": "#%%\n"
    }
   }
  },
  {
   "cell_type": "markdown",
   "source": [
    "### ООО \"АДР-Транс\"\n",
    "https://www.rusprofile.ru/id/10801868"
   ],
   "metadata": {
    "collapsed": false,
    "pycharm": {
     "name": "#%% md\n"
    }
   }
  },
  {
   "cell_type": "code",
   "execution_count": 146,
   "outputs": [],
   "source": [
    "names = [\n",
    "    'ООО \"АДР-Транс\"'\n",
    "]\n",
    "inn = \"5020081790\"\n",
    "fill_supplier_inn(names, inn)"
   ],
   "metadata": {
    "collapsed": false,
    "pycharm": {
     "name": "#%%\n"
    }
   }
  },
  {
   "cell_type": "markdown",
   "source": [
    "### ООО \"Авицена\"\n",
    "Невозможно определить\n",
    "https://www.rusprofile.ru/id/3394317\n",
    "https://www.rusprofile.ru/id/11018709"
   ],
   "metadata": {
    "collapsed": false,
    "pycharm": {
     "name": "#%% md\n"
    }
   }
  },
  {
   "cell_type": "code",
   "execution_count": 147,
   "outputs": [],
   "source": [
    "names = [\n",
    "    'ООО \"Авицена\"',\n",
    "]\n",
    "missed += names"
   ],
   "metadata": {
    "collapsed": false,
    "pycharm": {
     "name": "#%%\n"
    }
   }
  },
  {
   "cell_type": "markdown",
   "source": [
    "### ООО \"Аксинья\"\n",
    "https://www.rusprofile.ru/id/3406851"
   ],
   "metadata": {
    "collapsed": false,
    "pycharm": {
     "name": "#%% md\n"
    }
   }
  },
  {
   "cell_type": "code",
   "execution_count": 148,
   "outputs": [],
   "source": [
    "names = [\n",
    "    'ООО \"Аксинья\"'\n",
    "]\n",
    "inn = \"7728730816\"\n",
    "fill_supplier_inn(names, inn)"
   ],
   "metadata": {
    "collapsed": false,
    "pycharm": {
     "name": "#%%\n"
    }
   }
  },
  {
   "cell_type": "markdown",
   "source": [
    "### ООО \"Аптека Реагент\"\n",
    "https://www.rusprofile.ru/id/1662274"
   ],
   "metadata": {
    "collapsed": false,
    "pycharm": {
     "name": "#%% md\n"
    }
   }
  },
  {
   "cell_type": "code",
   "execution_count": 149,
   "outputs": [],
   "source": [
    "names = [\n",
    "    'ООО \"Аптека Реагент\"'\n",
    "]\n",
    "inn = \"7203082107\"\n",
    "fill_supplier_inn(names, inn)"
   ],
   "metadata": {
    "collapsed": false,
    "pycharm": {
     "name": "#%%\n"
    }
   }
  },
  {
   "cell_type": "markdown",
   "source": [
    "### ООО \"Астромед\"\n",
    "https://www.rusprofile.ru/id/237574"
   ],
   "metadata": {
    "collapsed": false,
    "pycharm": {
     "name": "#%% md\n"
    }
   }
  },
  {
   "cell_type": "code",
   "execution_count": 150,
   "outputs": [],
   "source": [
    "names = [\n",
    "    'ООО \"Астромед\"'\n",
    "]\n",
    "inn = \"6166058239\"\n",
    "fill_supplier_inn(names, inn)"
   ],
   "metadata": {
    "collapsed": false,
    "pycharm": {
     "name": "#%%\n"
    }
   }
  },
  {
   "cell_type": "markdown",
   "source": [
    "### ООО \"Белка-Хэви\"\n",
    "https://www.rusprofile.ru/id/6048463"
   ],
   "metadata": {
    "collapsed": false,
    "pycharm": {
     "name": "#%% md\n"
    }
   }
  },
  {
   "cell_type": "code",
   "execution_count": 151,
   "outputs": [],
   "source": [
    "names = [\n",
    "    'ООО \"Белка-Хэви\"',\n",
    "    'ООО \"Белка-Хэви\" '\n",
    "]\n",
    "inn = \"3906263452\"\n",
    "fill_supplier_inn(names, inn)"
   ],
   "metadata": {
    "collapsed": false,
    "pycharm": {
     "name": "#%%\n"
    }
   }
  },
  {
   "cell_type": "markdown",
   "source": [
    "### ООО \"Берег\"\n",
    "Невозможно определить\n",
    "https://www.rusprofile.ru/id/11913485\n",
    "https://www.rusprofile.ru/id/1589602"
   ],
   "metadata": {
    "collapsed": false,
    "pycharm": {
     "name": "#%% md\n"
    }
   }
  },
  {
   "cell_type": "code",
   "execution_count": 152,
   "outputs": [],
   "source": [
    "names = [\n",
    "    'ООО \"Берег\"',\n",
    "]\n",
    "missed += names"
   ],
   "metadata": {
    "collapsed": false,
    "pycharm": {
     "name": "#%%\n"
    }
   }
  },
  {
   "cell_type": "markdown",
   "source": [
    "### ООО \"Букет-Мира\"\n",
    "https://www.rusprofile.ru/id/7233085"
   ],
   "metadata": {
    "collapsed": false,
    "pycharm": {
     "name": "#%% md\n"
    }
   }
  },
  {
   "cell_type": "code",
   "execution_count": 153,
   "outputs": [],
   "source": [
    "names = [\n",
    "    'ООО \"Букет-Мира\"'\n",
    "]\n",
    "inn = \"7716776157\"\n",
    "fill_supplier_inn(names, inn)"
   ],
   "metadata": {
    "collapsed": false,
    "pycharm": {
     "name": "#%%\n"
    }
   }
  },
  {
   "cell_type": "markdown",
   "source": [
    "### ООО \"Бухгалтерские решения\"\n",
    "Невозможно определить\n",
    "https://www.rusprofile.ru/id/2023114\n",
    "https://www.rusprofile.ru/id/11213717"
   ],
   "metadata": {
    "collapsed": false,
    "pycharm": {
     "name": "#%% md\n"
    }
   }
  },
  {
   "cell_type": "code",
   "execution_count": 154,
   "outputs": [],
   "source": [
    "names = [\n",
    "    'ООО \"Бухгалтерские решения\"',\n",
    "]\n",
    "missed += names"
   ],
   "metadata": {
    "collapsed": false,
    "pycharm": {
     "name": "#%%\n"
    }
   }
  },
  {
   "cell_type": "markdown",
   "source": [
    "### ООО \"Види Токс\"\n",
    "https://www.rusprofile.ru/id/11882867"
   ],
   "metadata": {
    "collapsed": false,
    "pycharm": {
     "name": "#%% md\n"
    }
   }
  },
  {
   "cell_type": "code",
   "execution_count": 155,
   "outputs": [],
   "source": [
    "names = [\n",
    "    'ООО \"Види Токс\"',\n",
    "    'ООО «ВидиТокс»'\n",
    "]\n",
    "inn = \"7203488001\"\n",
    "fill_supplier_inn(names, inn)"
   ],
   "metadata": {
    "collapsed": false,
    "pycharm": {
     "name": "#%%\n"
    }
   }
  },
  {
   "cell_type": "markdown",
   "source": [
    "### ООО \"Геркулес\"\n",
    "Невозможно определить\n",
    "https://www.rusprofile.ru/id/1217700472780\n",
    "https://www.rusprofile.ru/id/1217700545336"
   ],
   "metadata": {
    "collapsed": false,
    "pycharm": {
     "name": "#%% md\n"
    }
   }
  },
  {
   "cell_type": "code",
   "execution_count": 156,
   "outputs": [],
   "source": [
    "names = [\n",
    "    'ООО \"Геркулес\"',\n",
    "    'Общество с ограниченной ответственностью \"Геркулес\"'\n",
    "]\n",
    "missed += names"
   ],
   "metadata": {
    "collapsed": false,
    "pycharm": {
     "name": "#%%\n"
    }
   }
  },
  {
   "cell_type": "markdown",
   "source": [
    "### ООО \"Дисайд\"\n",
    "https://www.rusprofile.ru/id/10194921"
   ],
   "metadata": {
    "collapsed": false,
    "pycharm": {
     "name": "#%% md\n"
    }
   }
  },
  {
   "cell_type": "code",
   "execution_count": 157,
   "outputs": [],
   "source": [
    "names = [\n",
    "    'ООО \"Дисайд\"',\n",
    "    'ООО «Дисайд»'\n",
    "]\n",
    "inn = \"7714359687\"\n",
    "fill_supplier_inn(names, inn)"
   ],
   "metadata": {
    "collapsed": false,
    "pycharm": {
     "name": "#%%\n"
    }
   }
  },
  {
   "cell_type": "markdown",
   "source": [
    "### ООО \"Еврокарго\"\n",
    "Невозможно определить\n",
    "https://www.rusprofile.ru/id/3214946\n",
    "https://www.rusprofile.ru/id/1207700377851"
   ],
   "metadata": {
    "collapsed": false,
    "pycharm": {
     "name": "#%% md\n"
    }
   }
  },
  {
   "cell_type": "code",
   "execution_count": 158,
   "outputs": [],
   "source": [
    "names = [\n",
    "    'ООО \"Еврокарго\"'\n",
    "]\n",
    "missed += names"
   ],
   "metadata": {
    "collapsed": false,
    "pycharm": {
     "name": "#%%\n"
    }
   }
  },
  {
   "cell_type": "markdown",
   "source": [
    "### ООО \"КА-ПРИНТ\"\n",
    "https://www.rusprofile.ru/id/6757776"
   ],
   "metadata": {
    "collapsed": false,
    "pycharm": {
     "name": "#%% md\n"
    }
   }
  },
  {
   "cell_type": "code",
   "execution_count": 159,
   "outputs": [],
   "source": [
    "names = [\n",
    "    'ООО \"КА-ПРИНТ\"'\n",
    "]\n",
    "inn = \"7721770785\"\n",
    "fill_supplier_inn(names, inn)"
   ],
   "metadata": {
    "collapsed": false,
    "pycharm": {
     "name": "#%%\n"
    }
   }
  },
  {
   "cell_type": "markdown",
   "source": [
    "### ООО \"Клининг 911\"\n",
    "https://www.rusprofile.ru/id/43726"
   ],
   "metadata": {
    "collapsed": false,
    "pycharm": {
     "name": "#%% md\n"
    }
   }
  },
  {
   "cell_type": "code",
   "execution_count": 160,
   "outputs": [],
   "source": [
    "names = [\n",
    "    'ООО \"Клининг 911\"'\n",
    "]\n",
    "inn = \"6731071625\"\n",
    "fill_supplier_inn(names, inn)"
   ],
   "metadata": {
    "collapsed": false,
    "pycharm": {
     "name": "#%%\n"
    }
   }
  },
  {
   "cell_type": "markdown",
   "source": [
    "### ООО \"Компания Диагностика\"\n",
    "Невозможно определить\n",
    "https://www.rusprofile.ru/id/9461025\n",
    "https://www.rusprofile.ru/id/11775795"
   ],
   "metadata": {
    "collapsed": false,
    "pycharm": {
     "name": "#%% md\n"
    }
   }
  },
  {
   "cell_type": "code",
   "execution_count": 161,
   "outputs": [],
   "source": [
    "names = [\n",
    "    'ООО \"Компания Диагностика\"'\n",
    "]\n",
    "missed += names"
   ],
   "metadata": {
    "collapsed": false,
    "pycharm": {
     "name": "#%%\n"
    }
   }
  },
  {
   "cell_type": "markdown",
   "source": [
    "### ООО \"Компания Лига 7\"\n",
    "https://www.rusprofile.ru/id/268867"
   ],
   "metadata": {
    "collapsed": false,
    "pycharm": {
     "name": "#%% md\n"
    }
   }
  },
  {
   "cell_type": "code",
   "execution_count": 162,
   "outputs": [],
   "source": [
    "names = [\n",
    "    'ООО \"Компания Лига 7\"',\n",
    "    'ОБЩЕСТВО С ОГРАНИЧЕННОЙ ОТВЕТСТВЕННОСТЬЮ \"КОМПАНИЯ \"ЛИГА 7\"'\n",
    "]\n",
    "inn = \"6639015160\"\n",
    "fill_supplier_inn(names, inn)"
   ],
   "metadata": {
    "collapsed": false,
    "pycharm": {
     "name": "#%%\n"
    }
   }
  },
  {
   "cell_type": "markdown",
   "source": [
    "### ООО \"Краснодарская медтехника\"\n",
    "https://www.rusprofile.ru/id/10520175"
   ],
   "metadata": {
    "collapsed": false,
    "pycharm": {
     "name": "#%% md\n"
    }
   }
  },
  {
   "cell_type": "code",
   "execution_count": 163,
   "outputs": [],
   "source": [
    "names = [\n",
    "    'ООО \"Краснодарская медтехника\"'\n",
    "]\n",
    "inn = \"2311215676\"\n",
    "fill_supplier_inn(names, inn)"
   ],
   "metadata": {
    "collapsed": false,
    "pycharm": {
     "name": "#%%\n"
    }
   }
  },
  {
   "cell_type": "markdown",
   "source": [
    "### ООО \"Лабаз\"\n",
    "Невозможно определить\n",
    "https://www.rusprofile.ru/id/10348547\n",
    "https://www.rusprofile.ru/id/6759240"
   ],
   "metadata": {
    "collapsed": false,
    "pycharm": {
     "name": "#%% md\n"
    }
   }
  },
  {
   "cell_type": "code",
   "execution_count": 164,
   "outputs": [],
   "source": [
    "names = [\n",
    "    'ООО \"Лабаз\"'\n",
    "]\n",
    "missed += names"
   ],
   "metadata": {
    "collapsed": false,
    "pycharm": {
     "name": "#%%\n"
    }
   }
  },
  {
   "cell_type": "markdown",
   "source": [
    "### ООО \"Лювита\"\n",
    "https://www.rusprofile.ru/id/3735044"
   ],
   "metadata": {
    "collapsed": false,
    "pycharm": {
     "name": "#%% md\n"
    }
   }
  },
  {
   "cell_type": "code",
   "execution_count": 165,
   "outputs": [],
   "source": [
    "names = [\n",
    "    'ООО \"Лювита\"'\n",
    "]\n",
    "inn = \"3906076156\"\n",
    "fill_supplier_inn(names, inn)"
   ],
   "metadata": {
    "collapsed": false,
    "pycharm": {
     "name": "#%%\n"
    }
   }
  },
  {
   "cell_type": "markdown",
   "source": [
    "### ООО \"Мария\"\n",
    "Невозможно определить\n",
    "https://www.rusprofile.ru/id/11914742\n",
    "https://www.rusprofile.ru/id/1315176"
   ],
   "metadata": {
    "collapsed": false,
    "pycharm": {
     "name": "#%% md\n"
    }
   }
  },
  {
   "cell_type": "code",
   "execution_count": 166,
   "outputs": [],
   "source": [
    "names = [\n",
    "    'ООО \"Мария\"'\n",
    "]\n",
    "missed += names"
   ],
   "metadata": {
    "collapsed": false,
    "pycharm": {
     "name": "#%%\n"
    }
   }
  },
  {
   "cell_type": "markdown",
   "source": [
    "### ООО \"Мед Тек Инженеринг\"\n",
    "https://www.rusprofile.ru/id/3719592"
   ],
   "metadata": {
    "collapsed": false,
    "pycharm": {
     "name": "#%% md\n"
    }
   }
  },
  {
   "cell_type": "code",
   "execution_count": 167,
   "outputs": [],
   "source": [
    "names = [\n",
    "    'ООО \"Мед Тек Инженеринг\"',\n",
    "    'ООО \"Мед Тех Инженеринг\"',\n",
    "    'ООО «Мед Тек Инженеринг»'\n",
    "]\n",
    "inn = \"6673215650\"\n",
    "fill_supplier_inn(names, inn)"
   ],
   "metadata": {
    "collapsed": false,
    "pycharm": {
     "name": "#%%\n"
    }
   }
  },
  {
   "cell_type": "markdown",
   "source": [
    "### ООО \"Мед-Юг\"\n",
    "https://www.rusprofile.ru/id/10985384"
   ],
   "metadata": {
    "collapsed": false,
    "pycharm": {
     "name": "#%% md\n"
    }
   }
  },
  {
   "cell_type": "code",
   "execution_count": 168,
   "outputs": [],
   "source": [
    "names = [\n",
    "    'ООО \"Мед-Юг\"'\n",
    "]\n",
    "inn = \"6165207181\"\n",
    "fill_supplier_inn(names, inn)"
   ],
   "metadata": {
    "collapsed": false,
    "pycharm": {
     "name": "#%%\n"
    }
   }
  },
  {
   "cell_type": "markdown",
   "source": [
    "### ООО \"МедТех\"\n",
    "Невозможно определить\n",
    "https://www.rusprofile.ru/id/7169583\n",
    "https://www.rusprofile.ru/id/7852065"
   ],
   "metadata": {
    "collapsed": false,
    "pycharm": {
     "name": "#%% md\n"
    }
   }
  },
  {
   "cell_type": "code",
   "execution_count": 169,
   "outputs": [],
   "source": [
    "names = [\n",
    "    'ОБЩЕСТВО С ОГРАНИЧЕННОЙ ОТВЕТСТВЕННОСТЬЮ \"МедТех\"',\n",
    "    'ООО \"МедТех\"'\n",
    "]\n",
    "missed += names"
   ],
   "metadata": {
    "collapsed": false,
    "pycharm": {
     "name": "#%%\n"
    }
   }
  },
  {
   "cell_type": "markdown",
   "source": [
    "### ООО \"НКХ РТ-Тюмень\"\n",
    "https://www.rusprofile.ru/id/620097"
   ],
   "metadata": {
    "collapsed": false,
    "pycharm": {
     "name": "#%% md\n"
    }
   }
  },
  {
   "cell_type": "code",
   "execution_count": 170,
   "outputs": [],
   "source": [
    "names = [\n",
    "    'ООО\"НКХ РТ-Тюмень\"',\n",
    "    'ООО \"НКХ РТ-Тюмень\"'\n",
    "]\n",
    "inn = \"7202135444\"\n",
    "fill_supplier_inn(names, inn)"
   ],
   "metadata": {
    "collapsed": false,
    "pycharm": {
     "name": "#%%\n"
    }
   }
  },
  {
   "cell_type": "markdown",
   "source": [
    "### ООО \"Омсктехгаз\"\n",
    "Невозможно определить\n",
    "https://www.rusprofile.ru/id/10623182\n",
    "https://www.rusprofile.ru/id/6615120"
   ],
   "metadata": {
    "collapsed": false,
    "pycharm": {
     "name": "#%% md\n"
    }
   }
  },
  {
   "cell_type": "code",
   "execution_count": 171,
   "outputs": [],
   "source": [
    "names = [\n",
    "    'ООО \"Омсктехгаз\"'\n",
    "]\n",
    "missed += names"
   ],
   "metadata": {
    "collapsed": false,
    "pycharm": {
     "name": "#%%\n"
    }
   }
  },
  {
   "cell_type": "markdown",
   "source": [
    "### ООО \"Планета-сервис\"\n",
    "https://www.rusprofile.ru/id/11309069"
   ],
   "metadata": {
    "collapsed": false,
    "pycharm": {
     "name": "#%% md\n"
    }
   }
  },
  {
   "cell_type": "code",
   "execution_count": 172,
   "outputs": [],
   "source": [
    "names = [\n",
    "    'ООО \"Планета-сервис\"'\n",
    "]\n",
    "inn = \"9729239587\"\n",
    "fill_supplier_inn(names, inn)"
   ],
   "metadata": {
    "collapsed": false,
    "pycharm": {
     "name": "#%%\n"
    }
   }
  },
  {
   "cell_type": "markdown",
   "source": [
    "### ООО \"Промгазсервис\"\n",
    "Невозможно определить\n",
    "https://www.rusprofile.ru/id/4412457\n",
    "https://www.rusprofile.ru/id/3838473"
   ],
   "metadata": {
    "collapsed": false,
    "pycharm": {
     "name": "#%% md\n"
    }
   }
  },
  {
   "cell_type": "code",
   "execution_count": 173,
   "outputs": [],
   "source": [
    "names = [\n",
    "    'ООО \"Промгазсервис\"'\n",
    "]\n",
    "missed += names"
   ],
   "metadata": {
    "collapsed": false,
    "pycharm": {
     "name": "#%%\n"
    }
   }
  },
  {
   "cell_type": "markdown",
   "source": [
    "### ООО \"РегионСнаб\"\n",
    "https://www.rusprofile.ru/id/1950467"
   ],
   "metadata": {
    "collapsed": false,
    "pycharm": {
     "name": "#%% md\n"
    }
   }
  },
  {
   "cell_type": "code",
   "execution_count": 174,
   "outputs": [],
   "source": [
    "names = [\n",
    "    'ООО \"РегионСнаб\"',\n",
    "    'ООО «РегионСнаб»',\n",
    "    'ООО РегионСнаб',\n",
    "    'Общество с ограниченной ответственностью «РегионСнаб\"',\n",
    "    'Общество с ограниченной ответственностью «РегионСнаб»',\n",
    "    'ООО \"РегинСнаб\"'\n",
    "]\n",
    "inn = \"7202201915\"\n",
    "fill_supplier_inn(names, inn)"
   ],
   "metadata": {
    "collapsed": false,
    "pycharm": {
     "name": "#%%\n"
    }
   }
  },
  {
   "cell_type": "markdown",
   "source": [
    "### ООО \"Рентмедика\"\n",
    "https://www.rusprofile.ru/id/10847442"
   ],
   "metadata": {
    "collapsed": false,
    "pycharm": {
     "name": "#%% md\n"
    }
   }
  },
  {
   "cell_type": "code",
   "execution_count": 175,
   "outputs": [],
   "source": [
    "names = [\n",
    "    'ОБЩЕСТВО ОГРАНИЧЕННОЙ ОТВЕТСТВЕННОСТЬЮ \"Рентмедика\"',\n",
    "    'ООО \"Рентмедика\"',\n",
    "    'ОБЩЕСТВО С ОГРАНИЧЕННОЙ ОТВЕТСТВЕННОСТЬЮ \"РЕНТМЕДИКА\"'\n",
    "]\n",
    "inn = \"7811635100\"\n",
    "fill_supplier_inn(names, inn)"
   ],
   "metadata": {
    "collapsed": false,
    "pycharm": {
     "name": "#%%\n"
    }
   }
  },
  {
   "cell_type": "markdown",
   "source": [
    "### ООО \"СК Русэнерго\"\n",
    "https://www.rusprofile.ru/id/11634873"
   ],
   "metadata": {
    "collapsed": false,
    "pycharm": {
     "name": "#%% md\n"
    }
   }
  },
  {
   "cell_type": "code",
   "execution_count": 176,
   "outputs": [],
   "source": [
    "names = [\n",
    "    'ООО \"СК Русэнерго\"'\n",
    "]\n",
    "inn = \"6950224271\"\n",
    "fill_supplier_inn(names, inn)"
   ],
   "metadata": {
    "collapsed": false,
    "pycharm": {
     "name": "#%%\n"
    }
   }
  },
  {
   "cell_type": "markdown",
   "source": [
    "### ООО \"Сибкриопродукт\"\n",
    "https://www.rusprofile.ru/id/10864204"
   ],
   "metadata": {
    "collapsed": false,
    "pycharm": {
     "name": "#%% md\n"
    }
   }
  },
  {
   "cell_type": "code",
   "execution_count": 177,
   "outputs": [],
   "source": [
    "names = [\n",
    "    'ООО \"Сибкриопродукт\"'\n",
    "]\n",
    "inn = \"5506149766\"\n",
    "fill_supplier_inn(names, inn)"
   ],
   "metadata": {
    "collapsed": false,
    "pycharm": {
     "name": "#%%\n"
    }
   }
  },
  {
   "cell_type": "markdown",
   "source": [
    "### ООО \"Сибмясторг\"\n",
    "https://www.rusprofile.ru/id/11951938"
   ],
   "metadata": {
    "collapsed": false,
    "pycharm": {
     "name": "#%% md\n"
    }
   }
  },
  {
   "cell_type": "code",
   "execution_count": 178,
   "outputs": [],
   "source": [
    "names = [\n",
    "    'ООО \"Сибмаясторг\"'\n",
    "]\n",
    "inn = \"5505063650\"\n",
    "fill_supplier_inn(names, inn)"
   ],
   "metadata": {
    "collapsed": false,
    "pycharm": {
     "name": "#%%\n"
    }
   }
  },
  {
   "cell_type": "markdown",
   "source": [
    "### ООО \"Старкмед\"\n",
    "https://www.rusprofile.ru/id/1207800020196"
   ],
   "metadata": {
    "collapsed": false,
    "pycharm": {
     "name": "#%% md\n"
    }
   }
  },
  {
   "cell_type": "code",
   "execution_count": 179,
   "outputs": [],
   "source": [
    "names = [\n",
    "    ' ООО «Старкмед»',\n",
    "    'ООО \"Старкмед\"'\n",
    "]\n",
    "inn = \"7842179190\"\n",
    "fill_supplier_inn(names, inn)"
   ],
   "metadata": {
    "collapsed": false,
    "pycharm": {
     "name": "#%%\n"
    }
   }
  },
  {
   "cell_type": "markdown",
   "source": [
    "### ООО \"Сфера\"\n",
    "Невозможно определить\n",
    "https://www.rusprofile.ru/company/ooo-sfera"
   ],
   "metadata": {
    "collapsed": false,
    "pycharm": {
     "name": "#%% md\n"
    }
   }
  },
  {
   "cell_type": "code",
   "execution_count": 180,
   "outputs": [],
   "source": [
    "names = [\n",
    "    'ООО \"Сфера\"'\n",
    "]\n",
    "missed += names"
   ],
   "metadata": {
    "collapsed": false,
    "pycharm": {
     "name": "#%%\n"
    }
   }
  },
  {
   "cell_type": "markdown",
   "source": [
    "### ООО \"ТД \"Спутник\"\n",
    "Невозможно определить\n",
    "https://www.rusprofile.ru/id/10494358\n",
    "https://www.rusprofile.ru/id/11961600"
   ],
   "metadata": {
    "collapsed": false,
    "pycharm": {
     "name": "#%% md\n"
    }
   }
  },
  {
   "cell_type": "code",
   "execution_count": 181,
   "outputs": [],
   "source": [
    "names = [\n",
    "    'ООО \"ТД \"Спутник\"'\n",
    "]\n",
    "missed += names"
   ],
   "metadata": {
    "collapsed": false,
    "pycharm": {
     "name": "#%%\n"
    }
   }
  },
  {
   "cell_type": "markdown",
   "source": [
    "### ООО \"Теплосити\"\n",
    "Невозможно определить\n",
    "https://www.rusprofile.ru/id/6143618\n",
    "https://www.rusprofile.ru/id/3012048"
   ],
   "metadata": {
    "collapsed": false,
    "pycharm": {
     "name": "#%% md\n"
    }
   }
  },
  {
   "cell_type": "code",
   "execution_count": 182,
   "outputs": [],
   "source": [
    "names = [\n",
    "    'ООО \"Теплосити\"'\n",
    "]\n",
    "missed += names"
   ],
   "metadata": {
    "collapsed": false,
    "pycharm": {
     "name": "#%%\n"
    }
   }
  },
  {
   "cell_type": "markdown",
   "source": [
    "### ООО \"Территориальная медицинская компания\"\n",
    "https://www.rusprofile.ru/id/2317090"
   ],
   "metadata": {
    "collapsed": false,
    "pycharm": {
     "name": "#%% md\n"
    }
   }
  },
  {
   "cell_type": "code",
   "execution_count": 183,
   "outputs": [],
   "source": [
    "names = [\n",
    "    'ООО \"Территориальная медицинская компания\"',\n",
    "]\n",
    "inn = \"6634008113\"\n",
    "fill_supplier_inn(names, inn)"
   ],
   "metadata": {
    "collapsed": false,
    "pycharm": {
     "name": "#%%\n"
    }
   }
  },
  {
   "cell_type": "markdown",
   "source": [
    "### ООО \"Торговый дом Бро\"\n",
    "https://www.rusprofile.ru/id/3334150"
   ],
   "metadata": {
    "collapsed": false,
    "pycharm": {
     "name": "#%% md\n"
    }
   }
  },
  {
   "cell_type": "code",
   "execution_count": 184,
   "outputs": [],
   "source": [
    "names = [\n",
    "    'ООО \"Торговый дом Бро\"',\n",
    "    'ООО «Торговый дом БРО»'\n",
    "]\n",
    "inn = \"6625047170\"\n",
    "fill_supplier_inn(names, inn)"
   ],
   "metadata": {
    "collapsed": false,
    "pycharm": {
     "name": "#%%\n"
    }
   }
  },
  {
   "cell_type": "markdown",
   "source": [
    "### ООО \"Тюменские аэрозоли\"\n",
    "https://www.rusprofile.ru/id/235072"
   ],
   "metadata": {
    "collapsed": false,
    "pycharm": {
     "name": "#%% md\n"
    }
   }
  },
  {
   "cell_type": "code",
   "execution_count": 185,
   "outputs": [],
   "source": [
    "names = [\n",
    "    'ООО \"Тюменские аэрозоли\"'\n",
    "]\n",
    "inn = \"7203144392\"\n",
    "fill_supplier_inn(names, inn)"
   ],
   "metadata": {
    "collapsed": false,
    "pycharm": {
     "name": "#%%\n"
    }
   }
  },
  {
   "cell_type": "markdown",
   "source": [
    "### ООО \"Фарм Союз\"\n",
    "https://www.rusprofile.ru/id/1217700469161"
   ],
   "metadata": {
    "collapsed": false,
    "pycharm": {
     "name": "#%% md\n"
    }
   }
  },
  {
   "cell_type": "code",
   "execution_count": 186,
   "outputs": [],
   "source": [
    "names = [\n",
    "    'ООО \"Фарм Союз\"',\n",
    "    'ООО Фарм Союз\"'\n",
    "]\n",
    "inn = \"7720855073\"\n",
    "fill_supplier_inn(names, inn)"
   ],
   "metadata": {
    "collapsed": false,
    "pycharm": {
     "name": "#%%\n"
    }
   }
  },
  {
   "cell_type": "markdown",
   "source": [
    "### ООО \"Шанс\"\n",
    "Невозможно определить\n",
    "https://www.rusprofile.ru/company/ooo-shans"
   ],
   "metadata": {
    "collapsed": false,
    "pycharm": {
     "name": "#%% md\n"
    }
   }
  },
  {
   "cell_type": "code",
   "execution_count": 187,
   "outputs": [],
   "source": [
    "names = [\n",
    "    'ООО \"Шанс\"'\n",
    "]\n",
    "missed += names"
   ],
   "metadata": {
    "collapsed": false,
    "pycharm": {
     "name": "#%%\n"
    }
   }
  },
  {
   "cell_type": "markdown",
   "source": [
    "### ООО \"Эст-Энерго\"\n",
    "https://www.rusprofile.ru/id/11035414"
   ],
   "metadata": {
    "collapsed": false,
    "pycharm": {
     "name": "#%% md\n"
    }
   }
  },
  {
   "cell_type": "code",
   "execution_count": 188,
   "outputs": [],
   "source": [
    "names = [\n",
    "    'ООО \"Эст-Энерго\"',\n",
    "    'ООО \"ЭСТ-Энерго\"'\n",
    "]\n",
    "inn = \"6670454843\"\n",
    "fill_supplier_inn(names, inn)"
   ],
   "metadata": {
    "collapsed": false,
    "pycharm": {
     "name": "#%%\n"
    }
   }
  },
  {
   "cell_type": "markdown",
   "source": [
    "### ООО \"ЯмалТюменьСпасатель\"\n",
    "https://www.rusprofile.ru/id/10812198"
   ],
   "metadata": {
    "collapsed": false,
    "pycharm": {
     "name": "#%% md\n"
    }
   }
  },
  {
   "cell_type": "code",
   "execution_count": 189,
   "outputs": [],
   "source": [
    "names = [\n",
    "    'ООО \"ЯмалТюменьСпасатель\"'\n",
    "]\n",
    "inn = \"7203405566\"\n",
    "fill_supplier_inn(names, inn)"
   ],
   "metadata": {
    "collapsed": false,
    "pycharm": {
     "name": "#%%\n"
    }
   }
  },
  {
   "cell_type": "markdown",
   "source": [
    "### ООО «АПС ИНЖИНИРИНГ»\n",
    "https://www.rusprofile.ru/id/10516246"
   ],
   "metadata": {
    "collapsed": false,
    "pycharm": {
     "name": "#%% md\n"
    }
   }
  },
  {
   "cell_type": "code",
   "execution_count": 190,
   "outputs": [],
   "source": [
    "names = [\n",
    "    'ОБЩЕСТВО С ОГРАНИЧЕННОЙ ОТВЕТСТВЕННОСТЬЮ \"АПС ИНЖИНИРИНГ\"',\n",
    "    'ООО «АПС ИНЖИНИРИНГ»'\n",
    "]\n",
    "inn = \"9705068910\"\n",
    "fill_supplier_inn(names, inn)"
   ],
   "metadata": {
    "collapsed": false,
    "pycharm": {
     "name": "#%%\n"
    }
   }
  },
  {
   "cell_type": "markdown",
   "source": [
    "### ООО «Интербиомед»\n",
    "https://www.rusprofile.ru/id/11464105"
   ],
   "metadata": {
    "collapsed": false,
    "pycharm": {
     "name": "#%% md\n"
    }
   }
  },
  {
   "cell_type": "code",
   "execution_count": 191,
   "outputs": [],
   "source": [
    "names = [\n",
    "    'ООО «Интербиомед»',\n",
    "    'ОБЩЕСТВО С ОГРАНИЧЕННОЙ ОТВЕТСТВЕННОСТЬЮ \"ИНТЕРБИОМЕД\"'\n",
    "]\n",
    "inn = \"7713459752\"\n",
    "fill_supplier_inn(names, inn)"
   ],
   "metadata": {
    "collapsed": false,
    "pycharm": {
     "name": "#%%\n"
    }
   }
  },
  {
   "cell_type": "markdown",
   "source": [
    "### ООО «Комплексэнергосервис»\n",
    "https://www.rusprofile.ru/id/818725"
   ],
   "metadata": {
    "collapsed": false,
    "pycharm": {
     "name": "#%% md\n"
    }
   }
  },
  {
   "cell_type": "code",
   "source": [
    "names = [\n",
    "    'ООО «Комплексэнергосервис»',\n",
    "    'ООО \"КЭС\"'\n",
    "]\n",
    "inn = \"7727688054\"\n",
    "fill_supplier_inn(names, inn)"
   ],
   "metadata": {
    "collapsed": false,
    "pycharm": {
     "name": "#%%\n"
    }
   },
   "execution_count": 192,
   "outputs": []
  },
  {
   "cell_type": "markdown",
   "source": [
    "### ООО «Лечебно-Диагностический центр «Ваш Доктор»\n",
    "https://www.rusprofile.ru/id/7000049"
   ],
   "metadata": {
    "collapsed": false,
    "pycharm": {
     "name": "#%% md\n"
    }
   }
  },
  {
   "cell_type": "code",
   "execution_count": 193,
   "outputs": [],
   "source": [
    "names = [\n",
    "    'ООО «Лечебно-Диагностический центр «Ваш Доктор»'\n",
    "]\n",
    "inn = \"6155067425\"\n",
    "fill_supplier_inn(names, inn)"
   ],
   "metadata": {
    "collapsed": false,
    "pycharm": {
     "name": "#%%\n"
    }
   }
  },
  {
   "cell_type": "markdown",
   "source": [
    "### ООО «МЕДКОМИССИЯ 1»\n",
    "https://www.rusprofile.ru/id/11831943"
   ],
   "metadata": {
    "collapsed": false,
    "pycharm": {
     "name": "#%% md\n"
    }
   }
  },
  {
   "cell_type": "code",
   "execution_count": 194,
   "outputs": [],
   "source": [
    "names = [\n",
    "    'ООО «МЕДКОМИССИЯ 1»'\n",
    "]\n",
    "inn = \"7801669420\"\n",
    "fill_supplier_inn(names, inn)"
   ],
   "metadata": {
    "collapsed": false,
    "pycharm": {
     "name": "#%%\n"
    }
   }
  },
  {
   "cell_type": "markdown",
   "source": [
    "### ООО «Планета Сервис»\n",
    "Невозможно определить\n",
    "https://www.rusprofile.ru/id/6857822\n",
    "https://www.rusprofile.ru/id/630762"
   ],
   "metadata": {
    "collapsed": false,
    "pycharm": {
     "name": "#%% md\n"
    }
   }
  },
  {
   "cell_type": "code",
   "execution_count": 195,
   "outputs": [],
   "source": [
    "names = [\n",
    "    'ООО «Планета Сервис» '\n",
    "]\n",
    "missed += names"
   ],
   "metadata": {
    "collapsed": false,
    "pycharm": {
     "name": "#%%\n"
    }
   }
  },
  {
   "cell_type": "markdown",
   "source": [
    "### ООО «Поликлиника консультативно-диагностическая им.Е.М. Нигинского»\n",
    "https://www.rusprofile.ru/id/2112272"
   ],
   "metadata": {
    "collapsed": false,
    "pycharm": {
     "name": "#%% md\n"
    }
   }
  },
  {
   "cell_type": "code",
   "execution_count": 196,
   "outputs": [],
   "source": [
    "names = [\n",
    "    'ООО «Поликлиника консультативно-диагностическая им. Е.М. Нигинского»',\n",
    "    'ООО «Поликлиника консультативно-диагностическая им.Е.М. Нигинского»'\n",
    "]\n",
    "inn = \"7203162031\"\n",
    "fill_supplier_inn(names, inn)"
   ],
   "metadata": {
    "collapsed": false,
    "pycharm": {
     "name": "#%%\n"
    }
   }
  },
  {
   "cell_type": "markdown",
   "source": [
    "### ООО «Фирма Квазар»\n",
    "Невозможно определить\n",
    "https://www.rusprofile.ru/search?query=Фирма+Квазар&type=ul"
   ],
   "metadata": {
    "collapsed": false,
    "pycharm": {
     "name": "#%% md\n"
    }
   }
  },
  {
   "cell_type": "code",
   "execution_count": 197,
   "outputs": [],
   "source": [
    "names = [\n",
    "    'ООО «Фирма Квазар»'\n",
    "]\n",
    "missed += names"
   ],
   "metadata": {
    "collapsed": false,
    "pycharm": {
     "name": "#%%\n"
    }
   }
  },
  {
   "cell_type": "markdown",
   "source": [
    "### ООО ЛДЦ \"Виртус\"\n",
    "https://www.rusprofile.ru/id/1508143"
   ],
   "metadata": {
    "collapsed": false,
    "pycharm": {
     "name": "#%% md\n"
    }
   }
  },
  {
   "cell_type": "code",
   "execution_count": 198,
   "outputs": [],
   "source": [
    "names = [\n",
    "    'ООО ЛДЦ \"Виртус\"'\n",
    "]\n",
    "inn = \"7204028261\"\n",
    "fill_supplier_inn(names, inn)"
   ],
   "metadata": {
    "collapsed": false,
    "pycharm": {
     "name": "#%%\n"
    }
   }
  },
  {
   "cell_type": "markdown",
   "source": [
    "### ООО ПКБ «Горизонт»\n",
    "https://www.rusprofile.ru/id/10439848"
   ],
   "metadata": {
    "collapsed": false,
    "pycharm": {
     "name": "#%% md\n"
    }
   }
  },
  {
   "cell_type": "code",
   "execution_count": 199,
   "outputs": [],
   "source": [
    "names = [\n",
    "    'ООО ПКБ «Горизонт»'\n",
    "]\n",
    "inn = \"1832138919\"\n",
    "fill_supplier_inn(names, inn)"
   ],
   "metadata": {
    "collapsed": false,
    "pycharm": {
     "name": "#%%\n"
    }
   }
  },
  {
   "cell_type": "markdown",
   "source": [
    "### ОСИПОВ В. И.\n",
    "Невозможно определить\n",
    "https://www.rusprofile.ru/ip/319774600049580\n",
    "https://www.rusprofile.ru/ip/309143515600087"
   ],
   "metadata": {
    "collapsed": false,
    "pycharm": {
     "name": "#%% md\n"
    }
   }
  },
  {
   "cell_type": "code",
   "execution_count": 200,
   "outputs": [],
   "source": [
    "names = [\n",
    "    'ОСИПОВ В. И. '\n",
    "]\n",
    "missed += names"
   ],
   "metadata": {
    "collapsed": false,
    "pycharm": {
     "name": "#%%\n"
    }
   }
  },
  {
   "cell_type": "markdown",
   "source": [
    "### Общество с ограниченной ответственностью \"Альянс-Мед\"\n",
    "https://www.rusprofile.ru/id/7880932"
   ],
   "metadata": {
    "collapsed": false,
    "pycharm": {
     "name": "#%% md\n"
    }
   }
  },
  {
   "cell_type": "code",
   "execution_count": 201,
   "outputs": [],
   "source": [
    "names = [\n",
    "    'Общество с ограниченной ответственностью \"Альянс-Мед\"'\n",
    "]\n",
    "inn = \"7703397715\"\n",
    "fill_supplier_inn(names, inn)"
   ],
   "metadata": {
    "collapsed": false,
    "pycharm": {
     "name": "#%%\n"
    }
   }
  },
  {
   "cell_type": "markdown",
   "source": [
    "### Осколков В.А.\n",
    "https://www.rusprofile.ru/ip/314723231100169"
   ],
   "metadata": {
    "collapsed": false,
    "pycharm": {
     "name": "#%% md\n"
    }
   }
  },
  {
   "cell_type": "code",
   "execution_count": 202,
   "outputs": [],
   "source": [
    "names = [\n",
    "    'Осколков В.А.',\n",
    "    'Осколков Василий Александрович '\n",
    "]\n",
    "inn = \"720700367920\"\n",
    "fill_supplier_inn(names, inn)"
   ],
   "metadata": {
    "collapsed": false,
    "pycharm": {
     "name": "#%%\n"
    }
   }
  },
  {
   "cell_type": "markdown",
   "source": [
    "### ФБУЗ \" Центр гигиены и эпидемиологии в Республике Хакасия\"\n",
    "https://www.rusprofile.ru/id/3811378"
   ],
   "metadata": {
    "collapsed": false,
    "pycharm": {
     "name": "#%% md\n"
    }
   }
  },
  {
   "cell_type": "code",
   "execution_count": 203,
   "outputs": [],
   "source": [
    "names = [\n",
    "    'ФБУЗ \" Центр гигиены и эпидемиологии в Республике Хакасия\"',\n",
    "    'ФБУЗ «Центр гигиены и эпидемиологии в Республике Хакасия»'\n",
    "]\n",
    "inn = \"1901066506\"\n",
    "fill_supplier_inn(names, inn)"
   ],
   "metadata": {
    "collapsed": false,
    "pycharm": {
     "name": "#%%\n"
    }
   }
  },
  {
   "cell_type": "markdown",
   "source": [
    "### ФГУП \"Центр дезинфекции Серпуховского района. г.Серпухов, Московская область\"\n",
    "https://www.rusprofile.ru/id/3987446"
   ],
   "metadata": {
    "collapsed": false,
    "pycharm": {
     "name": "#%% md\n"
    }
   }
  },
  {
   "cell_type": "code",
   "execution_count": 204,
   "outputs": [],
   "source": [
    "names = [\n",
    "    'ФГУП \"Центр дезинфекции Серпуховского района. г.Серпухов, Московская область\"'\n",
    "]\n",
    "inn = \"5043015096\"\n",
    "fill_supplier_inn(names, inn)"
   ],
   "metadata": {
    "collapsed": false,
    "pycharm": {
     "name": "#%%\n"
    }
   }
  },
  {
   "cell_type": "markdown",
   "source": [
    "### Частное учреждение здравоохранения \"Клиническая больница \"РЖД-Медицина\" города Иркутск\n",
    "https://www.rusprofile.ru/id/3428867"
   ],
   "metadata": {
    "collapsed": false,
    "pycharm": {
     "name": "#%% md\n"
    }
   }
  },
  {
   "cell_type": "code",
   "execution_count": 205,
   "outputs": [],
   "source": [
    "names = [\n",
    "    'Частное учреждение здравоохранения \"Клиническая больница \"РЖД-Медицина\" города Иркутск',\n",
    "    'ЧУЗ «КБ «РЖД-Медицина» г. Иркутск»'\n",
    "]\n",
    "inn = \"3812079585\"\n",
    "fill_supplier_inn(names, inn)"
   ],
   "metadata": {
    "collapsed": false,
    "pycharm": {
     "name": "#%%\n"
    }
   }
  },
  {
   "cell_type": "markdown",
   "source": [
    "### ооо \"Астер\"\n",
    "Невозможно определить\n",
    "https://www.rusprofile.ru/company/ooo-aster"
   ],
   "metadata": {
    "collapsed": false,
    "pycharm": {
     "name": "#%% md\n"
    }
   }
  },
  {
   "cell_type": "code",
   "execution_count": 206,
   "outputs": [],
   "source": [
    "names = [\n",
    "    'ооо \"Астер\"'\n",
    "]\n",
    "missed += names"
   ],
   "metadata": {
    "collapsed": false,
    "pycharm": {
     "name": "#%%\n"
    }
   }
  },
  {
   "cell_type": "markdown",
   "source": [
    "### филиал АО НПК Катрен\n",
    "https://www.rusprofile.ru/id/7369698"
   ],
   "metadata": {
    "collapsed": false,
    "pycharm": {
     "name": "#%% md\n"
    }
   }
  },
  {
   "cell_type": "code",
   "execution_count": 207,
   "outputs": [],
   "source": [
    "names = [\n",
    "    'АО НПК «Катрен» ',\n",
    "    'филиал АО НПК Катрен',\n",
    "    'АО НПО \"Катрен\"'\n",
    "]\n",
    "inn = \"5408130693\"\n",
    "fill_supplier_inn(names, inn)"
   ],
   "metadata": {
    "collapsed": false,
    "pycharm": {
     "name": "#%%\n"
    }
   }
  },
  {
   "cell_type": "markdown",
   "source": [
    "### ГБУЗ ТО \"ОБ №19\" г.Тюмень\n",
    "https://www.rusprofile.ru/id/903531"
   ],
   "metadata": {
    "collapsed": false,
    "pycharm": {
     "name": "#%% md\n"
    }
   }
  },
  {
   "cell_type": "code",
   "execution_count": 208,
   "outputs": [],
   "source": [
    "names = [\n",
    "    'ГБУЗ ТО \"ОБ №19\" г.Тюмень',\n",
    "    'Государственное бюджетное учреждение здравоохранения Тюменской области «Областная больница №19» (г.Тюмень)'\n",
    "]\n",
    "inn = \"7224012710\"\n",
    "fill_supplier_inn(names, inn)"
   ],
   "metadata": {
    "collapsed": false,
    "pycharm": {
     "name": "#%%\n"
    }
   }
  },
  {
   "cell_type": "markdown",
   "source": [
    "### ООО \"Доктор Арбитайло\"\n",
    "https://www.rusprofile.ru/id/2086341"
   ],
   "metadata": {
    "collapsed": false,
    "pycharm": {
     "name": "#%% md\n"
    }
   }
  },
  {
   "cell_type": "code",
   "execution_count": 209,
   "outputs": [],
   "source": [
    "names = [\n",
    "    'ООО \"Доктор Арбитайло\"',\n",
    "]\n",
    "inn = \"7202201665\"\n",
    "fill_supplier_inn(names, inn)"
   ],
   "metadata": {
    "collapsed": false,
    "pycharm": {
     "name": "#%%\n"
    }
   }
  },
  {
   "cell_type": "markdown",
   "source": [
    "### ООО \"НИОМед\"\n",
    "https://www.rusprofile.ru/id/868003"
   ],
   "metadata": {
    "collapsed": false,
    "pycharm": {
     "name": "#%% md\n"
    }
   }
  },
  {
   "cell_type": "code",
   "execution_count": 210,
   "outputs": [],
   "source": [
    "names = [\n",
    "    'ООО \"НИОМед\"',\n",
    "]\n",
    "inn = \"7204151875\"\n",
    "fill_supplier_inn(names, inn)"
   ],
   "metadata": {
    "collapsed": false,
    "pycharm": {
     "name": "#%%\n"
    }
   }
  },
  {
   "cell_type": "markdown",
   "source": [
    "### ООО \"Профинвест\"\n",
    "https://www.rusprofile.ru/id/1203900002855"
   ],
   "metadata": {
    "collapsed": false,
    "pycharm": {
     "name": "#%% md\n"
    }
   }
  },
  {
   "cell_type": "code",
   "execution_count": 211,
   "outputs": [],
   "source": [
    "names = [\n",
    "    'ООО \"Профинвест\"',\n",
    "]\n",
    "inn = \"3906389399\"\n",
    "fill_supplier_inn(names, inn)"
   ],
   "metadata": {
    "collapsed": false,
    "pycharm": {
     "name": "#%%\n"
    }
   }
  },
  {
   "cell_type": "markdown",
   "source": [
    "# Проверим, что заполнили всех поставщиков"
   ],
   "metadata": {
    "collapsed": false
   }
  },
  {
   "cell_type": "code",
   "execution_count": 212,
   "outputs": [
    {
     "data": {
      "text/plain": "Series([], dtype: int64)"
     },
     "execution_count": 212,
     "metadata": {},
     "output_type": "execute_result"
    }
   ],
   "source": [
    "lot_suppliers = pd.read_sql_query(\n",
    "    f\"\"\"\n",
    "    SELECT l.lot_guid, si.inn as supplier_inn,\n",
    "           si.name as supplier_name, si.ogrn as supplier_ogrn, si.type as supplier_type\n",
    "    FROM (\n",
    "        SELECT cc.lot_guid\n",
    "        FROM covid_contracts cc\n",
    "        GROUP BY cc.lot_guid\n",
    "    ) l\n",
    "    INNER JOIN (\n",
    "        SELECT cc2.lot_guid, MAX(pp2.create_date_time) as create_date_time FROM\n",
    "        covid_contracts cc2\n",
    "        INNER JOIN protocol_lot pl2 ON cc2.lot_guid = pl2.guid\n",
    "        LEFT JOIN protocol_lot_applications pla2 on pl2.guid = pla2.protocol_lot_guid\n",
    "        LEFT JOIN purchase_protocol pp2 on pla2.purchase_protocol_guid = pp2.guid\n",
    "        GROUP BY cc2.lot_guid\n",
    "    ) tmp2 ON l.lot_guid = tmp2.lot_guid\n",
    "    INNER JOIN protocol_lot pl ON l.lot_guid = pl.guid\n",
    "    INNER JOIN protocol_lot_applications pla on pl.guid = pla.protocol_lot_guid\n",
    "    INNER JOIN purchase_protocol pp on pla.purchase_protocol_guid = pp.guid and tmp2.create_date_time = pp.create_date_time\n",
    "    INNER JOIN application a on pla.id = a.protocol_lot_applications_id\n",
    "    LEFT JOIN supplier_info si on a.supplier_guid = si.guid\n",
    "    where si.inn is null\n",
    "    and si.name is not null\n",
    "    ;\n",
    "    \"\"\",\n",
    "    conn\n",
    ")\n",
    "lot_suppliers['is_anonym'] = lot_suppliers['supplier_name'].map(is_anonym_name)\n",
    "lot_suppliers = lot_suppliers[lot_suppliers['is_anonym'] == False]\n",
    "lot_suppliers['is_missed'] = lot_suppliers['supplier_name'].map(is_missed)\n",
    "lot_suppliers = lot_suppliers[lot_suppliers['is_missed'] == False]\n",
    "lot_suppliers.groupby('supplier_name').size()"
   ],
   "metadata": {
    "collapsed": false,
    "pycharm": {
     "name": "#%%\n"
    }
   }
  },
  {
   "cell_type": "code",
   "execution_count": 212,
   "outputs": [],
   "source": [],
   "metadata": {
    "collapsed": false,
    "pycharm": {
     "name": "#%%\n"
    }
   }
  }
 ],
 "metadata": {
  "kernelspec": {
   "display_name": "Python 3",
   "language": "python",
   "name": "python3"
  },
  "language_info": {
   "codemirror_mode": {
    "name": "ipython",
    "version": 2
   },
   "file_extension": ".py",
   "mimetype": "text/x-python",
   "name": "python",
   "nbconvert_exporter": "python",
   "pygments_lexer": "ipython2",
   "version": "2.7.6"
  }
 },
 "nbformat": 4,
 "nbformat_minor": 0
}