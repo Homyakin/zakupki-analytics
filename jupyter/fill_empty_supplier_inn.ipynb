{
 "cells": [
  {
   "cell_type": "code",
   "execution_count": 1,
   "metadata": {
    "collapsed": true
   },
   "outputs": [],
   "source": [
    "import sqlite3\n",
    "import pandas as pd\n",
    "from typing import List"
   ]
  },
  {
   "cell_type": "markdown",
   "source": [
    "# Подключаемся к базе"
   ],
   "metadata": {
    "collapsed": false,
    "pycharm": {
     "name": "#%% md\n"
    }
   }
  },
  {
   "cell_type": "code",
   "execution_count": 2,
   "outputs": [],
   "source": [
    "conn = sqlite3.connect(\"data.db\")"
   ],
   "metadata": {
    "collapsed": false,
    "pycharm": {
     "name": "#%%\n"
    }
   }
  },
  {
   "cell_type": "markdown",
   "source": [
    "# Достаём поставщиков, у которых нет ИНН, но есть имя или ОГРН, по ковидным закупкам\n",
    "(Нужна таблица covid_contracts из файла create_dataset.ipynb)"
   ],
   "metadata": {
    "collapsed": false,
    "pycharm": {
     "name": "#%% md\n"
    }
   }
  },
  {
   "cell_type": "code",
   "execution_count": 3,
   "outputs": [
    {
     "data": {
      "text/plain": "                                 lot_guid  \\\n0    005056bd-6164-1eeb-9fb2-80f01f612591   \n1    00df267a-6a5c-4658-920e-82d3b9befc00   \n2    01cf8d1a-0b52-4969-fb5b-42096c59758a   \n3    0437d64f-ebdd-4655-9b47-4a8e72d87272   \n4    04ff1587-df54-4631-8f0a-a0ec68ae217e   \n..                                    ...   \n146  facf8fed-230d-440b-aedf-f8f3b5314719   \n147  fe3ba8b8-8034-47a4-919d-deea81b45945   \n148  fee08492-034f-d9ec-eeaf-97b36d4ba1ce   \n149  ff968e2f-ad32-9b54-1493-e52fff049a34   \n150  ffe6f942-bfa1-4f78-bb1c-a8b0cf755881   \n\n                            supplier_guid supplier_inn        supplier_name  \\\n0    2965f69d-c02b-42b2-91e5-478fd6adb776         None    Не предусмотрено.   \n1    ed2b6c36-a07c-45b4-b7e5-ab8da9d4400f         None                    1   \n2    54f1c51e-cfa8-4333-8441-492f3935c4d0         None           Участник 2   \n3    249271e5-72f2-444e-b285-1b9f48cb8af6         None                    1   \n4    9006485c-17a0-4b1b-9722-d95c89fccbc7         None             Заявка 1   \n..                                    ...          ...                  ...   \n146  0ac08fb1-9a48-4bf5-a575-745bfca9b314         None                    1   \n147  a4895213-6489-42cd-9138-2affff3ebd80         None             Заявка 1   \n148  588f59cb-485c-448b-8400-57dac4e8de0d         None           Участник 1   \n149  ff1b4bc7-3b7c-4c5b-820d-21eb9208996c         None           Участник 2   \n150  20703e79-2165-47b9-aacc-3aba0b70bba3         None  ООО «СТАТУС-РЕГИОН»   \n\n    supplier_ogrn     supplier_type  \n0            None  Юридическое лицо  \n1            None  Юридическое лицо  \n2            None  Юридическое лицо  \n3            None  Юридическое лицо  \n4            None  Юридическое лицо  \n..            ...               ...  \n146          None  Юридическое лицо  \n147          None  Юридическое лицо  \n148          None  Юридическое лицо  \n149          None   Физическое лицо  \n150          None  Юридическое лицо  \n\n[151 rows x 6 columns]",
      "text/html": "<div>\n<style scoped>\n    .dataframe tbody tr th:only-of-type {\n        vertical-align: middle;\n    }\n\n    .dataframe tbody tr th {\n        vertical-align: top;\n    }\n\n    .dataframe thead th {\n        text-align: right;\n    }\n</style>\n<table border=\"1\" class=\"dataframe\">\n  <thead>\n    <tr style=\"text-align: right;\">\n      <th></th>\n      <th>lot_guid</th>\n      <th>supplier_guid</th>\n      <th>supplier_inn</th>\n      <th>supplier_name</th>\n      <th>supplier_ogrn</th>\n      <th>supplier_type</th>\n    </tr>\n  </thead>\n  <tbody>\n    <tr>\n      <th>0</th>\n      <td>005056bd-6164-1eeb-9fb2-80f01f612591</td>\n      <td>2965f69d-c02b-42b2-91e5-478fd6adb776</td>\n      <td>None</td>\n      <td>Не предусмотрено.</td>\n      <td>None</td>\n      <td>Юридическое лицо</td>\n    </tr>\n    <tr>\n      <th>1</th>\n      <td>00df267a-6a5c-4658-920e-82d3b9befc00</td>\n      <td>ed2b6c36-a07c-45b4-b7e5-ab8da9d4400f</td>\n      <td>None</td>\n      <td>1</td>\n      <td>None</td>\n      <td>Юридическое лицо</td>\n    </tr>\n    <tr>\n      <th>2</th>\n      <td>01cf8d1a-0b52-4969-fb5b-42096c59758a</td>\n      <td>54f1c51e-cfa8-4333-8441-492f3935c4d0</td>\n      <td>None</td>\n      <td>Участник 2</td>\n      <td>None</td>\n      <td>Юридическое лицо</td>\n    </tr>\n    <tr>\n      <th>3</th>\n      <td>0437d64f-ebdd-4655-9b47-4a8e72d87272</td>\n      <td>249271e5-72f2-444e-b285-1b9f48cb8af6</td>\n      <td>None</td>\n      <td>1</td>\n      <td>None</td>\n      <td>Юридическое лицо</td>\n    </tr>\n    <tr>\n      <th>4</th>\n      <td>04ff1587-df54-4631-8f0a-a0ec68ae217e</td>\n      <td>9006485c-17a0-4b1b-9722-d95c89fccbc7</td>\n      <td>None</td>\n      <td>Заявка 1</td>\n      <td>None</td>\n      <td>Юридическое лицо</td>\n    </tr>\n    <tr>\n      <th>...</th>\n      <td>...</td>\n      <td>...</td>\n      <td>...</td>\n      <td>...</td>\n      <td>...</td>\n      <td>...</td>\n    </tr>\n    <tr>\n      <th>146</th>\n      <td>facf8fed-230d-440b-aedf-f8f3b5314719</td>\n      <td>0ac08fb1-9a48-4bf5-a575-745bfca9b314</td>\n      <td>None</td>\n      <td>1</td>\n      <td>None</td>\n      <td>Юридическое лицо</td>\n    </tr>\n    <tr>\n      <th>147</th>\n      <td>fe3ba8b8-8034-47a4-919d-deea81b45945</td>\n      <td>a4895213-6489-42cd-9138-2affff3ebd80</td>\n      <td>None</td>\n      <td>Заявка 1</td>\n      <td>None</td>\n      <td>Юридическое лицо</td>\n    </tr>\n    <tr>\n      <th>148</th>\n      <td>fee08492-034f-d9ec-eeaf-97b36d4ba1ce</td>\n      <td>588f59cb-485c-448b-8400-57dac4e8de0d</td>\n      <td>None</td>\n      <td>Участник 1</td>\n      <td>None</td>\n      <td>Юридическое лицо</td>\n    </tr>\n    <tr>\n      <th>149</th>\n      <td>ff968e2f-ad32-9b54-1493-e52fff049a34</td>\n      <td>ff1b4bc7-3b7c-4c5b-820d-21eb9208996c</td>\n      <td>None</td>\n      <td>Участник 2</td>\n      <td>None</td>\n      <td>Физическое лицо</td>\n    </tr>\n    <tr>\n      <th>150</th>\n      <td>ffe6f942-bfa1-4f78-bb1c-a8b0cf755881</td>\n      <td>20703e79-2165-47b9-aacc-3aba0b70bba3</td>\n      <td>None</td>\n      <td>ООО «СТАТУС-РЕГИОН»</td>\n      <td>None</td>\n      <td>Юридическое лицо</td>\n    </tr>\n  </tbody>\n</table>\n<p>151 rows × 6 columns</p>\n</div>"
     },
     "execution_count": 3,
     "metadata": {},
     "output_type": "execute_result"
    }
   ],
   "source": [
    "lot_suppliers = pd.read_sql_query(\n",
    "    f\"\"\"\n",
    "    SELECT lot_guid, supplier_guid, si2.inn as supplier_inn,\n",
    "        si2.name as supplier_name, si2.ogrn as supplier_ogrn, si2.type as supplier_type\n",
    "    FROM (\n",
    "        SELECT lot_guid, MAX(supplier_guid) as supplier_guid\n",
    "        FROM (\n",
    "            SELECT c.lot_guid\n",
    "            FROM covid_contracts c\n",
    "            GROUP BY c.lot_guid\n",
    "        ) tmp1\n",
    "        INNER JOIN protocol_lot pl ON tmp1.lot_guid = pl.guid\n",
    "        LEFT JOIN protocol_lot_applications pla on pl.guid = pla.protocol_lot_guid\n",
    "        LEFT JOIN application a on pla.id = a.protocol_lot_applications_id\n",
    "        LEFT JOIN supplier_info si on a.supplier_guid = si.guid\n",
    "        WHERE (contract_signed = 1 or\n",
    "         (a.winner_indication = 'Победитель'and contract_signed is null))\n",
    "         and (supplier_guid is not null)\n",
    "         and (si.inn is null and (si.name is not null or si.ogrn is not null))\n",
    "        GROUP BY lot_guid\n",
    "    ) sup\n",
    "    LEFT JOIN supplier_info si2 ON si2.guid = sup.supplier_guid;\n",
    "    \"\"\",\n",
    "    conn\n",
    ")\n",
    "\n",
    "lot_suppliers"
   ],
   "metadata": {
    "collapsed": false,
    "pycharm": {
     "name": "#%%\n"
    }
   }
  },
  {
   "cell_type": "markdown",
   "source": [
    "# Удалим анонимные заявки"
   ],
   "metadata": {
    "collapsed": false,
    "pycharm": {
     "name": "#%% md\n"
    }
   }
  },
  {
   "cell_type": "code",
   "execution_count": 4,
   "outputs": [
    {
     "data": {
      "text/plain": "                                 lot_guid  \\\n6    0550f1d8-1e60-40e1-af2d-e3139a6e4045   \n10   11063b7d-5d33-4036-9622-e04324a62981   \n15   176d4b78-a651-4520-970a-598a8176bb40   \n20   1dc5fd4e-f708-4c33-aaf1-1b78cce759ca   \n22   20a1c9f8-5eab-4dd2-b5c9-739448c4cb1c   \n26   29f7dfcd-7c53-4e5b-9284-584503b68b48   \n27   2fbd95ac-289b-4b7c-8bda-1bd282a0aec6   \n35   401398cf-5147-4c30-9abd-d0dffcf6b365   \n40   448fd8a6-16f3-470f-afb0-047bb915b442   \n41   46c1fc70-9bd2-46cc-8cb3-4868ed6627ad   \n43   4776c041-a49b-4700-8b5e-c1cf8b6b2816   \n47   526325f9-38a6-470f-a625-7027f68d5740   \n51   562e887b-a485-4027-b2fe-4abe3f3ad0f6   \n59   60270afe-bf66-38f5-e100-00000a388ca6   \n63   65282254-0446-46c5-93f2-96840158cc9c   \n69   773362e2-c837-4e46-88a0-27fbce4f7a76   \n73   7f9cb823-52be-4a6e-8d44-557f5f7196db   \n74   821996c8-df9d-4c64-ba7c-10825c1e66ab   \n75   8413ef93-ea4b-441f-a6e4-9fcb02c86f6e   \n77   88213c07-0e93-49be-8244-e92dae475b66   \n78   8b9c475c-ff6f-4662-bcf1-f58d2fdb364b   \n79   8be5707f-f7e1-4783-8a5e-ef0760c60059   \n81   8c1d8cb6-e436-41d2-85a9-eda9ed5c88c3   \n83   8d53edc4-6ef9-43d4-849b-03db64a99746   \n85   941ad059-6cd3-4f4e-b2ef-416301defca6   \n88   9911b53f-1863-4b0f-bffc-bcc1c12dadd5   \n90   99dc0682-4d39-478a-bbfd-65701ea488ba   \n93   9a48ac2c-78fc-4ca4-af55-d79b86a21621   \n94   9ab1e3a7-fe9f-499d-b390-bba60df4b606   \n95   9d3871fe-29ae-4f70-9217-effeef4b3714   \n97   a50d6523-4e99-49b5-a881-dd598307aff4   \n107  aed0decb-7eb1-45eb-97ab-aeb174ffcfce   \n110  b6833b9e-0bc5-4928-be52-559e428479a7   \n116  c2d980bb-f90a-47c8-a7b0-617a0fefeaaf   \n117  c3a2d102-09e2-4ada-8773-29fe6c12ad45   \n120  c91fed59-5b27-4e0a-b7e5-e28fd7e76b69   \n125  d76cb56c-36d1-40df-88ad-87137dfdd89e   \n126  db501b50-7d78-47d7-8058-fd5ad8d0b812   \n131  e17f3af8-f988-4884-b8a3-683a901674f0   \n134  e3a48655-6d97-4e87-9c0f-e5598a5d3b27   \n137  e893191b-624c-4d4f-9631-cf82ee2aa9b0   \n143  f9be5f30-289f-4751-98bd-507450b7421d   \n150  ffe6f942-bfa1-4f78-bb1c-a8b0cf755881   \n\n                            supplier_guid supplier_inn  \\\n6    6a0f1697-09ec-4503-8da2-f484d0efd465         None   \n10   87577144-50bb-457f-a7a6-638b3a17b9f5         None   \n15   c70a6692-36c2-4cbb-9f1c-e150d1f8a6ea         None   \n20   6b25d3db-7c95-416a-abd4-6509db9a847f         None   \n22   2ceb29cc-859e-43a5-8fbc-10f75c1d8775         None   \n26   b7871da7-a02e-4afd-9404-debf7fa45261         None   \n27   7805e21b-84d5-4bb7-9dbc-1c73f4cba1b0         None   \n35   020a4792-3c76-4229-abd4-583285e19217         None   \n40   711ad040-2ae2-4efe-9ccb-41bcdeb69d6c         None   \n41   a638bded-a120-4366-8ed3-fec45087afa7         None   \n43   ecd59761-8122-4261-bc20-ba7bc30f0314         None   \n47   d060140c-4674-4155-bdfe-a017c73988be         None   \n51   d0ac5d83-5396-42ef-a004-14c9f3b23772         None   \n59   5a40f77d-7d28-4dd3-bc52-6550e3da9de4         None   \n63   3b95aaa9-dc44-4a1f-afe6-77489e215f91         None   \n69   6ea8ea17-8c78-4df1-8f40-fceeb965885d         None   \n73   383dd767-a3cc-4d8c-832a-db8c961fade6         None   \n74   cf5fc9db-14b1-4f83-9d45-d490393679fd         None   \n75   91f4f126-f06a-4269-ac3a-86c66787ad60         None   \n77   f832892e-ac74-4c9a-9654-d9d761b06340         None   \n78   cd2bab7a-50f2-4580-9258-0872b759f62c         None   \n79   39608702-efcb-4159-b151-68d4e392aa43         None   \n81   8a862af7-fd1a-4ab3-babf-6157ed42a90f         None   \n83   cfd5d2b1-ff5b-4362-9099-1c9f4c3d2e34         None   \n85   cba21939-5bf9-48fd-a505-b3c49c026840         None   \n88   f55d7d2c-8005-4618-bc5e-168196a1f2ea         None   \n90   94976583-b19f-4544-b4cb-20ef64fb15cc         None   \n93   64b9d53c-d59e-4dc3-8723-fc0b418dc870         None   \n94   15171490-5362-4a0b-853f-afc74f437fdf         None   \n95   020439e4-c4d9-4ff4-be72-9831e8d9bd3b         None   \n97   d30bfc46-f5e0-4fd1-b8df-962d008b848b         None   \n107  9872c5a9-8797-433e-9290-26797b81a3c4         None   \n110  b9e7036b-8d4b-4ae8-84e8-b0329c819d27         None   \n116  eaf200e7-d71f-42b9-a6d7-0aaedbd01ee8         None   \n117  97544db8-41d3-42e4-9858-1449a9ee680d         None   \n120  a70bca14-c50b-43ea-86ab-5a28d7a08101         None   \n125  0e6fbbc4-7e25-4482-9c0e-42214ad201f4         None   \n126  c5e93a56-e759-4b82-b4a7-463fc1f8f3ae         None   \n131  7ddc2ffa-a24d-4c06-8e4d-47981e98f88d         None   \n134  a699fab3-2a16-4750-a4a1-a99a775f6a59         None   \n137  5e239d54-bccd-4ed8-a3be-a819353f5be8         None   \n143  455eccdd-85a7-4eae-bf43-a73bd858751e         None   \n150  20703e79-2165-47b9-aacc-3aba0b70bba3         None   \n\n                                         supplier_name supplier_ogrn  \\\n6                                       ООО «ЭкоЦентр»          None   \n10   ФГУП «Южно-Уральский институт биофизики Федера...          None   \n15                                        ООО Апоцентр          None   \n20                                    ООО \"СибПромГаз\"          None   \n22                                        ООО \"Визирь\"          None   \n26                                       ООО \"МедФарм\"          None   \n27                                    ООО \"КомСпецТех\"          None   \n35                                    ООО \"КомСпецТех\"          None   \n40                                 ООО «СТАТУС-РЕГИОН»          None   \n41                               ООО \"Прогресс эко юг\"          None   \n43                                     ООО \"Универсал\"          None   \n47                                        ООО \"Визирь\"          None   \n51                                    ООО \"ПрофЭнерго\"          None   \n59                                  ООО \"БЕЛДЕЗСЕРВИС\"          None   \n63     ОБЩЕСТВО ОГРАНИЧЕННОЙ ОТВЕТСТВЕННОСТЬЮ \"Визирь\"          None   \n69                                        ООО \"Визирь\"          None   \n73                                    ООО \"КомСпецТех\"          None   \n74                                      ООО «МЕДИКОМ»           None   \n75                                       ООО Юго-Запад          None   \n77   ФГУП «Южно-Уральский институт биофизики Федера...          None   \n78                                        ООО Апоцентр          None   \n79                                 ЧУЗ КБ РЖД Медицина          None   \n81                                    ООО \"ПрофЭнерго\"          None   \n83                                           ИП Грицюк          None   \n85                                        ООО\"МедиАрт\"          None   \n88                                        ООО \"Визирь\"          None   \n90                                        ООО \"Визирь\"          None   \n93   Обществом с ограниченной ответственностью «Эко...          None   \n94                                        ООО \"Визирь\"          None   \n95                                       ООО \"МедиАрт\"          None   \n97                                         ООО \"ВЕРБА\"          None   \n107                                   ООО «МедПартнер»          None   \n110                 ИП Резников Дмитрий Александрович           None   \n116                                          ООО \"ВЭС\"          None   \n117  ОБЩЕСТВО ОГРАНИЧЕННОЙ ОТВЕТСТВЕННОСТЬЮ \"Аква-с...          None   \n120  Индивидуальный предприниматель Ситников Максим...          None   \n125                                       ООО \"Визирь\"          None   \n126                                ООО \"Энергосервиис\"          None   \n131                                       ООО \"Диомид\"          None   \n134                                       ООО \"Визирь\"          None   \n137                                       ООО \"Визирь\"          None   \n143  санаторий-профилакторий «Родник» (ООО «СтройАч...          None   \n150                                ООО «СТАТУС-РЕГИОН»          None   \n\n        supplier_type  is_anonym  \n6    Юридическое лицо      False  \n10   Юридическое лицо      False  \n15   Юридическое лицо      False  \n20   Юридическое лицо      False  \n22   Юридическое лицо      False  \n26   Юридическое лицо      False  \n27   Юридическое лицо      False  \n35   Юридическое лицо      False  \n40   Юридическое лицо      False  \n41   Юридическое лицо      False  \n43   Юридическое лицо      False  \n47   Юридическое лицо      False  \n51   Юридическое лицо      False  \n59   Юридическое лицо      False  \n63   Юридическое лицо      False  \n69   Юридическое лицо      False  \n73   Юридическое лицо      False  \n74   Юридическое лицо      False  \n75   Юридическое лицо      False  \n77   Юридическое лицо      False  \n78   Юридическое лицо      False  \n79   Юридическое лицо      False  \n81   Юридическое лицо      False  \n83    Физическое лицо      False  \n85   Юридическое лицо      False  \n88   Юридическое лицо      False  \n90   Юридическое лицо      False  \n93   Юридическое лицо      False  \n94   Юридическое лицо      False  \n95   Юридическое лицо      False  \n97   Юридическое лицо      False  \n107  Юридическое лицо      False  \n110   Физическое лицо      False  \n116  Юридическое лицо      False  \n117  Юридическое лицо      False  \n120   Физическое лицо      False  \n125  Юридическое лицо      False  \n126  Юридическое лицо      False  \n131  Юридическое лицо      False  \n134  Юридическое лицо      False  \n137  Юридическое лицо      False  \n143  Юридическое лицо      False  \n150  Юридическое лицо      False  ",
      "text/html": "<div>\n<style scoped>\n    .dataframe tbody tr th:only-of-type {\n        vertical-align: middle;\n    }\n\n    .dataframe tbody tr th {\n        vertical-align: top;\n    }\n\n    .dataframe thead th {\n        text-align: right;\n    }\n</style>\n<table border=\"1\" class=\"dataframe\">\n  <thead>\n    <tr style=\"text-align: right;\">\n      <th></th>\n      <th>lot_guid</th>\n      <th>supplier_guid</th>\n      <th>supplier_inn</th>\n      <th>supplier_name</th>\n      <th>supplier_ogrn</th>\n      <th>supplier_type</th>\n      <th>is_anonym</th>\n    </tr>\n  </thead>\n  <tbody>\n    <tr>\n      <th>6</th>\n      <td>0550f1d8-1e60-40e1-af2d-e3139a6e4045</td>\n      <td>6a0f1697-09ec-4503-8da2-f484d0efd465</td>\n      <td>None</td>\n      <td>ООО «ЭкоЦентр»</td>\n      <td>None</td>\n      <td>Юридическое лицо</td>\n      <td>False</td>\n    </tr>\n    <tr>\n      <th>10</th>\n      <td>11063b7d-5d33-4036-9622-e04324a62981</td>\n      <td>87577144-50bb-457f-a7a6-638b3a17b9f5</td>\n      <td>None</td>\n      <td>ФГУП «Южно-Уральский институт биофизики Федера...</td>\n      <td>None</td>\n      <td>Юридическое лицо</td>\n      <td>False</td>\n    </tr>\n    <tr>\n      <th>15</th>\n      <td>176d4b78-a651-4520-970a-598a8176bb40</td>\n      <td>c70a6692-36c2-4cbb-9f1c-e150d1f8a6ea</td>\n      <td>None</td>\n      <td>ООО Апоцентр</td>\n      <td>None</td>\n      <td>Юридическое лицо</td>\n      <td>False</td>\n    </tr>\n    <tr>\n      <th>20</th>\n      <td>1dc5fd4e-f708-4c33-aaf1-1b78cce759ca</td>\n      <td>6b25d3db-7c95-416a-abd4-6509db9a847f</td>\n      <td>None</td>\n      <td>ООО \"СибПромГаз\"</td>\n      <td>None</td>\n      <td>Юридическое лицо</td>\n      <td>False</td>\n    </tr>\n    <tr>\n      <th>22</th>\n      <td>20a1c9f8-5eab-4dd2-b5c9-739448c4cb1c</td>\n      <td>2ceb29cc-859e-43a5-8fbc-10f75c1d8775</td>\n      <td>None</td>\n      <td>ООО \"Визирь\"</td>\n      <td>None</td>\n      <td>Юридическое лицо</td>\n      <td>False</td>\n    </tr>\n    <tr>\n      <th>26</th>\n      <td>29f7dfcd-7c53-4e5b-9284-584503b68b48</td>\n      <td>b7871da7-a02e-4afd-9404-debf7fa45261</td>\n      <td>None</td>\n      <td>ООО \"МедФарм\"</td>\n      <td>None</td>\n      <td>Юридическое лицо</td>\n      <td>False</td>\n    </tr>\n    <tr>\n      <th>27</th>\n      <td>2fbd95ac-289b-4b7c-8bda-1bd282a0aec6</td>\n      <td>7805e21b-84d5-4bb7-9dbc-1c73f4cba1b0</td>\n      <td>None</td>\n      <td>ООО \"КомСпецТех\"</td>\n      <td>None</td>\n      <td>Юридическое лицо</td>\n      <td>False</td>\n    </tr>\n    <tr>\n      <th>35</th>\n      <td>401398cf-5147-4c30-9abd-d0dffcf6b365</td>\n      <td>020a4792-3c76-4229-abd4-583285e19217</td>\n      <td>None</td>\n      <td>ООО \"КомСпецТех\"</td>\n      <td>None</td>\n      <td>Юридическое лицо</td>\n      <td>False</td>\n    </tr>\n    <tr>\n      <th>40</th>\n      <td>448fd8a6-16f3-470f-afb0-047bb915b442</td>\n      <td>711ad040-2ae2-4efe-9ccb-41bcdeb69d6c</td>\n      <td>None</td>\n      <td>ООО «СТАТУС-РЕГИОН»</td>\n      <td>None</td>\n      <td>Юридическое лицо</td>\n      <td>False</td>\n    </tr>\n    <tr>\n      <th>41</th>\n      <td>46c1fc70-9bd2-46cc-8cb3-4868ed6627ad</td>\n      <td>a638bded-a120-4366-8ed3-fec45087afa7</td>\n      <td>None</td>\n      <td>ООО \"Прогресс эко юг\"</td>\n      <td>None</td>\n      <td>Юридическое лицо</td>\n      <td>False</td>\n    </tr>\n    <tr>\n      <th>43</th>\n      <td>4776c041-a49b-4700-8b5e-c1cf8b6b2816</td>\n      <td>ecd59761-8122-4261-bc20-ba7bc30f0314</td>\n      <td>None</td>\n      <td>ООО \"Универсал\"</td>\n      <td>None</td>\n      <td>Юридическое лицо</td>\n      <td>False</td>\n    </tr>\n    <tr>\n      <th>47</th>\n      <td>526325f9-38a6-470f-a625-7027f68d5740</td>\n      <td>d060140c-4674-4155-bdfe-a017c73988be</td>\n      <td>None</td>\n      <td>ООО \"Визирь\"</td>\n      <td>None</td>\n      <td>Юридическое лицо</td>\n      <td>False</td>\n    </tr>\n    <tr>\n      <th>51</th>\n      <td>562e887b-a485-4027-b2fe-4abe3f3ad0f6</td>\n      <td>d0ac5d83-5396-42ef-a004-14c9f3b23772</td>\n      <td>None</td>\n      <td>ООО \"ПрофЭнерго\"</td>\n      <td>None</td>\n      <td>Юридическое лицо</td>\n      <td>False</td>\n    </tr>\n    <tr>\n      <th>59</th>\n      <td>60270afe-bf66-38f5-e100-00000a388ca6</td>\n      <td>5a40f77d-7d28-4dd3-bc52-6550e3da9de4</td>\n      <td>None</td>\n      <td>ООО \"БЕЛДЕЗСЕРВИС\"</td>\n      <td>None</td>\n      <td>Юридическое лицо</td>\n      <td>False</td>\n    </tr>\n    <tr>\n      <th>63</th>\n      <td>65282254-0446-46c5-93f2-96840158cc9c</td>\n      <td>3b95aaa9-dc44-4a1f-afe6-77489e215f91</td>\n      <td>None</td>\n      <td>ОБЩЕСТВО ОГРАНИЧЕННОЙ ОТВЕТСТВЕННОСТЬЮ \"Визирь\"</td>\n      <td>None</td>\n      <td>Юридическое лицо</td>\n      <td>False</td>\n    </tr>\n    <tr>\n      <th>69</th>\n      <td>773362e2-c837-4e46-88a0-27fbce4f7a76</td>\n      <td>6ea8ea17-8c78-4df1-8f40-fceeb965885d</td>\n      <td>None</td>\n      <td>ООО \"Визирь\"</td>\n      <td>None</td>\n      <td>Юридическое лицо</td>\n      <td>False</td>\n    </tr>\n    <tr>\n      <th>73</th>\n      <td>7f9cb823-52be-4a6e-8d44-557f5f7196db</td>\n      <td>383dd767-a3cc-4d8c-832a-db8c961fade6</td>\n      <td>None</td>\n      <td>ООО \"КомСпецТех\"</td>\n      <td>None</td>\n      <td>Юридическое лицо</td>\n      <td>False</td>\n    </tr>\n    <tr>\n      <th>74</th>\n      <td>821996c8-df9d-4c64-ba7c-10825c1e66ab</td>\n      <td>cf5fc9db-14b1-4f83-9d45-d490393679fd</td>\n      <td>None</td>\n      <td>ООО «МЕДИКОМ»</td>\n      <td>None</td>\n      <td>Юридическое лицо</td>\n      <td>False</td>\n    </tr>\n    <tr>\n      <th>75</th>\n      <td>8413ef93-ea4b-441f-a6e4-9fcb02c86f6e</td>\n      <td>91f4f126-f06a-4269-ac3a-86c66787ad60</td>\n      <td>None</td>\n      <td>ООО Юго-Запад</td>\n      <td>None</td>\n      <td>Юридическое лицо</td>\n      <td>False</td>\n    </tr>\n    <tr>\n      <th>77</th>\n      <td>88213c07-0e93-49be-8244-e92dae475b66</td>\n      <td>f832892e-ac74-4c9a-9654-d9d761b06340</td>\n      <td>None</td>\n      <td>ФГУП «Южно-Уральский институт биофизики Федера...</td>\n      <td>None</td>\n      <td>Юридическое лицо</td>\n      <td>False</td>\n    </tr>\n    <tr>\n      <th>78</th>\n      <td>8b9c475c-ff6f-4662-bcf1-f58d2fdb364b</td>\n      <td>cd2bab7a-50f2-4580-9258-0872b759f62c</td>\n      <td>None</td>\n      <td>ООО Апоцентр</td>\n      <td>None</td>\n      <td>Юридическое лицо</td>\n      <td>False</td>\n    </tr>\n    <tr>\n      <th>79</th>\n      <td>8be5707f-f7e1-4783-8a5e-ef0760c60059</td>\n      <td>39608702-efcb-4159-b151-68d4e392aa43</td>\n      <td>None</td>\n      <td>ЧУЗ КБ РЖД Медицина</td>\n      <td>None</td>\n      <td>Юридическое лицо</td>\n      <td>False</td>\n    </tr>\n    <tr>\n      <th>81</th>\n      <td>8c1d8cb6-e436-41d2-85a9-eda9ed5c88c3</td>\n      <td>8a862af7-fd1a-4ab3-babf-6157ed42a90f</td>\n      <td>None</td>\n      <td>ООО \"ПрофЭнерго\"</td>\n      <td>None</td>\n      <td>Юридическое лицо</td>\n      <td>False</td>\n    </tr>\n    <tr>\n      <th>83</th>\n      <td>8d53edc4-6ef9-43d4-849b-03db64a99746</td>\n      <td>cfd5d2b1-ff5b-4362-9099-1c9f4c3d2e34</td>\n      <td>None</td>\n      <td>ИП Грицюк</td>\n      <td>None</td>\n      <td>Физическое лицо</td>\n      <td>False</td>\n    </tr>\n    <tr>\n      <th>85</th>\n      <td>941ad059-6cd3-4f4e-b2ef-416301defca6</td>\n      <td>cba21939-5bf9-48fd-a505-b3c49c026840</td>\n      <td>None</td>\n      <td>ООО\"МедиАрт\"</td>\n      <td>None</td>\n      <td>Юридическое лицо</td>\n      <td>False</td>\n    </tr>\n    <tr>\n      <th>88</th>\n      <td>9911b53f-1863-4b0f-bffc-bcc1c12dadd5</td>\n      <td>f55d7d2c-8005-4618-bc5e-168196a1f2ea</td>\n      <td>None</td>\n      <td>ООО \"Визирь\"</td>\n      <td>None</td>\n      <td>Юридическое лицо</td>\n      <td>False</td>\n    </tr>\n    <tr>\n      <th>90</th>\n      <td>99dc0682-4d39-478a-bbfd-65701ea488ba</td>\n      <td>94976583-b19f-4544-b4cb-20ef64fb15cc</td>\n      <td>None</td>\n      <td>ООО \"Визирь\"</td>\n      <td>None</td>\n      <td>Юридическое лицо</td>\n      <td>False</td>\n    </tr>\n    <tr>\n      <th>93</th>\n      <td>9a48ac2c-78fc-4ca4-af55-d79b86a21621</td>\n      <td>64b9d53c-d59e-4dc3-8723-fc0b418dc870</td>\n      <td>None</td>\n      <td>Обществом с ограниченной ответственностью «Эко...</td>\n      <td>None</td>\n      <td>Юридическое лицо</td>\n      <td>False</td>\n    </tr>\n    <tr>\n      <th>94</th>\n      <td>9ab1e3a7-fe9f-499d-b390-bba60df4b606</td>\n      <td>15171490-5362-4a0b-853f-afc74f437fdf</td>\n      <td>None</td>\n      <td>ООО \"Визирь\"</td>\n      <td>None</td>\n      <td>Юридическое лицо</td>\n      <td>False</td>\n    </tr>\n    <tr>\n      <th>95</th>\n      <td>9d3871fe-29ae-4f70-9217-effeef4b3714</td>\n      <td>020439e4-c4d9-4ff4-be72-9831e8d9bd3b</td>\n      <td>None</td>\n      <td>ООО \"МедиАрт\"</td>\n      <td>None</td>\n      <td>Юридическое лицо</td>\n      <td>False</td>\n    </tr>\n    <tr>\n      <th>97</th>\n      <td>a50d6523-4e99-49b5-a881-dd598307aff4</td>\n      <td>d30bfc46-f5e0-4fd1-b8df-962d008b848b</td>\n      <td>None</td>\n      <td>ООО \"ВЕРБА\"</td>\n      <td>None</td>\n      <td>Юридическое лицо</td>\n      <td>False</td>\n    </tr>\n    <tr>\n      <th>107</th>\n      <td>aed0decb-7eb1-45eb-97ab-aeb174ffcfce</td>\n      <td>9872c5a9-8797-433e-9290-26797b81a3c4</td>\n      <td>None</td>\n      <td>ООО «МедПартнер»</td>\n      <td>None</td>\n      <td>Юридическое лицо</td>\n      <td>False</td>\n    </tr>\n    <tr>\n      <th>110</th>\n      <td>b6833b9e-0bc5-4928-be52-559e428479a7</td>\n      <td>b9e7036b-8d4b-4ae8-84e8-b0329c819d27</td>\n      <td>None</td>\n      <td>ИП Резников Дмитрий Александрович</td>\n      <td>None</td>\n      <td>Физическое лицо</td>\n      <td>False</td>\n    </tr>\n    <tr>\n      <th>116</th>\n      <td>c2d980bb-f90a-47c8-a7b0-617a0fefeaaf</td>\n      <td>eaf200e7-d71f-42b9-a6d7-0aaedbd01ee8</td>\n      <td>None</td>\n      <td>ООО \"ВЭС\"</td>\n      <td>None</td>\n      <td>Юридическое лицо</td>\n      <td>False</td>\n    </tr>\n    <tr>\n      <th>117</th>\n      <td>c3a2d102-09e2-4ada-8773-29fe6c12ad45</td>\n      <td>97544db8-41d3-42e4-9858-1449a9ee680d</td>\n      <td>None</td>\n      <td>ОБЩЕСТВО ОГРАНИЧЕННОЙ ОТВЕТСТВЕННОСТЬЮ \"Аква-с...</td>\n      <td>None</td>\n      <td>Юридическое лицо</td>\n      <td>False</td>\n    </tr>\n    <tr>\n      <th>120</th>\n      <td>c91fed59-5b27-4e0a-b7e5-e28fd7e76b69</td>\n      <td>a70bca14-c50b-43ea-86ab-5a28d7a08101</td>\n      <td>None</td>\n      <td>Индивидуальный предприниматель Ситников Максим...</td>\n      <td>None</td>\n      <td>Физическое лицо</td>\n      <td>False</td>\n    </tr>\n    <tr>\n      <th>125</th>\n      <td>d76cb56c-36d1-40df-88ad-87137dfdd89e</td>\n      <td>0e6fbbc4-7e25-4482-9c0e-42214ad201f4</td>\n      <td>None</td>\n      <td>ООО \"Визирь\"</td>\n      <td>None</td>\n      <td>Юридическое лицо</td>\n      <td>False</td>\n    </tr>\n    <tr>\n      <th>126</th>\n      <td>db501b50-7d78-47d7-8058-fd5ad8d0b812</td>\n      <td>c5e93a56-e759-4b82-b4a7-463fc1f8f3ae</td>\n      <td>None</td>\n      <td>ООО \"Энергосервиис\"</td>\n      <td>None</td>\n      <td>Юридическое лицо</td>\n      <td>False</td>\n    </tr>\n    <tr>\n      <th>131</th>\n      <td>e17f3af8-f988-4884-b8a3-683a901674f0</td>\n      <td>7ddc2ffa-a24d-4c06-8e4d-47981e98f88d</td>\n      <td>None</td>\n      <td>ООО \"Диомид\"</td>\n      <td>None</td>\n      <td>Юридическое лицо</td>\n      <td>False</td>\n    </tr>\n    <tr>\n      <th>134</th>\n      <td>e3a48655-6d97-4e87-9c0f-e5598a5d3b27</td>\n      <td>a699fab3-2a16-4750-a4a1-a99a775f6a59</td>\n      <td>None</td>\n      <td>ООО \"Визирь\"</td>\n      <td>None</td>\n      <td>Юридическое лицо</td>\n      <td>False</td>\n    </tr>\n    <tr>\n      <th>137</th>\n      <td>e893191b-624c-4d4f-9631-cf82ee2aa9b0</td>\n      <td>5e239d54-bccd-4ed8-a3be-a819353f5be8</td>\n      <td>None</td>\n      <td>ООО \"Визирь\"</td>\n      <td>None</td>\n      <td>Юридическое лицо</td>\n      <td>False</td>\n    </tr>\n    <tr>\n      <th>143</th>\n      <td>f9be5f30-289f-4751-98bd-507450b7421d</td>\n      <td>455eccdd-85a7-4eae-bf43-a73bd858751e</td>\n      <td>None</td>\n      <td>санаторий-профилакторий «Родник» (ООО «СтройАч...</td>\n      <td>None</td>\n      <td>Юридическое лицо</td>\n      <td>False</td>\n    </tr>\n    <tr>\n      <th>150</th>\n      <td>ffe6f942-bfa1-4f78-bb1c-a8b0cf755881</td>\n      <td>20703e79-2165-47b9-aacc-3aba0b70bba3</td>\n      <td>None</td>\n      <td>ООО «СТАТУС-РЕГИОН»</td>\n      <td>None</td>\n      <td>Юридическое лицо</td>\n      <td>False</td>\n    </tr>\n  </tbody>\n</table>\n</div>"
     },
     "execution_count": 4,
     "metadata": {},
     "output_type": "execute_result"
    }
   ],
   "source": [
    "anonym_names = {\n",
    "    '1',\n",
    "    'Заявка 1',\n",
    "    'Участник 1',\n",
    "    'Участник 4',\n",
    "    'Участник 2',\n",
    "    'Не предусмотрено.',\n",
    "    'Заявка 2',\n",
    "    'Участник 7',\n",
    "    'Участник 5',\n",
    "    'Участник №1',\n",
    "    'Заявка 12',\n",
    "    'Участник 3',\n",
    "    'Заявка 5818',\n",
    "    'Участник 6',\n",
    "    'Участник 6'\n",
    "    'Заявка 7880',\n",
    "    'Заявка 7880',\n",
    "    'Заявка 8097',\n",
    "    'Заявка №12571',\n",
    "    'не предоставляется'\n",
    "}\n",
    "\n",
    "def is_anonym_name(name: str) -> bool:\n",
    "    return name in anonym_names\n",
    "\n",
    "lot_suppliers['is_anonym'] = lot_suppliers['supplier_name'].map(is_anonym_name)\n",
    "lot_suppliers = lot_suppliers[lot_suppliers['is_anonym'] == False]\n",
    "lot_suppliers"
   ],
   "metadata": {
    "collapsed": false,
    "pycharm": {
     "name": "#%%\n"
    }
   }
  },
  {
   "cell_type": "markdown",
   "source": [
    "# Сгруппируем по имени"
   ],
   "metadata": {
    "collapsed": false,
    "pycharm": {
     "name": "#%% md\n"
    }
   }
  },
  {
   "cell_type": "code",
   "execution_count": 5,
   "outputs": [
    {
     "data": {
      "text/plain": "supplier_name\nИП Грицюк                                                                                 1\nИП Резников Дмитрий Александрович                                                         1\nИндивидуальный предприниматель Ситников Максим Сергеевич                                  1\nОБЩЕСТВО ОГРАНИЧЕННОЙ ОТВЕТСТВЕННОСТЬЮ \"Аква-сервис\"                                      1\nОБЩЕСТВО ОГРАНИЧЕННОЙ ОТВЕТСТВЕННОСТЬЮ \"Визирь\"                                           1\nООО \"БЕЛДЕЗСЕРВИС\"                                                                        1\nООО \"ВЕРБА\"                                                                               1\nООО \"ВЭС\"                                                                                 1\nООО \"Визирь\"                                                                              9\nООО \"Диомид\"                                                                              1\nООО \"КомСпецТех\"                                                                          3\nООО \"МедФарм\"                                                                             1\nООО \"МедиАрт\"                                                                             1\nООО \"Прогресс эко юг\"                                                                     1\nООО \"ПрофЭнерго\"                                                                          2\nООО \"СибПромГаз\"                                                                          1\nООО \"Универсал\"                                                                           1\nООО \"Энергосервиис\"                                                                       1\nООО «МЕДИКОМ»                                                                             1\nООО «МедПартнер»                                                                          1\nООО «СТАТУС-РЕГИОН»                                                                       2\nООО «ЭкоЦентр»                                                                            1\nООО Апоцентр                                                                              2\nООО Юго-Запад                                                                             1\nООО\"МедиАрт\"                                                                              1\nОбществом с ограниченной ответственностью «Эколайф»                                       1\nФГУП «Южно-Уральский институт биофизики Федерального медико-биологического агентства»     1\nФГУП «Южно-Уральский институт биофизики Федерального медико-биологического агентства»     1\nЧУЗ КБ РЖД Медицина                                                                       1\nсанаторий-профилакторий «Родник» (ООО «СтройАчинск»)»                                     1\ndtype: int64"
     },
     "execution_count": 5,
     "metadata": {},
     "output_type": "execute_result"
    }
   ],
   "source": [
    "lot_suppliers.groupby('supplier_name').size()"
   ],
   "metadata": {
    "collapsed": false,
    "pycharm": {
     "name": "#%%\n"
    }
   }
  },
  {
   "cell_type": "markdown",
   "source": [
    "# Заполняем ИНН"
   ],
   "metadata": {
    "collapsed": false,
    "pycharm": {
     "name": "#%% md\n"
    }
   }
  },
  {
   "cell_type": "code",
   "execution_count": 6,
   "outputs": [],
   "source": [
    "missed = []"
   ],
   "metadata": {
    "collapsed": false,
    "pycharm": {
     "name": "#%%\n"
    }
   }
  },
  {
   "cell_type": "code",
   "execution_count": 7,
   "outputs": [],
   "source": [
    "def list_to_query(str_list: List[str]) -> str:\n",
    "    query_str = \"\"\n",
    "    list_len = len(str_list)\n",
    "    for _idx in range(list_len):\n",
    "        query_str += f\"'{str_list[_idx]}'\"\n",
    "        if _idx != list_len - 1:\n",
    "            query_str += ','\n",
    "    return query_str\n",
    "\n",
    "def fill_supplier_inn(_names: List[str], _inn: str):\n",
    "    query_names = list_to_query(_names)\n",
    "\n",
    "    supplier = pd.read_sql_query(\n",
    "        f\"\"\"\n",
    "        SELECT * FROM supplier_info where name in ({query_names});\n",
    "        \"\"\",\n",
    "        conn\n",
    "    )\n",
    "\n",
    "    guid = ''\n",
    "    present_inn = supplier[~supplier['inn'].isnull()]\n",
    "    if present_inn.shape[0] > 0:\n",
    "        guid = present_inn.iloc[0]['guid']\n",
    "        m_inn = present_inn.iloc[0]['inn']\n",
    "        if _inn != m_inn:\n",
    "            print(f'ERROR {_inn} != {m_inn}')\n",
    "            return\n",
    "    else:\n",
    "        guid = supplier.iloc[0]['guid']\n",
    "        cur = conn.cursor()\n",
    "        cur.execute(f\"UPDATE supplier_info SET inn = '{_inn}' WHERE guid='{guid}'\")\n",
    "        conn.commit()\n",
    "        cur.close()\n",
    "\n",
    "    guids = supplier['guid'].tolist()\n",
    "    query_guids = list_to_query(guids)\n",
    "\n",
    "    cur = conn.cursor()\n",
    "    cur.execute(f\"UPDATE application SET supplier_guid = '{guid}' WHERE supplier_guid in ({query_guids})\")\n",
    "    conn.commit()\n",
    "    cur.close()"
   ],
   "metadata": {
    "collapsed": false,
    "pycharm": {
     "name": "#%%\n"
    }
   }
  },
  {
   "cell_type": "markdown",
   "source": [
    "### АО \"Фармация\"\n",
    "https://www.rusprofile.ru/id/1601224"
   ],
   "metadata": {
    "collapsed": false,
    "pycharm": {
     "name": "#%% md\n"
    }
   }
  },
  {
   "cell_type": "code",
   "execution_count": 8,
   "outputs": [],
   "source": [
    "names = ['АО \"Фармация\"', 'Акционерное общество \"Фармация\"']\n",
    "inn = \"7202157342\"\n",
    "fill_supplier_inn(names, inn)"
   ],
   "metadata": {
    "collapsed": false,
    "pycharm": {
     "name": "#%%\n"
    }
   }
  },
  {
   "cell_type": "markdown",
   "source": [
    "### АО «Медико-санитарная часть «Нефтяник»\n",
    "https://www.rusprofile.ru/id/145266"
   ],
   "metadata": {
    "collapsed": false,
    "pycharm": {
     "name": "#%% md\n"
    }
   }
  },
  {
   "cell_type": "code",
   "execution_count": 9,
   "outputs": [],
   "source": [
    "names = [\n",
    "    'АО «Медико-санитарная часть «Нефтяник»',\n",
    "    'АО \"Медико-санитарная часть \"Нефтяник\"',\n",
    "    'АО \"МСЧ \"Нефтяник\"',\n",
    "    'АО «Медико-санитарная часть «Нефтяник» '\n",
    "]\n",
    "inn = \"7202086042\"\n",
    "fill_supplier_inn(names, inn)"
   ],
   "metadata": {
    "collapsed": false,
    "pycharm": {
     "name": "#%%\n"
    }
   }
  },
  {
   "cell_type": "markdown",
   "source": [
    "### Акционерное общество «Лента»\n",
    "https://www.rusprofile.ru/id/1038748"
   ],
   "metadata": {
    "collapsed": false,
    "pycharm": {
     "name": "#%% md\n"
    }
   }
  },
  {
   "cell_type": "code",
   "execution_count": 10,
   "outputs": [],
   "source": [
    "names = ['Акционерное общество «Лента»']\n",
    "inn = \"2127008692\"\n",
    "fill_supplier_inn(names, inn)"
   ],
   "metadata": {
    "collapsed": false,
    "pycharm": {
     "name": "#%%\n"
    }
   }
  },
  {
   "cell_type": "markdown",
   "source": [
    "### ГАУЗ ТО \"ГОРОДСКАЯ ПОЛИКЛИНИКА №17\" (г.Тюмень)\n",
    "https://www.rusprofile.ru/id/2349989"
   ],
   "metadata": {
    "collapsed": false,
    "pycharm": {
     "name": "#%% md\n"
    }
   }
  },
  {
   "cell_type": "code",
   "execution_count": 11,
   "outputs": [],
   "source": [
    "names = ['ГАУЗ ТО \"ГОРОДСКАЯ ПОЛИКЛИНИКА №17\" (г.Тюмень)', 'ГАУЗ ТО \"Городская поликлиника №17\"']\n",
    "inn = \"7203116331\"\n",
    "fill_supplier_inn(names, inn)"
   ],
   "metadata": {
    "collapsed": false,
    "pycharm": {
     "name": "#%%\n"
    }
   }
  },
  {
   "cell_type": "markdown",
   "source": [
    "### ГАУЗ ТО «ОКБ №1»\n",
    "https://www.rusprofile.ru/id/9923137"
   ],
   "metadata": {
    "collapsed": false,
    "pycharm": {
     "name": "#%% md\n"
    }
   }
  },
  {
   "cell_type": "code",
   "execution_count": 12,
   "outputs": [],
   "source": [
    "names = [\n",
    "    'ГАУЗ ТО «ОКБ №1»',\n",
    "    'ГБУЗ ТО «ОКБ №1»               (г. Тюмень) ',\n",
    "    'ГБУЗ ТО \"ОБ №1\" г.Тюмень',\n",
    "    'ГБУЗ ТО \"ОКБ №1\" г.Тюмень',\n",
    "    'ГАУЗ ТО \"ОКБ №1\"',\n",
    "    'ГБУЗ ТО \"Областная клиническая больница №1\" г.Тюмени',\n",
    "    'ГБУЗ ТО \"Областная клиническая больница №1\"',\n",
    "    'Государственное бюджетное учреждение здравоохранения Тюменской области «Областная клиническая больница №1» ',\n",
    "    'ГБУЗ ТО \"ОКБ №1\"'\n",
    "]\n",
    "inn = \"7203000249\"\n",
    "fill_supplier_inn(names, inn)"
   ],
   "metadata": {
    "collapsed": false,
    "pycharm": {
     "name": "#%%\n"
    }
   }
  },
  {
   "cell_type": "markdown",
   "source": [
    "### Голенкова Маргарита Николаевна\n",
    "https://www.rusprofile.ru/ip/319325600000672"
   ],
   "metadata": {
    "collapsed": false,
    "pycharm": {
     "name": "#%% md\n"
    }
   }
  },
  {
   "cell_type": "code",
   "execution_count": 13,
   "outputs": [],
   "source": [
    "names = [\n",
    "    'ИП Голенкова М.Н.',\n",
    "    'Голенкова Маргарита Николаевна'\n",
    "]\n",
    "inn = \"323408634627\"\n",
    "fill_supplier_inn(names, inn)"
   ],
   "metadata": {
    "collapsed": false,
    "pycharm": {
     "name": "#%%\n"
    }
   }
  },
  {
   "cell_type": "markdown",
   "source": [
    "### Государственное автономное учреждение Республики Саха (Якутия) «Республиканская клиническая больница №3»\n",
    "https://www.rusprofile.ru/id/4119281"
   ],
   "metadata": {
    "collapsed": false,
    "pycharm": {
     "name": "#%% md\n"
    }
   }
  },
  {
   "cell_type": "code",
   "execution_count": 14,
   "outputs": [],
   "source": [
    "names = [\n",
    "    'Государственное автономное учреждение Республики Саха (Якутия) «Республиканская клиническая больница №3»',\n",
    "    'ГОСУДАРСТВЕННОЕ АВТОНОМНОЕ УЧРЕЖДЕНИЕ РЕСПУБЛИКИ САХА (ЯКУТИЯ) \"РЕСПУБЛИКАНСКАЯ КЛИНИЧЕСКАЯ БОЛЬНИЦА №3\"'\n",
    "]\n",
    "inn = \"1435024023\"\n",
    "fill_supplier_inn(names, inn)"
   ],
   "metadata": {
    "collapsed": false,
    "pycharm": {
     "name": "#%%\n"
    }
   }
  },
  {
   "cell_type": "markdown",
   "source": [
    "### ЗАО НПО «ГАРАНТ»\n",
    "https://www.rusprofile.ru/id/3061194"
   ],
   "metadata": {
    "collapsed": false,
    "pycharm": {
     "name": "#%% md\n"
    }
   }
  },
  {
   "cell_type": "code",
   "execution_count": 15,
   "outputs": [],
   "source": [
    "names = [\n",
    "    'ЗАО НПО «ГАРАНТ»',\n",
    "    'ЗАО НПО \"Гарант\"',\n",
    "    'ЗАО НПО «Гарант»'\n",
    "]\n",
    "inn = \"7716017505\"\n",
    "fill_supplier_inn(names, inn)"
   ],
   "metadata": {
    "collapsed": false,
    "pycharm": {
     "name": "#%%\n"
    }
   }
  },
  {
   "cell_type": "markdown",
   "source": [
    "### ИП Гарифуллин А.Н.\n",
    "https://www.rusprofile.ru/ip/317784700241060"
   ],
   "metadata": {
    "collapsed": false,
    "pycharm": {
     "name": "#%% md\n"
    }
   }
  },
  {
   "cell_type": "code",
   "execution_count": 16,
   "outputs": [],
   "source": [
    "names = [\n",
    "    'ИП Гарифуллин А.Н.',\n",
    "]\n",
    "inn = \"450132791601\"\n",
    "fill_supplier_inn(names, inn)"
   ],
   "metadata": {
    "collapsed": false,
    "pycharm": {
     "name": "#%%\n"
    }
   }
  },
  {
   "cell_type": "markdown",
   "source": [
    "### ИП Грицюк\n",
    "Без имени отчества не определить точно\n",
    "https://www.rusprofile.ru/ip/319774600160971\n",
    "https://www.rusprofile.ru/ip/315774600032550"
   ],
   "metadata": {
    "collapsed": false,
    "pycharm": {
     "name": "#%% md\n"
    }
   }
  },
  {
   "cell_type": "code",
   "execution_count": 17,
   "outputs": [],
   "source": [
    "names = ['ИП Грицюк']\n",
    "missed += names"
   ],
   "metadata": {
    "collapsed": false,
    "pycharm": {
     "name": "#%%\n"
    }
   }
  },
  {
   "cell_type": "markdown",
   "source": [
    "### ИП Резников Дмитрий Александрович\n",
    "Не определить точно\n",
    "https://www.rusprofile.ru/ip/321774600007587\n",
    "https://www.rusprofile.ru/ip/317723200001220"
   ],
   "metadata": {
    "collapsed": false,
    "pycharm": {
     "name": "#%% md\n"
    }
   }
  },
  {
   "cell_type": "code",
   "execution_count": 18,
   "outputs": [],
   "source": [
    "names = [\n",
    "    'ИП Резников Дмитрий Александрович '\n",
    "]\n",
    "missed += names"
   ],
   "metadata": {
    "collapsed": false,
    "pycharm": {
     "name": "#%%\n"
    }
   }
  },
  {
   "cell_type": "markdown",
   "source": [
    "### ИП Тороян Д.Ш.\n",
    "https://www.rusprofile.ru/ip/304720732900059"
   ],
   "metadata": {
    "collapsed": false,
    "pycharm": {
     "name": "#%% md\n"
    }
   }
  },
  {
   "cell_type": "code",
   "execution_count": 19,
   "outputs": [],
   "source": [
    "names = [\n",
    "    'ИП Тороян Дианна Шерамовна',\n",
    "    'ИП Тороян Д.Ш.',\n",
    "]\n",
    "inn = \"722800226122\"\n",
    "fill_supplier_inn(names, inn)"
   ],
   "metadata": {
    "collapsed": false,
    "pycharm": {
     "name": "#%%\n"
    }
   }
  },
  {
   "cell_type": "markdown",
   "source": [
    "### Индивидуальный предприниматель Ситников Максим Сергеевич\n",
    "Невозможно определить\n",
    "https://www.rusprofile.ru/ip/321440000015832\n",
    "https://www.rusprofile.ru/ip/321784700261540"
   ],
   "metadata": {
    "collapsed": false,
    "pycharm": {
     "name": "#%% md\n"
    }
   }
  },
  {
   "cell_type": "code",
   "execution_count": 20,
   "outputs": [],
   "source": [
    "names = [\n",
    "    'Индивидуальный предприниматель Ситников Максим Сергеевич '\n",
    "]\n",
    "missed += names"
   ],
   "metadata": {
    "collapsed": false,
    "pycharm": {
     "name": "#%%\n"
    }
   }
  },
  {
   "cell_type": "markdown",
   "source": [
    "### Индивидуальный предприниматель Солодкий Дмитрий Павлович\n",
    "https://www.rusprofile.ru/ip/310526008400032"
   ],
   "metadata": {
    "collapsed": false,
    "pycharm": {
     "name": "#%% md\n"
    }
   }
  },
  {
   "cell_type": "code",
   "execution_count": 21,
   "outputs": [],
   "source": [
    "names = [\n",
    "    'Индивидуальный предприниматель Солодкий Дмитрий Павлович'\n",
    "]\n",
    "inn = \"526098514448\"\n",
    "fill_supplier_inn(names, inn)"
   ],
   "metadata": {
    "collapsed": false,
    "pycharm": {
     "name": "#%%\n"
    }
   }
  },
  {
   "cell_type": "markdown",
   "source": [
    "### Индивидуальный предприниматель Тибирьков Сергей Евгеньевич\n",
    "https://www.rusprofile.ru/ip/314345725900031"
   ],
   "metadata": {
    "collapsed": false,
    "pycharm": {
     "name": "#%% md\n"
    }
   }
  },
  {
   "cell_type": "code",
   "execution_count": 22,
   "outputs": [],
   "source": [
    "names = [\n",
    "    'Тибирьков Сергей Евгеньевич',\n",
    "    'Индивидуальный предприниматель Тибирьков Сергей Евгеньевич'\n",
    "]\n",
    "inn = \"341700066482\"\n",
    "fill_supplier_inn(names, inn)"
   ],
   "metadata": {
    "collapsed": false,
    "pycharm": {
     "name": "#%%\n"
    }
   }
  },
  {
   "cell_type": "markdown",
   "source": [
    "### Общество с ограниченной ответственностью «Компания Экотех»\n",
    "https://www.rusprofile.ru/id/4872060"
   ],
   "metadata": {
    "collapsed": false,
    "pycharm": {
     "name": "#%% md\n"
    }
   }
  },
  {
   "cell_type": "code",
   "execution_count": 23,
   "outputs": [],
   "source": [
    "names = [\n",
    "    'Компания Экотех',\n",
    "    'Общество с ограниченной ответственностью «Компания Экотех»'\n",
    "]\n",
    "inn = \"7716681579\"\n",
    "fill_supplier_inn(names, inn)"
   ],
   "metadata": {
    "collapsed": false,
    "pycharm": {
     "name": "#%%\n"
    }
   }
  },
  {
   "cell_type": "markdown",
   "source": [
    "### ОБЩЕСТВО ОГРАНИЧЕННОЙ ОТВЕТСТВЕННОСТЬЮ \"Аква-сервис\"\n",
    "Невозможно определить\n",
    "https://www.rusprofile.ru/id/667040\n",
    "https://www.rusprofile.ru/id/6821822"
   ],
   "metadata": {
    "collapsed": false,
    "pycharm": {
     "name": "#%% md\n"
    }
   }
  },
  {
   "cell_type": "code",
   "execution_count": 24,
   "outputs": [],
   "source": [
    "names = [\n",
    "    'ОБЩЕСТВО ОГРАНИЧЕННОЙ ОТВЕТСТВЕННОСТЬЮ \"Аква-сервис\"'\n",
    "]\n",
    "missed += names"
   ],
   "metadata": {
    "collapsed": false,
    "pycharm": {
     "name": "#%%\n"
    }
   }
  },
  {
   "cell_type": "markdown",
   "source": [
    "### ОБЩЕСТВО ОГРАНИЧЕННОЙ ОТВЕТСТВЕННОСТЬЮ \"Визирь\"\n",
    "Невозможно определить\n",
    "https://www.rusprofile.ru/id/10642775\n",
    "https://www.rusprofile.ru/id/3755163"
   ],
   "metadata": {
    "collapsed": false,
    "pycharm": {
     "name": "#%% md\n"
    }
   }
  },
  {
   "cell_type": "code",
   "execution_count": 25,
   "outputs": [],
   "source": [
    "names = [\n",
    "    'ООО \"Визирь\"',\n",
    "    'ОБЩЕСТВО ОГРАНИЧЕННОЙ ОТВЕТСТВЕННОСТЬЮ \"Визирь\"'\n",
    "]\n",
    "missed += names"
   ],
   "metadata": {
    "collapsed": false,
    "pycharm": {
     "name": "#%%\n"
    }
   }
  },
  {
   "cell_type": "markdown",
   "source": [
    "### ОБЩЕСТВО ОГРАНИЧЕННОЙ ОТВЕТСТВЕННОСТЬЮ \"Лазаревка\"\n",
    "https://www.rusprofile.ru/id/5529710"
   ],
   "metadata": {
    "collapsed": false,
    "pycharm": {
     "name": "#%% md\n"
    }
   }
  },
  {
   "cell_type": "code",
   "execution_count": 26,
   "outputs": [],
   "source": [
    "names = [\n",
    "    'ООО \"Лазаревка\"',\n",
    "    'ОБЩЕСТВО ОГРАНИЧЕННОЙ ОТВЕТСТВЕННОСТЬЮ \"Лазаревка\"'\n",
    "]\n",
    "inn = \"7203267323\"\n",
    "fill_supplier_inn(names, inn)"
   ],
   "metadata": {
    "collapsed": false,
    "pycharm": {
     "name": "#%%\n"
    }
   }
  },
  {
   "cell_type": "markdown",
   "source": [
    "### ОБЩЕСТВО ОГРАНИЧЕННОЙ ОТВЕТСТВЕННОСТЬЮ \"ФармЛайн\"\n",
    "https://www.rusprofile.ru/id/3329982"
   ],
   "metadata": {
    "collapsed": false,
    "pycharm": {
     "name": "#%% md\n"
    }
   }
  },
  {
   "cell_type": "code",
   "execution_count": 27,
   "outputs": [],
   "source": [
    "names = [\n",
    "    'ОБЩЕСТВО ОГРАНИЧЕННОЙ ОТВЕТСТВЕННОСТЬЮ \"ФармЛайн\"',\n",
    "    'ООО \"ФармЛайн\"',\n",
    "    'ООО \"Фарм Лайн\"'\n",
    "]\n",
    "inn = \"7714511476\"\n",
    "fill_supplier_inn(names, inn)"
   ],
   "metadata": {
    "collapsed": false,
    "pycharm": {
     "name": "#%%\n"
    }
   }
  },
  {
   "cell_type": "markdown",
   "source": [
    "### ОБЩЕСТВО ОГРАНИЧЕННОЙ ОТВЕТСТВЕННОСТЬЮ \"ЮС ГРАНД\"\n",
    "https://www.rusprofile.ru/id/11908433"
   ],
   "metadata": {
    "collapsed": false,
    "pycharm": {
     "name": "#%% md\n"
    }
   }
  },
  {
   "cell_type": "code",
   "source": [
    "names = [\n",
    "    'ОБЩЕСТВО ОГРАНИЧЕННОЙ ОТВЕТСТВЕННОСТЬЮ \"ЮС ГРАНД\"',\n",
    "    'ОБЩЕСТВО С ОГРАНИЧЕННОЙ ОТВЕТСТВЕННОСТЬЮ \"ЮС ГРАНД\"',\n",
    "    'ОБЩЕСТВО ОГРАНИЧЕННОЙ ОТВЕТСТВЕННОСТЬЮ \"Юс Гранд\"',\n",
    "    'ООО «Юс Гранд»',\n",
    "    'Общество с ограниченной ответственностью \"ЮС ГРАНД\"',\n",
    "    'ООО \"ЮС Гранд\"'\n",
    "]\n",
    "inn = \"7203490314\"\n",
    "fill_supplier_inn(names, inn)"
   ],
   "metadata": {
    "collapsed": false,
    "pycharm": {
     "name": "#%%\n"
    }
   },
   "execution_count": 28,
   "outputs": []
  },
  {
   "cell_type": "markdown",
   "source": [
    "### ОБЩЕСТВО С ОГРАНИЧЕННОЙ ОТВЕТСТВЕННОСТЬЮ \"ТОРГОВАЯ ГРУППА \"МЯСНОЙ ДВОР\"\n",
    "https://www.rusprofile.ru/id/3768805"
   ],
   "metadata": {
    "collapsed": false,
    "pycharm": {
     "name": "#%% md\n"
    }
   }
  },
  {
   "cell_type": "code",
   "execution_count": 29,
   "outputs": [],
   "source": [
    "names = [\n",
    "    'ОБЩЕСТВО С ОГРАНИЧЕННОЙ ОТВЕТСТВЕННОСТЬЮ \"ТОРГОВАЯ ГРУППА \"МЯСНОЙ ДВОР\"',\n",
    "    'Общество с ограниченной ответственность «Торговая группа «Мясной двор»'\n",
    "]\n",
    "inn = \"5504071730\"\n",
    "fill_supplier_inn(names, inn)"
   ],
   "metadata": {
    "collapsed": false,
    "pycharm": {
     "name": "#%%\n"
    }
   }
  },
  {
   "cell_type": "markdown",
   "source": [
    "### ОБЩЕСТВО С ОГРАНИЧЕННОЙ ОТВЕТСТВЕННОСТЬЮ \"ЭНЕРГОСТРОЙ\"\n",
    "https://www.rusprofile.ru/id/7144463"
   ],
   "metadata": {
    "collapsed": false,
    "pycharm": {
     "name": "#%% md\n"
    }
   }
  },
  {
   "cell_type": "code",
   "execution_count": 30,
   "outputs": [],
   "source": [
    "names = [\n",
    "    'ОБЩЕСТВО С ОГРАНИЧЕННОЙ ОТВЕТСТВЕННОСТЬЮ \"ЭНЕРГОСТРОЙ\"',\n",
    "]\n",
    "inn = \"7733866971\"\n",
    "fill_supplier_inn(names, inn)"
   ],
   "metadata": {
    "collapsed": false,
    "pycharm": {
     "name": "#%%\n"
    }
   }
  },
  {
   "cell_type": "markdown",
   "source": [
    "### ООО \"АДР-Трафик\"\n",
    "https://www.rusprofile.ru/id/1207700376950"
   ],
   "metadata": {
    "collapsed": false,
    "pycharm": {
     "name": "#%% md\n"
    }
   }
  },
  {
   "cell_type": "code",
   "execution_count": 31,
   "outputs": [],
   "source": [
    "names = [\n",
    "    'ООО \"АДР-Трафик\"',\n",
    "]\n",
    "inn = \"9709066022\"\n",
    "fill_supplier_inn(names, inn)"
   ],
   "metadata": {
    "collapsed": false,
    "pycharm": {
     "name": "#%%\n"
    }
   }
  },
  {
   "cell_type": "markdown",
   "source": [
    "### ООО \"Аксиома БИО\"\n",
    "https://www.rusprofile.ru/id/7870899"
   ],
   "metadata": {
    "collapsed": false,
    "pycharm": {
     "name": "#%% md\n"
    }
   }
  },
  {
   "cell_type": "code",
   "execution_count": 32,
   "outputs": [],
   "source": [
    "names = [\n",
    "    'ООО \"Аксиома БИО\"',\n",
    "    'Общество с ограниченной ответственностью «АксиомаБИО»'\n",
    "]\n",
    "inn = \"7724330020\"\n",
    "fill_supplier_inn(names, inn)"
   ],
   "metadata": {
    "collapsed": false,
    "pycharm": {
     "name": "#%%\n"
    }
   }
  },
  {
   "cell_type": "markdown",
   "source": [
    "### ООО \"Альхон -Трейд\"\n",
    "https://www.rusprofile.ru/id/11614943"
   ],
   "metadata": {
    "collapsed": false,
    "pycharm": {
     "name": "#%% md\n"
    }
   }
  },
  {
   "cell_type": "code",
   "execution_count": 33,
   "outputs": [],
   "source": [
    "names = [\n",
    "    'ООО \"Альхон -Трейд\"',\n",
    "    'ООО «Альхон-Трейд»',\n",
    "    'Общество с ограниченной ответственностью \"Альхон-Трейд\"'\n",
    "]\n",
    "inn = \"7203462204\"\n",
    "fill_supplier_inn(names, inn)"
   ],
   "metadata": {
    "collapsed": false,
    "pycharm": {
     "name": "#%%\n"
    }
   }
  },
  {
   "cell_type": "markdown",
   "source": [
    "### ООО \"Альянс-Сервис\"\n",
    "https://www.rusprofile.ru/id/3785475"
   ],
   "metadata": {
    "collapsed": false,
    "pycharm": {
     "name": "#%% md\n"
    }
   }
  },
  {
   "cell_type": "code",
   "execution_count": 34,
   "outputs": [],
   "source": [
    "names = [\n",
    "    'ООО \"Альянс-Сервис\"'\n",
    "]\n",
    "inn = \"7710705784\"\n",
    "fill_supplier_inn(names, inn)"
   ],
   "metadata": {
    "collapsed": false,
    "pycharm": {
     "name": "#%%\n"
    }
   }
  },
  {
   "cell_type": "markdown",
   "source": [
    "### ООО \"ВЕРБА\"\n",
    "Невозможно определить\n",
    "https://www.rusprofile.ru/company/ooo-verba"
   ],
   "metadata": {
    "collapsed": false,
    "pycharm": {
     "name": "#%% md\n"
    }
   }
  },
  {
   "cell_type": "code",
   "execution_count": 35,
   "outputs": [],
   "source": [
    "names = [\n",
    "    'ООО \"ВЕРБА\"'\n",
    "]\n",
    "missed += names"
   ],
   "metadata": {
    "collapsed": false,
    "pycharm": {
     "name": "#%%\n"
    }
   }
  },
  {
   "cell_type": "markdown",
   "source": [
    "### ООО \"ВЭС\"\n",
    "Невозможно определить\n",
    "https://www.rusprofile.ru/id/5913281\n",
    "https://www.rusprofile.ru/id/3657772\n",
    "https://www.rusprofile.ru/id/3926182"
   ],
   "metadata": {
    "collapsed": false,
    "pycharm": {
     "name": "#%% md\n"
    }
   }
  },
  {
   "cell_type": "code",
   "execution_count": 36,
   "outputs": [],
   "source": [
    "names = [\n",
    "    'ООО \"ВЭС\"'\n",
    "]\n",
    "missed += names"
   ],
   "metadata": {
    "collapsed": false,
    "pycharm": {
     "name": "#%%\n"
    }
   }
  },
  {
   "cell_type": "markdown",
   "source": [
    "### ООО \"КомСпецТех\"\n",
    "Невозможно определить\n",
    "https://www.rusprofile.ru/id/6076474\n",
    "https://www.rusprofile.ru/id/3650602"
   ],
   "metadata": {
    "collapsed": false,
    "pycharm": {
     "name": "#%% md\n"
    }
   }
  },
  {
   "cell_type": "code",
   "execution_count": 37,
   "outputs": [],
   "source": [
    "names = [\n",
    "    'ООО \"КомСпецТех\"'\n",
    "]\n",
    "missed += names"
   ],
   "metadata": {
    "collapsed": false,
    "pycharm": {
     "name": "#%%\n"
    }
   }
  },
  {
   "cell_type": "markdown",
   "source": [
    "### ООО \"Лизоформ-СПб\"\n",
    "https://www.rusprofile.ru/id/973317"
   ],
   "metadata": {
    "collapsed": false,
    "pycharm": {
     "name": "#%% md\n"
    }
   }
  },
  {
   "cell_type": "code",
   "execution_count": 38,
   "outputs": [],
   "source": [
    "names = [\n",
    "    'ООО \"Лизоформ-СПб\"'\n",
    "]\n",
    "inn = \"7814108542\"\n",
    "fill_supplier_inn(names, inn)"
   ],
   "metadata": {
    "collapsed": false,
    "pycharm": {
     "name": "#%%\n"
    }
   }
  },
  {
   "cell_type": "markdown",
   "source": [
    "### ООО \"МедФарм\"\n",
    "Невозможно определить\n",
    "https://www.rusprofile.ru/id/7845896\n",
    "https://www.rusprofile.ru/id/10905675"
   ],
   "metadata": {
    "collapsed": false,
    "pycharm": {
     "name": "#%% md\n"
    }
   }
  },
  {
   "cell_type": "code",
   "execution_count": 39,
   "outputs": [],
   "source": [
    "names = [\n",
    "    'ООО \"МедФарм\"'\n",
    "]\n",
    "missed += names"
   ],
   "metadata": {
    "collapsed": false,
    "pycharm": {
     "name": "#%%\n"
    }
   }
  },
  {
   "cell_type": "markdown",
   "source": [
    "### ООО \"МедиАрт\"\n",
    "Невозможно определить\n",
    "https://www.rusprofile.ru/id/2738713\n",
    "https://www.rusprofile.ru/id/11854933"
   ],
   "metadata": {
    "collapsed": false,
    "pycharm": {
     "name": "#%% md\n"
    }
   }
  },
  {
   "cell_type": "code",
   "execution_count": 40,
   "outputs": [],
   "source": [
    "names = [\n",
    "    'ООО \"МедиАрт\"',\n",
    "    'ОБЩЕСТВО ОГРАНИЧЕННОЙ ОТВЕТСТВЕННОСТЬЮ \"МедиАрт\"',\n",
    "    'ООО\"МедиАрт\"'\n",
    "]\n",
    "missed += names"
   ],
   "metadata": {
    "collapsed": false,
    "pycharm": {
     "name": "#%%\n"
    }
   }
  },
  {
   "cell_type": "markdown",
   "source": [
    "### ООО \"Мединтелл\"\n",
    "https://www.rusprofile.ru/id/1571132"
   ],
   "metadata": {
    "collapsed": false,
    "pycharm": {
     "name": "#%% md\n"
    }
   }
  },
  {
   "cell_type": "code",
   "execution_count": 41,
   "outputs": [],
   "source": [
    "names = [\n",
    "    'Общество с ограниченной ответственностью \"Мединтелл\"',\n",
    "    'ООО \"Мединтелл\"',\n",
    "    'ООО «Мединтелл»',\n",
    "    'Общество с ограниченной ответственностью «Мединтелл»',\n",
    "    'ООО \"Мединтел\"'\n",
    "]\n",
    "inn = \"7202062972\"\n",
    "fill_supplier_inn(names, inn)"
   ],
   "metadata": {
    "collapsed": false,
    "pycharm": {
     "name": "#%%\n"
    }
   }
  },
  {
   "cell_type": "markdown",
   "source": [
    "### ООО \"Морозко\"\n",
    "https://www.rusprofile.ru/id/1103928"
   ],
   "metadata": {
    "collapsed": false,
    "pycharm": {
     "name": "#%% md\n"
    }
   }
  },
  {
   "cell_type": "code",
   "execution_count": 42,
   "outputs": [],
   "source": [
    "names = [\n",
    "    'ООО \"Морозко\"'\n",
    "]\n",
    "inn = \"7728024000\"\n",
    "fill_supplier_inn(names, inn)"
   ],
   "metadata": {
    "collapsed": false,
    "pycharm": {
     "name": "#%%\n"
    }
   }
  },
  {
   "cell_type": "markdown",
   "source": [
    "### ОБЩЕСТВО С ОГРАНИЧЕННОЙ ОТВЕТСТВЕННОСТЬЮ \"ПРАЙДГРУПП ДВ\"\n",
    "https://www.rusprofile.ru/id/11849977"
   ],
   "metadata": {
    "collapsed": false,
    "pycharm": {
     "name": "#%% md\n"
    }
   }
  },
  {
   "cell_type": "code",
   "execution_count": 43,
   "outputs": [],
   "source": [
    "names = [\n",
    "    'ООО \"ППАЙДГРУПП ДВ\"'\n",
    "]\n",
    "inn = \"2723206455\"\n",
    "fill_supplier_inn(names, inn)"
   ],
   "metadata": {
    "collapsed": false,
    "pycharm": {
     "name": "#%%\n"
    }
   }
  },
  {
   "cell_type": "markdown",
   "source": [
    "### ООО \"ПрофЭнерго\"\n",
    "Невозможно определить\n",
    "https://www.rusprofile.ru/id/9458634\n",
    "https://www.rusprofile.ru/id/10501997"
   ],
   "metadata": {
    "collapsed": false,
    "pycharm": {
     "name": "#%% md\n"
    }
   }
  },
  {
   "cell_type": "code",
   "execution_count": 44,
   "outputs": [],
   "source": [
    "names = [\n",
    "    'ООО \"ПрофЭнерго\"'\n",
    "]\n",
    "missed += names"
   ],
   "metadata": {
    "collapsed": false,
    "pycharm": {
     "name": "#%%\n"
    }
   }
  },
  {
   "cell_type": "markdown",
   "source": [
    "### ООО \"СВ-Инжиниринг М\"\n",
    "https://www.rusprofile.ru/id/11134082"
   ],
   "metadata": {
    "collapsed": false,
    "pycharm": {
     "name": "#%% md\n"
    }
   }
  },
  {
   "cell_type": "code",
   "execution_count": 45,
   "outputs": [],
   "source": [
    "names = [\n",
    "    'Общество с ограниченной ответственностью «СВ-Инжиниринг М» ',\n",
    "    'ООО \"СВ-Инжиниринг М\"'\n",
    "]\n",
    "inn = \"7733322643\"\n",
    "fill_supplier_inn(names, inn)"
   ],
   "metadata": {
    "collapsed": false,
    "pycharm": {
     "name": "#%%\n"
    }
   }
  },
  {
   "cell_type": "markdown",
   "source": [
    "### ООО \"СибПромГаз\"\n",
    "Невозможно определить\n",
    "https://www.rusprofile.ru/id/3794392\n",
    "https://www.rusprofile.ru/id/1205400028239"
   ],
   "metadata": {
    "collapsed": false,
    "pycharm": {
     "name": "#%% md\n"
    }
   }
  },
  {
   "cell_type": "code",
   "execution_count": 46,
   "outputs": [],
   "source": [
    "names = [\n",
    "    'ООО \"СибПромГаз\"'\n",
    "]\n",
    "missed += names"
   ],
   "metadata": {
    "collapsed": false,
    "pycharm": {
     "name": "#%%\n"
    }
   }
  },
  {
   "cell_type": "markdown",
   "source": [
    "### ООО \"ТПК \"ПЛОДОРОДИЕ\"\n",
    "https://www.rusprofile.ru/id/7850830"
   ],
   "metadata": {
    "collapsed": false,
    "pycharm": {
     "name": "#%% md\n"
    }
   }
  },
  {
   "cell_type": "code",
   "execution_count": 47,
   "outputs": [],
   "source": [
    "names = [\n",
    "    'ООО \"ТПК \"ПЛОДОРОДИЕ\"',\n",
    "    'ОБЩЕСТВО С ОГРАНИЧЕННОЙ ОТВЕТСТВЕННОСТЬЮ \"ТПК \"ПЛОДОРОДИЕ\"',\n",
    "    'ОБЩЕСТВО С ОГРАНИЧЕННОЙ ОТВЕТСТВЕННОСТЬЮ ТОРГОВО-ПРОИЗВОДСТВЕННАЯ КОМПАНИЯ \"ПЛОДОРОДИЕ\"'\n",
    "]\n",
    "inn = \"7203357513\"\n",
    "fill_supplier_inn(names, inn)"
   ],
   "metadata": {
    "collapsed": false,
    "pycharm": {
     "name": "#%%\n"
    }
   }
  },
  {
   "cell_type": "markdown",
   "source": [
    "### ООО \"Тюменское АТП\"\n",
    "https://www.rusprofile.ru/id/4261942"
   ],
   "metadata": {
    "collapsed": false,
    "pycharm": {
     "name": "#%% md\n"
    }
   }
  },
  {
   "cell_type": "code",
   "execution_count": 48,
   "outputs": [],
   "source": [
    "names = [\n",
    "    'ООО \"Тюменское АТП\"',\n",
    "    'ООО \"Тюменское автотранспортное предприятие\"'\n",
    "]\n",
    "inn = \"7203141970\"\n",
    "fill_supplier_inn(names, inn)"
   ],
   "metadata": {
    "collapsed": false,
    "pycharm": {
     "name": "#%%\n"
    }
   }
  },
  {
   "cell_type": "markdown",
   "source": [
    "### ООО \"Универсал\"\n",
    "Невозможно определить\n",
    "https://www.rusprofile.ru/id/7313341\n",
    "https://www.rusprofile.ru/id/1217700123695\n",
    "https://www.rusprofile.ru/id/10357015"
   ],
   "metadata": {
    "collapsed": false,
    "pycharm": {
     "name": "#%% md\n"
    }
   }
  },
  {
   "cell_type": "code",
   "execution_count": 49,
   "outputs": [],
   "source": [
    "names = [\n",
    "    'ООО \"Универсал\"'\n",
    "]\n",
    "missed += names"
   ],
   "metadata": {
    "collapsed": false,
    "pycharm": {
     "name": "#%%\n"
    }
   }
  },
  {
   "cell_type": "markdown",
   "source": [
    "### ООО \"Фармплюс\"\n",
    "https://www.rusprofile.ru/id/11907388"
   ],
   "metadata": {
    "collapsed": false,
    "pycharm": {
     "name": "#%% md\n"
    }
   }
  },
  {
   "cell_type": "code",
   "execution_count": 50,
   "outputs": [],
   "source": [
    "names = [\n",
    "    'ООО «Фармплюс»',\n",
    "    'ООО \"Фармплюс\"'\n",
    "]\n",
    "inn = \"6658529147\"\n",
    "fill_supplier_inn(names, inn)"
   ],
   "metadata": {
    "collapsed": false,
    "pycharm": {
     "name": "#%%\n"
    }
   }
  },
  {
   "cell_type": "markdown",
   "source": [
    "### ООО \"Энергосервиис\"\n",
    "Невозможно определить\n",
    "https://www.rusprofile.ru/id/5444108\n",
    "https://www.rusprofile.ru/id/5850085"
   ],
   "metadata": {
    "collapsed": false,
    "pycharm": {
     "name": "#%% md\n"
    }
   }
  },
  {
   "cell_type": "code",
   "execution_count": 51,
   "outputs": [],
   "source": [
    "names = [\n",
    "    'ООО \"Энергосервиис\"'\n",
    "]\n",
    "missed += names"
   ],
   "metadata": {
    "collapsed": false,
    "pycharm": {
     "name": "#%%\n"
    }
   }
  },
  {
   "cell_type": "markdown",
   "source": [
    "### ООО \"Лаборатория Медилис\"\n",
    "https://www.rusprofile.ru/id/341280"
   ],
   "metadata": {
    "collapsed": false,
    "pycharm": {
     "name": "#%% md\n"
    }
   }
  },
  {
   "cell_type": "code",
   "execution_count": 52,
   "outputs": [],
   "source": [
    "names = [\n",
    "    'ООО \"Лаборатория МедиЛИС\"',\n",
    "    'ООО 2лаборатория МедиЛИС\"'\n",
    "]\n",
    "inn = \"7726625051\"\n",
    "fill_supplier_inn(names, inn)"
   ],
   "metadata": {
    "collapsed": false,
    "pycharm": {
     "name": "#%%\n"
    }
   }
  },
  {
   "cell_type": "markdown",
   "source": [
    "### ООО «1П Технолоджиз»\n",
    "https://www.rusprofile.ru/id/6908865"
   ],
   "metadata": {
    "collapsed": false,
    "pycharm": {
     "name": "#%% md\n"
    }
   }
  },
  {
   "cell_type": "code",
   "execution_count": 53,
   "outputs": [],
   "source": [
    "names = [\n",
    "    'ООО \"1П Технолоджиз\"',\n",
    "    'ООО «1П Технолоджиз»',\n",
    "    'ОБЩЕСТВО С ОГРАНИЧЕННОЙ ОТВЕТСТВЕННОСТЬЮ \"1П ТЕХНОЛОДЖИЗ\"'\n",
    "]\n",
    "inn = \"7714905135\"\n",
    "fill_supplier_inn(names, inn)"
   ],
   "metadata": {
    "collapsed": false,
    "pycharm": {
     "name": "#%%\n"
    }
   }
  },
  {
   "cell_type": "markdown",
   "source": [
    "### ООО «Альянс-Сервис Салават»\n",
    "https://www.rusprofile.ru/id/11964696"
   ],
   "metadata": {
    "collapsed": false,
    "pycharm": {
     "name": "#%% md\n"
    }
   }
  },
  {
   "cell_type": "code",
   "execution_count": 54,
   "outputs": [],
   "source": [
    "names = [\n",
    "    'ООО «Альянс-Сервис Салават»',\n",
    "    'ОБЩЕСТВО С ОГРАНИЧЕННОЙ ОТВЕТСТВЕННОСТЬЮ \"АЛЬЯНС-СЕРВИС САЛАВАТ\"'\n",
    "]\n",
    "inn = \"0274953083\"\n",
    "fill_supplier_inn(names, inn)"
   ],
   "metadata": {
    "collapsed": false,
    "pycharm": {
     "name": "#%%\n"
    }
   }
  },
  {
   "cell_type": "markdown",
   "source": [
    "### ООО «Диагностические системы-Урал»\n",
    "https://www.rusprofile.ru/id/6584165"
   ],
   "metadata": {
    "collapsed": false,
    "pycharm": {
     "name": "#%% md\n"
    }
   }
  },
  {
   "cell_type": "code",
   "execution_count": 55,
   "outputs": [],
   "source": [
    "names = [\n",
    "    'ООО \"Диагностические системы-Урал\"',\n",
    "    'ООО «Диагностические системы-Урал»'\n",
    "]\n",
    "inn = \"6685024025\"\n",
    "fill_supplier_inn(names, inn)"
   ],
   "metadata": {
    "collapsed": false,
    "pycharm": {
     "name": "#%%\n"
    }
   }
  },
  {
   "cell_type": "markdown",
   "source": [
    "### ООО «Евроген Лаб»\n",
    "https://www.rusprofile.ru/id/2904166"
   ],
   "metadata": {
    "collapsed": false,
    "pycharm": {
     "name": "#%% md\n"
    }
   }
  },
  {
   "cell_type": "code",
   "execution_count": 56,
   "outputs": [],
   "source": [
    "names = [\n",
    "    'ООО \"Евроген Лаб\"',\n",
    "    'ООО «Евроген Лаб»'\n",
    "]\n",
    "inn = \"7728650342\"\n",
    "fill_supplier_inn(names, inn)"
   ],
   "metadata": {
    "collapsed": false,
    "pycharm": {
     "name": "#%%\n"
    }
   }
  },
  {
   "cell_type": "markdown",
   "source": [
    "### ООО «МЕДИКОМ»\n",
    "Невозможно определить\n",
    "https://www.rusprofile.ru/id/4005650\n",
    "https://www.rusprofile.ru/id/4334735"
   ],
   "metadata": {
    "collapsed": false,
    "pycharm": {
     "name": "#%% md\n"
    }
   }
  },
  {
   "cell_type": "code",
   "execution_count": 57,
   "outputs": [],
   "source": [
    "names = [\n",
    "    'ООО «МЕДИКОМ» '\n",
    "]\n",
    "missed += names"
   ],
   "metadata": {
    "collapsed": false,
    "pycharm": {
     "name": "#%%\n"
    }
   }
  },
  {
   "cell_type": "markdown",
   "source": [
    "### ООО «МедПартнер»\n",
    "Невозможно определить\n",
    "https://www.rusprofile.ru/id/11930686\n",
    "https://www.rusprofile.ru/id/7764744"
   ],
   "metadata": {
    "collapsed": false,
    "pycharm": {
     "name": "#%% md\n"
    }
   }
  },
  {
   "cell_type": "code",
   "execution_count": 58,
   "outputs": [],
   "source": [
    "names = [\n",
    "    'ООО «МедПартнер»'\n",
    "]\n",
    "missed += names"
   ],
   "metadata": {
    "collapsed": false,
    "pycharm": {
     "name": "#%%\n"
    }
   }
  },
  {
   "cell_type": "markdown",
   "source": [
    "### ООО «НХРС»\n",
    "https://www.rusprofile.ru/id/1877388"
   ],
   "metadata": {
    "collapsed": false,
    "pycharm": {
     "name": "#%% md\n"
    }
   }
  },
  {
   "cell_type": "code",
   "execution_count": 59,
   "outputs": [],
   "source": [
    "names = [\n",
    "    'ООО «НХРС',\n",
    "    'ООО «НХРС»',\n",
    "    'ООО «НХРС» ',\n",
    "    'ООО «НХРС»,',\n",
    "    'ООО НХРС'\n",
    "]\n",
    "inn = \"6125028059\"\n",
    "fill_supplier_inn(names, inn)"
   ],
   "metadata": {
    "collapsed": false,
    "pycharm": {
     "name": "#%%\n"
    }
   }
  },
  {
   "cell_type": "markdown",
   "source": [
    "### ООО «Научно-методический центр клинической лабораторной диагностики Ситилаб»\n",
    "https://www.rusprofile.ru/id/5417508"
   ],
   "metadata": {
    "collapsed": false,
    "pycharm": {
     "name": "#%% md\n"
    }
   }
  },
  {
   "cell_type": "code",
   "execution_count": 60,
   "outputs": [],
   "source": [
    "names = [\n",
    "    'ООО «Научно-методический центр клинической лабораторной диагностики Ситилаб»',\n",
    "    'ОБЩЕСТВО С ОГРАНИЧЕННОЙ ОТВЕТСТВЕННОСТЬЮ \"НАУЧНО-МЕТОДИЧЕСКИЙ ЦЕНТР КЛИНИЧЕСКОЙ ЛАБОРАТОРНОЙ ДИАГНОСТИКИ СИТИЛАБ\"'\n",
    "]\n",
    "inn = \"7714822471\"\n",
    "fill_supplier_inn(names, inn)"
   ],
   "metadata": {
    "collapsed": false,
    "pycharm": {
     "name": "#%%\n"
    }
   }
  },
  {
   "cell_type": "markdown",
   "source": [
    "### ООО «РТК-Инвест\n",
    "https://www.rusprofile.ru/id/11471403"
   ],
   "metadata": {
    "collapsed": false,
    "pycharm": {
     "name": "#%% md\n"
    }
   }
  },
  {
   "cell_type": "code",
   "execution_count": 61,
   "outputs": [],
   "source": [
    "names = [\n",
    "    'ООО «РТК-Инвест  ',\n",
    "    'ООО «РТК-Инвест»',\n",
    "    'ОБЩЕСТВО С ОГРАНИЧЕННОЙ ОТВЕТСТВЕННОСТЬЮ \"РТК-ИНВЕСТ\"'\n",
    "]\n",
    "inn = \"7726434025\"\n",
    "fill_supplier_inn(names, inn)"
   ],
   "metadata": {
    "collapsed": false,
    "pycharm": {
     "name": "#%%\n"
    }
   }
  },
  {
   "cell_type": "markdown",
   "source": [
    "### ООО \" Русал Медицинский Центр \"\n",
    "https://www.rusprofile.ru/id/225224"
   ],
   "metadata": {
    "collapsed": false,
    "pycharm": {
     "name": "#%% md\n"
    }
   }
  },
  {
   "cell_type": "code",
   "execution_count": 62,
   "outputs": [],
   "source": [
    "names = [\n",
    "    'ООО «РУСАЛ Медицинский Центр»'\n",
    "]\n",
    "inn = \"2465094460\"\n",
    "fill_supplier_inn(names, inn)"
   ],
   "metadata": {
    "collapsed": false,
    "pycharm": {
     "name": "#%%\n"
    }
   }
  },
  {
   "cell_type": "markdown",
   "source": [
    "### ООО «Радника»\n",
    "https://www.rusprofile.ru/id/6709045"
   ],
   "metadata": {
    "collapsed": false,
    "pycharm": {
     "name": "#%% md\n"
    }
   }
  },
  {
   "cell_type": "code",
   "execution_count": 63,
   "outputs": [],
   "source": [
    "names = [\n",
    "    'ООО «Радника»'\n",
    "]\n",
    "inn = \"2543023195\"\n",
    "fill_supplier_inn(names, inn)"
   ],
   "metadata": {
    "collapsed": false,
    "pycharm": {
     "name": "#%%\n"
    }
   }
  },
  {
   "cell_type": "markdown",
   "source": [
    "### ООО «СТАТУС-РЕГИОН»\n",
    "Невозможно определить\n",
    "https://www.rusprofile.ru/id/3115817\n",
    "https://www.rusprofile.ru/id/11703691"
   ],
   "metadata": {
    "collapsed": false,
    "pycharm": {
     "name": "#%% md\n"
    }
   }
  },
  {
   "cell_type": "code",
   "execution_count": 64,
   "outputs": [],
   "source": [
    "names = [\n",
    "    'ООО «СТАТУС-РЕГИОН»'\n",
    "]\n",
    "missed += names"
   ],
   "metadata": {
    "collapsed": false,
    "pycharm": {
     "name": "#%%\n"
    }
   }
  },
  {
   "cell_type": "markdown",
   "source": [
    "### ООО Авиа-1\n",
    "https://www.rusprofile.ru/id/11221940"
   ],
   "metadata": {
    "collapsed": false,
    "pycharm": {
     "name": "#%% md\n"
    }
   }
  },
  {
   "cell_type": "code",
   "execution_count": 65,
   "outputs": [],
   "source": [
    "names = [\n",
    "    'ООО Авиа-1'\n",
    "]\n",
    "inn = \"9705111387\"\n",
    "fill_supplier_inn(names, inn)"
   ],
   "metadata": {
    "collapsed": false,
    "pycharm": {
     "name": "#%%\n"
    }
   }
  },
  {
   "cell_type": "markdown",
   "source": [
    "### ООО Апоцентр\n",
    "Невозможно определить\n",
    "https://www.rusprofile.ru/id/1784630\n",
    "https://www.rusprofile.ru/id/301648"
   ],
   "metadata": {
    "collapsed": false,
    "pycharm": {
     "name": "#%% md\n"
    }
   }
  },
  {
   "cell_type": "code",
   "execution_count": 66,
   "outputs": [],
   "source": [
    "names = [\n",
    "    'ООО Апоцентр'\n",
    "]\n",
    "missed += names"
   ],
   "metadata": {
    "collapsed": false,
    "pycharm": {
     "name": "#%%\n"
    }
   }
  },
  {
   "cell_type": "markdown",
   "source": [
    "### ООО ДНК Технология\n",
    "https://www.rusprofile.ru/id/2749627"
   ],
   "metadata": {
    "collapsed": false,
    "pycharm": {
     "name": "#%% md\n"
    }
   }
  },
  {
   "cell_type": "code",
   "execution_count": 67,
   "outputs": [],
   "source": [
    "names = [\n",
    "    'ООО \"ДНК-Технология\"',\n",
    "    'ООО ДНК Технология',\n",
    "    'ООО ДНК-Технология'\n",
    "]\n",
    "inn = \"7723537840\"\n",
    "fill_supplier_inn(names, inn)"
   ],
   "metadata": {
    "collapsed": false,
    "pycharm": {
     "name": "#%%\n"
    }
   }
  },
  {
   "cell_type": "markdown",
   "source": [
    "### ООО ИнтерЛабСервис\n",
    "https://www.rusprofile.ru/id/630939"
   ],
   "metadata": {
    "collapsed": false,
    "pycharm": {
     "name": "#%% md\n"
    }
   }
  },
  {
   "cell_type": "code",
   "execution_count": 68,
   "outputs": [],
   "source": [
    "names = [\n",
    "    'ОБЩЕСТВО С ОГРАНИЧЕННОЙ ОТВЕТСТВЕННОСТЬЮ \"ИНТЕРЛАБСЕРВИС\"',\n",
    "    'ООО  \"ИнтерЛабСервис\"',\n",
    "    'ООО \"ИнтерЛабСервис\"',\n",
    "    'ООО ИнтерЛабСервис'\n",
    "]\n",
    "inn = \"7720263905\"\n",
    "fill_supplier_inn(names, inn)"
   ],
   "metadata": {
    "collapsed": false,
    "pycharm": {
     "name": "#%%\n"
    }
   }
  },
  {
   "cell_type": "markdown",
   "source": [
    "### ООО Компания ПанЭко\n",
    "https://www.rusprofile.ru/id/3562008"
   ],
   "metadata": {
    "collapsed": false,
    "pycharm": {
     "name": "#%% md\n"
    }
   }
  },
  {
   "cell_type": "code",
   "execution_count": 69,
   "outputs": [],
   "source": [
    "names = [\n",
    "    'ООО Компания ПанЭко',\n",
    "    'ОБЩЕСТВО С ОГРАНИЧЕННОЙ ОТВЕТСТВЕННОСТЬЮ \"КОМПАНИЯ \"ПАНЭКО\"'\n",
    "]\n",
    "inn = \"7723613788\"\n",
    "fill_supplier_inn(names, inn)"
   ],
   "metadata": {
    "collapsed": false,
    "pycharm": {
     "name": "#%%\n"
    }
   }
  },
  {
   "cell_type": "markdown",
   "source": [
    "### ООО НПП \"Ареал\"\n",
    "https://www.rusprofile.ru/id/10638707"
   ],
   "metadata": {
    "collapsed": false,
    "pycharm": {
     "name": "#%% md\n"
    }
   }
  },
  {
   "cell_type": "code",
   "execution_count": 70,
   "outputs": [],
   "source": [
    "names = [\n",
    "    'ООО НПП \"Ареал\"',\n",
    "    'ОБЩЕСТВО С ОГРАНИЧЕННОЙ ОТВЕТСТВЕННОСТЬЮ НАУЧНО-ПРОИЗВОДСТВЕННОЕ ПРЕДПРИЯТИЕ \"АРЕАЛ\"',\n",
    "    'ООО НПП \"АРЕАЛ\"'\n",
    "]\n",
    "inn = \"0277915495\"\n",
    "fill_supplier_inn(names, inn)"
   ],
   "metadata": {
    "collapsed": false,
    "pycharm": {
     "name": "#%%\n"
    }
   }
  },
  {
   "cell_type": "markdown",
   "source": [
    "### ООО Ормет\n",
    "https://www.rusprofile.ru/id/4214586"
   ],
   "metadata": {
    "collapsed": false,
    "pycharm": {
     "name": "#%% md\n"
    }
   }
  },
  {
   "cell_type": "code",
   "execution_count": 71,
   "outputs": [],
   "source": [
    "names = [\n",
    "    'ООО Ормет'\n",
    "]\n",
    "inn = \"7704547804\"\n",
    "fill_supplier_inn(names, inn)"
   ],
   "metadata": {
    "collapsed": false,
    "pycharm": {
     "name": "#%%\n"
    }
   }
  },
  {
   "cell_type": "markdown",
   "source": [
    "### ООО Растер\n",
    "https://www.rusprofile.ru/id/3295495"
   ],
   "metadata": {
    "collapsed": false,
    "pycharm": {
     "name": "#%% md\n"
    }
   }
  },
  {
   "cell_type": "code",
   "execution_count": 72,
   "outputs": [],
   "source": [
    "names = [\n",
    "    'ООО \"Растер\"',\n",
    "    'ООО Растер'\n",
    "]\n",
    "inn = \"6658037917\"\n",
    "fill_supplier_inn(names, inn)"
   ],
   "metadata": {
    "collapsed": false,
    "pycharm": {
     "name": "#%%\n"
    }
   }
  },
  {
   "cell_type": "markdown",
   "source": [
    "### ООО Торговый Дом «Артекс»\n",
    "https://www.rusprofile.ru/id/7899899"
   ],
   "metadata": {
    "collapsed": false,
    "pycharm": {
     "name": "#%% md\n"
    }
   }
  },
  {
   "cell_type": "code",
   "execution_count": 73,
   "outputs": [],
   "source": [
    "names = [\n",
    "    'ООО Торговый Дом «Артекс» ',\n",
    "    'ОБЩЕСТВО С ОГРАНИЧЕННОЙ ОТВЕТСТВЕННОСТЬЮ ТОРГОВЫЙ ДОМ \"АРТЕКС\"'\n",
    "]\n",
    "inn = \"3702121280\"\n",
    "fill_supplier_inn(names, inn)"
   ],
   "metadata": {
    "collapsed": false,
    "pycharm": {
     "name": "#%%\n"
    }
   }
  },
  {
   "cell_type": "markdown",
   "source": [
    "### ООО Элтемикс\n",
    "https://www.rusprofile.ru/id/7446829"
   ],
   "metadata": {
    "collapsed": false,
    "pycharm": {
     "name": "#%% md\n"
    }
   }
  },
  {
   "cell_type": "code",
   "execution_count": 74,
   "outputs": [],
   "source": [
    "names = [\n",
    "    'Общество с ограниченной ответственностью «Элтемикс»',\n",
    "    'ООО Элтемикс'\n",
    "]\n",
    "inn = \"3666197034\"\n",
    "fill_supplier_inn(names, inn)"
   ],
   "metadata": {
    "collapsed": false,
    "pycharm": {
     "name": "#%%\n"
    }
   }
  },
  {
   "cell_type": "markdown",
   "source": [
    "### ООО Юго-Запад\n",
    "Невозможно определить\n",
    "https://www.rusprofile.ru/id/6909642\n",
    "https://www.rusprofile.ru/id/2169570"
   ],
   "metadata": {
    "collapsed": false,
    "pycharm": {
     "name": "#%% md\n"
    }
   }
  },
  {
   "cell_type": "code",
   "execution_count": 75,
   "outputs": [],
   "source": [
    "names = [\n",
    "    'ООО Юго-Запад'\n",
    "]\n",
    "missed += names"
   ],
   "metadata": {
    "collapsed": false,
    "pycharm": {
     "name": "#%%\n"
    }
   }
  },
  {
   "cell_type": "markdown",
   "source": [
    "### ООО фирма «Тритон-ЭлектроникС»  г. Екатеринбург\n",
    "https://www.rusprofile.ru/id/2415060"
   ],
   "metadata": {
    "collapsed": false,
    "pycharm": {
     "name": "#%% md\n"
    }
   }
  },
  {
   "cell_type": "code",
   "execution_count": 76,
   "outputs": [],
   "source": [
    "names = [\n",
    "    'ООО фирма «Тритон-ЭлектроникС»  г. Екатеринбург'\n",
    "]\n",
    "inn = \"6659005570\"\n",
    "fill_supplier_inn(names, inn)"
   ],
   "metadata": {
    "collapsed": false,
    "pycharm": {
     "name": "#%%\n"
    }
   }
  },
  {
   "cell_type": "markdown",
   "source": [
    "### ООО\"Экострой\"\n",
    "https://www.rusprofile.ru/id/7116995"
   ],
   "metadata": {
    "collapsed": false,
    "pycharm": {
     "name": "#%% md\n"
    }
   }
  },
  {
   "cell_type": "code",
   "execution_count": 77,
   "outputs": [],
   "source": [
    "names = [\n",
    "    'ООО \"Экострой\"',\n",
    "    'ООО\"Экострой\"',\n",
    "    'Общество с ограниченной ответственностью “Экострой”'\n",
    "]\n",
    "inn = \"5032269606\"\n",
    "fill_supplier_inn(names, inn)"
   ],
   "metadata": {
    "collapsed": false,
    "pycharm": {
     "name": "#%%\n"
    }
   }
  },
  {
   "cell_type": "markdown",
   "source": [
    "### Общество с ограниченной ответственностью «МЕДИПАЛ-ОНКО»\n",
    "https://www.rusprofile.ru/id/879084"
   ],
   "metadata": {
    "collapsed": false,
    "pycharm": {
     "name": "#%% md\n"
    }
   }
  },
  {
   "cell_type": "code",
   "execution_count": 78,
   "outputs": [],
   "source": [
    "names = [\n",
    "    'Общество с ограниченной ответственностью         «МЕДИПАЛ-ОНКО»',\n",
    "    'ООО \"Медипал-Онко\" ',\n",
    "    'Общество с ограниченной ответственностью «Медипал-онко»',\n",
    "    'Общество с ограниченной ответственностью «Медипал-ОНКО»'\n",
    "]\n",
    "inn = \"7701213835\"\n",
    "fill_supplier_inn(names, inn)"
   ],
   "metadata": {
    "collapsed": false,
    "pycharm": {
     "name": "#%%\n"
    }
   }
  },
  {
   "cell_type": "markdown",
   "source": [
    "### Общество с ограниченной ответственностью \"ОллНэт\"\n",
    "https://www.rusprofile.ru/id/2514066"
   ],
   "metadata": {
    "collapsed": false,
    "pycharm": {
     "name": "#%% md\n"
    }
   }
  },
  {
   "cell_type": "code",
   "execution_count": 79,
   "outputs": [],
   "source": [
    "names = [\n",
    "    'Общество с ограниченной ответственностью \"ОллНэт\"',\n",
    "    'ООО \"ОллНэт\"'\n",
    "]\n",
    "inn = \"5047111570\"\n",
    "fill_supplier_inn(names, inn)"
   ],
   "metadata": {
    "collapsed": false,
    "pycharm": {
     "name": "#%%\n"
    }
   }
  },
  {
   "cell_type": "markdown",
   "source": [
    "### Общество с ограниченной ответственностью «БионаФарм»\n",
    "https://www.rusprofile.ru/id/235398"
   ],
   "metadata": {
    "collapsed": false,
    "pycharm": {
     "name": "#%% md\n"
    }
   }
  },
  {
   "cell_type": "code",
   "execution_count": 80,
   "outputs": [],
   "source": [
    "names = [\n",
    "    'Общество с ограниченной ответственностью «БионаФарм»',\n",
    "    'ООО \"БионаФарм\"'\n",
    "]\n",
    "inn = \"7725628067\"\n",
    "fill_supplier_inn(names, inn)"
   ],
   "metadata": {
    "collapsed": false,
    "pycharm": {
     "name": "#%%\n"
    }
   }
  },
  {
   "cell_type": "markdown",
   "source": [
    "### Общество с ограниченной ответственностью «Виталон»\n",
    "https://www.rusprofile.ru/id/10830392"
   ],
   "metadata": {
    "collapsed": false,
    "pycharm": {
     "name": "#%% md\n"
    }
   }
  },
  {
   "cell_type": "code",
   "execution_count": 81,
   "outputs": [],
   "source": [
    "names = [\n",
    "    'Общество с ограниченной ответственностью «Виталон»',\n",
    "    'Общество с ограниченной ответственностью \"ВИТАЛОН\"',\n",
    "    'ООО «ВИТАЛОН»'\n",
    "]\n",
    "inn = \"5017112368\"\n",
    "fill_supplier_inn(names, inn)"
   ],
   "metadata": {
    "collapsed": false,
    "pycharm": {
     "name": "#%%\n"
    }
   }
  },
  {
   "cell_type": "markdown",
   "source": [
    "### Общество с ограниченной ответственностью «ДВ АльфаРесурс»\n",
    "https://www.rusprofile.ru/id/657468"
   ],
   "metadata": {
    "collapsed": false,
    "pycharm": {
     "name": "#%% md\n"
    }
   }
  },
  {
   "cell_type": "code",
   "execution_count": 82,
   "outputs": [],
   "source": [
    "names = [\n",
    "    'Общество с ограниченной ответственностью «ДВ АльфаРесурс»'\n",
    "]\n",
    "inn = \"2537083622\"\n",
    "fill_supplier_inn(names, inn)"
   ],
   "metadata": {
    "collapsed": false,
    "pycharm": {
     "name": "#%%\n"
    }
   }
  },
  {
   "cell_type": "markdown",
   "source": [
    "### Общество с ограниченной ответственностью «ОБЛАСТНАЯ СЛУЖБА ДЕЗИНФЕКЦИИ»\n",
    "https://www.rusprofile.ru/id/10814954"
   ],
   "metadata": {
    "collapsed": false,
    "pycharm": {
     "name": "#%% md\n"
    }
   }
  },
  {
   "cell_type": "code",
   "execution_count": 83,
   "outputs": [],
   "source": [
    "names = [\n",
    "    'Общество с ограниченной ответственностью «ОБЛАСТНАЯ СЛУЖБА ДЕЗИНФЕКЦИИ» '\n",
    "]\n",
    "inn = \"7203405333\"\n",
    "fill_supplier_inn(names, inn)"
   ],
   "metadata": {
    "collapsed": false,
    "pycharm": {
     "name": "#%%\n"
    }
   }
  },
  {
   "cell_type": "markdown",
   "source": [
    "### Общество с ограниченной ответственностью «Универ Клаб»\n",
    "https://www.rusprofile.ru/id/5919105"
   ],
   "metadata": {
    "collapsed": false,
    "pycharm": {
     "name": "#%% md\n"
    }
   }
  },
  {
   "cell_type": "code",
   "execution_count": 84,
   "outputs": [],
   "source": [
    "names = [\n",
    "    'Общество с ограниченной ответственностью «Универ Клаб»',\n",
    "    'ОБЩЕСТВО С ОГРАНИЧЕННОЙ ОТВЕТСТВЕННОСТЬЮ \"УНИВЕР КЛАБ\"'\n",
    "]\n",
    "inn = \"7728789672\"\n",
    "fill_supplier_inn(names, inn)"
   ],
   "metadata": {
    "collapsed": false,
    "pycharm": {
     "name": "#%%\n"
    }
   }
  },
  {
   "cell_type": "markdown",
   "source": [
    "### Общество с ограниченной ответственностью Производственно-торговая компания «Профессиональный Лидер»\n",
    "https://www.rusprofile.ru/id/10315641"
   ],
   "metadata": {
    "collapsed": false,
    "pycharm": {
     "name": "#%% md\n"
    }
   }
  },
  {
   "cell_type": "code",
   "execution_count": 85,
   "outputs": [],
   "source": [
    "names = [\n",
    "    'Общество с ограниченной ответственностью Производственно-торговая компания «Профессиональный Лидер»',\n",
    "    'Общество с ограниченной ответственностью Производственно-торговая компания «Профессиональный Лидер» '\n",
    "]\n",
    "inn = \"7203370313\"\n",
    "fill_supplier_inn(names, inn)"
   ],
   "metadata": {
    "collapsed": false,
    "pycharm": {
     "name": "#%%\n"
    }
   }
  },
  {
   "cell_type": "markdown",
   "source": [
    "### Обществом с ограниченной ответственностью «Эколайф»\n",
    "Невозможно определить\n",
    "https://www.rusprofile.ru/id/11475993\n",
    "https://www.rusprofile.ru/id/6914001\n",
    "https://www.rusprofile.ru/id/7099261"
   ],
   "metadata": {
    "collapsed": false,
    "pycharm": {
     "name": "#%% md\n"
    }
   }
  },
  {
   "cell_type": "code",
   "execution_count": 86,
   "outputs": [],
   "source": [
    "names = [\n",
    "    'Обществом с ограниченной ответственностью «Эколайф»'\n",
    "]\n",
    "missed += names"
   ],
   "metadata": {
    "collapsed": false,
    "pycharm": {
     "name": "#%%\n"
    }
   }
  },
  {
   "cell_type": "markdown",
   "source": [
    "### Пителин Сергей Михайлович\n",
    "https://www.rusprofile.ru/ip/317470400078813"
   ],
   "metadata": {
    "collapsed": false,
    "pycharm": {
     "name": "#%% md\n"
    }
   }
  },
  {
   "cell_type": "code",
   "execution_count": 87,
   "outputs": [],
   "source": [
    "names = [\n",
    "    'Пителин Сергей Михайлович ',\n",
    "    'Пителин Сергей Михайлович'\n",
    "]\n",
    "inn = \"301505252144\"\n",
    "fill_supplier_inn(names, inn)"
   ],
   "metadata": {
    "collapsed": false,
    "pycharm": {
     "name": "#%%\n"
    }
   }
  },
  {
   "cell_type": "markdown",
   "source": [
    "### Погорелко Владимир Иванович\n",
    "На руспрофайле нет, взято из БД"
   ],
   "metadata": {
    "collapsed": false,
    "pycharm": {
     "name": "#%% md\n"
    }
   }
  },
  {
   "cell_type": "code",
   "execution_count": 88,
   "outputs": [],
   "source": [
    "names = [\n",
    "    'Погорелко Владимир Иванович',\n",
    "]\n",
    "inn = \"551400222527\"\n",
    "fill_supplier_inn(names, inn)"
   ],
   "metadata": {
    "collapsed": false,
    "pycharm": {
     "name": "#%%\n"
    }
   }
  },
  {
   "cell_type": "markdown",
   "source": [
    "### ФБУ НАУКИ \"ЦЕНТРАЛЬНЫЙ НАУЧНО-ИССЛЕДОВАТЕЛЬСКИЙ ИНСТИТУТ ЭПИДЕМИОЛОГИИ\" ФЕДЕРАЛЬНОЙ СЛУЖБЫ ПО НАДЗОРУ В СФЕРЕ ЗАЩИТЫ ПРАВ ПОТРЕБИТЕЛЕЙ И БЛАГОПОЛУЧИЯ ЧЕЛОВЕКА\n",
    "https://www.rusprofile.ru/id/2873325"
   ],
   "metadata": {
    "collapsed": false,
    "pycharm": {
     "name": "#%% md\n"
    }
   }
  },
  {
   "cell_type": "code",
   "execution_count": 89,
   "outputs": [],
   "source": [
    "names = [\n",
    "    'ФБУ НАУКИ \"ЦЕНТРАЛЬНЫЙ НАУЧНО-ИССЛЕДОВАТЕЛЬСКИЙ ИНСТИТУТ ЭПИДЕМИОЛОГИИ\" ФЕДЕРАЛЬНОЙ СЛУЖБЫ ПО НАДЗОРУ В СФЕРЕ ЗАЩИТЫ ПРАВ ПОТРЕБИТЕЛЕЙ И БЛАГОПОЛУЧИЯ ЧЕЛОВЕКА ',\n",
    "    'ФБУН ЦНИИ Эпидемиологии Роспотребнадзора'\n",
    "]\n",
    "inn = \"7720024671\"\n",
    "fill_supplier_inn(names, inn)"
   ],
   "metadata": {
    "collapsed": false,
    "pycharm": {
     "name": "#%%\n"
    }
   }
  },
  {
   "cell_type": "markdown",
   "source": [
    "### ООО \"БЕЛДЕЗСЕРВИС\"\n",
    "https://www.rusprofile.ru/id/11368698"
   ],
   "metadata": {
    "collapsed": false,
    "pycharm": {
     "name": "#%% md\n"
    }
   }
  },
  {
   "cell_type": "code",
   "execution_count": 91,
   "outputs": [],
   "source": [
    "names = [\n",
    "    'ООО \"БЕЛДЕЗСЕРВИС\"'\n",
    "]\n",
    "inn = \"0255021007\"\n",
    "fill_supplier_inn(names, inn)"
   ],
   "metadata": {
    "collapsed": false,
    "pycharm": {
     "name": "#%%\n"
    }
   }
  },
  {
   "cell_type": "markdown",
   "source": [
    "### ООО \"Диомид\"\n",
    "Невозможно определить\n",
    "https://www.rusprofile.ru/id/11151262\n",
    "https://www.rusprofile.ru/id/10427941"
   ],
   "metadata": {
    "collapsed": false,
    "pycharm": {
     "name": "#%% md\n"
    }
   }
  },
  {
   "cell_type": "code",
   "execution_count": 99,
   "outputs": [],
   "source": [
    "names = [\n",
    "    'ООО \"Диомид\"'\n",
    "]\n",
    "missed += names"
   ],
   "metadata": {
    "collapsed": false,
    "pycharm": {
     "name": "#%%\n"
    }
   }
  },
  {
   "cell_type": "markdown",
   "source": [
    "### ООО \"Прогресс эко юг\"\n",
    "https://www.rusprofile.ru/id/5381075"
   ],
   "metadata": {
    "collapsed": false,
    "pycharm": {
     "name": "#%% md\n"
    }
   }
  },
  {
   "cell_type": "code",
   "execution_count": 92,
   "outputs": [],
   "source": [
    "names = [\n",
    "    'ООО \"Прогресс эко юг\"'\n",
    "]\n",
    "inn = \"5043042195\"\n",
    "fill_supplier_inn(names, inn)"
   ],
   "metadata": {
    "collapsed": false,
    "pycharm": {
     "name": "#%%\n"
    }
   }
  },
  {
   "cell_type": "markdown",
   "source": [
    "### ООО «ЭкоЦентр»\n",
    "\n",
    "Невозможно определить\n",
    "https://www.rusprofile.ru/id/7874886\n",
    "https://www.rusprofile.ru/id/11710649"
   ],
   "metadata": {
    "collapsed": false,
    "pycharm": {
     "name": "#%% md\n"
    }
   }
  },
  {
   "cell_type": "code",
   "execution_count": 94,
   "outputs": [],
   "source": [
    "names = [\n",
    "    'ООО \"ЭкоЦентр\"',\n",
    "    'ООО «ЭкоЦентр»',\n",
    "    'ЭкоЦентр ООО '\n",
    "]\n",
    "missed += names"
   ],
   "metadata": {
    "collapsed": false,
    "pycharm": {
     "name": "#%%\n"
    }
   }
  },
  {
   "cell_type": "markdown",
   "source": [
    "### ФГУП «Южно-Уральский институт биофизики Федерального медико-биологического агентства»\n",
    "https://www.rusprofile.ru/id/1883147"
   ],
   "metadata": {
    "collapsed": false,
    "pycharm": {
     "name": "#%% md\n"
    }
   }
  },
  {
   "cell_type": "code",
   "execution_count": 95,
   "outputs": [],
   "source": [
    "names = [\n",
    "    'ФГУП «Южно-Уральский институт биофизики Федерального медико-биологического агентства»',\n",
    "    'ФГУП «Южно-Уральский институт биофизики Федерального медико-биологического агентства» '\n",
    "]\n",
    "inn = \"7422028215\"\n",
    "fill_supplier_inn(names, inn)"
   ],
   "metadata": {
    "collapsed": false,
    "pycharm": {
     "name": "#%%\n"
    }
   }
  },
  {
   "cell_type": "markdown",
   "source": [
    "### ЧУЗ КБ РЖД Медицина\n",
    "https://www.rusprofile.ru/id/3545442"
   ],
   "metadata": {
    "collapsed": false,
    "pycharm": {
     "name": "#%% md\n"
    }
   }
  },
  {
   "cell_type": "code",
   "execution_count": 96,
   "outputs": [],
   "source": [
    "names = [\n",
    "    'ЧУЗ КБ РЖД Медицина',\n",
    "    'ЧУЗ РЖД Медицина'\n",
    "]\n",
    "inn = \"7723518340\"\n",
    "fill_supplier_inn(names, inn)"
   ],
   "metadata": {
    "collapsed": false,
    "pycharm": {
     "name": "#%%\n"
    }
   }
  },
  {
   "cell_type": "markdown",
   "source": [
    "### санаторий-профилакторий «Родник» (ООО «СтройАчинск»)»\n",
    "https://www.rusprofile.ru/id/1815542"
   ],
   "metadata": {
    "collapsed": false,
    "pycharm": {
     "name": "#%% md\n"
    }
   }
  },
  {
   "cell_type": "code",
   "execution_count": 97,
   "outputs": [],
   "source": [
    "names = [\n",
    "    'санаторий-профилакторий «Родник» (ООО «СтройАчинск»)»'\n",
    "]\n",
    "inn = \"2443017871\"\n",
    "fill_supplier_inn(names, inn)"
   ],
   "metadata": {
    "collapsed": false,
    "pycharm": {
     "name": "#%%\n"
    }
   }
  },
  {
   "cell_type": "markdown",
   "source": [
    "# Проверим, что заполнили всех поставщиков"
   ],
   "metadata": {
    "collapsed": false,
    "pycharm": {
     "name": "#%% md\n"
    }
   }
  },
  {
   "cell_type": "code",
   "execution_count": 100,
   "outputs": [
    {
     "data": {
      "text/plain": "Series([], dtype: int64)"
     },
     "execution_count": 100,
     "metadata": {},
     "output_type": "execute_result"
    }
   ],
   "source": [
    "lot_suppliers = pd.read_sql_query(\n",
    "    f\"\"\"\n",
    "    SELECT lot_guid, supplier_guid, si2.inn as supplier_inn,\n",
    "        si2.name as supplier_name, si2.ogrn as supplier_ogrn, si2.type as supplier_type\n",
    "    FROM (\n",
    "        SELECT lot_guid, MAX(supplier_guid) as supplier_guid\n",
    "        FROM (\n",
    "            SELECT c.lot_guid\n",
    "            FROM covid_contracts c\n",
    "            GROUP BY c.lot_guid\n",
    "        ) tmp1\n",
    "        INNER JOIN protocol_lot pl ON tmp1.lot_guid = pl.guid\n",
    "        LEFT JOIN protocol_lot_applications pla on pl.guid = pla.protocol_lot_guid\n",
    "        LEFT JOIN application a on pla.id = a.protocol_lot_applications_id\n",
    "        LEFT JOIN supplier_info si on a.supplier_guid = si.guid\n",
    "        WHERE (contract_signed = 1 or\n",
    "         (a.winner_indication = 'Победитель'and contract_signed is null))\n",
    "         and (supplier_guid is not null)\n",
    "         and (si.inn is null and (si.name is not null or si.ogrn is not null))\n",
    "        GROUP BY lot_guid\n",
    "    ) sup\n",
    "    LEFT JOIN supplier_info si2 ON si2.guid = sup.supplier_guid;\n",
    "    \"\"\",\n",
    "    conn\n",
    ")\n",
    "lot_suppliers['is_anonym'] = lot_suppliers['supplier_name'].map(is_anonym_name)\n",
    "lot_suppliers = lot_suppliers[lot_suppliers['is_anonym'] == False]\n",
    "\n",
    "def is_missed(name: str) -> bool:\n",
    "    return name in missed\n",
    "\n",
    "lot_suppliers['is_missed'] = lot_suppliers['supplier_name'].map(is_missed)\n",
    "lot_suppliers = lot_suppliers[lot_suppliers['is_missed'] == False]\n",
    "\n",
    "lot_suppliers.groupby('supplier_name').size()"
   ],
   "metadata": {
    "collapsed": false,
    "pycharm": {
     "name": "#%%\n"
    }
   }
  },
  {
   "cell_type": "code",
   "execution_count": 90,
   "outputs": [],
   "source": [],
   "metadata": {
    "collapsed": false,
    "pycharm": {
     "name": "#%%\n"
    }
   }
  }
 ],
 "metadata": {
  "kernelspec": {
   "display_name": "Python 3",
   "language": "python",
   "name": "python3"
  },
  "language_info": {
   "codemirror_mode": {
    "name": "ipython",
    "version": 2
   },
   "file_extension": ".py",
   "mimetype": "text/x-python",
   "name": "python",
   "nbconvert_exporter": "python",
   "pygments_lexer": "ipython2",
   "version": "2.7.6"
  }
 },
 "nbformat": 4,
 "nbformat_minor": 0
}